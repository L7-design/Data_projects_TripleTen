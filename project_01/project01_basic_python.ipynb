{
 "cells": [
  {
   "cell_type": "markdown",
   "id": "f85a80d2",
   "metadata": {},
   "source": [
    "## Basic Python - Project <a id='intro'></a>"
   ]
  },
  {
   "cell_type": "markdown",
   "id": "a1262df4",
   "metadata": {},
   "source": [
    "## Introduction <a id='intro'></a>\n",
    "In this project, you will work with data from the entertainment industry. You will study a dataset with records on movies and shows. The research will focus on the \"Golden Age\" of television, which began in 1999 with the release of *The Sopranos* and is still ongoing.\n",
    "\n",
    "The aim of this project is to investigate how the number of votes a title receives impacts its ratings. The assumption is that highly-rated shows (we will focus on TV shows, ignoring movies) released during the \"Golden Age\" of television also have the most votes.\n",
    "\n",
    "### Stages \n",
    "Data on movies and shows is stored in the `/datasets/movies_and_shows.csv` file. There is no information about the quality of the data, so you will need to explore it before doing the analysis.\n",
    "\n",
    "First, you'll evaluate the quality of the data and see whether its issues are significant. Then, during data preprocessing, you will try to account for the most critical problems.\n",
    " \n",
    "Your project will consist of three stages:\n",
    " 1. Data overview\n",
    " 2. Data preprocessing\n",
    " 3. Data analysis"
   ]
  },
  {
   "cell_type": "markdown",
   "id": "d1199cf3",
   "metadata": {},
   "source": []
  },
  {
   "cell_type": "markdown",
   "id": "ac0593ac",
   "metadata": {},
   "source": [
    "## Stage 1. Data overview <a id='data_review'></a>\n",
    "\n",
    "Open and explore the data."
   ]
  },
  {
   "cell_type": "markdown",
   "id": "e86ed00e",
   "metadata": {},
   "source": [
    "You'll need `pandas`, so import it."
   ]
  },
  {
   "cell_type": "code",
   "execution_count": 1,
   "id": "1727d3f8",
   "metadata": {
    "trusted": false
   },
   "outputs": [],
   "source": [
    "# importing pandas\n",
    "import pandas as pd "
   ]
  },
  {
   "cell_type": "markdown",
   "id": "9821beeb",
   "metadata": {},
   "source": [
    "Read the `movies_and_shows.csv` file from the `datasets` folder and save it in the `df` variable:"
   ]
  },
  {
   "cell_type": "code",
   "execution_count": 2,
   "id": "fc5a1402",
   "metadata": {
    "trusted": false
   },
   "outputs": [],
   "source": [
    "# reading the files and storing them to df\n",
    "df = pd.read_csv('/datasets/movies_and_shows.csv')"
   ]
  },
  {
   "cell_type": "markdown",
   "id": "1cd0a96d",
   "metadata": {},
   "source": [
    "Print the first 10 table rows:"
   ]
  },
  {
   "cell_type": "code",
   "execution_count": 3,
   "id": "acd92001",
   "metadata": {
    "scrolled": true,
    "trusted": false
   },
   "outputs": [
    {
     "data": {
      "text/html": [
       "<div>\n",
       "<style scoped>\n",
       "    .dataframe tbody tr th:only-of-type {\n",
       "        vertical-align: middle;\n",
       "    }\n",
       "\n",
       "    .dataframe tbody tr th {\n",
       "        vertical-align: top;\n",
       "    }\n",
       "\n",
       "    .dataframe thead th {\n",
       "        text-align: right;\n",
       "    }\n",
       "</style>\n",
       "<table border=\"1\" class=\"dataframe\">\n",
       "  <thead>\n",
       "    <tr style=\"text-align: right;\">\n",
       "      <th></th>\n",
       "      <th>name</th>\n",
       "      <th>Character</th>\n",
       "      <th>r0le</th>\n",
       "      <th>TITLE</th>\n",
       "      <th>Type</th>\n",
       "      <th>release Year</th>\n",
       "      <th>genres</th>\n",
       "      <th>imdb sc0re</th>\n",
       "      <th>imdb v0tes</th>\n",
       "    </tr>\n",
       "  </thead>\n",
       "  <tbody>\n",
       "    <tr>\n",
       "      <th>0</th>\n",
       "      <td>Robert De Niro</td>\n",
       "      <td>Travis Bickle</td>\n",
       "      <td>ACTOR</td>\n",
       "      <td>Taxi Driver</td>\n",
       "      <td>MOVIE</td>\n",
       "      <td>1976</td>\n",
       "      <td>['drama', 'crime']</td>\n",
       "      <td>8.2</td>\n",
       "      <td>808582.0</td>\n",
       "    </tr>\n",
       "    <tr>\n",
       "      <th>1</th>\n",
       "      <td>Jodie Foster</td>\n",
       "      <td>Iris Steensma</td>\n",
       "      <td>ACTOR</td>\n",
       "      <td>Taxi Driver</td>\n",
       "      <td>MOVIE</td>\n",
       "      <td>1976</td>\n",
       "      <td>['drama', 'crime']</td>\n",
       "      <td>8.2</td>\n",
       "      <td>808582.0</td>\n",
       "    </tr>\n",
       "    <tr>\n",
       "      <th>2</th>\n",
       "      <td>Albert Brooks</td>\n",
       "      <td>Tom</td>\n",
       "      <td>ACTOR</td>\n",
       "      <td>Taxi Driver</td>\n",
       "      <td>MOVIE</td>\n",
       "      <td>1976</td>\n",
       "      <td>['drama', 'crime']</td>\n",
       "      <td>8.2</td>\n",
       "      <td>808582.0</td>\n",
       "    </tr>\n",
       "    <tr>\n",
       "      <th>3</th>\n",
       "      <td>Harvey Keitel</td>\n",
       "      <td>Matthew 'Sport' Higgins</td>\n",
       "      <td>ACTOR</td>\n",
       "      <td>Taxi Driver</td>\n",
       "      <td>MOVIE</td>\n",
       "      <td>1976</td>\n",
       "      <td>['drama', 'crime']</td>\n",
       "      <td>8.2</td>\n",
       "      <td>808582.0</td>\n",
       "    </tr>\n",
       "    <tr>\n",
       "      <th>4</th>\n",
       "      <td>Cybill Shepherd</td>\n",
       "      <td>Betsy</td>\n",
       "      <td>ACTOR</td>\n",
       "      <td>Taxi Driver</td>\n",
       "      <td>MOVIE</td>\n",
       "      <td>1976</td>\n",
       "      <td>['drama', 'crime']</td>\n",
       "      <td>8.2</td>\n",
       "      <td>808582.0</td>\n",
       "    </tr>\n",
       "    <tr>\n",
       "      <th>5</th>\n",
       "      <td>Peter Boyle</td>\n",
       "      <td>Wizard</td>\n",
       "      <td>ACTOR</td>\n",
       "      <td>Taxi Driver</td>\n",
       "      <td>MOVIE</td>\n",
       "      <td>1976</td>\n",
       "      <td>['drama', 'crime']</td>\n",
       "      <td>8.2</td>\n",
       "      <td>808582.0</td>\n",
       "    </tr>\n",
       "    <tr>\n",
       "      <th>6</th>\n",
       "      <td>Leonard Harris</td>\n",
       "      <td>Senator Charles Palantine</td>\n",
       "      <td>ACTOR</td>\n",
       "      <td>Taxi Driver</td>\n",
       "      <td>MOVIE</td>\n",
       "      <td>1976</td>\n",
       "      <td>['drama', 'crime']</td>\n",
       "      <td>8.2</td>\n",
       "      <td>808582.0</td>\n",
       "    </tr>\n",
       "    <tr>\n",
       "      <th>7</th>\n",
       "      <td>Diahnne Abbott</td>\n",
       "      <td>Concession Girl</td>\n",
       "      <td>ACTOR</td>\n",
       "      <td>Taxi Driver</td>\n",
       "      <td>MOVIE</td>\n",
       "      <td>1976</td>\n",
       "      <td>['drama', 'crime']</td>\n",
       "      <td>8.2</td>\n",
       "      <td>808582.0</td>\n",
       "    </tr>\n",
       "    <tr>\n",
       "      <th>8</th>\n",
       "      <td>Gino Ardito</td>\n",
       "      <td>Policeman at Rally</td>\n",
       "      <td>ACTOR</td>\n",
       "      <td>Taxi Driver</td>\n",
       "      <td>MOVIE</td>\n",
       "      <td>1976</td>\n",
       "      <td>['drama', 'crime']</td>\n",
       "      <td>8.2</td>\n",
       "      <td>808582.0</td>\n",
       "    </tr>\n",
       "    <tr>\n",
       "      <th>9</th>\n",
       "      <td>Martin Scorsese</td>\n",
       "      <td>Passenger Watching Silhouette</td>\n",
       "      <td>ACTOR</td>\n",
       "      <td>Taxi Driver</td>\n",
       "      <td>MOVIE</td>\n",
       "      <td>1976</td>\n",
       "      <td>['drama', 'crime']</td>\n",
       "      <td>8.2</td>\n",
       "      <td>808582.0</td>\n",
       "    </tr>\n",
       "  </tbody>\n",
       "</table>\n",
       "</div>"
      ],
      "text/plain": [
       "              name                      Character   r0le        TITLE   Type  \\\n",
       "0   Robert De Niro                  Travis Bickle  ACTOR  Taxi Driver  MOVIE   \n",
       "1     Jodie Foster                  Iris Steensma  ACTOR  Taxi Driver  MOVIE   \n",
       "2    Albert Brooks                            Tom  ACTOR  Taxi Driver  MOVIE   \n",
       "3    Harvey Keitel        Matthew 'Sport' Higgins  ACTOR  Taxi Driver  MOVIE   \n",
       "4  Cybill Shepherd                          Betsy  ACTOR  Taxi Driver  MOVIE   \n",
       "5      Peter Boyle                         Wizard  ACTOR  Taxi Driver  MOVIE   \n",
       "6   Leonard Harris      Senator Charles Palantine  ACTOR  Taxi Driver  MOVIE   \n",
       "7   Diahnne Abbott                Concession Girl  ACTOR  Taxi Driver  MOVIE   \n",
       "8      Gino Ardito             Policeman at Rally  ACTOR  Taxi Driver  MOVIE   \n",
       "9  Martin Scorsese  Passenger Watching Silhouette  ACTOR  Taxi Driver  MOVIE   \n",
       "\n",
       "   release Year              genres  imdb sc0re  imdb v0tes  \n",
       "0          1976  ['drama', 'crime']         8.2    808582.0  \n",
       "1          1976  ['drama', 'crime']         8.2    808582.0  \n",
       "2          1976  ['drama', 'crime']         8.2    808582.0  \n",
       "3          1976  ['drama', 'crime']         8.2    808582.0  \n",
       "4          1976  ['drama', 'crime']         8.2    808582.0  \n",
       "5          1976  ['drama', 'crime']         8.2    808582.0  \n",
       "6          1976  ['drama', 'crime']         8.2    808582.0  \n",
       "7          1976  ['drama', 'crime']         8.2    808582.0  \n",
       "8          1976  ['drama', 'crime']         8.2    808582.0  \n",
       "9          1976  ['drama', 'crime']         8.2    808582.0  "
      ]
     },
     "execution_count": 3,
     "metadata": {},
     "output_type": "execute_result"
    }
   ],
   "source": [
    "# obtaining the first 10 rows from the df table\n",
    "# hint: you can use head() and tail() in Jupyter Notebook without wrapping them into print()\n",
    "df.head(10)"
   ]
  },
  {
   "cell_type": "markdown",
   "id": "e579aa91",
   "metadata": {},
   "source": [
    "Obtain the general information about the table with one command:"
   ]
  },
  {
   "cell_type": "code",
   "execution_count": 4,
   "id": "7bf66d2a",
   "metadata": {
    "trusted": false
   },
   "outputs": [
    {
     "name": "stdout",
     "output_type": "stream",
     "text": [
      "<class 'pandas.core.frame.DataFrame'>\n",
      "RangeIndex: 85579 entries, 0 to 85578\n",
      "Data columns (total 9 columns):\n",
      " #   Column        Non-Null Count  Dtype  \n",
      "---  ------        --------------  -----  \n",
      " 0      name       85579 non-null  object \n",
      " 1   Character     85579 non-null  object \n",
      " 2   r0le          85579 non-null  object \n",
      " 3   TITLE         85578 non-null  object \n",
      " 4     Type        85579 non-null  object \n",
      " 5   release Year  85579 non-null  int64  \n",
      " 6   genres        85579 non-null  object \n",
      " 7   imdb sc0re    80970 non-null  float64\n",
      " 8   imdb v0tes    80853 non-null  float64\n",
      "dtypes: float64(2), int64(1), object(6)\n",
      "memory usage: 5.9+ MB\n"
     ]
    }
   ],
   "source": [
    "# obtaining general information about the data in df\n",
    "df.info()"
   ]
  },
  {
   "cell_type": "markdown",
   "id": "e91f62a7",
   "metadata": {},
   "source": [
    "The table contains nine columns. The majority store the same data type: object. The only exceptions are `'release Year'` (int64 type), `'imdb sc0re'` (float64 type) and `'imdb v0tes'` (float64 type). Scores and votes will be used in our analysis, so it's important to verify that they are present in the dataframe in the appropriate numeric format. Three columns (`'TITLE'`, `'imdb sc0re'` and `'imdb v0tes'`) have missing values.\n",
    "\n",
    "According to the documentation:\n",
    "- `'name'` — actor/director's name and last name\n",
    "- `'Character'` — character played (for actors)\n",
    "- `'r0le '` — the person's contribution to the title (it can be in the capacity of either actor or director)\n",
    "- `'TITLE '` — title of the movie (show)\n",
    "- `'  Type'` — show or movie\n",
    "- `'release Year'` — year when movie (show) was released\n",
    "- `'genres'` — list of genres under which the movie (show) falls\n",
    "- `'imdb sc0re'` — score on IMDb\n",
    "- `'imdb v0tes'` — votes on IMDb\n",
    "\n",
    "We can see three issues with the column names:\n",
    "1. Some names are uppercase, while others are lowercase.\n",
    "2. There are names containing whitespace.\n",
    "3. A few column names have digit '0' instead of letter 'o'. \n"
   ]
  },
  {
   "cell_type": "markdown",
   "id": "65020486",
   "metadata": {},
   "source": []
  },
  {
   "cell_type": "markdown",
   "id": "4355de7b",
   "metadata": {},
   "source": [
    "### Conclusions <a id='data_review_conclusions'></a> \n",
    "\n",
    "Each row in the table stores data about a movie or show. The columns can be divided into two categories: the first is about the roles held by different people who worked on the movie or show (role, name of the actor or director, and character if the row is about an actor); the second category is information about the movie or show itself (title, release year, genre, imdb figures).\n",
    "\n",
    "It's clear that there is sufficient data to do the analysis and evaluate our assumption. However, to move forward, we need to preprocess the data."
   ]
  },
  {
   "cell_type": "markdown",
   "id": "c5dc9111",
   "metadata": {},
   "source": [
    "## Stage 2. Data preprocessing <a id='data_preprocessing'></a>\n",
    "Correct the formatting in the column headers and deal with the missing values. Then, check whether there are duplicates in the data."
   ]
  },
  {
   "cell_type": "code",
   "execution_count": 5,
   "id": "9c850d13",
   "metadata": {
    "trusted": false
   },
   "outputs": [
    {
     "name": "stdout",
     "output_type": "stream",
     "text": [
      "Index(['   name', 'Character', 'r0le', 'TITLE', '  Type', 'release Year',\n",
      "       'genres', 'imdb sc0re', 'imdb v0tes'],\n",
      "      dtype='object')\n"
     ]
    }
   ],
   "source": [
    "# the list of column names in the df table\n",
    "column_names = df.columns \n",
    "print(column_names)"
   ]
  },
  {
   "cell_type": "markdown",
   "id": "5f966df9",
   "metadata": {},
   "source": [
    "Change the column names according to the rules of good style:\n",
    "* If the name has several words, use snake_case\n",
    "* All characters must be lowercase\n",
    "* Remove whitespace\n",
    "* Replace zero with letter 'o'"
   ]
  },
  {
   "cell_type": "code",
   "execution_count": 6,
   "id": "23a1dc11",
   "metadata": {
    "trusted": false
   },
   "outputs": [
    {
     "name": "stdout",
     "output_type": "stream",
     "text": [
      "Index(['name', 'character', 'role', 'title', 'type', 'release_year', 'genres',\n",
      "       'imdb_score', 'imdb_votes'],\n",
      "      dtype='object')\n"
     ]
    }
   ],
   "source": [
    "# renaming columns\n",
    "df = df.rename(columns = {\n",
    "    '   name':'name',\n",
    "    'Character':'character',\n",
    "    'r0le':'role',\n",
    "    'TITLE':'title',\n",
    "    '  Type':'type',\n",
    "    'release Year':'release_year',\n",
    "    'genres':'genres',\n",
    "    'imdb sc0re':'imdb_score',\n",
    "    'imdb v0tes':'imdb_votes',\n",
    "    \n",
    "})\n",
    "print(df.columns)"
   ]
  },
  {
   "cell_type": "markdown",
   "id": "25388298",
   "metadata": {},
   "source": []
  },
  {
   "cell_type": "markdown",
   "id": "464fbd04",
   "metadata": {},
   "source": [
    "Check the result. Print the names of the columns once more:"
   ]
  },
  {
   "cell_type": "code",
   "execution_count": 7,
   "id": "0eb6527f",
   "metadata": {
    "trusted": false
   },
   "outputs": [
    {
     "name": "stdout",
     "output_type": "stream",
     "text": [
      "Index(['name', 'character', 'role', 'title', 'type', 'release_year', 'genres',\n",
      "       'imdb_score', 'imdb_votes'],\n",
      "      dtype='object')\n"
     ]
    }
   ],
   "source": [
    "# checking result: the list of column names\n",
    "print(df.columns)"
   ]
  },
  {
   "cell_type": "markdown",
   "id": "14d9c319",
   "metadata": {},
   "source": [
    "### Missing values <a id='missing_values'></a>\n",
    "First, find the number of missing values in the table. To do so, combine two `pandas` methods:"
   ]
  },
  {
   "cell_type": "code",
   "execution_count": 8,
   "id": "21c427f2",
   "metadata": {
    "trusted": false
   },
   "outputs": [
    {
     "name": "stdout",
     "output_type": "stream",
     "text": [
      "name               0\n",
      "character          0\n",
      "role               0\n",
      "title              1\n",
      "type               0\n",
      "release_year       0\n",
      "genres             0\n",
      "imdb_score      4609\n",
      "imdb_votes      4726\n",
      "dtype: int64\n"
     ]
    }
   ],
   "source": [
    "# calculating missing values\n",
    "print(df.isna().sum())"
   ]
  },
  {
   "cell_type": "markdown",
   "id": "c8272df3",
   "metadata": {},
   "source": [
    "We identified missing values in several columns. While the missing value in `'title'` isn't critical, missing values in `'imdb_score'` and `'imdb_votes'` affect around 6% of the data, which could impact our analysis. To ensure data integrity, we'll drop all rows with missing values."
   ]
  },
  {
   "cell_type": "code",
   "execution_count": 9,
   "id": "599d5550",
   "metadata": {
    "trusted": false
   },
   "outputs": [
    {
     "name": "stdout",
     "output_type": "stream",
     "text": [
      "                     name                character      role        title  \\\n",
      "0          Robert De Niro            Travis Bickle     ACTOR  Taxi Driver   \n",
      "1            Jodie Foster            Iris Steensma     ACTOR  Taxi Driver   \n",
      "2           Albert Brooks                      Tom     ACTOR  Taxi Driver   \n",
      "3           Harvey Keitel  Matthew 'Sport' Higgins     ACTOR  Taxi Driver   \n",
      "4         Cybill Shepherd                    Betsy     ACTOR  Taxi Driver   \n",
      "...                   ...                      ...       ...          ...   \n",
      "85574    Adelaida Buscato               Mar??a Paz     ACTOR      Lokillo   \n",
      "85575  Luz Stella Luengas             Karen Bayona     ACTOR      Lokillo   \n",
      "85576        In??s Prieto                    Fanny     ACTOR      Lokillo   \n",
      "85577        Isabel Gaona                   Cacica     ACTOR      Lokillo   \n",
      "85578      Julian Gaviria                  unknown  DIRECTOR      Lokillo   \n",
      "\n",
      "            type  release_year              genres  imdb_score  imdb_votes  \n",
      "0          MOVIE          1976  ['drama', 'crime']         8.2    808582.0  \n",
      "1          MOVIE          1976  ['drama', 'crime']         8.2    808582.0  \n",
      "2          MOVIE          1976  ['drama', 'crime']         8.2    808582.0  \n",
      "3          MOVIE          1976  ['drama', 'crime']         8.2    808582.0  \n",
      "4          MOVIE          1976  ['drama', 'crime']         8.2    808582.0  \n",
      "...          ...           ...                 ...         ...         ...  \n",
      "85574  the movie          2021          ['comedy']         3.8        68.0  \n",
      "85575  the movie          2021          ['comedy']         3.8        68.0  \n",
      "85576  the movie          2021          ['comedy']         3.8        68.0  \n",
      "85577      MOVIE          2021          ['comedy']         3.8        68.0  \n",
      "85578  the movie          2021          ['comedy']         3.8        68.0  \n",
      "\n",
      "[80853 rows x 9 columns]\n"
     ]
    }
   ],
   "source": [
    "# dropping rows where columns with scores, and votes have missing values\n",
    "df = df.dropna(axis ='rows')\n",
    "print(df)"
   ]
  },
  {
   "cell_type": "markdown",
   "id": "2156887f",
   "metadata": {},
   "source": [
    "Make sure the table doesn't contain any more missing values. Count the missing values again."
   ]
  },
  {
   "cell_type": "code",
   "execution_count": 10,
   "id": "55c0b0ce",
   "metadata": {
    "trusted": false
   },
   "outputs": [
    {
     "name": "stdout",
     "output_type": "stream",
     "text": [
      "name            0\n",
      "character       0\n",
      "role            0\n",
      "title           0\n",
      "type            0\n",
      "release_year    0\n",
      "genres          0\n",
      "imdb_score      0\n",
      "imdb_votes      0\n",
      "dtype: int64\n"
     ]
    }
   ],
   "source": [
    "# counting missing values\n",
    "print(df.isna().sum())"
   ]
  },
  {
   "cell_type": "markdown",
   "id": "a7dc7aa0",
   "metadata": {},
   "source": [
    "### Duplicates <a id='duplicates'></a>\n",
    "Find the number of duplicate rows in the table using one command:"
   ]
  },
  {
   "cell_type": "code",
   "execution_count": 11,
   "id": "9227df01",
   "metadata": {
    "trusted": false
   },
   "outputs": [
    {
     "name": "stdout",
     "output_type": "stream",
     "text": [
      "6994\n"
     ]
    }
   ],
   "source": [
    "# counting duplicate rows\n",
    "print(df.duplicated().sum())"
   ]
  },
  {
   "cell_type": "markdown",
   "id": "5f6eb0fc",
   "metadata": {},
   "source": [
    "Review the duplicate rows to determine if removing them would distort our dataset."
   ]
  },
  {
   "cell_type": "code",
   "execution_count": 12,
   "id": "bcf32fcb",
   "metadata": {
    "trusted": false
   },
   "outputs": [
    {
     "name": "stdout",
     "output_type": "stream",
     "text": [
      "                   name                  character      role  \\\n",
      "7560      Philip Greene  Baseball Fan (uncredited)     ACTOR   \n",
      "7561      Philip Greene  Baseball Fan (uncredited)     ACTOR   \n",
      "14502          Dan Levy                   Reporter     ACTOR   \n",
      "14512          Dan Levy                   Reporter     ACTOR   \n",
      "18951  Nicolas Le Nev??                    unknown  DIRECTOR   \n",
      "\n",
      "                                 title   type  release_year  \\\n",
      "7560                   How Do You Know  MOVIE          2010   \n",
      "7561                   How Do You Know  MOVIE          2010   \n",
      "14502  A Very Harold & Kumar Christmas  MOVIE          2011   \n",
      "14512  A Very Harold & Kumar Christmas  MOVIE          2011   \n",
      "18951                       Sammy & Co   SHOW          2014   \n",
      "\n",
      "                                 genres  imdb_score  imdb_votes  \n",
      "7560     ['comedy', 'drama', 'romance']         5.4     50383.0  \n",
      "7561     ['comedy', 'drama', 'romance']         5.4     50383.0  \n",
      "14502  ['comedy', 'fantasy', 'romance']         6.2     69562.0  \n",
      "14512  ['comedy', 'fantasy', 'romance']         6.2     69562.0  \n",
      "18951         ['animation', 'european']         5.7        31.0  \n"
     ]
    }
   ],
   "source": [
    "# Produce table with duplicates (with original rows included) and review last 5 rows\n",
    "duplicates_df_last = df [df.duplicated(keep = False)]\n",
    "print (duplicates_df_last.head())"
   ]
  },
  {
   "cell_type": "markdown",
   "id": "a1ed6640",
   "metadata": {},
   "source": [
    "There are two clear duplicates in the printed rows. We can safely remove them.\n",
    "Call the `pandas` method for getting rid of duplicate rows:"
   ]
  },
  {
   "cell_type": "code",
   "execution_count": 13,
   "id": "724d5bc8",
   "metadata": {
    "trusted": false
   },
   "outputs": [],
   "source": [
    "# removing duplicate rows\n",
    "df = df.drop_duplicates().reset_index(drop=True)"
   ]
  },
  {
   "cell_type": "markdown",
   "id": "fc8c77ba",
   "metadata": {},
   "source": [
    "Check for duplicate rows once more to make sure you have removed all of them:"
   ]
  },
  {
   "cell_type": "code",
   "execution_count": 14,
   "id": "8091a9bc",
   "metadata": {
    "trusted": false
   },
   "outputs": [
    {
     "data": {
      "text/plain": [
       "0"
      ]
     },
     "execution_count": 14,
     "metadata": {},
     "output_type": "execute_result"
    }
   ],
   "source": [
    "# checking for duplicates\n",
    "df.duplicated().sum()"
   ]
  },
  {
   "cell_type": "markdown",
   "id": "248e12cf",
   "metadata": {},
   "source": []
  },
  {
   "cell_type": "markdown",
   "id": "1d802b07",
   "metadata": {},
   "source": [
    "Now get rid of implicit duplicates in the `'type'` column. For example, the string `'SHOW'` can be written in different ways. These kinds of errors will also affect the result."
   ]
  },
  {
   "cell_type": "markdown",
   "id": "d5f987ed",
   "metadata": {},
   "source": [
    "Print a list of unique `'type'` names, sorted in alphabetical order. To do so:\n",
    "* Retrieve the intended dataframe column \n",
    "* Apply a sorting method to it\n",
    "* For the sorted column, call the method that will return all unique column values"
   ]
  },
  {
   "cell_type": "code",
   "execution_count": 15,
   "id": "3d7b0ac5",
   "metadata": {
    "trusted": false
   },
   "outputs": [
    {
     "name": "stdout",
     "output_type": "stream",
     "text": [
      "['MOVIE', 'SHOW', 'movies', 'shows', 'the movie', 'tv', 'tv series', 'tv show', 'tv shows']\n"
     ]
    }
   ],
   "source": [
    "# viewing unique type names\n",
    "unique_names= df ['type'].unique()\n",
    "print(sorted(unique_names))"
   ]
  },
  {
   "cell_type": "markdown",
   "id": "ac6e8b18",
   "metadata": {},
   "source": [
    "Look through the list to find implicit duplicates of `'show'` (`'movie'` duplicates will be ignored since the assumption is about shows). These could be names written incorrectly or alternative names of the same genre.\n",
    "\n",
    "You will see the following implicit duplicates:\n",
    "* `'shows'`\n",
    "* `'SHOW'`\n",
    "* `'tv show'`\n",
    "* `'tv shows'`\n",
    "* `'tv series'`\n",
    "* `'tv'`\n",
    "\n",
    "To get rid of them, declare the function `replace_wrong_show()` with two parameters: \n",
    "* `wrong_shows_list=` — the list of duplicates\n",
    "* `correct_show=` — the string with the correct value\n",
    "\n",
    "The function should correct the names in the `'type'` column from the `df` table (i.e., replace each value from the `wrong_shows_list` list with the value in `correct_show`)."
   ]
  },
  {
   "cell_type": "code",
   "execution_count": 16,
   "id": "bff944f9",
   "metadata": {
    "trusted": false
   },
   "outputs": [],
   "source": [
    "# function for replacing implicit duplicates\n",
    "wrong_shows_list = ['shows', 'SHOW', 'tv show', 'tv shows', 'tv series', 'tv']\n",
    "correct_show = 'show'"
   ]
  },
  {
   "cell_type": "markdown",
   "id": "d02d13a6",
   "metadata": {},
   "source": [
    "Call `replace_wrong_show()` and pass it arguments so that it clears implicit duplicates and replaces them with `SHOW`:"
   ]
  },
  {
   "cell_type": "code",
   "execution_count": 17,
   "id": "a2217e53",
   "metadata": {
    "trusted": false
   },
   "outputs": [
    {
     "name": "stdout",
     "output_type": "stream",
     "text": [
      "['MOVIE' 'the movie' 'show' 'movies']\n"
     ]
    }
   ],
   "source": [
    "# removing implicit duplicates\n",
    "def replace_wrong_show(df,wrong_shows_list,correct_show):\n",
    "    for wrong in wrong_shows_list: \n",
    "        df['type']=df['type'].replace(wrong,correct_show)\n",
    "    return df \n",
    "df=replace_wrong_show(df,wrong_shows_list,correct_show)\n",
    "print(df['type'].unique())"
   ]
  },
  {
   "cell_type": "markdown",
   "id": "eafa2d71",
   "metadata": {},
   "source": []
  },
  {
   "cell_type": "markdown",
   "id": "318b09f7",
   "metadata": {},
   "source": [
    "Make sure the duplicate names are removed. Print the list of unique values from the `'type'` column:"
   ]
  },
  {
   "cell_type": "code",
   "execution_count": 18,
   "id": "25d49d73",
   "metadata": {
    "trusted": false
   },
   "outputs": [
    {
     "name": "stdout",
     "output_type": "stream",
     "text": [
      "[\"['action', 'animation', 'comedy', 'drama', 'family', 'fantasy', 'music', 'romance']\", \"['action', 'animation', 'comedy', 'drama', 'family', 'scifi']\", \"['action', 'animation', 'comedy', 'family', 'fantasy']\", \"['action', 'animation', 'comedy', 'family', 'music']\", \"['action', 'animation', 'comedy', 'family']\", \"['action', 'animation', 'comedy', 'fantasy', 'scifi', 'horror', 'drama']\", \"['action', 'animation', 'comedy', 'fantasy']\", \"['action', 'animation', 'comedy', 'thriller', 'scifi', 'family', 'romance', 'fantasy']\", \"['action', 'animation', 'drama']\", \"['action', 'animation', 'family', 'comedy', 'scifi']\", \"['action', 'animation', 'family', 'fantasy', 'comedy']\", \"['action', 'animation', 'family', 'fantasy', 'drama', 'comedy']\", \"['action', 'animation', 'family', 'scifi', 'comedy']\", \"['action', 'animation', 'family', 'western', 'comedy', 'drama', 'documentation']\", \"['action', 'animation', 'fantasy']\", \"['action', 'animation', 'scifi', 'comedy', 'family', 'western']\", \"['action', 'animation', 'scifi', 'family']\", \"['action', 'animation', 'scifi', 'fantasy', 'horror']\", \"['action', 'animation', 'scifi']\", \"['action', 'animation', 'war', 'comedy', 'fantasy', 'history', 'scifi']\", \"['action', 'animation']\", \"['action', 'comedy', 'animation', 'crime', 'drama']\", \"['action', 'comedy', 'animation', 'drama', 'fantasy']\", \"['action', 'comedy', 'crime', 'drama']\", \"['action', 'comedy', 'crime', 'european']\", \"['action', 'comedy', 'crime', 'thriller']\", \"['action', 'comedy', 'crime']\", \"['action', 'comedy', 'drama', 'family', 'documentation']\", \"['action', 'comedy', 'drama', 'family']\", \"['action', 'comedy', 'drama', 'fantasy', 'animation']\", \"['action', 'comedy', 'drama', 'fantasy', 'thriller']\", \"['action', 'comedy', 'drama', 'horror', 'romance', 'scifi']\", \"['action', 'comedy', 'drama', 'scifi', 'family', 'fantasy', 'animation']\", \"['action', 'comedy', 'drama', 'thriller', 'crime']\", \"['action', 'comedy', 'drama', 'thriller']\", \"['action', 'comedy', 'drama']\", \"['action', 'comedy', 'european']\", \"['action', 'comedy', 'family', 'animation']\", \"['action', 'comedy', 'family', 'fantasy', 'animation', 'scifi']\", \"['action', 'comedy', 'family', 'fantasy', 'animation']\", \"['action', 'comedy', 'family', 'scifi', 'animation']\", \"['action', 'comedy', 'family']\", \"['action', 'comedy', 'history']\", \"['action', 'comedy', 'horror', 'thriller', 'animation', 'fantasy']\", \"['action', 'comedy', 'romance']\", \"['action', 'comedy', 'scifi', 'family', 'fantasy', 'animation']\", \"['action', 'comedy', 'scifi']\", \"['action', 'comedy', 'sport', 'crime']\", \"['action', 'comedy', 'sport']\", \"['action', 'comedy', 'thriller', 'crime']\", \"['action', 'comedy', 'thriller']\", \"['action', 'comedy']\", \"['action', 'crime', 'comedy']\", \"['action', 'crime', 'drama', 'history', 'european']\", \"['action', 'crime', 'drama', 'history']\", \"['action', 'crime', 'drama', 'horror', 'thriller', 'european']\", \"['action', 'crime', 'drama', 'romance']\", \"['action', 'crime', 'drama', 'sport']\", \"['action', 'crime', 'drama', 'thriller', 'fantasy']\", \"['action', 'crime', 'drama', 'thriller', 'scifi']\", \"['action', 'crime', 'drama', 'thriller']\", \"['action', 'crime', 'drama']\", \"['action', 'crime', 'fantasy', 'scifi', 'drama', 'animation']\", \"['action', 'crime', 'thriller', 'drama', 'european']\", \"['action', 'crime', 'thriller', 'drama']\", \"['action', 'crime', 'thriller', 'horror', 'drama']\", \"['action', 'crime', 'thriller', 'scifi', 'drama']\", \"['action', 'crime', 'thriller']\", \"['action', 'crime']\", \"['action', 'documentation']\", \"['action', 'drama', 'animation', 'scifi', 'fantasy']\", \"['action', 'drama', 'comedy', 'crime', 'romance']\", \"['action', 'drama', 'comedy', 'crime']\", \"['action', 'drama', 'comedy', 'reality', 'romance', 'thriller']\", \"['action', 'drama', 'comedy']\", \"['action', 'drama', 'crime', 'romance']\", \"['action', 'drama', 'crime', 'thriller', 'european']\", \"['action', 'drama', 'crime', 'thriller']\", \"['action', 'drama', 'crime']\", \"['action', 'drama', 'documentation']\", \"['action', 'drama', 'family', 'sport', 'romance']\", \"['action', 'drama', 'fantasy', 'animation', 'horror']\", \"['action', 'drama', 'fantasy', 'history', 'thriller']\", \"['action', 'drama', 'fantasy', 'scifi', 'animation']\", \"['action', 'drama', 'fantasy', 'scifi']\", \"['action', 'drama', 'fantasy']\", \"['action', 'drama', 'history', 'documentation']\", \"['action', 'drama', 'history', 'romance']\", \"['action', 'drama', 'history', 'war']\", \"['action', 'drama', 'history']\", \"['action', 'drama', 'romance', 'crime']\", \"['action', 'drama', 'romance', 'thriller']\", \"['action', 'drama', 'romance']\", \"['action', 'drama', 'scifi', 'fantasy', 'european']\", \"['action', 'drama', 'scifi', 'fantasy']\", \"['action', 'drama', 'scifi', 'horror', 'thriller', 'fantasy']\", \"['action', 'drama', 'scifi', 'horror', 'thriller']\", \"['action', 'drama', 'scifi', 'thriller', 'fantasy']\", \"['action', 'drama', 'scifi', 'thriller']\", \"['action', 'drama', 'sport', 'comedy']\", \"['action', 'drama', 'thriller', 'crime']\", \"['action', 'drama', 'thriller', 'romance', 'comedy', 'fantasy', 'horror']\", \"['action', 'drama', 'thriller']\", \"['action', 'drama', 'war', 'animation', 'scifi']\", \"['action', 'drama', 'war', 'animation']\", \"['action', 'drama', 'war', 'history', 'european']\", \"['action', 'drama', 'war', 'history', 'romance']\", \"['action', 'drama', 'war', 'romance', 'thriller']\", \"['action', 'drama', 'war']\", \"['action', 'drama', 'western']\", \"['action', 'drama']\", \"['action', 'family', 'animation', 'comedy', 'scifi']\", \"['action', 'family', 'animation', 'comedy']\", \"['action', 'family', 'animation', 'romance', 'comedy', 'fantasy', 'history', 'scifi']\", \"['action', 'family', 'comedy', 'music', 'animation']\", \"['action', 'family', 'fantasy', 'comedy', 'european']\", \"['action', 'family', 'fantasy', 'scifi']\", \"['action', 'family', 'scifi', 'animation']\", \"['action', 'family', 'scifi']\", \"['action', 'family']\", \"['action', 'fantasy', 'animation', 'comedy', 'family']\", \"['action', 'fantasy', 'animation', 'family', 'comedy']\", \"['action', 'fantasy', 'animation', 'horror', 'war', 'drama']\", \"['action', 'fantasy', 'animation']\", \"['action', 'fantasy', 'comedy', 'family']\", \"['action', 'fantasy', 'drama', 'romance']\", \"['action', 'fantasy', 'family', 'comedy']\", \"['action', 'fantasy', 'family']\", \"['action', 'fantasy', 'horror', 'western', 'family', 'scifi']\", \"['action', 'fantasy', 'scifi', 'animation', 'comedy', 'family']\", \"['action', 'fantasy', 'scifi', 'drama']\", \"['action', 'fantasy', 'scifi']\", \"['action', 'fantasy']\", \"['action', 'history', 'drama']\", \"['action', 'history', 'war', 'drama', 'european']\", \"['action', 'horror', 'thriller', 'scifi']\", \"['action', 'reality']\", \"['action', 'romance', 'drama']\", \"['action', 'scifi', 'animation', 'comedy', 'drama']\", \"['action', 'scifi', 'animation', 'comedy', 'family']\", \"['action', 'scifi', 'animation', 'comedy', 'fantasy', 'family']\", \"['action', 'scifi', 'animation', 'drama', 'fantasy', 'romance']\", \"['action', 'scifi', 'animation', 'drama']\", \"['action', 'scifi', 'animation', 'family', 'fantasy', 'thriller', 'drama']\", \"['action', 'scifi', 'animation', 'fantasy']\", \"['action', 'scifi', 'animation', 'horror', 'drama', 'fantasy']\", \"['action', 'scifi', 'animation', 'thriller', 'drama']\", \"['action', 'scifi', 'comedy', 'drama', 'fantasy', 'romance']\", \"['action', 'scifi', 'comedy', 'fantasy', 'animation']\", \"['action', 'scifi', 'comedy', 'fantasy', 'drama', 'animation', 'family']\", \"['action', 'scifi', 'comedy', 'horror', 'fantasy', 'thriller']\", \"['action', 'scifi', 'comedy', 'thriller']\", \"['action', 'scifi', 'drama', 'animation', 'comedy', 'family', 'fantasy']\", \"['action', 'scifi', 'drama', 'thriller']\", \"['action', 'scifi', 'drama']\", \"['action', 'scifi', 'family', 'comedy', 'drama']\", \"['action', 'scifi', 'family', 'fantasy', 'animation', 'european']\", \"['action', 'scifi', 'fantasy', 'drama']\", \"['action', 'scifi', 'fantasy', 'family']\", \"['action', 'scifi', 'fantasy', 'thriller', 'comedy']\", \"['action', 'scifi', 'music', 'thriller']\", \"['action', 'scifi', 'thriller', 'animation', 'drama', 'fantasy']\", \"['action', 'scifi', 'thriller', 'animation', 'horror', 'drama', 'fantasy']\", \"['action', 'scifi', 'thriller', 'drama']\", \"['action', 'scifi', 'thriller', 'european']\", \"['action', 'scifi', 'thriller', 'fantasy']\", \"['action', 'scifi', 'thriller', 'history', 'drama', 'horror']\", \"['action', 'scifi', 'thriller', 'horror']\", \"['action', 'scifi', 'thriller']\", \"['action', 'scifi']\", \"['action', 'thriller', 'comedy', 'animation']\", \"['action', 'thriller', 'comedy', 'horror']\", \"['action', 'thriller', 'crime', 'drama', 'european']\", \"['action', 'thriller', 'crime', 'drama']\", \"['action', 'thriller', 'crime', 'european']\", \"['action', 'thriller', 'crime', 'fantasy']\", \"['action', 'thriller', 'crime', 'sport']\", \"['action', 'thriller', 'crime']\", \"['action', 'thriller', 'drama', 'crime', 'western']\", \"['action', 'thriller', 'drama', 'crime']\", \"['action', 'thriller', 'drama', 'family', 'fantasy']\", \"['action', 'thriller', 'drama', 'fantasy']\", \"['action', 'thriller', 'drama', 'romance', 'comedy']\", \"['action', 'thriller', 'drama', 'scifi']\", \"['action', 'thriller', 'drama']\", \"['action', 'thriller', 'european']\", \"['action', 'thriller', 'horror', 'scifi']\", \"['action', 'thriller', 'romance', 'drama', 'european']\", \"['action', 'thriller', 'scifi', 'animation', 'history', 'horror']\", \"['action', 'thriller', 'scifi']\", \"['action', 'thriller', 'war', 'european']\", \"['action', 'thriller', 'western', 'romance']\", \"['action', 'thriller']\", \"['action', 'war', 'drama', 'history']\", \"['action', 'war', 'drama']\", \"['action', 'war', 'fantasy', 'romance']\", \"['action', 'war', 'history']\", \"['action']\", \"['animation', 'action', 'comedy', 'crime', 'fantasy', 'scifi']\", \"['animation', 'action', 'comedy', 'drama', 'family', 'fantasy', 'scifi']\", \"['animation', 'action', 'comedy', 'drama', 'family', 'fantasy']\", \"['animation', 'action', 'comedy', 'drama', 'fantasy', 'family']\", \"['animation', 'action', 'comedy', 'drama', 'fantasy']\", \"['animation', 'action', 'comedy', 'family', 'drama', 'music', 'romance', 'thriller', 'scifi']\", \"['animation', 'action', 'comedy', 'family', 'fantasy', 'scifi']\", \"['animation', 'action', 'comedy', 'family', 'fantasy', 'thriller', 'european']\", \"['animation', 'action', 'comedy', 'family', 'fantasy']\", \"['animation', 'action', 'comedy', 'family']\", \"['animation', 'action', 'comedy', 'scifi']\", \"['animation', 'action', 'comedy']\", \"['animation', 'action', 'drama', 'sport', 'thriller']\", \"['animation', 'action', 'drama', 'war', 'history']\", \"['animation', 'action', 'family', 'fantasy', 'romance']\", \"['animation', 'action', 'family', 'music', 'comedy']\", \"['animation', 'action', 'family']\", \"['animation', 'action', 'fantasy', 'family']\", \"['animation', 'action', 'fantasy']\", \"['animation', 'action', 'scifi', 'comedy', 'fantasy', 'thriller']\", \"['animation', 'action', 'scifi', 'comedy', 'fantasy']\", \"['animation', 'action', 'scifi', 'drama', 'fantasy', 'horror']\", \"['animation', 'action', 'scifi', 'drama', 'fantasy', 'music', 'romance']\", \"['animation', 'action', 'scifi', 'drama', 'fantasy', 'thriller']\", \"['animation', 'action', 'scifi', 'fantasy', 'drama']\", \"['animation', 'action', 'scifi', 'fantasy']\", \"['animation', 'action', 'scifi', 'thriller']\", \"['animation', 'action', 'scifi', 'western', 'comedy', 'drama', 'thriller']\", \"['animation', 'action', 'scifi']\", \"['animation', 'action', 'sport']\", \"['animation', 'action', 'thriller', 'family']\", \"['animation', 'action', 'thriller', 'scifi', 'crime']\", \"['animation', 'action', 'war', 'scifi', 'drama', 'thriller']\", \"['animation', 'action']\", \"['animation', 'comedy', 'action', 'crime', 'drama', 'romance']\", \"['animation', 'comedy', 'action', 'drama']\", \"['animation', 'comedy', 'action', 'family', 'drama', 'fantasy', 'romance']\", \"['animation', 'comedy', 'action', 'family']\", \"['animation', 'comedy', 'drama', 'family', 'action', 'fantasy', 'european']\", \"['animation', 'comedy', 'drama', 'family', 'scifi', 'action']\", \"['animation', 'comedy', 'drama', 'family']\", \"['animation', 'comedy', 'drama', 'romance']\", \"['animation', 'comedy', 'european']\", \"['animation', 'comedy', 'family', 'action', 'european']\", \"['animation', 'comedy', 'family', 'action', 'fantasy']\", \"['animation', 'comedy', 'family', 'action', 'romance', 'drama', 'european']\", \"['animation', 'comedy', 'family', 'action']\", \"['animation', 'comedy', 'family', 'crime', 'european']\", \"['animation', 'comedy', 'family', 'european']\", \"['animation', 'comedy', 'family', 'fantasy', 'action', 'european']\", \"['animation', 'comedy', 'family', 'fantasy', 'action']\", \"['animation', 'comedy', 'family', 'fantasy', 'european']\", \"['animation', 'comedy', 'family', 'fantasy', 'scifi', 'action']\", \"['animation', 'comedy', 'family', 'fantasy', 'scifi', 'romance', 'drama']\", \"['animation', 'comedy', 'family', 'fantasy', 'thriller']\", \"['animation', 'comedy', 'family', 'fantasy']\", \"['animation', 'comedy', 'family', 'horror', 'scifi']\", \"['animation', 'comedy', 'family', 'horror']\", \"['animation', 'comedy', 'family', 'music', 'fantasy', 'european']\", \"['animation', 'comedy', 'family', 'romance', 'fantasy']\", \"['animation', 'comedy', 'family', 'scifi', 'action', 'fantasy', 'european']\", \"['animation', 'comedy', 'family', 'scifi', 'european']\", \"['animation', 'comedy', 'family', 'scifi']\", \"['animation', 'comedy', 'family']\", \"['animation', 'comedy', 'fantasy', 'action']\", \"['animation', 'comedy', 'fantasy']\", \"['animation', 'comedy', 'romance', 'drama', 'music']\", \"['animation', 'comedy', 'romance']\", \"['animation', 'comedy']\", \"['animation', 'documentation', 'european']\", \"['animation', 'documentation']\", \"['animation', 'drama', 'action', 'scifi', 'thriller', 'fantasy', 'horror', 'romance']\", \"['animation', 'drama', 'action', 'thriller', 'crime']\", \"['animation', 'drama', 'comedy']\", \"['animation', 'drama', 'crime', 'fantasy', 'romance', 'thriller']\", \"['animation', 'drama', 'family', 'european']\", \"['animation', 'drama', 'family', 'scifi', 'action', 'fantasy', 'comedy']\", \"['animation', 'drama', 'fantasy', 'horror', 'action']\", \"['animation', 'drama', 'romance', 'family']\", \"['animation', 'drama', 'scifi', 'reality', 'family', 'fantasy', 'action']\", \"['animation', 'drama', 'sport']\", \"['animation', 'drama']\", \"['animation', 'european']\", \"['animation', 'family', 'action', 'comedy', 'drama']\", \"['animation', 'family', 'action', 'comedy', 'fantasy']\", \"['animation', 'family', 'action', 'comedy', 'scifi', 'fantasy']\", \"['animation', 'family', 'action']\", \"['animation', 'family', 'comedy', 'action', 'romance']\", \"['animation', 'family', 'comedy', 'drama', 'fantasy', 'romance', 'european']\", \"['animation', 'family', 'comedy', 'drama']\", \"['animation', 'family', 'comedy', 'european']\", \"['animation', 'family', 'comedy', 'fantasy', 'drama', 'action', 'music']\", \"['animation', 'family', 'comedy', 'fantasy', 'drama', 'action']\", \"['animation', 'family', 'comedy', 'fantasy']\", \"['animation', 'family', 'comedy']\", \"['animation', 'family', 'drama', 'western', 'european']\", \"['animation', 'family', 'european']\", \"['animation', 'family', 'fantasy', 'action', 'comedy', 'music']\", \"['animation', 'family', 'fantasy', 'action', 'drama']\", \"['animation', 'family', 'fantasy', 'comedy']\", \"['animation', 'family', 'fantasy', 'scifi', 'comedy']\", \"['animation', 'family', 'fantasy', 'scifi', 'western', 'action']\", \"['animation', 'family', 'fantasy']\", \"['animation', 'family', 'horror']\", \"['animation', 'family', 'music', 'fantasy']\", \"['animation', 'family', 'scifi', 'action', 'comedy']\", \"['animation', 'family', 'scifi', 'documentation', 'comedy']\", \"['animation', 'family', 'scifi', 'drama', 'fantasy', 'comedy']\", \"['animation', 'family', 'scifi']\", \"['animation', 'family']\", \"['animation', 'fantasy', 'action', 'thriller']\", \"['animation', 'fantasy', 'action']\", \"['animation', 'fantasy', 'drama', 'family', 'music', 'comedy']\", \"['animation', 'fantasy', 'family', 'comedy']\", \"['animation', 'fantasy']\", \"['animation', 'music', 'family']\", \"['animation', 'romance', 'comedy']\", \"['animation', 'scifi', 'action', 'comedy', 'romance', 'family', 'horror', 'drama']\", \"['animation', 'scifi', 'action', 'drama', 'war']\", \"['animation', 'scifi', 'action', 'family', 'thriller', 'horror', 'fantasy', 'crime', 'comedy', 'drama']\", \"['animation', 'scifi', 'comedy', 'family', 'fantasy']\", \"['animation', 'scifi', 'comedy', 'family', 'history']\", \"['animation', 'scifi', 'drama', 'comedy', 'family', 'fantasy']\", \"['animation', 'scifi', 'drama', 'fantasy', 'romance']\", \"['animation', 'scifi', 'drama', 'fantasy']\", \"['animation', 'scifi', 'fantasy', 'romance', 'action', 'comedy', 'drama', 'family']\", \"['animation', 'thriller', 'drama', 'sport', 'history']\", \"['animation', 'thriller', 'scifi', 'action', 'drama', 'horror', 'fantasy']\", \"['animation', 'thriller', 'scifi', 'drama', 'fantasy', 'crime']\", \"['animation']\", \"['comedy', 'action', 'animation', 'fantasy', 'thriller']\", \"['comedy', 'action', 'crime', 'drama', 'thriller']\", \"['comedy', 'action', 'crime', 'drama']\", \"['comedy', 'action', 'crime', 'family', 'fantasy', 'scifi', 'animation', 'european']\", \"['comedy', 'action', 'crime', 'thriller']\", \"['comedy', 'action', 'crime']\", \"['comedy', 'action', 'drama', 'fantasy', 'scifi']\", \"['comedy', 'action', 'drama', 'fantasy']\", \"['comedy', 'action', 'drama', 'history', 'war']\", \"['comedy', 'action', 'drama']\", \"['comedy', 'action', 'european']\", \"['comedy', 'action', 'family', 'animation', 'fantasy', 'drama', 'music', 'thriller']\", \"['comedy', 'action', 'fantasy', 'sport']\", \"['comedy', 'action', 'romance', 'drama', 'family']\", \"['comedy', 'action', 'romance', 'european']\", \"['comedy', 'action', 'romance']\", \"['comedy', 'action']\", \"['comedy', 'animation', 'action', 'crime']\", \"['comedy', 'animation', 'action', 'family', 'fantasy']\", \"['comedy', 'animation', 'action', 'fantasy']\", \"['comedy', 'animation', 'action', 'romance']\", \"['comedy', 'animation', 'drama', 'sport']\", \"['comedy', 'animation', 'family', 'action']\", \"['comedy', 'animation', 'family', 'fantasy', 'romance']\", \"['comedy', 'animation', 'family', 'scifi', 'action']\", \"['comedy', 'animation', 'family']\", \"['comedy', 'animation', 'fantasy', 'family']\", \"['comedy', 'animation', 'fantasy', 'history']\", \"['comedy', 'animation', 'fantasy', 'scifi']\", \"['comedy', 'animation', 'romance']\", \"['comedy', 'animation', 'sport']\", \"['comedy', 'animation']\", \"['comedy', 'crime', 'action', 'drama', 'thriller']\", \"['comedy', 'crime', 'action', 'scifi', 'drama', 'thriller']\", \"['comedy', 'crime', 'action', 'thriller']\", \"['comedy', 'crime', 'action']\", \"['comedy', 'crime', 'drama', 'family']\", \"['comedy', 'crime', 'drama', 'romance']\", \"['comedy', 'crime', 'drama']\", \"['comedy', 'crime', 'european']\", \"['comedy', 'crime', 'family', 'animation']\", \"['comedy', 'crime', 'family', 'romance']\", \"['comedy', 'crime', 'family']\", \"['comedy', 'crime', 'romance', 'action']\", \"['comedy', 'crime', 'thriller', 'drama']\", \"['comedy', 'crime', 'thriller', 'scifi', 'horror', 'romance', 'action']\", \"['comedy', 'crime', 'thriller']\", \"['comedy', 'crime']\", \"['comedy', 'documentation', 'action']\", \"['comedy', 'documentation', 'drama', 'european']\", \"['comedy', 'documentation', 'reality']\", \"['comedy', 'documentation', 'romance']\", \"['comedy', 'documentation', 'sport']\", \"['comedy', 'documentation']\", \"['comedy', 'drama', 'action', 'animation', 'fantasy', 'romance']\", \"['comedy', 'drama', 'action', 'crime']\", \"['comedy', 'drama', 'action', 'romance']\", \"['comedy', 'drama', 'action']\", \"['comedy', 'drama', 'animation', 'action', 'scifi']\", \"['comedy', 'drama', 'animation', 'action']\", \"['comedy', 'drama', 'animation', 'romance']\", \"['comedy', 'drama', 'animation']\", \"['comedy', 'drama', 'crime', 'action']\", \"['comedy', 'drama', 'crime', 'thriller']\", \"['comedy', 'drama', 'crime', 'western']\", \"['comedy', 'drama', 'crime']\", \"['comedy', 'drama', 'documentation', 'european']\", \"['comedy', 'drama', 'documentation']\", \"['comedy', 'drama', 'european']\", \"['comedy', 'drama', 'family', 'fantasy', 'animation', 'action']\", \"['comedy', 'drama', 'family', 'fantasy', 'romance']\", \"['comedy', 'drama', 'family', 'fantasy', 'thriller']\", \"['comedy', 'drama', 'family', 'music']\", \"['comedy', 'drama', 'family', 'romance']\", \"['comedy', 'drama', 'family']\", \"['comedy', 'drama', 'fantasy', 'romance', 'action']\", \"['comedy', 'drama', 'fantasy', 'romance']\", \"['comedy', 'drama', 'fantasy', 'scifi', 'action']\", \"['comedy', 'drama', 'fantasy']\", \"['comedy', 'drama', 'history']\", \"['comedy', 'drama', 'music', 'reality']\", \"['comedy', 'drama', 'music', 'romance']\", \"['comedy', 'drama', 'music']\", \"['comedy', 'drama', 'romance', 'european']\", \"['comedy', 'drama', 'romance', 'family']\", \"['comedy', 'drama', 'romance', 'sport']\", \"['comedy', 'drama', 'romance', 'thriller', 'crime', 'european']\", \"['comedy', 'drama', 'romance', 'thriller']\", \"['comedy', 'drama', 'romance']\", \"['comedy', 'drama', 'scifi', 'fantasy', 'romance']\", \"['comedy', 'drama', 'scifi']\", \"['comedy', 'drama', 'sport']\", \"['comedy', 'drama', 'thriller', 'crime', 'action']\", \"['comedy', 'drama', 'thriller', 'crime']\", \"['comedy', 'drama', 'thriller', 'fantasy', 'romance']\", \"['comedy', 'drama', 'thriller']\", \"['comedy', 'drama', 'western']\", \"['comedy', 'drama']\", \"['comedy', 'european']\", \"['comedy', 'family', 'action', 'scifi', 'thriller', 'drama']\", \"['comedy', 'family', 'action', 'sport']\", \"['comedy', 'family', 'action']\", \"['comedy', 'family', 'animation', 'action', 'fantasy', 'western']\", \"['comedy', 'family', 'animation', 'drama', 'horror', 'thriller']\", \"['comedy', 'family', 'animation', 'music']\", \"['comedy', 'family', 'animation']\", \"['comedy', 'family', 'documentation', 'animation']\", \"['comedy', 'family', 'drama', 'music', 'romance', 'sport']\", \"['comedy', 'family', 'drama', 'romance']\", \"['comedy', 'family', 'drama']\", \"['comedy', 'family', 'european']\", \"['comedy', 'family', 'fantasy', 'animation', 'action', 'european']\", \"['comedy', 'family', 'fantasy', 'animation', 'action']\", \"['comedy', 'family', 'fantasy', 'animation', 'european']\", \"['comedy', 'family', 'fantasy', 'animation']\", \"['comedy', 'family', 'fantasy', 'european']\", \"['comedy', 'family', 'fantasy', 'history', 'animation', 'action']\", \"['comedy', 'family', 'fantasy', 'horror', 'music', 'animation', 'scifi']\", \"['comedy', 'family', 'fantasy', 'music', 'animation', 'action']\", \"['comedy', 'family', 'fantasy', 'music', 'drama', 'animation']\", \"['comedy', 'family', 'fantasy', 'scifi', 'animation', 'action']\", \"['comedy', 'family', 'fantasy', 'scifi', 'animation']\", \"['comedy', 'family', 'fantasy', 'scifi', 'romance', 'animation']\", \"['comedy', 'family', 'fantasy', 'scifi']\", \"['comedy', 'family', 'fantasy']\", \"['comedy', 'family', 'music', 'animation']\", \"['comedy', 'family', 'music']\", \"['comedy', 'family', 'romance', 'drama', 'fantasy']\", \"['comedy', 'family', 'romance', 'drama']\", \"['comedy', 'family', 'romance']\", \"['comedy', 'family', 'scifi', 'animation', 'action']\", \"['comedy', 'family', 'scifi', 'animation']\", \"['comedy', 'family', 'sport', 'animation', 'action']\", \"['comedy', 'family', 'sport', 'scifi', 'animation', 'action']\", \"['comedy', 'family', 'sport']\", \"['comedy', 'family']\", \"['comedy', 'fantasy', 'animation', 'action', 'scifi']\", \"['comedy', 'fantasy', 'animation', 'action']\", \"['comedy', 'fantasy', 'animation', 'drama', 'family']\", \"['comedy', 'fantasy', 'animation', 'family']\", \"['comedy', 'fantasy', 'animation']\", \"['comedy', 'fantasy', 'family', 'animation', 'action', 'scifi']\", \"['comedy', 'fantasy', 'horror']\", \"['comedy', 'fantasy', 'romance', 'family', 'european']\", \"['comedy', 'fantasy', 'romance']\", \"['comedy', 'fantasy', 'scifi', 'animation', 'action']\", \"['comedy', 'fantasy']\", \"['comedy', 'horror', 'european']\", \"['comedy', 'horror', 'music']\", \"['comedy', 'horror', 'scifi', 'european']\", \"['comedy', 'horror', 'scifi']\", \"['comedy', 'horror', 'war', 'fantasy', 'thriller', 'action']\", \"['comedy', 'horror']\", \"['comedy', 'music', 'action']\", \"['comedy', 'music', 'documentation']\", \"['comedy', 'music', 'drama']\", \"['comedy', 'music', 'family']\", \"['comedy', 'music', 'romance', 'drama']\", \"['comedy', 'music', 'romance']\", \"['comedy', 'music']\", \"['comedy', 'reality', 'european', 'music']\", \"['comedy', 'reality', 'horror']\", \"['comedy', 'reality']\", \"['comedy', 'romance', 'action', 'drama', 'european']\", \"['comedy', 'romance', 'action']\", \"['comedy', 'romance', 'documentation', 'european']\", \"['comedy', 'romance', 'drama', 'european']\", \"['comedy', 'romance', 'drama', 'family']\", \"['comedy', 'romance', 'drama', 'fantasy']\", \"['comedy', 'romance', 'drama', 'thriller']\", \"['comedy', 'romance', 'drama']\", \"['comedy', 'romance', 'european']\", \"['comedy', 'romance', 'family']\", \"['comedy', 'romance', 'fantasy', 'action']\", \"['comedy', 'romance', 'fantasy', 'family']\", \"['comedy', 'romance', 'music']\", \"['comedy', 'romance', 'thriller']\", \"['comedy', 'romance']\", \"['comedy', 'scifi', 'action', 'european']\", \"['comedy', 'scifi', 'animation', 'action']\", \"['comedy', 'scifi', 'animation', 'drama', 'family']\", \"['comedy', 'scifi', 'animation', 'family', 'fantasy']\", \"['comedy', 'scifi', 'animation', 'fantasy', 'family', 'drama', 'music']\", \"['comedy', 'scifi', 'fantasy']\", \"['comedy', 'scifi', 'music', 'animation', 'drama', 'family', 'fantasy']\", \"['comedy', 'scifi', 'romance']\", \"['comedy', 'sport', 'european']\", \"['comedy', 'sport', 'romance']\", \"['comedy', 'sport']\", \"['comedy', 'thriller', 'action']\", \"['comedy', 'thriller', 'animation', 'fantasy', 'romance', 'drama']\", \"['comedy', 'thriller', 'drama', 'action', 'crime']\", \"['comedy', 'thriller', 'drama', 'crime', 'action']\", \"['comedy', 'thriller', 'drama', 'crime', 'scifi']\", \"['comedy', 'thriller', 'drama', 'romance']\", \"['comedy', 'thriller', 'fantasy', 'horror', 'romance']\", \"['comedy', 'thriller', 'romance', 'action']\", \"['comedy', 'thriller']\", \"['comedy', 'war']\", \"['comedy']\", \"['crime', 'action', 'comedy', 'drama', 'thriller']\", \"['crime', 'action', 'comedy', 'thriller']\", \"['crime', 'action', 'comedy']\", \"['crime', 'action', 'drama', 'thriller', 'european']\", \"['crime', 'action', 'drama', 'thriller']\", \"['crime', 'action', 'drama']\", \"['crime', 'action', 'scifi', 'drama', 'thriller']\", \"['crime', 'action', 'thriller', 'drama', 'comedy']\", \"['crime', 'action', 'thriller', 'fantasy']\", \"['crime', 'action', 'thriller']\", \"['crime', 'action']\", \"['crime', 'comedy', 'action']\", \"['crime', 'comedy', 'drama', 'action']\", \"['crime', 'comedy', 'drama', 'european']\", \"['crime', 'comedy', 'drama', 'music', 'thriller']\", \"['crime', 'comedy', 'drama', 'romance', 'thriller']\", \"['crime', 'comedy', 'drama']\", \"['crime', 'comedy']\", \"['crime', 'documentation', 'drama', 'fantasy']\", \"['crime', 'documentation', 'drama', 'thriller']\", \"['crime', 'documentation', 'drama']\", \"['crime', 'documentation', 'history']\", \"['crime', 'documentation', 'sport']\", \"['crime', 'documentation', 'thriller', 'drama']\", \"['crime', 'documentation']\", \"['crime', 'drama', 'action', 'comedy', 'thriller']\", \"['crime', 'drama', 'action', 'thriller', 'european']\", \"['crime', 'drama', 'action', 'thriller', 'fantasy']\", \"['crime', 'drama', 'action', 'thriller']\", \"['crime', 'drama', 'action']\", \"['crime', 'drama', 'comedy']\", \"['crime', 'drama', 'european']\", \"['crime', 'drama', 'fantasy', 'animation', 'action']\", \"['crime', 'drama', 'fantasy', 'horror', 'thriller', 'comedy', 'action']\", \"['crime', 'drama', 'fantasy', 'thriller', 'scifi']\", \"['crime', 'drama', 'history', 'action']\", \"['crime', 'drama', 'history', 'thriller']\", \"['crime', 'drama', 'horror', 'scifi', 'thriller']\", \"['crime', 'drama', 'horror', 'thriller']\", \"['crime', 'drama', 'music', 'documentation', 'reality']\", \"['crime', 'drama', 'romance']\", \"['crime', 'drama', 'sport', 'thriller']\", \"['crime', 'drama', 'thriller', 'action', 'comedy']\", \"['crime', 'drama', 'thriller', 'action']\", \"['crime', 'drama', 'thriller', 'comedy', 'action']\", \"['crime', 'drama', 'thriller', 'european']\", \"['crime', 'drama', 'thriller', 'history']\", \"['crime', 'drama', 'thriller', 'horror']\", \"['crime', 'drama', 'thriller', 'romance', 'scifi', 'comedy']\", \"['crime', 'drama', 'thriller', 'romance']\", \"['crime', 'drama', 'thriller', 'scifi']\", \"['crime', 'drama', 'thriller', 'war', 'history']\", \"['crime', 'drama', 'thriller']\", \"['crime', 'drama']\", \"['crime', 'fantasy', 'horror', 'scifi', 'thriller']\", \"['crime', 'fantasy', 'thriller', 'drama', 'action']\", \"['crime', 'history', 'action', 'drama']\", \"['crime', 'history', 'documentation']\", \"['crime', 'romance', 'drama']\", \"['crime', 'scifi', 'action', 'thriller']\", \"['crime', 'scifi', 'drama', 'comedy', 'horror']\", \"['crime', 'sport', 'documentation']\", \"['crime', 'thriller', 'action', 'drama']\", \"['crime', 'thriller', 'action', 'european']\", \"['crime', 'thriller', 'action']\", \"['crime', 'thriller', 'drama', 'action', 'animation', 'romance', 'comedy']\", \"['crime', 'thriller', 'drama', 'action', 'comedy', 'romance']\", \"['crime', 'thriller', 'drama', 'action', 'european']\", \"['crime', 'thriller', 'drama', 'fantasy', 'scifi']\", \"['crime', 'thriller', 'drama', 'fantasy']\", \"['crime', 'thriller', 'drama']\", \"['crime', 'thriller', 'european']\", \"['crime', 'thriller', 'western', 'action', 'drama']\", \"['crime', 'thriller']\", \"['crime', 'war', 'comedy', 'drama']\", \"['crime']\", \"['documentation', 'action', 'drama', 'history', 'war']\", \"['documentation', 'action', 'european']\", \"['documentation', 'action']\", \"['documentation', 'animation']\", \"['documentation', 'comedy', 'drama']\", \"['documentation', 'comedy', 'history']\", \"['documentation', 'comedy', 'music']\", \"['documentation', 'comedy', 'romance']\", \"['documentation', 'comedy']\", \"['documentation', 'crime', 'action']\", \"['documentation', 'crime', 'drama', 'romance', 'action']\", \"['documentation', 'crime', 'drama']\", \"['documentation', 'crime', 'european']\", \"['documentation', 'crime', 'history', 'drama', 'fantasy', 'european']\", \"['documentation', 'crime', 'history', 'music']\", \"['documentation', 'crime', 'history', 'sport']\", \"['documentation', 'crime', 'history']\", \"['documentation', 'crime', 'music']\", \"['documentation', 'crime', 'sport']\", \"['documentation', 'crime', 'thriller', 'drama']\", \"['documentation', 'crime', 'thriller', 'history']\", \"['documentation', 'crime', 'thriller']\", \"['documentation', 'crime', 'war', 'thriller', 'comedy', 'drama']\", \"['documentation', 'crime']\", \"['documentation', 'drama', 'comedy', 'family']\", \"['documentation', 'drama', 'family', 'european']\", \"['documentation', 'drama', 'family']\", \"['documentation', 'drama', 'history', 'romance', 'european']\", \"['documentation', 'drama', 'history']\", \"['documentation', 'drama']\", \"['documentation', 'european', 'drama', 'family']\", \"['documentation', 'european']\", \"['documentation', 'family', 'history']\", \"['documentation', 'family']\", \"['documentation', 'fantasy', 'european']\", \"['documentation', 'history', 'crime']\", \"['documentation', 'history', 'european']\", \"['documentation', 'history', 'reality']\", \"['documentation', 'history', 'sport']\", \"['documentation', 'history', 'war', 'european']\", \"['documentation', 'history', 'war']\", \"['documentation', 'history']\", \"['documentation', 'horror', 'european']\", \"['documentation', 'horror', 'reality']\", \"['documentation', 'music', 'comedy', 'history']\", \"['documentation', 'music', 'drama']\", \"['documentation', 'music', 'history']\", \"['documentation', 'music', 'reality']\", \"['documentation', 'music']\", \"['documentation', 'reality']\", \"['documentation', 'scifi', 'animation']\", \"['documentation', 'sport', 'comedy', 'drama']\", \"['documentation', 'sport', 'crime']\", \"['documentation', 'sport', 'european']\", \"['documentation', 'sport', 'reality']\", \"['documentation', 'sport', 'war']\", \"['documentation', 'sport']\", \"['documentation', 'thriller', 'crime']\", \"['documentation', 'thriller', 'reality']\", \"['documentation', 'thriller', 'sport']\", \"['documentation', 'thriller', 'war', 'crime', 'drama']\", \"['documentation', 'thriller']\", \"['documentation', 'war', 'history']\", \"['documentation', 'war']\", \"['documentation']\", \"['drama', 'action', 'animation', 'comedy', 'crime']\", \"['drama', 'action', 'comedy', 'crime']\", \"['drama', 'action', 'comedy', 'family']\", \"['drama', 'action', 'comedy', 'romance', 'crime']\", \"['drama', 'action', 'comedy', 'romance', 'thriller']\", \"['drama', 'action', 'comedy', 'scifi']\", \"['drama', 'action', 'comedy']\", \"['drama', 'action', 'crime', 'comedy']\", \"['drama', 'action', 'crime', 'european']\", \"['drama', 'action', 'crime', 'history']\", \"['drama', 'action', 'crime', 'romance', 'thriller']\", \"['drama', 'action', 'crime', 'sport', 'thriller']\", \"['drama', 'action', 'crime', 'thriller', 'comedy']\", \"['drama', 'action', 'crime', 'thriller', 'western']\", \"['drama', 'action', 'crime', 'thriller']\", \"['drama', 'action', 'crime']\", \"['drama', 'action', 'fantasy', 'history', 'romance']\", \"['drama', 'action', 'fantasy']\", \"['drama', 'action', 'history', 'romance']\", \"['drama', 'action', 'history', 'sport']\", \"['drama', 'action', 'history', 'war', 'thriller']\", \"['drama', 'action', 'history']\", \"['drama', 'action', 'romance', 'comedy']\", \"['drama', 'action', 'romance']\", \"['drama', 'action', 'scifi', 'animation', 'fantasy', 'thriller']\", \"['drama', 'action', 'scifi', 'crime', 'thriller']\", \"['drama', 'action', 'scifi']\", \"['drama', 'action', 'sport', 'european']\", \"['drama', 'action', 'sport', 'thriller']\", \"['drama', 'action', 'thriller', 'crime', 'comedy']\", \"['drama', 'action', 'thriller', 'crime']\", \"['drama', 'action', 'thriller', 'european']\", \"['drama', 'action', 'thriller', 'fantasy', 'horror']\", \"['drama', 'action', 'thriller', 'scifi', 'comedy', 'fantasy', 'romance']\", \"['drama', 'action', 'thriller']\", \"['drama', 'action', 'war', 'history']\", \"['drama', 'action', 'war']\", \"['drama', 'action']\", \"['drama', 'animation', 'action', 'crime', 'sport']\", \"['drama', 'animation', 'action', 'family', 'fantasy', 'comedy', 'scifi', 'thriller', 'horror']\", \"['drama', 'animation', 'action', 'scifi']\", \"['drama', 'animation', 'comedy', 'romance']\", \"['drama', 'animation', 'family', 'comedy', 'fantasy']\", \"['drama', 'animation', 'family', 'fantasy', 'thriller', 'european']\", \"['drama', 'animation', 'family', 'music']\", \"['drama', 'animation', 'fantasy', 'thriller']\", \"['drama', 'animation', 'music']\", \"['drama', 'animation']\", \"['drama', 'comedy', 'action', 'crime', 'horror']\", \"['drama', 'comedy', 'action', 'crime', 'romance']\", \"['drama', 'comedy', 'action', 'documentation', 'european']\", \"['drama', 'comedy', 'action', 'fantasy', 'romance']\", \"['drama', 'comedy', 'animation']\", \"['drama', 'comedy', 'crime', 'documentation']\", \"['drama', 'comedy', 'crime', 'romance', 'action']\", \"['drama', 'comedy', 'crime', 'romance']\", \"['drama', 'comedy', 'crime', 'thriller']\", \"['drama', 'comedy', 'crime']\", \"['drama', 'comedy', 'european']\", \"['drama', 'comedy', 'family', 'romance']\", \"['drama', 'comedy', 'family']\", \"['drama', 'comedy', 'fantasy', 'european']\", \"['drama', 'comedy', 'fantasy', 'music']\", \"['drama', 'comedy', 'fantasy', 'romance']\", \"['drama', 'comedy', 'fantasy', 'thriller', 'animation']\", \"['drama', 'comedy', 'fantasy']\", \"['drama', 'comedy', 'history']\", \"['drama', 'comedy', 'horror', 'thriller']\", \"['drama', 'comedy', 'music', 'european']\", \"['drama', 'comedy', 'music', 'family', 'fantasy']\", \"['drama', 'comedy', 'music', 'family']\", \"['drama', 'comedy', 'music', 'romance']\", \"['drama', 'comedy', 'music']\", \"['drama', 'comedy', 'reality', 'family', 'documentation', 'music', 'european']\", \"['drama', 'comedy', 'reality']\", \"['drama', 'comedy', 'romance', 'action']\", \"['drama', 'comedy', 'romance', 'crime']\", \"['drama', 'comedy', 'romance', 'documentation', 'european']\", \"['drama', 'comedy', 'romance', 'european']\", \"['drama', 'comedy', 'romance', 'family']\", \"['drama', 'comedy', 'romance', 'fantasy']\", \"['drama', 'comedy', 'romance', 'music']\", \"['drama', 'comedy', 'romance', 'sport']\", \"['drama', 'comedy', 'romance', 'thriller', 'crime']\", \"['drama', 'comedy', 'romance']\", \"['drama', 'comedy', 'scifi', 'romance', 'fantasy']\", \"['drama', 'comedy', 'sport', 'european']\", \"['drama', 'comedy', 'sport', 'reality']\", \"['drama', 'comedy', 'sport']\", \"['drama', 'comedy', 'thriller', 'crime']\", \"['drama', 'comedy', 'thriller']\", \"['drama', 'comedy', 'war']\", \"['drama', 'comedy']\", \"['drama', 'crime', 'action', 'thriller', 'romance']\", \"['drama', 'crime', 'action', 'thriller']\", \"['drama', 'crime', 'action']\", \"['drama', 'crime', 'comedy']\", \"['drama', 'crime', 'documentation', 'comedy', 'history']\", \"['drama', 'crime', 'european']\", \"['drama', 'crime', 'family']\", \"['drama', 'crime', 'history', 'romance']\", \"['drama', 'crime', 'history', 'thriller']\", \"['drama', 'crime', 'history']\", \"['drama', 'crime', 'horror', 'thriller']\", \"['drama', 'crime', 'music']\", \"['drama', 'crime', 'romance', 'comedy']\", \"['drama', 'crime', 'romance']\", \"['drama', 'crime', 'sport', 'thriller', 'action']\", \"['drama', 'crime', 'sport']\", \"['drama', 'crime', 'thriller', 'action', 'european']\", \"['drama', 'crime', 'thriller', 'action']\", \"['drama', 'crime', 'thriller', 'documentation', 'action']\", \"['drama', 'crime', 'thriller', 'european']\", \"['drama', 'crime', 'thriller', 'horror', 'comedy']\", \"['drama', 'crime', 'thriller', 'horror', 'european']\", \"['drama', 'crime', 'thriller', 'romance']\", \"['drama', 'crime', 'thriller']\", \"['drama', 'crime']\", \"['drama', 'documentation', 'comedy']\", \"['drama', 'documentation', 'crime', 'thriller', 'history', 'war']\", \"['drama', 'documentation', 'crime']\", \"['drama', 'documentation', 'european']\", \"['drama', 'documentation', 'history', 'war']\", \"['drama', 'documentation', 'music']\", \"['drama', 'documentation', 'romance', 'crime']\", \"['drama', 'documentation', 'thriller', 'war']\", \"['drama', 'documentation']\", \"['drama', 'european', 'crime']\", \"['drama', 'european', 'family', 'war']\", \"['drama', 'european', 'history']\", \"['drama', 'european', 'romance', 'family', 'documentation']\", \"['drama', 'european']\", \"['drama', 'family', 'action', 'european']\", \"['drama', 'family', 'comedy', 'romance']\", \"['drama', 'family', 'comedy', 'sport']\", \"['drama', 'family', 'comedy']\", \"['drama', 'family', 'european']\", \"['drama', 'family', 'fantasy', 'action']\", \"['drama', 'family', 'fantasy', 'comedy']\", \"['drama', 'family', 'fantasy']\", \"['drama', 'family', 'history', 'european']\", \"['drama', 'family', 'music', 'action', 'comedy']\", \"['drama', 'family', 'music', 'comedy']\", \"['drama', 'family', 'music', 'documentation']\", \"['drama', 'family', 'music']\", \"['drama', 'family', 'romance', 'comedy', 'european']\", \"['drama', 'family', 'romance', 'comedy']\", \"['drama', 'family', 'romance']\", \"['drama', 'family', 'sport', 'action']\", \"['drama', 'family', 'sport']\", \"['drama', 'family']\", \"['drama', 'fantasy', 'action', 'comedy']\", \"['drama', 'fantasy', 'action', 'thriller']\", \"['drama', 'fantasy', 'animation', 'action', 'romance', 'horror']\", \"['drama', 'fantasy', 'comedy', 'history', 'action']\", \"['drama', 'fantasy', 'comedy']\", \"['drama', 'fantasy', 'documentation', 'animation', 'romance', 'scifi', 'family']\", \"['drama', 'fantasy', 'european']\", \"['drama', 'fantasy', 'history']\", \"['drama', 'fantasy', 'horror', 'thriller', 'european']\", \"['drama', 'fantasy', 'horror', 'thriller']\", \"['drama', 'fantasy', 'romance', 'sport', 'comedy']\", \"['drama', 'fantasy', 'romance']\", \"['drama', 'fantasy', 'scifi', 'action']\", \"['drama', 'fantasy', 'scifi', 'comedy']\", \"['drama', 'fantasy', 'thriller', 'scifi']\", \"['drama', 'fantasy']\", \"['drama', 'history', 'action']\", \"['drama', 'history', 'comedy', 'crime']\", \"['drama', 'history', 'comedy', 'romance']\", \"['drama', 'history', 'comedy', 'scifi']\", \"['drama', 'history', 'crime', 'european']\", \"['drama', 'history', 'documentation']\", \"['drama', 'history', 'european', 'romance', 'war']\", \"['drama', 'history', 'european']\", \"['drama', 'history', 'music', 'romance']\", \"['drama', 'history', 'reality']\", \"['drama', 'history', 'romance', 'documentation']\", \"['drama', 'history', 'romance', 'war', 'action']\", \"['drama', 'history', 'romance', 'war', 'documentation', 'comedy', 'european']\", \"['drama', 'history', 'romance', 'war']\", \"['drama', 'history', 'romance']\", \"['drama', 'history', 'sport']\", \"['drama', 'history', 'thriller', 'crime']\", \"['drama', 'history', 'thriller', 'horror', 'action']\", \"['drama', 'history', 'thriller', 'war', 'action', 'european']\", \"['drama', 'history', 'thriller']\", \"['drama', 'history', 'war', 'animation', 'european']\", \"['drama', 'history', 'war', 'documentation', 'action']\", \"['drama', 'history', 'war', 'documentation']\", \"['drama', 'history', 'war', 'thriller', 'family']\", \"['drama', 'history']\", \"['drama', 'horror', 'crime']\", \"['drama', 'horror', 'fantasy']\", \"['drama', 'horror', 'music', 'thriller', 'crime']\", \"['drama', 'horror', 'scifi', 'romance', 'action']\", \"['drama', 'horror', 'thriller', 'european']\", \"['drama', 'horror', 'thriller', 'fantasy', 'european']\", \"['drama', 'horror', 'thriller']\", \"['drama', 'horror']\", \"['drama', 'music', 'comedy', 'romance']\", \"['drama', 'music', 'comedy']\", \"['drama', 'music', 'documentation']\", \"['drama', 'music', 'romance', 'comedy']\", \"['drama', 'music', 'romance', 'history']\", \"['drama', 'music', 'romance']\", \"['drama', 'music', 'thriller']\", \"['drama', 'music']\", \"['drama', 'reality', 'documentation', 'sport']\", \"['drama', 'romance', 'action', 'fantasy', 'family']\", \"['drama', 'romance', 'action', 'scifi']\", \"['drama', 'romance', 'action']\", \"['drama', 'romance', 'animation']\", \"['drama', 'romance', 'comedy', 'family']\", \"['drama', 'romance', 'comedy', 'fantasy']\", \"['drama', 'romance', 'comedy']\", \"['drama', 'romance', 'crime', 'action']\", \"['drama', 'romance', 'crime', 'thriller']\", \"['drama', 'romance', 'documentation']\", \"['drama', 'romance', 'european']\", \"['drama', 'romance', 'family', 'comedy']\", \"['drama', 'romance', 'family', 'documentation', 'sport']\", \"['drama', 'romance', 'family']\", \"['drama', 'romance', 'fantasy']\", \"['drama', 'romance', 'history', 'war', 'thriller']\", \"['drama', 'romance', 'history']\", \"['drama', 'romance', 'music', 'comedy']\", \"['drama', 'romance', 'music', 'european']\", \"['drama', 'romance', 'music']\", \"['drama', 'romance', 'scifi', 'european']\", \"['drama', 'romance', 'scifi', 'thriller', 'comedy']\", \"['drama', 'romance', 'sport', 'thriller']\", \"['drama', 'romance', 'sport']\", \"['drama', 'romance', 'thriller', 'action', 'crime', 'european']\", \"['drama', 'romance', 'thriller', 'action', 'crime']\", \"['drama', 'romance', 'thriller', 'comedy']\", \"['drama', 'romance', 'thriller', 'fantasy']\", \"['drama', 'romance', 'thriller', 'horror']\", \"['drama', 'romance', 'thriller']\", \"['drama', 'romance', 'war', 'european']\", \"['drama', 'romance', 'western']\", \"['drama', 'romance']\", \"['drama', 'scifi', 'action', 'animation', 'fantasy', 'thriller']\", \"['drama', 'scifi', 'action', 'comedy']\", \"['drama', 'scifi', 'action', 'thriller', 'family']\", \"['drama', 'scifi', 'action', 'thriller']\", \"['drama', 'scifi', 'animation', 'action', 'fantasy', 'thriller']\", \"['drama', 'scifi', 'comedy', 'fantasy']\", \"['drama', 'scifi', 'comedy']\", \"['drama', 'scifi', 'crime']\", \"['drama', 'scifi', 'family', 'animation', 'action']\", \"['drama', 'scifi', 'family']\", \"['drama', 'scifi', 'fantasy', 'action']\", \"['drama', 'scifi', 'fantasy', 'horror']\", \"['drama', 'scifi', 'fantasy']\", \"['drama', 'scifi', 'horror', 'fantasy', 'thriller']\", \"['drama', 'scifi', 'horror', 'romance', 'thriller', 'fantasy']\", \"['drama', 'scifi', 'horror', 'thriller', 'action']\", \"['drama', 'scifi', 'horror', 'thriller']\", \"['drama', 'scifi', 'reality']\", \"['drama', 'scifi', 'romance']\", \"['drama', 'scifi', 'thriller', 'action', 'crime']\", \"['drama', 'scifi', 'thriller', 'action']\", \"['drama', 'scifi', 'thriller', 'crime', 'action']\", \"['drama', 'scifi', 'thriller', 'fantasy']\", \"['drama', 'scifi', 'thriller', 'romance']\", \"['drama', 'scifi', 'thriller']\", \"['drama', 'scifi']\", \"['drama', 'sport', 'comedy']\", \"['drama', 'sport', 'romance']\", \"['drama', 'sport', 'thriller']\", \"['drama', 'sport']\", \"['drama', 'thriller', 'action', 'animation']\", \"['drama', 'thriller', 'action', 'comedy']\", \"['drama', 'thriller', 'action', 'crime', 'european']\", \"['drama', 'thriller', 'action', 'crime']\", \"['drama', 'thriller', 'action', 'european']\", \"['drama', 'thriller', 'action', 'fantasy', 'horror', 'romance']\", \"['drama', 'thriller', 'action', 'fantasy', 'horror']\", \"['drama', 'thriller', 'action', 'fantasy']\", \"['drama', 'thriller', 'action', 'scifi', 'crime']\", \"['drama', 'thriller', 'action', 'scifi', 'fantasy']\", \"['drama', 'thriller', 'action', 'sport', 'european']\", \"['drama', 'thriller', 'action', 'sport']\", \"['drama', 'thriller', 'action']\", \"['drama', 'thriller', 'animation', 'fantasy', 'scifi']\", \"['drama', 'thriller', 'comedy', 'action', 'history', 'romance']\", \"['drama', 'thriller', 'comedy', 'crime', 'european']\", \"['drama', 'thriller', 'comedy', 'crime']\", \"['drama', 'thriller', 'comedy']\", \"['drama', 'thriller', 'crime', 'action', 'european']\", \"['drama', 'thriller', 'crime', 'action']\", \"['drama', 'thriller', 'crime', 'comedy', 'european']\", \"['drama', 'thriller', 'crime', 'european']\", \"['drama', 'thriller', 'crime', 'fantasy', 'horror']\", \"['drama', 'thriller', 'crime', 'fantasy', 'scifi']\", \"['drama', 'thriller', 'crime', 'history', 'european']\", \"['drama', 'thriller', 'crime']\", \"['drama', 'thriller', 'documentation']\", \"['drama', 'thriller', 'european', 'romance']\", \"['drama', 'thriller', 'european']\", \"['drama', 'thriller', 'family', 'crime']\", \"['drama', 'thriller', 'fantasy', 'crime']\", \"['drama', 'thriller', 'fantasy', 'horror', 'scifi', 'european']\", \"['drama', 'thriller', 'fantasy', 'horror']\", \"['drama', 'thriller', 'fantasy', 'romance', 'documentation']\", \"['drama', 'thriller', 'fantasy']\", \"['drama', 'thriller', 'history', 'crime', 'war', 'romance']\", \"['drama', 'thriller', 'history']\", \"['drama', 'thriller', 'horror', 'scifi']\", \"['drama', 'thriller', 'horror']\", \"['drama', 'thriller', 'music', 'european']\", \"['drama', 'thriller', 'reality']\", \"['drama', 'thriller', 'romance', 'action']\", \"['drama', 'thriller', 'romance', 'comedy']\", \"['drama', 'thriller', 'romance', 'family']\", \"['drama', 'thriller', 'romance']\", \"['drama', 'thriller', 'scifi', 'action']\", \"['drama', 'thriller', 'scifi', 'fantasy']\", \"['drama', 'thriller', 'scifi', 'horror', 'fantasy']\", \"['drama', 'thriller', 'scifi', 'horror']\", \"['drama', 'thriller', 'scifi']\", \"['drama', 'thriller', 'war', 'action']\", \"['drama', 'thriller', 'war']\", \"['drama', 'thriller', 'western']\", \"['drama', 'thriller']\", \"['drama', 'war', 'action', 'history']\", \"['drama', 'war', 'action', 'thriller', 'history', 'european']\", \"['drama', 'war', 'action']\", \"['drama', 'war', 'crime', 'european']\", \"['drama', 'war', 'european']\", \"['drama', 'war', 'history', 'documentation', 'european']\", \"['drama', 'war', 'history']\", \"['drama', 'war', 'thriller', 'crime']\", \"['drama', 'war']\", \"['drama', 'western', 'crime', 'action']\", \"['drama', 'western', 'documentation', 'action', 'crime']\", \"['drama']\", \"['family', 'action', 'animation', 'comedy', 'fantasy', 'music', 'thriller', 'drama']\", \"['family', 'action', 'animation', 'comedy']\", \"['family', 'action', 'animation', 'fantasy', 'scifi', 'comedy']\", \"['family', 'action', 'comedy']\", \"['family', 'action', 'drama', 'sport']\", \"['family', 'action', 'drama']\", \"['family', 'animation', 'action', 'comedy', 'drama', 'thriller', 'fantasy', 'scifi']\", \"['family', 'animation', 'action', 'comedy', 'scifi']\", \"['family', 'animation', 'action', 'comedy']\", \"['family', 'animation', 'action', 'drama', 'comedy', 'crime']\", \"['family', 'animation', 'comedy', 'fantasy', 'european']\", \"['family', 'animation', 'comedy', 'fantasy']\", \"['family', 'animation', 'comedy', 'horror', 'fantasy']\", \"['family', 'animation', 'comedy']\", \"['family', 'animation', 'drama', 'fantasy']\", \"['family', 'animation', 'fantasy']\", \"['family', 'animation', 'scifi', 'action', 'fantasy', 'european']\", \"['family', 'animation', 'scifi', 'comedy', 'fantasy']\", \"['family', 'animation']\", \"['family', 'comedy', 'action', 'fantasy', 'sport']\", \"['family', 'comedy', 'animation', 'drama']\", \"['family', 'comedy', 'animation', 'fantasy', 'scifi']\", \"['family', 'comedy', 'drama', 'sport']\", \"['family', 'comedy', 'drama']\", \"['family', 'comedy', 'european']\", \"['family', 'comedy', 'fantasy']\", \"['family', 'comedy', 'romance']\", \"['family', 'comedy', 'sport']\", \"['family', 'comedy']\", \"['family', 'crime', 'drama', 'romance', 'thriller']\", \"['family', 'drama', 'action', 'thriller']\", \"['family', 'drama', 'comedy', 'music', 'romance']\", \"['family', 'drama', 'comedy', 'sport']\", \"['family', 'drama', 'documentation', 'sport']\", \"['family', 'drama', 'history', 'european']\", \"['family', 'drama', 'romance']\", \"['family', 'drama', 'sport', 'fantasy']\", \"['family', 'drama']\", \"['family', 'fantasy', 'action', 'comedy', 'drama']\", \"['family', 'fantasy', 'animation', 'action', 'comedy']\", \"['family', 'fantasy', 'animation', 'action', 'scifi']\", \"['family', 'fantasy', 'animation', 'comedy']\", \"['family', 'fantasy', 'animation']\", \"['family', 'fantasy', 'comedy', 'action']\", \"['family', 'fantasy', 'comedy', 'animation', 'horror', 'european']\", \"['family', 'fantasy', 'comedy', 'animation', 'scifi']\", \"['family', 'fantasy', 'horror']\", \"['family', 'fantasy', 'romance', 'animation', 'action']\", \"['family', 'fantasy', 'scifi', 'action', 'drama', 'animation', 'comedy']\", \"['family', 'fantasy', 'scifi', 'animation', 'action', 'comedy']\", \"['family', 'fantasy', 'scifi', 'animation', 'comedy', 'action']\", \"['family', 'music', 'animation', 'comedy']\", \"['family', 'music', 'comedy']\", \"['family', 'reality']\", \"['family', 'romance', 'comedy', 'drama']\", \"['family', 'romance', 'comedy']\", \"['family', 'romance', 'drama', 'comedy']\", \"['family', 'romance']\", \"['family', 'sport']\", \"['family']\", \"['fantasy', 'action', 'animation', 'romance', 'comedy']\", \"['fantasy', 'action', 'animation']\", \"['fantasy', 'action', 'comedy', 'drama', 'animation']\", \"['fantasy', 'action', 'comedy', 'thriller']\", \"['fantasy', 'action', 'comedy']\", \"['fantasy', 'action', 'crime', 'drama']\", \"['fantasy', 'action', 'drama', 'animation']\", \"['fantasy', 'action', 'family', 'animation', 'thriller', 'scifi', 'comedy', 'drama', 'european']\", \"['fantasy', 'action', 'family', 'comedy', 'animation', 'crime', 'drama']\", \"['fantasy', 'action', 'family', 'comedy', 'drama', 'european']\", \"['fantasy', 'action', 'horror', 'thriller']\", \"['fantasy', 'action', 'thriller']\", \"['fantasy', 'action']\", \"['fantasy', 'animation', 'action', 'comedy', 'scifi']\", \"['fantasy', 'animation', 'action', 'comedy']\", \"['fantasy', 'animation', 'action']\", \"['fantasy', 'animation', 'comedy', 'family']\", \"['fantasy', 'animation', 'drama', 'family', 'comedy']\", \"['fantasy', 'animation', 'drama', 'family']\", \"['fantasy', 'animation', 'drama', 'romance']\", \"['fantasy', 'animation', 'family', 'comedy', 'romance']\", \"['fantasy', 'animation', 'family']\", \"['fantasy', 'animation']\", \"['fantasy', 'comedy', 'european']\", \"['fantasy', 'comedy', 'family', 'animation', 'european']\", \"['fantasy', 'comedy', 'family', 'animation']\", \"['fantasy', 'comedy', 'family', 'romance', 'animation']\", \"['fantasy', 'comedy', 'family']\", \"['fantasy', 'comedy', 'romance']\", \"['fantasy', 'drama', 'action']\", \"['fantasy', 'drama', 'comedy']\", \"['fantasy', 'drama', 'european']\", \"['fantasy', 'drama', 'family', 'action', 'comedy']\", \"['fantasy', 'drama', 'family', 'action']\", \"['fantasy', 'drama', 'romance', 'animation', 'european']\", \"['fantasy', 'drama', 'romance', 'animation', 'family']\", \"['fantasy', 'drama', 'romance']\", \"['fantasy', 'family', 'animation', 'comedy', 'drama']\", \"['fantasy', 'family', 'animation', 'european']\", \"['fantasy', 'family', 'comedy']\", \"['fantasy', 'family']\", \"['fantasy', 'horror', 'action', 'drama', 'scifi']\", \"['fantasy', 'horror', 'comedy', 'drama', 'thriller']\", \"['fantasy', 'horror', 'drama', 'european']\", \"['fantasy', 'horror', 'drama']\", \"['fantasy', 'horror', 'family', 'comedy']\", \"['fantasy', 'horror', 'romance']\", \"['fantasy', 'horror', 'thriller', 'action', 'drama']\", \"['fantasy', 'horror', 'thriller', 'drama']\", \"['fantasy', 'music', 'family']\", \"['fantasy', 'music', 'romance', 'scifi', 'drama', 'family']\", \"['fantasy', 'reality', 'comedy']\", \"['fantasy', 'romance', 'comedy', 'drama']\", \"['fantasy', 'scifi', 'action']\", \"['fantasy', 'scifi', 'drama']\", \"['fantasy', 'scifi', 'thriller', 'action', 'drama']\", \"['fantasy', 'thriller', 'animation', 'action']\", \"['fantasy', 'thriller', 'drama', 'action', 'scifi']\", \"['fantasy', 'thriller', 'drama', 'romance', 'european']\", \"['fantasy', 'thriller', 'horror', 'drama', 'romance']\", \"['fantasy', 'thriller', 'scifi', 'crime', 'action']\", \"['fantasy']\", \"['history', 'action', 'drama', 'sport']\", \"['history', 'action', 'war', 'drama']\", \"['history', 'documentation', 'crime']\", \"['history', 'documentation', 'european']\", \"['history', 'documentation']\", \"['history', 'drama', 'action', 'thriller', 'comedy', 'documentation']\", \"['history', 'drama', 'fantasy']\", \"['history', 'drama', 'thriller']\", \"['history', 'drama']\", \"['history', 'music', 'romance', 'drama']\", \"['history', 'romance', 'action', 'drama', 'family']\", \"['history', 'thriller', 'documentation', 'crime']\", \"['history', 'thriller', 'drama']\", \"['history', 'war', 'drama', 'romance']\", \"['history', 'war', 'romance', 'action', 'drama']\", \"['horror', 'action', 'scifi', 'thriller', 'drama', 'european']\", \"['horror', 'action']\", \"['horror', 'comedy', 'european']\", \"['horror', 'comedy', 'family']\", \"['horror', 'comedy', 'fantasy']\", \"['horror', 'comedy', 'thriller', 'fantasy']\", \"['horror', 'comedy', 'thriller']\", \"['horror', 'comedy']\", \"['horror', 'crime', 'thriller', 'drama']\", \"['horror', 'crime']\", \"['horror', 'drama', 'documentation', 'crime', 'thriller']\", \"['horror', 'drama', 'fantasy', 'european']\", \"['horror', 'drama', 'romance']\", \"['horror', 'drama', 'thriller']\", \"['horror', 'drama']\", \"['horror', 'fantasy', 'thriller']\", \"['horror', 'reality', 'thriller', 'documentation']\", \"['horror', 'romance']\", \"['horror', 'scifi', 'crime', 'drama', 'fantasy']\", \"['horror', 'scifi', 'drama', 'fantasy']\", \"['horror', 'scifi', 'thriller', 'action', 'crime', 'fantasy', 'animation']\", \"['horror', 'scifi', 'thriller']\", \"['horror', 'thriller', 'action', 'drama']\", \"['horror', 'thriller', 'action', 'scifi', 'european']\", \"['horror', 'thriller', 'action']\", \"['horror', 'thriller', 'animation', 'drama', 'fantasy', 'european']\", \"['horror', 'thriller', 'comedy', 'fantasy', 'european']\", \"['horror', 'thriller', 'comedy']\", \"['horror', 'thriller', 'crime', 'drama']\", \"['horror', 'thriller', 'crime', 'fantasy', 'drama', 'action']\", \"['horror', 'thriller', 'crime', 'scifi', 'action']\", \"['horror', 'thriller', 'crime']\", \"['horror', 'thriller', 'documentation', 'war', 'european']\", \"['horror', 'thriller', 'drama', 'european']\", \"['horror', 'thriller', 'drama', 'fantasy', 'scifi']\", \"['horror', 'thriller', 'drama', 'music']\", \"['horror', 'thriller', 'drama', 'romance', 'fantasy', 'european']\", \"['horror', 'thriller', 'drama']\", \"['horror', 'thriller', 'european']\", \"['horror', 'thriller', 'fantasy']\", \"['horror', 'thriller', 'romance', 'fantasy', 'drama']\", \"['horror', 'thriller', 'scifi', 'drama', 'action']\", \"['horror', 'thriller', 'scifi', 'drama', 'fantasy']\", \"['horror', 'thriller', 'scifi']\", \"['horror', 'thriller']\", \"['horror']\", \"['music', 'action', 'animation', 'family', 'fantasy', 'comedy', 'drama', 'scifi']\", \"['music', 'comedy', 'drama']\", \"['music', 'comedy', 'family']\", \"['music', 'comedy', 'fantasy', 'family']\", \"['music', 'comedy', 'scifi']\", \"['music', 'comedy']\", \"['music', 'documentation', 'comedy']\", \"['music', 'documentation']\", \"['music', 'drama', 'crime']\", \"['music', 'drama', 'thriller']\", \"['music', 'drama']\", \"['music', 'family']\", \"['music', 'reality']\", \"['music', 'romance', 'drama', 'european']\", \"['music', 'romance', 'drama']\", \"['music']\", \"['reality', 'action']\", \"['reality', 'comedy', 'drama', 'scifi']\", \"['reality', 'comedy', 'history', 'documentation']\", \"['reality', 'comedy', 'horror', 'scifi']\", \"['reality', 'comedy', 'romance']\", \"['reality', 'comedy']\", \"['reality', 'documentation', 'comedy', 'european']\", \"['reality', 'documentation', 'comedy']\", \"['reality', 'documentation', 'thriller']\", \"['reality', 'documentation']\", \"['reality', 'drama']\", \"['reality', 'european']\", \"['reality', 'music']\", \"['reality', 'romance', 'documentation', 'comedy']\", \"['reality', 'romance', 'documentation']\", \"['reality', 'romance', 'european']\", \"['reality', 'romance']\", \"['reality', 'sport']\", \"['reality', 'war', 'action', 'drama', 'thriller']\", \"['reality']\", \"['romance', 'action', 'crime', 'drama', 'thriller']\", \"['romance', 'action', 'drama']\", \"['romance', 'action', 'thriller']\", \"['romance', 'comedy', 'action', 'fantasy']\", \"['romance', 'comedy', 'action', 'thriller', 'crime']\", \"['romance', 'comedy', 'action']\", \"['romance', 'comedy', 'crime', 'drama']\", \"['romance', 'comedy', 'crime']\", \"['romance', 'comedy', 'drama', 'action']\", \"['romance', 'comedy', 'drama', 'animation']\", \"['romance', 'comedy', 'drama', 'european']\", \"['romance', 'comedy', 'drama', 'family']\", \"['romance', 'comedy', 'drama', 'fantasy']\", \"['romance', 'comedy', 'drama', 'history']\", \"['romance', 'comedy', 'drama', 'war']\", \"['romance', 'comedy', 'drama']\", \"['romance', 'comedy', 'european']\", \"['romance', 'comedy', 'family', 'drama', 'fantasy']\", \"['romance', 'comedy', 'family', 'music']\", \"['romance', 'comedy', 'family']\", \"['romance', 'comedy', 'music']\", \"['romance', 'comedy', 'scifi']\", \"['romance', 'comedy', 'sport']\", \"['romance', 'comedy']\", \"['romance', 'crime', 'drama']\", \"['romance', 'crime', 'thriller', 'drama']\", \"['romance', 'documentation', 'comedy']\", \"['romance', 'documentation', 'drama', 'european']\", \"['romance', 'documentation', 'drama', 'history', 'war']\", \"['romance', 'drama', 'action', 'comedy']\", \"['romance', 'drama', 'action', 'sport']\", \"['romance', 'drama', 'action']\", \"['romance', 'drama', 'animation']\", \"['romance', 'drama', 'comedy', 'european']\", \"['romance', 'drama', 'comedy', 'fantasy']\", \"['romance', 'drama', 'comedy', 'scifi', 'thriller', 'fantasy', 'european']\", \"['romance', 'drama', 'comedy', 'war', 'european']\", \"['romance', 'drama', 'comedy']\", \"['romance', 'drama', 'european']\", \"['romance', 'drama', 'family', 'comedy']\", \"['romance', 'drama', 'fantasy', 'comedy']\", \"['romance', 'drama', 'fantasy', 'horror', 'scifi', 'thriller']\", \"['romance', 'drama', 'music', 'european']\", \"['romance', 'drama', 'music']\", \"['romance', 'drama', 'sport']\", \"['romance', 'drama', 'thriller']\", \"['romance', 'drama']\", \"['romance', 'european', 'comedy']\", \"['romance', 'european', 'drama']\", \"['romance', 'family', 'comedy']\", \"['romance', 'family', 'drama']\", \"['romance', 'family', 'fantasy', 'drama']\", \"['romance', 'family']\", \"['romance', 'history', 'war', 'action', 'drama']\", \"['romance', 'sport', 'comedy', 'drama']\", \"['romance', 'thriller', 'action', 'comedy', 'crime']\", \"['romance', 'thriller', 'action', 'crime', 'drama']\", \"['romance', 'thriller', 'comedy', 'drama']\", \"['romance', 'thriller', 'crime', 'drama']\", \"['romance', 'thriller', 'crime', 'european']\", \"['romance', 'thriller', 'drama', 'action', 'european']\", \"['romance', 'thriller', 'drama', 'crime', 'war']\", \"['romance', 'war', 'drama']\", \"['romance']\", \"['scifi', 'action', 'animation', 'comedy', 'crime']\", \"['scifi', 'action', 'animation', 'comedy', 'family', 'fantasy']\", \"['scifi', 'action', 'animation', 'comedy', 'family']\", \"['scifi', 'action', 'animation', 'comedy', 'fantasy']\", \"['scifi', 'action', 'animation', 'crime', 'drama', 'thriller']\", \"['scifi', 'action', 'animation', 'drama', 'fantasy']\", \"['scifi', 'action', 'animation', 'drama', 'war', 'thriller']\", \"['scifi', 'action', 'animation', 'drama', 'western', 'fantasy', 'thriller', 'romance', 'comedy']\", \"['scifi', 'action', 'animation', 'fantasy', 'thriller', 'horror', 'drama']\", \"['scifi', 'action', 'animation', 'fantasy', 'thriller']\", \"['scifi', 'action', 'animation', 'fantasy']\", \"['scifi', 'action', 'animation', 'horror', 'fantasy', 'thriller']\", \"['scifi', 'action', 'animation']\", \"['scifi', 'action', 'comedy', 'crime', 'fantasy', 'thriller']\", \"['scifi', 'action', 'comedy', 'drama', 'fantasy']\", \"['scifi', 'action', 'comedy', 'family', 'fantasy', 'animation']\", \"['scifi', 'action', 'comedy', 'fantasy', 'horror', 'animation']\", \"['scifi', 'action', 'comedy', 'fantasy', 'horror']\", \"['scifi', 'action', 'comedy', 'fantasy']\", \"['scifi', 'action', 'comedy']\", \"['scifi', 'action', 'crime', 'drama', 'fantasy']\", \"['scifi', 'action', 'crime', 'drama']\", \"['scifi', 'action', 'crime', 'fantasy', 'horror']\", \"['scifi', 'action', 'crime', 'thriller', 'drama']\", \"['scifi', 'action', 'crime', 'thriller']\", \"['scifi', 'action', 'drama', 'animation', 'fantasy']\", \"['scifi', 'action', 'drama', 'fantasy', 'comedy', 'crime']\", \"['scifi', 'action', 'drama', 'fantasy', 'thriller', 'music']\", \"['scifi', 'action', 'drama', 'fantasy', 'thriller']\", \"['scifi', 'action', 'drama', 'horror']\", \"['scifi', 'action', 'drama', 'thriller', 'fantasy']\", \"['scifi', 'action', 'drama', 'thriller']\", \"['scifi', 'action', 'drama']\", \"['scifi', 'action', 'family', 'fantasy', 'animation', 'comedy', 'drama']\", \"['scifi', 'action', 'family', 'fantasy', 'romance', 'comedy', 'drama']\", \"['scifi', 'action', 'fantasy', 'animation']\", \"['scifi', 'action', 'fantasy', 'comedy', 'drama', 'animation', 'family']\", \"['scifi', 'action', 'fantasy', 'horror', 'drama']\", \"['scifi', 'action', 'fantasy', 'horror', 'family', 'animation', 'drama']\", \"['scifi', 'action', 'fantasy', 'romance', 'animation', 'comedy', 'drama']\", \"['scifi', 'action', 'horror', 'drama', 'fantasy']\", \"['scifi', 'action', 'thriller', 'drama', 'european']\", \"['scifi', 'action', 'thriller']\", \"['scifi', 'action']\", \"['scifi', 'animation', 'action', 'comedy', 'drama', 'family', 'fantasy', 'romance']\", \"['scifi', 'animation', 'action', 'comedy', 'drama', 'fantasy', 'horror', 'thriller']\", \"['scifi', 'animation', 'action', 'comedy', 'family', 'fantasy', 'western']\", \"['scifi', 'animation', 'action', 'comedy']\", \"['scifi', 'animation', 'action', 'drama', 'romance']\", \"['scifi', 'animation', 'action', 'drama', 'thriller']\", \"['scifi', 'animation', 'action', 'drama', 'war']\", \"['scifi', 'animation', 'action', 'family', 'fantasy']\", \"['scifi', 'animation', 'action']\", \"['scifi', 'animation', 'comedy', 'action', 'drama', 'family', 'fantasy']\", \"['scifi', 'animation', 'comedy', 'action', 'fantasy']\", \"['scifi', 'animation', 'comedy', 'drama', 'family', 'fantasy']\", \"['scifi', 'animation', 'comedy', 'drama']\", \"['scifi', 'animation', 'comedy', 'fantasy', 'family', 'action', 'drama']\", \"['scifi', 'animation', 'crime', 'drama', 'thriller', 'action']\", \"['scifi', 'animation', 'drama', 'action', 'horror']\", \"['scifi', 'animation', 'drama', 'fantasy', 'romance']\", \"['scifi', 'animation', 'drama', 'fantasy']\", \"['scifi', 'animation', 'drama', 'thriller', 'comedy', 'fantasy', 'action', 'horror', 'crime']\", \"['scifi', 'animation', 'family', 'action', 'comedy', 'fantasy', 'drama']\", \"['scifi', 'animation', 'family', 'action', 'comedy', 'fantasy']\", \"['scifi', 'animation', 'family', 'fantasy']\", \"['scifi', 'animation', 'fantasy']\", \"['scifi', 'comedy', 'animation', 'fantasy']\", \"['scifi', 'comedy', 'drama', 'family', 'fantasy']\", \"['scifi', 'comedy', 'drama', 'fantasy']\", \"['scifi', 'comedy', 'drama', 'horror', 'thriller']\", \"['scifi', 'comedy', 'drama']\", \"['scifi', 'comedy', 'family', 'animation']\", \"['scifi', 'comedy', 'fantasy', 'action']\", \"['scifi', 'comedy', 'fantasy', 'animation', 'action']\", \"['scifi', 'comedy', 'fantasy']\", \"['scifi', 'comedy', 'romance', 'drama']\", \"['scifi', 'comedy', 'thriller', 'animation', 'action', 'european']\", \"['scifi', 'comedy']\", \"['scifi', 'crime', 'drama', 'fantasy', 'horror', 'thriller']\", \"['scifi', 'crime', 'drama', 'fantasy']\", \"['scifi', 'crime', 'drama', 'thriller']\", \"['scifi', 'crime', 'drama']\", \"['scifi', 'crime', 'fantasy', 'romance', 'comedy']\", \"['scifi', 'crime', 'thriller']\", \"['scifi', 'drama', 'action', 'animation']\", \"['scifi', 'drama', 'action', 'fantasy']\", \"['scifi', 'drama', 'action', 'thriller', 'horror', 'crime', 'fantasy', 'romance']\", \"['scifi', 'drama', 'action', 'thriller', 'romance']\", \"['scifi', 'drama', 'action', 'thriller']\", \"['scifi', 'drama', 'action']\", \"['scifi', 'drama', 'animation', 'action']\", \"['scifi', 'drama', 'animation', 'music']\", \"['scifi', 'drama', 'animation', 'romance', 'action', 'horror']\", \"['scifi', 'drama', 'family', 'fantasy']\", \"['scifi', 'drama', 'fantasy', 'action']\", \"['scifi', 'drama', 'fantasy', 'crime']\", \"['scifi', 'drama', 'fantasy', 'horror', 'action', 'comedy', 'thriller']\", \"['scifi', 'drama', 'fantasy', 'horror', 'thriller']\", \"['scifi', 'drama', 'fantasy', 'horror']\", \"['scifi', 'drama', 'fantasy', 'music']\", \"['scifi', 'drama', 'fantasy', 'romance', 'family']\", \"['scifi', 'drama', 'fantasy', 'romance']\", \"['scifi', 'drama', 'fantasy', 'thriller']\", \"['scifi', 'drama', 'fantasy']\", \"['scifi', 'drama', 'horror', 'romance', 'thriller']\", \"['scifi', 'drama', 'horror']\", \"['scifi', 'drama', 'romance', 'comedy']\", \"['scifi', 'drama', 'romance']\", \"['scifi', 'drama', 'thriller', 'fantasy', 'horror']\", \"['scifi', 'drama', 'thriller']\", \"['scifi', 'drama']\", \"['scifi', 'family', 'animation', 'action', 'comedy', 'fantasy', 'drama']\", \"['scifi', 'family', 'animation', 'action']\", \"['scifi', 'family', 'animation', 'fantasy', 'horror', 'drama', 'action']\", \"['scifi', 'family', 'fantasy', 'comedy']\", \"['scifi', 'family', 'fantasy', 'drama']\", \"['scifi', 'family', 'fantasy', 'european']\", \"['scifi', 'family']\", \"['scifi', 'fantasy', 'action', 'drama']\", \"['scifi', 'fantasy', 'animation', 'comedy', 'family']\", \"['scifi', 'fantasy', 'comedy', 'drama']\", \"['scifi', 'fantasy', 'drama', 'family', 'animation', 'comedy']\", \"['scifi', 'fantasy', 'horror', 'animation', 'action']\", \"['scifi', 'fantasy', 'horror', 'drama']\", \"['scifi', 'fantasy', 'music', 'comedy', 'drama', 'family', 'documentation']\", \"['scifi', 'fantasy', 'romance', 'sport', 'thriller', 'animation', 'action', 'drama']\", \"['scifi', 'fantasy', 'romance']\", \"['scifi', 'fantasy', 'thriller', 'action', 'drama', 'war']\", \"['scifi', 'horror', 'crime', 'thriller', 'action', 'fantasy', 'animation', 'drama']\", \"['scifi', 'horror', 'drama', 'thriller']\", \"['scifi', 'horror', 'thriller', 'crime', 'drama', 'fantasy']\", \"['scifi', 'horror', 'thriller', 'drama', 'fantasy']\", \"['scifi', 'horror', 'thriller', 'family', 'drama', 'fantasy']\", \"['scifi', 'horror', 'thriller']\", \"['scifi', 'horror']\", \"['scifi', 'reality', 'sport', 'documentation']\", \"['scifi', 'reality', 'thriller', 'comedy', 'drama', 'horror', 'european']\", \"['scifi', 'romance', 'comedy', 'drama', 'fantasy']\", \"['scifi', 'romance', 'drama', 'fantasy']\", \"['scifi', 'romance', 'drama']\", \"['scifi', 'thriller', 'action', 'crime', 'drama']\", \"['scifi', 'thriller', 'action', 'crime']\", \"['scifi', 'thriller', 'action', 'drama', 'crime', 'european']\", \"['scifi', 'thriller', 'action', 'drama', 'family']\", \"['scifi', 'thriller', 'action', 'drama', 'horror']\", \"['scifi', 'thriller', 'action', 'drama']\", \"['scifi', 'thriller', 'action', 'horror']\", \"['scifi', 'thriller', 'action']\", \"['scifi', 'thriller', 'drama', 'action', 'crime', 'fantasy']\", \"['scifi', 'thriller', 'drama', 'action', 'crime']\", \"['scifi', 'thriller', 'drama', 'action']\", \"['scifi', 'thriller', 'drama', 'crime', 'horror']\", \"['scifi', 'thriller', 'drama', 'european']\", \"['scifi', 'thriller', 'drama', 'fantasy', 'horror']\", \"['scifi', 'thriller', 'drama', 'horror']\", \"['scifi', 'thriller', 'drama']\", \"['scifi', 'thriller', 'family', 'fantasy', 'action', 'crime', 'drama', 'history', 'horror']\", \"['scifi', 'thriller', 'family', 'fantasy', 'horror', 'music']\", \"['scifi', 'thriller', 'family']\", \"['scifi', 'thriller', 'fantasy', 'drama', 'romance']\", \"['scifi', 'thriller', 'fantasy', 'european']\", \"['scifi', 'thriller', 'horror', 'documentation']\", \"['scifi', 'thriller', 'horror', 'drama', 'fantasy']\", \"['scifi', 'thriller', 'horror', 'drama']\", \"['scifi', 'thriller', 'horror', 'european']\", \"['scifi', 'thriller', 'horror']\", \"['scifi', 'thriller', 'romance', 'drama']\", \"['scifi', 'thriller', 'war', 'action', 'drama']\", \"['scifi', 'thriller']\", \"['scifi', 'war', 'action']\", \"['scifi', 'war', 'drama']\", \"['scifi']\", \"['sport', 'crime', 'drama', 'history']\", \"['sport', 'documentation']\", \"['sport', 'drama']\", \"['thriller', 'action', 'animation', 'horror', 'scifi']\", \"['thriller', 'action', 'comedy', 'crime', 'drama']\", \"['thriller', 'action', 'comedy', 'crime']\", \"['thriller', 'action', 'comedy', 'drama', 'fantasy', 'scifi']\", \"['thriller', 'action', 'crime', 'drama', 'european']\", \"['thriller', 'action', 'crime', 'drama', 'romance']\", \"['thriller', 'action', 'crime', 'drama']\", \"['thriller', 'action', 'crime', 'european']\", \"['thriller', 'action', 'crime', 'history', 'european']\", \"['thriller', 'action', 'crime']\", \"['thriller', 'action', 'drama', 'crime', 'horror', 'european']\", \"['thriller', 'action', 'drama', 'crime', 'romance', 'sport']\", \"['thriller', 'action', 'drama', 'crime']\", \"['thriller', 'action', 'drama', 'fantasy', 'scifi']\", \"['thriller', 'action', 'drama', 'romance', 'crime']\", \"['thriller', 'action', 'drama', 'romance']\", \"['thriller', 'action', 'drama']\", \"['thriller', 'action', 'european']\", \"['thriller', 'action', 'fantasy', 'horror']\", \"['thriller', 'action', 'horror']\", \"['thriller', 'action', 'scifi', 'drama']\", \"['thriller', 'action', 'scifi', 'fantasy', 'family', 'european']\", \"['thriller', 'action', 'scifi', 'war', 'drama', 'european']\", \"['thriller', 'action', 'scifi']\", \"['thriller', 'action']\", \"['thriller', 'animation', 'comedy', 'drama', 'horror', 'fantasy']\", \"['thriller', 'animation', 'drama']\", \"['thriller', 'animation', 'family']\", \"['thriller', 'animation', 'fantasy', 'action', 'scifi', 'drama', 'family']\", \"['thriller', 'comedy', 'action']\", \"['thriller', 'comedy', 'crime']\", \"['thriller', 'comedy', 'drama', 'action']\", \"['thriller', 'comedy', 'drama', 'romance']\", \"['thriller', 'comedy', 'drama']\", \"['thriller', 'comedy', 'reality']\", \"['thriller', 'comedy']\", \"['thriller', 'crime', 'action', 'drama']\", \"['thriller', 'crime', 'action', 'european']\", \"['thriller', 'crime', 'action']\", \"['thriller', 'crime', 'drama', 'action', 'history', 'horror', 'romance']\", \"['thriller', 'crime', 'drama', 'action']\", \"['thriller', 'crime', 'drama', 'comedy']\", \"['thriller', 'crime', 'drama', 'european']\", \"['thriller', 'crime', 'drama', 'family']\", \"['thriller', 'crime', 'drama', 'history', 'european']\", \"['thriller', 'crime', 'drama', 'horror', 'action', 'european']\", \"['thriller', 'crime', 'drama', 'reality']\", \"['thriller', 'crime', 'drama', 'romance', 'action']\", \"['thriller', 'crime', 'drama', 'western']\", \"['thriller', 'crime', 'drama']\", \"['thriller', 'crime', 'european']\", \"['thriller', 'crime', 'horror', 'action', 'drama']\", \"['thriller', 'crime', 'horror']\", \"['thriller', 'crime']\", \"['thriller', 'documentation', 'drama', 'crime']\", \"['thriller', 'documentation', 'drama']\", \"['thriller', 'drama', 'action', 'comedy', 'fantasy', 'romance']\", \"['thriller', 'drama', 'action', 'crime', 'european']\", \"['thriller', 'drama', 'action', 'crime']\", \"['thriller', 'drama', 'action', 'scifi', 'crime']\", \"['thriller', 'drama', 'action']\", \"['thriller', 'drama', 'comedy', 'crime', 'horror', 'romance']\", \"['thriller', 'drama', 'comedy', 'crime', 'music']\", \"['thriller', 'drama', 'crime', 'action']\", \"['thriller', 'drama', 'crime', 'european']\", \"['thriller', 'drama', 'crime', 'fantasy']\", \"['thriller', 'drama', 'crime', 'horror', 'comedy']\", \"['thriller', 'drama', 'crime']\", \"['thriller', 'drama', 'european']\", \"['thriller', 'drama', 'family']\", \"['thriller', 'drama', 'fantasy', 'horror']\", \"['thriller', 'drama', 'fantasy']\", \"['thriller', 'drama', 'history', 'war', 'european']\", \"['thriller', 'drama', 'history', 'war']\", \"['thriller', 'drama', 'history']\", \"['thriller', 'drama', 'horror', 'action', 'crime', 'fantasy', 'european']\", \"['thriller', 'drama', 'horror', 'fantasy']\", \"['thriller', 'drama', 'horror', 'scifi', 'european']\", \"['thriller', 'drama', 'horror', 'scifi']\", \"['thriller', 'drama', 'horror']\", \"['thriller', 'drama', 'romance', 'comedy']\", \"['thriller', 'drama', 'romance', 'european']\", \"['thriller', 'drama', 'romance', 'sport', 'european']\", \"['thriller', 'drama', 'romance']\", \"['thriller', 'drama', 'scifi', 'fantasy', 'romance']\", \"['thriller', 'drama', 'scifi', 'fantasy']\", \"['thriller', 'drama', 'scifi', 'horror']\", \"['thriller', 'drama', 'scifi']\", \"['thriller', 'drama', 'war', 'european']\", \"['thriller', 'drama', 'war']\", \"['thriller', 'drama']\", \"['thriller', 'european', 'horror', 'drama']\", \"['thriller', 'european', 'scifi', 'crime', 'drama']\", \"['thriller', 'european']\", \"['thriller', 'family', 'drama', 'fantasy', 'horror', 'scifi']\", \"['thriller', 'family', 'fantasy', 'drama', 'horror', 'european']\", \"['thriller', 'family', 'horror', 'comedy']\", \"['thriller', 'fantasy', 'crime', 'drama', 'action', 'horror', 'european']\", \"['thriller', 'fantasy', 'drama', 'action', 'scifi', 'comedy']\", \"['thriller', 'fantasy']\", \"['thriller', 'history', 'romance', 'drama']\", \"['thriller', 'history', 'sport', 'european']\", \"['thriller', 'horror', 'animation', 'comedy', 'drama', 'family', 'fantasy']\", \"['thriller', 'horror', 'comedy', 'music']\", \"['thriller', 'horror', 'comedy']\", \"['thriller', 'horror', 'crime', 'drama']\", \"['thriller', 'horror', 'documentation']\", \"['thriller', 'horror', 'drama', 'comedy', 'crime']\", \"['thriller', 'horror', 'drama', 'comedy']\", \"['thriller', 'horror', 'drama', 'european']\", \"['thriller', 'horror', 'drama', 'fantasy']\", \"['thriller', 'horror', 'drama']\", \"['thriller', 'horror', 'family', 'drama', 'fantasy']\", \"['thriller', 'horror', 'fantasy', 'drama']\", \"['thriller', 'horror', 'romance', 'drama']\", \"['thriller', 'horror', 'scifi']\", \"['thriller', 'horror']\", \"['thriller', 'romance', 'crime', 'drama']\", \"['thriller', 'romance', 'drama', 'crime']\", \"['thriller', 'romance', 'drama']\", \"['thriller', 'romance']\", \"['thriller', 'scifi', 'drama', 'fantasy', 'horror']\", \"['thriller', 'scifi', 'drama', 'fantasy']\", \"['thriller', 'scifi', 'horror', 'action', 'fantasy']\", \"['thriller', 'scifi']\", \"['thriller', 'sport', 'action', 'crime', 'drama']\", \"['thriller', 'war', 'crime', 'action', 'drama', 'european']\", \"['thriller', 'war', 'drama', 'crime']\", \"['thriller', 'western', 'action', 'crime', 'drama']\", \"['thriller', 'western', 'drama', 'crime']\", \"['thriller']\", \"['war', 'action', 'drama', 'history', 'romance']\", \"['war', 'action', 'drama', 'romance']\", \"['war', 'action', 'drama', 'thriller']\", \"['war', 'action', 'drama']\", \"['war', 'action', 'scifi', 'animation', 'drama']\", \"['war', 'action']\", \"['war', 'comedy', 'drama', 'european']\", \"['war', 'crime', 'drama', 'thriller']\", \"['war', 'documentation', 'history', 'european']\", \"['war', 'documentation', 'history']\", \"['war', 'documentation', 'music', 'comedy']\", \"['war', 'documentation']\", \"['war', 'drama', 'action']\", \"['war', 'drama', 'european']\", \"['war', 'drama', 'history', 'european']\", \"['war', 'drama', 'history']\", \"['war', 'drama', 'horror', 'thriller', 'fantasy']\", \"['war', 'drama', 'thriller', 'action', 'history', 'european']\", \"['war', 'drama', 'thriller', 'action']\", \"['war', 'drama', 'thriller', 'crime', 'european']\", \"['war', 'drama', 'thriller', 'history']\", \"['war', 'drama', 'thriller']\", \"['war', 'drama']\", \"['war', 'fantasy', 'horror', 'thriller']\", \"['war', 'history', 'drama', 'action']\", \"['war', 'history', 'drama']\", \"['war', 'reality', 'animation', 'action', 'comedy', 'drama', 'family']\", \"['war', 'romance', 'drama', 'history', 'european']\", \"['war', 'romance', 'drama']\", \"['war', 'romance', 'thriller', 'drama', 'history', 'european']\", \"['war', 'thriller', 'drama']\", \"['war', 'thriller']\", \"['war']\", \"['western', 'action', 'european']\", \"['western', 'action', 'scifi', 'thriller', 'drama', 'fantasy']\", \"['western', 'comedy', 'action']\", \"['western', 'comedy', 'drama', 'romance']\", \"['western', 'crime', 'action', 'drama']\", \"['western', 'crime', 'drama']\", \"['western', 'drama', 'action', 'european']\", \"['western', 'drama', 'history']\", \"['western', 'drama', 'thriller', 'action']\", \"['western', 'drama']\", \"['western', 'fantasy', 'music']\", \"['western', 'history', 'drama']\", \"['western', 'horror', 'action']\", \"['western', 'thriller', 'horror']\", '[]']\n"
     ]
    }
   ],
   "source": [
    "# viewing unique genre names\n",
    "unique_names = df ['genres'].unique ()\n",
    "print(sorted(unique_names)) "
   ]
  },
  {
   "cell_type": "markdown",
   "id": "18b2049e",
   "metadata": {},
   "source": [
    "### Conclusions <a id='data_preprocessing_conclusions'></a>\n",
    "We detected three issues with the data:\n",
    "\n",
    "- Incorrect header styles\n",
    "- Missing values\n",
    "- Duplicate rows and implicit duplicates\n",
    "\n",
    "The headers have been cleaned up to make processing the table simpler.\n",
    "\n",
    "All rows with missing values have been removed. \n",
    "\n",
    "The absence of duplicates will make the results more precise and easier to understand.\n",
    "\n",
    "Now we can move on to our analysis of the prepared data."
   ]
  },
  {
   "cell_type": "markdown",
   "id": "389f321c",
   "metadata": {},
   "source": []
  },
  {
   "cell_type": "markdown",
   "id": "1aa0f1b1",
   "metadata": {},
   "source": [
    "## Stage 3. Data analysis <a id='hypotheses'></a>"
   ]
  },
  {
   "cell_type": "markdown",
   "id": "f8fb6a0e",
   "metadata": {},
   "source": [
    "Based on the previous project stages, you can now define how the assumption will be checked. Calculate the average amount of votes for each score (this data is available in the `imdb_score` and `imdb_votes` columns), and then check how these averages relate to each other. If the averages for shows with the highest scores are bigger than those for shows with lower scores, the assumption appears to be true.\n",
    "\n",
    "Based on this, complete the following steps:\n",
    "\n",
    "- Filter the dataframe to only include shows released in 1999 or later.\n",
    "- Group scores into buckets by rounding the values of the appropriate column (a set of 1-10 integers will help us make the outcome of our calculations more evident without damaging the quality of our research).\n",
    "- Identify outliers among scores based on their number of votes, and exclude scores with few votes.\n",
    "- Calculate the average votes for each score and check whether the assumption matches the results."
   ]
  },
  {
   "cell_type": "markdown",
   "id": "0ea2cb51",
   "metadata": {},
   "source": [
    "To filter the dataframe and only include shows released in 1999 or later, you will take two steps. First, keep only titles published in 1999 or later in our dataframe. Then, filter the table to only contain shows (movies will be removed)."
   ]
  },
  {
   "cell_type": "code",
   "execution_count": 19,
   "id": "6a704aa1",
   "metadata": {
    "trusted": false
   },
   "outputs": [
    {
     "name": "stdout",
     "output_type": "stream",
     "text": [
      "                     name            character      role     title       type  \\\n",
      "1661          Jeff Probst       Himself - Host     ACTOR  Survivor       show   \n",
      "1952     Benicio del Toro  Franky Four Fingers     ACTOR    Snatch      MOVIE   \n",
      "1953        Dennis Farina           Cousin Avi     ACTOR    Snatch      MOVIE   \n",
      "1954         Vinnie Jones    Bullet Tooth Tony     ACTOR    Snatch      MOVIE   \n",
      "1955            Brad Pitt        Mickey O'Neil     ACTOR    Snatch      MOVIE   \n",
      "...                   ...                  ...       ...       ...        ...   \n",
      "73854       A??da Morales              Maritza     ACTOR   Lokillo  the movie   \n",
      "73855    Adelaida Buscato           Mar??a Paz     ACTOR   Lokillo  the movie   \n",
      "73856  Luz Stella Luengas         Karen Bayona     ACTOR   Lokillo  the movie   \n",
      "73857        In??s Prieto                Fanny     ACTOR   Lokillo  the movie   \n",
      "73858      Julian Gaviria              unknown  DIRECTOR   Lokillo  the movie   \n",
      "\n",
      "       release_year               genres  imdb_score  imdb_votes  \n",
      "1661           2000          ['reality']         7.4     24687.0  \n",
      "1952           2000  ['crime', 'comedy']         8.3    841435.0  \n",
      "1953           2000  ['crime', 'comedy']         8.3    841435.0  \n",
      "1954           2000  ['crime', 'comedy']         8.3    841435.0  \n",
      "1955           2000  ['crime', 'comedy']         8.3    841435.0  \n",
      "...             ...                  ...         ...         ...  \n",
      "73854          2021           ['comedy']         3.8        68.0  \n",
      "73855          2021           ['comedy']         3.8        68.0  \n",
      "73856          2021           ['comedy']         3.8        68.0  \n",
      "73857          2021           ['comedy']         3.8        68.0  \n",
      "73858          2021           ['comedy']         3.8        68.0  \n",
      "\n",
      "[69881 rows x 9 columns]\n"
     ]
    }
   ],
   "source": [
    "# using conditional indexing modify df so it has only titles released after 1999 (with 1999 included)\n",
    "# give the slice of dataframe new name\n",
    "df_after_1999=df[df['release_year']>=1999]\n",
    "print(df_after_1999)"
   ]
  },
  {
   "cell_type": "code",
   "execution_count": 20,
   "id": "128dc6a9",
   "metadata": {
    "scrolled": true,
    "trusted": false
   },
   "outputs": [
    {
     "name": "stdout",
     "output_type": "stream",
     "text": [
      "                      name                character      role      title  \\\n",
      "1661           Jeff Probst           Himself - Host     ACTOR   Survivor   \n",
      "2073         Mayumi Tanaka  Monkey D. Luffy (voice)     ACTOR  One Piece   \n",
      "2074          Kazuya Nakai     Roronoa Zoro (voice)     ACTOR  One Piece   \n",
      "2075         Akemi Okamura             Nami (voice)     ACTOR  One Piece   \n",
      "2076      Kappei Yamaguchi            Usopp (voice)     ACTOR  One Piece   \n",
      "...                    ...                      ...       ...        ...   \n",
      "73831     Maneerat Kam-Uan                       Ae     ACTOR  Let's Eat   \n",
      "73832    Rudklao Amratisha                  unknown     ACTOR  Let's Eat   \n",
      "73833      Jaturong Mokjok                  unknown     ACTOR  Let's Eat   \n",
      "73834     Pisamai Wilaisak                  unknown     ACTOR  Let's Eat   \n",
      "73835  Sarawut Wichiensarn                  unknown  DIRECTOR  Let's Eat   \n",
      "\n",
      "       type  release_year                                             genres  \\\n",
      "1661   show          2000                                        ['reality']   \n",
      "2073   show          1999  ['animation', 'action', 'comedy', 'drama', 'fa...   \n",
      "2074   show          1999  ['animation', 'action', 'comedy', 'drama', 'fa...   \n",
      "2075   show          1999  ['animation', 'action', 'comedy', 'drama', 'fa...   \n",
      "2076   show          1999  ['animation', 'action', 'comedy', 'drama', 'fa...   \n",
      "...     ...           ...                                                ...   \n",
      "73831  show          2021                                ['drama', 'comedy']   \n",
      "73832  show          2021                                ['drama', 'comedy']   \n",
      "73833  show          2021                                ['drama', 'comedy']   \n",
      "73834  show          2021                                ['drama', 'comedy']   \n",
      "73835  show          2021                                ['drama', 'comedy']   \n",
      "\n",
      "       imdb_score  imdb_votes  \n",
      "1661          7.4     24687.0  \n",
      "2073          8.8    117129.0  \n",
      "2074          8.8    117129.0  \n",
      "2075          8.8    117129.0  \n",
      "2076          8.8    117129.0  \n",
      "...           ...         ...  \n",
      "73831         8.2         5.0  \n",
      "73832         8.2         5.0  \n",
      "73833         8.2         5.0  \n",
      "73834         8.2         5.0  \n",
      "73835         8.2         5.0  \n",
      "\n",
      "[13430 rows x 9 columns]\n"
     ]
    }
   ],
   "source": [
    "# repeat conditional indexing so df has only shows (movies are removed as result)\n",
    "df_after_1999_only_shows = df[(df['type']== 'show') & (df['release_year'] >=1999)]\n",
    "print(df_after_1999_only_shows)"
   ]
  },
  {
   "cell_type": "markdown",
   "id": "4cdd4a4a",
   "metadata": {},
   "source": []
  },
  {
   "cell_type": "markdown",
   "id": "9648040c",
   "metadata": {},
   "source": [
    "The scores that are to be grouped should be rounded. For instance, titles with scores like 7.8, 8.1, and 8.3 will all be placed in the same bucket with a score of 8."
   ]
  },
  {
   "cell_type": "code",
   "execution_count": 21,
   "id": "54bbd5c0",
   "metadata": {
    "scrolled": true,
    "trusted": false
   },
   "outputs": [
    {
     "name": "stderr",
     "output_type": "stream",
     "text": [
      "/tmp/ipykernel_110/4163631389.py:2: SettingWithCopyWarning: \n",
      "A value is trying to be set on a copy of a slice from a DataFrame.\n",
      "Try using .loc[row_indexer,col_indexer] = value instead\n",
      "\n",
      "See the caveats in the documentation: https://pandas.pydata.org/pandas-docs/stable/user_guide/indexing.html#returning-a-view-versus-a-copy\n",
      "  df_after_1999_only_shows ['imdb_score'] = round (df_after_1999_only_shows['imdb_score'])\n"
     ]
    },
    {
     "data": {
      "text/html": [
       "<div>\n",
       "<style scoped>\n",
       "    .dataframe tbody tr th:only-of-type {\n",
       "        vertical-align: middle;\n",
       "    }\n",
       "\n",
       "    .dataframe tbody tr th {\n",
       "        vertical-align: top;\n",
       "    }\n",
       "\n",
       "    .dataframe thead th {\n",
       "        text-align: right;\n",
       "    }\n",
       "</style>\n",
       "<table border=\"1\" class=\"dataframe\">\n",
       "  <thead>\n",
       "    <tr style=\"text-align: right;\">\n",
       "      <th></th>\n",
       "      <th>name</th>\n",
       "      <th>character</th>\n",
       "      <th>role</th>\n",
       "      <th>title</th>\n",
       "      <th>type</th>\n",
       "      <th>release_year</th>\n",
       "      <th>genres</th>\n",
       "      <th>imdb_score</th>\n",
       "      <th>imdb_votes</th>\n",
       "    </tr>\n",
       "  </thead>\n",
       "  <tbody>\n",
       "    <tr>\n",
       "      <th>73831</th>\n",
       "      <td>Maneerat Kam-Uan</td>\n",
       "      <td>Ae</td>\n",
       "      <td>ACTOR</td>\n",
       "      <td>Let's Eat</td>\n",
       "      <td>show</td>\n",
       "      <td>2021</td>\n",
       "      <td>['drama', 'comedy']</td>\n",
       "      <td>8.0</td>\n",
       "      <td>5.0</td>\n",
       "    </tr>\n",
       "    <tr>\n",
       "      <th>73832</th>\n",
       "      <td>Rudklao Amratisha</td>\n",
       "      <td>unknown</td>\n",
       "      <td>ACTOR</td>\n",
       "      <td>Let's Eat</td>\n",
       "      <td>show</td>\n",
       "      <td>2021</td>\n",
       "      <td>['drama', 'comedy']</td>\n",
       "      <td>8.0</td>\n",
       "      <td>5.0</td>\n",
       "    </tr>\n",
       "    <tr>\n",
       "      <th>73833</th>\n",
       "      <td>Jaturong Mokjok</td>\n",
       "      <td>unknown</td>\n",
       "      <td>ACTOR</td>\n",
       "      <td>Let's Eat</td>\n",
       "      <td>show</td>\n",
       "      <td>2021</td>\n",
       "      <td>['drama', 'comedy']</td>\n",
       "      <td>8.0</td>\n",
       "      <td>5.0</td>\n",
       "    </tr>\n",
       "    <tr>\n",
       "      <th>73834</th>\n",
       "      <td>Pisamai Wilaisak</td>\n",
       "      <td>unknown</td>\n",
       "      <td>ACTOR</td>\n",
       "      <td>Let's Eat</td>\n",
       "      <td>show</td>\n",
       "      <td>2021</td>\n",
       "      <td>['drama', 'comedy']</td>\n",
       "      <td>8.0</td>\n",
       "      <td>5.0</td>\n",
       "    </tr>\n",
       "    <tr>\n",
       "      <th>73835</th>\n",
       "      <td>Sarawut Wichiensarn</td>\n",
       "      <td>unknown</td>\n",
       "      <td>DIRECTOR</td>\n",
       "      <td>Let's Eat</td>\n",
       "      <td>show</td>\n",
       "      <td>2021</td>\n",
       "      <td>['drama', 'comedy']</td>\n",
       "      <td>8.0</td>\n",
       "      <td>5.0</td>\n",
       "    </tr>\n",
       "  </tbody>\n",
       "</table>\n",
       "</div>"
      ],
      "text/plain": [
       "                      name character      role      title  type  release_year  \\\n",
       "73831     Maneerat Kam-Uan        Ae     ACTOR  Let's Eat  show          2021   \n",
       "73832    Rudklao Amratisha   unknown     ACTOR  Let's Eat  show          2021   \n",
       "73833      Jaturong Mokjok   unknown     ACTOR  Let's Eat  show          2021   \n",
       "73834     Pisamai Wilaisak   unknown     ACTOR  Let's Eat  show          2021   \n",
       "73835  Sarawut Wichiensarn   unknown  DIRECTOR  Let's Eat  show          2021   \n",
       "\n",
       "                    genres  imdb_score  imdb_votes  \n",
       "73831  ['drama', 'comedy']         8.0         5.0  \n",
       "73832  ['drama', 'comedy']         8.0         5.0  \n",
       "73833  ['drama', 'comedy']         8.0         5.0  \n",
       "73834  ['drama', 'comedy']         8.0         5.0  \n",
       "73835  ['drama', 'comedy']         8.0         5.0  "
      ]
     },
     "metadata": {},
     "output_type": "display_data"
    },
    {
     "data": {
      "text/html": [
       "<div>\n",
       "<style scoped>\n",
       "    .dataframe tbody tr th:only-of-type {\n",
       "        vertical-align: middle;\n",
       "    }\n",
       "\n",
       "    .dataframe tbody tr th {\n",
       "        vertical-align: top;\n",
       "    }\n",
       "\n",
       "    .dataframe thead th {\n",
       "        text-align: right;\n",
       "    }\n",
       "</style>\n",
       "<table border=\"1\" class=\"dataframe\">\n",
       "  <thead>\n",
       "    <tr style=\"text-align: right;\">\n",
       "      <th></th>\n",
       "      <th>name</th>\n",
       "      <th>character</th>\n",
       "      <th>role</th>\n",
       "      <th>title</th>\n",
       "      <th>type</th>\n",
       "      <th>release_year</th>\n",
       "      <th>genres</th>\n",
       "      <th>imdb_score</th>\n",
       "      <th>imdb_votes</th>\n",
       "    </tr>\n",
       "  </thead>\n",
       "  <tbody>\n",
       "    <tr>\n",
       "      <th>1661</th>\n",
       "      <td>Jeff Probst</td>\n",
       "      <td>Himself - Host</td>\n",
       "      <td>ACTOR</td>\n",
       "      <td>Survivor</td>\n",
       "      <td>show</td>\n",
       "      <td>2000</td>\n",
       "      <td>['reality']</td>\n",
       "      <td>7.0</td>\n",
       "      <td>24687.0</td>\n",
       "    </tr>\n",
       "    <tr>\n",
       "      <th>2073</th>\n",
       "      <td>Mayumi Tanaka</td>\n",
       "      <td>Monkey D. Luffy (voice)</td>\n",
       "      <td>ACTOR</td>\n",
       "      <td>One Piece</td>\n",
       "      <td>show</td>\n",
       "      <td>1999</td>\n",
       "      <td>['animation', 'action', 'comedy', 'drama', 'fa...</td>\n",
       "      <td>9.0</td>\n",
       "      <td>117129.0</td>\n",
       "    </tr>\n",
       "    <tr>\n",
       "      <th>2074</th>\n",
       "      <td>Kazuya Nakai</td>\n",
       "      <td>Roronoa Zoro (voice)</td>\n",
       "      <td>ACTOR</td>\n",
       "      <td>One Piece</td>\n",
       "      <td>show</td>\n",
       "      <td>1999</td>\n",
       "      <td>['animation', 'action', 'comedy', 'drama', 'fa...</td>\n",
       "      <td>9.0</td>\n",
       "      <td>117129.0</td>\n",
       "    </tr>\n",
       "    <tr>\n",
       "      <th>2075</th>\n",
       "      <td>Akemi Okamura</td>\n",
       "      <td>Nami (voice)</td>\n",
       "      <td>ACTOR</td>\n",
       "      <td>One Piece</td>\n",
       "      <td>show</td>\n",
       "      <td>1999</td>\n",
       "      <td>['animation', 'action', 'comedy', 'drama', 'fa...</td>\n",
       "      <td>9.0</td>\n",
       "      <td>117129.0</td>\n",
       "    </tr>\n",
       "    <tr>\n",
       "      <th>2076</th>\n",
       "      <td>Kappei Yamaguchi</td>\n",
       "      <td>Usopp (voice)</td>\n",
       "      <td>ACTOR</td>\n",
       "      <td>One Piece</td>\n",
       "      <td>show</td>\n",
       "      <td>1999</td>\n",
       "      <td>['animation', 'action', 'comedy', 'drama', 'fa...</td>\n",
       "      <td>9.0</td>\n",
       "      <td>117129.0</td>\n",
       "    </tr>\n",
       "  </tbody>\n",
       "</table>\n",
       "</div>"
      ],
      "text/plain": [
       "                  name                character   role      title  type  \\\n",
       "1661       Jeff Probst           Himself - Host  ACTOR   Survivor  show   \n",
       "2073     Mayumi Tanaka  Monkey D. Luffy (voice)  ACTOR  One Piece  show   \n",
       "2074      Kazuya Nakai     Roronoa Zoro (voice)  ACTOR  One Piece  show   \n",
       "2075     Akemi Okamura             Nami (voice)  ACTOR  One Piece  show   \n",
       "2076  Kappei Yamaguchi            Usopp (voice)  ACTOR  One Piece  show   \n",
       "\n",
       "      release_year                                             genres  \\\n",
       "1661          2000                                        ['reality']   \n",
       "2073          1999  ['animation', 'action', 'comedy', 'drama', 'fa...   \n",
       "2074          1999  ['animation', 'action', 'comedy', 'drama', 'fa...   \n",
       "2075          1999  ['animation', 'action', 'comedy', 'drama', 'fa...   \n",
       "2076          1999  ['animation', 'action', 'comedy', 'drama', 'fa...   \n",
       "\n",
       "      imdb_score  imdb_votes  \n",
       "1661         7.0     24687.0  \n",
       "2073         9.0    117129.0  \n",
       "2074         9.0    117129.0  \n",
       "2075         9.0    117129.0  \n",
       "2076         9.0    117129.0  "
      ]
     },
     "metadata": {},
     "output_type": "display_data"
    }
   ],
   "source": [
    "# rounding column with scores\n",
    "df_after_1999_only_shows ['imdb_score'] = round (df_after_1999_only_shows['imdb_score'])\n",
    "#checking the outcome with tail()\n",
    "display(df_after_1999_only_shows.tail())\n",
    "display(df_after_1999_only_shows.head())\n",
    "\n"
   ]
  },
  {
   "cell_type": "markdown",
   "id": "36dbd00a",
   "metadata": {},
   "source": [
    "It is now time to identify outliers based on the number of votes."
   ]
  },
  {
   "cell_type": "code",
   "execution_count": 22,
   "id": "b8b55e95",
   "metadata": {
    "trusted": false
   },
   "outputs": [
    {
     "data": {
      "text/plain": [
       "imdb_score\n",
       "2.0       24\n",
       "3.0       27\n",
       "4.0      180\n",
       "5.0      592\n",
       "6.0     2494\n",
       "7.0     4706\n",
       "8.0     4842\n",
       "9.0      557\n",
       "10.0       8\n",
       "Name: imdb_votes, dtype: int64"
      ]
     },
     "execution_count": 22,
     "metadata": {},
     "output_type": "execute_result"
    }
   ],
   "source": [
    "# Use groupby() for scores and count all unique values in each group, print the result\n",
    "df_after_1999_only_shows.groupby('imdb_score')['imdb_votes'].count()"
   ]
  },
  {
   "cell_type": "markdown",
   "id": "1ba6daae",
   "metadata": {},
   "source": [
    "Based on the aggregation performed, it is evident that scores 2 (24 voted shows), 3 (27 voted shows), and 10 (only 8 voted shows) are outliers. There isn't enough data for these scores for the average number of votes to be meaningful."
   ]
  },
  {
   "cell_type": "markdown",
   "id": "bd468c46",
   "metadata": {},
   "source": [
    "To obtain the mean numbers of votes for the selected scores (we identified a range of 4-9 as acceptable), use conditional filtering and grouping."
   ]
  },
  {
   "cell_type": "code",
   "execution_count": 23,
   "id": "d1867e0e",
   "metadata": {
    "trusted": false
   },
   "outputs": [
    {
     "data": {
      "text/html": [
       "<div>\n",
       "<style scoped>\n",
       "    .dataframe tbody tr th:only-of-type {\n",
       "        vertical-align: middle;\n",
       "    }\n",
       "\n",
       "    .dataframe tbody tr th {\n",
       "        vertical-align: top;\n",
       "    }\n",
       "\n",
       "    .dataframe thead th {\n",
       "        text-align: right;\n",
       "    }\n",
       "</style>\n",
       "<table border=\"1\" class=\"dataframe\">\n",
       "  <thead>\n",
       "    <tr style=\"text-align: right;\">\n",
       "      <th></th>\n",
       "      <th>imdb_score</th>\n",
       "      <th>imdb_votes</th>\n",
       "    </tr>\n",
       "  </thead>\n",
       "  <tbody>\n",
       "    <tr>\n",
       "      <th>0</th>\n",
       "      <td>4.0</td>\n",
       "      <td>5277.583333</td>\n",
       "    </tr>\n",
       "    <tr>\n",
       "      <th>1</th>\n",
       "      <td>5.0</td>\n",
       "      <td>3143.942568</td>\n",
       "    </tr>\n",
       "    <tr>\n",
       "      <th>2</th>\n",
       "      <td>6.0</td>\n",
       "      <td>3481.717322</td>\n",
       "    </tr>\n",
       "    <tr>\n",
       "      <th>3</th>\n",
       "      <td>7.0</td>\n",
       "      <td>8727.068211</td>\n",
       "    </tr>\n",
       "    <tr>\n",
       "      <th>4</th>\n",
       "      <td>8.0</td>\n",
       "      <td>30299.460967</td>\n",
       "    </tr>\n",
       "    <tr>\n",
       "      <th>5</th>\n",
       "      <td>9.0</td>\n",
       "      <td>126904.109515</td>\n",
       "    </tr>\n",
       "  </tbody>\n",
       "</table>\n",
       "</div>"
      ],
      "text/plain": [
       "   imdb_score     imdb_votes\n",
       "0         4.0    5277.583333\n",
       "1         5.0    3143.942568\n",
       "2         6.0    3481.717322\n",
       "3         7.0    8727.068211\n",
       "4         8.0   30299.460967\n",
       "5         9.0  126904.109515"
      ]
     },
     "execution_count": 23,
     "metadata": {},
     "output_type": "execute_result"
    }
   ],
   "source": [
    "# filter dataframe using two conditions (scores to be in the range 4-9)\n",
    "filtered_df = df_after_1999_only_shows [(df_after_1999_only_shows['imdb_score']>=4) & (df_after_1999_only_shows['imdb_score']<=9)]\n",
    "\n",
    "# group scores and corresponding average number of votes, reset index and print the result\n",
    "imdb_votes = filtered_df.groupby('imdb_score')['imdb_votes'].mean().reset_index()\n",
    "imdb_votes"
   ]
  },
  {
   "cell_type": "markdown",
   "id": "96a66d14",
   "metadata": {},
   "source": [
    "Now for the final step! Round the column with the averages, rename both columns, and print the dataframe in descending order."
   ]
  },
  {
   "cell_type": "code",
   "execution_count": 24,
   "id": "5999051b",
   "metadata": {
    "trusted": false
   },
   "outputs": [
    {
     "name": "stdout",
     "output_type": "stream",
     "text": [
      "   show_score  show_votes\n",
      "5         9.0    126904.0\n",
      "4         8.0     30299.0\n",
      "3         7.0      8727.0\n",
      "0         4.0      5278.0\n",
      "2         6.0      3482.0\n",
      "1         5.0      3144.0\n"
     ]
    }
   ],
   "source": [
    "# round column with averages\n",
    "imdb_votes['imdb_votes'] = imdb_votes['imdb_votes'].round()\n",
    "\n",
    "# rename columns\n",
    "imdb_votes = imdb_votes.rename(columns = {\n",
    "    'imdb_score':'show_score',\n",
    "    'imdb_votes':'show_votes',\n",
    "    \n",
    "})\n",
    "# print dataframe in descending order\n",
    "desc = imdb_votes.sort_values(by= 'show_votes',ascending=False )\n",
    "print(desc)"
   ]
  },
  {
   "cell_type": "markdown",
   "id": "af07386d",
   "metadata": {},
   "source": [
    "The assumption macthes the analysis: the shows with the top 3 scores have the most amounts of votes."
   ]
  },
  {
   "cell_type": "markdown",
   "id": "84e29a37",
   "metadata": {},
   "source": [
    "## Conclusion <a id='hypotheses'></a>"
   ]
  },
  {
   "cell_type": "markdown",
   "id": "984766a3",
   "metadata": {},
   "source": [
    "The research done confirms that highly-rated shows released during the \"Golden Age\" of television also have the most votes. While shows with score 4 have more votes than ones with scores 5 and 6, the top three (scores 7-9) have the largest number. The data studied represents around 94% of the original set, so we can be confident in our findings."
   ]
  },
  {
   "cell_type": "markdown",
   "id": "63f38a9c",
   "metadata": {},
   "source": []
  }
 ],
 "metadata": {
  "ExecuteTimeLog": [
   {
    "duration": 168,
    "start_time": "2025-01-22T20:22:38.823Z"
   },
   {
    "duration": 344,
    "start_time": "2025-01-22T20:22:45.447Z"
   },
   {
    "duration": 2,
    "start_time": "2025-01-22T20:22:50.738Z"
   },
   {
    "duration": 401,
    "start_time": "2025-01-22T20:22:56.086Z"
   },
   {
    "duration": 12,
    "start_time": "2025-01-22T20:23:32.448Z"
   },
   {
    "duration": 11,
    "start_time": "2025-01-22T20:23:41.568Z"
   },
   {
    "duration": 85,
    "start_time": "2025-01-22T20:24:19.748Z"
   },
   {
    "duration": 60,
    "start_time": "2025-01-22T20:26:40.514Z"
   },
   {
    "duration": 58,
    "start_time": "2025-01-22T20:29:46.797Z"
   },
   {
    "duration": 59,
    "start_time": "2025-01-22T20:36:58.477Z"
   },
   {
    "duration": 59,
    "start_time": "2025-01-22T20:39:31.320Z"
   },
   {
    "duration": 71,
    "start_time": "2025-01-22T20:43:06.728Z"
   },
   {
    "duration": 141,
    "start_time": "2025-01-22T20:44:21.693Z"
   },
   {
    "duration": 114,
    "start_time": "2025-01-22T20:44:30.987Z"
   },
   {
    "duration": 2,
    "start_time": "2025-01-22T20:54:45.635Z"
   },
   {
    "duration": 2,
    "start_time": "2025-01-22T20:55:12.793Z"
   },
   {
    "duration": 113,
    "start_time": "2025-01-22T20:55:17.307Z"
   },
   {
    "duration": 18,
    "start_time": "2025-01-22T20:55:20.126Z"
   },
   {
    "duration": 24,
    "start_time": "2025-01-22T20:55:32.426Z"
   },
   {
    "duration": 3,
    "start_time": "2025-01-22T21:22:13.906Z"
   },
   {
    "duration": 3,
    "start_time": "2025-01-22T21:27:59.502Z"
   },
   {
    "duration": 6,
    "start_time": "2025-01-22T21:28:05.026Z"
   },
   {
    "duration": 5,
    "start_time": "2025-01-22T21:28:38.774Z"
   },
   {
    "duration": 8,
    "start_time": "2025-01-22T21:29:17.786Z"
   },
   {
    "duration": 3,
    "start_time": "2025-01-22T21:29:32.253Z"
   },
   {
    "duration": 26,
    "start_time": "2025-01-22T21:35:02.927Z"
   },
   {
    "duration": 38,
    "start_time": "2025-01-22T21:40:03.805Z"
   },
   {
    "duration": 25,
    "start_time": "2025-01-22T21:41:44.886Z"
   },
   {
    "duration": 15,
    "start_time": "2025-01-22T21:59:16.625Z"
   },
   {
    "duration": 12,
    "start_time": "2025-01-22T21:59:58.358Z"
   },
   {
    "duration": 10,
    "start_time": "2025-01-22T22:01:42.983Z"
   },
   {
    "duration": 13,
    "start_time": "2025-01-22T22:02:35.680Z"
   },
   {
    "duration": 39,
    "start_time": "2025-01-22T22:02:43.449Z"
   },
   {
    "duration": 41,
    "start_time": "2025-01-22T22:04:02.968Z"
   },
   {
    "duration": 4,
    "start_time": "2025-01-22T22:06:16.539Z"
   },
   {
    "duration": 4,
    "start_time": "2025-01-22T22:06:26.714Z"
   },
   {
    "duration": 3,
    "start_time": "2025-01-22T22:06:35.924Z"
   },
   {
    "duration": 47,
    "start_time": "2025-01-22T22:06:42.354Z"
   },
   {
    "duration": 43,
    "start_time": "2025-01-22T22:06:54.463Z"
   },
   {
    "duration": 10,
    "start_time": "2025-01-22T22:07:48.107Z"
   },
   {
    "duration": 40,
    "start_time": "2025-01-22T22:21:08.482Z"
   },
   {
    "duration": 10,
    "start_time": "2025-01-22T22:26:41.684Z"
   },
   {
    "duration": 10,
    "start_time": "2025-01-22T22:26:49.382Z"
   },
   {
    "duration": 10,
    "start_time": "2025-01-22T22:27:05.093Z"
   },
   {
    "duration": 10,
    "start_time": "2025-01-22T22:27:11.059Z"
   },
   {
    "duration": 10,
    "start_time": "2025-01-22T22:27:39.506Z"
   },
   {
    "duration": 10,
    "start_time": "2025-01-22T22:27:53.078Z"
   },
   {
    "duration": 51,
    "start_time": "2025-01-22T22:32:12.244Z"
   },
   {
    "duration": 39,
    "start_time": "2025-01-22T22:32:16.062Z"
   },
   {
    "duration": 51,
    "start_time": "2025-01-22T22:32:19.829Z"
   },
   {
    "duration": 51,
    "start_time": "2025-01-22T22:32:28.982Z"
   },
   {
    "duration": 73,
    "start_time": "2025-01-22T22:32:50.748Z"
   },
   {
    "duration": 45,
    "start_time": "2025-01-22T22:33:03.471Z"
   },
   {
    "duration": 42,
    "start_time": "2025-01-22T22:34:26.568Z"
   },
   {
    "duration": 38,
    "start_time": "2025-01-22T22:34:35.612Z"
   },
   {
    "duration": 50,
    "start_time": "2025-01-22T22:35:45.203Z"
   },
   {
    "duration": 48,
    "start_time": "2025-01-22T22:37:04.676Z"
   },
   {
    "duration": 44,
    "start_time": "2025-01-22T22:37:12.471Z"
   },
   {
    "duration": 37,
    "start_time": "2025-01-22T22:53:10.535Z"
   },
   {
    "duration": 36,
    "start_time": "2025-01-22T22:54:07.392Z"
   },
   {
    "duration": 45,
    "start_time": "2025-01-22T22:55:15.559Z"
   },
   {
    "duration": 62,
    "start_time": "2025-01-22T22:55:46.066Z"
   },
   {
    "duration": 37,
    "start_time": "2025-01-22T22:58:06.342Z"
   },
   {
    "duration": 38,
    "start_time": "2025-01-22T22:58:13.045Z"
   },
   {
    "duration": 37,
    "start_time": "2025-01-22T22:58:29.119Z"
   },
   {
    "duration": 42,
    "start_time": "2025-01-22T22:58:33.598Z"
   },
   {
    "duration": 40,
    "start_time": "2025-01-22T23:01:39.680Z"
   },
   {
    "duration": 37,
    "start_time": "2025-01-22T23:02:28.685Z"
   },
   {
    "duration": 36,
    "start_time": "2025-01-22T23:02:42.611Z"
   },
   {
    "duration": 44,
    "start_time": "2025-01-22T23:02:47.461Z"
   },
   {
    "duration": 3,
    "start_time": "2025-01-22T23:06:40.489Z"
   },
   {
    "duration": 118,
    "start_time": "2025-01-22T23:06:44.178Z"
   },
   {
    "duration": 10,
    "start_time": "2025-01-22T23:06:47.268Z"
   },
   {
    "duration": 25,
    "start_time": "2025-01-22T23:06:53.720Z"
   },
   {
    "duration": 3,
    "start_time": "2025-01-22T23:06:58.362Z"
   },
   {
    "duration": 6,
    "start_time": "2025-01-22T23:07:01.248Z"
   },
   {
    "duration": 3,
    "start_time": "2025-01-22T23:07:03.726Z"
   },
   {
    "duration": 18,
    "start_time": "2025-01-22T23:07:05.847Z"
   },
   {
    "duration": 30,
    "start_time": "2025-01-22T23:07:09.197Z"
   },
   {
    "duration": 21,
    "start_time": "2025-01-22T23:07:11.949Z"
   },
   {
    "duration": 41,
    "start_time": "2025-01-22T23:07:14.275Z"
   },
   {
    "duration": 42,
    "start_time": "2025-01-22T23:07:16.389Z"
   },
   {
    "duration": 46,
    "start_time": "2025-01-22T23:07:23.077Z"
   },
   {
    "duration": 159,
    "start_time": "2025-01-23T21:50:21.898Z"
   },
   {
    "duration": 12,
    "start_time": "2025-01-23T21:50:27.373Z"
   },
   {
    "duration": 12,
    "start_time": "2025-01-23T21:54:46.397Z"
   },
   {
    "duration": 12,
    "start_time": "2025-01-23T21:55:00.461Z"
   },
   {
    "duration": 12,
    "start_time": "2025-01-23T21:55:07.862Z"
   },
   {
    "duration": 12,
    "start_time": "2025-01-23T21:55:12.883Z"
   },
   {
    "duration": 12,
    "start_time": "2025-01-23T21:55:16.894Z"
   },
   {
    "duration": 31,
    "start_time": "2025-01-23T21:55:20.944Z"
   },
   {
    "duration": 13,
    "start_time": "2025-01-23T21:55:24.948Z"
   },
   {
    "duration": 11,
    "start_time": "2025-01-23T21:55:29.385Z"
   },
   {
    "duration": 12,
    "start_time": "2025-01-23T21:55:33.326Z"
   },
   {
    "duration": 261,
    "start_time": "2025-01-23T21:55:42.671Z"
   },
   {
    "duration": 144,
    "start_time": "2025-01-23T21:55:45.105Z"
   },
   {
    "duration": 14,
    "start_time": "2025-01-23T21:55:47.043Z"
   },
   {
    "duration": 23,
    "start_time": "2025-01-23T21:55:50.129Z"
   },
   {
    "duration": 3,
    "start_time": "2025-01-23T21:55:53.754Z"
   },
   {
    "duration": 5,
    "start_time": "2025-01-23T21:55:55.639Z"
   },
   {
    "duration": 3,
    "start_time": "2025-01-23T21:55:57.755Z"
   },
   {
    "duration": 18,
    "start_time": "2025-01-23T21:55:59.485Z"
   },
   {
    "duration": 38,
    "start_time": "2025-01-23T21:56:01.773Z"
   },
   {
    "duration": 19,
    "start_time": "2025-01-23T21:56:04.043Z"
   },
   {
    "duration": 42,
    "start_time": "2025-01-23T21:56:05.956Z"
   },
   {
    "duration": 49,
    "start_time": "2025-01-23T21:56:08.108Z"
   },
   {
    "duration": 45,
    "start_time": "2025-01-23T21:56:11.008Z"
   },
   {
    "duration": 39,
    "start_time": "2025-01-23T21:56:17.624Z"
   },
   {
    "duration": 5,
    "start_time": "2025-01-23T21:56:23.489Z"
   },
   {
    "duration": 8,
    "start_time": "2025-01-23T21:58:25.233Z"
   },
   {
    "duration": 3,
    "start_time": "2025-01-23T21:58:30.452Z"
   },
   {
    "duration": 2,
    "start_time": "2025-01-23T22:06:49.105Z"
   },
   {
    "duration": 112,
    "start_time": "2025-01-23T22:06:50.241Z"
   },
   {
    "duration": 12,
    "start_time": "2025-01-23T22:06:51.522Z"
   },
   {
    "duration": 23,
    "start_time": "2025-01-23T22:06:52.745Z"
   },
   {
    "duration": 3,
    "start_time": "2025-01-23T22:06:55.080Z"
   },
   {
    "duration": 8,
    "start_time": "2025-01-23T22:06:56.483Z"
   },
   {
    "duration": 3,
    "start_time": "2025-01-23T22:06:57.655Z"
   },
   {
    "duration": 20,
    "start_time": "2025-01-23T22:06:58.811Z"
   },
   {
    "duration": 30,
    "start_time": "2025-01-23T22:07:00.182Z"
   },
   {
    "duration": 20,
    "start_time": "2025-01-23T22:07:01.672Z"
   },
   {
    "duration": 39,
    "start_time": "2025-01-23T22:07:03.024Z"
   },
   {
    "duration": 42,
    "start_time": "2025-01-23T22:07:04.476Z"
   },
   {
    "duration": 46,
    "start_time": "2025-01-23T22:07:05.982Z"
   },
   {
    "duration": 6,
    "start_time": "2025-01-23T22:07:08.244Z"
   },
   {
    "duration": 41,
    "start_time": "2025-01-23T22:07:20.215Z"
   },
   {
    "duration": 8,
    "start_time": "2025-01-23T22:07:21.670Z"
   },
   {
    "duration": 3,
    "start_time": "2025-01-23T22:07:26.417Z"
   },
   {
    "duration": 7,
    "start_time": "2025-01-23T22:07:43.666Z"
   },
   {
    "duration": 3,
    "start_time": "2025-01-23T22:07:53.602Z"
   },
   {
    "duration": 297,
    "start_time": "2025-01-25T21:51:30.246Z"
   },
   {
    "duration": 145,
    "start_time": "2025-01-25T21:51:32.026Z"
   },
   {
    "duration": 15,
    "start_time": "2025-01-25T21:51:33.878Z"
   },
   {
    "duration": 25,
    "start_time": "2025-01-25T21:51:35.962Z"
   },
   {
    "duration": 3,
    "start_time": "2025-01-25T21:51:39.118Z"
   },
   {
    "duration": 6,
    "start_time": "2025-01-25T21:51:40.846Z"
   },
   {
    "duration": 3,
    "start_time": "2025-01-25T21:51:42.394Z"
   },
   {
    "duration": 18,
    "start_time": "2025-01-25T21:51:44.272Z"
   },
   {
    "duration": 32,
    "start_time": "2025-01-25T21:51:45.902Z"
   },
   {
    "duration": 18,
    "start_time": "2025-01-25T21:51:47.696Z"
   },
   {
    "duration": 40,
    "start_time": "2025-01-25T21:51:49.775Z"
   },
   {
    "duration": 46,
    "start_time": "2025-01-25T21:51:51.603Z"
   },
   {
    "duration": 48,
    "start_time": "2025-01-25T21:51:53.349Z"
   },
   {
    "duration": 12,
    "start_time": "2025-01-25T21:51:55.753Z"
   },
   {
    "duration": 3,
    "start_time": "2025-01-25T21:52:00.770Z"
   },
   {
    "duration": 5,
    "start_time": "2025-01-25T21:52:04.722Z"
   },
   {
    "duration": 5,
    "start_time": "2025-01-25T21:52:39.554Z"
   },
   {
    "duration": 4,
    "start_time": "2025-01-25T21:52:55.002Z"
   },
   {
    "duration": 4,
    "start_time": "2025-01-25T21:53:04.560Z"
   },
   {
    "duration": 3,
    "start_time": "2025-01-25T21:54:16.366Z"
   },
   {
    "duration": 5,
    "start_time": "2025-01-25T22:00:09.004Z"
   },
   {
    "duration": 3,
    "start_time": "2025-01-25T22:00:43.403Z"
   },
   {
    "duration": 4,
    "start_time": "2025-01-25T22:17:30.229Z"
   },
   {
    "duration": 3,
    "start_time": "2025-01-25T22:17:32.646Z"
   },
   {
    "duration": 3,
    "start_time": "2025-01-25T22:23:42.434Z"
   },
   {
    "duration": 3,
    "start_time": "2025-01-25T22:28:09.585Z"
   },
   {
    "duration": 4,
    "start_time": "2025-01-25T22:35:20.779Z"
   },
   {
    "duration": 5,
    "start_time": "2025-01-25T22:37:00.947Z"
   },
   {
    "duration": 721,
    "start_time": "2025-01-25T22:39:53.583Z"
   },
   {
    "duration": 52,
    "start_time": "2025-01-25T22:40:18.943Z"
   },
   {
    "duration": 76,
    "start_time": "2025-01-25T22:40:36.330Z"
   },
   {
    "duration": 120,
    "start_time": "2025-01-25T22:45:55.438Z"
   },
   {
    "duration": 54,
    "start_time": "2025-01-25T22:47:52.495Z"
   },
   {
    "duration": 4,
    "start_time": "2025-01-25T22:49:33.909Z"
   },
   {
    "duration": 58,
    "start_time": "2025-01-25T22:49:36.730Z"
   },
   {
    "duration": 4,
    "start_time": "2025-01-25T22:49:42.918Z"
   },
   {
    "duration": 5,
    "start_time": "2025-01-25T22:49:46.089Z"
   },
   {
    "duration": 51,
    "start_time": "2025-01-25T22:49:49.266Z"
   },
   {
    "duration": 6,
    "start_time": "2025-01-25T23:11:31.739Z"
   },
   {
    "duration": 5,
    "start_time": "2025-01-25T23:11:56.658Z"
   },
   {
    "duration": 6,
    "start_time": "2025-01-25T23:12:33.036Z"
   },
   {
    "duration": 4,
    "start_time": "2025-01-25T23:13:22.572Z"
   },
   {
    "duration": 5,
    "start_time": "2025-01-25T23:16:55.759Z"
   },
   {
    "duration": 5,
    "start_time": "2025-01-25T23:23:47.091Z"
   },
   {
    "duration": 4,
    "start_time": "2025-01-25T23:24:04.179Z"
   },
   {
    "duration": 5,
    "start_time": "2025-01-25T23:24:06.805Z"
   },
   {
    "duration": 4,
    "start_time": "2025-01-25T23:33:11.914Z"
   },
   {
    "duration": 4,
    "start_time": "2025-01-25T23:33:23.906Z"
   },
   {
    "duration": 4,
    "start_time": "2025-01-25T23:39:01.068Z"
   },
   {
    "duration": 3,
    "start_time": "2025-01-25T23:39:04.349Z"
   },
   {
    "duration": 5,
    "start_time": "2025-01-25T23:39:06.545Z"
   },
   {
    "duration": 11,
    "start_time": "2025-01-25T23:39:09.773Z"
   },
   {
    "duration": 4,
    "start_time": "2025-01-25T23:39:16.063Z"
   },
   {
    "duration": 3,
    "start_time": "2025-01-25T23:39:30.950Z"
   },
   {
    "duration": 4,
    "start_time": "2025-01-25T23:39:32.547Z"
   },
   {
    "duration": 3,
    "start_time": "2025-01-25T23:39:34.503Z"
   },
   {
    "duration": 3,
    "start_time": "2025-01-25T23:39:55.621Z"
   },
   {
    "duration": 115,
    "start_time": "2025-01-25T23:39:57.089Z"
   },
   {
    "duration": 12,
    "start_time": "2025-01-25T23:39:58.950Z"
   },
   {
    "duration": 32,
    "start_time": "2025-01-25T23:40:11.687Z"
   },
   {
    "duration": 3,
    "start_time": "2025-01-25T23:40:17.087Z"
   },
   {
    "duration": 9,
    "start_time": "2025-01-25T23:40:20.050Z"
   },
   {
    "duration": 4,
    "start_time": "2025-01-25T23:40:22.420Z"
   },
   {
    "duration": 25,
    "start_time": "2025-01-25T23:40:24.323Z"
   },
   {
    "duration": 39,
    "start_time": "2025-01-25T23:40:26.969Z"
   },
   {
    "duration": 19,
    "start_time": "2025-01-25T23:40:29.510Z"
   },
   {
    "duration": 41,
    "start_time": "2025-01-25T23:40:32.215Z"
   },
   {
    "duration": 42,
    "start_time": "2025-01-25T23:40:34.142Z"
   },
   {
    "duration": 62,
    "start_time": "2025-01-25T23:40:36.821Z"
   },
   {
    "duration": 15,
    "start_time": "2025-01-25T23:40:38.685Z"
   },
   {
    "duration": 4,
    "start_time": "2025-01-25T23:40:43.272Z"
   },
   {
    "duration": 3,
    "start_time": "2025-01-25T23:40:47.462Z"
   },
   {
    "duration": 5,
    "start_time": "2025-01-25T23:40:49.341Z"
   },
   {
    "duration": 220,
    "start_time": "2025-01-25T23:40:54.898Z"
   },
   {
    "duration": 3,
    "start_time": "2025-01-25T23:41:02.705Z"
   },
   {
    "duration": 5,
    "start_time": "2025-01-25T23:41:07.740Z"
   },
   {
    "duration": 6,
    "start_time": "2025-01-25T23:41:11.015Z"
   },
   {
    "duration": 4,
    "start_time": "2025-01-25T23:41:15.231Z"
   },
   {
    "duration": 5,
    "start_time": "2025-01-25T23:41:21.599Z"
   },
   {
    "duration": 5,
    "start_time": "2025-01-25T23:42:59.219Z"
   },
   {
    "duration": 4,
    "start_time": "2025-01-25T23:43:07.212Z"
   },
   {
    "duration": 7,
    "start_time": "2025-01-25T23:43:12.904Z"
   },
   {
    "duration": 4,
    "start_time": "2025-01-25T23:43:24.268Z"
   },
   {
    "duration": 4,
    "start_time": "2025-01-25T23:43:29.330Z"
   },
   {
    "duration": 6,
    "start_time": "2025-01-25T23:43:32.307Z"
   },
   {
    "duration": 4,
    "start_time": "2025-01-25T23:43:33.777Z"
   },
   {
    "duration": 6,
    "start_time": "2025-01-25T23:43:35.972Z"
   },
   {
    "duration": 4,
    "start_time": "2025-01-25T23:44:46.751Z"
   },
   {
    "duration": 5,
    "start_time": "2025-01-25T23:46:19.584Z"
   },
   {
    "duration": 3,
    "start_time": "2025-01-25T23:46:30.700Z"
   },
   {
    "duration": 2,
    "start_time": "2025-01-25T23:50:31.896Z"
   },
   {
    "duration": 4,
    "start_time": "2025-01-25T23:50:34.455Z"
   },
   {
    "duration": 3,
    "start_time": "2025-01-25T23:51:19.349Z"
   },
   {
    "duration": 26,
    "start_time": "2025-01-25T23:51:22.083Z"
   },
   {
    "duration": 3,
    "start_time": "2025-01-25T23:52:14.554Z"
   },
   {
    "duration": 19,
    "start_time": "2025-01-25T23:52:52.404Z"
   },
   {
    "duration": 16,
    "start_time": "2025-01-25T23:53:19.545Z"
   },
   {
    "duration": 4,
    "start_time": "2025-01-25T23:53:36.125Z"
   },
   {
    "duration": 172,
    "start_time": "2025-01-25T23:53:37.712Z"
   },
   {
    "duration": 10,
    "start_time": "2025-01-25T23:53:39.898Z"
   },
   {
    "duration": 30,
    "start_time": "2025-01-25T23:53:44.765Z"
   },
   {
    "duration": 4,
    "start_time": "2025-01-25T23:53:48.295Z"
   },
   {
    "duration": 8,
    "start_time": "2025-01-25T23:53:53.811Z"
   },
   {
    "duration": 3,
    "start_time": "2025-01-25T23:53:55.578Z"
   },
   {
    "duration": 19,
    "start_time": "2025-01-25T23:53:57.930Z"
   },
   {
    "duration": 28,
    "start_time": "2025-01-25T23:54:00.719Z"
   },
   {
    "duration": 18,
    "start_time": "2025-01-25T23:54:03.572Z"
   },
   {
    "duration": 39,
    "start_time": "2025-01-25T23:54:05.592Z"
   },
   {
    "duration": 40,
    "start_time": "2025-01-25T23:54:10.374Z"
   },
   {
    "duration": 44,
    "start_time": "2025-01-25T23:54:13.052Z"
   },
   {
    "duration": 16,
    "start_time": "2025-01-25T23:54:15.208Z"
   },
   {
    "duration": 4,
    "start_time": "2025-01-25T23:54:18.105Z"
   },
   {
    "duration": 3,
    "start_time": "2025-01-25T23:54:20.107Z"
   },
   {
    "duration": 4,
    "start_time": "2025-01-25T23:54:21.565Z"
   },
   {
    "duration": 4,
    "start_time": "2025-01-25T23:54:25.086Z"
   },
   {
    "duration": 8,
    "start_time": "2025-01-25T23:55:48.459Z"
   },
   {
    "duration": 4,
    "start_time": "2025-01-25T23:57:09.694Z"
   },
   {
    "duration": 3,
    "start_time": "2025-01-25T23:57:12.871Z"
   },
   {
    "duration": 8,
    "start_time": "2025-01-25T23:57:34.211Z"
   },
   {
    "duration": 6,
    "start_time": "2025-01-25T23:58:29.693Z"
   },
   {
    "duration": 4,
    "start_time": "2025-01-25T23:59:35.523Z"
   },
   {
    "duration": 6,
    "start_time": "2025-01-25T23:59:37.828Z"
   },
   {
    "duration": 5,
    "start_time": "2025-01-26T00:01:06.421Z"
   },
   {
    "duration": 4,
    "start_time": "2025-01-26T00:01:41.756Z"
   },
   {
    "duration": 4,
    "start_time": "2025-01-26T00:01:45.517Z"
   },
   {
    "duration": 3,
    "start_time": "2025-01-26T00:01:53.019Z"
   },
   {
    "duration": 112,
    "start_time": "2025-01-26T00:01:54.012Z"
   },
   {
    "duration": 14,
    "start_time": "2025-01-26T00:01:55.021Z"
   },
   {
    "duration": 22,
    "start_time": "2025-01-26T00:01:56.375Z"
   },
   {
    "duration": 3,
    "start_time": "2025-01-26T00:01:58.533Z"
   },
   {
    "duration": 7,
    "start_time": "2025-01-26T00:01:59.758Z"
   },
   {
    "duration": 3,
    "start_time": "2025-01-26T00:02:01.022Z"
   },
   {
    "duration": 25,
    "start_time": "2025-01-26T00:02:03.344Z"
   },
   {
    "duration": 40,
    "start_time": "2025-01-26T00:02:05.150Z"
   },
   {
    "duration": 18,
    "start_time": "2025-01-26T00:02:06.932Z"
   },
   {
    "duration": 42,
    "start_time": "2025-01-26T00:02:08.397Z"
   },
   {
    "duration": 48,
    "start_time": "2025-01-26T00:02:10.216Z"
   },
   {
    "duration": 46,
    "start_time": "2025-01-26T00:02:12.057Z"
   },
   {
    "duration": 17,
    "start_time": "2025-01-26T00:02:13.149Z"
   },
   {
    "duration": 3,
    "start_time": "2025-01-26T00:02:15.073Z"
   },
   {
    "duration": 3,
    "start_time": "2025-01-26T00:02:16.215Z"
   },
   {
    "duration": 3,
    "start_time": "2025-01-26T00:02:17.267Z"
   },
   {
    "duration": 3,
    "start_time": "2025-01-26T00:02:19.093Z"
   },
   {
    "duration": 4,
    "start_time": "2025-01-26T00:02:24.415Z"
   },
   {
    "duration": 5,
    "start_time": "2025-01-26T00:02:25.496Z"
   },
   {
    "duration": 5,
    "start_time": "2025-01-26T00:02:27.370Z"
   },
   {
    "duration": 5,
    "start_time": "2025-01-26T00:02:29.397Z"
   },
   {
    "duration": 4,
    "start_time": "2025-01-26T00:06:12.523Z"
   },
   {
    "duration": 4,
    "start_time": "2025-01-26T00:06:40.390Z"
   },
   {
    "duration": 260,
    "start_time": "2025-01-26T00:25:44.181Z"
   },
   {
    "duration": 42,
    "start_time": "2025-01-26T00:25:47.465Z"
   },
   {
    "duration": 4,
    "start_time": "2025-01-26T00:25:57.781Z"
   },
   {
    "duration": 109,
    "start_time": "2025-01-26T00:25:58.868Z"
   },
   {
    "duration": 11,
    "start_time": "2025-01-26T00:26:00.246Z"
   },
   {
    "duration": 24,
    "start_time": "2025-01-26T00:26:06.264Z"
   },
   {
    "duration": 3,
    "start_time": "2025-01-26T00:26:10.374Z"
   },
   {
    "duration": 13,
    "start_time": "2025-01-26T00:26:33.700Z"
   },
   {
    "duration": 3,
    "start_time": "2025-01-26T00:26:38.649Z"
   },
   {
    "duration": 19,
    "start_time": "2025-01-26T00:26:42.232Z"
   },
   {
    "duration": 32,
    "start_time": "2025-01-26T00:26:47.417Z"
   },
   {
    "duration": 18,
    "start_time": "2025-01-26T00:26:50.478Z"
   },
   {
    "duration": 44,
    "start_time": "2025-01-26T00:26:52.899Z"
   },
   {
    "duration": 42,
    "start_time": "2025-01-26T00:26:57.627Z"
   },
   {
    "duration": 43,
    "start_time": "2025-01-26T00:27:00.591Z"
   },
   {
    "duration": 13,
    "start_time": "2025-01-26T00:27:02.397Z"
   },
   {
    "duration": 4,
    "start_time": "2025-01-26T00:27:05.889Z"
   },
   {
    "duration": 3,
    "start_time": "2025-01-26T00:27:10.480Z"
   },
   {
    "duration": 4,
    "start_time": "2025-01-26T00:27:13.483Z"
   },
   {
    "duration": 3,
    "start_time": "2025-01-26T00:27:16.467Z"
   },
   {
    "duration": 4,
    "start_time": "2025-01-26T00:27:21.320Z"
   },
   {
    "duration": 5,
    "start_time": "2025-01-26T00:27:30.759Z"
   },
   {
    "duration": 4,
    "start_time": "2025-01-26T00:27:42.381Z"
   },
   {
    "duration": 4,
    "start_time": "2025-01-26T00:27:47.584Z"
   },
   {
    "duration": 3,
    "start_time": "2025-01-26T00:28:08.112Z"
   },
   {
    "duration": 4,
    "start_time": "2025-01-26T00:31:17.381Z"
   },
   {
    "duration": 4,
    "start_time": "2025-01-26T00:32:22.716Z"
   },
   {
    "duration": 6,
    "start_time": "2025-01-26T00:32:50.928Z"
   },
   {
    "duration": 9,
    "start_time": "2025-01-26T00:44:42.980Z"
   },
   {
    "duration": 5,
    "start_time": "2025-01-26T00:44:48.258Z"
   },
   {
    "duration": 2,
    "start_time": "2025-01-26T00:49:08.594Z"
   },
   {
    "duration": 143,
    "start_time": "2025-01-26T00:49:09.547Z"
   },
   {
    "duration": 13,
    "start_time": "2025-01-26T00:49:10.692Z"
   },
   {
    "duration": 25,
    "start_time": "2025-01-26T00:49:12.026Z"
   },
   {
    "duration": 3,
    "start_time": "2025-01-26T00:49:14.156Z"
   },
   {
    "duration": 9,
    "start_time": "2025-01-26T00:49:15.363Z"
   },
   {
    "duration": 3,
    "start_time": "2025-01-26T00:49:16.473Z"
   },
   {
    "duration": 26,
    "start_time": "2025-01-26T00:49:17.660Z"
   },
   {
    "duration": 30,
    "start_time": "2025-01-26T00:49:19.231Z"
   },
   {
    "duration": 18,
    "start_time": "2025-01-26T00:49:20.842Z"
   },
   {
    "duration": 43,
    "start_time": "2025-01-26T00:49:22.269Z"
   },
   {
    "duration": 59,
    "start_time": "2025-01-26T00:49:24.880Z"
   },
   {
    "duration": 64,
    "start_time": "2025-01-26T00:49:26.424Z"
   },
   {
    "duration": 17,
    "start_time": "2025-01-26T00:49:27.865Z"
   },
   {
    "duration": 4,
    "start_time": "2025-01-26T00:49:30.388Z"
   },
   {
    "duration": 2,
    "start_time": "2025-01-26T00:49:32.550Z"
   },
   {
    "duration": 5,
    "start_time": "2025-01-26T00:49:34.148Z"
   },
   {
    "duration": 3,
    "start_time": "2025-01-26T00:49:35.644Z"
   },
   {
    "duration": 3,
    "start_time": "2025-01-26T00:49:39.206Z"
   },
   {
    "duration": 5,
    "start_time": "2025-01-26T00:49:41.307Z"
   },
   {
    "duration": 10,
    "start_time": "2025-01-26T00:49:43.657Z"
   },
   {
    "duration": 5,
    "start_time": "2025-01-26T00:49:49.058Z"
   },
   {
    "duration": 7,
    "start_time": "2025-01-26T01:06:13.217Z"
   },
   {
    "duration": 8,
    "start_time": "2025-01-26T01:06:22.485Z"
   },
   {
    "duration": 6,
    "start_time": "2025-01-26T01:06:23.689Z"
   },
   {
    "duration": 7,
    "start_time": "2025-01-26T01:06:27.952Z"
   },
   {
    "duration": 5,
    "start_time": "2025-01-26T01:06:29.926Z"
   },
   {
    "duration": 3,
    "start_time": "2025-01-26T01:16:47.513Z"
   },
   {
    "duration": 5,
    "start_time": "2025-01-26T01:16:49.691Z"
   },
   {
    "duration": 7,
    "start_time": "2025-01-26T01:16:53.336Z"
   },
   {
    "duration": 5,
    "start_time": "2025-01-26T01:17:00.700Z"
   },
   {
    "duration": 3,
    "start_time": "2025-01-26T01:20:22.798Z"
   },
   {
    "duration": 5,
    "start_time": "2025-01-26T01:20:23.738Z"
   },
   {
    "duration": 3,
    "start_time": "2025-01-26T01:30:07.552Z"
   },
   {
    "duration": 13,
    "start_time": "2025-01-26T01:30:20.491Z"
   },
   {
    "duration": 3,
    "start_time": "2025-01-26T01:30:28.443Z"
   },
   {
    "duration": 2,
    "start_time": "2025-01-26T01:31:09.287Z"
   },
   {
    "duration": 3,
    "start_time": "2025-01-26T01:31:12.384Z"
   },
   {
    "duration": 3,
    "start_time": "2025-01-26T01:31:14.086Z"
   },
   {
    "duration": 3,
    "start_time": "2025-01-26T01:31:36.967Z"
   },
   {
    "duration": 3,
    "start_time": "2025-01-26T01:32:02.891Z"
   },
   {
    "duration": 3,
    "start_time": "2025-01-26T01:32:07.003Z"
   },
   {
    "duration": 3,
    "start_time": "2025-01-26T01:32:09.676Z"
   },
   {
    "duration": 2,
    "start_time": "2025-01-26T01:33:37.094Z"
   },
   {
    "duration": 3,
    "start_time": "2025-01-26T01:33:44.689Z"
   },
   {
    "duration": 3,
    "start_time": "2025-01-26T01:34:03.300Z"
   },
   {
    "duration": 2,
    "start_time": "2025-01-26T01:35:39.245Z"
   },
   {
    "duration": 113,
    "start_time": "2025-01-26T01:35:40.184Z"
   },
   {
    "duration": 11,
    "start_time": "2025-01-26T01:35:41.164Z"
   },
   {
    "duration": 24,
    "start_time": "2025-01-26T01:35:42.353Z"
   },
   {
    "duration": 3,
    "start_time": "2025-01-26T01:35:44.488Z"
   },
   {
    "duration": 9,
    "start_time": "2025-01-26T01:35:46.263Z"
   },
   {
    "duration": 3,
    "start_time": "2025-01-26T01:35:47.489Z"
   },
   {
    "duration": 18,
    "start_time": "2025-01-26T01:35:48.818Z"
   },
   {
    "duration": 31,
    "start_time": "2025-01-26T01:35:50.262Z"
   },
   {
    "duration": 19,
    "start_time": "2025-01-26T01:35:51.652Z"
   },
   {
    "duration": 40,
    "start_time": "2025-01-26T01:35:53.045Z"
   },
   {
    "duration": 44,
    "start_time": "2025-01-26T01:35:54.710Z"
   },
   {
    "duration": 45,
    "start_time": "2025-01-26T01:35:56.645Z"
   },
   {
    "duration": 12,
    "start_time": "2025-01-26T01:35:58.408Z"
   },
   {
    "duration": 3,
    "start_time": "2025-01-26T01:36:00.498Z"
   },
   {
    "duration": 3,
    "start_time": "2025-01-26T01:36:32.512Z"
   },
   {
    "duration": 4,
    "start_time": "2025-01-26T01:36:34.342Z"
   },
   {
    "duration": 3,
    "start_time": "2025-01-26T01:36:36.157Z"
   },
   {
    "duration": 4,
    "start_time": "2025-01-26T01:36:41.075Z"
   },
   {
    "duration": 5,
    "start_time": "2025-01-26T01:36:45.602Z"
   },
   {
    "duration": 2,
    "start_time": "2025-01-26T01:36:51.946Z"
   },
   {
    "duration": 4,
    "start_time": "2025-01-26T01:42:19.188Z"
   },
   {
    "duration": 5,
    "start_time": "2025-01-26T01:43:31.452Z"
   },
   {
    "duration": 4,
    "start_time": "2025-01-26T01:43:39.325Z"
   },
   {
    "duration": 4,
    "start_time": "2025-01-26T01:47:12.968Z"
   },
   {
    "duration": 14,
    "start_time": "2025-01-26T01:48:15.506Z"
   },
   {
    "duration": 110,
    "start_time": "2025-01-26T01:49:19.674Z"
   },
   {
    "duration": 10,
    "start_time": "2025-01-26T01:49:20.901Z"
   },
   {
    "duration": 21,
    "start_time": "2025-01-26T01:49:22.691Z"
   },
   {
    "duration": 3,
    "start_time": "2025-01-26T01:49:25.291Z"
   },
   {
    "duration": 9,
    "start_time": "2025-01-26T01:49:26.626Z"
   },
   {
    "duration": 3,
    "start_time": "2025-01-26T01:49:28.063Z"
   },
   {
    "duration": 19,
    "start_time": "2025-01-26T01:49:29.566Z"
   },
   {
    "duration": 30,
    "start_time": "2025-01-26T01:49:30.997Z"
   },
   {
    "duration": 19,
    "start_time": "2025-01-26T01:49:32.821Z"
   },
   {
    "duration": 38,
    "start_time": "2025-01-26T01:49:34.375Z"
   },
   {
    "duration": 42,
    "start_time": "2025-01-26T01:49:35.930Z"
   },
   {
    "duration": 45,
    "start_time": "2025-01-26T01:49:37.334Z"
   },
   {
    "duration": 12,
    "start_time": "2025-01-26T01:49:38.948Z"
   },
   {
    "duration": 3,
    "start_time": "2025-01-26T01:49:40.969Z"
   },
   {
    "duration": 3,
    "start_time": "2025-01-26T01:49:45.242Z"
   },
   {
    "duration": 13,
    "start_time": "2025-01-26T01:49:47.251Z"
   },
   {
    "duration": 13,
    "start_time": "2025-01-26T01:50:12.836Z"
   },
   {
    "duration": 4,
    "start_time": "2025-01-26T01:53:36.183Z"
   },
   {
    "duration": 4,
    "start_time": "2025-01-26T01:53:49.586Z"
   },
   {
    "duration": 3,
    "start_time": "2025-01-26T01:53:51.478Z"
   },
   {
    "duration": 4,
    "start_time": "2025-01-26T01:54:04.295Z"
   },
   {
    "duration": 3,
    "start_time": "2025-01-26T01:54:08.497Z"
   },
   {
    "duration": 4,
    "start_time": "2025-01-26T01:54:28.539Z"
   },
   {
    "duration": 4,
    "start_time": "2025-01-26T01:54:39.778Z"
   },
   {
    "duration": 4,
    "start_time": "2025-01-26T01:55:25.105Z"
   },
   {
    "duration": 7,
    "start_time": "2025-01-26T01:55:31.473Z"
   },
   {
    "duration": 3,
    "start_time": "2025-01-26T01:55:32.660Z"
   },
   {
    "duration": 4,
    "start_time": "2025-01-26T01:55:35.682Z"
   },
   {
    "duration": 5,
    "start_time": "2025-01-26T01:55:36.513Z"
   },
   {
    "duration": 4,
    "start_time": "2025-01-26T02:09:41.029Z"
   },
   {
    "duration": 3,
    "start_time": "2025-01-26T02:09:57.202Z"
   },
   {
    "duration": 5,
    "start_time": "2025-01-26T02:10:30.810Z"
   },
   {
    "duration": 11,
    "start_time": "2025-01-26T02:10:48.984Z"
   },
   {
    "duration": 7,
    "start_time": "2025-01-26T02:11:02.296Z"
   },
   {
    "duration": 3,
    "start_time": "2025-01-26T02:11:14.907Z"
   },
   {
    "duration": 4,
    "start_time": "2025-01-26T02:12:29.227Z"
   },
   {
    "duration": 3,
    "start_time": "2025-01-26T02:12:30.832Z"
   },
   {
    "duration": 3,
    "start_time": "2025-01-26T02:12:32.034Z"
   },
   {
    "duration": 3,
    "start_time": "2025-01-26T02:12:33.754Z"
   },
   {
    "duration": 4,
    "start_time": "2025-01-26T02:12:38.323Z"
   },
   {
    "duration": 3,
    "start_time": "2025-01-26T02:13:51.892Z"
   },
   {
    "duration": 3,
    "start_time": "2025-01-26T02:13:53.349Z"
   },
   {
    "duration": 4,
    "start_time": "2025-01-26T02:13:58.482Z"
   },
   {
    "duration": 4,
    "start_time": "2025-01-26T02:14:00.334Z"
   },
   {
    "duration": 4,
    "start_time": "2025-01-26T02:14:22.359Z"
   },
   {
    "duration": 4,
    "start_time": "2025-01-26T02:14:27.674Z"
   },
   {
    "duration": 4,
    "start_time": "2025-01-26T02:23:29.097Z"
   },
   {
    "duration": 4,
    "start_time": "2025-01-26T02:23:33.993Z"
   },
   {
    "duration": 8,
    "start_time": "2025-01-26T02:23:36.303Z"
   },
   {
    "duration": 5,
    "start_time": "2025-01-26T02:23:56.541Z"
   },
   {
    "duration": 3,
    "start_time": "2025-01-26T02:24:02.098Z"
   },
   {
    "duration": 2,
    "start_time": "2025-01-26T02:31:45.242Z"
   },
   {
    "duration": 6,
    "start_time": "2025-01-26T02:31:46.918Z"
   },
   {
    "duration": 3,
    "start_time": "2025-01-26T02:31:51.548Z"
   },
   {
    "duration": 4,
    "start_time": "2025-01-26T02:37:27.674Z"
   },
   {
    "duration": 3,
    "start_time": "2025-01-26T02:37:41.187Z"
   },
   {
    "duration": 3,
    "start_time": "2025-01-26T02:40:03.981Z"
   },
   {
    "duration": 4,
    "start_time": "2025-01-26T02:40:07.701Z"
   },
   {
    "duration": 3,
    "start_time": "2025-01-26T02:40:11.170Z"
   },
   {
    "duration": 4,
    "start_time": "2025-01-26T02:40:15.078Z"
   },
   {
    "duration": 4,
    "start_time": "2025-01-26T02:40:58.216Z"
   },
   {
    "duration": 7,
    "start_time": "2025-01-26T02:41:04.199Z"
   },
   {
    "duration": 2,
    "start_time": "2025-01-26T02:41:33.766Z"
   },
   {
    "duration": 4,
    "start_time": "2025-01-26T02:41:51.681Z"
   },
   {
    "duration": 4,
    "start_time": "2025-01-26T02:41:54.416Z"
   },
   {
    "duration": 3,
    "start_time": "2025-01-26T02:42:02.790Z"
   },
   {
    "duration": 4,
    "start_time": "2025-01-26T02:42:06.370Z"
   },
   {
    "duration": 3,
    "start_time": "2025-01-26T02:45:31.759Z"
   },
   {
    "duration": 4,
    "start_time": "2025-01-26T02:45:59.775Z"
   },
   {
    "duration": 3,
    "start_time": "2025-01-26T02:51:39.064Z"
   },
   {
    "duration": 108,
    "start_time": "2025-01-26T02:51:40.184Z"
   },
   {
    "duration": 10,
    "start_time": "2025-01-26T02:51:41.505Z"
   },
   {
    "duration": 26,
    "start_time": "2025-01-26T02:51:43.484Z"
   },
   {
    "duration": 3,
    "start_time": "2025-01-26T02:51:46.212Z"
   },
   {
    "duration": 9,
    "start_time": "2025-01-26T02:51:48.317Z"
   },
   {
    "duration": 3,
    "start_time": "2025-01-26T02:51:50.283Z"
   },
   {
    "duration": 20,
    "start_time": "2025-01-26T02:51:52.257Z"
   },
   {
    "duration": 30,
    "start_time": "2025-01-26T02:51:57.624Z"
   },
   {
    "duration": 18,
    "start_time": "2025-01-26T02:51:59.407Z"
   },
   {
    "duration": 39,
    "start_time": "2025-01-26T02:52:03.818Z"
   },
   {
    "duration": 43,
    "start_time": "2025-01-26T02:52:06.159Z"
   },
   {
    "duration": 46,
    "start_time": "2025-01-26T02:52:08.658Z"
   },
   {
    "duration": 10692,
    "start_time": "2025-01-26T02:52:21.078Z"
   },
   {
    "duration": 5,
    "start_time": "2025-01-26T02:52:31.771Z"
   },
   {
    "duration": 13,
    "start_time": "2025-01-26T02:52:31.778Z"
   },
   {
    "duration": 18,
    "start_time": "2025-01-26T02:52:31.792Z"
   },
   {
    "duration": 35,
    "start_time": "2025-01-26T02:52:31.812Z"
   },
   {
    "duration": 14,
    "start_time": "2025-01-26T02:52:31.849Z"
   },
   {
    "duration": 3,
    "start_time": "2025-01-26T02:59:24.278Z"
   },
   {
    "duration": 7,
    "start_time": "2025-01-26T03:03:46.113Z"
   },
   {
    "duration": 13,
    "start_time": "2025-01-26T03:03:59.141Z"
   },
   {
    "duration": 13,
    "start_time": "2025-01-26T03:04:03.896Z"
   },
   {
    "duration": 10,
    "start_time": "2025-01-26T03:12:08.920Z"
   },
   {
    "duration": 8,
    "start_time": "2025-01-26T03:12:20.974Z"
   },
   {
    "duration": 9,
    "start_time": "2025-01-26T03:16:06.035Z"
   },
   {
    "duration": 14,
    "start_time": "2025-01-26T03:23:44.252Z"
   },
   {
    "duration": 9,
    "start_time": "2025-01-26T03:24:03.128Z"
   },
   {
    "duration": 171,
    "start_time": "2025-01-26T17:31:24.069Z"
   },
   {
    "duration": 13,
    "start_time": "2025-01-26T17:31:34.176Z"
   },
   {
    "duration": 13,
    "start_time": "2025-01-26T17:31:55.761Z"
   },
   {
    "duration": 12,
    "start_time": "2025-01-26T17:32:31.612Z"
   },
   {
    "duration": 290,
    "start_time": "2025-01-26T18:26:37.423Z"
   },
   {
    "duration": 136,
    "start_time": "2025-01-26T18:26:38.372Z"
   },
   {
    "duration": 14,
    "start_time": "2025-01-26T18:26:40.611Z"
   },
   {
    "duration": 158,
    "start_time": "2025-01-26T18:27:26.360Z"
   },
   {
    "duration": 272,
    "start_time": "2025-01-26T18:27:40.941Z"
   },
   {
    "duration": 113,
    "start_time": "2025-01-26T18:27:41.215Z"
   },
   {
    "duration": 16,
    "start_time": "2025-01-26T18:27:41.330Z"
   },
   {
    "duration": 35,
    "start_time": "2025-01-26T18:27:41.347Z"
   },
   {
    "duration": 3,
    "start_time": "2025-01-26T18:27:41.385Z"
   },
   {
    "duration": 9,
    "start_time": "2025-01-26T18:27:41.390Z"
   },
   {
    "duration": 2,
    "start_time": "2025-01-26T18:27:41.402Z"
   },
   {
    "duration": 18,
    "start_time": "2025-01-26T18:27:41.406Z"
   },
   {
    "duration": 57,
    "start_time": "2025-01-26T18:27:41.425Z"
   },
   {
    "duration": 17,
    "start_time": "2025-01-26T18:27:41.483Z"
   },
   {
    "duration": 40,
    "start_time": "2025-01-26T18:27:41.502Z"
   },
   {
    "duration": 57,
    "start_time": "2025-01-26T18:27:41.543Z"
   },
   {
    "duration": 48,
    "start_time": "2025-01-26T18:27:41.603Z"
   },
   {
    "duration": 10519,
    "start_time": "2025-01-26T18:27:41.669Z"
   },
   {
    "duration": 5,
    "start_time": "2025-01-26T18:27:52.191Z"
   },
   {
    "duration": 7,
    "start_time": "2025-01-26T18:27:52.198Z"
   },
   {
    "duration": 18,
    "start_time": "2025-01-26T18:27:52.206Z"
   },
   {
    "duration": 6,
    "start_time": "2025-01-26T18:29:11.398Z"
   },
   {
    "duration": 335,
    "start_time": "2025-01-26T18:29:36.490Z"
   },
   {
    "duration": 123,
    "start_time": "2025-01-26T18:29:36.828Z"
   },
   {
    "duration": 18,
    "start_time": "2025-01-26T18:29:36.953Z"
   },
   {
    "duration": 28,
    "start_time": "2025-01-26T18:29:36.973Z"
   },
   {
    "duration": 3,
    "start_time": "2025-01-26T18:29:37.003Z"
   },
   {
    "duration": 6,
    "start_time": "2025-01-26T18:29:37.008Z"
   },
   {
    "duration": 3,
    "start_time": "2025-01-26T18:29:37.015Z"
   },
   {
    "duration": 17,
    "start_time": "2025-01-26T18:29:37.020Z"
   },
   {
    "duration": 61,
    "start_time": "2025-01-26T18:29:37.039Z"
   },
   {
    "duration": 16,
    "start_time": "2025-01-26T18:29:37.102Z"
   },
   {
    "duration": 59,
    "start_time": "2025-01-26T18:29:37.120Z"
   },
   {
    "duration": 46,
    "start_time": "2025-01-26T18:29:37.183Z"
   },
   {
    "duration": 58,
    "start_time": "2025-01-26T18:29:37.231Z"
   },
   {
    "duration": 10585,
    "start_time": "2025-01-26T18:29:37.293Z"
   },
   {
    "duration": 5,
    "start_time": "2025-01-26T18:29:47.880Z"
   },
   {
    "duration": 4,
    "start_time": "2025-01-26T18:29:47.886Z"
   },
   {
    "duration": 16,
    "start_time": "2025-01-26T18:29:47.891Z"
   },
   {
    "duration": 26,
    "start_time": "2025-01-26T18:29:47.909Z"
   },
   {
    "duration": 12,
    "start_time": "2025-01-26T18:29:47.936Z"
   },
   {
    "duration": 28,
    "start_time": "2025-01-26T18:29:47.950Z"
   },
   {
    "duration": 10,
    "start_time": "2025-01-26T18:29:47.979Z"
   },
   {
    "duration": 6,
    "start_time": "2025-01-26T18:29:47.991Z"
   },
   {
    "duration": 197,
    "start_time": "2025-01-26T18:29:47.998Z"
   },
   {
    "duration": 0,
    "start_time": "2025-01-26T18:29:48.197Z"
   },
   {
    "duration": 11,
    "start_time": "2025-01-26T18:34:15.195Z"
   },
   {
    "duration": 17,
    "start_time": "2025-01-26T18:35:47.571Z"
   },
   {
    "duration": 7,
    "start_time": "2025-01-26T18:36:18.141Z"
   },
   {
    "duration": 6,
    "start_time": "2025-01-26T18:36:38.928Z"
   },
   {
    "duration": 13,
    "start_time": "2025-01-26T18:38:55.306Z"
   },
   {
    "duration": 420,
    "start_time": "2025-01-26T18:41:42.248Z"
   },
   {
    "duration": 6,
    "start_time": "2025-01-26T18:45:29.914Z"
   },
   {
    "duration": 9,
    "start_time": "2025-01-26T18:46:15.579Z"
   },
   {
    "duration": 17,
    "start_time": "2025-01-26T19:01:43.920Z"
   },
   {
    "duration": 153,
    "start_time": "2025-01-26T19:08:10.221Z"
   },
   {
    "duration": 42,
    "start_time": "2025-01-26T19:13:13.591Z"
   },
   {
    "duration": 278,
    "start_time": "2025-01-26T19:13:36.243Z"
   },
   {
    "duration": 132,
    "start_time": "2025-01-26T19:13:36.524Z"
   },
   {
    "duration": 20,
    "start_time": "2025-01-26T19:13:36.658Z"
   },
   {
    "duration": 24,
    "start_time": "2025-01-26T19:13:36.681Z"
   },
   {
    "duration": 3,
    "start_time": "2025-01-26T19:13:36.706Z"
   },
   {
    "duration": 7,
    "start_time": "2025-01-26T19:13:36.711Z"
   },
   {
    "duration": 3,
    "start_time": "2025-01-26T19:13:36.720Z"
   },
   {
    "duration": 51,
    "start_time": "2025-01-26T19:13:36.725Z"
   },
   {
    "duration": 31,
    "start_time": "2025-01-26T19:13:36.780Z"
   },
   {
    "duration": 17,
    "start_time": "2025-01-26T19:13:36.814Z"
   },
   {
    "duration": 63,
    "start_time": "2025-01-26T19:13:36.833Z"
   },
   {
    "duration": 43,
    "start_time": "2025-01-26T19:13:36.898Z"
   },
   {
    "duration": 62,
    "start_time": "2025-01-26T19:13:36.945Z"
   },
   {
    "duration": 10474,
    "start_time": "2025-01-26T19:13:37.008Z"
   },
   {
    "duration": 6,
    "start_time": "2025-01-26T19:13:47.484Z"
   },
   {
    "duration": 2,
    "start_time": "2025-01-26T19:13:47.493Z"
   },
   {
    "duration": 17,
    "start_time": "2025-01-26T19:13:47.497Z"
   },
   {
    "duration": 23,
    "start_time": "2025-01-26T19:13:47.515Z"
   },
   {
    "duration": 30,
    "start_time": "2025-01-26T19:13:47.540Z"
   },
   {
    "duration": 13,
    "start_time": "2025-01-26T19:13:47.572Z"
   },
   {
    "duration": 17,
    "start_time": "2025-01-26T19:13:47.586Z"
   },
   {
    "duration": 5,
    "start_time": "2025-01-26T19:13:47.604Z"
   },
   {
    "duration": 7,
    "start_time": "2025-01-26T19:13:47.611Z"
   },
   {
    "duration": 213,
    "start_time": "2025-01-26T19:13:47.620Z"
   },
   {
    "duration": 4,
    "start_time": "2025-01-26T19:15:06.419Z"
   },
   {
    "duration": 4,
    "start_time": "2025-01-26T19:15:22.011Z"
   },
   {
    "duration": 16,
    "start_time": "2025-01-26T19:17:34.905Z"
   },
   {
    "duration": 4,
    "start_time": "2025-01-26T19:18:05.226Z"
   },
   {
    "duration": 339,
    "start_time": "2025-01-26T19:25:04.988Z"
   },
   {
    "duration": 275,
    "start_time": "2025-01-26T19:25:31.439Z"
   },
   {
    "duration": 121,
    "start_time": "2025-01-26T19:25:31.716Z"
   },
   {
    "duration": 13,
    "start_time": "2025-01-26T19:25:31.839Z"
   },
   {
    "duration": 33,
    "start_time": "2025-01-26T19:25:31.854Z"
   },
   {
    "duration": 3,
    "start_time": "2025-01-26T19:25:31.890Z"
   },
   {
    "duration": 5,
    "start_time": "2025-01-26T19:25:31.895Z"
   },
   {
    "duration": 2,
    "start_time": "2025-01-26T19:25:31.902Z"
   },
   {
    "duration": 18,
    "start_time": "2025-01-26T19:25:31.906Z"
   },
   {
    "duration": 56,
    "start_time": "2025-01-26T19:25:31.927Z"
   },
   {
    "duration": 17,
    "start_time": "2025-01-26T19:25:31.985Z"
   },
   {
    "duration": 41,
    "start_time": "2025-01-26T19:25:32.003Z"
   },
   {
    "duration": 59,
    "start_time": "2025-01-26T19:25:32.046Z"
   },
   {
    "duration": 48,
    "start_time": "2025-01-26T19:25:32.107Z"
   },
   {
    "duration": 10539,
    "start_time": "2025-01-26T19:25:32.171Z"
   },
   {
    "duration": 6,
    "start_time": "2025-01-26T19:25:42.711Z"
   },
   {
    "duration": 3,
    "start_time": "2025-01-26T19:25:42.718Z"
   },
   {
    "duration": 19,
    "start_time": "2025-01-26T19:25:42.723Z"
   },
   {
    "duration": 43,
    "start_time": "2025-01-26T19:25:42.743Z"
   },
   {
    "duration": 12,
    "start_time": "2025-01-26T19:25:42.788Z"
   },
   {
    "duration": 13,
    "start_time": "2025-01-26T19:25:42.802Z"
   },
   {
    "duration": 16,
    "start_time": "2025-01-26T19:25:42.816Z"
   },
   {
    "duration": 5,
    "start_time": "2025-01-26T19:25:42.834Z"
   },
   {
    "duration": 30,
    "start_time": "2025-01-26T19:25:42.841Z"
   },
   {
    "duration": 506,
    "start_time": "2025-01-26T19:25:42.872Z"
   },
   {
    "duration": 0,
    "start_time": "2025-01-26T19:25:43.379Z"
   },
   {
    "duration": 11,
    "start_time": "2025-01-26T19:27:37.006Z"
   },
   {
    "duration": 13,
    "start_time": "2025-01-26T19:27:44.366Z"
   },
   {
    "duration": 21,
    "start_time": "2025-01-26T19:30:51.368Z"
   },
   {
    "duration": 199,
    "start_time": "2025-01-26T19:33:02.245Z"
   },
   {
    "duration": 274,
    "start_time": "2025-01-26T19:33:48.554Z"
   },
   {
    "duration": 117,
    "start_time": "2025-01-26T19:33:48.830Z"
   },
   {
    "duration": 22,
    "start_time": "2025-01-26T19:33:48.949Z"
   },
   {
    "duration": 23,
    "start_time": "2025-01-26T19:33:48.974Z"
   },
   {
    "duration": 3,
    "start_time": "2025-01-26T19:33:48.999Z"
   },
   {
    "duration": 7,
    "start_time": "2025-01-26T19:33:49.004Z"
   },
   {
    "duration": 3,
    "start_time": "2025-01-26T19:33:49.012Z"
   },
   {
    "duration": 18,
    "start_time": "2025-01-26T19:33:49.016Z"
   },
   {
    "duration": 61,
    "start_time": "2025-01-26T19:33:49.036Z"
   },
   {
    "duration": 19,
    "start_time": "2025-01-26T19:33:49.101Z"
   },
   {
    "duration": 63,
    "start_time": "2025-01-26T19:33:49.122Z"
   },
   {
    "duration": 43,
    "start_time": "2025-01-26T19:33:49.186Z"
   },
   {
    "duration": 62,
    "start_time": "2025-01-26T19:33:49.231Z"
   },
   {
    "duration": 10429,
    "start_time": "2025-01-26T19:33:49.294Z"
   },
   {
    "duration": 6,
    "start_time": "2025-01-26T19:33:59.725Z"
   },
   {
    "duration": 2,
    "start_time": "2025-01-26T19:33:59.733Z"
   },
   {
    "duration": 34,
    "start_time": "2025-01-26T19:33:59.737Z"
   },
   {
    "duration": 32,
    "start_time": "2025-01-26T19:33:59.774Z"
   },
   {
    "duration": 12,
    "start_time": "2025-01-26T19:33:59.808Z"
   },
   {
    "duration": 12,
    "start_time": "2025-01-26T19:33:59.822Z"
   },
   {
    "duration": 19,
    "start_time": "2025-01-26T19:33:59.836Z"
   },
   {
    "duration": 16,
    "start_time": "2025-01-26T19:33:59.857Z"
   },
   {
    "duration": 10,
    "start_time": "2025-01-26T19:33:59.875Z"
   },
   {
    "duration": 6,
    "start_time": "2025-01-26T19:33:59.887Z"
   },
   {
    "duration": 204,
    "start_time": "2025-01-26T19:33:59.895Z"
   },
   {
    "duration": 271,
    "start_time": "2025-01-26T20:43:35.725Z"
   },
   {
    "duration": 134,
    "start_time": "2025-01-26T20:43:35.997Z"
   },
   {
    "duration": 18,
    "start_time": "2025-01-26T20:43:36.133Z"
   },
   {
    "duration": 23,
    "start_time": "2025-01-26T20:43:36.153Z"
   },
   {
    "duration": 2,
    "start_time": "2025-01-26T20:43:36.179Z"
   },
   {
    "duration": 6,
    "start_time": "2025-01-26T20:43:36.183Z"
   },
   {
    "duration": 3,
    "start_time": "2025-01-26T20:43:36.190Z"
   },
   {
    "duration": 51,
    "start_time": "2025-01-26T20:43:36.195Z"
   },
   {
    "duration": 31,
    "start_time": "2025-01-26T20:43:36.248Z"
   },
   {
    "duration": 15,
    "start_time": "2025-01-26T20:43:36.281Z"
   },
   {
    "duration": 54,
    "start_time": "2025-01-26T20:43:36.298Z"
   },
   {
    "duration": 45,
    "start_time": "2025-01-26T20:43:36.354Z"
   },
   {
    "duration": 62,
    "start_time": "2025-01-26T20:43:36.401Z"
   },
   {
    "duration": 10666,
    "start_time": "2025-01-26T20:43:36.466Z"
   },
   {
    "duration": 8,
    "start_time": "2025-01-26T20:43:47.134Z"
   },
   {
    "duration": 2,
    "start_time": "2025-01-26T20:43:47.144Z"
   },
   {
    "duration": 17,
    "start_time": "2025-01-26T20:43:47.148Z"
   },
   {
    "duration": 25,
    "start_time": "2025-01-26T20:43:47.166Z"
   },
   {
    "duration": 11,
    "start_time": "2025-01-26T20:43:47.193Z"
   },
   {
    "duration": 14,
    "start_time": "2025-01-26T20:43:47.206Z"
   },
   {
    "duration": 18,
    "start_time": "2025-01-26T20:43:47.243Z"
   },
   {
    "duration": 5,
    "start_time": "2025-01-26T20:43:47.263Z"
   },
   {
    "duration": 10,
    "start_time": "2025-01-26T20:43:47.269Z"
   },
   {
    "duration": 6,
    "start_time": "2025-01-26T20:43:47.280Z"
   },
   {
    "duration": 40,
    "start_time": "2025-01-26T20:44:19.016Z"
   },
   {
    "duration": 273,
    "start_time": "2025-01-26T20:44:28.125Z"
   },
   {
    "duration": 119,
    "start_time": "2025-01-26T20:44:28.400Z"
   },
   {
    "duration": 23,
    "start_time": "2025-01-26T20:44:28.521Z"
   },
   {
    "duration": 24,
    "start_time": "2025-01-26T20:44:28.545Z"
   },
   {
    "duration": 4,
    "start_time": "2025-01-26T20:44:28.571Z"
   },
   {
    "duration": 5,
    "start_time": "2025-01-26T20:44:28.577Z"
   },
   {
    "duration": 3,
    "start_time": "2025-01-26T20:44:28.584Z"
   },
   {
    "duration": 18,
    "start_time": "2025-01-26T20:44:28.588Z"
   },
   {
    "duration": 60,
    "start_time": "2025-01-26T20:44:28.608Z"
   },
   {
    "duration": 21,
    "start_time": "2025-01-26T20:44:28.671Z"
   },
   {
    "duration": 58,
    "start_time": "2025-01-26T20:44:28.694Z"
   },
   {
    "duration": 44,
    "start_time": "2025-01-26T20:44:28.754Z"
   },
   {
    "duration": 57,
    "start_time": "2025-01-26T20:44:28.800Z"
   },
   {
    "duration": 37,
    "start_time": "2025-01-26T20:44:28.861Z"
   },
   {
    "duration": 5,
    "start_time": "2025-01-26T20:44:28.901Z"
   },
   {
    "duration": 3,
    "start_time": "2025-01-26T20:44:28.907Z"
   },
   {
    "duration": 38,
    "start_time": "2025-01-26T20:44:28.911Z"
   },
   {
    "duration": 24,
    "start_time": "2025-01-26T20:44:28.951Z"
   },
   {
    "duration": 13,
    "start_time": "2025-01-26T20:44:28.977Z"
   },
   {
    "duration": 12,
    "start_time": "2025-01-26T20:44:28.991Z"
   },
   {
    "duration": 16,
    "start_time": "2025-01-26T20:44:29.004Z"
   },
   {
    "duration": 22,
    "start_time": "2025-01-26T20:44:29.022Z"
   },
   {
    "duration": 10,
    "start_time": "2025-01-26T20:44:29.045Z"
   },
   {
    "duration": 6,
    "start_time": "2025-01-26T20:44:29.057Z"
   }
  ],
  "kernelspec": {
   "display_name": "Python 3 (ipykernel)",
   "language": "python",
   "name": "python3"
  },
  "language_info": {
   "codemirror_mode": {
    "name": "ipython",
    "version": 3
   },
   "file_extension": ".py",
   "mimetype": "text/x-python",
   "name": "python",
   "nbconvert_exporter": "python",
   "pygments_lexer": "ipython3",
   "version": "3.9.19"
  },
  "toc": {
   "base_numbering": 1,
   "nav_menu": {},
   "number_sections": true,
   "sideBar": true,
   "skip_h1_title": true,
   "title_cell": "Table of Contents",
   "title_sidebar": "Contents",
   "toc_cell": false,
   "toc_position": {},
   "toc_section_display": true,
   "toc_window_display": true
  }
 },
 "nbformat": 4,
 "nbformat_minor": 5
}
