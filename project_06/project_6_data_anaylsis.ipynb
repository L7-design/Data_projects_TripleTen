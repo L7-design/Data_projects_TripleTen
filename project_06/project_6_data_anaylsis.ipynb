{
 "cells": [
  {
   "cell_type": "markdown",
   "metadata": {},
   "source": [
    "# Project Title: Zuber Analysis "
   ]
  },
  {
   "cell_type": "markdown",
   "metadata": {},
   "source": [
    "Introduction:\n",
    "An anaylsis will be conducted for the company Zuber. Zuber is a new ride sharing company in Chicago. The aim is to support Zuber in having a successful launch in Chicago. Data is provided from competitors. An examination of passenger preferences and how external factors impact rides will be conducted. \n",
    "\n",
    "Purpose: The project will aim to answer the following questons: \n",
    "1. What patterns emerge about passenger preferneces? \n",
    "2. How do external factors impact rides? \n",
    "\n",
    "Hypothesis: The following hypothesis will be examined: \n",
    "a. The average duration of rides from the Loop to O'Hare International Airport changes on rainy Saturdays. "
   ]
  },
  {
   "cell_type": "markdown",
   "metadata": {},
   "source": [
    "# Loading Libraries and Examining Data "
   ]
  },
  {
   "cell_type": "code",
   "execution_count": 1,
   "metadata": {
    "trusted": true
   },
   "outputs": [],
   "source": [
    "#Importing libraries\n",
    "import pandas as pd \n",
    "from matplotlib import pyplot as plt \n",
    "import numpy as np \n",
    "import seaborn as sns \n",
    "from scipy import stats as st "
   ]
  },
  {
   "cell_type": "code",
   "execution_count": 2,
   "metadata": {
    "trusted": true
   },
   "outputs": [],
   "source": [
    "#Importing data \n",
    "df_company = pd.read_csv('/datasets/project_sql_result_01.csv')\n",
    "df_area = pd.read_csv('/datasets/project_sql_result_04.csv')\n",
    "df_ohare = pd.read_csv('/datasets/project_sql_result_07.csv')"
   ]
  },
  {
   "cell_type": "code",
   "execution_count": 3,
   "metadata": {
    "trusted": true
   },
   "outputs": [
    {
     "name": "stdout",
     "output_type": "stream",
     "text": [
      "<class 'pandas.core.frame.DataFrame'>\n",
      "RangeIndex: 64 entries, 0 to 63\n",
      "Data columns (total 2 columns):\n",
      " #   Column        Non-Null Count  Dtype \n",
      "---  ------        --------------  ----- \n",
      " 0   company_name  64 non-null     object\n",
      " 1   trips_amount  64 non-null     int64 \n",
      "dtypes: int64(1), object(1)\n",
      "memory usage: 1.1+ KB\n"
     ]
    }
   ],
   "source": [
    "#Exploring dataframes \n",
    "df_company.info()"
   ]
  },
  {
   "cell_type": "code",
   "execution_count": 4,
   "metadata": {
    "trusted": true
   },
   "outputs": [
    {
     "data": {
      "text/html": [
       "<div>\n",
       "<style scoped>\n",
       "    .dataframe tbody tr th:only-of-type {\n",
       "        vertical-align: middle;\n",
       "    }\n",
       "\n",
       "    .dataframe tbody tr th {\n",
       "        vertical-align: top;\n",
       "    }\n",
       "\n",
       "    .dataframe thead th {\n",
       "        text-align: right;\n",
       "    }\n",
       "</style>\n",
       "<table border=\"1\" class=\"dataframe\">\n",
       "  <thead>\n",
       "    <tr style=\"text-align: right;\">\n",
       "      <th></th>\n",
       "      <th>trips_amount</th>\n",
       "    </tr>\n",
       "  </thead>\n",
       "  <tbody>\n",
       "    <tr>\n",
       "      <th>count</th>\n",
       "      <td>64.000000</td>\n",
       "    </tr>\n",
       "    <tr>\n",
       "      <th>mean</th>\n",
       "      <td>2145.484375</td>\n",
       "    </tr>\n",
       "    <tr>\n",
       "      <th>std</th>\n",
       "      <td>3812.310186</td>\n",
       "    </tr>\n",
       "    <tr>\n",
       "      <th>min</th>\n",
       "      <td>2.000000</td>\n",
       "    </tr>\n",
       "    <tr>\n",
       "      <th>25%</th>\n",
       "      <td>20.750000</td>\n",
       "    </tr>\n",
       "    <tr>\n",
       "      <th>50%</th>\n",
       "      <td>178.500000</td>\n",
       "    </tr>\n",
       "    <tr>\n",
       "      <th>75%</th>\n",
       "      <td>2106.500000</td>\n",
       "    </tr>\n",
       "    <tr>\n",
       "      <th>max</th>\n",
       "      <td>19558.000000</td>\n",
       "    </tr>\n",
       "  </tbody>\n",
       "</table>\n",
       "</div>"
      ],
      "text/plain": [
       "       trips_amount\n",
       "count     64.000000\n",
       "mean    2145.484375\n",
       "std     3812.310186\n",
       "min        2.000000\n",
       "25%       20.750000\n",
       "50%      178.500000\n",
       "75%     2106.500000\n",
       "max    19558.000000"
      ]
     },
     "execution_count": 4,
     "metadata": {},
     "output_type": "execute_result"
    }
   ],
   "source": [
    "#Checking basic statistical info\n",
    "df_company.describe()"
   ]
  },
  {
   "cell_type": "code",
   "execution_count": 5,
   "metadata": {
    "trusted": true
   },
   "outputs": [
    {
     "data": {
      "text/plain": [
       "company_name    0\n",
       "trips_amount    0\n",
       "dtype: int64"
      ]
     },
     "execution_count": 5,
     "metadata": {},
     "output_type": "execute_result"
    }
   ],
   "source": [
    "#Checking for missing values \n",
    "df_company.isna().sum()"
   ]
  },
  {
   "cell_type": "markdown",
   "metadata": {},
   "source": [
    "Description of data: The data types for each column are correct and there are no missing values as verfied by the .isna().sum() method. "
   ]
  },
  {
   "cell_type": "code",
   "execution_count": 6,
   "metadata": {
    "trusted": true
   },
   "outputs": [
    {
     "name": "stdout",
     "output_type": "stream",
     "text": [
      "<class 'pandas.core.frame.DataFrame'>\n",
      "RangeIndex: 94 entries, 0 to 93\n",
      "Data columns (total 2 columns):\n",
      " #   Column                 Non-Null Count  Dtype  \n",
      "---  ------                 --------------  -----  \n",
      " 0   dropoff_location_name  94 non-null     object \n",
      " 1   average_trips          94 non-null     float64\n",
      "dtypes: float64(1), object(1)\n",
      "memory usage: 1.6+ KB\n"
     ]
    }
   ],
   "source": [
    "#Exploring dataframes \n",
    "df_area.info()"
   ]
  },
  {
   "cell_type": "code",
   "execution_count": 7,
   "metadata": {
    "trusted": true
   },
   "outputs": [
    {
     "data": {
      "text/html": [
       "<div>\n",
       "<style scoped>\n",
       "    .dataframe tbody tr th:only-of-type {\n",
       "        vertical-align: middle;\n",
       "    }\n",
       "\n",
       "    .dataframe tbody tr th {\n",
       "        vertical-align: top;\n",
       "    }\n",
       "\n",
       "    .dataframe thead th {\n",
       "        text-align: right;\n",
       "    }\n",
       "</style>\n",
       "<table border=\"1\" class=\"dataframe\">\n",
       "  <thead>\n",
       "    <tr style=\"text-align: right;\">\n",
       "      <th></th>\n",
       "      <th>average_trips</th>\n",
       "    </tr>\n",
       "  </thead>\n",
       "  <tbody>\n",
       "    <tr>\n",
       "      <th>count</th>\n",
       "      <td>94.000000</td>\n",
       "    </tr>\n",
       "    <tr>\n",
       "      <th>mean</th>\n",
       "      <td>599.953728</td>\n",
       "    </tr>\n",
       "    <tr>\n",
       "      <th>std</th>\n",
       "      <td>1714.591098</td>\n",
       "    </tr>\n",
       "    <tr>\n",
       "      <th>min</th>\n",
       "      <td>1.800000</td>\n",
       "    </tr>\n",
       "    <tr>\n",
       "      <th>25%</th>\n",
       "      <td>14.266667</td>\n",
       "    </tr>\n",
       "    <tr>\n",
       "      <th>50%</th>\n",
       "      <td>52.016667</td>\n",
       "    </tr>\n",
       "    <tr>\n",
       "      <th>75%</th>\n",
       "      <td>298.858333</td>\n",
       "    </tr>\n",
       "    <tr>\n",
       "      <th>max</th>\n",
       "      <td>10727.466667</td>\n",
       "    </tr>\n",
       "  </tbody>\n",
       "</table>\n",
       "</div>"
      ],
      "text/plain": [
       "       average_trips\n",
       "count      94.000000\n",
       "mean      599.953728\n",
       "std      1714.591098\n",
       "min         1.800000\n",
       "25%        14.266667\n",
       "50%        52.016667\n",
       "75%       298.858333\n",
       "max     10727.466667"
      ]
     },
     "execution_count": 7,
     "metadata": {},
     "output_type": "execute_result"
    }
   ],
   "source": [
    "#Checking basic statistical info\n",
    "df_area.describe()"
   ]
  },
  {
   "cell_type": "code",
   "execution_count": 8,
   "metadata": {
    "trusted": true
   },
   "outputs": [
    {
     "data": {
      "text/plain": [
       "dropoff_location_name    0\n",
       "average_trips            0\n",
       "dtype: int64"
      ]
     },
     "execution_count": 8,
     "metadata": {},
     "output_type": "execute_result"
    }
   ],
   "source": [
    "#Checking for missing values \n",
    "df_area.isna().sum()"
   ]
  },
  {
   "cell_type": "markdown",
   "metadata": {},
   "source": [
    "Description of the data: The data types for each column are correct and there are no missing values as verfied by the .isna().sum() method. "
   ]
  },
  {
   "cell_type": "code",
   "execution_count": 9,
   "metadata": {
    "trusted": true
   },
   "outputs": [
    {
     "name": "stdout",
     "output_type": "stream",
     "text": [
      "<class 'pandas.core.frame.DataFrame'>\n",
      "RangeIndex: 1068 entries, 0 to 1067\n",
      "Data columns (total 3 columns):\n",
      " #   Column              Non-Null Count  Dtype  \n",
      "---  ------              --------------  -----  \n",
      " 0   start_ts            1068 non-null   object \n",
      " 1   weather_conditions  1068 non-null   object \n",
      " 2   duration_seconds    1068 non-null   float64\n",
      "dtypes: float64(1), object(2)\n",
      "memory usage: 25.2+ KB\n"
     ]
    }
   ],
   "source": [
    "#Exploring dataframes \n",
    "df_ohare.info()"
   ]
  },
  {
   "cell_type": "code",
   "execution_count": 10,
   "metadata": {
    "trusted": true
   },
   "outputs": [
    {
     "data": {
      "text/html": [
       "<div>\n",
       "<style scoped>\n",
       "    .dataframe tbody tr th:only-of-type {\n",
       "        vertical-align: middle;\n",
       "    }\n",
       "\n",
       "    .dataframe tbody tr th {\n",
       "        vertical-align: top;\n",
       "    }\n",
       "\n",
       "    .dataframe thead th {\n",
       "        text-align: right;\n",
       "    }\n",
       "</style>\n",
       "<table border=\"1\" class=\"dataframe\">\n",
       "  <thead>\n",
       "    <tr style=\"text-align: right;\">\n",
       "      <th></th>\n",
       "      <th>duration_seconds</th>\n",
       "    </tr>\n",
       "  </thead>\n",
       "  <tbody>\n",
       "    <tr>\n",
       "      <th>count</th>\n",
       "      <td>1068.000000</td>\n",
       "    </tr>\n",
       "    <tr>\n",
       "      <th>mean</th>\n",
       "      <td>2071.731273</td>\n",
       "    </tr>\n",
       "    <tr>\n",
       "      <th>std</th>\n",
       "      <td>769.461125</td>\n",
       "    </tr>\n",
       "    <tr>\n",
       "      <th>min</th>\n",
       "      <td>0.000000</td>\n",
       "    </tr>\n",
       "    <tr>\n",
       "      <th>25%</th>\n",
       "      <td>1438.250000</td>\n",
       "    </tr>\n",
       "    <tr>\n",
       "      <th>50%</th>\n",
       "      <td>1980.000000</td>\n",
       "    </tr>\n",
       "    <tr>\n",
       "      <th>75%</th>\n",
       "      <td>2580.000000</td>\n",
       "    </tr>\n",
       "    <tr>\n",
       "      <th>max</th>\n",
       "      <td>7440.000000</td>\n",
       "    </tr>\n",
       "  </tbody>\n",
       "</table>\n",
       "</div>"
      ],
      "text/plain": [
       "       duration_seconds\n",
       "count       1068.000000\n",
       "mean        2071.731273\n",
       "std          769.461125\n",
       "min            0.000000\n",
       "25%         1438.250000\n",
       "50%         1980.000000\n",
       "75%         2580.000000\n",
       "max         7440.000000"
      ]
     },
     "execution_count": 10,
     "metadata": {},
     "output_type": "execute_result"
    }
   ],
   "source": [
    "df_ohare.describe()"
   ]
  },
  {
   "cell_type": "code",
   "execution_count": 11,
   "metadata": {
    "trusted": true
   },
   "outputs": [
    {
     "data": {
      "text/plain": [
       "start_ts              0\n",
       "weather_conditions    0\n",
       "duration_seconds      0\n",
       "dtype: int64"
      ]
     },
     "execution_count": 11,
     "metadata": {},
     "output_type": "execute_result"
    }
   ],
   "source": [
    "#Checking for missing values \n",
    "df_ohare.isna().sum()"
   ]
  },
  {
   "cell_type": "markdown",
   "metadata": {},
   "source": [
    "Description of the data: There are no missing values as verfied by the .isna().sum() method. The data types are correct for all columns. However, start_ts needs to be converted to datetime data type. "
   ]
  },
  {
   "cell_type": "markdown",
   "metadata": {},
   "source": [
    "# Data Preparation"
   ]
  },
  {
   "cell_type": "code",
   "execution_count": 12,
   "metadata": {
    "trusted": true
   },
   "outputs": [],
   "source": [
    "# Convert start_ts to datetime data type \n",
    "df_ohare['start_ts'] = pd.to_datetime(df_ohare['start_ts'],format='%Y-%m-%d %H:%M:%S')"
   ]
  },
  {
   "cell_type": "code",
   "execution_count": 13,
   "metadata": {
    "trusted": true
   },
   "outputs": [
    {
     "name": "stdout",
     "output_type": "stream",
     "text": [
      "<class 'pandas.core.frame.DataFrame'>\n",
      "RangeIndex: 1068 entries, 0 to 1067\n",
      "Data columns (total 3 columns):\n",
      " #   Column              Non-Null Count  Dtype         \n",
      "---  ------              --------------  -----         \n",
      " 0   start_ts            1068 non-null   datetime64[ns]\n",
      " 1   weather_conditions  1068 non-null   object        \n",
      " 2   duration_seconds    1068 non-null   float64       \n",
      "dtypes: datetime64[ns](1), float64(1), object(1)\n",
      "memory usage: 25.2+ KB\n"
     ]
    }
   ],
   "source": [
    "#Check change \n",
    "df_ohare.info()\n"
   ]
  },
  {
   "cell_type": "markdown",
   "metadata": {},
   "source": [
    "Description: The data type has been converted to the appropriate one. "
   ]
  },
  {
   "cell_type": "markdown",
   "metadata": {},
   "source": [
    "# Data Exploration "
   ]
  },
  {
   "cell_type": "code",
   "execution_count": 14,
   "metadata": {
    "trusted": true
   },
   "outputs": [
    {
     "data": {
      "text/html": [
       "<div>\n",
       "<style scoped>\n",
       "    .dataframe tbody tr th:only-of-type {\n",
       "        vertical-align: middle;\n",
       "    }\n",
       "\n",
       "    .dataframe tbody tr th {\n",
       "        vertical-align: top;\n",
       "    }\n",
       "\n",
       "    .dataframe thead th {\n",
       "        text-align: right;\n",
       "    }\n",
       "</style>\n",
       "<table border=\"1\" class=\"dataframe\">\n",
       "  <thead>\n",
       "    <tr style=\"text-align: right;\">\n",
       "      <th></th>\n",
       "      <th>dropoff_location_name</th>\n",
       "      <th>average_trips</th>\n",
       "    </tr>\n",
       "  </thead>\n",
       "  <tbody>\n",
       "    <tr>\n",
       "      <th>0</th>\n",
       "      <td>Loop</td>\n",
       "      <td>10727.466667</td>\n",
       "    </tr>\n",
       "    <tr>\n",
       "      <th>1</th>\n",
       "      <td>River North</td>\n",
       "      <td>9523.666667</td>\n",
       "    </tr>\n",
       "    <tr>\n",
       "      <th>2</th>\n",
       "      <td>Streeterville</td>\n",
       "      <td>6664.666667</td>\n",
       "    </tr>\n",
       "    <tr>\n",
       "      <th>3</th>\n",
       "      <td>West Loop</td>\n",
       "      <td>5163.666667</td>\n",
       "    </tr>\n",
       "    <tr>\n",
       "      <th>4</th>\n",
       "      <td>O'Hare</td>\n",
       "      <td>2546.900000</td>\n",
       "    </tr>\n",
       "    <tr>\n",
       "      <th>5</th>\n",
       "      <td>Lake View</td>\n",
       "      <td>2420.966667</td>\n",
       "    </tr>\n",
       "    <tr>\n",
       "      <th>6</th>\n",
       "      <td>Grant Park</td>\n",
       "      <td>2068.533333</td>\n",
       "    </tr>\n",
       "    <tr>\n",
       "      <th>7</th>\n",
       "      <td>Museum Campus</td>\n",
       "      <td>1510.000000</td>\n",
       "    </tr>\n",
       "    <tr>\n",
       "      <th>8</th>\n",
       "      <td>Gold Coast</td>\n",
       "      <td>1364.233333</td>\n",
       "    </tr>\n",
       "    <tr>\n",
       "      <th>9</th>\n",
       "      <td>Sheffield &amp; DePaul</td>\n",
       "      <td>1259.766667</td>\n",
       "    </tr>\n",
       "  </tbody>\n",
       "</table>\n",
       "</div>"
      ],
      "text/plain": [
       "  dropoff_location_name  average_trips\n",
       "0                  Loop   10727.466667\n",
       "1           River North    9523.666667\n",
       "2         Streeterville    6664.666667\n",
       "3             West Loop    5163.666667\n",
       "4                O'Hare    2546.900000\n",
       "5             Lake View    2420.966667\n",
       "6            Grant Park    2068.533333\n",
       "7         Museum Campus    1510.000000\n",
       "8            Gold Coast    1364.233333\n",
       "9    Sheffield & DePaul    1259.766667"
      ]
     },
     "metadata": {},
     "output_type": "display_data"
    }
   ],
   "source": [
    "#ID top 10 neighborhoods for drop off \n",
    "display(df_area.sort_values(by = 'average_trips', ascending = False).head(10))"
   ]
  },
  {
   "cell_type": "code",
   "execution_count": 15,
   "metadata": {
    "trusted": true
   },
   "outputs": [],
   "source": [
    "#Save as a variable for later use \n",
    "top_ten_neighborhoods = df_area.sort_values(by = 'average_trips', ascending = False).head(10)"
   ]
  },
  {
   "cell_type": "code",
   "execution_count": 16,
   "metadata": {
    "trusted": true
   },
   "outputs": [
    {
     "data": {
      "image/png": "[encoded data removed]",
      "text/plain": [
       "<Figure size 1500x1100 with 1 Axes>"
      ]
     },
     "metadata": {},
     "output_type": "display_data"
    }
   ],
   "source": [
    "# Devise bar graph \n",
    "top_ten_neighborhoods.plot(kind='bar',\n",
    "                          x = 'dropoff_location_name',\n",
    "                          title = 'Rides by Neighborhood',\n",
    "                          xlabel = 'Neighborhood',\n",
    "                          ylabel = 'Number of rides',\n",
    "                          figsize = [15,11],\n",
    "                          legend = False\n",
    "                          )\n",
    "plt.show()"
   ]
  },
  {
   "cell_type": "markdown",
   "metadata": {},
   "source": [
    "Conclusion: The Loop is the neighborhood that has the highest frequency of rides with nearly 11,000 rides. This is followed closely by the River North neighborhood. Zuber should focus on targeting these areas to ensure they genereate the most profit quickly. The other areas including the 3rd highest which is Streeterville is approximately 6,700 rides are considerably less than the Loop and River North neighborhoods. Therefore, it will be essential to make inroads in these 2 neighborhoods. "
   ]
  },
  {
   "cell_type": "code",
   "execution_count": 17,
   "metadata": {
    "trusted": true
   },
   "outputs": [
    {
     "data": {
      "text/html": [
       "<div>\n",
       "<style scoped>\n",
       "    .dataframe tbody tr th:only-of-type {\n",
       "        vertical-align: middle;\n",
       "    }\n",
       "\n",
       "    .dataframe tbody tr th {\n",
       "        vertical-align: top;\n",
       "    }\n",
       "\n",
       "    .dataframe thead th {\n",
       "        text-align: right;\n",
       "    }\n",
       "</style>\n",
       "<table border=\"1\" class=\"dataframe\">\n",
       "  <thead>\n",
       "    <tr style=\"text-align: right;\">\n",
       "      <th></th>\n",
       "      <th>company_name</th>\n",
       "      <th>trips_amount</th>\n",
       "    </tr>\n",
       "  </thead>\n",
       "  <tbody>\n",
       "    <tr>\n",
       "      <th>0</th>\n",
       "      <td>Flash Cab</td>\n",
       "      <td>19558</td>\n",
       "    </tr>\n",
       "    <tr>\n",
       "      <th>1</th>\n",
       "      <td>Taxi Affiliation Services</td>\n",
       "      <td>11422</td>\n",
       "    </tr>\n",
       "    <tr>\n",
       "      <th>2</th>\n",
       "      <td>Medallion Leasing</td>\n",
       "      <td>10367</td>\n",
       "    </tr>\n",
       "    <tr>\n",
       "      <th>3</th>\n",
       "      <td>Yellow Cab</td>\n",
       "      <td>9888</td>\n",
       "    </tr>\n",
       "    <tr>\n",
       "      <th>4</th>\n",
       "      <td>Taxi Affiliation Service Yellow</td>\n",
       "      <td>9299</td>\n",
       "    </tr>\n",
       "    <tr>\n",
       "      <th>5</th>\n",
       "      <td>Chicago Carriage Cab Corp</td>\n",
       "      <td>9181</td>\n",
       "    </tr>\n",
       "    <tr>\n",
       "      <th>6</th>\n",
       "      <td>City Service</td>\n",
       "      <td>8448</td>\n",
       "    </tr>\n",
       "    <tr>\n",
       "      <th>7</th>\n",
       "      <td>Sun Taxi</td>\n",
       "      <td>7701</td>\n",
       "    </tr>\n",
       "    <tr>\n",
       "      <th>8</th>\n",
       "      <td>Star North Management LLC</td>\n",
       "      <td>7455</td>\n",
       "    </tr>\n",
       "    <tr>\n",
       "      <th>9</th>\n",
       "      <td>Blue Ribbon Taxi Association Inc.</td>\n",
       "      <td>5953</td>\n",
       "    </tr>\n",
       "  </tbody>\n",
       "</table>\n",
       "</div>"
      ],
      "text/plain": [
       "                        company_name  trips_amount\n",
       "0                          Flash Cab         19558\n",
       "1          Taxi Affiliation Services         11422\n",
       "2                  Medallion Leasing         10367\n",
       "3                         Yellow Cab          9888\n",
       "4    Taxi Affiliation Service Yellow          9299\n",
       "5          Chicago Carriage Cab Corp          9181\n",
       "6                       City Service          8448\n",
       "7                           Sun Taxi          7701\n",
       "8          Star North Management LLC          7455\n",
       "9  Blue Ribbon Taxi Association Inc.          5953"
      ]
     },
     "metadata": {},
     "output_type": "display_data"
    }
   ],
   "source": [
    "#ID number of rides per taxi company \n",
    "display (df_company.sort_values(by = 'trips_amount', ascending = False).head(10))"
   ]
  },
  {
   "cell_type": "code",
   "execution_count": 18,
   "metadata": {
    "trusted": true
   },
   "outputs": [],
   "source": [
    "#Save as a variable for later use \n",
    "top_taxi_company = df_company.sort_values(by = 'trips_amount', ascending = False).head(10)"
   ]
  },
  {
   "cell_type": "code",
   "execution_count": 19,
   "metadata": {
    "trusted": true
   },
   "outputs": [
    {
     "data": {
      "text/plain": [
       "<function matplotlib.pyplot.show(close=None, block=None)>"
      ]
     },
     "execution_count": 19,
     "metadata": {},
     "output_type": "execute_result"
    },
    {
     "data": {
      "image/png": "[encoded data removed]",
      "text/plain": [
       "<Figure size 1500x1200 with 1 Axes>"
      ]
     },
     "metadata": {},
     "output_type": "display_data"
    }
   ],
   "source": [
    "#Devise bar graph \n",
    "top_taxi_company.plot(kind='bar',\n",
    "                     x='company_name',\n",
    "                     stacked = True, \n",
    "                     title='Rides per Best Performing Taxi Companies',\n",
    "                     xlabel='Best Performing Taxi Companies',\n",
    "                     ylabel='Number of Rides',\n",
    "                     figsize=[15,12],\n",
    "                     legend=False\n",
    "                     )\n",
    "plt.show "
   ]
  },
  {
   "cell_type": "markdown",
   "metadata": {},
   "source": [
    "Conclusion: The leading taxi company in the area, Flash Cab, has nearly double the rides as it's nearest competitors. The nearest competitors Taxi Affiliation Services and Medallion Leasing are fairly comparable in the number of rides provided approximately 10,000 rides over the course of a year. This is approximately 27.5 rides a day. Zuber will need to aim to offer an average of 16.5 rides a day or approximately 6,000 rides over the course of the year to make it into the top ten companies. Once this goal has been met the focus can shift to out competing Flash Cab.  "
   ]
  },
  {
   "cell_type": "markdown",
   "metadata": {},
   "source": [
    "# Statistical Analysis "
   ]
  },
  {
   "cell_type": "markdown",
   "metadata": {},
   "source": [
    "Description: The following hypothesis will be tested: \"The average duration of rides from the Loop to O'Hare International Airport changes on rainy Saturdays.\" \n",
    "In order to examine these hypothesis it will be necessary to complete a two sample indenpedent t-test. It is common practice to a signficance level of 0.05, therefore that will be the signficance level used for this analysis. The aim will be to determine if the null hypothesis can be rejected or cannot be rejected. In statistics, the null hypothesis assumes that there is no difference between the groups being examined. Whereas the alternative hypothesis assumes that there is a difference between the groups being examined. "
   ]
  },
  {
   "cell_type": "code",
   "execution_count": 20,
   "metadata": {
    "trusted": true
   },
   "outputs": [
    {
     "data": {
      "text/plain": [
       "array(['Good', 'Bad'], dtype=object)"
      ]
     },
     "execution_count": 20,
     "metadata": {},
     "output_type": "execute_result"
    }
   ],
   "source": [
    "# Examining weather conditions \n",
    "df_ohare['weather_conditions'].unique()"
   ]
  },
  {
   "cell_type": "code",
   "execution_count": 21,
   "metadata": {
    "trusted": true
   },
   "outputs": [
    {
     "name": "stdout",
     "output_type": "stream",
     "text": [
      "T-statistic:[-6.94617771]\n",
      "P-value:[6.51797033e-12]\n",
      "Reject null hypothesis:The average duration of rides from the Loop to O'Hare International Airport changes on rainy Saturdays.\n"
     ]
    }
   ],
   "source": [
    "#Average duration of rides from the Loop to O'Hare \n",
    "#Filter data \n",
    "good_weather = df_ohare.query(\"weather_conditions =='Good'\")[['duration_seconds']]\n",
    "bad_weather = df_ohare.query(\"weather_conditions =='Bad'\")[['duration_seconds']]\n",
    "\n",
    "#Perform two sample t-test \n",
    "t_stat,p_value = st.ttest_ind(good_weather,bad_weather,equal_var=True)\n",
    "\n",
    "#Interpretation \n",
    "alpha = 0.05 \n",
    "print(f\"T-statistic:{t_stat}\")\n",
    "print(f\"P-value:{p_value}\")\n",
    "\n",
    "if p_value < alpha: \n",
    "    print(\"Reject null hypothesis:The average duration of rides from the Loop to O'Hare International Airport changes on rainy Saturdays.\")\n",
    "else: \n",
    "    print(\"Fail to reject the null hypothesis:The average duration of rides from the Loop to O'Hare International Airport changes on rainy Saturdays.\")"
   ]
  },
  {
   "cell_type": "markdown",
   "metadata": {},
   "source": [
    "Conclusion: The statistical analysis demonstrates that the null hypothesis for \"The average duration of rides from the Loop to O'Hare International Airport changes on rainy Saturdays\" can be rejected. This means the alternative hypothesis is then true and that a change occurs on rainy Saturdays. "
   ]
  },
  {
   "cell_type": "markdown",
   "metadata": {},
   "source": [
    "# General Conclusion "
   ]
  },
  {
   "cell_type": "markdown",
   "metadata": {},
   "source": [
    "Zuber will need to focus on the neighborhoods that generate the most business opportunities which will be the Loop and River North neighborhoods. Zuber will need to develop their business by offering at least 6,000 rides a year and 16.5 rides on average a day to compete with the other companies. It will be necessary to take into account the external factor of weather. Additional examination of other external factors should be examined after the 1st year of business. For example, it would be privotal to determine how to make rides more accessible to better generate more clientel. Moreover, it would be helpful to determine more specifically how weather may impact business, so either more or less rides would be available for clientel. Finally, it is likely to compete with Flash Cab it will be necessary to take these into account in order to adequetly exand.  "
   ]
  }
 ],
 "metadata": {
  "ExecuteTimeLog": [
   {
    "duration": 2530,
    "start_time": "2025-03-23T01:06:08.329Z"
   },
   {
    "duration": 18,
    "start_time": "2025-03-23T01:06:10.862Z"
   },
   {
    "duration": 8,
    "start_time": "2025-03-23T01:06:10.881Z"
   },
   {
    "duration": 7,
    "start_time": "2025-03-23T01:06:14.900Z"
   },
   {
    "duration": 9,
    "start_time": "2025-03-23T01:06:18.893Z"
   },
   {
    "duration": 5,
    "start_time": "2025-03-23T01:07:53.214Z"
   },
   {
    "duration": 6,
    "start_time": "2025-03-23T01:07:56.438Z"
   },
   {
    "duration": 5,
    "start_time": "2025-03-23T01:07:59.618Z"
   },
   {
    "duration": 14,
    "start_time": "2025-03-23T01:26:59.264Z"
   },
   {
    "duration": 12,
    "start_time": "2025-03-23T01:27:18.703Z"
   },
   {
    "duration": 11,
    "start_time": "2025-03-23T01:27:48.678Z"
   },
   {
    "duration": 4,
    "start_time": "2025-03-23T01:46:23.555Z"
   },
   {
    "duration": 9,
    "start_time": "2025-03-23T01:46:58.682Z"
   },
   {
    "duration": 6,
    "start_time": "2025-03-23T01:55:01.338Z"
   },
   {
    "duration": 3,
    "start_time": "2025-03-23T01:56:43.811Z"
   },
   {
    "duration": 3,
    "start_time": "2025-03-23T01:56:58.792Z"
   },
   {
    "duration": 6,
    "start_time": "2025-03-23T02:00:26.392Z"
   },
   {
    "duration": 209,
    "start_time": "2025-03-23T02:00:50.050Z"
   },
   {
    "duration": 199,
    "start_time": "2025-03-23T02:01:10.309Z"
   },
   {
    "duration": 8,
    "start_time": "2025-03-23T02:04:36.884Z"
   },
   {
    "duration": 3,
    "start_time": "2025-03-23T02:05:56.351Z"
   },
   {
    "duration": 249,
    "start_time": "2025-03-23T02:08:46.536Z"
   },
   {
    "duration": 253,
    "start_time": "2025-03-23T02:09:32.551Z"
   },
   {
    "duration": 125,
    "start_time": "2025-03-23T02:13:35.730Z"
   },
   {
    "duration": 5,
    "start_time": "2025-03-23T02:13:51.778Z"
   },
   {
    "duration": 8,
    "start_time": "2025-03-23T02:14:00.854Z"
   },
   {
    "duration": 4,
    "start_time": "2025-03-23T02:14:12.821Z"
   },
   {
    "duration": 13,
    "start_time": "2025-03-23T02:24:49.147Z"
   },
   {
    "duration": 9,
    "start_time": "2025-03-23T02:25:58.649Z"
   },
   {
    "duration": 2563,
    "start_time": "2025-03-24T06:29:35.755Z"
   },
   {
    "duration": 20,
    "start_time": "2025-03-24T06:29:38.320Z"
   },
   {
    "duration": 9,
    "start_time": "2025-03-24T06:29:38.341Z"
   },
   {
    "duration": 12,
    "start_time": "2025-03-24T06:29:38.352Z"
   },
   {
    "duration": 6,
    "start_time": "2025-03-24T06:29:38.367Z"
   },
   {
    "duration": 18,
    "start_time": "2025-03-24T06:29:38.374Z"
   },
   {
    "duration": 8,
    "start_time": "2025-03-24T06:29:38.394Z"
   },
   {
    "duration": 5,
    "start_time": "2025-03-24T06:29:38.404Z"
   },
   {
    "duration": 7,
    "start_time": "2025-03-24T06:29:38.412Z"
   },
   {
    "duration": 9,
    "start_time": "2025-03-24T06:29:38.421Z"
   },
   {
    "duration": 5,
    "start_time": "2025-03-24T06:29:38.432Z"
   },
   {
    "duration": 3,
    "start_time": "2025-03-24T06:29:38.439Z"
   },
   {
    "duration": 47,
    "start_time": "2025-03-24T06:29:38.444Z"
   },
   {
    "duration": 6,
    "start_time": "2025-03-24T06:29:38.494Z"
   },
   {
    "duration": 4,
    "start_time": "2025-03-24T06:29:38.501Z"
   },
   {
    "duration": 230,
    "start_time": "2025-03-24T06:29:38.506Z"
   },
   {
    "duration": 7,
    "start_time": "2025-03-24T06:29:38.737Z"
   },
   {
    "duration": 3,
    "start_time": "2025-03-24T06:29:38.746Z"
   },
   {
    "duration": 267,
    "start_time": "2025-03-24T06:29:38.752Z"
   },
   {
    "duration": 4,
    "start_time": "2025-03-24T06:29:39.021Z"
   },
   {
    "duration": 9,
    "start_time": "2025-03-24T06:29:39.027Z"
   }
  ],
  "kernelspec": {
   "display_name": "Python 3 (ipykernel)",
   "language": "python",
   "name": "python3"
  },
  "language_info": {
   "codemirror_mode": {
    "name": "ipython",
    "version": 3
   },
   "file_extension": ".py",
   "mimetype": "text/x-python",
   "name": "python",
   "nbconvert_exporter": "python",
   "pygments_lexer": "ipython3",
   "version": "3.9.19"
  },
  "toc": {
   "base_numbering": 1,
   "nav_menu": {},
   "number_sections": true,
   "sideBar": true,
   "skip_h1_title": true,
   "title_cell": "Table of Contents",
   "title_sidebar": "Contents",
   "toc_cell": false,
   "toc_position": {},
   "toc_section_display": true,
   "toc_window_display": false
  }
 },
 "nbformat": 4,
 "nbformat_minor": 2
}
