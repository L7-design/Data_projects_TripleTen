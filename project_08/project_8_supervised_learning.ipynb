{
 "cells": [
  {
   "cell_type": "markdown",
   "metadata": {},
   "source": [
    "# Project Title: Beta Bank Analysis  "
   ]
  },
  {
   "cell_type": "markdown",
   "metadata": {},
   "source": [
    "Introduction: An anaylsis will be conducted for Beta Bank. Beta Bank is losing clientel and wants to determine which clientel they will be losing soon. Data is provided on clients' past behaviors and termination of contracts with the bank. The aim of the project will be to build a model with the maximum possible F1 score of at least 0.59. \n",
    "The following steps will be taken to achieve this aim: \n",
    "Once the data has been cleaned up, then dataframes will split both dataframe into training, validation and test sets. Then, a variety of machine learning classifier models including logistic reagression, decsion tree, and random forest will be used.In addition, I will examine the balance of classes in the target and develop models without balancing the classes. F1 scores and accuracy scores will be examined. The goal will be to achieve the highest possible F1 score with accuracy as a consideration. Next, downsampling and upsampling functions will be used to balance the numbers of postive and negative target classes, training and validation models will be used to preprocess data sets and choose the model with the highest F1 score. Once I have obtained the model's final F1 score using the testing set and I will find the AUC-ROC score. The AUC-ROC will need to be over 0.50. A sanity check will be conducted to ensure that the final model achieves this result not by random chance.   \n"
   ]
  },
  {
   "cell_type": "code",
   "execution_count": 1,
   "metadata": {
    "trusted": false
   },
   "outputs": [],
   "source": [
    "#Importing libraries \n",
    "import pandas as pd \n",
    "import numpy as np \n",
    "import matplotlib.pyplot as plt\n",
    "\n",
    "from sklearn.model_selection import train_test_split \n",
    "from sklearn.tree import DecisionTreeClassifier \n",
    "from sklearn.ensemble import RandomForestClassifier \n",
    "from sklearn.linear_model import LogisticRegression \n",
    "from sklearn.metrics import accuracy_score,precision_score,recall_score,f1_score,roc_auc_score,roc_curve, confusion_matrix\n",
    "from sklearn.preprocessing import OrdinalEncoder,StandardScaler \n",
    "from sklearn.utils import shuffle \n"
   ]
  },
  {
   "cell_type": "code",
   "execution_count": 2,
   "metadata": {
    "trusted": false
   },
   "outputs": [],
   "source": [
    "#Importing data \n",
    "df = pd.read_csv('/datasets/Churn.csv')"
   ]
  },
  {
   "cell_type": "code",
   "execution_count": 3,
   "metadata": {
    "trusted": false
   },
   "outputs": [
    {
     "name": "stdout",
     "output_type": "stream",
     "text": [
      "<class 'pandas.core.frame.DataFrame'>\n",
      "RangeIndex: 10000 entries, 0 to 9999\n",
      "Data columns (total 14 columns):\n",
      " #   Column           Non-Null Count  Dtype  \n",
      "---  ------           --------------  -----  \n",
      " 0   RowNumber        10000 non-null  int64  \n",
      " 1   CustomerId       10000 non-null  int64  \n",
      " 2   Surname          10000 non-null  object \n",
      " 3   CreditScore      10000 non-null  int64  \n",
      " 4   Geography        10000 non-null  object \n",
      " 5   Gender           10000 non-null  object \n",
      " 6   Age              10000 non-null  int64  \n",
      " 7   Tenure           9091 non-null   float64\n",
      " 8   Balance          10000 non-null  float64\n",
      " 9   NumOfProducts    10000 non-null  int64  \n",
      " 10  HasCrCard        10000 non-null  int64  \n",
      " 11  IsActiveMember   10000 non-null  int64  \n",
      " 12  EstimatedSalary  10000 non-null  float64\n",
      " 13  Exited           10000 non-null  int64  \n",
      "dtypes: float64(3), int64(8), object(3)\n",
      "memory usage: 1.1+ MB\n"
     ]
    }
   ],
   "source": [
    "#Exploring dataframes \n",
    "df.info()"
   ]
  },
  {
   "cell_type": "code",
   "execution_count": 4,
   "metadata": {
    "trusted": false
   },
   "outputs": [
    {
     "data": {
      "text/plain": [
       "<AxesSubplot:>"
      ]
     },
     "execution_count": 4,
     "metadata": {},
     "output_type": "execute_result"
    },
    {
     "data": {
      "image/png": "[encoded data removed]",
      "text/plain": [
       "<Figure size 400x300 with 1 Axes>"
      ]
     },
     "metadata": {},
     "output_type": "display_data"
    }
   ],
   "source": [
    "df.Tenure.hist(figsize=(4,3))"
   ]
  },
  {
   "cell_type": "markdown",
   "metadata": {},
   "source": [
    "In examining the distribution for the missing values in the tenure column it is clear that the distribution is abnormal. It is extremely uniform. This would suggest that filling in missing values with the median should take care of the issue with the missing values during data preparation. "
   ]
  },
  {
   "cell_type": "markdown",
   "metadata": {},
   "source": [
    "Description of the data: \n",
    "\n",
    "Features:\n",
    "\n",
    "RowNumber — data string index\n",
    "CustomerId — unique customer identifier\n",
    "Surname — surname\n",
    "CreditScore — credit score\n",
    "Geography — country of residence\n",
    "Gender — gender\n",
    "Age — age\n",
    "Tenure — period of maturation for a customer’s fixed deposit (years)\n",
    "Balance — account balance\n",
    "NumOfProducts — number of banking products used by the customer\n",
    "HasCrCard — customer has a credit card\n",
    "IsActiveMember — customer’s activeness\n",
    "EstimatedSalary — estimated salary\n",
    "\n",
    "Target:\n",
    "\n",
    "Exited — сustomer has left\n",
    "\n",
    "Observations on the data: In examining the dataset initially it appears that some existing values exist for the Tenure data. This will need to be explored a little further. In addition the categorical values need to be changed to lowercase.  "
   ]
  },
  {
   "cell_type": "code",
   "execution_count": 5,
   "metadata": {
    "trusted": false
   },
   "outputs": [
    {
     "data": {
      "text/plain": [
       "RowNumber            0\n",
       "CustomerId           0\n",
       "Surname              0\n",
       "CreditScore          0\n",
       "Geography            0\n",
       "Gender               0\n",
       "Age                  0\n",
       "Tenure             909\n",
       "Balance              0\n",
       "NumOfProducts        0\n",
       "HasCrCard            0\n",
       "IsActiveMember       0\n",
       "EstimatedSalary      0\n",
       "Exited               0\n",
       "dtype: int64"
      ]
     },
     "execution_count": 5,
     "metadata": {},
     "output_type": "execute_result"
    }
   ],
   "source": [
    "#Checking for missing values \n",
    "df.isna().sum()"
   ]
  },
  {
   "cell_type": "markdown",
   "metadata": {},
   "source": [
    "Actually based on the fact that running a quick histogram shows that tenure has an abnormal distribution and that the values should be filled with median. Not really necessary to illustrate that 11% of the values are missing from the tenure column. "
   ]
  },
  {
   "cell_type": "markdown",
   "metadata": {},
   "source": [
    "# Data Preparation "
   ]
  },
  {
   "cell_type": "code",
   "execution_count": 6,
   "metadata": {
    "trusted": false
   },
   "outputs": [
    {
     "name": "stdout",
     "output_type": "stream",
     "text": [
      "<class 'pandas.core.frame.DataFrame'>\n",
      "RangeIndex: 10000 entries, 0 to 9999\n",
      "Data columns (total 14 columns):\n",
      " #   Column           Non-Null Count  Dtype  \n",
      "---  ------           --------------  -----  \n",
      " 0   rownumber        10000 non-null  int64  \n",
      " 1   customerid       10000 non-null  int64  \n",
      " 2   surname          10000 non-null  object \n",
      " 3   creditscore      10000 non-null  int64  \n",
      " 4   geography        10000 non-null  object \n",
      " 5   gender           10000 non-null  object \n",
      " 6   age              10000 non-null  int64  \n",
      " 7   tenure           9091 non-null   float64\n",
      " 8   balance          10000 non-null  float64\n",
      " 9   numofproducts    10000 non-null  int64  \n",
      " 10  hascrcard        10000 non-null  int64  \n",
      " 11  isactivemember   10000 non-null  int64  \n",
      " 12  estimatedsalary  10000 non-null  float64\n",
      " 13  exited           10000 non-null  int64  \n",
      "dtypes: float64(3), int64(8), object(3)\n",
      "memory usage: 1.1+ MB\n"
     ]
    }
   ],
   "source": [
    "# Fixing Categorical Values \n",
    "df.columns=df.columns.str.lower()\n",
    "\n",
    "#Check coulmn renamed correctly\n",
    "df.info()"
   ]
  },
  {
   "cell_type": "code",
   "execution_count": 7,
   "metadata": {
    "trusted": false
   },
   "outputs": [
    {
     "data": {
      "text/plain": [
       "rownumber          0\n",
       "customerid         0\n",
       "surname            0\n",
       "creditscore        0\n",
       "geography          0\n",
       "gender             0\n",
       "age                0\n",
       "tenure             0\n",
       "balance            0\n",
       "numofproducts      0\n",
       "hascrcard          0\n",
       "isactivemember     0\n",
       "estimatedsalary    0\n",
       "exited             0\n",
       "dtype: int64"
      ]
     },
     "execution_count": 7,
     "metadata": {},
     "output_type": "execute_result"
    }
   ],
   "source": [
    "#Cleaning up the missing values \n",
    "df.tenure = df.tenure.fillna(df.tenure.median().astype('int'))\n",
    "df.isna().sum()"
   ]
  },
  {
   "cell_type": "code",
   "execution_count": 8,
   "metadata": {
    "trusted": false
   },
   "outputs": [],
   "source": [
    "#Remove unhelpful features (identifiers) and set the target \n",
    "features = df.drop(['rownumber','customerid','surname', 'exited'], axis=1)\n",
    "target = df.exited "
   ]
  },
  {
   "cell_type": "code",
   "execution_count": 9,
   "metadata": {
    "trusted": false
   },
   "outputs": [
    {
     "data": {
      "text/plain": [
       "0"
      ]
     },
     "execution_count": 9,
     "metadata": {},
     "output_type": "execute_result"
    }
   ],
   "source": [
    "#Checking for duplicates \n",
    "df.duplicated().sum()"
   ]
  },
  {
   "cell_type": "markdown",
   "metadata": {},
   "source": [
    "Data Description: No duplicate rows are present and missing values have been eliminated. The features and targets have collected into ther own dataframe/series. Next, the dataframe will be processed using one-hot encoding for a logistic regression model and separately using ordinal encoding for testing decession tress and random forest classifier models."
   ]
  },
  {
   "cell_type": "markdown",
   "metadata": {},
   "source": [
    "# Preparing Data for Logistic Regression "
   ]
  },
  {
   "cell_type": "code",
   "execution_count": 10,
   "metadata": {
    "trusted": false
   },
   "outputs": [],
   "source": [
    "#Creating one-hot encoded dataframe\n",
    "features_df = pd.get_dummies(features, drop_first=True)"
   ]
  },
  {
   "cell_type": "code",
   "execution_count": 11,
   "metadata": {
    "trusted": false
   },
   "outputs": [],
   "source": [
    "#Split data \n",
    "x_train, features_test_df,y_train, target_test = train_test_split(features_df,target,test_size=0.2,random_state=123)\n",
    "\n",
    "features_train_df,features_valid_df,target_train,target_valid = train_test_split(x_train,y_train, test_size=0.25,random_state=123)"
   ]
  },
  {
   "cell_type": "code",
   "execution_count": 12,
   "metadata": {
    "trusted": false
   },
   "outputs": [
    {
     "name": "stderr",
     "output_type": "stream",
     "text": [
      "/tmp/ipykernel_79/979623550.py:7: SettingWithCopyWarning: \n",
      "A value is trying to be set on a copy of a slice from a DataFrame.\n",
      "Try using .loc[row_indexer,col_indexer] = value instead\n",
      "\n",
      "See the caveats in the documentation: https://pandas.pydata.org/pandas-docs/stable/user_guide/indexing.html#returning-a-view-versus-a-copy\n",
      "  features_train_df[numeric] = scaler.transform(features_train_df[numeric])\n",
      "/opt/conda/envs/python3/lib/python3.9/site-packages/pandas/core/indexing.py:1738: SettingWithCopyWarning: \n",
      "A value is trying to be set on a copy of a slice from a DataFrame.\n",
      "Try using .loc[row_indexer,col_indexer] = value instead\n",
      "\n",
      "See the caveats in the documentation: https://pandas.pydata.org/pandas-docs/stable/user_guide/indexing.html#returning-a-view-versus-a-copy\n",
      "  self._setitem_single_column(loc, value[:, i].tolist(), pi)\n",
      "/tmp/ipykernel_79/979623550.py:8: SettingWithCopyWarning: \n",
      "A value is trying to be set on a copy of a slice from a DataFrame.\n",
      "Try using .loc[row_indexer,col_indexer] = value instead\n",
      "\n",
      "See the caveats in the documentation: https://pandas.pydata.org/pandas-docs/stable/user_guide/indexing.html#returning-a-view-versus-a-copy\n",
      "  features_valid_df[numeric] = scaler.transform(features_valid_df[numeric])\n",
      "/opt/conda/envs/python3/lib/python3.9/site-packages/pandas/core/indexing.py:1738: SettingWithCopyWarning: \n",
      "A value is trying to be set on a copy of a slice from a DataFrame.\n",
      "Try using .loc[row_indexer,col_indexer] = value instead\n",
      "\n",
      "See the caveats in the documentation: https://pandas.pydata.org/pandas-docs/stable/user_guide/indexing.html#returning-a-view-versus-a-copy\n",
      "  self._setitem_single_column(loc, value[:, i].tolist(), pi)\n",
      "/tmp/ipykernel_79/979623550.py:9: SettingWithCopyWarning: \n",
      "A value is trying to be set on a copy of a slice from a DataFrame.\n",
      "Try using .loc[row_indexer,col_indexer] = value instead\n",
      "\n",
      "See the caveats in the documentation: https://pandas.pydata.org/pandas-docs/stable/user_guide/indexing.html#returning-a-view-versus-a-copy\n",
      "  features_test_df[numeric] = scaler.transform(features_test_df[numeric])\n",
      "/opt/conda/envs/python3/lib/python3.9/site-packages/pandas/core/indexing.py:1738: SettingWithCopyWarning: \n",
      "A value is trying to be set on a copy of a slice from a DataFrame.\n",
      "Try using .loc[row_indexer,col_indexer] = value instead\n",
      "\n",
      "See the caveats in the documentation: https://pandas.pydata.org/pandas-docs/stable/user_guide/indexing.html#returning-a-view-versus-a-copy\n",
      "  self._setitem_single_column(loc, value[:, i].tolist(), pi)\n"
     ]
    }
   ],
   "source": [
    "#Creating numeric features \n",
    "numeric = ['creditscore','age','tenure','balance','numofproducts','estimatedsalary']\n",
    "\n",
    "scaler = StandardScaler()\n",
    "scaler.fit(features_train_df[numeric])\n",
    "\n",
    "features_train_df[numeric] = scaler.transform(features_train_df[numeric])\n",
    "features_valid_df[numeric] = scaler.transform(features_valid_df[numeric])\n",
    "features_test_df[numeric] = scaler.transform(features_test_df[numeric])\n"
   ]
  },
  {
   "cell_type": "code",
   "execution_count": 13,
   "metadata": {
    "trusted": false
   },
   "outputs": [
    {
     "data": {
      "text/html": [
       "<div>\n",
       "<style scoped>\n",
       "    .dataframe tbody tr th:only-of-type {\n",
       "        vertical-align: middle;\n",
       "    }\n",
       "\n",
       "    .dataframe tbody tr th {\n",
       "        vertical-align: top;\n",
       "    }\n",
       "\n",
       "    .dataframe thead th {\n",
       "        text-align: right;\n",
       "    }\n",
       "</style>\n",
       "<table border=\"1\" class=\"dataframe\">\n",
       "  <thead>\n",
       "    <tr style=\"text-align: right;\">\n",
       "      <th></th>\n",
       "      <th>creditscore</th>\n",
       "      <th>age</th>\n",
       "      <th>tenure</th>\n",
       "      <th>balance</th>\n",
       "      <th>numofproducts</th>\n",
       "      <th>hascrcard</th>\n",
       "      <th>isactivemember</th>\n",
       "      <th>estimatedsalary</th>\n",
       "      <th>geography_Germany</th>\n",
       "      <th>geography_Spain</th>\n",
       "      <th>gender_Male</th>\n",
       "    </tr>\n",
       "  </thead>\n",
       "  <tbody>\n",
       "    <tr>\n",
       "      <th>8189</th>\n",
       "      <td>0.652468</td>\n",
       "      <td>-1.698690</td>\n",
       "      <td>1.096509</td>\n",
       "      <td>-1.213083</td>\n",
       "      <td>0.781092</td>\n",
       "      <td>1</td>\n",
       "      <td>0</td>\n",
       "      <td>-0.535390</td>\n",
       "      <td>0</td>\n",
       "      <td>0</td>\n",
       "      <td>1</td>\n",
       "    </tr>\n",
       "    <tr>\n",
       "      <th>8845</th>\n",
       "      <td>0.796864</td>\n",
       "      <td>0.002583</td>\n",
       "      <td>-1.450269</td>\n",
       "      <td>0.886952</td>\n",
       "      <td>-0.920634</td>\n",
       "      <td>1</td>\n",
       "      <td>1</td>\n",
       "      <td>1.637287</td>\n",
       "      <td>1</td>\n",
       "      <td>0</td>\n",
       "      <td>0</td>\n",
       "    </tr>\n",
       "    <tr>\n",
       "      <th>1165</th>\n",
       "      <td>0.621526</td>\n",
       "      <td>0.947735</td>\n",
       "      <td>0.005033</td>\n",
       "      <td>1.258423</td>\n",
       "      <td>0.781092</td>\n",
       "      <td>0</td>\n",
       "      <td>0</td>\n",
       "      <td>1.681465</td>\n",
       "      <td>1</td>\n",
       "      <td>0</td>\n",
       "      <td>0</td>\n",
       "    </tr>\n",
       "    <tr>\n",
       "      <th>1742</th>\n",
       "      <td>-0.698668</td>\n",
       "      <td>1.420312</td>\n",
       "      <td>-1.450269</td>\n",
       "      <td>0.022130</td>\n",
       "      <td>-0.920634</td>\n",
       "      <td>0</td>\n",
       "      <td>0</td>\n",
       "      <td>0.672609</td>\n",
       "      <td>1</td>\n",
       "      <td>0</td>\n",
       "      <td>0</td>\n",
       "    </tr>\n",
       "    <tr>\n",
       "      <th>1139</th>\n",
       "      <td>0.776236</td>\n",
       "      <td>1.703857</td>\n",
       "      <td>-1.450269</td>\n",
       "      <td>0.538309</td>\n",
       "      <td>-0.920634</td>\n",
       "      <td>0</td>\n",
       "      <td>1</td>\n",
       "      <td>-1.715362</td>\n",
       "      <td>0</td>\n",
       "      <td>1</td>\n",
       "      <td>0</td>\n",
       "    </tr>\n",
       "  </tbody>\n",
       "</table>\n",
       "</div>"
      ],
      "text/plain": [
       "      creditscore       age    tenure   balance  numofproducts  hascrcard  \\\n",
       "8189     0.652468 -1.698690  1.096509 -1.213083       0.781092          1   \n",
       "8845     0.796864  0.002583 -1.450269  0.886952      -0.920634          1   \n",
       "1165     0.621526  0.947735  0.005033  1.258423       0.781092          0   \n",
       "1742    -0.698668  1.420312 -1.450269  0.022130      -0.920634          0   \n",
       "1139     0.776236  1.703857 -1.450269  0.538309      -0.920634          0   \n",
       "\n",
       "      isactivemember  estimatedsalary  geography_Germany  geography_Spain  \\\n",
       "8189               0        -0.535390                  0                0   \n",
       "8845               1         1.637287                  1                0   \n",
       "1165               0         1.681465                  1                0   \n",
       "1742               0         0.672609                  1                0   \n",
       "1139               1        -1.715362                  0                1   \n",
       "\n",
       "      gender_Male  \n",
       "8189            1  \n",
       "8845            0  \n",
       "1165            0  \n",
       "1742            0  \n",
       "1139            0  "
      ]
     },
     "execution_count": 13,
     "metadata": {},
     "output_type": "execute_result"
    }
   ],
   "source": [
    "features_train_df.head()"
   ]
  },
  {
   "cell_type": "markdown",
   "metadata": {},
   "source": [
    "Description: A standard scaler class has been used to standardize the numeric variables. The data was split into training, validation and testing sets prior to standardizing the data to ensure the class uses the most precise mean/variance for calculations. \n",
    "\n",
    "I used 60% of the data for training and 20% for the validation and test sets. The features and target datasets were split into a training set and a test set at 80/20 ratio. This was further divided into a new trainset into and a validation set. The validation set needs to come out to be from 25% of the training set and provide a 60/20/20 ratio. This is the case because 25% of 80 eqauls 20. "
   ]
  },
  {
   "cell_type": "markdown",
   "metadata": {},
   "source": [
    "# Prepare Decision tree & Random Forest data "
   ]
  },
  {
   "cell_type": "code",
   "execution_count": 14,
   "metadata": {
    "trusted": false
   },
   "outputs": [
    {
     "data": {
      "text/html": [
       "<div>\n",
       "<style scoped>\n",
       "    .dataframe tbody tr th:only-of-type {\n",
       "        vertical-align: middle;\n",
       "    }\n",
       "\n",
       "    .dataframe tbody tr th {\n",
       "        vertical-align: top;\n",
       "    }\n",
       "\n",
       "    .dataframe thead th {\n",
       "        text-align: right;\n",
       "    }\n",
       "</style>\n",
       "<table border=\"1\" class=\"dataframe\">\n",
       "  <thead>\n",
       "    <tr style=\"text-align: right;\">\n",
       "      <th></th>\n",
       "      <th>creditscore</th>\n",
       "      <th>geography</th>\n",
       "      <th>gender</th>\n",
       "      <th>age</th>\n",
       "      <th>tenure</th>\n",
       "      <th>balance</th>\n",
       "      <th>numofproducts</th>\n",
       "      <th>hascrcard</th>\n",
       "      <th>isactivemember</th>\n",
       "      <th>estimatedsalary</th>\n",
       "    </tr>\n",
       "  </thead>\n",
       "  <tbody>\n",
       "    <tr>\n",
       "      <th>0</th>\n",
       "      <td>228.0</td>\n",
       "      <td>0.0</td>\n",
       "      <td>0.0</td>\n",
       "      <td>24.0</td>\n",
       "      <td>2.0</td>\n",
       "      <td>0.0</td>\n",
       "      <td>0.0</td>\n",
       "      <td>1.0</td>\n",
       "      <td>1.0</td>\n",
       "      <td>5068.0</td>\n",
       "    </tr>\n",
       "    <tr>\n",
       "      <th>1</th>\n",
       "      <td>217.0</td>\n",
       "      <td>2.0</td>\n",
       "      <td>0.0</td>\n",
       "      <td>23.0</td>\n",
       "      <td>1.0</td>\n",
       "      <td>743.0</td>\n",
       "      <td>0.0</td>\n",
       "      <td>0.0</td>\n",
       "      <td>1.0</td>\n",
       "      <td>5639.0</td>\n",
       "    </tr>\n",
       "    <tr>\n",
       "      <th>2</th>\n",
       "      <td>111.0</td>\n",
       "      <td>0.0</td>\n",
       "      <td>0.0</td>\n",
       "      <td>24.0</td>\n",
       "      <td>8.0</td>\n",
       "      <td>5793.0</td>\n",
       "      <td>2.0</td>\n",
       "      <td>1.0</td>\n",
       "      <td>0.0</td>\n",
       "      <td>5707.0</td>\n",
       "    </tr>\n",
       "    <tr>\n",
       "      <th>3</th>\n",
       "      <td>308.0</td>\n",
       "      <td>0.0</td>\n",
       "      <td>0.0</td>\n",
       "      <td>21.0</td>\n",
       "      <td>1.0</td>\n",
       "      <td>0.0</td>\n",
       "      <td>1.0</td>\n",
       "      <td>0.0</td>\n",
       "      <td>0.0</td>\n",
       "      <td>4704.0</td>\n",
       "    </tr>\n",
       "    <tr>\n",
       "      <th>4</th>\n",
       "      <td>459.0</td>\n",
       "      <td>2.0</td>\n",
       "      <td>0.0</td>\n",
       "      <td>25.0</td>\n",
       "      <td>2.0</td>\n",
       "      <td>3696.0</td>\n",
       "      <td>0.0</td>\n",
       "      <td>1.0</td>\n",
       "      <td>1.0</td>\n",
       "      <td>3925.0</td>\n",
       "    </tr>\n",
       "  </tbody>\n",
       "</table>\n",
       "</div>"
      ],
      "text/plain": [
       "   creditscore  geography  gender   age  tenure  balance  numofproducts  \\\n",
       "0        228.0        0.0     0.0  24.0     2.0      0.0            0.0   \n",
       "1        217.0        2.0     0.0  23.0     1.0    743.0            0.0   \n",
       "2        111.0        0.0     0.0  24.0     8.0   5793.0            2.0   \n",
       "3        308.0        0.0     0.0  21.0     1.0      0.0            1.0   \n",
       "4        459.0        2.0     0.0  25.0     2.0   3696.0            0.0   \n",
       "\n",
       "   hascrcard  isactivemember  estimatedsalary  \n",
       "0        1.0             1.0           5068.0  \n",
       "1        0.0             1.0           5639.0  \n",
       "2        1.0             0.0           5707.0  \n",
       "3        0.0             0.0           4704.0  \n",
       "4        1.0             1.0           3925.0  "
      ]
     },
     "execution_count": 14,
     "metadata": {},
     "output_type": "execute_result"
    }
   ],
   "source": [
    "#Devise encoded dataframe for decision trees \n",
    "encoder = OrdinalEncoder()\n",
    "features_ordinal = pd.DataFrame(encoder.fit_transform(features),columns=features.columns)\n",
    "features_ordinal.head()"
   ]
  },
  {
   "cell_type": "code",
   "execution_count": 15,
   "metadata": {
    "trusted": false
   },
   "outputs": [],
   "source": [
    "x_train,features_test_ord,y_train,target_test=train_test_split(\n",
    "    features_ordinal,target,test_size=0.2,random_state=123)\n",
    "\n",
    "features_train_ord,features_valid_ord,target_train,target_valid= train_test_split(\n",
    "    x_train,y_train,test_size=0.25,random_state=123)"
   ]
  },
  {
   "cell_type": "code",
   "execution_count": 16,
   "metadata": {
    "trusted": false
   },
   "outputs": [
    {
     "name": "stderr",
     "output_type": "stream",
     "text": [
      "/tmp/ipykernel_79/217988745.py:6: SettingWithCopyWarning: \n",
      "A value is trying to be set on a copy of a slice from a DataFrame.\n",
      "Try using .loc[row_indexer,col_indexer] = value instead\n",
      "\n",
      "See the caveats in the documentation: https://pandas.pydata.org/pandas-docs/stable/user_guide/indexing.html#returning-a-view-versus-a-copy\n",
      "  features_train_ord[numeric]=scaler.transform(features_train_ord[numeric])\n",
      "/opt/conda/envs/python3/lib/python3.9/site-packages/pandas/core/indexing.py:1637: SettingWithCopyWarning: \n",
      "A value is trying to be set on a copy of a slice from a DataFrame\n",
      "\n",
      "See the caveats in the documentation: https://pandas.pydata.org/pandas-docs/stable/user_guide/indexing.html#returning-a-view-versus-a-copy\n",
      "  self._setitem_single_block(indexer, value, name)\n",
      "/opt/conda/envs/python3/lib/python3.9/site-packages/pandas/core/indexing.py:692: SettingWithCopyWarning: \n",
      "A value is trying to be set on a copy of a slice from a DataFrame\n",
      "\n",
      "See the caveats in the documentation: https://pandas.pydata.org/pandas-docs/stable/user_guide/indexing.html#returning-a-view-versus-a-copy\n",
      "  iloc._setitem_with_indexer(indexer, value, self.name)\n",
      "/tmp/ipykernel_79/217988745.py:7: SettingWithCopyWarning: \n",
      "A value is trying to be set on a copy of a slice from a DataFrame.\n",
      "Try using .loc[row_indexer,col_indexer] = value instead\n",
      "\n",
      "See the caveats in the documentation: https://pandas.pydata.org/pandas-docs/stable/user_guide/indexing.html#returning-a-view-versus-a-copy\n",
      "  features_valid_ord[numeric]=scaler.transform(features_valid_ord[numeric])\n",
      "/opt/conda/envs/python3/lib/python3.9/site-packages/pandas/core/indexing.py:1637: SettingWithCopyWarning: \n",
      "A value is trying to be set on a copy of a slice from a DataFrame\n",
      "\n",
      "See the caveats in the documentation: https://pandas.pydata.org/pandas-docs/stable/user_guide/indexing.html#returning-a-view-versus-a-copy\n",
      "  self._setitem_single_block(indexer, value, name)\n",
      "/opt/conda/envs/python3/lib/python3.9/site-packages/pandas/core/indexing.py:692: SettingWithCopyWarning: \n",
      "A value is trying to be set on a copy of a slice from a DataFrame\n",
      "\n",
      "See the caveats in the documentation: https://pandas.pydata.org/pandas-docs/stable/user_guide/indexing.html#returning-a-view-versus-a-copy\n",
      "  iloc._setitem_with_indexer(indexer, value, self.name)\n",
      "/tmp/ipykernel_79/217988745.py:8: SettingWithCopyWarning: \n",
      "A value is trying to be set on a copy of a slice from a DataFrame.\n",
      "Try using .loc[row_indexer,col_indexer] = value instead\n",
      "\n",
      "See the caveats in the documentation: https://pandas.pydata.org/pandas-docs/stable/user_guide/indexing.html#returning-a-view-versus-a-copy\n",
      "  features_test_ord[numeric]=scaler.transform(features_test_ord[numeric])\n",
      "/opt/conda/envs/python3/lib/python3.9/site-packages/pandas/core/indexing.py:1637: SettingWithCopyWarning: \n",
      "A value is trying to be set on a copy of a slice from a DataFrame\n",
      "\n",
      "See the caveats in the documentation: https://pandas.pydata.org/pandas-docs/stable/user_guide/indexing.html#returning-a-view-versus-a-copy\n",
      "  self._setitem_single_block(indexer, value, name)\n",
      "/opt/conda/envs/python3/lib/python3.9/site-packages/pandas/core/indexing.py:692: SettingWithCopyWarning: \n",
      "A value is trying to be set on a copy of a slice from a DataFrame\n",
      "\n",
      "See the caveats in the documentation: https://pandas.pydata.org/pandas-docs/stable/user_guide/indexing.html#returning-a-view-versus-a-copy\n",
      "  iloc._setitem_with_indexer(indexer, value, self.name)\n"
     ]
    }
   ],
   "source": [
    "numeric = ['creditscore','age','tenure','balance','numofproducts','estimatedsalary']\n",
    "\n",
    "scaler = StandardScaler()\n",
    "scaler.fit(features_train_ord[numeric])\n",
    "\n",
    "features_train_ord[numeric]=scaler.transform(features_train_ord[numeric])\n",
    "features_valid_ord[numeric]=scaler.transform(features_valid_ord[numeric])\n",
    "features_test_ord[numeric]=scaler.transform(features_test_ord[numeric])"
   ]
  },
  {
   "cell_type": "code",
   "execution_count": 17,
   "metadata": {
    "scrolled": true,
    "trusted": false
   },
   "outputs": [
    {
     "data": {
      "text/html": [
       "<div>\n",
       "<style scoped>\n",
       "    .dataframe tbody tr th:only-of-type {\n",
       "        vertical-align: middle;\n",
       "    }\n",
       "\n",
       "    .dataframe tbody tr th {\n",
       "        vertical-align: top;\n",
       "    }\n",
       "\n",
       "    .dataframe thead th {\n",
       "        text-align: right;\n",
       "    }\n",
       "</style>\n",
       "<table border=\"1\" class=\"dataframe\">\n",
       "  <thead>\n",
       "    <tr style=\"text-align: right;\">\n",
       "      <th></th>\n",
       "      <th>creditscore</th>\n",
       "      <th>geography</th>\n",
       "      <th>gender</th>\n",
       "      <th>age</th>\n",
       "      <th>tenure</th>\n",
       "      <th>balance</th>\n",
       "      <th>numofproducts</th>\n",
       "      <th>hascrcard</th>\n",
       "      <th>isactivemember</th>\n",
       "      <th>estimatedsalary</th>\n",
       "    </tr>\n",
       "  </thead>\n",
       "  <tbody>\n",
       "    <tr>\n",
       "      <th>8189</th>\n",
       "      <td>0.652823</td>\n",
       "      <td>0.0</td>\n",
       "      <td>1.0</td>\n",
       "      <td>-1.700024</td>\n",
       "      <td>1.096509</td>\n",
       "      <td>-0.950460</td>\n",
       "      <td>0.781092</td>\n",
       "      <td>1.0</td>\n",
       "      <td>0.0</td>\n",
       "      <td>-0.539820</td>\n",
       "    </tr>\n",
       "    <tr>\n",
       "      <th>8845</th>\n",
       "      <td>0.797391</td>\n",
       "      <td>1.0</td>\n",
       "      <td>0.0</td>\n",
       "      <td>0.002775</td>\n",
       "      <td>-1.450269</td>\n",
       "      <td>1.025270</td>\n",
       "      <td>-0.920634</td>\n",
       "      <td>1.0</td>\n",
       "      <td>1.0</td>\n",
       "      <td>1.629777</td>\n",
       "    </tr>\n",
       "    <tr>\n",
       "      <th>1165</th>\n",
       "      <td>0.621844</td>\n",
       "      <td>1.0</td>\n",
       "      <td>0.0</td>\n",
       "      <td>0.948774</td>\n",
       "      <td>0.005033</td>\n",
       "      <td>1.692765</td>\n",
       "      <td>0.781092</td>\n",
       "      <td>0.0</td>\n",
       "      <td>0.0</td>\n",
       "      <td>1.670968</td>\n",
       "    </tr>\n",
       "    <tr>\n",
       "      <th>1742</th>\n",
       "      <td>-0.699922</td>\n",
       "      <td>1.0</td>\n",
       "      <td>0.0</td>\n",
       "      <td>1.421774</td>\n",
       "      <td>-1.450269</td>\n",
       "      <td>-0.720451</td>\n",
       "      <td>-0.920634</td>\n",
       "      <td>0.0</td>\n",
       "      <td>0.0</td>\n",
       "      <td>0.681011</td>\n",
       "    </tr>\n",
       "    <tr>\n",
       "      <th>1139</th>\n",
       "      <td>0.776739</td>\n",
       "      <td>2.0</td>\n",
       "      <td>0.0</td>\n",
       "      <td>1.705574</td>\n",
       "      <td>-1.450269</td>\n",
       "      <td>0.148889</td>\n",
       "      <td>-0.920634</td>\n",
       "      <td>0.0</td>\n",
       "      <td>1.0</td>\n",
       "      <td>-1.704923</td>\n",
       "    </tr>\n",
       "  </tbody>\n",
       "</table>\n",
       "</div>"
      ],
      "text/plain": [
       "      creditscore  geography  gender       age    tenure   balance  \\\n",
       "8189     0.652823        0.0     1.0 -1.700024  1.096509 -0.950460   \n",
       "8845     0.797391        1.0     0.0  0.002775 -1.450269  1.025270   \n",
       "1165     0.621844        1.0     0.0  0.948774  0.005033  1.692765   \n",
       "1742    -0.699922        1.0     0.0  1.421774 -1.450269 -0.720451   \n",
       "1139     0.776739        2.0     0.0  1.705574 -1.450269  0.148889   \n",
       "\n",
       "      numofproducts  hascrcard  isactivemember  estimatedsalary  \n",
       "8189       0.781092        1.0             0.0        -0.539820  \n",
       "8845      -0.920634        1.0             1.0         1.629777  \n",
       "1165       0.781092        0.0             0.0         1.670968  \n",
       "1742      -0.920634        0.0             0.0         0.681011  \n",
       "1139      -0.920634        0.0             1.0        -1.704923  "
      ]
     },
     "execution_count": 17,
     "metadata": {},
     "output_type": "execute_result"
    }
   ],
   "source": [
    "features_train_ord.head()"
   ]
  },
  {
   "cell_type": "markdown",
   "metadata": {},
   "source": [
    "Description: The data has been prepared for the models decision tree and random forest. Nominal categorical features have been transformed into encoded numbers. The numeric featurs have also been standardized.  "
   ]
  },
  {
   "cell_type": "markdown",
   "metadata": {},
   "source": [
    "# Training the models without balancing classes "
   ]
  },
  {
   "cell_type": "code",
   "execution_count": 18,
   "metadata": {
    "trusted": false
   },
   "outputs": [
    {
     "name": "stdout",
     "output_type": "stream",
     "text": [
      "0    7963\n",
      "1    2037\n",
      "Name: exited, dtype: int64\n"
     ]
    }
   ],
   "source": [
    "target_classes = target.value_counts()\n",
    "print(target_classes)"
   ]
  },
  {
   "cell_type": "code",
   "execution_count": 19,
   "metadata": {
    "trusted": false
   },
   "outputs": [
    {
     "name": "stdout",
     "output_type": "stream",
     "text": [
      "Target observations that are negative: 0.7963\n"
     ]
    }
   ],
   "source": [
    "class_ratio = target_classes [0]/target_classes.sum()\n",
    "print('Target observations that are negative:', class_ratio)"
   ]
  },
  {
   "cell_type": "markdown",
   "metadata": {},
   "source": [
    "Description: At this point it appears more negative target observations than positive observations exist. This will be balanced later. Next step is to examine the models based on accuracy and highest F1 score. The accuracy must be 80% in order to be better than random chance (aka to pass the sanity check). "
   ]
  },
  {
   "cell_type": "markdown",
   "metadata": {},
   "source": [
    "# Logistic Regression Model "
   ]
  },
  {
   "cell_type": "code",
   "execution_count": 20,
   "metadata": {
    "trusted": false
   },
   "outputs": [
    {
     "name": "stdout",
     "output_type": "stream",
     "text": [
      "F1 score for training set: 0.30597014925373134\n",
      "Accuracy for training set: 0.814\n",
      "F1 score for validation set: 0.2783882783882784\n",
      "Accuracy for validation set: 0.803\n"
     ]
    }
   ],
   "source": [
    "model = LogisticRegression(solver='liblinear',random_state=123)\n",
    "model.fit(features_train_df,target_train)\n",
    "\n",
    "pred_train=model.predict(features_train_df)\n",
    "f1_score_train=f1_score(target_train,pred_train)\n",
    "accuracy_train=accuracy_score(target_train,pred_train)\n",
    "\n",
    "print('F1 score for training set:',f1_score_train)\n",
    "print('Accuracy for training set:', accuracy_train)\n",
    "\n",
    "pred_valid=model.predict(features_valid_df)\n",
    "f1_score_valid=f1_score(target_valid,pred_valid)\n",
    "accuracy_valid=accuracy_score(target_valid,pred_valid)\n",
    "\n",
    "print('F1 score for validation set:',f1_score_valid)\n",
    "print('Accuracy for validation set:',accuracy_valid)"
   ]
  },
  {
   "cell_type": "markdown",
   "metadata": {},
   "source": [
    "Description: The accuracy is slightly greater than 80% for the training set. It is apparent from the lower F1 score for the validation set that some overfitting may have occured. Overall based on the F1 score the linear regression model's performance is unsatisfactory. "
   ]
  },
  {
   "cell_type": "markdown",
   "metadata": {},
   "source": [
    "# Decision Tree Model "
   ]
  },
  {
   "cell_type": "code",
   "execution_count": 21,
   "metadata": {
    "trusted": false
   },
   "outputs": [
    {
     "name": "stdout",
     "output_type": "stream",
     "text": [
      "Best F1 score: 0.5677233429394812 arrived at using max depth 5.\n",
      "Model accuracy: 0.85\n"
     ]
    }
   ],
   "source": [
    "#Set hyperparameters \n",
    "best_depth = 0 \n",
    "model_accuracy = 0\n",
    "best_f1_score = 0 \n",
    "model_tree = None \n",
    "\n",
    "#Create isntance of class and fit model w/ training data \n",
    "for depth in range(1,11):\n",
    "    model = DecisionTreeClassifier(max_depth=depth, random_state=123)\n",
    "    model.fit(features_train_df,target_train)\n",
    "    pred_valid=model.predict(features_valid_df)\n",
    "\n",
    "#Calculate f1 score\n",
    "    f1_score_var = f1_score(target_valid, pred_valid)\n",
    "    accuracy = accuracy_score(target_valid,pred_valid)\n",
    "    \n",
    "#Determine best performing hyperparameters and corresponding accuracy \n",
    "    if f1_score_var > best_f1_score: \n",
    "        best_f1_score = f1_score_var \n",
    "        model_accuracy = accuracy \n",
    "        best_depth = depth\n",
    "        model_tree = model \n",
    "        \n",
    "print(f'Best F1 score: {best_f1_score} arrived at using max depth {best_depth}.')\n",
    "print(f'Model accuracy: {model_accuracy}')"
   ]
  },
  {
   "cell_type": "markdown",
   "metadata": {},
   "source": [
    "Description: In examining the decision tree the F1 score is a little short of the requirement, however it's accuracy meets the required threshold. "
   ]
  },
  {
   "cell_type": "markdown",
   "metadata": {},
   "source": [
    "# Random Forest Model "
   ]
  },
  {
   "cell_type": "code",
   "execution_count": 22,
   "metadata": {
    "trusted": false
   },
   "outputs": [
    {
     "name": "stdout",
     "output_type": "stream",
     "text": [
      "Best F1 score: 0.5757575757575758 arrived at using 30 trees with max_depth 6.\n",
      "Model accuracy: 0.86\n"
     ]
    }
   ],
   "source": [
    "best_f1_score = 0\n",
    "model_accuracy = 0\n",
    "best_est = 0\n",
    "best_depth=  0\n",
    "model_forest = None \n",
    "\n",
    "for est in range (10,101,10): \n",
    "    for depth in range (1,11):\n",
    "        model = RandomForestClassifier(\n",
    "            max_features=1.0,\n",
    "            n_estimators=est, max_depth=depth, random_state=123)\n",
    "        model.fit(features_train_df, target_train)\n",
    "        pred_valid = model.predict(features_valid_df)\n",
    "\n",
    "#Calculate f1 score \n",
    "        f1_score_var = f1_score(target_valid, pred_valid)\n",
    "        accuracy = accuracy_score(target_valid, pred_valid)\n",
    "\n",
    "#Determine best performing hyperparameters and corresponding accuracy\n",
    "        if f1_score_var > best_f1_score: \n",
    "            best_f1_score = f1_score_var \n",
    "            model_accuracy = accuracy \n",
    "            best_depth = depth \n",
    "            best_est = est \n",
    "            model_tree = model \n",
    "\n",
    "print(f'Best F1 score: {best_f1_score} arrived at using {best_est} trees with max_depth {best_depth}.')\n",
    "print(f'Model accuracy: {model_accuracy}')\n"
   ]
  },
  {
   "cell_type": "markdown",
   "metadata": {},
   "source": [
    "Description: The random forest model performs slightly better based on the F1 score than the decision tree. It does not achieve the required threshold of 0.59. The accuracy is still higher than the 0.80 threshold. This model is currently the best model based on the F1 score. However, balancing the classes should improve the F1 score for all models. "
   ]
  },
  {
   "cell_type": "markdown",
   "metadata": {},
   "source": [
    "# Retraining models and balancing the classes "
   ]
  },
  {
   "cell_type": "markdown",
   "metadata": {},
   "source": [
    "Description: Below upsampling and downsampling functions will be used to balance the classes. "
   ]
  },
  {
   "cell_type": "code",
   "execution_count": 23,
   "metadata": {
    "trusted": false
   },
   "outputs": [],
   "source": [
    "def upsample (features, target, repeat): \n",
    "    features_zeros = features[target == 0]\n",
    "    features_ones = features[target == 1]\n",
    "    target_zeros = target[target == 0]\n",
    "    target_ones = target[target == 1]\n",
    "    \n",
    "    features_upsampled = pd.concat([features_zeros] + [features_ones] * repeat)\n",
    "    target_upsampled = pd.concat([target_zeros]+[target_ones] * repeat)\n",
    "    \n",
    "    features_upsampled, target_upsampled = shuffle(\n",
    "        features_upsampled, target_upsampled, random_state = 54321)\n",
    "    \n",
    "    return features_upsampled, target_upsampled "
   ]
  },
  {
   "cell_type": "code",
   "execution_count": 24,
   "metadata": {
    "trusted": false
   },
   "outputs": [],
   "source": [
    "def downsample(features, target, fraction): \n",
    "    features_zeros = features[target == 0]\n",
    "    features_ones = features[target ==1]\n",
    "    target_zeros = target[target == 0]\n",
    "    target_ones = target[target == 1]\n",
    "    \n",
    "    features_downsampled = pd.concat(\n",
    "        [features_zeros.sample(frac=fraction, random_state=54321)] + [features_ones])\n",
    "    target_downsampled = pd.concat(\n",
    "        [target_zeros.sample(frac=fraction, random_state=54321)] + [target_ones])\n",
    "    \n",
    "    features_downsampled, target_downsampled = shuffle(\n",
    "        features_downsampled, target_downsampled, random_state=54321)\n",
    "    \n",
    "    return features_downsampled, target_downsampled "
   ]
  },
  {
   "cell_type": "markdown",
   "metadata": {},
   "source": [
    "# Logistic Regression Model "
   ]
  },
  {
   "cell_type": "markdown",
   "metadata": {},
   "source": [
    "Description: The model will be evenly balanced by downsampling and upsampling. "
   ]
  },
  {
   "cell_type": "code",
   "execution_count": 25,
   "metadata": {
    "trusted": false
   },
   "outputs": [
    {
     "name": "stdout",
     "output_type": "stream",
     "text": [
      "(3601, 11)\n",
      "(3601,)\n",
      "0    2398\n",
      "1    1203\n",
      "Name: exited, dtype: int64\n"
     ]
    }
   ],
   "source": [
    "features_train_ohe_downsampled, target_train_downsampled = downsample(features_train_df, target_train, 0.5)\n",
    "\n",
    "print(features_train_ohe_downsampled.shape)\n",
    "print(target_train_downsampled.shape)\n",
    "print(target_train_downsampled.value_counts())"
   ]
  },
  {
   "cell_type": "code",
   "execution_count": 26,
   "metadata": {
    "trusted": false
   },
   "outputs": [
    {
     "name": "stdout",
     "output_type": "stream",
     "text": [
      "F1 score for training set: 0.4665781319167773\n",
      "Accuracy for training set: 0.7991666666666667\n",
      "F1 score for validation set: 0.4535809018567639\n",
      "Accuracy for validation set: 0.794\n"
     ]
    }
   ],
   "source": [
    "model = LogisticRegression(solver='liblinear', random_state=123)\n",
    "model.fit(features_train_ohe_downsampled,target_train_downsampled)\n",
    "\n",
    "pred_train = model.predict(features_train_df)\n",
    "f1_score_train = f1_score(target_train, pred_train)\n",
    "accuracy_train = accuracy_score(target_train, pred_train)\n",
    "\n",
    "print('F1 score for training set:',f1_score_train)\n",
    "print('Accuracy for training set:',accuracy_train)\n",
    "\n",
    "pred_valid = model.predict(features_valid_df)\n",
    "f1_score_valid = f1_score(target_valid, pred_valid)\n",
    "accuracy_valid = accuracy_score(target_valid, pred_valid)\n",
    "\n",
    "print('F1 score for validation set:',f1_score_valid)\n",
    "print('Accuracy for validation set:',accuracy_valid)"
   ]
  },
  {
   "cell_type": "code",
   "execution_count": 27,
   "metadata": {
    "trusted": false
   },
   "outputs": [
    {
     "name": "stdout",
     "output_type": "stream",
     "text": [
      "(4804, 11)\n",
      "(4804,)\n",
      "1    2406\n",
      "0    2398\n",
      "Name: exited, dtype: int64\n"
     ]
    }
   ],
   "source": [
    "features_train_ohe_balanced, target_train_balanced = upsample(features_train_ohe_downsampled, target_train_downsampled, 2)\n",
    "\n",
    "print(features_train_ohe_balanced.shape)\n",
    "print(target_train_balanced.shape)\n",
    "print(target_train_balanced.value_counts())"
   ]
  },
  {
   "cell_type": "code",
   "execution_count": 28,
   "metadata": {
    "trusted": false
   },
   "outputs": [
    {
     "name": "stdout",
     "output_type": "stream",
     "text": [
      "F1 score for training set: 0.4860253015592822\n",
      "Accuracy for training set: 0.7088333333333333\n",
      "F1 score for validation set: 0.49871904355251917\n",
      "Accuracy for validation set: 0.7065\n"
     ]
    }
   ],
   "source": [
    "model = LogisticRegression(solver='liblinear', random_state=123)\n",
    "model.fit(features_train_ohe_balanced, target_train_balanced)\n",
    "\n",
    "pred_train = model.predict(features_train_df)\n",
    "f1_score_train = f1_score(target_train, pred_train)\n",
    "accuracy_train = accuracy_score(target_train, pred_train)\n",
    "\n",
    "print('F1 score for training set:',f1_score_train)\n",
    "print('Accuracy for training set:',accuracy_train)\n",
    "\n",
    "pred_valid = model.predict(features_valid_df)\n",
    "f1_score_valid = f1_score(target_valid, pred_valid)\n",
    "accuracy_valid = accuracy_score(target_valid, pred_valid)\n",
    "\n",
    "print('F1 score for validation set:',f1_score_valid)\n",
    "print('Accuracy for validation set:',accuracy_valid)"
   ]
  },
  {
   "cell_type": "markdown",
   "metadata": {},
   "source": [
    "Description: Accuracy has dropped now that the classes have been balanced for both downsampling and upsampling. In addtion, the validation F1 score has improved. However, it still is below the requirement for both downsampling and upsampling. "
   ]
  },
  {
   "cell_type": "markdown",
   "metadata": {},
   "source": [
    "# Decision Tree Model "
   ]
  },
  {
   "cell_type": "code",
   "execution_count": 29,
   "metadata": {
    "trusted": false
   },
   "outputs": [
    {
     "name": "stdout",
     "output_type": "stream",
     "text": [
      "(3601, 11)\n",
      "(3601,)\n",
      "0    2398\n",
      "1    1203\n",
      "Name: exited, dtype: int64\n"
     ]
    }
   ],
   "source": [
    "features_train_ord_downsampled, target_train_downsampled = downsample(features_train_df,target_train, 0.5)\n",
    "\n",
    "print(features_train_ord_downsampled.shape)\n",
    "print(target_train_downsampled.shape)\n",
    "print(target_train_downsampled.value_counts())"
   ]
  },
  {
   "cell_type": "code",
   "execution_count": 30,
   "metadata": {
    "trusted": false
   },
   "outputs": [
    {
     "name": "stdout",
     "output_type": "stream",
     "text": [
      "Best F1 score: 0.5731414868105515 achieved using max depth 7.\n",
      "Model accuracy: 0.822\n"
     ]
    }
   ],
   "source": [
    "best_depth = 0 \n",
    "model_accuracy = 0 \n",
    "best_f1_score = 0 \n",
    "model_tree = None \n",
    "\n",
    "for depth in range(1,11): \n",
    "    model = DecisionTreeClassifier(max_depth=depth, random_state =123)\n",
    "    model.fit(features_train_ord_downsampled,target_train_downsampled)\n",
    "    pred_valid = model.predict(features_valid_df)\n",
    "    \n",
    "    f1_score_var = f1_score(target_valid, pred_valid)\n",
    "    accuracy = accuracy_score(target_valid,pred_valid)\n",
    "    \n",
    "    if f1_score_var > best_f1_score: \n",
    "        best_f1_score = f1_score_var \n",
    "        model_accuracy = accuracy \n",
    "        best_depth = depth \n",
    "        model_tree = model \n",
    "\n",
    "print(f'Best F1 score: {best_f1_score} achieved using max depth {best_depth}.')\n",
    "print(f'Model accuracy: {model_accuracy}')"
   ]
  },
  {
   "cell_type": "code",
   "execution_count": 31,
   "metadata": {
    "trusted": false
   },
   "outputs": [
    {
     "name": "stdout",
     "output_type": "stream",
     "text": [
      "(4804, 11)\n",
      "(4804,)\n",
      "1    2406\n",
      "0    2398\n",
      "Name: exited, dtype: int64\n"
     ]
    }
   ],
   "source": [
    "features_train_ord_balanced, target_train_balanced = upsample(features_train_ord_downsampled,target_train_downsampled,2)\n",
    "\n",
    "print(features_train_ord_balanced.shape)\n",
    "print(target_train_balanced.shape)\n",
    "print(target_train_balanced.value_counts())"
   ]
  },
  {
   "cell_type": "code",
   "execution_count": 32,
   "metadata": {
    "trusted": false
   },
   "outputs": [
    {
     "name": "stdout",
     "output_type": "stream",
     "text": [
      "Best F1 score: 0.5588235294117648 achieved using max depth 7.\n",
      "Model accuracy: 0.775\n"
     ]
    }
   ],
   "source": [
    "best_depth = 0 \n",
    "model_accuracy = 0 \n",
    "best_f1_score = 0 \n",
    "model_tree = None \n",
    "\n",
    "for depth in range(1,11): \n",
    "    model = DecisionTreeClassifier(max_depth=depth, random_state =123)\n",
    "    model.fit(features_train_ord_balanced,target_train_balanced)\n",
    "    pred_valid = model.predict(features_valid_df)\n",
    "    \n",
    "    f1_score_var = f1_score(target_valid, pred_valid)\n",
    "    accuracy = accuracy_score(target_valid,pred_valid)\n",
    "    \n",
    "    if f1_score_var > best_f1_score: \n",
    "        best_f1_score = f1_score_var \n",
    "        model_accuracy = accuracy \n",
    "        best_depth = depth \n",
    "        model_tree = model \n",
    "\n",
    "print(f'Best F1 score: {best_f1_score} achieved using max depth {best_depth}.')\n",
    "print(f'Model accuracy: {model_accuracy}')"
   ]
  },
  {
   "cell_type": "markdown",
   "metadata": {},
   "source": [
    "Description: F1 score has improved a little bit but, it is still below the requirement for both upsampling and downsampling. While accuracy has dropped for both upsampling and downsampling. "
   ]
  },
  {
   "cell_type": "markdown",
   "metadata": {},
   "source": [
    "# Random Forest Model "
   ]
  },
  {
   "cell_type": "markdown",
   "metadata": {},
   "source": [
    "Description: The Random Forest Model was the highest performing model when testing prior to balancing the classes. In order to enhance the performance loops will be added into the model to ensure upsampling and downsampling is done with various multipliers and fractions. Moreover, the loop will go through the number of estimators and the max depth. However, as is often the disadvantage of this type of model it will need to be considered how to improve processing speed. The best means to achieve this right now is to keep the number of estimators in a specific select range."
   ]
  },
  {
   "cell_type": "code",
   "execution_count": 33,
   "metadata": {
    "trusted": false
   },
   "outputs": [
    {
     "name": "stdout",
     "output_type": "stream",
     "text": [
      "Best F1 score: 0.6220472440944882 achieved using 50 trees with max_depth 10.\n",
      "Best class balance obtained using downsampling fraction 1.0.\n",
      "Model accuracy: 0.856\n",
      " Best leaf score: 1 and best min split score: 10\n"
     ]
    }
   ],
   "source": [
    "best_f1_score = 0 \n",
    "model_accuracy = 0 \n",
    "best_est = 0 \n",
    "best_depth = 0 \n",
    "min_samples_split = 0\n",
    "min_samples_leaf = 0\n",
    "model_forest = None \n",
    "best_x = 0 \n",
    "\n",
    "\n",
    "for x in range (5,11):\n",
    "        for est in range(20,51,10): \n",
    "            for depth in range(1,11): \n",
    "                for min_split in [2,5,10]: \n",
    "                    for min_leaf in [1,2,5]: \n",
    "                \n",
    "                        features_train_ord_downsampled, target_train_downsampled = downsample(features_train_df,target_train, x/10)\n",
    "                \n",
    "                        model = RandomForestClassifier(\n",
    "                            max_features=1.0, \n",
    "                            min_samples_split = min_split,\n",
    "                            min_samples_leaf = min_leaf, \n",
    "                            n_estimators=est, max_depth = depth, random_state=123)\n",
    "                        model.fit(features_train_ord_downsampled, target_train_downsampled)\n",
    "                        pred_valid = model.predict(features_valid_df) \n",
    "                \n",
    "                        f1_score_var = f1_score (target_valid, pred_valid)\n",
    "                        accuracy = accuracy_score(target_valid, pred_valid)\n",
    "                \n",
    "                        if f1_score_var > best_f1_score: \n",
    "                            best_f1_score = f1_score_var\n",
    "                            model_accuracy = accuracy \n",
    "                            best_depth = depth \n",
    "                            best_est = est \n",
    "                            model_forest = model \n",
    "                            best_x= x \n",
    "                            best_leaf = min_leaf \n",
    "                            best_split = min_split \n",
    "                   \n",
    "\n",
    "print(f\"Best F1 score: {best_f1_score} achieved using {best_est} trees with max_depth {best_depth}.\")\n",
    "print(f\"Best class balance obtained using downsampling fraction {x/10}.\")\n",
    "print(f\"Model accuracy: {model_accuracy}\")\n",
    "print(f\" Best leaf score: {best_leaf} and best min split score: {best_split}\")\n"
   ]
  },
  {
   "cell_type": "code",
   "execution_count": 39,
   "metadata": {
    "trusted": false
   },
   "outputs": [
    {
     "name": "stdout",
     "output_type": "stream",
     "text": [
      "Best F1 score: 0.6116129032258065 achieved using 50 trees with max_depth 8.\n",
      "Best class balance obtained using upsampling multiplier 3.\n",
      "Model accuracy: 0.8495\n",
      " Best leaf score: 5 and best min split score: 10\n"
     ]
    }
   ],
   "source": [
    "best_f1_score = 0 \n",
    "model_accuracy = 0 \n",
    "best_est = 0 \n",
    "best_depth = 0 \n",
    "min_samples_split = 0\n",
    "min_samples_leaf = 0\n",
    "model_forest = None  \n",
    "best_y = 0 \n",
    "\n",
    "for y in range (1,4): \n",
    "        for est in range(20,51,10): \n",
    "            for depth in range(1,11): \n",
    "                \n",
    "                features_train_ord_balanced, target_train_balanced = upsample(features_train_ord_downsampled, target_train_downsampled, y)\n",
    "                \n",
    "                model = RandomForestClassifier(\n",
    "                    max_features=1.0,\n",
    "                    min_samples_split = min_split,\n",
    "                    min_samples_leaf = min_leaf, \n",
    "                    n_estimators=est, max_depth = depth, random_state=123)\n",
    "                model.fit(features_train_ord_balanced, target_train_balanced)\n",
    "                pred_valid = model.predict(features_valid_df) \n",
    "                \n",
    "                f1_score_var = f1_score (target_valid, pred_valid)\n",
    "                accuracy = accuracy_score(target_valid, pred_valid)\n",
    "                \n",
    "                if f1_score_var > best_f1_score: \n",
    "                    best_f1_score = f1_score_var\n",
    "                    model_accuracy = accuracy \n",
    "                    best_depth = depth \n",
    "                    best_est = est \n",
    "                    model_forest = model \n",
    "                    best_y= y\n",
    "                    best_leaf = min_leaf \n",
    "                    best_split = min_split \n",
    "\n",
    "print(f\"Best F1 score: {best_f1_score} achieved using {best_est} trees with max_depth {best_depth}.\")\n",
    "print(f\"Best class balance obtained using upsampling multiplier {y}.\")\n",
    "print(f\"Model accuracy: {model_accuracy}\")\n",
    "print(f\" Best leaf score: {best_leaf} and best min split score: {best_split}\")\n"
   ]
  },
  {
   "cell_type": "markdown",
   "metadata": {},
   "source": [
    "Description: The F1 score for the validation set is closer to 0.61 for both upsampling and downsampling. This is above the required threshold of 0.59.The model accuracy is above 80% for both upsampling and downsampling which beats the sanity check. The score was obatained from a downsampling fraction of 1.0 and 3x upsampling. This may be due to removing the training data which is not always the best solution. The processing speed though was very slow for both. "
   ]
  },
  {
   "cell_type": "markdown",
   "metadata": {},
   "source": [
    "# Testing the Highest Performing Model "
   ]
  },
  {
   "cell_type": "markdown",
   "metadata": {},
   "source": [
    "Description: The random forest model was the highest performing model. However, it does take a while for it to process the data. This will be the model that is tested."
   ]
  },
  {
   "cell_type": "code",
   "execution_count": 37,
   "metadata": {
    "trusted": false
   },
   "outputs": [
    {
     "name": "stdout",
     "output_type": "stream",
     "text": [
      "F1 score for test set: 0.6002971768202081\n",
      "Accuracy for test set: 0.8655\n"
     ]
    }
   ],
   "source": [
    "model = RandomForestClassifier(\n",
    "                    max_features=1.0,\n",
    "                    min_samples_split = 10,\n",
    "                    min_samples_leaf = 1,                 \n",
    "                    n_estimators=20, max_depth =10 , random_state=123)\n",
    "\n",
    "model.fit(features_train_df,target_train)\n",
    "pred_test = model.predict(features_test_df)\n",
    "f1_score_test = f1_score (target_test, pred_test)\n",
    "accuracy_test = accuracy_score(target_test,pred_test)\n",
    "\n",
    "\n",
    "print(\"F1 score for test set:\", f1_score_test)\n",
    "print(\"Accuracy for test set:\", accuracy_test)"
   ]
  },
  {
   "cell_type": "markdown",
   "metadata": {},
   "source": [
    "Description: The F1 score is above the required 0.59 and the accuracy is above the required 0.80 as well. This indicates the model scores better than random chance. The next thing to examine is the AUC ROC score. This needs to be above 0.5 as well. "
   ]
  },
  {
   "cell_type": "code",
   "execution_count": 36,
   "metadata": {
    "trusted": false
   },
   "outputs": [
    {
     "data": {
      "image/png": "[encoded data removed]",
      "text/plain": [
       "<Figure size 400x400 with 1 Axes>"
      ]
     },
     "metadata": {},
     "output_type": "display_data"
    },
    {
     "name": "stdout",
     "output_type": "stream",
     "text": [
      "AUC-ROC score: 0.8675822870405905\n"
     ]
    }
   ],
   "source": [
    "probabilities_test = model_forest.predict_proba(features_test_df)\n",
    "probabilities_one_test = probabilities_test[:,1]\n",
    "\n",
    "fpr, tpr, thresholds = roc_curve(target_test, probabilities_one_test)\n",
    "\n",
    "plt.figure(figsize=(4,4))\n",
    "plt.plot(fpr,tpr)\n",
    "plt.plot([0,1],[0,1],linestyle='--')\n",
    "plt.xlim([0,1])\n",
    "plt.ylim([0,1])\n",
    "\n",
    "plt.xlabel('FPR(False Positive Rate)')\n",
    "plt.ylabel('TPR(True Positive Rate)')\n",
    "plt.title('ROC(Reciever Operating Characteristic) Curve')\n",
    "\n",
    "plt.show()\n",
    "\n",
    "auc_roc = roc_auc_score(target_test, probabilities_one_test)\n",
    "print(f\"AUC-ROC score: {auc_roc}\")\n"
   ]
  },
  {
   "cell_type": "markdown",
   "metadata": {},
   "source": [
    "Description: The AUC ROC score is above the threshold of 0.5 and the curve looks good. "
   ]
  },
  {
   "cell_type": "markdown",
   "metadata": {},
   "source": [
    "# Conclusion "
   ]
  },
  {
   "cell_type": "markdown",
   "metadata": {},
   "source": [
    "The aim of the project was to produce a classification model that would predict whether or not Beta Bank customers would leave in the near future. The data was split into features,targets, then split into training,validation and testing sets. Then to encode and standardize the features in ways appropraite to the model that were trained. The Logistic regression model required one hot encoding, whereas the decison tree and random forest model required label encoding. Eventually, the classes were balanced and the best performing model was the random forest model based on it's F1 score. The requirement for the F1 score was 0.59 and this model generated a F1 score of 0.61 when trained.In addition this model had a AUC-ROC score of 0.86 which passes the sanity check. The only disadvantage about this model is the processing time. "
   ]
  }
 ],
 "metadata": {
  "ExecuteTimeLog": [
   {
    "duration": 1096,
    "start_time": "2025-04-14T23:33:06.149Z"
   },
   {
    "duration": 0,
    "start_time": "2025-04-14T23:33:07.247Z"
   },
   {
    "duration": 21,
    "start_time": "2025-04-14T23:33:19.514Z"
   },
   {
    "duration": 11,
    "start_time": "2025-04-14T23:33:20.445Z"
   },
   {
    "duration": 13,
    "start_time": "2025-04-14T23:33:25.008Z"
   },
   {
    "duration": 10,
    "start_time": "2025-04-14T23:33:30.789Z"
   },
   {
    "duration": 7,
    "start_time": "2025-04-14T23:34:17.883Z"
   },
   {
    "duration": 8,
    "start_time": "2025-04-14T23:34:23.523Z"
   },
   {
    "duration": 16,
    "start_time": "2025-04-14T23:36:08.941Z"
   },
   {
    "duration": 25,
    "start_time": "2025-04-14T23:36:42.431Z"
   },
   {
    "duration": 4,
    "start_time": "2025-04-14T23:37:07.176Z"
   },
   {
    "duration": 15,
    "start_time": "2025-04-14T23:37:10.791Z"
   },
   {
    "duration": 1021,
    "start_time": "2025-04-15T18:46:58.007Z"
   },
   {
    "duration": 39,
    "start_time": "2025-04-15T18:46:59.030Z"
   },
   {
    "duration": 12,
    "start_time": "2025-04-15T18:46:59.071Z"
   },
   {
    "duration": 8,
    "start_time": "2025-04-15T18:46:59.087Z"
   },
   {
    "duration": 5,
    "start_time": "2025-04-15T18:46:59.098Z"
   },
   {
    "duration": 0,
    "start_time": "2025-04-15T18:46:59.104Z"
   },
   {
    "duration": 5,
    "start_time": "2025-04-15T18:48:03.367Z"
   },
   {
    "duration": 289,
    "start_time": "2025-04-15T18:48:10.044Z"
   },
   {
    "duration": 14,
    "start_time": "2025-04-15T18:48:41.418Z"
   },
   {
    "duration": 15,
    "start_time": "2025-04-15T18:49:06.882Z"
   },
   {
    "duration": 17,
    "start_time": "2025-04-15T18:49:15.261Z"
   },
   {
    "duration": 11,
    "start_time": "2025-04-15T18:49:47.007Z"
   },
   {
    "duration": 11,
    "start_time": "2025-04-15T18:52:27.270Z"
   },
   {
    "duration": 168,
    "start_time": "2025-04-16T00:31:46.792Z"
   },
   {
    "duration": 820,
    "start_time": "2025-04-16T00:31:59.419Z"
   },
   {
    "duration": 19,
    "start_time": "2025-04-16T00:32:00.241Z"
   },
   {
    "duration": 9,
    "start_time": "2025-04-16T00:32:00.262Z"
   },
   {
    "duration": 7,
    "start_time": "2025-04-16T00:32:00.275Z"
   },
   {
    "duration": 4,
    "start_time": "2025-04-16T00:32:00.283Z"
   },
   {
    "duration": 24,
    "start_time": "2025-04-16T00:32:00.288Z"
   },
   {
    "duration": 9,
    "start_time": "2025-04-16T00:32:00.314Z"
   },
   {
    "duration": 2,
    "start_time": "2025-04-16T00:32:00.326Z"
   },
   {
    "duration": 2,
    "start_time": "2025-04-16T00:32:00.331Z"
   },
   {
    "duration": 8,
    "start_time": "2025-04-16T00:35:59.134Z"
   },
   {
    "duration": 10,
    "start_time": "2025-04-16T00:37:41.246Z"
   },
   {
    "duration": 642,
    "start_time": "2025-04-16T00:38:30.507Z"
   },
   {
    "duration": 10,
    "start_time": "2025-04-16T00:38:39.988Z"
   },
   {
    "duration": 9,
    "start_time": "2025-04-16T00:38:46.918Z"
   },
   {
    "duration": 10,
    "start_time": "2025-04-16T00:39:18.301Z"
   },
   {
    "duration": 9,
    "start_time": "2025-04-16T00:39:21.197Z"
   },
   {
    "duration": 10,
    "start_time": "2025-04-16T00:39:24.666Z"
   },
   {
    "duration": 9,
    "start_time": "2025-04-16T00:40:47.199Z"
   },
   {
    "duration": 58,
    "start_time": "2025-04-16T00:41:45.568Z"
   },
   {
    "duration": 131,
    "start_time": "2025-04-16T00:46:46.879Z"
   },
   {
    "duration": 5,
    "start_time": "2025-04-16T00:46:47.713Z"
   },
   {
    "duration": 94,
    "start_time": "2025-04-16T00:46:48.406Z"
   },
   {
    "duration": 8,
    "start_time": "2025-04-16T00:46:49.172Z"
   },
   {
    "duration": 5,
    "start_time": "2025-04-16T00:46:49.851Z"
   },
   {
    "duration": 15,
    "start_time": "2025-04-16T00:54:48.655Z"
   },
   {
    "duration": 14,
    "start_time": "2025-04-16T00:54:55.532Z"
   },
   {
    "duration": 13,
    "start_time": "2025-04-16T00:55:03.046Z"
   },
   {
    "duration": 794,
    "start_time": "2025-04-16T00:55:17.412Z"
   },
   {
    "duration": 16,
    "start_time": "2025-04-16T00:55:18.209Z"
   },
   {
    "duration": 11,
    "start_time": "2025-04-16T00:55:18.227Z"
   },
   {
    "duration": 7,
    "start_time": "2025-04-16T00:55:18.242Z"
   },
   {
    "duration": 4,
    "start_time": "2025-04-16T00:55:18.250Z"
   },
   {
    "duration": 8,
    "start_time": "2025-04-16T00:55:18.256Z"
   },
   {
    "duration": 10,
    "start_time": "2025-04-16T00:55:18.265Z"
   },
   {
    "duration": 40,
    "start_time": "2025-04-16T00:55:18.276Z"
   },
   {
    "duration": 241,
    "start_time": "2025-04-16T00:55:18.317Z"
   },
   {
    "duration": 0,
    "start_time": "2025-04-16T00:55:18.560Z"
   },
   {
    "duration": 15,
    "start_time": "2025-04-16T00:55:39.616Z"
   },
   {
    "duration": 812,
    "start_time": "2025-04-16T00:58:55.009Z"
   },
   {
    "duration": 15,
    "start_time": "2025-04-16T00:58:55.823Z"
   },
   {
    "duration": 10,
    "start_time": "2025-04-16T00:58:55.839Z"
   },
   {
    "duration": 7,
    "start_time": "2025-04-16T00:58:55.852Z"
   },
   {
    "duration": 3,
    "start_time": "2025-04-16T00:58:55.861Z"
   },
   {
    "duration": 9,
    "start_time": "2025-04-16T00:58:55.866Z"
   },
   {
    "duration": 34,
    "start_time": "2025-04-16T00:58:55.880Z"
   },
   {
    "duration": 9,
    "start_time": "2025-04-16T00:58:55.916Z"
   },
   {
    "duration": 3,
    "start_time": "2025-04-16T00:58:55.927Z"
   },
   {
    "duration": 8,
    "start_time": "2025-04-16T00:58:55.933Z"
   },
   {
    "duration": 7,
    "start_time": "2025-04-16T00:58:55.942Z"
   },
   {
    "duration": 831,
    "start_time": "2025-04-16T01:53:59.693Z"
   },
   {
    "duration": 28,
    "start_time": "2025-04-16T01:54:00.526Z"
   },
   {
    "duration": 10,
    "start_time": "2025-04-16T01:54:00.555Z"
   },
   {
    "duration": 8,
    "start_time": "2025-04-16T01:54:00.567Z"
   },
   {
    "duration": 4,
    "start_time": "2025-04-16T01:54:00.576Z"
   },
   {
    "duration": 20,
    "start_time": "2025-04-16T01:54:00.581Z"
   },
   {
    "duration": 10,
    "start_time": "2025-04-16T01:54:00.604Z"
   },
   {
    "duration": 10,
    "start_time": "2025-04-16T01:54:00.615Z"
   },
   {
    "duration": 4,
    "start_time": "2025-04-16T01:54:00.626Z"
   },
   {
    "duration": 8,
    "start_time": "2025-04-16T01:54:00.633Z"
   },
   {
    "duration": 8,
    "start_time": "2025-04-16T01:54:00.642Z"
   },
   {
    "duration": 272,
    "start_time": "2025-04-16T01:54:00.651Z"
   },
   {
    "duration": 0,
    "start_time": "2025-04-16T01:54:00.924Z"
   },
   {
    "duration": 16,
    "start_time": "2025-04-16T01:54:28.112Z"
   },
   {
    "duration": 739,
    "start_time": "2025-04-16T01:55:47.281Z"
   },
   {
    "duration": 16,
    "start_time": "2025-04-16T01:55:48.022Z"
   },
   {
    "duration": 10,
    "start_time": "2025-04-16T01:55:48.039Z"
   },
   {
    "duration": 7,
    "start_time": "2025-04-16T01:55:48.051Z"
   },
   {
    "duration": 4,
    "start_time": "2025-04-16T01:55:48.061Z"
   },
   {
    "duration": 26,
    "start_time": "2025-04-16T01:55:48.066Z"
   },
   {
    "duration": 10,
    "start_time": "2025-04-16T01:55:48.094Z"
   },
   {
    "duration": 9,
    "start_time": "2025-04-16T01:55:48.105Z"
   },
   {
    "duration": 4,
    "start_time": "2025-04-16T01:55:48.115Z"
   },
   {
    "duration": 11,
    "start_time": "2025-04-16T01:55:48.122Z"
   },
   {
    "duration": 8,
    "start_time": "2025-04-16T01:55:48.136Z"
   },
   {
    "duration": 379,
    "start_time": "2025-04-16T01:55:48.145Z"
   },
   {
    "duration": 0,
    "start_time": "2025-04-16T01:55:48.526Z"
   },
   {
    "duration": 11,
    "start_time": "2025-04-16T01:56:28.973Z"
   },
   {
    "duration": 19,
    "start_time": "2025-04-16T01:57:38.135Z"
   },
   {
    "duration": 9,
    "start_time": "2025-04-16T01:57:49.684Z"
   },
   {
    "duration": 23,
    "start_time": "2025-04-16T02:01:53.593Z"
   },
   {
    "duration": 7,
    "start_time": "2025-04-16T02:09:17.725Z"
   },
   {
    "duration": 12,
    "start_time": "2025-04-16T02:11:46.376Z"
   },
   {
    "duration": 10,
    "start_time": "2025-04-16T02:11:51.214Z"
   },
   {
    "duration": 4,
    "start_time": "2025-04-16T02:16:07.124Z"
   },
   {
    "duration": 3,
    "start_time": "2025-04-16T02:16:14.107Z"
   },
   {
    "duration": 822,
    "start_time": "2025-04-17T01:55:33.440Z"
   },
   {
    "duration": 21,
    "start_time": "2025-04-17T01:55:34.264Z"
   },
   {
    "duration": 11,
    "start_time": "2025-04-17T01:55:34.286Z"
   },
   {
    "duration": 7,
    "start_time": "2025-04-17T01:55:34.299Z"
   },
   {
    "duration": 16,
    "start_time": "2025-04-17T01:55:34.308Z"
   },
   {
    "duration": 9,
    "start_time": "2025-04-17T01:55:34.326Z"
   },
   {
    "duration": 10,
    "start_time": "2025-04-17T01:55:34.336Z"
   },
   {
    "duration": 10,
    "start_time": "2025-04-17T01:55:34.347Z"
   },
   {
    "duration": 3,
    "start_time": "2025-04-17T01:55:34.359Z"
   },
   {
    "duration": 8,
    "start_time": "2025-04-17T01:55:34.365Z"
   },
   {
    "duration": 6,
    "start_time": "2025-04-17T01:55:34.374Z"
   },
   {
    "duration": 57,
    "start_time": "2025-04-17T01:55:34.383Z"
   },
   {
    "duration": 11,
    "start_time": "2025-04-17T01:55:34.442Z"
   },
   {
    "duration": 22,
    "start_time": "2025-04-17T01:55:34.454Z"
   },
   {
    "duration": 6,
    "start_time": "2025-04-17T01:55:34.478Z"
   },
   {
    "duration": 38,
    "start_time": "2025-04-17T01:55:34.486Z"
   },
   {
    "duration": 9,
    "start_time": "2025-04-17T01:55:34.527Z"
   },
   {
    "duration": 4,
    "start_time": "2025-04-17T01:55:34.538Z"
   },
   {
    "duration": 3,
    "start_time": "2025-04-17T01:55:34.544Z"
   },
   {
    "duration": 19,
    "start_time": "2025-04-17T01:55:34.549Z"
   },
   {
    "duration": 138,
    "start_time": "2025-04-17T02:03:36.647Z"
   },
   {
    "duration": 5,
    "start_time": "2025-04-17T02:14:35.003Z"
   },
   {
    "duration": 40634,
    "start_time": "2025-04-17T02:15:47.288Z"
   },
   {
    "duration": 3,
    "start_time": "2025-04-17T02:25:37.998Z"
   },
   {
    "duration": 3,
    "start_time": "2025-04-17T02:30:17.015Z"
   },
   {
    "duration": 4,
    "start_time": "2025-04-17T02:31:37.175Z"
   },
   {
    "duration": 228,
    "start_time": "2025-04-17T02:34:38.966Z"
   },
   {
    "duration": 25,
    "start_time": "2025-04-17T02:36:18.575Z"
   },
   {
    "duration": 767,
    "start_time": "2025-04-17T02:36:42.319Z"
   },
   {
    "duration": 16,
    "start_time": "2025-04-17T02:36:43.088Z"
   },
   {
    "duration": 18,
    "start_time": "2025-04-17T02:36:43.106Z"
   },
   {
    "duration": 8,
    "start_time": "2025-04-17T02:36:43.126Z"
   },
   {
    "duration": 3,
    "start_time": "2025-04-17T02:36:43.135Z"
   },
   {
    "duration": 9,
    "start_time": "2025-04-17T02:36:43.140Z"
   },
   {
    "duration": 9,
    "start_time": "2025-04-17T02:36:43.150Z"
   },
   {
    "duration": 10,
    "start_time": "2025-04-17T02:36:43.160Z"
   },
   {
    "duration": 4,
    "start_time": "2025-04-17T02:36:43.171Z"
   },
   {
    "duration": 47,
    "start_time": "2025-04-17T02:36:43.177Z"
   },
   {
    "duration": 8,
    "start_time": "2025-04-17T02:36:43.226Z"
   },
   {
    "duration": 21,
    "start_time": "2025-04-17T02:36:43.236Z"
   },
   {
    "duration": 10,
    "start_time": "2025-04-17T02:36:43.259Z"
   },
   {
    "duration": 23,
    "start_time": "2025-04-17T02:36:43.271Z"
   },
   {
    "duration": 34,
    "start_time": "2025-04-17T02:36:43.295Z"
   },
   {
    "duration": 13,
    "start_time": "2025-04-17T02:36:43.331Z"
   },
   {
    "duration": 10,
    "start_time": "2025-04-17T02:36:43.345Z"
   },
   {
    "duration": 4,
    "start_time": "2025-04-17T02:36:43.357Z"
   },
   {
    "duration": 3,
    "start_time": "2025-04-17T02:36:43.363Z"
   },
   {
    "duration": 64,
    "start_time": "2025-04-17T02:36:43.368Z"
   },
   {
    "duration": 235,
    "start_time": "2025-04-17T02:36:43.433Z"
   },
   {
    "duration": 40600,
    "start_time": "2025-04-17T02:36:43.670Z"
   },
   {
    "duration": 4,
    "start_time": "2025-04-17T02:37:24.272Z"
   },
   {
    "duration": 4,
    "start_time": "2025-04-17T02:37:24.278Z"
   },
   {
    "duration": 245,
    "start_time": "2025-04-17T02:37:24.284Z"
   },
   {
    "duration": 4,
    "start_time": "2025-04-17T02:38:09.111Z"
   },
   {
    "duration": 4,
    "start_time": "2025-04-17T02:44:28.307Z"
   },
   {
    "duration": 15,
    "start_time": "2025-04-17T02:44:30.784Z"
   },
   {
    "duration": 29,
    "start_time": "2025-04-17T02:45:23.588Z"
   },
   {
    "duration": 14,
    "start_time": "2025-04-17T02:45:38.247Z"
   },
   {
    "duration": 24,
    "start_time": "2025-04-17T02:47:40.943Z"
   },
   {
    "duration": 24,
    "start_time": "2025-04-17T02:49:28.791Z"
   },
   {
    "duration": 25,
    "start_time": "2025-04-17T02:59:18.097Z"
   },
   {
    "duration": 18,
    "start_time": "2025-04-17T03:04:09.760Z"
   },
   {
    "duration": 4,
    "start_time": "2025-04-17T03:07:51.498Z"
   },
   {
    "duration": 3,
    "start_time": "2025-04-17T03:10:22.147Z"
   },
   {
    "duration": 12,
    "start_time": "2025-04-17T03:10:24.850Z"
   },
   {
    "duration": 21,
    "start_time": "2025-04-17T03:10:27.468Z"
   },
   {
    "duration": 63,
    "start_time": "2025-04-17T03:10:48.066Z"
   },
   {
    "duration": 20,
    "start_time": "2025-04-17T03:11:11.707Z"
   },
   {
    "duration": 827,
    "start_time": "2025-04-17T20:22:19.606Z"
   },
   {
    "duration": 29,
    "start_time": "2025-04-17T20:22:20.435Z"
   },
   {
    "duration": 10,
    "start_time": "2025-04-17T20:22:20.466Z"
   },
   {
    "duration": 8,
    "start_time": "2025-04-17T20:22:20.479Z"
   },
   {
    "duration": 4,
    "start_time": "2025-04-17T20:22:20.488Z"
   },
   {
    "duration": 10,
    "start_time": "2025-04-17T20:22:20.494Z"
   },
   {
    "duration": 11,
    "start_time": "2025-04-17T20:22:20.505Z"
   },
   {
    "duration": 17,
    "start_time": "2025-04-17T20:22:20.543Z"
   },
   {
    "duration": 4,
    "start_time": "2025-04-17T20:22:20.562Z"
   },
   {
    "duration": 10,
    "start_time": "2025-04-17T20:22:20.568Z"
   },
   {
    "duration": 7,
    "start_time": "2025-04-17T20:22:20.579Z"
   },
   {
    "duration": 22,
    "start_time": "2025-04-17T20:22:20.588Z"
   },
   {
    "duration": 38,
    "start_time": "2025-04-17T20:22:20.613Z"
   },
   {
    "duration": 30,
    "start_time": "2025-04-17T20:22:20.652Z"
   },
   {
    "duration": 7,
    "start_time": "2025-04-17T20:22:20.684Z"
   },
   {
    "duration": 13,
    "start_time": "2025-04-17T20:22:20.693Z"
   },
   {
    "duration": 36,
    "start_time": "2025-04-17T20:22:20.708Z"
   },
   {
    "duration": 6,
    "start_time": "2025-04-17T20:22:20.746Z"
   },
   {
    "duration": 3,
    "start_time": "2025-04-17T20:22:20.755Z"
   },
   {
    "duration": 20,
    "start_time": "2025-04-17T20:22:20.760Z"
   },
   {
    "duration": 275,
    "start_time": "2025-04-17T20:22:20.782Z"
   },
   {
    "duration": 40102,
    "start_time": "2025-04-17T20:22:21.060Z"
   },
   {
    "duration": 5,
    "start_time": "2025-04-17T20:23:01.164Z"
   },
   {
    "duration": 5,
    "start_time": "2025-04-17T20:23:01.172Z"
   },
   {
    "duration": 13,
    "start_time": "2025-04-17T20:23:01.178Z"
   },
   {
    "duration": 51,
    "start_time": "2025-04-17T20:23:01.193Z"
   },
   {
    "duration": 657,
    "start_time": "2025-04-17T20:23:01.245Z"
   },
   {
    "duration": 20,
    "start_time": "2025-04-17T20:45:20.883Z"
   },
   {
    "duration": 13,
    "start_time": "2025-04-17T20:45:36.146Z"
   },
   {
    "duration": 6,
    "start_time": "2025-04-17T20:45:39.048Z"
   },
   {
    "duration": 158,
    "start_time": "2025-04-17T20:45:58.311Z"
   },
   {
    "duration": 45,
    "start_time": "2025-04-17T20:48:04.239Z"
   },
   {
    "duration": 114,
    "start_time": "2025-04-17T20:49:15.760Z"
   },
   {
    "duration": 140,
    "start_time": "2025-04-17T21:00:28.202Z"
   },
   {
    "duration": 186524,
    "start_time": "2025-04-17T21:00:37.954Z"
   },
   {
    "duration": 12,
    "start_time": "2025-04-17T21:05:43.178Z"
   },
   {
    "duration": 25,
    "start_time": "2025-04-17T21:14:47.307Z"
   },
   {
    "duration": 3,
    "start_time": "2025-04-17T21:20:08.772Z"
   },
   {
    "duration": 25,
    "start_time": "2025-04-17T21:20:23.988Z"
   },
   {
    "duration": 2166,
    "start_time": "2025-04-17T21:21:08.002Z"
   },
   {
    "duration": 175,
    "start_time": "2025-04-17T21:21:22.455Z"
   },
   {
    "duration": 4,
    "start_time": "2025-04-17T21:21:48.529Z"
   },
   {
    "duration": 1040,
    "start_time": "2025-04-17T21:22:00.790Z"
   },
   {
    "duration": 16,
    "start_time": "2025-04-17T21:22:01.832Z"
   },
   {
    "duration": 11,
    "start_time": "2025-04-17T21:22:01.850Z"
   },
   {
    "duration": 8,
    "start_time": "2025-04-17T21:22:01.863Z"
   },
   {
    "duration": 4,
    "start_time": "2025-04-17T21:22:01.873Z"
   },
   {
    "duration": 9,
    "start_time": "2025-04-17T21:22:01.879Z"
   },
   {
    "duration": 10,
    "start_time": "2025-04-17T21:22:01.890Z"
   },
   {
    "duration": 46,
    "start_time": "2025-04-17T21:22:01.902Z"
   },
   {
    "duration": 4,
    "start_time": "2025-04-17T21:22:01.949Z"
   },
   {
    "duration": 87,
    "start_time": "2025-04-17T21:22:01.956Z"
   },
   {
    "duration": 9,
    "start_time": "2025-04-17T21:22:02.045Z"
   },
   {
    "duration": 22,
    "start_time": "2025-04-17T21:22:02.056Z"
   },
   {
    "duration": 12,
    "start_time": "2025-04-17T21:22:02.083Z"
   },
   {
    "duration": 47,
    "start_time": "2025-04-17T21:22:02.096Z"
   },
   {
    "duration": 8,
    "start_time": "2025-04-17T21:22:02.145Z"
   },
   {
    "duration": 16,
    "start_time": "2025-04-17T21:22:02.155Z"
   },
   {
    "duration": 14,
    "start_time": "2025-04-17T21:22:02.173Z"
   },
   {
    "duration": 4,
    "start_time": "2025-04-17T21:22:02.189Z"
   },
   {
    "duration": 3,
    "start_time": "2025-04-17T21:22:02.195Z"
   },
   {
    "duration": 55,
    "start_time": "2025-04-17T21:22:02.200Z"
   },
   {
    "duration": 242,
    "start_time": "2025-04-17T21:22:02.257Z"
   },
   {
    "duration": 40505,
    "start_time": "2025-04-17T21:22:02.502Z"
   },
   {
    "duration": 3,
    "start_time": "2025-04-17T21:22:43.009Z"
   },
   {
    "duration": 4,
    "start_time": "2025-04-17T21:22:43.014Z"
   },
   {
    "duration": 30,
    "start_time": "2025-04-17T21:22:43.019Z"
   },
   {
    "duration": 18,
    "start_time": "2025-04-17T21:22:43.051Z"
   },
   {
    "duration": 76,
    "start_time": "2025-04-17T21:22:43.072Z"
   },
   {
    "duration": 193,
    "start_time": "2025-04-17T21:22:43.155Z"
   },
   {
    "duration": 187025,
    "start_time": "2025-04-17T21:22:43.350Z"
   },
   {
    "duration": 13,
    "start_time": "2025-04-17T21:25:50.377Z"
   },
   {
    "duration": 446,
    "start_time": "2025-04-17T21:25:50.392Z"
   },
   {
    "duration": 40,
    "start_time": "2025-04-17T21:32:02.596Z"
   },
   {
    "duration": 124,
    "start_time": "2025-04-17T21:32:52.250Z"
   },
   {
    "duration": 102,
    "start_time": "2025-04-17T21:33:06.809Z"
   },
   {
    "duration": 2813,
    "start_time": "2025-04-18T07:27:59.021Z"
   },
   {
    "duration": 30,
    "start_time": "2025-04-18T07:28:01.836Z"
   },
   {
    "duration": 10,
    "start_time": "2025-04-18T07:28:01.868Z"
   },
   {
    "duration": 7,
    "start_time": "2025-04-18T07:28:01.880Z"
   },
   {
    "duration": 3,
    "start_time": "2025-04-18T07:28:01.889Z"
   },
   {
    "duration": 11,
    "start_time": "2025-04-18T07:28:01.894Z"
   },
   {
    "duration": 156,
    "start_time": "2025-04-18T18:03:55.181Z"
   },
   {
    "duration": 12,
    "start_time": "2025-04-18T18:04:05.830Z"
   },
   {
    "duration": 2627,
    "start_time": "2025-04-18T18:04:17.718Z"
   },
   {
    "duration": 26,
    "start_time": "2025-04-18T18:04:20.347Z"
   },
   {
    "duration": 10,
    "start_time": "2025-04-18T18:04:20.375Z"
   },
   {
    "duration": 633,
    "start_time": "2025-04-18T18:04:20.387Z"
   },
   {
    "duration": 6,
    "start_time": "2025-04-18T18:04:21.022Z"
   },
   {
    "duration": 3,
    "start_time": "2025-04-18T18:04:21.029Z"
   },
   {
    "duration": 9,
    "start_time": "2025-04-18T18:04:21.034Z"
   },
   {
    "duration": 9,
    "start_time": "2025-04-18T18:04:21.045Z"
   },
   {
    "duration": 9,
    "start_time": "2025-04-18T18:04:21.056Z"
   },
   {
    "duration": 38,
    "start_time": "2025-04-18T18:04:21.067Z"
   },
   {
    "duration": 9,
    "start_time": "2025-04-18T18:04:21.106Z"
   },
   {
    "duration": 6,
    "start_time": "2025-04-18T18:04:21.116Z"
   },
   {
    "duration": 21,
    "start_time": "2025-04-18T18:04:21.124Z"
   },
   {
    "duration": 11,
    "start_time": "2025-04-18T18:04:21.146Z"
   },
   {
    "duration": 47,
    "start_time": "2025-04-18T18:04:21.160Z"
   },
   {
    "duration": 5,
    "start_time": "2025-04-18T18:04:21.209Z"
   },
   {
    "duration": 13,
    "start_time": "2025-04-18T18:04:21.216Z"
   },
   {
    "duration": 10,
    "start_time": "2025-04-18T18:04:21.231Z"
   },
   {
    "duration": 4,
    "start_time": "2025-04-18T18:04:21.243Z"
   },
   {
    "duration": 4,
    "start_time": "2025-04-18T18:04:21.248Z"
   },
   {
    "duration": 57,
    "start_time": "2025-04-18T18:04:21.255Z"
   },
   {
    "duration": 212,
    "start_time": "2025-04-18T18:04:21.314Z"
   },
   {
    "duration": 39742,
    "start_time": "2025-04-18T18:04:21.528Z"
   },
   {
    "duration": 4,
    "start_time": "2025-04-18T18:05:01.273Z"
   },
   {
    "duration": 8,
    "start_time": "2025-04-18T18:05:01.279Z"
   },
   {
    "duration": 25,
    "start_time": "2025-04-18T18:05:01.289Z"
   },
   {
    "duration": 16,
    "start_time": "2025-04-18T18:05:01.316Z"
   },
   {
    "duration": 69,
    "start_time": "2025-04-18T18:05:01.336Z"
   },
   {
    "duration": 192,
    "start_time": "2025-04-18T18:05:01.407Z"
   },
   {
    "duration": 863,
    "start_time": "2025-04-18T18:06:01.971Z"
   },
   {
    "duration": 16,
    "start_time": "2025-04-18T18:06:02.836Z"
   },
   {
    "duration": 10,
    "start_time": "2025-04-18T18:06:02.853Z"
   },
   {
    "duration": 164,
    "start_time": "2025-04-18T18:06:02.864Z"
   },
   {
    "duration": 6,
    "start_time": "2025-04-18T18:06:03.031Z"
   },
   {
    "duration": 4,
    "start_time": "2025-04-18T18:06:03.039Z"
   },
   {
    "duration": 9,
    "start_time": "2025-04-18T18:06:03.044Z"
   },
   {
    "duration": 10,
    "start_time": "2025-04-18T18:06:03.054Z"
   },
   {
    "duration": 9,
    "start_time": "2025-04-18T18:06:03.066Z"
   },
   {
    "duration": 30,
    "start_time": "2025-04-18T18:06:03.077Z"
   },
   {
    "duration": 8,
    "start_time": "2025-04-18T18:06:03.109Z"
   },
   {
    "duration": 7,
    "start_time": "2025-04-18T18:06:03.118Z"
   },
   {
    "duration": 19,
    "start_time": "2025-04-18T18:06:03.127Z"
   },
   {
    "duration": 9,
    "start_time": "2025-04-18T18:06:03.149Z"
   },
   {
    "duration": 51,
    "start_time": "2025-04-18T18:06:03.160Z"
   },
   {
    "duration": 5,
    "start_time": "2025-04-18T18:06:03.214Z"
   },
   {
    "duration": 13,
    "start_time": "2025-04-18T18:06:03.222Z"
   },
   {
    "duration": 9,
    "start_time": "2025-04-18T18:06:03.237Z"
   },
   {
    "duration": 4,
    "start_time": "2025-04-18T18:06:03.248Z"
   },
   {
    "duration": 3,
    "start_time": "2025-04-18T18:06:03.253Z"
   },
   {
    "duration": 60,
    "start_time": "2025-04-18T18:06:03.258Z"
   },
   {
    "duration": 250,
    "start_time": "2025-04-18T18:06:03.320Z"
   },
   {
    "duration": 39839,
    "start_time": "2025-04-18T18:06:03.572Z"
   },
   {
    "duration": 4,
    "start_time": "2025-04-18T18:06:43.413Z"
   },
   {
    "duration": 10,
    "start_time": "2025-04-18T18:06:43.419Z"
   },
   {
    "duration": 17,
    "start_time": "2025-04-18T18:06:43.432Z"
   },
   {
    "duration": 64,
    "start_time": "2025-04-18T18:06:43.452Z"
   },
   {
    "duration": 25,
    "start_time": "2025-04-18T18:06:43.518Z"
   },
   {
    "duration": 178,
    "start_time": "2025-04-18T18:06:43.545Z"
   },
   {
    "duration": 184147,
    "start_time": "2025-04-18T18:06:43.725Z"
   },
   {
    "duration": 12,
    "start_time": "2025-04-18T18:09:47.874Z"
   },
   {
    "duration": 121,
    "start_time": "2025-04-18T18:09:47.887Z"
   },
   {
    "duration": 889,
    "start_time": "2025-04-18T18:11:07.441Z"
   },
   {
    "duration": 15,
    "start_time": "2025-04-18T18:11:08.333Z"
   },
   {
    "duration": 10,
    "start_time": "2025-04-18T18:11:08.350Z"
   },
   {
    "duration": 152,
    "start_time": "2025-04-18T18:11:08.362Z"
   },
   {
    "duration": 6,
    "start_time": "2025-04-18T18:11:08.516Z"
   },
   {
    "duration": 3,
    "start_time": "2025-04-18T18:11:08.524Z"
   },
   {
    "duration": 11,
    "start_time": "2025-04-18T18:11:08.529Z"
   },
   {
    "duration": 6,
    "start_time": "2025-04-18T18:11:08.541Z"
   },
   {
    "duration": 172,
    "start_time": "2025-04-18T18:11:08.548Z"
   },
   {
    "duration": 0,
    "start_time": "2025-04-18T18:11:08.722Z"
   },
   {
    "duration": 0,
    "start_time": "2025-04-18T18:11:08.723Z"
   },
   {
    "duration": 0,
    "start_time": "2025-04-18T18:11:08.725Z"
   },
   {
    "duration": 0,
    "start_time": "2025-04-18T18:11:08.726Z"
   },
   {
    "duration": 0,
    "start_time": "2025-04-18T18:11:08.727Z"
   },
   {
    "duration": 0,
    "start_time": "2025-04-18T18:11:08.729Z"
   },
   {
    "duration": 0,
    "start_time": "2025-04-18T18:11:08.730Z"
   },
   {
    "duration": 0,
    "start_time": "2025-04-18T18:11:08.732Z"
   },
   {
    "duration": 0,
    "start_time": "2025-04-18T18:11:08.733Z"
   },
   {
    "duration": 0,
    "start_time": "2025-04-18T18:11:08.734Z"
   },
   {
    "duration": 0,
    "start_time": "2025-04-18T18:11:08.735Z"
   },
   {
    "duration": 0,
    "start_time": "2025-04-18T18:11:08.736Z"
   },
   {
    "duration": 0,
    "start_time": "2025-04-18T18:11:08.737Z"
   },
   {
    "duration": 0,
    "start_time": "2025-04-18T18:11:08.738Z"
   },
   {
    "duration": 0,
    "start_time": "2025-04-18T18:11:08.739Z"
   },
   {
    "duration": 0,
    "start_time": "2025-04-18T18:11:08.741Z"
   },
   {
    "duration": 1,
    "start_time": "2025-04-18T18:11:08.742Z"
   },
   {
    "duration": 0,
    "start_time": "2025-04-18T18:11:08.744Z"
   },
   {
    "duration": 0,
    "start_time": "2025-04-18T18:11:08.745Z"
   },
   {
    "duration": 0,
    "start_time": "2025-04-18T18:11:08.746Z"
   },
   {
    "duration": 0,
    "start_time": "2025-04-18T18:11:08.747Z"
   },
   {
    "duration": 0,
    "start_time": "2025-04-18T18:11:08.748Z"
   },
   {
    "duration": 0,
    "start_time": "2025-04-18T18:11:08.749Z"
   },
   {
    "duration": 16,
    "start_time": "2025-04-18T18:13:24.301Z"
   },
   {
    "duration": 18,
    "start_time": "2025-04-18T18:17:00.060Z"
   },
   {
    "duration": 4,
    "start_time": "2025-04-18T18:17:11.319Z"
   },
   {
    "duration": 918,
    "start_time": "2025-04-18T18:17:30.147Z"
   },
   {
    "duration": 16,
    "start_time": "2025-04-18T18:17:31.067Z"
   },
   {
    "duration": 11,
    "start_time": "2025-04-18T18:17:31.084Z"
   },
   {
    "duration": 166,
    "start_time": "2025-04-18T18:17:31.105Z"
   },
   {
    "duration": 9,
    "start_time": "2025-04-18T18:17:31.273Z"
   },
   {
    "duration": 24,
    "start_time": "2025-04-18T18:17:31.284Z"
   },
   {
    "duration": 7,
    "start_time": "2025-04-18T18:17:31.310Z"
   },
   {
    "duration": 155,
    "start_time": "2025-04-18T18:17:31.319Z"
   },
   {
    "duration": 0,
    "start_time": "2025-04-18T18:17:31.477Z"
   },
   {
    "duration": 0,
    "start_time": "2025-04-18T18:17:31.478Z"
   },
   {
    "duration": 0,
    "start_time": "2025-04-18T18:17:31.479Z"
   },
   {
    "duration": 0,
    "start_time": "2025-04-18T18:17:31.481Z"
   },
   {
    "duration": 0,
    "start_time": "2025-04-18T18:17:31.483Z"
   },
   {
    "duration": 0,
    "start_time": "2025-04-18T18:17:31.483Z"
   },
   {
    "duration": 0,
    "start_time": "2025-04-18T18:17:31.484Z"
   },
   {
    "duration": 0,
    "start_time": "2025-04-18T18:17:31.485Z"
   },
   {
    "duration": 0,
    "start_time": "2025-04-18T18:17:31.486Z"
   },
   {
    "duration": 0,
    "start_time": "2025-04-18T18:17:31.488Z"
   },
   {
    "duration": 0,
    "start_time": "2025-04-18T18:17:31.489Z"
   },
   {
    "duration": 0,
    "start_time": "2025-04-18T18:17:31.489Z"
   },
   {
    "duration": 0,
    "start_time": "2025-04-18T18:17:31.490Z"
   },
   {
    "duration": 0,
    "start_time": "2025-04-18T18:17:31.490Z"
   },
   {
    "duration": 0,
    "start_time": "2025-04-18T18:17:31.491Z"
   },
   {
    "duration": 0,
    "start_time": "2025-04-18T18:17:31.491Z"
   },
   {
    "duration": 0,
    "start_time": "2025-04-18T18:17:31.492Z"
   },
   {
    "duration": 0,
    "start_time": "2025-04-18T18:17:31.506Z"
   },
   {
    "duration": 0,
    "start_time": "2025-04-18T18:17:31.507Z"
   },
   {
    "duration": 0,
    "start_time": "2025-04-18T18:17:31.509Z"
   },
   {
    "duration": 0,
    "start_time": "2025-04-18T18:17:31.510Z"
   },
   {
    "duration": 0,
    "start_time": "2025-04-18T18:17:31.511Z"
   },
   {
    "duration": 0,
    "start_time": "2025-04-18T18:17:31.512Z"
   },
   {
    "duration": 4,
    "start_time": "2025-04-18T18:32:04.748Z"
   },
   {
    "duration": 4,
    "start_time": "2025-04-18T18:32:35.723Z"
   },
   {
    "duration": 17,
    "start_time": "2025-04-18T18:33:54.311Z"
   },
   {
    "duration": 17,
    "start_time": "2025-04-18T18:33:55.929Z"
   },
   {
    "duration": 13,
    "start_time": "2025-04-18T18:34:01.914Z"
   },
   {
    "duration": 12,
    "start_time": "2025-04-18T18:34:21.893Z"
   },
   {
    "duration": 12,
    "start_time": "2025-04-18T18:34:36.191Z"
   },
   {
    "duration": 881,
    "start_time": "2025-04-18T18:34:47.915Z"
   },
   {
    "duration": 16,
    "start_time": "2025-04-18T18:34:48.797Z"
   },
   {
    "duration": 10,
    "start_time": "2025-04-18T18:34:48.814Z"
   },
   {
    "duration": 152,
    "start_time": "2025-04-18T18:34:48.826Z"
   },
   {
    "duration": 7,
    "start_time": "2025-04-18T18:34:48.980Z"
   },
   {
    "duration": 22,
    "start_time": "2025-04-18T18:34:48.989Z"
   },
   {
    "duration": 5,
    "start_time": "2025-04-18T18:34:49.013Z"
   },
   {
    "duration": 158,
    "start_time": "2025-04-18T18:34:49.019Z"
   },
   {
    "duration": 0,
    "start_time": "2025-04-18T18:34:49.179Z"
   },
   {
    "duration": 0,
    "start_time": "2025-04-18T18:34:49.181Z"
   },
   {
    "duration": 0,
    "start_time": "2025-04-18T18:34:49.182Z"
   },
   {
    "duration": 0,
    "start_time": "2025-04-18T18:34:49.183Z"
   },
   {
    "duration": 0,
    "start_time": "2025-04-18T18:34:49.185Z"
   },
   {
    "duration": 0,
    "start_time": "2025-04-18T18:34:49.186Z"
   },
   {
    "duration": 0,
    "start_time": "2025-04-18T18:34:49.205Z"
   },
   {
    "duration": 0,
    "start_time": "2025-04-18T18:34:49.206Z"
   },
   {
    "duration": 0,
    "start_time": "2025-04-18T18:34:49.207Z"
   },
   {
    "duration": 0,
    "start_time": "2025-04-18T18:34:49.208Z"
   },
   {
    "duration": 0,
    "start_time": "2025-04-18T18:34:49.210Z"
   },
   {
    "duration": 0,
    "start_time": "2025-04-18T18:34:49.211Z"
   },
   {
    "duration": 0,
    "start_time": "2025-04-18T18:34:49.212Z"
   },
   {
    "duration": 0,
    "start_time": "2025-04-18T18:34:49.214Z"
   },
   {
    "duration": 0,
    "start_time": "2025-04-18T18:34:49.215Z"
   },
   {
    "duration": 0,
    "start_time": "2025-04-18T18:34:49.216Z"
   },
   {
    "duration": 0,
    "start_time": "2025-04-18T18:34:49.218Z"
   },
   {
    "duration": 0,
    "start_time": "2025-04-18T18:34:49.219Z"
   },
   {
    "duration": 0,
    "start_time": "2025-04-18T18:34:49.220Z"
   },
   {
    "duration": 0,
    "start_time": "2025-04-18T18:34:49.221Z"
   },
   {
    "duration": 0,
    "start_time": "2025-04-18T18:34:49.222Z"
   },
   {
    "duration": 0,
    "start_time": "2025-04-18T18:34:49.223Z"
   },
   {
    "duration": 0,
    "start_time": "2025-04-18T18:34:49.224Z"
   },
   {
    "duration": 20,
    "start_time": "2025-04-18T18:36:23.928Z"
   },
   {
    "duration": 19,
    "start_time": "2025-04-18T18:37:59.527Z"
   },
   {
    "duration": 4,
    "start_time": "2025-04-18T18:38:33.886Z"
   },
   {
    "duration": 14,
    "start_time": "2025-04-18T18:38:34.716Z"
   },
   {
    "duration": 9,
    "start_time": "2025-04-18T18:38:35.535Z"
   },
   {
    "duration": 90,
    "start_time": "2025-04-18T18:38:36.937Z"
   },
   {
    "duration": 7,
    "start_time": "2025-04-18T18:38:40.780Z"
   },
   {
    "duration": 11,
    "start_time": "2025-04-18T18:38:46.887Z"
   },
   {
    "duration": 6,
    "start_time": "2025-04-18T18:38:48.160Z"
   },
   {
    "duration": 18,
    "start_time": "2025-04-18T18:39:02.759Z"
   },
   {
    "duration": 5,
    "start_time": "2025-04-18T18:39:08.153Z"
   },
   {
    "duration": 104,
    "start_time": "2025-04-18T18:39:23.776Z"
   },
   {
    "duration": 173,
    "start_time": "2025-04-18T23:48:44.010Z"
   },
   {
    "duration": 2896,
    "start_time": "2025-04-18T23:49:05.828Z"
   },
   {
    "duration": 280,
    "start_time": "2025-04-18T23:49:08.726Z"
   },
   {
    "duration": 11,
    "start_time": "2025-04-18T23:49:09.009Z"
   },
   {
    "duration": 112,
    "start_time": "2025-04-18T23:49:09.022Z"
   },
   {
    "duration": 6,
    "start_time": "2025-04-18T23:49:09.136Z"
   },
   {
    "duration": 9,
    "start_time": "2025-04-18T23:49:09.144Z"
   },
   {
    "duration": 7,
    "start_time": "2025-04-18T23:49:09.154Z"
   },
   {
    "duration": 3,
    "start_time": "2025-04-18T23:49:09.162Z"
   },
   {
    "duration": 10,
    "start_time": "2025-04-18T23:49:09.167Z"
   },
   {
    "duration": 10,
    "start_time": "2025-04-18T23:49:09.205Z"
   },
   {
    "duration": 8,
    "start_time": "2025-04-18T23:49:09.217Z"
   },
   {
    "duration": 20,
    "start_time": "2025-04-18T23:49:09.227Z"
   },
   {
    "duration": 10,
    "start_time": "2025-04-18T23:49:09.249Z"
   },
   {
    "duration": 50,
    "start_time": "2025-04-18T23:49:09.262Z"
   },
   {
    "duration": 5,
    "start_time": "2025-04-18T23:49:09.314Z"
   },
   {
    "duration": 12,
    "start_time": "2025-04-18T23:49:09.321Z"
   },
   {
    "duration": 10,
    "start_time": "2025-04-18T23:49:09.334Z"
   },
   {
    "duration": 3,
    "start_time": "2025-04-18T23:49:09.346Z"
   },
   {
    "duration": 4,
    "start_time": "2025-04-18T23:49:09.350Z"
   },
   {
    "duration": 60,
    "start_time": "2025-04-18T23:49:09.356Z"
   },
   {
    "duration": 226,
    "start_time": "2025-04-18T23:49:09.417Z"
   },
   {
    "duration": 43247,
    "start_time": "2025-04-18T23:49:09.644Z"
   },
   {
    "duration": 4,
    "start_time": "2025-04-18T23:49:52.892Z"
   },
   {
    "duration": 13,
    "start_time": "2025-04-18T23:49:52.897Z"
   },
   {
    "duration": 13,
    "start_time": "2025-04-18T23:49:52.913Z"
   },
   {
    "duration": 18,
    "start_time": "2025-04-18T23:49:52.927Z"
   },
   {
    "duration": 82,
    "start_time": "2025-04-18T23:49:52.946Z"
   },
   {
    "duration": 194,
    "start_time": "2025-04-18T23:49:53.031Z"
   },
   {
    "duration": 202417,
    "start_time": "2025-04-18T23:49:53.227Z"
   },
   {
    "duration": 12,
    "start_time": "2025-04-18T23:53:15.646Z"
   },
   {
    "duration": 126,
    "start_time": "2025-04-18T23:53:15.660Z"
   },
   {
    "duration": 8,
    "start_time": "2025-04-19T00:07:09.256Z"
   },
   {
    "duration": 26,
    "start_time": "2025-04-19T00:07:09.970Z"
   },
   {
    "duration": 13,
    "start_time": "2025-04-19T00:07:13.610Z"
   },
   {
    "duration": 15,
    "start_time": "2025-04-19T00:07:14.683Z"
   },
   {
    "duration": 10,
    "start_time": "2025-04-19T00:12:28.953Z"
   },
   {
    "duration": 485,
    "start_time": "2025-04-19T00:12:31.621Z"
   },
   {
    "duration": 10,
    "start_time": "2025-04-19T00:12:49.667Z"
   },
   {
    "duration": 23,
    "start_time": "2025-04-19T00:12:51.381Z"
   },
   {
    "duration": 26,
    "start_time": "2025-04-19T00:15:40.714Z"
   },
   {
    "duration": 11,
    "start_time": "2025-04-19T00:19:13.197Z"
   },
   {
    "duration": 114,
    "start_time": "2025-04-19T00:19:22.016Z"
   },
   {
    "duration": 10,
    "start_time": "2025-04-19T00:19:35.998Z"
   },
   {
    "duration": 126,
    "start_time": "2025-04-19T00:19:43.330Z"
   },
   {
    "duration": 57480,
    "start_time": "2025-04-19T00:24:40.632Z"
   },
   {
    "duration": 40324,
    "start_time": "2025-04-19T00:29:29.538Z"
   },
   {
    "duration": 161,
    "start_time": "2025-04-19T01:03:39.121Z"
   },
   {
    "duration": 16,
    "start_time": "2025-04-19T01:03:49.198Z"
   },
   {
    "duration": 11,
    "start_time": "2025-04-19T01:04:18.522Z"
   },
   {
    "duration": 2608,
    "start_time": "2025-04-19T01:06:30.788Z"
   },
   {
    "duration": 30,
    "start_time": "2025-04-19T01:06:33.398Z"
   },
   {
    "duration": 11,
    "start_time": "2025-04-19T01:06:33.430Z"
   },
   {
    "duration": 104,
    "start_time": "2025-04-19T01:06:33.443Z"
   },
   {
    "duration": 6,
    "start_time": "2025-04-19T01:06:33.549Z"
   },
   {
    "duration": 9,
    "start_time": "2025-04-19T01:06:33.557Z"
   },
   {
    "duration": 7,
    "start_time": "2025-04-19T01:06:33.568Z"
   },
   {
    "duration": 4,
    "start_time": "2025-04-19T01:06:33.576Z"
   },
   {
    "duration": 11,
    "start_time": "2025-04-19T01:06:33.581Z"
   },
   {
    "duration": 7,
    "start_time": "2025-04-19T01:06:33.594Z"
   },
   {
    "duration": 44,
    "start_time": "2025-04-19T01:06:33.603Z"
   },
   {
    "duration": 20,
    "start_time": "2025-04-19T01:06:33.648Z"
   },
   {
    "duration": 11,
    "start_time": "2025-04-19T01:06:33.669Z"
   },
   {
    "duration": 299,
    "start_time": "2025-04-19T01:06:33.682Z"
   },
   {
    "duration": 0,
    "start_time": "2025-04-19T01:06:33.983Z"
   },
   {
    "duration": 0,
    "start_time": "2025-04-19T01:06:33.985Z"
   },
   {
    "duration": 0,
    "start_time": "2025-04-19T01:06:33.986Z"
   },
   {
    "duration": 0,
    "start_time": "2025-04-19T01:06:33.988Z"
   },
   {
    "duration": 0,
    "start_time": "2025-04-19T01:06:33.989Z"
   },
   {
    "duration": 0,
    "start_time": "2025-04-19T01:06:33.991Z"
   },
   {
    "duration": 0,
    "start_time": "2025-04-19T01:06:33.992Z"
   },
   {
    "duration": 0,
    "start_time": "2025-04-19T01:06:33.993Z"
   },
   {
    "duration": 0,
    "start_time": "2025-04-19T01:06:33.995Z"
   },
   {
    "duration": 0,
    "start_time": "2025-04-19T01:06:33.998Z"
   },
   {
    "duration": 0,
    "start_time": "2025-04-19T01:06:33.999Z"
   },
   {
    "duration": 0,
    "start_time": "2025-04-19T01:06:34.000Z"
   },
   {
    "duration": 0,
    "start_time": "2025-04-19T01:06:34.002Z"
   },
   {
    "duration": 0,
    "start_time": "2025-04-19T01:06:34.003Z"
   },
   {
    "duration": 0,
    "start_time": "2025-04-19T01:06:34.004Z"
   },
   {
    "duration": 0,
    "start_time": "2025-04-19T01:06:34.005Z"
   },
   {
    "duration": 0,
    "start_time": "2025-04-19T01:06:34.006Z"
   },
   {
    "duration": 0,
    "start_time": "2025-04-19T01:06:34.044Z"
   },
   {
    "duration": 0,
    "start_time": "2025-04-19T01:06:34.045Z"
   },
   {
    "duration": 0,
    "start_time": "2025-04-19T01:06:34.046Z"
   },
   {
    "duration": 0,
    "start_time": "2025-04-19T01:06:34.047Z"
   },
   {
    "duration": 0,
    "start_time": "2025-04-19T01:06:34.049Z"
   },
   {
    "duration": 27,
    "start_time": "2025-04-19T01:09:10.525Z"
   },
   {
    "duration": 7,
    "start_time": "2025-04-19T01:09:14.571Z"
   },
   {
    "duration": 13,
    "start_time": "2025-04-19T01:09:19.734Z"
   },
   {
    "duration": 10,
    "start_time": "2025-04-19T01:09:24.646Z"
   },
   {
    "duration": 4,
    "start_time": "2025-04-19T01:09:28.410Z"
   },
   {
    "duration": 4,
    "start_time": "2025-04-19T01:09:29.588Z"
   },
   {
    "duration": 20,
    "start_time": "2025-04-19T01:09:33.273Z"
   },
   {
    "duration": 148,
    "start_time": "2025-04-19T01:09:37.941Z"
   },
   {
    "duration": 43672,
    "start_time": "2025-04-19T01:09:41.730Z"
   },
   {
    "duration": 4,
    "start_time": "2025-04-19T01:10:44.005Z"
   },
   {
    "duration": 4,
    "start_time": "2025-04-19T01:10:46.519Z"
   },
   {
    "duration": 25,
    "start_time": "2025-04-19T01:10:50.503Z"
   },
   {
    "duration": 9,
    "start_time": "2025-04-19T01:11:39.433Z"
   },
   {
    "duration": 21,
    "start_time": "2025-04-19T01:11:43.248Z"
   },
   {
    "duration": 9,
    "start_time": "2025-04-19T01:11:47.653Z"
   },
   {
    "duration": 21,
    "start_time": "2025-04-19T01:11:48.872Z"
   },
   {
    "duration": 9,
    "start_time": "2025-04-19T01:12:12.633Z"
   },
   {
    "duration": 106,
    "start_time": "2025-04-19T01:12:13.743Z"
   },
   {
    "duration": 8,
    "start_time": "2025-04-19T01:12:16.117Z"
   },
   {
    "duration": 120,
    "start_time": "2025-04-19T01:12:17.431Z"
   },
   {
    "duration": 39178,
    "start_time": "2025-04-19T01:13:20.505Z"
   },
   {
    "duration": 56165,
    "start_time": "2025-04-19T01:14:55.766Z"
   },
   {
    "duration": 13,
    "start_time": "2025-04-19T01:16:51.363Z"
   },
   {
    "duration": 108,
    "start_time": "2025-04-19T01:17:36.708Z"
   },
   {
    "duration": 915,
    "start_time": "2025-04-19T01:20:23.097Z"
   },
   {
    "duration": 16,
    "start_time": "2025-04-19T01:20:24.014Z"
   },
   {
    "duration": 18,
    "start_time": "2025-04-19T01:20:24.032Z"
   },
   {
    "duration": 159,
    "start_time": "2025-04-19T01:20:24.053Z"
   },
   {
    "duration": 8,
    "start_time": "2025-04-19T01:20:24.213Z"
   },
   {
    "duration": 11,
    "start_time": "2025-04-19T01:20:24.223Z"
   },
   {
    "duration": 11,
    "start_time": "2025-04-19T01:20:24.244Z"
   },
   {
    "duration": 3,
    "start_time": "2025-04-19T01:20:24.257Z"
   },
   {
    "duration": 12,
    "start_time": "2025-04-19T01:20:24.262Z"
   },
   {
    "duration": 8,
    "start_time": "2025-04-19T01:20:24.277Z"
   },
   {
    "duration": 7,
    "start_time": "2025-04-19T01:20:24.287Z"
   },
   {
    "duration": 54,
    "start_time": "2025-04-19T01:20:24.296Z"
   },
   {
    "duration": 11,
    "start_time": "2025-04-19T01:20:24.353Z"
   },
   {
    "duration": 24,
    "start_time": "2025-04-19T01:20:24.365Z"
   },
   {
    "duration": 315,
    "start_time": "2025-04-19T01:20:24.391Z"
   },
   {
    "duration": 0,
    "start_time": "2025-04-19T01:20:24.708Z"
   },
   {
    "duration": 0,
    "start_time": "2025-04-19T01:20:24.709Z"
   },
   {
    "duration": 0,
    "start_time": "2025-04-19T01:20:24.711Z"
   },
   {
    "duration": 0,
    "start_time": "2025-04-19T01:20:24.712Z"
   },
   {
    "duration": 0,
    "start_time": "2025-04-19T01:20:24.713Z"
   },
   {
    "duration": 0,
    "start_time": "2025-04-19T01:20:24.714Z"
   },
   {
    "duration": 0,
    "start_time": "2025-04-19T01:20:24.716Z"
   },
   {
    "duration": 0,
    "start_time": "2025-04-19T01:20:24.717Z"
   },
   {
    "duration": 0,
    "start_time": "2025-04-19T01:20:24.718Z"
   },
   {
    "duration": 0,
    "start_time": "2025-04-19T01:20:24.720Z"
   },
   {
    "duration": 0,
    "start_time": "2025-04-19T01:20:24.744Z"
   },
   {
    "duration": 0,
    "start_time": "2025-04-19T01:20:24.745Z"
   },
   {
    "duration": 0,
    "start_time": "2025-04-19T01:20:24.749Z"
   },
   {
    "duration": 0,
    "start_time": "2025-04-19T01:20:24.752Z"
   },
   {
    "duration": 0,
    "start_time": "2025-04-19T01:20:24.754Z"
   },
   {
    "duration": 0,
    "start_time": "2025-04-19T01:20:24.755Z"
   },
   {
    "duration": 0,
    "start_time": "2025-04-19T01:20:24.756Z"
   },
   {
    "duration": 0,
    "start_time": "2025-04-19T01:20:24.757Z"
   },
   {
    "duration": 0,
    "start_time": "2025-04-19T01:20:24.758Z"
   },
   {
    "duration": 0,
    "start_time": "2025-04-19T01:20:24.759Z"
   },
   {
    "duration": 0,
    "start_time": "2025-04-19T01:20:24.760Z"
   },
   {
    "duration": 14,
    "start_time": "2025-04-19T01:21:15.055Z"
   },
   {
    "duration": 7,
    "start_time": "2025-04-19T01:21:19.050Z"
   },
   {
    "duration": 13,
    "start_time": "2025-04-19T01:21:19.747Z"
   },
   {
    "duration": 11,
    "start_time": "2025-04-19T01:21:26.518Z"
   },
   {
    "duration": 1025,
    "start_time": "2025-04-19T05:49:25.030Z"
   },
   {
    "duration": 16,
    "start_time": "2025-04-19T05:49:26.056Z"
   },
   {
    "duration": 10,
    "start_time": "2025-04-19T05:49:26.073Z"
   },
   {
    "duration": 171,
    "start_time": "2025-04-19T05:49:26.085Z"
   },
   {
    "duration": 6,
    "start_time": "2025-04-19T05:49:26.258Z"
   },
   {
    "duration": 9,
    "start_time": "2025-04-19T05:49:26.266Z"
   },
   {
    "duration": 6,
    "start_time": "2025-04-19T05:49:26.276Z"
   },
   {
    "duration": 34,
    "start_time": "2025-04-19T05:49:26.284Z"
   },
   {
    "duration": 16,
    "start_time": "2025-04-19T05:49:26.325Z"
   },
   {
    "duration": 8,
    "start_time": "2025-04-19T05:49:26.345Z"
   },
   {
    "duration": 6,
    "start_time": "2025-04-19T05:49:26.354Z"
   },
   {
    "duration": 20,
    "start_time": "2025-04-19T05:49:26.362Z"
   },
   {
    "duration": 10,
    "start_time": "2025-04-19T05:49:26.384Z"
   },
   {
    "duration": 34,
    "start_time": "2025-04-19T05:49:26.412Z"
   },
   {
    "duration": 6,
    "start_time": "2025-04-19T05:49:26.447Z"
   },
   {
    "duration": 12,
    "start_time": "2025-04-19T05:49:26.455Z"
   },
   {
    "duration": 10,
    "start_time": "2025-04-19T05:49:26.468Z"
   },
   {
    "duration": 4,
    "start_time": "2025-04-19T05:49:26.480Z"
   },
   {
    "duration": 3,
    "start_time": "2025-04-19T05:49:26.485Z"
   },
   {
    "duration": 40,
    "start_time": "2025-04-19T05:49:26.506Z"
   },
   {
    "duration": 239,
    "start_time": "2025-04-19T05:49:26.547Z"
   },
   {
    "duration": 44789,
    "start_time": "2025-04-19T05:49:26.788Z"
   },
   {
    "duration": 3,
    "start_time": "2025-04-19T05:50:11.579Z"
   },
   {
    "duration": 6,
    "start_time": "2025-04-19T05:50:11.583Z"
   },
   {
    "duration": 147,
    "start_time": "2025-04-19T05:50:11.591Z"
   },
   {
    "duration": 18,
    "start_time": "2025-04-19T05:50:11.740Z"
   },
   {
    "duration": 52,
    "start_time": "2025-04-19T05:50:11.760Z"
   },
   {
    "duration": 95,
    "start_time": "2025-04-19T05:50:11.821Z"
   },
   {
    "duration": 22,
    "start_time": "2025-04-19T05:50:11.918Z"
   },
   {
    "duration": 162,
    "start_time": "2025-04-19T05:50:11.942Z"
   },
   {
    "duration": 16,
    "start_time": "2025-04-19T05:50:12.121Z"
   },
   {
    "duration": 136,
    "start_time": "2025-04-19T05:50:12.139Z"
   },
   {
    "duration": 56943,
    "start_time": "2025-04-19T05:50:12.277Z"
   },
   {
    "duration": 66799,
    "start_time": "2025-04-19T05:51:09.237Z"
   },
   {
    "duration": 15,
    "start_time": "2025-04-19T05:52:16.038Z"
   },
   {
    "duration": 120,
    "start_time": "2025-04-19T05:52:16.054Z"
   },
   {
    "duration": 5,
    "start_time": "2025-04-19T06:00:55.555Z"
   },
   {
    "duration": 2796,
    "start_time": "2025-04-20T00:17:04.378Z"
   },
   {
    "duration": 75,
    "start_time": "2025-04-20T00:17:07.177Z"
   },
   {
    "duration": 12,
    "start_time": "2025-04-20T00:17:07.254Z"
   },
   {
    "duration": 107,
    "start_time": "2025-04-20T00:17:07.268Z"
   },
   {
    "duration": 7,
    "start_time": "2025-04-20T00:17:07.377Z"
   },
   {
    "duration": 18,
    "start_time": "2025-04-20T00:17:07.386Z"
   },
   {
    "duration": 22,
    "start_time": "2025-04-20T00:17:07.406Z"
   },
   {
    "duration": 7,
    "start_time": "2025-04-20T00:17:07.429Z"
   },
   {
    "duration": 13,
    "start_time": "2025-04-20T00:17:07.438Z"
   },
   {
    "duration": 10,
    "start_time": "2025-04-20T00:17:07.453Z"
   },
   {
    "duration": 8,
    "start_time": "2025-04-20T00:17:07.465Z"
   },
   {
    "duration": 50,
    "start_time": "2025-04-20T00:17:07.475Z"
   },
   {
    "duration": 13,
    "start_time": "2025-04-20T00:17:07.527Z"
   },
   {
    "duration": 32,
    "start_time": "2025-04-20T00:17:07.544Z"
   },
   {
    "duration": 7,
    "start_time": "2025-04-20T00:17:07.578Z"
   },
   {
    "duration": 38,
    "start_time": "2025-04-20T00:17:07.586Z"
   },
   {
    "duration": 11,
    "start_time": "2025-04-20T00:17:07.626Z"
   },
   {
    "duration": 3,
    "start_time": "2025-04-20T00:17:07.639Z"
   },
   {
    "duration": 3,
    "start_time": "2025-04-20T00:17:07.644Z"
   },
   {
    "duration": 79,
    "start_time": "2025-04-20T00:17:07.649Z"
   },
   {
    "duration": 229,
    "start_time": "2025-04-20T00:17:07.730Z"
   },
   {
    "duration": 44005,
    "start_time": "2025-04-20T00:17:07.962Z"
   },
   {
    "duration": 5,
    "start_time": "2025-04-20T00:17:51.968Z"
   },
   {
    "duration": 4,
    "start_time": "2025-04-20T00:17:51.975Z"
   },
   {
    "duration": 21,
    "start_time": "2025-04-20T00:17:51.981Z"
   },
   {
    "duration": 31,
    "start_time": "2025-04-20T00:17:52.004Z"
   },
   {
    "duration": 11,
    "start_time": "2025-04-20T00:17:52.037Z"
   },
   {
    "duration": 94,
    "start_time": "2025-04-20T00:17:52.053Z"
   },
   {
    "duration": 73,
    "start_time": "2025-04-20T00:17:52.152Z"
   },
   {
    "duration": 156,
    "start_time": "2025-04-20T00:17:52.227Z"
   },
   {
    "duration": 11,
    "start_time": "2025-04-20T00:17:52.385Z"
   },
   {
    "duration": 151,
    "start_time": "2025-04-20T00:17:52.398Z"
   },
   {
    "duration": 56524,
    "start_time": "2025-04-20T00:17:52.552Z"
   },
   {
    "duration": 39572,
    "start_time": "2025-04-20T00:18:49.078Z"
   },
   {
    "duration": 272,
    "start_time": "2025-04-20T00:19:28.652Z"
   },
   {
    "duration": 113,
    "start_time": "2025-04-20T00:19:28.928Z"
   },
   {
    "duration": 0,
    "start_time": "2025-04-20T00:36:25.476Z"
   },
   {
    "duration": 903,
    "start_time": "2025-04-20T00:36:39.582Z"
   },
   {
    "duration": 16,
    "start_time": "2025-04-20T00:36:40.487Z"
   },
   {
    "duration": 20,
    "start_time": "2025-04-20T00:36:40.505Z"
   },
   {
    "duration": 158,
    "start_time": "2025-04-20T00:36:40.527Z"
   },
   {
    "duration": 8,
    "start_time": "2025-04-20T00:36:40.687Z"
   },
   {
    "duration": 11,
    "start_time": "2025-04-20T00:36:40.696Z"
   },
   {
    "duration": 8,
    "start_time": "2025-04-20T00:36:40.723Z"
   },
   {
    "duration": 4,
    "start_time": "2025-04-20T00:36:40.733Z"
   },
   {
    "duration": 11,
    "start_time": "2025-04-20T00:36:40.739Z"
   },
   {
    "duration": 9,
    "start_time": "2025-04-20T00:36:40.753Z"
   },
   {
    "duration": 7,
    "start_time": "2025-04-20T00:36:40.766Z"
   },
   {
    "duration": 51,
    "start_time": "2025-04-20T00:36:40.775Z"
   },
   {
    "duration": 10,
    "start_time": "2025-04-20T00:36:40.828Z"
   },
   {
    "duration": 24,
    "start_time": "2025-04-20T00:36:40.839Z"
   },
   {
    "duration": 5,
    "start_time": "2025-04-20T00:36:40.865Z"
   },
   {
    "duration": 12,
    "start_time": "2025-04-20T00:36:40.872Z"
   },
   {
    "duration": 41,
    "start_time": "2025-04-20T00:36:40.885Z"
   },
   {
    "duration": 4,
    "start_time": "2025-04-20T00:36:40.928Z"
   },
   {
    "duration": 3,
    "start_time": "2025-04-20T00:36:40.935Z"
   },
   {
    "duration": 28,
    "start_time": "2025-04-20T00:36:40.940Z"
   },
   {
    "duration": 285,
    "start_time": "2025-04-20T00:36:40.972Z"
   },
   {
    "duration": 44246,
    "start_time": "2025-04-20T00:36:41.259Z"
   },
   {
    "duration": 4,
    "start_time": "2025-04-20T00:37:25.507Z"
   },
   {
    "duration": 4,
    "start_time": "2025-04-20T00:37:25.527Z"
   },
   {
    "duration": 16,
    "start_time": "2025-04-20T00:37:25.533Z"
   },
   {
    "duration": 74,
    "start_time": "2025-04-20T00:37:25.550Z"
   },
   {
    "duration": 8,
    "start_time": "2025-04-20T00:37:25.626Z"
   },
   {
    "duration": 88,
    "start_time": "2025-04-20T00:37:25.639Z"
   },
   {
    "duration": 15,
    "start_time": "2025-04-20T00:37:25.728Z"
   },
   {
    "duration": 173,
    "start_time": "2025-04-20T00:37:25.745Z"
   },
   {
    "duration": 11,
    "start_time": "2025-04-20T00:37:25.920Z"
   },
   {
    "duration": 141,
    "start_time": "2025-04-20T00:37:25.933Z"
   },
   {
    "duration": 504613,
    "start_time": "2025-04-20T00:37:26.075Z"
   },
   {
    "duration": 39529,
    "start_time": "2025-04-20T00:45:50.691Z"
   },
   {
    "duration": 272,
    "start_time": "2025-04-20T00:46:30.231Z"
   },
   {
    "duration": 125,
    "start_time": "2025-04-20T00:46:30.506Z"
   },
   {
    "duration": 281,
    "start_time": "2025-04-20T00:46:50.982Z"
   },
   {
    "duration": 39762,
    "start_time": "2025-04-20T00:49:18.984Z"
   },
   {
    "duration": 39730,
    "start_time": "2025-04-20T00:50:04.338Z"
   }
  ],
  "kernelspec": {
   "display_name": "Python 3 (ipykernel)",
   "language": "python",
   "name": "python3"
  },
  "language_info": {
   "codemirror_mode": {
    "name": "ipython",
    "version": 3
   },
   "file_extension": ".py",
   "mimetype": "text/x-python",
   "name": "python",
   "nbconvert_exporter": "python",
   "pygments_lexer": "ipython3",
   "version": "3.9.19"
  },
  "toc": {
   "base_numbering": 1,
   "nav_menu": {},
   "number_sections": true,
   "sideBar": true,
   "skip_h1_title": true,
   "title_cell": "Table of Contents",
   "title_sidebar": "Contents",
   "toc_cell": false,
   "toc_position": {
    "height": "calc(100% - 180px)",
    "left": "10px",
    "top": "150px",
    "width": "211.6px"
   },
   "toc_section_display": true,
   "toc_window_display": true
  }
 },
 "nbformat": 4,
 "nbformat_minor": 2
}
