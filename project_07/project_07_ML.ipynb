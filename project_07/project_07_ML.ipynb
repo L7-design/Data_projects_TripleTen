{
 "cells": [
  {
   "cell_type": "markdown",
   "metadata": {},
   "source": [
    "# Project Title: Model of User Behavior For Megaline "
   ]
  },
  {
   "cell_type": "markdown",
   "metadata": {},
   "source": [
    "# Introduction: \n",
    "Mobile carrier Megaline has become aware that many subscribers remain on a legacy plan. Therefore, Megaline wants to develop a model that analyzes subscriber's behaviors to encourage subscribers to upgrade to a newer plan: Smart or Ultra. The data examined in this project will be based on data from subscribers who have already switched to one of the new plans offered by Megaline. The aim of this classification task will be to develop a model that will choose the right plan for the subscriber. \n",
    "\n",
    "The model will need to have an accuracy threshold of 0.75. The models that will be tested will be decision tree classifcation, randrom forest classification, and logistic regression models for this goal threshold of 0.75. In order to ensure that the appropriate model is choosen the data will be split into a training set, validation set and a test set to ensure the same sets are used throughout the project. Furthermore, the hyperparameters will be tweaked to ensure the most effective model is selected. Finally, a sanity check will be performed to ensure that the chosen model performs better than random chance. \n",
    "\n"
   ]
  },
  {
   "cell_type": "markdown",
   "metadata": {},
   "source": [
    "# Examining General Information of Data file:"
   ]
  },
  {
   "cell_type": "code",
   "execution_count": 1,
   "metadata": {
    "trusted": true
   },
   "outputs": [],
   "source": [
    "#Importing all libraries \n",
    "import pandas as pd \n",
    "\n",
    "from sklearn.tree import DecisionTreeClassifier\n",
    "from sklearn.ensemble import RandomForestClassifier \n",
    "from sklearn.linear_model import LogisticRegression \n",
    "from sklearn.model_selection import train_test_split \n",
    "from sklearn.metrics import accuracy_score\n",
    "\n",
    "from joblib import dump "
   ]
  },
  {
   "cell_type": "code",
   "execution_count": 2,
   "metadata": {
    "trusted": true
   },
   "outputs": [],
   "source": [
    "# Load Dataset \n",
    "df = pd.read_csv('/datasets/users_behavior.csv')"
   ]
  },
  {
   "cell_type": "code",
   "execution_count": 3,
   "metadata": {
    "trusted": true
   },
   "outputs": [
    {
     "name": "stdout",
     "output_type": "stream",
     "text": [
      "<class 'pandas.core.frame.DataFrame'>\n",
      "RangeIndex: 3214 entries, 0 to 3213\n",
      "Data columns (total 5 columns):\n",
      " #   Column    Non-Null Count  Dtype  \n",
      "---  ------    --------------  -----  \n",
      " 0   calls     3214 non-null   float64\n",
      " 1   minutes   3214 non-null   float64\n",
      " 2   messages  3214 non-null   float64\n",
      " 3   mb_used   3214 non-null   float64\n",
      " 4   is_ultra  3214 non-null   int64  \n",
      "dtypes: float64(4), int64(1)\n",
      "memory usage: 125.7 KB\n"
     ]
    }
   ],
   "source": [
    "#Basic exploration of the dataset \n",
    "df.info()#looking at general contents of table "
   ]
  },
  {
   "cell_type": "markdown",
   "metadata": {},
   "source": [
    "Description of the data based on documentation: \n",
    "calls: number of calls \n",
    "minutes: total call duration in minutes \n",
    "messages: number of text messages \n",
    "mb_used:internet traffic used in mb \n",
    "is_ultra: plan for the current month (ultra-1, smart-0) "
   ]
  },
  {
   "cell_type": "code",
   "execution_count": 4,
   "metadata": {
    "trusted": true
   },
   "outputs": [
    {
     "data": {
      "text/plain": [
       "calls       0\n",
       "minutes     0\n",
       "messages    0\n",
       "mb_used     0\n",
       "is_ultra    0\n",
       "dtype: int64"
      ]
     },
     "execution_count": 4,
     "metadata": {},
     "output_type": "execute_result"
    }
   ],
   "source": [
    "df.isnull().sum()"
   ]
  },
  {
   "cell_type": "code",
   "execution_count": 5,
   "metadata": {
    "trusted": true
   },
   "outputs": [
    {
     "data": {
      "text/plain": [
       "0"
      ]
     },
     "execution_count": 5,
     "metadata": {},
     "output_type": "execute_result"
    }
   ],
   "source": [
    "df.duplicated().sum()"
   ]
  },
  {
   "cell_type": "code",
   "execution_count": 6,
   "metadata": {
    "trusted": true
   },
   "outputs": [
    {
     "data": {
      "text/html": [
       "<div>\n",
       "<style scoped>\n",
       "    .dataframe tbody tr th:only-of-type {\n",
       "        vertical-align: middle;\n",
       "    }\n",
       "\n",
       "    .dataframe tbody tr th {\n",
       "        vertical-align: top;\n",
       "    }\n",
       "\n",
       "    .dataframe thead th {\n",
       "        text-align: right;\n",
       "    }\n",
       "</style>\n",
       "<table border=\"1\" class=\"dataframe\">\n",
       "  <thead>\n",
       "    <tr style=\"text-align: right;\">\n",
       "      <th></th>\n",
       "      <th>calls</th>\n",
       "      <th>minutes</th>\n",
       "      <th>messages</th>\n",
       "      <th>mb_used</th>\n",
       "      <th>is_ultra</th>\n",
       "    </tr>\n",
       "  </thead>\n",
       "  <tbody>\n",
       "    <tr>\n",
       "      <th>count</th>\n",
       "      <td>3214.000000</td>\n",
       "      <td>3214.000000</td>\n",
       "      <td>3214.000000</td>\n",
       "      <td>3214.000000</td>\n",
       "      <td>3214.000000</td>\n",
       "    </tr>\n",
       "    <tr>\n",
       "      <th>mean</th>\n",
       "      <td>63.038892</td>\n",
       "      <td>438.208787</td>\n",
       "      <td>38.281269</td>\n",
       "      <td>17207.673836</td>\n",
       "      <td>0.306472</td>\n",
       "    </tr>\n",
       "    <tr>\n",
       "      <th>std</th>\n",
       "      <td>33.236368</td>\n",
       "      <td>234.569872</td>\n",
       "      <td>36.148326</td>\n",
       "      <td>7570.968246</td>\n",
       "      <td>0.461100</td>\n",
       "    </tr>\n",
       "    <tr>\n",
       "      <th>min</th>\n",
       "      <td>0.000000</td>\n",
       "      <td>0.000000</td>\n",
       "      <td>0.000000</td>\n",
       "      <td>0.000000</td>\n",
       "      <td>0.000000</td>\n",
       "    </tr>\n",
       "    <tr>\n",
       "      <th>25%</th>\n",
       "      <td>40.000000</td>\n",
       "      <td>274.575000</td>\n",
       "      <td>9.000000</td>\n",
       "      <td>12491.902500</td>\n",
       "      <td>0.000000</td>\n",
       "    </tr>\n",
       "    <tr>\n",
       "      <th>50%</th>\n",
       "      <td>62.000000</td>\n",
       "      <td>430.600000</td>\n",
       "      <td>30.000000</td>\n",
       "      <td>16943.235000</td>\n",
       "      <td>0.000000</td>\n",
       "    </tr>\n",
       "    <tr>\n",
       "      <th>75%</th>\n",
       "      <td>82.000000</td>\n",
       "      <td>571.927500</td>\n",
       "      <td>57.000000</td>\n",
       "      <td>21424.700000</td>\n",
       "      <td>1.000000</td>\n",
       "    </tr>\n",
       "    <tr>\n",
       "      <th>max</th>\n",
       "      <td>244.000000</td>\n",
       "      <td>1632.060000</td>\n",
       "      <td>224.000000</td>\n",
       "      <td>49745.730000</td>\n",
       "      <td>1.000000</td>\n",
       "    </tr>\n",
       "  </tbody>\n",
       "</table>\n",
       "</div>"
      ],
      "text/plain": [
       "             calls      minutes     messages       mb_used     is_ultra\n",
       "count  3214.000000  3214.000000  3214.000000   3214.000000  3214.000000\n",
       "mean     63.038892   438.208787    38.281269  17207.673836     0.306472\n",
       "std      33.236368   234.569872    36.148326   7570.968246     0.461100\n",
       "min       0.000000     0.000000     0.000000      0.000000     0.000000\n",
       "25%      40.000000   274.575000     9.000000  12491.902500     0.000000\n",
       "50%      62.000000   430.600000    30.000000  16943.235000     0.000000\n",
       "75%      82.000000   571.927500    57.000000  21424.700000     1.000000\n",
       "max     244.000000  1632.060000   224.000000  49745.730000     1.000000"
      ]
     },
     "execution_count": 6,
     "metadata": {},
     "output_type": "execute_result"
    }
   ],
   "source": [
    "df.describe()# Closer look at the statistical information shown by the data "
   ]
  },
  {
   "cell_type": "markdown",
   "metadata": {},
   "source": [
    "No missing values or duplicates in the dataset and the columns are all in the correct data types. \n",
    "Zero values in the features need to remain as indicates subsciption plan. "
   ]
  },
  {
   "cell_type": "code",
   "execution_count": 7,
   "metadata": {
    "trusted": true
   },
   "outputs": [
    {
     "name": "stdout",
     "output_type": "stream",
     "text": [
      "Number of Ultra plan users: 985\n",
      "Percentage of users with Ultra plan: 0.30647168637212197\n"
     ]
    }
   ],
   "source": [
    "# Determining number of users for each plan \n",
    "ultra_plan_users = df.is_ultra.sum()\n",
    "print(\"Number of Ultra plan users:\", ultra_plan_users)\n",
    "print(\"Percentage of users with Ultra plan:\", ultra_plan_users/len(df))\n"
   ]
  },
  {
   "cell_type": "markdown",
   "metadata": {},
   "source": [
    "Out of 3214 total users only approximately 31 percent are Ultra plan users. While nearly 69 percent are Smart plan users. That is almost 2 times as many Smart plan users as opposed to Ultra plan users. "
   ]
  },
  {
   "cell_type": "markdown",
   "metadata": {},
   "source": [
    "# Model Testing "
   ]
  },
  {
   "cell_type": "code",
   "execution_count": 8,
   "metadata": {
    "trusted": true
   },
   "outputs": [],
   "source": [
    "#Create series \n",
    "features= df.drop(['is_ultra'], axis=1)\n",
    "target = df['is_ultra']"
   ]
  },
  {
   "cell_type": "code",
   "execution_count": 9,
   "metadata": {
    "trusted": true
   },
   "outputs": [],
   "source": [
    "# Split source data into training, validation and test set: \n",
    "x_train,features_test,y_train,target_test=train_test_split(features,target, test_size =0.2, random_state =123)\n",
    "features_train, features_valid, target_train,target_valid = train_test_split(x_train,y_train,test_size =0.25,random_state = 123)"
   ]
  },
  {
   "cell_type": "markdown",
   "metadata": {},
   "source": [
    "Description: 60% of the data needs to be used for training and 20% for the validation and tests sets each. First the features and target dataset will be split into a training set at an 80/20 ratio. Then it will be further be divided into an ultimate training set and validation set. In this particular scenario the validation set needs to come from 25% of the training set to provide a 60/20/20 ratio. "
   ]
  },
  {
   "cell_type": "markdown",
   "metadata": {},
   "source": [
    "# Decision tree "
   ]
  },
  {
   "cell_type": "markdown",
   "metadata": {},
   "source": [
    "Description: Decision trees provide an opporutnity to utilize a versatile model that will predict a likely outcome with less data preparation steps compared to other models. However, it may result in overfitting. The hyperparameter that can be tweaked is the maximum tree depth. Therefore a quick loop can be written to try out various tree depths to produce a model with the highest accuracy. "
   ]
  },
  {
   "cell_type": "code",
   "execution_count": 10,
   "metadata": {
    "trusted": true
   },
   "outputs": [
    {
     "name": "stdout",
     "output_type": "stream",
     "text": [
      "Best accuracy:0.7947122861586314 reached using max depth 9.\n"
     ]
    }
   ],
   "source": [
    "#devise varaibles \n",
    "top_depth = 0 \n",
    "top_score = 0 \n",
    "model_tree = None \n",
    "\n",
    "\n",
    "#creating loop \n",
    "for depth in range(1,11):\n",
    "    model = DecisionTreeClassifier(max_depth=depth,random_state=123)\n",
    "    model.fit(features_train,target_train) #Fit model based on training data \n",
    "    score=model.score(features_valid,target_valid) #Determine accuracy \n",
    "\n",
    "#determine best performance based on hyperparameters and accuracy \n",
    "    if score> top_score:\n",
    "        top_score = score \n",
    "        top_depth = depth \n",
    "        model_tree = model \n",
    "\n",
    "#display results \n",
    "print(f'Best accuracy:{top_score} reached using max depth {top_depth}.')\n"
   ]
  },
  {
   "cell_type": "markdown",
   "metadata": {},
   "source": [
    "Conclusion: The decision tree achieves an accuracy of 79% when using the validation set. This is above our threshold of 75%. "
   ]
  },
  {
   "cell_type": "markdown",
   "metadata": {},
   "source": [
    "# Random forest "
   ]
  },
  {
   "cell_type": "markdown",
   "metadata": {},
   "source": [
    "Description: Random forest decreases the likelhood of overfitting by devising multiple decision trees using various subsets of data and features. However, it sometimes can be difficult to use for interpretation of specific outcomes. The hyperparameters that can be tweaked are the number of estimators and maximum tree depth. Therefore, it will be necessary to devise a loop to determine what the best model will be based on these hyperparamters. "
   ]
  },
  {
   "cell_type": "code",
   "execution_count": 11,
   "metadata": {
    "trusted": true
   },
   "outputs": [
    {
     "name": "stdout",
     "output_type": "stream",
     "text": [
      "Best accuracy:0.7978227060653188 achieved using 40 trees with max_depth 6.\n"
     ]
    }
   ],
   "source": [
    "#create variables \n",
    "top_score = 0 \n",
    "best_est = 0 \n",
    "top_depth = 0 \n",
    "model_forest = None \n",
    "\n",
    "#creating loop \n",
    "for est in range (10,81,10):\n",
    "    for depth in range (1, 11): \n",
    "        model = RandomForestClassifier(\n",
    "            max_features = 1.0, \n",
    "            n_estimators=est, max_depth =depth, random_state=123)\n",
    "        model.fit(features_train, target_train)\n",
    "        score = model.score(features_valid,target_valid)\n",
    "        \n",
    "#determine best performance based on hyperparameters and accuracy \n",
    "        if score > top_score:\n",
    "            top_score = score \n",
    "            best_est = est\n",
    "            best_depth = depth \n",
    "            model_forest = model \n",
    "\n",
    "#display results\n",
    "print(f\"Best accuracy:{top_score} achieved using {best_est} trees with max_depth {best_depth}.\")"
   ]
  },
  {
   "cell_type": "markdown",
   "metadata": {},
   "source": [
    "Conclusion: Accuracy for the Random forest model is only slightly better than the decision tree. It is also above the threshold of 75%. "
   ]
  },
  {
   "cell_type": "markdown",
   "metadata": {},
   "source": [
    "# Logistic regression "
   ]
  },
  {
   "cell_type": "markdown",
   "metadata": {},
   "source": [
    "Description: Logistic regression models offer easily to interpret results and is fairly quick to analyze data. However, if a large data set is used overfitting can occur. There are no hyperparameters that can be tweaked using the validation set. The data could be replit from the original dataset into a 75/25 ration, however I already have a 80/20 training/testing split, therefore there is no reason to split it differently.  "
   ]
  },
  {
   "cell_type": "code",
   "execution_count": 12,
   "metadata": {
    "trusted": true
   },
   "outputs": [
    {
     "name": "stdout",
     "output_type": "stream",
     "text": [
      "Training accuracy:0.7142116182572614\n",
      "Validation accuracy: 0.702954898911353\n"
     ]
    }
   ],
   "source": [
    "model=LogisticRegression(solver='liblinear',random_state=123)\n",
    "model.fit(features_train, target_train)\n",
    "\n",
    "score_train = model.score(features_train,target_train)\n",
    "print(f'Training accuracy:{score_train}')\n",
    "\n",
    "score_valid = model.score(features_valid, target_valid)\n",
    "print(f'Validation accuracy: {score_valid}')"
   ]
  },
  {
   "cell_type": "markdown",
   "metadata": {},
   "source": [
    "Conclusion: The accuracy of the Logistic regression model is below the threshold of 75%. This could indicate some overfitting is occuring. This model has the lowest accuracy compared to the other models. "
   ]
  },
  {
   "cell_type": "markdown",
   "metadata": {},
   "source": [
    "# Checking Model Quality Using Test Set "
   ]
  },
  {
   "cell_type": "code",
   "execution_count": 13,
   "metadata": {
    "trusted": true
   },
   "outputs": [
    {
     "name": "stdout",
     "output_type": "stream",
     "text": [
      "The accuracy of the test is: 0.8118195956454122\n"
     ]
    }
   ],
   "source": [
    "model=RandomForestClassifier(random_state=123, max_depth=6)\n",
    "model.fit(features_train,target_train)\n",
    "predictions_test = model.predict(features_test)\n",
    "result=accuracy_score(target_test,predictions_test)\n",
    "print('The accuracy of the test is:',result)"
   ]
  },
  {
   "cell_type": "markdown",
   "metadata": {},
   "source": [
    "Conclusion: The tested accuracy is approximately 81% and this exceeds the validation set accuracy. The random forest model is slower to train than the other models. If this was a larger dataset that may become an issue. However, for this current smaller dataset it worked just fine. \n",
    "\n",
    "Conducting a quick sanity check verfies that the model performs better than chance. The reason this make sense is that the two plans are split approximately 70/30 (Smart/Ultra). If one were to guess Smart for each observation alone it would result in an approximate 70% accuracy rate. Our model performs above 70% accuracy proving this is not due to random chance. "
   ]
  },
  {
   "cell_type": "markdown",
   "metadata": {},
   "source": [
    "# Conclusion"
   ]
  },
  {
   "cell_type": "markdown",
   "metadata": {},
   "source": [
    "The analysis of the data provided yielded that the random forest classifier model is the best model to choose the right plan for the subscriber. Various models were examined including a decision tree classifer and a logistic regression classfier. Data was split into 60/20/20(training/validation/testing). The random forest classifer model performed the best in terms of accuracty and meeting the acceptable threshold of 75%. When accuracy was tested it achieved approximately 81%. Although, random forest classifer models are slowest to train, this is a small dataset therefore, it is still sufficient to choose this model for selecting the right plan for subscribers. "
   ]
  },
  {
   "cell_type": "markdown",
   "metadata": {},
   "source": [
    " \n"
   ]
  }
 ],
 "metadata": {
  "ExecuteTimeLog": [
   {
    "duration": 1070,
    "start_time": "2025-03-31T18:00:35.785Z"
   },
   {
    "duration": 0,
    "start_time": "2025-03-31T18:00:36.857Z"
   },
   {
    "duration": 14,
    "start_time": "2025-03-31T18:00:37.238Z"
   },
   {
    "duration": 17,
    "start_time": "2025-03-31T18:00:46.204Z"
   },
   {
    "duration": 10,
    "start_time": "2025-03-31T18:00:47.499Z"
   },
   {
    "duration": 20,
    "start_time": "2025-03-31T18:01:15.101Z"
   },
   {
    "duration": 996,
    "start_time": "2025-03-31T18:44:26.535Z"
   },
   {
    "duration": 18,
    "start_time": "2025-03-31T18:44:33.597Z"
   },
   {
    "duration": 9,
    "start_time": "2025-03-31T18:44:34.951Z"
   },
   {
    "duration": 19,
    "start_time": "2025-03-31T18:44:47.251Z"
   },
   {
    "duration": 3,
    "start_time": "2025-03-31T18:44:49.498Z"
   },
   {
    "duration": 21,
    "start_time": "2025-03-31T18:46:03.847Z"
   },
   {
    "duration": 42,
    "start_time": "2025-03-31T18:46:43.864Z"
   },
   {
    "duration": 15,
    "start_time": "2025-03-31T18:47:08.377Z"
   },
   {
    "duration": 9,
    "start_time": "2025-03-31T18:48:04.732Z"
   },
   {
    "duration": 9,
    "start_time": "2025-03-31T18:48:08.454Z"
   },
   {
    "duration": 8,
    "start_time": "2025-03-31T18:48:10.864Z"
   },
   {
    "duration": 17,
    "start_time": "2025-03-31T18:48:11.893Z"
   },
   {
    "duration": 4,
    "start_time": "2025-03-31T18:48:12.791Z"
   },
   {
    "duration": 5,
    "start_time": "2025-03-31T18:52:59.109Z"
   },
   {
    "duration": 169,
    "start_time": "2025-03-31T20:18:13.566Z"
   },
   {
    "duration": 801,
    "start_time": "2025-03-31T20:18:36.010Z"
   },
   {
    "duration": 16,
    "start_time": "2025-03-31T20:18:36.813Z"
   },
   {
    "duration": 10,
    "start_time": "2025-03-31T20:18:36.831Z"
   },
   {
    "duration": 7,
    "start_time": "2025-03-31T20:18:36.843Z"
   },
   {
    "duration": 29,
    "start_time": "2025-03-31T20:18:36.853Z"
   },
   {
    "duration": 3,
    "start_time": "2025-03-31T20:18:36.884Z"
   },
   {
    "duration": 3,
    "start_time": "2025-03-31T20:18:36.888Z"
   },
   {
    "duration": 3,
    "start_time": "2025-03-31T20:18:36.893Z"
   },
   {
    "duration": 219,
    "start_time": "2025-03-31T20:39:24.881Z"
   },
   {
    "duration": 3,
    "start_time": "2025-03-31T20:39:31.865Z"
   },
   {
    "duration": 15,
    "start_time": "2025-03-31T20:39:35.723Z"
   },
   {
    "duration": 816,
    "start_time": "2025-03-31T20:39:44.492Z"
   },
   {
    "duration": 8,
    "start_time": "2025-03-31T20:39:45.311Z"
   },
   {
    "duration": 8,
    "start_time": "2025-03-31T20:39:45.322Z"
   },
   {
    "duration": 7,
    "start_time": "2025-03-31T20:39:45.334Z"
   },
   {
    "duration": 34,
    "start_time": "2025-03-31T20:39:45.344Z"
   },
   {
    "duration": 3,
    "start_time": "2025-03-31T20:39:45.380Z"
   },
   {
    "duration": 3,
    "start_time": "2025-03-31T20:39:45.385Z"
   },
   {
    "duration": 236,
    "start_time": "2025-03-31T20:39:45.390Z"
   },
   {
    "duration": 15,
    "start_time": "2025-03-31T20:39:54.489Z"
   },
   {
    "duration": 3,
    "start_time": "2025-03-31T20:40:01.588Z"
   },
   {
    "duration": 15,
    "start_time": "2025-03-31T20:40:02.155Z"
   },
   {
    "duration": 15,
    "start_time": "2025-03-31T20:40:14.395Z"
   },
   {
    "duration": 821,
    "start_time": "2025-04-01T01:50:57.602Z"
   },
   {
    "duration": 11,
    "start_time": "2025-04-01T01:50:58.425Z"
   },
   {
    "duration": 9,
    "start_time": "2025-04-01T01:50:58.438Z"
   },
   {
    "duration": 7,
    "start_time": "2025-04-01T01:50:58.449Z"
   },
   {
    "duration": 34,
    "start_time": "2025-04-01T01:50:58.458Z"
   },
   {
    "duration": 3,
    "start_time": "2025-04-01T01:50:58.494Z"
   },
   {
    "duration": 3,
    "start_time": "2025-04-01T01:50:58.499Z"
   },
   {
    "duration": 5,
    "start_time": "2025-04-01T01:50:58.503Z"
   },
   {
    "duration": 3,
    "start_time": "2025-04-01T01:51:11.741Z"
   },
   {
    "duration": 5,
    "start_time": "2025-04-01T01:51:13.262Z"
   },
   {
    "duration": 59,
    "start_time": "2025-04-01T02:08:50.695Z"
   },
   {
    "duration": 9872,
    "start_time": "2025-04-01T02:17:46.821Z"
   },
   {
    "duration": 852,
    "start_time": "2025-04-01T02:18:06.609Z"
   },
   {
    "duration": 9,
    "start_time": "2025-04-01T02:18:07.463Z"
   },
   {
    "duration": 19,
    "start_time": "2025-04-01T02:18:07.474Z"
   },
   {
    "duration": 8,
    "start_time": "2025-04-01T02:18:07.494Z"
   },
   {
    "duration": 24,
    "start_time": "2025-04-01T02:18:07.504Z"
   },
   {
    "duration": 3,
    "start_time": "2025-04-01T02:18:07.529Z"
   },
   {
    "duration": 4,
    "start_time": "2025-04-01T02:18:07.534Z"
   },
   {
    "duration": 5,
    "start_time": "2025-04-01T02:18:07.539Z"
   },
   {
    "duration": 100,
    "start_time": "2025-04-01T02:18:07.546Z"
   },
   {
    "duration": 10012,
    "start_time": "2025-04-01T02:18:07.647Z"
   },
   {
    "duration": 9881,
    "start_time": "2025-04-01T02:19:44.277Z"
   },
   {
    "duration": 9738,
    "start_time": "2025-04-01T02:21:27.968Z"
   },
   {
    "duration": 5,
    "start_time": "2025-04-01T02:26:19.714Z"
   },
   {
    "duration": 842,
    "start_time": "2025-04-01T21:43:17.838Z"
   },
   {
    "duration": 17,
    "start_time": "2025-04-01T21:43:18.683Z"
   },
   {
    "duration": 8,
    "start_time": "2025-04-01T21:43:18.702Z"
   },
   {
    "duration": 7,
    "start_time": "2025-04-01T21:43:18.712Z"
   },
   {
    "duration": 5,
    "start_time": "2025-04-01T21:43:18.721Z"
   },
   {
    "duration": 31,
    "start_time": "2025-04-01T21:43:18.728Z"
   },
   {
    "duration": 3,
    "start_time": "2025-04-01T21:43:18.760Z"
   },
   {
    "duration": 3,
    "start_time": "2025-04-01T21:43:18.765Z"
   },
   {
    "duration": 5,
    "start_time": "2025-04-01T21:43:18.770Z"
   },
   {
    "duration": 78,
    "start_time": "2025-04-01T21:43:18.777Z"
   },
   {
    "duration": 10365,
    "start_time": "2025-04-01T21:43:18.856Z"
   },
   {
    "duration": 6,
    "start_time": "2025-04-01T21:43:29.222Z"
   },
   {
    "duration": 5,
    "start_time": "2025-04-01T21:43:36.460Z"
   },
   {
    "duration": 11,
    "start_time": "2025-04-01T21:43:42.323Z"
   },
   {
    "duration": 4,
    "start_time": "2025-04-01T21:47:34.203Z"
   },
   {
    "duration": 287,
    "start_time": "2025-04-01T21:47:48.062Z"
   },
   {
    "duration": 26,
    "start_time": "2025-04-01T21:48:16.873Z"
   },
   {
    "duration": 15,
    "start_time": "2025-04-01T21:48:33.716Z"
   },
   {
    "duration": 55,
    "start_time": "2025-04-01T21:50:56.455Z"
   },
   {
    "duration": 157,
    "start_time": "2025-04-02T00:29:52.309Z"
   },
   {
    "duration": 888,
    "start_time": "2025-04-02T00:30:03.874Z"
   },
   {
    "duration": 18,
    "start_time": "2025-04-02T00:30:04.765Z"
   },
   {
    "duration": 11,
    "start_time": "2025-04-02T00:30:04.785Z"
   },
   {
    "duration": 9,
    "start_time": "2025-04-02T00:30:04.798Z"
   },
   {
    "duration": 7,
    "start_time": "2025-04-02T00:30:04.810Z"
   },
   {
    "duration": 20,
    "start_time": "2025-04-02T00:30:04.819Z"
   },
   {
    "duration": 5,
    "start_time": "2025-04-02T00:30:04.841Z"
   },
   {
    "duration": 3,
    "start_time": "2025-04-02T00:30:04.848Z"
   },
   {
    "duration": 6,
    "start_time": "2025-04-02T00:30:04.852Z"
   },
   {
    "duration": 102,
    "start_time": "2025-04-02T00:30:04.859Z"
   },
   {
    "duration": 9704,
    "start_time": "2025-04-02T00:30:04.963Z"
   },
   {
    "duration": 14,
    "start_time": "2025-04-02T00:30:14.669Z"
   },
   {
    "duration": 231,
    "start_time": "2025-04-02T00:30:14.684Z"
   },
   {
    "duration": 3,
    "start_time": "2025-04-02T00:43:42.627Z"
   },
   {
    "duration": 4,
    "start_time": "2025-04-02T00:43:58.100Z"
   },
   {
    "duration": 7,
    "start_time": "2025-04-02T00:44:16.708Z"
   },
   {
    "duration": 4,
    "start_time": "2025-04-02T00:45:06.321Z"
   },
   {
    "duration": 5,
    "start_time": "2025-04-02T00:45:17.341Z"
   },
   {
    "duration": 4,
    "start_time": "2025-04-02T00:45:34.177Z"
   },
   {
    "duration": 5,
    "start_time": "2025-04-02T00:45:40.950Z"
   },
   {
    "duration": 6,
    "start_time": "2025-04-02T00:48:59.975Z"
   },
   {
    "duration": 4,
    "start_time": "2025-04-02T00:49:09.821Z"
   },
   {
    "duration": 223,
    "start_time": "2025-04-02T00:49:25.882Z"
   },
   {
    "duration": 874,
    "start_time": "2025-04-02T17:40:38.291Z"
   },
   {
    "duration": 16,
    "start_time": "2025-04-02T17:40:39.167Z"
   },
   {
    "duration": 10,
    "start_time": "2025-04-02T17:40:39.186Z"
   },
   {
    "duration": 9,
    "start_time": "2025-04-02T17:40:39.198Z"
   },
   {
    "duration": 5,
    "start_time": "2025-04-02T17:40:39.209Z"
   },
   {
    "duration": 19,
    "start_time": "2025-04-02T17:40:39.215Z"
   },
   {
    "duration": 4,
    "start_time": "2025-04-02T17:40:39.349Z"
   },
   {
    "duration": 3,
    "start_time": "2025-04-02T17:40:39.948Z"
   },
   {
    "duration": 8,
    "start_time": "2025-04-02T17:40:40.279Z"
   },
   {
    "duration": 66,
    "start_time": "2025-04-02T17:40:41.627Z"
   }
  ],
  "kernelspec": {
   "display_name": "Python 3 (ipykernel)",
   "language": "python",
   "name": "python3"
  },
  "language_info": {
   "codemirror_mode": {
    "name": "ipython",
    "version": 3
   },
   "file_extension": ".py",
   "mimetype": "text/x-python",
   "name": "python",
   "nbconvert_exporter": "python",
   "pygments_lexer": "ipython3",
   "version": "3.9.19"
  },
  "toc": {
   "base_numbering": 1,
   "nav_menu": {},
   "number_sections": true,
   "sideBar": true,
   "skip_h1_title": true,
   "title_cell": "Table of Contents",
   "title_sidebar": "Contents",
   "toc_cell": false,
   "toc_position": {},
   "toc_section_display": true,
   "toc_window_display": false
  }
 },
 "nbformat": 4,
 "nbformat_minor": 2
}
