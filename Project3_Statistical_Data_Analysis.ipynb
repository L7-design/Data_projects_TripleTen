{
 "cells": [
  {
   "cell_type": "markdown",
   "metadata": {},
   "source": [
    "<div style=\"border:solid green 2px; padding: 20px\">\n",
    "    \n",
    "<b>Hello, Lauren!</b> We're glad to see you in code-reviewer territory. You've done a great job on the project, but let's get to know each other and make it even better! We have our own atmosphere here and a few rules:\n",
    "\n",
    "\n",
    "1. I work as a code reviewer, and my main goal is not to point out your mistakes, but to share my experience and help you become a data analyst.\n",
    "2. We speak on a first-come-first-served basis.\n",
    "3. if you want to write or ask a question, don't be shy. Just choose your color for your comment.  \n",
    "4. this is a training project, you don't have to be afraid of making a mistake.  \n",
    "5. You have an unlimited number of attempts to pass the project.  \n",
    "6. Let's Go!\n",
    "\n",
    "\n",
    "---\n",
    "I'll be color-coding comments, please don't delete them:\n",
    "\n",
    "<div class=\"alert alert-block alert-danger\">✍\n",
    "    \n",
    "\n",
    "__Reviewer's comment №1__\n",
    "\n",
    "Needs fixing. The block requires some corrections. Work can't be accepted with the red comments.\n",
    "</div>\n",
    "    \n",
    "---\n",
    "\n",
    "<div class=\"alert alert-block alert-warning\">📝\n",
    "    \n",
    "\n",
    "__Reviewer's comment №1__\n",
    "\n",
    "\n",
    "Remarks. Some recommendations.\n",
    "</div>\n",
    "\n",
    "---\n",
    "\n",
    "<div class=\"alert alert-block alert-success\">✔️\n",
    "    \n",
    "\n",
    "__Reviewer's comment №1__\n",
    "\n",
    "Success. Everything is done succesfully.\n",
    "</div>\n",
    "    \n",
    "---\n",
    "    \n",
    "I suggest that we work on the project in dialogue: if you change something in the project or respond to my comments, write about it. It will be easier for me to track changes if you highlight your comments:   \n",
    "    \n",
    "<div class=\"alert alert-info\"> <b>Student сomments:</b> Student answer..</div>\n",
    "    \n",
    "All this will help to make the recheck of your project faster. If you have any questions about my comments, let me know, we'll figure it out together :)   \n",
    "    \n",
    "---"
   ]
  },
  {
   "cell_type": "markdown",
   "metadata": {},
   "source": [
    "# Which one is a better plan?\n",
    "\n",
    "You work as an analyst for the telecom operator Megaline. The company offers its clients two prepaid plans, Surf and Ultimate. The commercial department wants to know which of the plans brings in more revenue in order to adjust the advertising budget.\n",
    "\n",
    "You are going to carry out a preliminary analysis of the plans based on a relatively small client selection. You'll have the data on 500 Megaline clients: who the clients are, where they're from, which plan they use, and the number of calls they made and text messages they sent in 2018. Your job is to analyze the clients' behavior and determine which prepaid plan brings in more revenue."
   ]
  },
  {
   "cell_type": "markdown",
   "metadata": {},
   "source": [
    "[We've provided you with some commentary to guide your thinking as you complete this project. However, make sure to remove all the bracketed comments before submitting your project.]\n",
    "\n",
    "[Before you dive into analyzing your data, explain for yourself the purpose of the project and actions you plan to take.]\n",
    "\n",
    "[Please bear in mind that studying, amending, and analyzing data is an iterative process. It is normal to return to previous steps and correct/expand them to allow for further steps.]"
   ]
  },
  {
   "cell_type": "markdown",
   "metadata": {},
   "source": [
    "## Initialization"
   ]
  },
  {
   "cell_type": "markdown",
   "metadata": {},
   "source": []
  },
  {
   "cell_type": "markdown",
   "metadata": {},
   "source": [
    "Introduction: The purpose of this project is to analyze the Surf and Ultimate prepaid plans for the company Megaline. The commerical deparment wants to determine which plan brings in more revenue, so they can properly modify their advertising budget. The data should provide insights into client's behavior in 2018. It will provide insight on the clients, what plan they use, the number of calls and text messages they sent in 2018. In examining this data I will take the following steps: \n",
    "1. Opening the data files and examining the preliminarly information from each file.  \n",
    "2.Preparing the data by converting it to appropriate data types where necessary, finding and eliminating errors in the data. \n",
    "3. Examining and analyzing the data that will best describe client's behavior including: \n",
    "a. Determining the minutes, texts, volume of data for users of each plan per month. \n",
    "b. Calculating the mean, variance, and standard deviation for each plan. \n",
    "c. Devising visualizations of the data that will describe the distributions of the data. \n",
    "4. Then I will test the following hypotheses to support the companies decision making process :\n",
    "a. Does the average revenue from users of Ultimate and Surf calling plans differ signficantly? \n",
    "b. Does the average revenue from users in the NY-NJ area differ signficantly from that of the users from other regions?  \n",
    "5. Provide an exaplanation on the following:  \n",
    "    i. Determination of the appropriate alpha value to use. \n",
    "    ii.Explanations will be provided for how the null and alternative hypotheses were determined. \n",
    "    iii. The criterion used to test the hypotheses and why this was the criteria applied. \n",
    "6. Provide a conclusion on what plan brings in more revenue. "
   ]
  },
  {
   "cell_type": "markdown",
   "metadata": {},
   "source": [
    "<div class=\"alert alert-block alert-success\">✔️\n",
    "    \n",
    "\n",
    "__Reviewer's comment №1__\n",
    "\n",
    "An excellent practice is to describe the goal and main steps in your own words (a skill that will help a lot on a final project). It would be good to add the progress and purpose of the study."
   ]
  },
  {
   "cell_type": "code",
   "execution_count": 1,
   "metadata": {
    "trusted": true
   },
   "outputs": [],
   "source": [
    "# Loading all the libraries\n",
    "import pandas as pd \n",
    "import numpy as np \n",
    "\n",
    "import matplotlib.pyplot as plt \n",
    "import seaborn as sns \n",
    "\n",
    "from scipy import stats \n",
    "\n"
   ]
  },
  {
   "cell_type": "markdown",
   "metadata": {},
   "source": [
    "## Load data"
   ]
  },
  {
   "cell_type": "markdown",
   "metadata": {},
   "source": []
  },
  {
   "cell_type": "code",
   "execution_count": 2,
   "metadata": {
    "trusted": true
   },
   "outputs": [],
   "source": [
    "# Load the data files into different DataFrames\n",
    "\n",
    "#calls datafile \n",
    "calls = pd.read_csv('/datasets/megaline_calls.csv')\n",
    "\n",
    "#internet datafile \n",
    "internet = pd.read_csv('/datasets/megaline_internet.csv')\n",
    "\n",
    "#messages datafile \n",
    "messages = pd.read_csv('/datasets/megaline_messages.csv')\n",
    "\n",
    "#plans datafile \n",
    "plans = pd.read_csv('/datasets/megaline_plans.csv')\n",
    "\n",
    "#users datafile \n",
    "users = pd.read_csv('/datasets/megaline_users.csv')"
   ]
  },
  {
   "cell_type": "markdown",
   "metadata": {},
   "source": [
    "Description: Each dataset has been loaded. Each dataset will need to be examined individually to find obvious issues. The issues will be taken care of during the data cleaning phase. \n",
    "\n"
   ]
  },
  {
   "cell_type": "markdown",
   "metadata": {},
   "source": [
    "## Prepare the data"
   ]
  },
  {
   "cell_type": "code",
   "execution_count": 3,
   "metadata": {
    "trusted": true
   },
   "outputs": [
    {
     "name": "stdout",
     "output_type": "stream",
     "text": [
      "<class 'pandas.core.frame.DataFrame'>\n",
      "RangeIndex: 137735 entries, 0 to 137734\n",
      "Data columns (total 4 columns):\n",
      " #   Column     Non-Null Count   Dtype  \n",
      "---  ------     --------------   -----  \n",
      " 0   id         137735 non-null  object \n",
      " 1   user_id    137735 non-null  int64  \n",
      " 2   call_date  137735 non-null  object \n",
      " 3   duration   137735 non-null  float64\n",
      "dtypes: float64(1), int64(1), object(2)\n",
      "memory usage: 4.2+ MB\n"
     ]
    },
    {
     "data": {
      "text/html": [
       "<div>\n",
       "<style scoped>\n",
       "    .dataframe tbody tr th:only-of-type {\n",
       "        vertical-align: middle;\n",
       "    }\n",
       "\n",
       "    .dataframe tbody tr th {\n",
       "        vertical-align: top;\n",
       "    }\n",
       "\n",
       "    .dataframe thead th {\n",
       "        text-align: right;\n",
       "    }\n",
       "</style>\n",
       "<table border=\"1\" class=\"dataframe\">\n",
       "  <thead>\n",
       "    <tr style=\"text-align: right;\">\n",
       "      <th></th>\n",
       "      <th>id</th>\n",
       "      <th>user_id</th>\n",
       "      <th>call_date</th>\n",
       "      <th>duration</th>\n",
       "    </tr>\n",
       "  </thead>\n",
       "  <tbody>\n",
       "    <tr>\n",
       "      <th>0</th>\n",
       "      <td>1000_93</td>\n",
       "      <td>1000</td>\n",
       "      <td>2018-12-27</td>\n",
       "      <td>8.52</td>\n",
       "    </tr>\n",
       "    <tr>\n",
       "      <th>1</th>\n",
       "      <td>1000_145</td>\n",
       "      <td>1000</td>\n",
       "      <td>2018-12-27</td>\n",
       "      <td>13.66</td>\n",
       "    </tr>\n",
       "    <tr>\n",
       "      <th>2</th>\n",
       "      <td>1000_247</td>\n",
       "      <td>1000</td>\n",
       "      <td>2018-12-27</td>\n",
       "      <td>14.48</td>\n",
       "    </tr>\n",
       "    <tr>\n",
       "      <th>3</th>\n",
       "      <td>1000_309</td>\n",
       "      <td>1000</td>\n",
       "      <td>2018-12-28</td>\n",
       "      <td>5.76</td>\n",
       "    </tr>\n",
       "    <tr>\n",
       "      <th>4</th>\n",
       "      <td>1000_380</td>\n",
       "      <td>1000</td>\n",
       "      <td>2018-12-30</td>\n",
       "      <td>4.22</td>\n",
       "    </tr>\n",
       "    <tr>\n",
       "      <th>...</th>\n",
       "      <td>...</td>\n",
       "      <td>...</td>\n",
       "      <td>...</td>\n",
       "      <td>...</td>\n",
       "    </tr>\n",
       "    <tr>\n",
       "      <th>137730</th>\n",
       "      <td>1499_199</td>\n",
       "      <td>1499</td>\n",
       "      <td>2018-11-21</td>\n",
       "      <td>8.72</td>\n",
       "    </tr>\n",
       "    <tr>\n",
       "      <th>137731</th>\n",
       "      <td>1499_200</td>\n",
       "      <td>1499</td>\n",
       "      <td>2018-10-20</td>\n",
       "      <td>10.89</td>\n",
       "    </tr>\n",
       "    <tr>\n",
       "      <th>137732</th>\n",
       "      <td>1499_201</td>\n",
       "      <td>1499</td>\n",
       "      <td>2018-09-21</td>\n",
       "      <td>8.12</td>\n",
       "    </tr>\n",
       "    <tr>\n",
       "      <th>137733</th>\n",
       "      <td>1499_202</td>\n",
       "      <td>1499</td>\n",
       "      <td>2018-10-10</td>\n",
       "      <td>0.37</td>\n",
       "    </tr>\n",
       "    <tr>\n",
       "      <th>137734</th>\n",
       "      <td>1499_203</td>\n",
       "      <td>1499</td>\n",
       "      <td>2018-12-29</td>\n",
       "      <td>13.86</td>\n",
       "    </tr>\n",
       "  </tbody>\n",
       "</table>\n",
       "<p>137735 rows × 4 columns</p>\n",
       "</div>"
      ],
      "text/plain": [
       "              id  user_id   call_date  duration\n",
       "0        1000_93     1000  2018-12-27      8.52\n",
       "1       1000_145     1000  2018-12-27     13.66\n",
       "2       1000_247     1000  2018-12-27     14.48\n",
       "3       1000_309     1000  2018-12-28      5.76\n",
       "4       1000_380     1000  2018-12-30      4.22\n",
       "...          ...      ...         ...       ...\n",
       "137730  1499_199     1499  2018-11-21      8.72\n",
       "137731  1499_200     1499  2018-10-20     10.89\n",
       "137732  1499_201     1499  2018-09-21      8.12\n",
       "137733  1499_202     1499  2018-10-10      0.37\n",
       "137734  1499_203     1499  2018-12-29     13.86\n",
       "\n",
       "[137735 rows x 4 columns]"
      ]
     },
     "metadata": {},
     "output_type": "display_data"
    },
    {
     "data": {
      "text/html": [
       "<div>\n",
       "<style scoped>\n",
       "    .dataframe tbody tr th:only-of-type {\n",
       "        vertical-align: middle;\n",
       "    }\n",
       "\n",
       "    .dataframe tbody tr th {\n",
       "        vertical-align: top;\n",
       "    }\n",
       "\n",
       "    .dataframe thead th {\n",
       "        text-align: right;\n",
       "    }\n",
       "</style>\n",
       "<table border=\"1\" class=\"dataframe\">\n",
       "  <thead>\n",
       "    <tr style=\"text-align: right;\">\n",
       "      <th></th>\n",
       "      <th>user_id</th>\n",
       "      <th>duration</th>\n",
       "    </tr>\n",
       "  </thead>\n",
       "  <tbody>\n",
       "    <tr>\n",
       "      <th>count</th>\n",
       "      <td>137735.000000</td>\n",
       "      <td>137735.000000</td>\n",
       "    </tr>\n",
       "    <tr>\n",
       "      <th>mean</th>\n",
       "      <td>1247.658046</td>\n",
       "      <td>6.745927</td>\n",
       "    </tr>\n",
       "    <tr>\n",
       "      <th>std</th>\n",
       "      <td>139.416268</td>\n",
       "      <td>5.839241</td>\n",
       "    </tr>\n",
       "    <tr>\n",
       "      <th>min</th>\n",
       "      <td>1000.000000</td>\n",
       "      <td>0.000000</td>\n",
       "    </tr>\n",
       "    <tr>\n",
       "      <th>25%</th>\n",
       "      <td>1128.000000</td>\n",
       "      <td>1.290000</td>\n",
       "    </tr>\n",
       "    <tr>\n",
       "      <th>50%</th>\n",
       "      <td>1247.000000</td>\n",
       "      <td>5.980000</td>\n",
       "    </tr>\n",
       "    <tr>\n",
       "      <th>75%</th>\n",
       "      <td>1365.000000</td>\n",
       "      <td>10.690000</td>\n",
       "    </tr>\n",
       "    <tr>\n",
       "      <th>max</th>\n",
       "      <td>1499.000000</td>\n",
       "      <td>37.600000</td>\n",
       "    </tr>\n",
       "  </tbody>\n",
       "</table>\n",
       "</div>"
      ],
      "text/plain": [
       "             user_id       duration\n",
       "count  137735.000000  137735.000000\n",
       "mean     1247.658046       6.745927\n",
       "std       139.416268       5.839241\n",
       "min      1000.000000       0.000000\n",
       "25%      1128.000000       1.290000\n",
       "50%      1247.000000       5.980000\n",
       "75%      1365.000000      10.690000\n",
       "max      1499.000000      37.600000"
      ]
     },
     "execution_count": 3,
     "metadata": {},
     "output_type": "execute_result"
    }
   ],
   "source": [
    "#Calls data file \n",
    "calls.info() #general information on data\n",
    "display(calls)#closer look at data \n",
    "calls.describe()#statistical information on data "
   ]
  },
  {
   "cell_type": "markdown",
   "metadata": {},
   "source": [
    "Data Validation Summary: \n",
    "1. The data types appear to be correct based on the Dtype column.\n",
    "2. All column titles are in lowercase and formatted with appropriate spacing.\n",
    "3. There are no missing values, as all counts align with the total number of entries.\n",
    "\n",
    "Observations: \n",
    "1. The minimum value in the duration column is 0, indicating a probable missed call.\n",
    "\n",
    "Next Steps:\n",
    "1. Convert the call_date to datetime format.\n",
    "2. Round the duration values up to the nearest whole number and change the data type from float64 to int64.\n"
   ]
  },
  {
   "cell_type": "code",
   "execution_count": 4,
   "metadata": {
    "trusted": true
   },
   "outputs": [
    {
     "name": "stdout",
     "output_type": "stream",
     "text": [
      "<class 'pandas.core.frame.DataFrame'>\n",
      "RangeIndex: 104825 entries, 0 to 104824\n",
      "Data columns (total 4 columns):\n",
      " #   Column        Non-Null Count   Dtype  \n",
      "---  ------        --------------   -----  \n",
      " 0   id            104825 non-null  object \n",
      " 1   user_id       104825 non-null  int64  \n",
      " 2   session_date  104825 non-null  object \n",
      " 3   mb_used       104825 non-null  float64\n",
      "dtypes: float64(1), int64(1), object(2)\n",
      "memory usage: 3.2+ MB\n"
     ]
    },
    {
     "data": {
      "text/html": [
       "<div>\n",
       "<style scoped>\n",
       "    .dataframe tbody tr th:only-of-type {\n",
       "        vertical-align: middle;\n",
       "    }\n",
       "\n",
       "    .dataframe tbody tr th {\n",
       "        vertical-align: top;\n",
       "    }\n",
       "\n",
       "    .dataframe thead th {\n",
       "        text-align: right;\n",
       "    }\n",
       "</style>\n",
       "<table border=\"1\" class=\"dataframe\">\n",
       "  <thead>\n",
       "    <tr style=\"text-align: right;\">\n",
       "      <th></th>\n",
       "      <th>id</th>\n",
       "      <th>user_id</th>\n",
       "      <th>session_date</th>\n",
       "      <th>mb_used</th>\n",
       "    </tr>\n",
       "  </thead>\n",
       "  <tbody>\n",
       "    <tr>\n",
       "      <th>0</th>\n",
       "      <td>1000_13</td>\n",
       "      <td>1000</td>\n",
       "      <td>2018-12-29</td>\n",
       "      <td>89.86</td>\n",
       "    </tr>\n",
       "    <tr>\n",
       "      <th>1</th>\n",
       "      <td>1000_204</td>\n",
       "      <td>1000</td>\n",
       "      <td>2018-12-31</td>\n",
       "      <td>0.00</td>\n",
       "    </tr>\n",
       "    <tr>\n",
       "      <th>2</th>\n",
       "      <td>1000_379</td>\n",
       "      <td>1000</td>\n",
       "      <td>2018-12-28</td>\n",
       "      <td>660.40</td>\n",
       "    </tr>\n",
       "    <tr>\n",
       "      <th>3</th>\n",
       "      <td>1000_413</td>\n",
       "      <td>1000</td>\n",
       "      <td>2018-12-26</td>\n",
       "      <td>270.99</td>\n",
       "    </tr>\n",
       "    <tr>\n",
       "      <th>4</th>\n",
       "      <td>1000_442</td>\n",
       "      <td>1000</td>\n",
       "      <td>2018-12-27</td>\n",
       "      <td>880.22</td>\n",
       "    </tr>\n",
       "    <tr>\n",
       "      <th>...</th>\n",
       "      <td>...</td>\n",
       "      <td>...</td>\n",
       "      <td>...</td>\n",
       "      <td>...</td>\n",
       "    </tr>\n",
       "    <tr>\n",
       "      <th>104820</th>\n",
       "      <td>1499_215</td>\n",
       "      <td>1499</td>\n",
       "      <td>2018-10-20</td>\n",
       "      <td>218.06</td>\n",
       "    </tr>\n",
       "    <tr>\n",
       "      <th>104821</th>\n",
       "      <td>1499_216</td>\n",
       "      <td>1499</td>\n",
       "      <td>2018-12-30</td>\n",
       "      <td>304.72</td>\n",
       "    </tr>\n",
       "    <tr>\n",
       "      <th>104822</th>\n",
       "      <td>1499_217</td>\n",
       "      <td>1499</td>\n",
       "      <td>2018-09-22</td>\n",
       "      <td>292.75</td>\n",
       "    </tr>\n",
       "    <tr>\n",
       "      <th>104823</th>\n",
       "      <td>1499_218</td>\n",
       "      <td>1499</td>\n",
       "      <td>2018-12-07</td>\n",
       "      <td>0.00</td>\n",
       "    </tr>\n",
       "    <tr>\n",
       "      <th>104824</th>\n",
       "      <td>1499_219</td>\n",
       "      <td>1499</td>\n",
       "      <td>2018-12-24</td>\n",
       "      <td>758.31</td>\n",
       "    </tr>\n",
       "  </tbody>\n",
       "</table>\n",
       "<p>104825 rows × 4 columns</p>\n",
       "</div>"
      ],
      "text/plain": [
       "              id  user_id session_date  mb_used\n",
       "0        1000_13     1000   2018-12-29    89.86\n",
       "1       1000_204     1000   2018-12-31     0.00\n",
       "2       1000_379     1000   2018-12-28   660.40\n",
       "3       1000_413     1000   2018-12-26   270.99\n",
       "4       1000_442     1000   2018-12-27   880.22\n",
       "...          ...      ...          ...      ...\n",
       "104820  1499_215     1499   2018-10-20   218.06\n",
       "104821  1499_216     1499   2018-12-30   304.72\n",
       "104822  1499_217     1499   2018-09-22   292.75\n",
       "104823  1499_218     1499   2018-12-07     0.00\n",
       "104824  1499_219     1499   2018-12-24   758.31\n",
       "\n",
       "[104825 rows x 4 columns]"
      ]
     },
     "metadata": {},
     "output_type": "display_data"
    },
    {
     "data": {
      "text/html": [
       "<div>\n",
       "<style scoped>\n",
       "    .dataframe tbody tr th:only-of-type {\n",
       "        vertical-align: middle;\n",
       "    }\n",
       "\n",
       "    .dataframe tbody tr th {\n",
       "        vertical-align: top;\n",
       "    }\n",
       "\n",
       "    .dataframe thead th {\n",
       "        text-align: right;\n",
       "    }\n",
       "</style>\n",
       "<table border=\"1\" class=\"dataframe\">\n",
       "  <thead>\n",
       "    <tr style=\"text-align: right;\">\n",
       "      <th></th>\n",
       "      <th>user_id</th>\n",
       "      <th>mb_used</th>\n",
       "    </tr>\n",
       "  </thead>\n",
       "  <tbody>\n",
       "    <tr>\n",
       "      <th>count</th>\n",
       "      <td>104825.000000</td>\n",
       "      <td>104825.000000</td>\n",
       "    </tr>\n",
       "    <tr>\n",
       "      <th>mean</th>\n",
       "      <td>1242.496361</td>\n",
       "      <td>366.713701</td>\n",
       "    </tr>\n",
       "    <tr>\n",
       "      <th>std</th>\n",
       "      <td>142.053913</td>\n",
       "      <td>277.170542</td>\n",
       "    </tr>\n",
       "    <tr>\n",
       "      <th>min</th>\n",
       "      <td>1000.000000</td>\n",
       "      <td>0.000000</td>\n",
       "    </tr>\n",
       "    <tr>\n",
       "      <th>25%</th>\n",
       "      <td>1122.000000</td>\n",
       "      <td>136.080000</td>\n",
       "    </tr>\n",
       "    <tr>\n",
       "      <th>50%</th>\n",
       "      <td>1236.000000</td>\n",
       "      <td>343.980000</td>\n",
       "    </tr>\n",
       "    <tr>\n",
       "      <th>75%</th>\n",
       "      <td>1367.000000</td>\n",
       "      <td>554.610000</td>\n",
       "    </tr>\n",
       "    <tr>\n",
       "      <th>max</th>\n",
       "      <td>1499.000000</td>\n",
       "      <td>1693.470000</td>\n",
       "    </tr>\n",
       "  </tbody>\n",
       "</table>\n",
       "</div>"
      ],
      "text/plain": [
       "             user_id        mb_used\n",
       "count  104825.000000  104825.000000\n",
       "mean     1242.496361     366.713701\n",
       "std       142.053913     277.170542\n",
       "min      1000.000000       0.000000\n",
       "25%      1122.000000     136.080000\n",
       "50%      1236.000000     343.980000\n",
       "75%      1367.000000     554.610000\n",
       "max      1499.000000    1693.470000"
      ]
     },
     "execution_count": 4,
     "metadata": {},
     "output_type": "execute_result"
    }
   ],
   "source": [
    "#Internet data files \n",
    "internet.info() #general information on data\n",
    "display(internet)#closer look at data \n",
    "internet.describe()#statistical information on data "
   ]
  },
  {
   "cell_type": "markdown",
   "metadata": {},
   "source": [
    "Data Validation Summary: \n",
    "1. Dtype column indicates correct data types being utilized. However, 2 columns formatting will need to be changed for greater accuracy.  \n",
    "2. All column titles are appropriated formatted in lowercase with proper spacing \n",
    "3. No missing values as all counts correspond to the number of entries. \n",
    "\n",
    "Observations: \n",
    "1. Minimum amount of mb used is 0 which may indicate some users are not using all of the services provided. \n",
    "\n",
    "Next Steps: \n",
    "1. Convert session_date to datetime format. \n",
    "2. Change megabytes to gigabytes. \n"
   ]
  },
  {
   "cell_type": "code",
   "execution_count": 5,
   "metadata": {
    "trusted": true
   },
   "outputs": [
    {
     "name": "stdout",
     "output_type": "stream",
     "text": [
      "<class 'pandas.core.frame.DataFrame'>\n",
      "RangeIndex: 76051 entries, 0 to 76050\n",
      "Data columns (total 3 columns):\n",
      " #   Column        Non-Null Count  Dtype \n",
      "---  ------        --------------  ----- \n",
      " 0   id            76051 non-null  object\n",
      " 1   user_id       76051 non-null  int64 \n",
      " 2   message_date  76051 non-null  object\n",
      "dtypes: int64(1), object(2)\n",
      "memory usage: 1.7+ MB\n"
     ]
    },
    {
     "data": {
      "text/html": [
       "<div>\n",
       "<style scoped>\n",
       "    .dataframe tbody tr th:only-of-type {\n",
       "        vertical-align: middle;\n",
       "    }\n",
       "\n",
       "    .dataframe tbody tr th {\n",
       "        vertical-align: top;\n",
       "    }\n",
       "\n",
       "    .dataframe thead th {\n",
       "        text-align: right;\n",
       "    }\n",
       "</style>\n",
       "<table border=\"1\" class=\"dataframe\">\n",
       "  <thead>\n",
       "    <tr style=\"text-align: right;\">\n",
       "      <th></th>\n",
       "      <th>id</th>\n",
       "      <th>user_id</th>\n",
       "      <th>message_date</th>\n",
       "    </tr>\n",
       "  </thead>\n",
       "  <tbody>\n",
       "    <tr>\n",
       "      <th>0</th>\n",
       "      <td>1000_125</td>\n",
       "      <td>1000</td>\n",
       "      <td>2018-12-27</td>\n",
       "    </tr>\n",
       "    <tr>\n",
       "      <th>1</th>\n",
       "      <td>1000_160</td>\n",
       "      <td>1000</td>\n",
       "      <td>2018-12-31</td>\n",
       "    </tr>\n",
       "    <tr>\n",
       "      <th>2</th>\n",
       "      <td>1000_223</td>\n",
       "      <td>1000</td>\n",
       "      <td>2018-12-31</td>\n",
       "    </tr>\n",
       "    <tr>\n",
       "      <th>3</th>\n",
       "      <td>1000_251</td>\n",
       "      <td>1000</td>\n",
       "      <td>2018-12-27</td>\n",
       "    </tr>\n",
       "    <tr>\n",
       "      <th>4</th>\n",
       "      <td>1000_255</td>\n",
       "      <td>1000</td>\n",
       "      <td>2018-12-26</td>\n",
       "    </tr>\n",
       "    <tr>\n",
       "      <th>...</th>\n",
       "      <td>...</td>\n",
       "      <td>...</td>\n",
       "      <td>...</td>\n",
       "    </tr>\n",
       "    <tr>\n",
       "      <th>76046</th>\n",
       "      <td>1497_526</td>\n",
       "      <td>1497</td>\n",
       "      <td>2018-12-24</td>\n",
       "    </tr>\n",
       "    <tr>\n",
       "      <th>76047</th>\n",
       "      <td>1497_536</td>\n",
       "      <td>1497</td>\n",
       "      <td>2018-12-24</td>\n",
       "    </tr>\n",
       "    <tr>\n",
       "      <th>76048</th>\n",
       "      <td>1497_547</td>\n",
       "      <td>1497</td>\n",
       "      <td>2018-12-31</td>\n",
       "    </tr>\n",
       "    <tr>\n",
       "      <th>76049</th>\n",
       "      <td>1497_558</td>\n",
       "      <td>1497</td>\n",
       "      <td>2018-12-24</td>\n",
       "    </tr>\n",
       "    <tr>\n",
       "      <th>76050</th>\n",
       "      <td>1497_613</td>\n",
       "      <td>1497</td>\n",
       "      <td>2018-12-23</td>\n",
       "    </tr>\n",
       "  </tbody>\n",
       "</table>\n",
       "<p>76051 rows × 3 columns</p>\n",
       "</div>"
      ],
      "text/plain": [
       "             id  user_id message_date\n",
       "0      1000_125     1000   2018-12-27\n",
       "1      1000_160     1000   2018-12-31\n",
       "2      1000_223     1000   2018-12-31\n",
       "3      1000_251     1000   2018-12-27\n",
       "4      1000_255     1000   2018-12-26\n",
       "...         ...      ...          ...\n",
       "76046  1497_526     1497   2018-12-24\n",
       "76047  1497_536     1497   2018-12-24\n",
       "76048  1497_547     1497   2018-12-31\n",
       "76049  1497_558     1497   2018-12-24\n",
       "76050  1497_613     1497   2018-12-23\n",
       "\n",
       "[76051 rows x 3 columns]"
      ]
     },
     "metadata": {},
     "output_type": "display_data"
    },
    {
     "data": {
      "text/html": [
       "<div>\n",
       "<style scoped>\n",
       "    .dataframe tbody tr th:only-of-type {\n",
       "        vertical-align: middle;\n",
       "    }\n",
       "\n",
       "    .dataframe tbody tr th {\n",
       "        vertical-align: top;\n",
       "    }\n",
       "\n",
       "    .dataframe thead th {\n",
       "        text-align: right;\n",
       "    }\n",
       "</style>\n",
       "<table border=\"1\" class=\"dataframe\">\n",
       "  <thead>\n",
       "    <tr style=\"text-align: right;\">\n",
       "      <th></th>\n",
       "      <th>user_id</th>\n",
       "    </tr>\n",
       "  </thead>\n",
       "  <tbody>\n",
       "    <tr>\n",
       "      <th>count</th>\n",
       "      <td>76051.000000</td>\n",
       "    </tr>\n",
       "    <tr>\n",
       "      <th>mean</th>\n",
       "      <td>1245.972768</td>\n",
       "    </tr>\n",
       "    <tr>\n",
       "      <th>std</th>\n",
       "      <td>139.843635</td>\n",
       "    </tr>\n",
       "    <tr>\n",
       "      <th>min</th>\n",
       "      <td>1000.000000</td>\n",
       "    </tr>\n",
       "    <tr>\n",
       "      <th>25%</th>\n",
       "      <td>1123.000000</td>\n",
       "    </tr>\n",
       "    <tr>\n",
       "      <th>50%</th>\n",
       "      <td>1251.000000</td>\n",
       "    </tr>\n",
       "    <tr>\n",
       "      <th>75%</th>\n",
       "      <td>1362.000000</td>\n",
       "    </tr>\n",
       "    <tr>\n",
       "      <th>max</th>\n",
       "      <td>1497.000000</td>\n",
       "    </tr>\n",
       "  </tbody>\n",
       "</table>\n",
       "</div>"
      ],
      "text/plain": [
       "            user_id\n",
       "count  76051.000000\n",
       "mean    1245.972768\n",
       "std      139.843635\n",
       "min     1000.000000\n",
       "25%     1123.000000\n",
       "50%     1251.000000\n",
       "75%     1362.000000\n",
       "max     1497.000000"
      ]
     },
     "execution_count": 5,
     "metadata": {},
     "output_type": "execute_result"
    }
   ],
   "source": [
    "#Messages data files \n",
    "messages.info() #general information on data\n",
    "display(messages)#closer look at data \n",
    "messages.describe()#statistical information on data "
   ]
  },
  {
   "cell_type": "markdown",
   "metadata": {},
   "source": [
    "Data Validation Summary:  \n",
    "1. Based on Dtype column looks like correct data types being used.\n",
    "2. All column titles are lowercase & spaced appropriately. \n",
    "3. There are no missing values as all counts match the number of entries.\n",
    "\n",
    "Next steps:  \n",
    "1. Convert message_date to datetime format. "
   ]
  },
  {
   "cell_type": "code",
   "execution_count": 6,
   "metadata": {
    "trusted": true
   },
   "outputs": [
    {
     "name": "stdout",
     "output_type": "stream",
     "text": [
      "<class 'pandas.core.frame.DataFrame'>\n",
      "RangeIndex: 2 entries, 0 to 1\n",
      "Data columns (total 8 columns):\n",
      " #   Column                 Non-Null Count  Dtype  \n",
      "---  ------                 --------------  -----  \n",
      " 0   messages_included      2 non-null      int64  \n",
      " 1   mb_per_month_included  2 non-null      int64  \n",
      " 2   minutes_included       2 non-null      int64  \n",
      " 3   usd_monthly_pay        2 non-null      int64  \n",
      " 4   usd_per_gb             2 non-null      int64  \n",
      " 5   usd_per_message        2 non-null      float64\n",
      " 6   usd_per_minute         2 non-null      float64\n",
      " 7   plan_name              2 non-null      object \n",
      "dtypes: float64(2), int64(5), object(1)\n",
      "memory usage: 256.0+ bytes\n"
     ]
    },
    {
     "data": {
      "text/html": [
       "<div>\n",
       "<style scoped>\n",
       "    .dataframe tbody tr th:only-of-type {\n",
       "        vertical-align: middle;\n",
       "    }\n",
       "\n",
       "    .dataframe tbody tr th {\n",
       "        vertical-align: top;\n",
       "    }\n",
       "\n",
       "    .dataframe thead th {\n",
       "        text-align: right;\n",
       "    }\n",
       "</style>\n",
       "<table border=\"1\" class=\"dataframe\">\n",
       "  <thead>\n",
       "    <tr style=\"text-align: right;\">\n",
       "      <th></th>\n",
       "      <th>messages_included</th>\n",
       "      <th>mb_per_month_included</th>\n",
       "      <th>minutes_included</th>\n",
       "      <th>usd_monthly_pay</th>\n",
       "      <th>usd_per_gb</th>\n",
       "      <th>usd_per_message</th>\n",
       "      <th>usd_per_minute</th>\n",
       "      <th>plan_name</th>\n",
       "    </tr>\n",
       "  </thead>\n",
       "  <tbody>\n",
       "    <tr>\n",
       "      <th>0</th>\n",
       "      <td>50</td>\n",
       "      <td>15360</td>\n",
       "      <td>500</td>\n",
       "      <td>20</td>\n",
       "      <td>10</td>\n",
       "      <td>0.03</td>\n",
       "      <td>0.03</td>\n",
       "      <td>surf</td>\n",
       "    </tr>\n",
       "    <tr>\n",
       "      <th>1</th>\n",
       "      <td>1000</td>\n",
       "      <td>30720</td>\n",
       "      <td>3000</td>\n",
       "      <td>70</td>\n",
       "      <td>7</td>\n",
       "      <td>0.01</td>\n",
       "      <td>0.01</td>\n",
       "      <td>ultimate</td>\n",
       "    </tr>\n",
       "  </tbody>\n",
       "</table>\n",
       "</div>"
      ],
      "text/plain": [
       "   messages_included  mb_per_month_included  minutes_included  \\\n",
       "0                 50                  15360               500   \n",
       "1               1000                  30720              3000   \n",
       "\n",
       "   usd_monthly_pay  usd_per_gb  usd_per_message  usd_per_minute plan_name  \n",
       "0               20          10             0.03            0.03      surf  \n",
       "1               70           7             0.01            0.01  ultimate  "
      ]
     },
     "metadata": {},
     "output_type": "display_data"
    },
    {
     "data": {
      "text/html": [
       "<div>\n",
       "<style scoped>\n",
       "    .dataframe tbody tr th:only-of-type {\n",
       "        vertical-align: middle;\n",
       "    }\n",
       "\n",
       "    .dataframe tbody tr th {\n",
       "        vertical-align: top;\n",
       "    }\n",
       "\n",
       "    .dataframe thead th {\n",
       "        text-align: right;\n",
       "    }\n",
       "</style>\n",
       "<table border=\"1\" class=\"dataframe\">\n",
       "  <thead>\n",
       "    <tr style=\"text-align: right;\">\n",
       "      <th></th>\n",
       "      <th>messages_included</th>\n",
       "      <th>mb_per_month_included</th>\n",
       "      <th>minutes_included</th>\n",
       "      <th>usd_monthly_pay</th>\n",
       "      <th>usd_per_gb</th>\n",
       "      <th>usd_per_message</th>\n",
       "      <th>usd_per_minute</th>\n",
       "    </tr>\n",
       "  </thead>\n",
       "  <tbody>\n",
       "    <tr>\n",
       "      <th>count</th>\n",
       "      <td>2.000000</td>\n",
       "      <td>2.000000</td>\n",
       "      <td>2.000000</td>\n",
       "      <td>2.000000</td>\n",
       "      <td>2.00000</td>\n",
       "      <td>2.000000</td>\n",
       "      <td>2.000000</td>\n",
       "    </tr>\n",
       "    <tr>\n",
       "      <th>mean</th>\n",
       "      <td>525.000000</td>\n",
       "      <td>23040.000000</td>\n",
       "      <td>1750.000000</td>\n",
       "      <td>45.000000</td>\n",
       "      <td>8.50000</td>\n",
       "      <td>0.020000</td>\n",
       "      <td>0.020000</td>\n",
       "    </tr>\n",
       "    <tr>\n",
       "      <th>std</th>\n",
       "      <td>671.751442</td>\n",
       "      <td>10861.160159</td>\n",
       "      <td>1767.766953</td>\n",
       "      <td>35.355339</td>\n",
       "      <td>2.12132</td>\n",
       "      <td>0.014142</td>\n",
       "      <td>0.014142</td>\n",
       "    </tr>\n",
       "    <tr>\n",
       "      <th>min</th>\n",
       "      <td>50.000000</td>\n",
       "      <td>15360.000000</td>\n",
       "      <td>500.000000</td>\n",
       "      <td>20.000000</td>\n",
       "      <td>7.00000</td>\n",
       "      <td>0.010000</td>\n",
       "      <td>0.010000</td>\n",
       "    </tr>\n",
       "    <tr>\n",
       "      <th>25%</th>\n",
       "      <td>287.500000</td>\n",
       "      <td>19200.000000</td>\n",
       "      <td>1125.000000</td>\n",
       "      <td>32.500000</td>\n",
       "      <td>7.75000</td>\n",
       "      <td>0.015000</td>\n",
       "      <td>0.015000</td>\n",
       "    </tr>\n",
       "    <tr>\n",
       "      <th>50%</th>\n",
       "      <td>525.000000</td>\n",
       "      <td>23040.000000</td>\n",
       "      <td>1750.000000</td>\n",
       "      <td>45.000000</td>\n",
       "      <td>8.50000</td>\n",
       "      <td>0.020000</td>\n",
       "      <td>0.020000</td>\n",
       "    </tr>\n",
       "    <tr>\n",
       "      <th>75%</th>\n",
       "      <td>762.500000</td>\n",
       "      <td>26880.000000</td>\n",
       "      <td>2375.000000</td>\n",
       "      <td>57.500000</td>\n",
       "      <td>9.25000</td>\n",
       "      <td>0.025000</td>\n",
       "      <td>0.025000</td>\n",
       "    </tr>\n",
       "    <tr>\n",
       "      <th>max</th>\n",
       "      <td>1000.000000</td>\n",
       "      <td>30720.000000</td>\n",
       "      <td>3000.000000</td>\n",
       "      <td>70.000000</td>\n",
       "      <td>10.00000</td>\n",
       "      <td>0.030000</td>\n",
       "      <td>0.030000</td>\n",
       "    </tr>\n",
       "  </tbody>\n",
       "</table>\n",
       "</div>"
      ],
      "text/plain": [
       "       messages_included  mb_per_month_included  minutes_included  \\\n",
       "count           2.000000               2.000000          2.000000   \n",
       "mean          525.000000           23040.000000       1750.000000   \n",
       "std           671.751442           10861.160159       1767.766953   \n",
       "min            50.000000           15360.000000        500.000000   \n",
       "25%           287.500000           19200.000000       1125.000000   \n",
       "50%           525.000000           23040.000000       1750.000000   \n",
       "75%           762.500000           26880.000000       2375.000000   \n",
       "max          1000.000000           30720.000000       3000.000000   \n",
       "\n",
       "       usd_monthly_pay  usd_per_gb  usd_per_message  usd_per_minute  \n",
       "count         2.000000     2.00000         2.000000        2.000000  \n",
       "mean         45.000000     8.50000         0.020000        0.020000  \n",
       "std          35.355339     2.12132         0.014142        0.014142  \n",
       "min          20.000000     7.00000         0.010000        0.010000  \n",
       "25%          32.500000     7.75000         0.015000        0.015000  \n",
       "50%          45.000000     8.50000         0.020000        0.020000  \n",
       "75%          57.500000     9.25000         0.025000        0.025000  \n",
       "max          70.000000    10.00000         0.030000        0.030000  "
      ]
     },
     "execution_count": 6,
     "metadata": {},
     "output_type": "execute_result"
    }
   ],
   "source": [
    "#Plans data files \n",
    "plans.info() #general information on data\n",
    "display(plans) #closer look at data \n",
    "plans.describe()#statistical information on data "
   ]
  },
  {
   "cell_type": "markdown",
   "metadata": {},
   "source": [
    "Data Validation Summary:  \n",
    "1. Data types in the Dtype column appear correct. However, the mb_per_month_included needs to be changed to gigabytes. \n",
    "2. All column titles are formatted in lowercase with appropriate spacing. \n",
    "3. No missing values as indicated by the total number of entries. \n",
    "\n",
    "\n",
    "Next steps: \n",
    "1. mb_per_month_included needs to be converted to gigabytes at an appropriate juncture. "
   ]
  },
  {
   "cell_type": "code",
   "execution_count": 7,
   "metadata": {
    "trusted": true
   },
   "outputs": [
    {
     "name": "stdout",
     "output_type": "stream",
     "text": [
      "<class 'pandas.core.frame.DataFrame'>\n",
      "RangeIndex: 500 entries, 0 to 499\n",
      "Data columns (total 8 columns):\n",
      " #   Column      Non-Null Count  Dtype \n",
      "---  ------      --------------  ----- \n",
      " 0   user_id     500 non-null    int64 \n",
      " 1   first_name  500 non-null    object\n",
      " 2   last_name   500 non-null    object\n",
      " 3   age         500 non-null    int64 \n",
      " 4   city        500 non-null    object\n",
      " 5   reg_date    500 non-null    object\n",
      " 6   plan        500 non-null    object\n",
      " 7   churn_date  34 non-null     object\n",
      "dtypes: int64(2), object(6)\n",
      "memory usage: 31.4+ KB\n"
     ]
    },
    {
     "data": {
      "text/html": [
       "<div>\n",
       "<style scoped>\n",
       "    .dataframe tbody tr th:only-of-type {\n",
       "        vertical-align: middle;\n",
       "    }\n",
       "\n",
       "    .dataframe tbody tr th {\n",
       "        vertical-align: top;\n",
       "    }\n",
       "\n",
       "    .dataframe thead th {\n",
       "        text-align: right;\n",
       "    }\n",
       "</style>\n",
       "<table border=\"1\" class=\"dataframe\">\n",
       "  <thead>\n",
       "    <tr style=\"text-align: right;\">\n",
       "      <th></th>\n",
       "      <th>user_id</th>\n",
       "      <th>first_name</th>\n",
       "      <th>last_name</th>\n",
       "      <th>age</th>\n",
       "      <th>city</th>\n",
       "      <th>reg_date</th>\n",
       "      <th>plan</th>\n",
       "      <th>churn_date</th>\n",
       "    </tr>\n",
       "  </thead>\n",
       "  <tbody>\n",
       "    <tr>\n",
       "      <th>0</th>\n",
       "      <td>1000</td>\n",
       "      <td>Anamaria</td>\n",
       "      <td>Bauer</td>\n",
       "      <td>45</td>\n",
       "      <td>Atlanta-Sandy Springs-Roswell, GA MSA</td>\n",
       "      <td>2018-12-24</td>\n",
       "      <td>ultimate</td>\n",
       "      <td>NaN</td>\n",
       "    </tr>\n",
       "    <tr>\n",
       "      <th>1</th>\n",
       "      <td>1001</td>\n",
       "      <td>Mickey</td>\n",
       "      <td>Wilkerson</td>\n",
       "      <td>28</td>\n",
       "      <td>Seattle-Tacoma-Bellevue, WA MSA</td>\n",
       "      <td>2018-08-13</td>\n",
       "      <td>surf</td>\n",
       "      <td>NaN</td>\n",
       "    </tr>\n",
       "    <tr>\n",
       "      <th>2</th>\n",
       "      <td>1002</td>\n",
       "      <td>Carlee</td>\n",
       "      <td>Hoffman</td>\n",
       "      <td>36</td>\n",
       "      <td>Las Vegas-Henderson-Paradise, NV MSA</td>\n",
       "      <td>2018-10-21</td>\n",
       "      <td>surf</td>\n",
       "      <td>NaN</td>\n",
       "    </tr>\n",
       "    <tr>\n",
       "      <th>3</th>\n",
       "      <td>1003</td>\n",
       "      <td>Reynaldo</td>\n",
       "      <td>Jenkins</td>\n",
       "      <td>52</td>\n",
       "      <td>Tulsa, OK MSA</td>\n",
       "      <td>2018-01-28</td>\n",
       "      <td>surf</td>\n",
       "      <td>NaN</td>\n",
       "    </tr>\n",
       "    <tr>\n",
       "      <th>4</th>\n",
       "      <td>1004</td>\n",
       "      <td>Leonila</td>\n",
       "      <td>Thompson</td>\n",
       "      <td>40</td>\n",
       "      <td>Seattle-Tacoma-Bellevue, WA MSA</td>\n",
       "      <td>2018-05-23</td>\n",
       "      <td>surf</td>\n",
       "      <td>NaN</td>\n",
       "    </tr>\n",
       "    <tr>\n",
       "      <th>...</th>\n",
       "      <td>...</td>\n",
       "      <td>...</td>\n",
       "      <td>...</td>\n",
       "      <td>...</td>\n",
       "      <td>...</td>\n",
       "      <td>...</td>\n",
       "      <td>...</td>\n",
       "      <td>...</td>\n",
       "    </tr>\n",
       "    <tr>\n",
       "      <th>495</th>\n",
       "      <td>1495</td>\n",
       "      <td>Fidel</td>\n",
       "      <td>Sharpe</td>\n",
       "      <td>67</td>\n",
       "      <td>New York-Newark-Jersey City, NY-NJ-PA MSA</td>\n",
       "      <td>2018-09-04</td>\n",
       "      <td>surf</td>\n",
       "      <td>NaN</td>\n",
       "    </tr>\n",
       "    <tr>\n",
       "      <th>496</th>\n",
       "      <td>1496</td>\n",
       "      <td>Ariel</td>\n",
       "      <td>Shepherd</td>\n",
       "      <td>49</td>\n",
       "      <td>New Orleans-Metairie, LA MSA</td>\n",
       "      <td>2018-02-20</td>\n",
       "      <td>surf</td>\n",
       "      <td>NaN</td>\n",
       "    </tr>\n",
       "    <tr>\n",
       "      <th>497</th>\n",
       "      <td>1497</td>\n",
       "      <td>Donte</td>\n",
       "      <td>Barrera</td>\n",
       "      <td>49</td>\n",
       "      <td>Los Angeles-Long Beach-Anaheim, CA MSA</td>\n",
       "      <td>2018-12-10</td>\n",
       "      <td>ultimate</td>\n",
       "      <td>NaN</td>\n",
       "    </tr>\n",
       "    <tr>\n",
       "      <th>498</th>\n",
       "      <td>1498</td>\n",
       "      <td>Scot</td>\n",
       "      <td>Williamson</td>\n",
       "      <td>51</td>\n",
       "      <td>New York-Newark-Jersey City, NY-NJ-PA MSA</td>\n",
       "      <td>2018-02-04</td>\n",
       "      <td>surf</td>\n",
       "      <td>NaN</td>\n",
       "    </tr>\n",
       "    <tr>\n",
       "      <th>499</th>\n",
       "      <td>1499</td>\n",
       "      <td>Shena</td>\n",
       "      <td>Dickson</td>\n",
       "      <td>37</td>\n",
       "      <td>Orlando-Kissimmee-Sanford, FL MSA</td>\n",
       "      <td>2018-05-06</td>\n",
       "      <td>surf</td>\n",
       "      <td>NaN</td>\n",
       "    </tr>\n",
       "  </tbody>\n",
       "</table>\n",
       "<p>500 rows × 8 columns</p>\n",
       "</div>"
      ],
      "text/plain": [
       "     user_id first_name   last_name  age  \\\n",
       "0       1000   Anamaria       Bauer   45   \n",
       "1       1001     Mickey   Wilkerson   28   \n",
       "2       1002     Carlee     Hoffman   36   \n",
       "3       1003   Reynaldo     Jenkins   52   \n",
       "4       1004    Leonila    Thompson   40   \n",
       "..       ...        ...         ...  ...   \n",
       "495     1495      Fidel      Sharpe   67   \n",
       "496     1496      Ariel    Shepherd   49   \n",
       "497     1497      Donte     Barrera   49   \n",
       "498     1498       Scot  Williamson   51   \n",
       "499     1499      Shena     Dickson   37   \n",
       "\n",
       "                                          city    reg_date      plan  \\\n",
       "0        Atlanta-Sandy Springs-Roswell, GA MSA  2018-12-24  ultimate   \n",
       "1              Seattle-Tacoma-Bellevue, WA MSA  2018-08-13      surf   \n",
       "2         Las Vegas-Henderson-Paradise, NV MSA  2018-10-21      surf   \n",
       "3                                Tulsa, OK MSA  2018-01-28      surf   \n",
       "4              Seattle-Tacoma-Bellevue, WA MSA  2018-05-23      surf   \n",
       "..                                         ...         ...       ...   \n",
       "495  New York-Newark-Jersey City, NY-NJ-PA MSA  2018-09-04      surf   \n",
       "496               New Orleans-Metairie, LA MSA  2018-02-20      surf   \n",
       "497     Los Angeles-Long Beach-Anaheim, CA MSA  2018-12-10  ultimate   \n",
       "498  New York-Newark-Jersey City, NY-NJ-PA MSA  2018-02-04      surf   \n",
       "499          Orlando-Kissimmee-Sanford, FL MSA  2018-05-06      surf   \n",
       "\n",
       "    churn_date  \n",
       "0          NaN  \n",
       "1          NaN  \n",
       "2          NaN  \n",
       "3          NaN  \n",
       "4          NaN  \n",
       "..         ...  \n",
       "495        NaN  \n",
       "496        NaN  \n",
       "497        NaN  \n",
       "498        NaN  \n",
       "499        NaN  \n",
       "\n",
       "[500 rows x 8 columns]"
      ]
     },
     "metadata": {},
     "output_type": "display_data"
    },
    {
     "data": {
      "text/html": [
       "<div>\n",
       "<style scoped>\n",
       "    .dataframe tbody tr th:only-of-type {\n",
       "        vertical-align: middle;\n",
       "    }\n",
       "\n",
       "    .dataframe tbody tr th {\n",
       "        vertical-align: top;\n",
       "    }\n",
       "\n",
       "    .dataframe thead th {\n",
       "        text-align: right;\n",
       "    }\n",
       "</style>\n",
       "<table border=\"1\" class=\"dataframe\">\n",
       "  <thead>\n",
       "    <tr style=\"text-align: right;\">\n",
       "      <th></th>\n",
       "      <th>user_id</th>\n",
       "      <th>age</th>\n",
       "    </tr>\n",
       "  </thead>\n",
       "  <tbody>\n",
       "    <tr>\n",
       "      <th>count</th>\n",
       "      <td>500.000000</td>\n",
       "      <td>500.000000</td>\n",
       "    </tr>\n",
       "    <tr>\n",
       "      <th>mean</th>\n",
       "      <td>1249.500000</td>\n",
       "      <td>45.486000</td>\n",
       "    </tr>\n",
       "    <tr>\n",
       "      <th>std</th>\n",
       "      <td>144.481833</td>\n",
       "      <td>16.972269</td>\n",
       "    </tr>\n",
       "    <tr>\n",
       "      <th>min</th>\n",
       "      <td>1000.000000</td>\n",
       "      <td>18.000000</td>\n",
       "    </tr>\n",
       "    <tr>\n",
       "      <th>25%</th>\n",
       "      <td>1124.750000</td>\n",
       "      <td>30.000000</td>\n",
       "    </tr>\n",
       "    <tr>\n",
       "      <th>50%</th>\n",
       "      <td>1249.500000</td>\n",
       "      <td>46.000000</td>\n",
       "    </tr>\n",
       "    <tr>\n",
       "      <th>75%</th>\n",
       "      <td>1374.250000</td>\n",
       "      <td>61.000000</td>\n",
       "    </tr>\n",
       "    <tr>\n",
       "      <th>max</th>\n",
       "      <td>1499.000000</td>\n",
       "      <td>75.000000</td>\n",
       "    </tr>\n",
       "  </tbody>\n",
       "</table>\n",
       "</div>"
      ],
      "text/plain": [
       "           user_id         age\n",
       "count   500.000000  500.000000\n",
       "mean   1249.500000   45.486000\n",
       "std     144.481833   16.972269\n",
       "min    1000.000000   18.000000\n",
       "25%    1124.750000   30.000000\n",
       "50%    1249.500000   46.000000\n",
       "75%    1374.250000   61.000000\n",
       "max    1499.000000   75.000000"
      ]
     },
     "execution_count": 7,
     "metadata": {},
     "output_type": "execute_result"
    }
   ],
   "source": [
    "#Users data files \n",
    "users.info() #general information on data\n",
    "display(users) #closer look at data \n",
    "users.describe()#statistical information on data "
   ]
  },
  {
   "cell_type": "markdown",
   "metadata": {},
   "source": [
    "Data Validation Summary: \n",
    "1.Data types appear correct based on the Dtype column. Still, need to convert reg_date and churn_date columns to datetime format.  \n",
    "2. All column titles are appropriately formatted in lowercase with proper spacing. \n",
    "3. Presence of NaN values in the churn_date column indicates active users. Therefore, the 466 missing values do not require modification or concern. \n",
    "\n",
    "Next steps:\n",
    "1. Convert reg_date and churn_date columns to datetime format. "
   ]
  },
  {
   "cell_type": "markdown",
   "metadata": {},
   "source": [
    "[The data for this project is split into several tables. Explore each one to get an initial understanding of the data. Do necessary corrections to each table if necessary.]"
   ]
  },
  {
   "cell_type": "markdown",
   "metadata": {},
   "source": [
    "## Plans"
   ]
  },
  {
   "cell_type": "code",
   "execution_count": 8,
   "metadata": {
    "trusted": true
   },
   "outputs": [
    {
     "name": "stdout",
     "output_type": "stream",
     "text": [
      "<class 'pandas.core.frame.DataFrame'>\n",
      "RangeIndex: 2 entries, 0 to 1\n",
      "Data columns (total 8 columns):\n",
      " #   Column                 Non-Null Count  Dtype  \n",
      "---  ------                 --------------  -----  \n",
      " 0   messages_included      2 non-null      int64  \n",
      " 1   mb_per_month_included  2 non-null      int64  \n",
      " 2   minutes_included       2 non-null      int64  \n",
      " 3   usd_monthly_pay        2 non-null      int64  \n",
      " 4   usd_per_gb             2 non-null      int64  \n",
      " 5   usd_per_message        2 non-null      float64\n",
      " 6   usd_per_minute         2 non-null      float64\n",
      " 7   plan_name              2 non-null      object \n",
      "dtypes: float64(2), int64(5), object(1)\n",
      "memory usage: 256.0+ bytes\n"
     ]
    }
   ],
   "source": [
    "# Print the general/summary information about the plans' DataFrame\n",
    "plans.info() #general information on data\n"
   ]
  },
  {
   "cell_type": "code",
   "execution_count": 9,
   "metadata": {
    "trusted": true
   },
   "outputs": [
    {
     "data": {
      "text/plain": [
       "0"
      ]
     },
     "execution_count": 9,
     "metadata": {},
     "output_type": "execute_result"
    }
   ],
   "source": [
    "#Checking for duplicates\n",
    "plans.duplicated().sum()"
   ]
  },
  {
   "cell_type": "code",
   "execution_count": 10,
   "metadata": {
    "trusted": true
   },
   "outputs": [
    {
     "data": {
      "text/html": [
       "<div>\n",
       "<style scoped>\n",
       "    .dataframe tbody tr th:only-of-type {\n",
       "        vertical-align: middle;\n",
       "    }\n",
       "\n",
       "    .dataframe tbody tr th {\n",
       "        vertical-align: top;\n",
       "    }\n",
       "\n",
       "    .dataframe thead th {\n",
       "        text-align: right;\n",
       "    }\n",
       "</style>\n",
       "<table border=\"1\" class=\"dataframe\">\n",
       "  <thead>\n",
       "    <tr style=\"text-align: right;\">\n",
       "      <th></th>\n",
       "      <th>messages_included</th>\n",
       "      <th>mb_per_month_included</th>\n",
       "      <th>minutes_included</th>\n",
       "      <th>usd_monthly_pay</th>\n",
       "      <th>usd_per_gb</th>\n",
       "      <th>usd_per_message</th>\n",
       "      <th>usd_per_minute</th>\n",
       "      <th>plan_name</th>\n",
       "    </tr>\n",
       "  </thead>\n",
       "  <tbody>\n",
       "    <tr>\n",
       "      <th>0</th>\n",
       "      <td>50</td>\n",
       "      <td>15360</td>\n",
       "      <td>500</td>\n",
       "      <td>20</td>\n",
       "      <td>10</td>\n",
       "      <td>0.03</td>\n",
       "      <td>0.03</td>\n",
       "      <td>surf</td>\n",
       "    </tr>\n",
       "    <tr>\n",
       "      <th>1</th>\n",
       "      <td>1000</td>\n",
       "      <td>30720</td>\n",
       "      <td>3000</td>\n",
       "      <td>70</td>\n",
       "      <td>7</td>\n",
       "      <td>0.01</td>\n",
       "      <td>0.01</td>\n",
       "      <td>ultimate</td>\n",
       "    </tr>\n",
       "  </tbody>\n",
       "</table>\n",
       "</div>"
      ],
      "text/plain": [
       "   messages_included  mb_per_month_included  minutes_included  \\\n",
       "0                 50                  15360               500   \n",
       "1               1000                  30720              3000   \n",
       "\n",
       "   usd_monthly_pay  usd_per_gb  usd_per_message  usd_per_minute plan_name  \n",
       "0               20          10             0.03            0.03      surf  \n",
       "1               70           7             0.01            0.01  ultimate  "
      ]
     },
     "execution_count": 10,
     "metadata": {},
     "output_type": "execute_result"
    }
   ],
   "source": [
    "# Print a sample of data for plans\n",
    "plans.head()\n"
   ]
  },
  {
   "cell_type": "markdown",
   "metadata": {},
   "source": [
    "Description: Data types look appropriate for each column. The data makes sense based on the description. There are no missing values as all counts match the number of entries. However, the conversion of megabytes data in the mb_per_month to gigabytes needs to be done. In addition, this column will need to be renamed.  "
   ]
  },
  {
   "cell_type": "markdown",
   "metadata": {},
   "source": [
    "[Describe what you see and notice in the general information and the printed data sample for the above price of data. Are there any issues (inappropriate data types, missing data etc) that may need further investigation and changes? How that can be fixed?]"
   ]
  },
  {
   "cell_type": "markdown",
   "metadata": {},
   "source": [
    " "
   ]
  },
  {
   "cell_type": "markdown",
   "metadata": {},
   "source": [
    "## Fix data"
   ]
  },
  {
   "cell_type": "markdown",
   "metadata": {},
   "source": [
    "[Fix obvious issues with the data given the initial observations.]"
   ]
  },
  {
   "cell_type": "code",
   "execution_count": 11,
   "metadata": {
    "trusted": true
   },
   "outputs": [],
   "source": [
    "# Change mb_per_month_included by dividing by 1024, then round up and change to int64 datatype \n",
    "plans['mb_per_month_included'] = np.ceil (plans['mb_per_month_included']/1024).astype('int64')\n",
    "\n",
    "#Rename column name as gb_per_month_included \n",
    "plans.rename(columns= {'mb_per_month_included':'gb_per_month_included'}, inplace=True)\n"
   ]
  },
  {
   "cell_type": "markdown",
   "metadata": {},
   "source": [
    "<div class=\"alert alert-block alert-success\">✔️\n",
    "    \n",
    "\n",
    "__Reviewer's comment №1__\n",
    "\n",
    "That's right. There are 1,024 megabytes in one gigabyte."
   ]
  },
  {
   "cell_type": "code",
   "execution_count": 12,
   "metadata": {
    "trusted": true
   },
   "outputs": [
    {
     "name": "stdout",
     "output_type": "stream",
     "text": [
      "<class 'pandas.core.frame.DataFrame'>\n",
      "RangeIndex: 2 entries, 0 to 1\n",
      "Data columns (total 8 columns):\n",
      " #   Column                 Non-Null Count  Dtype  \n",
      "---  ------                 --------------  -----  \n",
      " 0   messages_included      2 non-null      int64  \n",
      " 1   gb_per_month_included  2 non-null      int64  \n",
      " 2   minutes_included       2 non-null      int64  \n",
      " 3   usd_monthly_pay        2 non-null      int64  \n",
      " 4   usd_per_gb             2 non-null      int64  \n",
      " 5   usd_per_message        2 non-null      float64\n",
      " 6   usd_per_minute         2 non-null      float64\n",
      " 7   plan_name              2 non-null      object \n",
      "dtypes: float64(2), int64(5), object(1)\n",
      "memory usage: 256.0+ bytes\n"
     ]
    },
    {
     "data": {
      "text/html": [
       "<div>\n",
       "<style scoped>\n",
       "    .dataframe tbody tr th:only-of-type {\n",
       "        vertical-align: middle;\n",
       "    }\n",
       "\n",
       "    .dataframe tbody tr th {\n",
       "        vertical-align: top;\n",
       "    }\n",
       "\n",
       "    .dataframe thead th {\n",
       "        text-align: right;\n",
       "    }\n",
       "</style>\n",
       "<table border=\"1\" class=\"dataframe\">\n",
       "  <thead>\n",
       "    <tr style=\"text-align: right;\">\n",
       "      <th></th>\n",
       "      <th>messages_included</th>\n",
       "      <th>gb_per_month_included</th>\n",
       "      <th>minutes_included</th>\n",
       "      <th>usd_monthly_pay</th>\n",
       "      <th>usd_per_gb</th>\n",
       "      <th>usd_per_message</th>\n",
       "      <th>usd_per_minute</th>\n",
       "      <th>plan_name</th>\n",
       "    </tr>\n",
       "  </thead>\n",
       "  <tbody>\n",
       "    <tr>\n",
       "      <th>0</th>\n",
       "      <td>50</td>\n",
       "      <td>15</td>\n",
       "      <td>500</td>\n",
       "      <td>20</td>\n",
       "      <td>10</td>\n",
       "      <td>0.03</td>\n",
       "      <td>0.03</td>\n",
       "      <td>surf</td>\n",
       "    </tr>\n",
       "    <tr>\n",
       "      <th>1</th>\n",
       "      <td>1000</td>\n",
       "      <td>30</td>\n",
       "      <td>3000</td>\n",
       "      <td>70</td>\n",
       "      <td>7</td>\n",
       "      <td>0.01</td>\n",
       "      <td>0.01</td>\n",
       "      <td>ultimate</td>\n",
       "    </tr>\n",
       "  </tbody>\n",
       "</table>\n",
       "</div>"
      ],
      "text/plain": [
       "   messages_included  gb_per_month_included  minutes_included  \\\n",
       "0                 50                     15               500   \n",
       "1               1000                     30              3000   \n",
       "\n",
       "   usd_monthly_pay  usd_per_gb  usd_per_message  usd_per_minute plan_name  \n",
       "0               20          10             0.03            0.03      surf  \n",
       "1               70           7             0.01            0.01  ultimate  "
      ]
     },
     "metadata": {},
     "output_type": "display_data"
    }
   ],
   "source": [
    "#Check the plans datafile again \n",
    "plans.info()\n",
    "display(plans)"
   ]
  },
  {
   "cell_type": "markdown",
   "metadata": {},
   "source": [
    "Description: Updated megabytes to gigabytes and altered column name to reflect the correct units. "
   ]
  },
  {
   "cell_type": "markdown",
   "metadata": {},
   "source": [
    "## Enrich data"
   ]
  },
  {
   "cell_type": "markdown",
   "metadata": {},
   "source": [
    "[Add additional factors to the data if you believe they might be useful.]"
   ]
  },
  {
   "cell_type": "code",
   "execution_count": null,
   "metadata": {
    "trusted": true
   },
   "outputs": [],
   "source": []
  },
  {
   "cell_type": "markdown",
   "metadata": {},
   "source": [
    "Description: No further edits to the plan datafile. "
   ]
  },
  {
   "cell_type": "markdown",
   "metadata": {},
   "source": [
    "## Users"
   ]
  },
  {
   "cell_type": "code",
   "execution_count": 13,
   "metadata": {
    "trusted": true
   },
   "outputs": [
    {
     "name": "stdout",
     "output_type": "stream",
     "text": [
      "<class 'pandas.core.frame.DataFrame'>\n",
      "RangeIndex: 500 entries, 0 to 499\n",
      "Data columns (total 8 columns):\n",
      " #   Column      Non-Null Count  Dtype \n",
      "---  ------      --------------  ----- \n",
      " 0   user_id     500 non-null    int64 \n",
      " 1   first_name  500 non-null    object\n",
      " 2   last_name   500 non-null    object\n",
      " 3   age         500 non-null    int64 \n",
      " 4   city        500 non-null    object\n",
      " 5   reg_date    500 non-null    object\n",
      " 6   plan        500 non-null    object\n",
      " 7   churn_date  34 non-null     object\n",
      "dtypes: int64(2), object(6)\n",
      "memory usage: 31.4+ KB\n"
     ]
    }
   ],
   "source": [
    "# Print the general/summary information about the users' DataFrame\n",
    "users.info()\n"
   ]
  },
  {
   "cell_type": "code",
   "execution_count": 14,
   "metadata": {
    "trusted": true
   },
   "outputs": [
    {
     "data": {
      "text/plain": [
       "0"
      ]
     },
     "execution_count": 14,
     "metadata": {},
     "output_type": "execute_result"
    }
   ],
   "source": [
    "#Checking for duplicates\n",
    "users.duplicated().sum()"
   ]
  },
  {
   "cell_type": "code",
   "execution_count": 15,
   "metadata": {
    "trusted": true
   },
   "outputs": [
    {
     "data": {
      "text/html": [
       "<div>\n",
       "<style scoped>\n",
       "    .dataframe tbody tr th:only-of-type {\n",
       "        vertical-align: middle;\n",
       "    }\n",
       "\n",
       "    .dataframe tbody tr th {\n",
       "        vertical-align: top;\n",
       "    }\n",
       "\n",
       "    .dataframe thead th {\n",
       "        text-align: right;\n",
       "    }\n",
       "</style>\n",
       "<table border=\"1\" class=\"dataframe\">\n",
       "  <thead>\n",
       "    <tr style=\"text-align: right;\">\n",
       "      <th></th>\n",
       "      <th>user_id</th>\n",
       "      <th>first_name</th>\n",
       "      <th>last_name</th>\n",
       "      <th>age</th>\n",
       "      <th>city</th>\n",
       "      <th>reg_date</th>\n",
       "      <th>plan</th>\n",
       "      <th>churn_date</th>\n",
       "    </tr>\n",
       "  </thead>\n",
       "  <tbody>\n",
       "    <tr>\n",
       "      <th>0</th>\n",
       "      <td>1000</td>\n",
       "      <td>Anamaria</td>\n",
       "      <td>Bauer</td>\n",
       "      <td>45</td>\n",
       "      <td>Atlanta-Sandy Springs-Roswell, GA MSA</td>\n",
       "      <td>2018-12-24</td>\n",
       "      <td>ultimate</td>\n",
       "      <td>NaN</td>\n",
       "    </tr>\n",
       "    <tr>\n",
       "      <th>1</th>\n",
       "      <td>1001</td>\n",
       "      <td>Mickey</td>\n",
       "      <td>Wilkerson</td>\n",
       "      <td>28</td>\n",
       "      <td>Seattle-Tacoma-Bellevue, WA MSA</td>\n",
       "      <td>2018-08-13</td>\n",
       "      <td>surf</td>\n",
       "      <td>NaN</td>\n",
       "    </tr>\n",
       "    <tr>\n",
       "      <th>2</th>\n",
       "      <td>1002</td>\n",
       "      <td>Carlee</td>\n",
       "      <td>Hoffman</td>\n",
       "      <td>36</td>\n",
       "      <td>Las Vegas-Henderson-Paradise, NV MSA</td>\n",
       "      <td>2018-10-21</td>\n",
       "      <td>surf</td>\n",
       "      <td>NaN</td>\n",
       "    </tr>\n",
       "    <tr>\n",
       "      <th>3</th>\n",
       "      <td>1003</td>\n",
       "      <td>Reynaldo</td>\n",
       "      <td>Jenkins</td>\n",
       "      <td>52</td>\n",
       "      <td>Tulsa, OK MSA</td>\n",
       "      <td>2018-01-28</td>\n",
       "      <td>surf</td>\n",
       "      <td>NaN</td>\n",
       "    </tr>\n",
       "    <tr>\n",
       "      <th>4</th>\n",
       "      <td>1004</td>\n",
       "      <td>Leonila</td>\n",
       "      <td>Thompson</td>\n",
       "      <td>40</td>\n",
       "      <td>Seattle-Tacoma-Bellevue, WA MSA</td>\n",
       "      <td>2018-05-23</td>\n",
       "      <td>surf</td>\n",
       "      <td>NaN</td>\n",
       "    </tr>\n",
       "  </tbody>\n",
       "</table>\n",
       "</div>"
      ],
      "text/plain": [
       "   user_id first_name  last_name  age                                   city  \\\n",
       "0     1000   Anamaria      Bauer   45  Atlanta-Sandy Springs-Roswell, GA MSA   \n",
       "1     1001     Mickey  Wilkerson   28        Seattle-Tacoma-Bellevue, WA MSA   \n",
       "2     1002     Carlee    Hoffman   36   Las Vegas-Henderson-Paradise, NV MSA   \n",
       "3     1003   Reynaldo    Jenkins   52                          Tulsa, OK MSA   \n",
       "4     1004    Leonila   Thompson   40        Seattle-Tacoma-Bellevue, WA MSA   \n",
       "\n",
       "     reg_date      plan churn_date  \n",
       "0  2018-12-24  ultimate        NaN  \n",
       "1  2018-08-13      surf        NaN  \n",
       "2  2018-10-21      surf        NaN  \n",
       "3  2018-01-28      surf        NaN  \n",
       "4  2018-05-23      surf        NaN  "
      ]
     },
     "execution_count": 15,
     "metadata": {},
     "output_type": "execute_result"
    }
   ],
   "source": [
    "# Print a sample of data for users\n",
    "users.head()"
   ]
  },
  {
   "cell_type": "markdown",
   "metadata": {},
   "source": [
    "Description: It would be helpful to turn reg-date to date time data using to_datetime() method of pandas.In addition it may be helpful for future analysis work to create a regions column that sorts for NY-NJ. "
   ]
  },
  {
   "cell_type": "markdown",
   "metadata": {},
   "source": [
    "[Describe what you see and notice in the general information and the printed data sample for the above price of data. Are there any issues (inappropriate data types, missing data etc) that may need further investigation and changes? How that can be fixed?]"
   ]
  },
  {
   "cell_type": "markdown",
   "metadata": {},
   "source": [
    " "
   ]
  },
  {
   "cell_type": "markdown",
   "metadata": {},
   "source": [
    "### Fix Data"
   ]
  },
  {
   "cell_type": "markdown",
   "metadata": {},
   "source": [
    "[Fix obvious issues with the data given the initial observations.]"
   ]
  },
  {
   "cell_type": "code",
   "execution_count": 16,
   "metadata": {
    "scrolled": true,
    "trusted": true
   },
   "outputs": [
    {
     "name": "stdout",
     "output_type": "stream",
     "text": [
      "<class 'pandas.core.frame.DataFrame'>\n",
      "RangeIndex: 500 entries, 0 to 499\n",
      "Data columns (total 8 columns):\n",
      " #   Column      Non-Null Count  Dtype         \n",
      "---  ------      --------------  -----         \n",
      " 0   user_id     500 non-null    int64         \n",
      " 1   first_name  500 non-null    object        \n",
      " 2   last_name   500 non-null    object        \n",
      " 3   age         500 non-null    int64         \n",
      " 4   city        500 non-null    object        \n",
      " 5   reg_date    500 non-null    datetime64[ns]\n",
      " 6   plan        500 non-null    object        \n",
      " 7   churn_date  34 non-null     datetime64[ns]\n",
      "dtypes: datetime64[ns](2), int64(2), object(4)\n",
      "memory usage: 31.4+ KB\n"
     ]
    },
    {
     "data": {
      "text/html": [
       "<div>\n",
       "<style scoped>\n",
       "    .dataframe tbody tr th:only-of-type {\n",
       "        vertical-align: middle;\n",
       "    }\n",
       "\n",
       "    .dataframe tbody tr th {\n",
       "        vertical-align: top;\n",
       "    }\n",
       "\n",
       "    .dataframe thead th {\n",
       "        text-align: right;\n",
       "    }\n",
       "</style>\n",
       "<table border=\"1\" class=\"dataframe\">\n",
       "  <thead>\n",
       "    <tr style=\"text-align: right;\">\n",
       "      <th></th>\n",
       "      <th>user_id</th>\n",
       "      <th>first_name</th>\n",
       "      <th>last_name</th>\n",
       "      <th>age</th>\n",
       "      <th>city</th>\n",
       "      <th>reg_date</th>\n",
       "      <th>plan</th>\n",
       "      <th>churn_date</th>\n",
       "    </tr>\n",
       "  </thead>\n",
       "  <tbody>\n",
       "    <tr>\n",
       "      <th>0</th>\n",
       "      <td>1000</td>\n",
       "      <td>Anamaria</td>\n",
       "      <td>Bauer</td>\n",
       "      <td>45</td>\n",
       "      <td>Atlanta-Sandy Springs-Roswell, GA MSA</td>\n",
       "      <td>2018-12-24</td>\n",
       "      <td>ultimate</td>\n",
       "      <td>NaT</td>\n",
       "    </tr>\n",
       "    <tr>\n",
       "      <th>1</th>\n",
       "      <td>1001</td>\n",
       "      <td>Mickey</td>\n",
       "      <td>Wilkerson</td>\n",
       "      <td>28</td>\n",
       "      <td>Seattle-Tacoma-Bellevue, WA MSA</td>\n",
       "      <td>2018-08-13</td>\n",
       "      <td>surf</td>\n",
       "      <td>NaT</td>\n",
       "    </tr>\n",
       "    <tr>\n",
       "      <th>2</th>\n",
       "      <td>1002</td>\n",
       "      <td>Carlee</td>\n",
       "      <td>Hoffman</td>\n",
       "      <td>36</td>\n",
       "      <td>Las Vegas-Henderson-Paradise, NV MSA</td>\n",
       "      <td>2018-10-21</td>\n",
       "      <td>surf</td>\n",
       "      <td>NaT</td>\n",
       "    </tr>\n",
       "    <tr>\n",
       "      <th>3</th>\n",
       "      <td>1003</td>\n",
       "      <td>Reynaldo</td>\n",
       "      <td>Jenkins</td>\n",
       "      <td>52</td>\n",
       "      <td>Tulsa, OK MSA</td>\n",
       "      <td>2018-01-28</td>\n",
       "      <td>surf</td>\n",
       "      <td>NaT</td>\n",
       "    </tr>\n",
       "    <tr>\n",
       "      <th>4</th>\n",
       "      <td>1004</td>\n",
       "      <td>Leonila</td>\n",
       "      <td>Thompson</td>\n",
       "      <td>40</td>\n",
       "      <td>Seattle-Tacoma-Bellevue, WA MSA</td>\n",
       "      <td>2018-05-23</td>\n",
       "      <td>surf</td>\n",
       "      <td>NaT</td>\n",
       "    </tr>\n",
       "    <tr>\n",
       "      <th>...</th>\n",
       "      <td>...</td>\n",
       "      <td>...</td>\n",
       "      <td>...</td>\n",
       "      <td>...</td>\n",
       "      <td>...</td>\n",
       "      <td>...</td>\n",
       "      <td>...</td>\n",
       "      <td>...</td>\n",
       "    </tr>\n",
       "    <tr>\n",
       "      <th>495</th>\n",
       "      <td>1495</td>\n",
       "      <td>Fidel</td>\n",
       "      <td>Sharpe</td>\n",
       "      <td>67</td>\n",
       "      <td>New York-Newark-Jersey City, NY-NJ-PA MSA</td>\n",
       "      <td>2018-09-04</td>\n",
       "      <td>surf</td>\n",
       "      <td>NaT</td>\n",
       "    </tr>\n",
       "    <tr>\n",
       "      <th>496</th>\n",
       "      <td>1496</td>\n",
       "      <td>Ariel</td>\n",
       "      <td>Shepherd</td>\n",
       "      <td>49</td>\n",
       "      <td>New Orleans-Metairie, LA MSA</td>\n",
       "      <td>2018-02-20</td>\n",
       "      <td>surf</td>\n",
       "      <td>NaT</td>\n",
       "    </tr>\n",
       "    <tr>\n",
       "      <th>497</th>\n",
       "      <td>1497</td>\n",
       "      <td>Donte</td>\n",
       "      <td>Barrera</td>\n",
       "      <td>49</td>\n",
       "      <td>Los Angeles-Long Beach-Anaheim, CA MSA</td>\n",
       "      <td>2018-12-10</td>\n",
       "      <td>ultimate</td>\n",
       "      <td>NaT</td>\n",
       "    </tr>\n",
       "    <tr>\n",
       "      <th>498</th>\n",
       "      <td>1498</td>\n",
       "      <td>Scot</td>\n",
       "      <td>Williamson</td>\n",
       "      <td>51</td>\n",
       "      <td>New York-Newark-Jersey City, NY-NJ-PA MSA</td>\n",
       "      <td>2018-02-04</td>\n",
       "      <td>surf</td>\n",
       "      <td>NaT</td>\n",
       "    </tr>\n",
       "    <tr>\n",
       "      <th>499</th>\n",
       "      <td>1499</td>\n",
       "      <td>Shena</td>\n",
       "      <td>Dickson</td>\n",
       "      <td>37</td>\n",
       "      <td>Orlando-Kissimmee-Sanford, FL MSA</td>\n",
       "      <td>2018-05-06</td>\n",
       "      <td>surf</td>\n",
       "      <td>NaT</td>\n",
       "    </tr>\n",
       "  </tbody>\n",
       "</table>\n",
       "<p>500 rows × 8 columns</p>\n",
       "</div>"
      ],
      "text/plain": [
       "     user_id first_name   last_name  age  \\\n",
       "0       1000   Anamaria       Bauer   45   \n",
       "1       1001     Mickey   Wilkerson   28   \n",
       "2       1002     Carlee     Hoffman   36   \n",
       "3       1003   Reynaldo     Jenkins   52   \n",
       "4       1004    Leonila    Thompson   40   \n",
       "..       ...        ...         ...  ...   \n",
       "495     1495      Fidel      Sharpe   67   \n",
       "496     1496      Ariel    Shepherd   49   \n",
       "497     1497      Donte     Barrera   49   \n",
       "498     1498       Scot  Williamson   51   \n",
       "499     1499      Shena     Dickson   37   \n",
       "\n",
       "                                          city   reg_date      plan churn_date  \n",
       "0        Atlanta-Sandy Springs-Roswell, GA MSA 2018-12-24  ultimate        NaT  \n",
       "1              Seattle-Tacoma-Bellevue, WA MSA 2018-08-13      surf        NaT  \n",
       "2         Las Vegas-Henderson-Paradise, NV MSA 2018-10-21      surf        NaT  \n",
       "3                                Tulsa, OK MSA 2018-01-28      surf        NaT  \n",
       "4              Seattle-Tacoma-Bellevue, WA MSA 2018-05-23      surf        NaT  \n",
       "..                                         ...        ...       ...        ...  \n",
       "495  New York-Newark-Jersey City, NY-NJ-PA MSA 2018-09-04      surf        NaT  \n",
       "496               New Orleans-Metairie, LA MSA 2018-02-20      surf        NaT  \n",
       "497     Los Angeles-Long Beach-Anaheim, CA MSA 2018-12-10  ultimate        NaT  \n",
       "498  New York-Newark-Jersey City, NY-NJ-PA MSA 2018-02-04      surf        NaT  \n",
       "499          Orlando-Kissimmee-Sanford, FL MSA 2018-05-06      surf        NaT  \n",
       "\n",
       "[500 rows x 8 columns]"
      ]
     },
     "metadata": {},
     "output_type": "display_data"
    }
   ],
   "source": [
    "#Change the data types of churn_date and reg_date to datetime \n",
    "users ['reg_date'] = pd.to_datetime(users['reg_date'], format ='%Y.%m.%d')\n",
    "users['churn_date']=pd.to_datetime(users['churn_date'],format ='%Y.%m.%d')\n",
    "\n",
    "#Check the users data file again \n",
    "users.info()\n",
    "display(users)"
   ]
  },
  {
   "cell_type": "markdown",
   "metadata": {},
   "source": []
  },
  {
   "cell_type": "markdown",
   "metadata": {},
   "source": [
    "### Enrich Data"
   ]
  },
  {
   "cell_type": "markdown",
   "metadata": {},
   "source": [
    "[Add additional factors to the data if you believe they might be useful.]"
   ]
  },
  {
   "cell_type": "code",
   "execution_count": 17,
   "metadata": {
    "trusted": true
   },
   "outputs": [
    {
     "data": {
      "text/html": [
       "<div>\n",
       "<style scoped>\n",
       "    .dataframe tbody tr th:only-of-type {\n",
       "        vertical-align: middle;\n",
       "    }\n",
       "\n",
       "    .dataframe tbody tr th {\n",
       "        vertical-align: top;\n",
       "    }\n",
       "\n",
       "    .dataframe thead th {\n",
       "        text-align: right;\n",
       "    }\n",
       "</style>\n",
       "<table border=\"1\" class=\"dataframe\">\n",
       "  <thead>\n",
       "    <tr style=\"text-align: right;\">\n",
       "      <th></th>\n",
       "      <th>city</th>\n",
       "      <th>region</th>\n",
       "    </tr>\n",
       "  </thead>\n",
       "  <tbody>\n",
       "    <tr>\n",
       "      <th>0</th>\n",
       "      <td>Atlanta-Sandy Springs-Roswell, GA MSA</td>\n",
       "      <td>others</td>\n",
       "    </tr>\n",
       "    <tr>\n",
       "      <th>1</th>\n",
       "      <td>Seattle-Tacoma-Bellevue, WA MSA</td>\n",
       "      <td>others</td>\n",
       "    </tr>\n",
       "    <tr>\n",
       "      <th>2</th>\n",
       "      <td>Las Vegas-Henderson-Paradise, NV MSA</td>\n",
       "      <td>others</td>\n",
       "    </tr>\n",
       "    <tr>\n",
       "      <th>3</th>\n",
       "      <td>Tulsa, OK MSA</td>\n",
       "      <td>others</td>\n",
       "    </tr>\n",
       "    <tr>\n",
       "      <th>4</th>\n",
       "      <td>Seattle-Tacoma-Bellevue, WA MSA</td>\n",
       "      <td>others</td>\n",
       "    </tr>\n",
       "    <tr>\n",
       "      <th>...</th>\n",
       "      <td>...</td>\n",
       "      <td>...</td>\n",
       "    </tr>\n",
       "    <tr>\n",
       "      <th>495</th>\n",
       "      <td>New York-Newark-Jersey City, NY-NJ-PA MSA</td>\n",
       "      <td>NY-NJ</td>\n",
       "    </tr>\n",
       "    <tr>\n",
       "      <th>496</th>\n",
       "      <td>New Orleans-Metairie, LA MSA</td>\n",
       "      <td>others</td>\n",
       "    </tr>\n",
       "    <tr>\n",
       "      <th>497</th>\n",
       "      <td>Los Angeles-Long Beach-Anaheim, CA MSA</td>\n",
       "      <td>others</td>\n",
       "    </tr>\n",
       "    <tr>\n",
       "      <th>498</th>\n",
       "      <td>New York-Newark-Jersey City, NY-NJ-PA MSA</td>\n",
       "      <td>NY-NJ</td>\n",
       "    </tr>\n",
       "    <tr>\n",
       "      <th>499</th>\n",
       "      <td>Orlando-Kissimmee-Sanford, FL MSA</td>\n",
       "      <td>others</td>\n",
       "    </tr>\n",
       "  </tbody>\n",
       "</table>\n",
       "<p>500 rows × 2 columns</p>\n",
       "</div>"
      ],
      "text/plain": [
       "                                          city  region\n",
       "0        Atlanta-Sandy Springs-Roswell, GA MSA  others\n",
       "1              Seattle-Tacoma-Bellevue, WA MSA  others\n",
       "2         Las Vegas-Henderson-Paradise, NV MSA  others\n",
       "3                                Tulsa, OK MSA  others\n",
       "4              Seattle-Tacoma-Bellevue, WA MSA  others\n",
       "..                                         ...     ...\n",
       "495  New York-Newark-Jersey City, NY-NJ-PA MSA   NY-NJ\n",
       "496               New Orleans-Metairie, LA MSA  others\n",
       "497     Los Angeles-Long Beach-Anaheim, CA MSA  others\n",
       "498  New York-Newark-Jersey City, NY-NJ-PA MSA   NY-NJ\n",
       "499          Orlando-Kissimmee-Sanford, FL MSA  others\n",
       "\n",
       "[500 rows x 2 columns]"
      ]
     },
     "execution_count": 17,
     "metadata": {},
     "output_type": "execute_result"
    }
   ],
   "source": [
    "#Create region column for NY-NJ area \n",
    "users['region']= users['city'].apply(lambda x:'NY-NJ' if 'New York-Newark-Jersey City' in x else 'others' )\n",
    "\n",
    "#Check the users data file \n",
    "users[['city', 'region']]"
   ]
  },
  {
   "cell_type": "code",
   "execution_count": 18,
   "metadata": {
    "trusted": true
   },
   "outputs": [
    {
     "data": {
      "text/html": [
       "<div>\n",
       "<style scoped>\n",
       "    .dataframe tbody tr th:only-of-type {\n",
       "        vertical-align: middle;\n",
       "    }\n",
       "\n",
       "    .dataframe tbody tr th {\n",
       "        vertical-align: top;\n",
       "    }\n",
       "\n",
       "    .dataframe thead th {\n",
       "        text-align: right;\n",
       "    }\n",
       "</style>\n",
       "<table border=\"1\" class=\"dataframe\">\n",
       "  <thead>\n",
       "    <tr style=\"text-align: right;\">\n",
       "      <th></th>\n",
       "      <th>user_id</th>\n",
       "      <th>first_name</th>\n",
       "      <th>last_name</th>\n",
       "      <th>age</th>\n",
       "      <th>city</th>\n",
       "      <th>reg_date</th>\n",
       "      <th>plan</th>\n",
       "      <th>churn_date</th>\n",
       "      <th>region</th>\n",
       "      <th>reg_year</th>\n",
       "      <th>reg_month</th>\n",
       "    </tr>\n",
       "  </thead>\n",
       "  <tbody>\n",
       "    <tr>\n",
       "      <th>0</th>\n",
       "      <td>1000</td>\n",
       "      <td>Anamaria</td>\n",
       "      <td>Bauer</td>\n",
       "      <td>45</td>\n",
       "      <td>Atlanta-Sandy Springs-Roswell, GA MSA</td>\n",
       "      <td>2018-12-24</td>\n",
       "      <td>ultimate</td>\n",
       "      <td>NaT</td>\n",
       "      <td>others</td>\n",
       "      <td>2018</td>\n",
       "      <td>12</td>\n",
       "    </tr>\n",
       "    <tr>\n",
       "      <th>1</th>\n",
       "      <td>1001</td>\n",
       "      <td>Mickey</td>\n",
       "      <td>Wilkerson</td>\n",
       "      <td>28</td>\n",
       "      <td>Seattle-Tacoma-Bellevue, WA MSA</td>\n",
       "      <td>2018-08-13</td>\n",
       "      <td>surf</td>\n",
       "      <td>NaT</td>\n",
       "      <td>others</td>\n",
       "      <td>2018</td>\n",
       "      <td>8</td>\n",
       "    </tr>\n",
       "    <tr>\n",
       "      <th>2</th>\n",
       "      <td>1002</td>\n",
       "      <td>Carlee</td>\n",
       "      <td>Hoffman</td>\n",
       "      <td>36</td>\n",
       "      <td>Las Vegas-Henderson-Paradise, NV MSA</td>\n",
       "      <td>2018-10-21</td>\n",
       "      <td>surf</td>\n",
       "      <td>NaT</td>\n",
       "      <td>others</td>\n",
       "      <td>2018</td>\n",
       "      <td>10</td>\n",
       "    </tr>\n",
       "    <tr>\n",
       "      <th>3</th>\n",
       "      <td>1003</td>\n",
       "      <td>Reynaldo</td>\n",
       "      <td>Jenkins</td>\n",
       "      <td>52</td>\n",
       "      <td>Tulsa, OK MSA</td>\n",
       "      <td>2018-01-28</td>\n",
       "      <td>surf</td>\n",
       "      <td>NaT</td>\n",
       "      <td>others</td>\n",
       "      <td>2018</td>\n",
       "      <td>1</td>\n",
       "    </tr>\n",
       "    <tr>\n",
       "      <th>4</th>\n",
       "      <td>1004</td>\n",
       "      <td>Leonila</td>\n",
       "      <td>Thompson</td>\n",
       "      <td>40</td>\n",
       "      <td>Seattle-Tacoma-Bellevue, WA MSA</td>\n",
       "      <td>2018-05-23</td>\n",
       "      <td>surf</td>\n",
       "      <td>NaT</td>\n",
       "      <td>others</td>\n",
       "      <td>2018</td>\n",
       "      <td>5</td>\n",
       "    </tr>\n",
       "    <tr>\n",
       "      <th>...</th>\n",
       "      <td>...</td>\n",
       "      <td>...</td>\n",
       "      <td>...</td>\n",
       "      <td>...</td>\n",
       "      <td>...</td>\n",
       "      <td>...</td>\n",
       "      <td>...</td>\n",
       "      <td>...</td>\n",
       "      <td>...</td>\n",
       "      <td>...</td>\n",
       "      <td>...</td>\n",
       "    </tr>\n",
       "    <tr>\n",
       "      <th>495</th>\n",
       "      <td>1495</td>\n",
       "      <td>Fidel</td>\n",
       "      <td>Sharpe</td>\n",
       "      <td>67</td>\n",
       "      <td>New York-Newark-Jersey City, NY-NJ-PA MSA</td>\n",
       "      <td>2018-09-04</td>\n",
       "      <td>surf</td>\n",
       "      <td>NaT</td>\n",
       "      <td>NY-NJ</td>\n",
       "      <td>2018</td>\n",
       "      <td>9</td>\n",
       "    </tr>\n",
       "    <tr>\n",
       "      <th>496</th>\n",
       "      <td>1496</td>\n",
       "      <td>Ariel</td>\n",
       "      <td>Shepherd</td>\n",
       "      <td>49</td>\n",
       "      <td>New Orleans-Metairie, LA MSA</td>\n",
       "      <td>2018-02-20</td>\n",
       "      <td>surf</td>\n",
       "      <td>NaT</td>\n",
       "      <td>others</td>\n",
       "      <td>2018</td>\n",
       "      <td>2</td>\n",
       "    </tr>\n",
       "    <tr>\n",
       "      <th>497</th>\n",
       "      <td>1497</td>\n",
       "      <td>Donte</td>\n",
       "      <td>Barrera</td>\n",
       "      <td>49</td>\n",
       "      <td>Los Angeles-Long Beach-Anaheim, CA MSA</td>\n",
       "      <td>2018-12-10</td>\n",
       "      <td>ultimate</td>\n",
       "      <td>NaT</td>\n",
       "      <td>others</td>\n",
       "      <td>2018</td>\n",
       "      <td>12</td>\n",
       "    </tr>\n",
       "    <tr>\n",
       "      <th>498</th>\n",
       "      <td>1498</td>\n",
       "      <td>Scot</td>\n",
       "      <td>Williamson</td>\n",
       "      <td>51</td>\n",
       "      <td>New York-Newark-Jersey City, NY-NJ-PA MSA</td>\n",
       "      <td>2018-02-04</td>\n",
       "      <td>surf</td>\n",
       "      <td>NaT</td>\n",
       "      <td>NY-NJ</td>\n",
       "      <td>2018</td>\n",
       "      <td>2</td>\n",
       "    </tr>\n",
       "    <tr>\n",
       "      <th>499</th>\n",
       "      <td>1499</td>\n",
       "      <td>Shena</td>\n",
       "      <td>Dickson</td>\n",
       "      <td>37</td>\n",
       "      <td>Orlando-Kissimmee-Sanford, FL MSA</td>\n",
       "      <td>2018-05-06</td>\n",
       "      <td>surf</td>\n",
       "      <td>NaT</td>\n",
       "      <td>others</td>\n",
       "      <td>2018</td>\n",
       "      <td>5</td>\n",
       "    </tr>\n",
       "  </tbody>\n",
       "</table>\n",
       "<p>500 rows × 11 columns</p>\n",
       "</div>"
      ],
      "text/plain": [
       "     user_id first_name   last_name  age  \\\n",
       "0       1000   Anamaria       Bauer   45   \n",
       "1       1001     Mickey   Wilkerson   28   \n",
       "2       1002     Carlee     Hoffman   36   \n",
       "3       1003   Reynaldo     Jenkins   52   \n",
       "4       1004    Leonila    Thompson   40   \n",
       "..       ...        ...         ...  ...   \n",
       "495     1495      Fidel      Sharpe   67   \n",
       "496     1496      Ariel    Shepherd   49   \n",
       "497     1497      Donte     Barrera   49   \n",
       "498     1498       Scot  Williamson   51   \n",
       "499     1499      Shena     Dickson   37   \n",
       "\n",
       "                                          city   reg_date      plan  \\\n",
       "0        Atlanta-Sandy Springs-Roswell, GA MSA 2018-12-24  ultimate   \n",
       "1              Seattle-Tacoma-Bellevue, WA MSA 2018-08-13      surf   \n",
       "2         Las Vegas-Henderson-Paradise, NV MSA 2018-10-21      surf   \n",
       "3                                Tulsa, OK MSA 2018-01-28      surf   \n",
       "4              Seattle-Tacoma-Bellevue, WA MSA 2018-05-23      surf   \n",
       "..                                         ...        ...       ...   \n",
       "495  New York-Newark-Jersey City, NY-NJ-PA MSA 2018-09-04      surf   \n",
       "496               New Orleans-Metairie, LA MSA 2018-02-20      surf   \n",
       "497     Los Angeles-Long Beach-Anaheim, CA MSA 2018-12-10  ultimate   \n",
       "498  New York-Newark-Jersey City, NY-NJ-PA MSA 2018-02-04      surf   \n",
       "499          Orlando-Kissimmee-Sanford, FL MSA 2018-05-06      surf   \n",
       "\n",
       "    churn_date  region  reg_year  reg_month  \n",
       "0          NaT  others      2018         12  \n",
       "1          NaT  others      2018          8  \n",
       "2          NaT  others      2018         10  \n",
       "3          NaT  others      2018          1  \n",
       "4          NaT  others      2018          5  \n",
       "..         ...     ...       ...        ...  \n",
       "495        NaT   NY-NJ      2018          9  \n",
       "496        NaT  others      2018          2  \n",
       "497        NaT  others      2018         12  \n",
       "498        NaT   NY-NJ      2018          2  \n",
       "499        NaT  others      2018          5  \n",
       "\n",
       "[500 rows x 11 columns]"
      ]
     },
     "metadata": {},
     "output_type": "display_data"
    }
   ],
   "source": [
    "#Extracting the month and year would be helpful when aggregating data \n",
    "def create_datetime_values(data,name_date): \n",
    "    name = name_date.split('_')[0]\n",
    "    \n",
    "    # Devise new columns to help with extration of year and month \n",
    "    data[f'{name}_year'] = data[f'{name}_date'].dt.year \n",
    "    data[f'{name}_month'] = data[f'{name}_date'].dt.month \n",
    "\n",
    "# Create datatime values for reg-date \n",
    "create_datetime_values(users,'reg_date')\n",
    "\n",
    "#Check again on the users datafile \n",
    "display(users)\n"
   ]
  },
  {
   "cell_type": "code",
   "execution_count": 19,
   "metadata": {
    "trusted": true
   },
   "outputs": [
    {
     "data": {
      "text/html": [
       "<div>\n",
       "<style scoped>\n",
       "    .dataframe tbody tr th:only-of-type {\n",
       "        vertical-align: middle;\n",
       "    }\n",
       "\n",
       "    .dataframe tbody tr th {\n",
       "        vertical-align: top;\n",
       "    }\n",
       "\n",
       "    .dataframe thead th {\n",
       "        text-align: right;\n",
       "    }\n",
       "</style>\n",
       "<table border=\"1\" class=\"dataframe\">\n",
       "  <thead>\n",
       "    <tr style=\"text-align: right;\">\n",
       "      <th></th>\n",
       "      <th>churn_date</th>\n",
       "      <th>churn_year</th>\n",
       "      <th>churn_month</th>\n",
       "    </tr>\n",
       "  </thead>\n",
       "  <tbody>\n",
       "    <tr>\n",
       "      <th>6</th>\n",
       "      <td>2018-12-18</td>\n",
       "      <td>2018.0</td>\n",
       "      <td>12.0</td>\n",
       "    </tr>\n",
       "    <tr>\n",
       "      <th>12</th>\n",
       "      <td>2018-11-16</td>\n",
       "      <td>2018.0</td>\n",
       "      <td>11.0</td>\n",
       "    </tr>\n",
       "    <tr>\n",
       "      <th>22</th>\n",
       "      <td>2018-09-07</td>\n",
       "      <td>2018.0</td>\n",
       "      <td>9.0</td>\n",
       "    </tr>\n",
       "    <tr>\n",
       "      <th>40</th>\n",
       "      <td>2018-12-30</td>\n",
       "      <td>2018.0</td>\n",
       "      <td>12.0</td>\n",
       "    </tr>\n",
       "    <tr>\n",
       "      <th>50</th>\n",
       "      <td>2018-10-07</td>\n",
       "      <td>2018.0</td>\n",
       "      <td>10.0</td>\n",
       "    </tr>\n",
       "  </tbody>\n",
       "</table>\n",
       "</div>"
      ],
      "text/plain": [
       "   churn_date  churn_year  churn_month\n",
       "6  2018-12-18      2018.0         12.0\n",
       "12 2018-11-16      2018.0         11.0\n",
       "22 2018-09-07      2018.0          9.0\n",
       "40 2018-12-30      2018.0         12.0\n",
       "50 2018-10-07      2018.0         10.0"
      ]
     },
     "execution_count": 19,
     "metadata": {},
     "output_type": "execute_result"
    }
   ],
   "source": [
    "#Add datetime values for churn_date \n",
    "create_datetime_values(users,'churn_date')\n",
    "\n",
    "#Check users datafile \n",
    "users.query('churn_date.notna()')[\n",
    "    ['churn_date','churn_year','churn_month']\n",
    "].head()"
   ]
  },
  {
   "cell_type": "markdown",
   "metadata": {},
   "source": [
    "Description: Later on I will require the revenue from users in the NY-NJ area so it will be helpful to have a regions column to extract this information. Additionally, I will need to test the monthly revenue values in 2018, therefore, creating two additional columns containing the year and month will support later analysis.Finally, I created a datetime values for the churn_date to further support the anaylysis process. "
   ]
  },
  {
   "cell_type": "markdown",
   "metadata": {},
   "source": [
    "<div class=\"alert alert-block alert-danger\">✍\n",
    "    \n",
    "\n",
    "__Reviewer's comment №1__\n",
    "\n",
    "No checking for duplicates of each dataset. Please add"
   ]
  },
  {
   "cell_type": "markdown",
   "metadata": {},
   "source": [
    "Added in duplicate check for each datafile using duplicated().sum() method. "
   ]
  },
  {
   "cell_type": "markdown",
   "metadata": {},
   "source": [
    "## Calls"
   ]
  },
  {
   "cell_type": "code",
   "execution_count": 20,
   "metadata": {
    "trusted": true
   },
   "outputs": [
    {
     "name": "stdout",
     "output_type": "stream",
     "text": [
      "<class 'pandas.core.frame.DataFrame'>\n",
      "RangeIndex: 137735 entries, 0 to 137734\n",
      "Data columns (total 4 columns):\n",
      " #   Column     Non-Null Count   Dtype  \n",
      "---  ------     --------------   -----  \n",
      " 0   id         137735 non-null  object \n",
      " 1   user_id    137735 non-null  int64  \n",
      " 2   call_date  137735 non-null  object \n",
      " 3   duration   137735 non-null  float64\n",
      "dtypes: float64(1), int64(1), object(2)\n",
      "memory usage: 4.2+ MB\n"
     ]
    }
   ],
   "source": [
    "# Print the general/summary information about the calls' DataFrame\n",
    "calls.info()"
   ]
  },
  {
   "cell_type": "code",
   "execution_count": 21,
   "metadata": {
    "trusted": true
   },
   "outputs": [
    {
     "data": {
      "text/plain": [
       "0"
      ]
     },
     "execution_count": 21,
     "metadata": {},
     "output_type": "execute_result"
    }
   ],
   "source": [
    "#Checking for duplicates\n",
    "calls.duplicated().sum()"
   ]
  },
  {
   "cell_type": "markdown",
   "metadata": {},
   "source": [
    "<div class=\"alert alert-block alert-success\">✔️\n",
    "    \n",
    "\n",
    "__Reviewer's comment №2__\n",
    "\n",
    "Duplicate checking is the basis of data preprocessing"
   ]
  },
  {
   "cell_type": "code",
   "execution_count": 22,
   "metadata": {
    "trusted": true
   },
   "outputs": [
    {
     "data": {
      "text/html": [
       "<div>\n",
       "<style scoped>\n",
       "    .dataframe tbody tr th:only-of-type {\n",
       "        vertical-align: middle;\n",
       "    }\n",
       "\n",
       "    .dataframe tbody tr th {\n",
       "        vertical-align: top;\n",
       "    }\n",
       "\n",
       "    .dataframe thead th {\n",
       "        text-align: right;\n",
       "    }\n",
       "</style>\n",
       "<table border=\"1\" class=\"dataframe\">\n",
       "  <thead>\n",
       "    <tr style=\"text-align: right;\">\n",
       "      <th></th>\n",
       "      <th>id</th>\n",
       "      <th>user_id</th>\n",
       "      <th>call_date</th>\n",
       "      <th>duration</th>\n",
       "    </tr>\n",
       "  </thead>\n",
       "  <tbody>\n",
       "    <tr>\n",
       "      <th>0</th>\n",
       "      <td>1000_93</td>\n",
       "      <td>1000</td>\n",
       "      <td>2018-12-27</td>\n",
       "      <td>8.52</td>\n",
       "    </tr>\n",
       "    <tr>\n",
       "      <th>1</th>\n",
       "      <td>1000_145</td>\n",
       "      <td>1000</td>\n",
       "      <td>2018-12-27</td>\n",
       "      <td>13.66</td>\n",
       "    </tr>\n",
       "    <tr>\n",
       "      <th>2</th>\n",
       "      <td>1000_247</td>\n",
       "      <td>1000</td>\n",
       "      <td>2018-12-27</td>\n",
       "      <td>14.48</td>\n",
       "    </tr>\n",
       "    <tr>\n",
       "      <th>3</th>\n",
       "      <td>1000_309</td>\n",
       "      <td>1000</td>\n",
       "      <td>2018-12-28</td>\n",
       "      <td>5.76</td>\n",
       "    </tr>\n",
       "    <tr>\n",
       "      <th>4</th>\n",
       "      <td>1000_380</td>\n",
       "      <td>1000</td>\n",
       "      <td>2018-12-30</td>\n",
       "      <td>4.22</td>\n",
       "    </tr>\n",
       "  </tbody>\n",
       "</table>\n",
       "</div>"
      ],
      "text/plain": [
       "         id  user_id   call_date  duration\n",
       "0   1000_93     1000  2018-12-27      8.52\n",
       "1  1000_145     1000  2018-12-27     13.66\n",
       "2  1000_247     1000  2018-12-27     14.48\n",
       "3  1000_309     1000  2018-12-28      5.76\n",
       "4  1000_380     1000  2018-12-30      4.22"
      ]
     },
     "execution_count": 22,
     "metadata": {},
     "output_type": "execute_result"
    }
   ],
   "source": [
    "# Print a sample of data for calls\n",
    "calls.head()"
   ]
  },
  {
   "cell_type": "markdown",
   "metadata": {},
   "source": [
    "Description: I will need to change the vales for call_date to datetime. Based on the data description the call duration needs to be rounded up to the higher number. I will need to use the np.ceil() method to round up. "
   ]
  },
  {
   "cell_type": "markdown",
   "metadata": {},
   "source": [
    "[Describe what you see and notice in the general information and the printed data sample for the above price of data. Are there any issues (inappropriate data types, missing data etc) that may need further investigation and changes? How that can be fixed?]"
   ]
  },
  {
   "cell_type": "markdown",
   "metadata": {},
   "source": [
    " "
   ]
  },
  {
   "cell_type": "markdown",
   "metadata": {},
   "source": [
    "### Fix data"
   ]
  },
  {
   "cell_type": "markdown",
   "metadata": {},
   "source": [
    "[Fix obvious issues with the data given the initial observations.]"
   ]
  },
  {
   "cell_type": "code",
   "execution_count": 23,
   "metadata": {
    "trusted": true
   },
   "outputs": [
    {
     "data": {
      "text/html": [
       "<div>\n",
       "<style scoped>\n",
       "    .dataframe tbody tr th:only-of-type {\n",
       "        vertical-align: middle;\n",
       "    }\n",
       "\n",
       "    .dataframe tbody tr th {\n",
       "        vertical-align: top;\n",
       "    }\n",
       "\n",
       "    .dataframe thead th {\n",
       "        text-align: right;\n",
       "    }\n",
       "</style>\n",
       "<table border=\"1\" class=\"dataframe\">\n",
       "  <thead>\n",
       "    <tr style=\"text-align: right;\">\n",
       "      <th></th>\n",
       "      <th>id</th>\n",
       "      <th>user_id</th>\n",
       "      <th>call_date</th>\n",
       "      <th>duration</th>\n",
       "    </tr>\n",
       "  </thead>\n",
       "  <tbody>\n",
       "    <tr>\n",
       "      <th>0</th>\n",
       "      <td>1000_93</td>\n",
       "      <td>1000</td>\n",
       "      <td>2018-12-27</td>\n",
       "      <td>8.52</td>\n",
       "    </tr>\n",
       "    <tr>\n",
       "      <th>1</th>\n",
       "      <td>1000_145</td>\n",
       "      <td>1000</td>\n",
       "      <td>2018-12-27</td>\n",
       "      <td>13.66</td>\n",
       "    </tr>\n",
       "    <tr>\n",
       "      <th>2</th>\n",
       "      <td>1000_247</td>\n",
       "      <td>1000</td>\n",
       "      <td>2018-12-27</td>\n",
       "      <td>14.48</td>\n",
       "    </tr>\n",
       "    <tr>\n",
       "      <th>3</th>\n",
       "      <td>1000_309</td>\n",
       "      <td>1000</td>\n",
       "      <td>2018-12-28</td>\n",
       "      <td>5.76</td>\n",
       "    </tr>\n",
       "    <tr>\n",
       "      <th>4</th>\n",
       "      <td>1000_380</td>\n",
       "      <td>1000</td>\n",
       "      <td>2018-12-30</td>\n",
       "      <td>4.22</td>\n",
       "    </tr>\n",
       "    <tr>\n",
       "      <th>...</th>\n",
       "      <td>...</td>\n",
       "      <td>...</td>\n",
       "      <td>...</td>\n",
       "      <td>...</td>\n",
       "    </tr>\n",
       "    <tr>\n",
       "      <th>137730</th>\n",
       "      <td>1499_199</td>\n",
       "      <td>1499</td>\n",
       "      <td>2018-11-21</td>\n",
       "      <td>8.72</td>\n",
       "    </tr>\n",
       "    <tr>\n",
       "      <th>137731</th>\n",
       "      <td>1499_200</td>\n",
       "      <td>1499</td>\n",
       "      <td>2018-10-20</td>\n",
       "      <td>10.89</td>\n",
       "    </tr>\n",
       "    <tr>\n",
       "      <th>137732</th>\n",
       "      <td>1499_201</td>\n",
       "      <td>1499</td>\n",
       "      <td>2018-09-21</td>\n",
       "      <td>8.12</td>\n",
       "    </tr>\n",
       "    <tr>\n",
       "      <th>137733</th>\n",
       "      <td>1499_202</td>\n",
       "      <td>1499</td>\n",
       "      <td>2018-10-10</td>\n",
       "      <td>0.37</td>\n",
       "    </tr>\n",
       "    <tr>\n",
       "      <th>137734</th>\n",
       "      <td>1499_203</td>\n",
       "      <td>1499</td>\n",
       "      <td>2018-12-29</td>\n",
       "      <td>13.86</td>\n",
       "    </tr>\n",
       "  </tbody>\n",
       "</table>\n",
       "<p>137735 rows × 4 columns</p>\n",
       "</div>"
      ],
      "text/plain": [
       "              id  user_id  call_date  duration\n",
       "0        1000_93     1000 2018-12-27      8.52\n",
       "1       1000_145     1000 2018-12-27     13.66\n",
       "2       1000_247     1000 2018-12-27     14.48\n",
       "3       1000_309     1000 2018-12-28      5.76\n",
       "4       1000_380     1000 2018-12-30      4.22\n",
       "...          ...      ...        ...       ...\n",
       "137730  1499_199     1499 2018-11-21      8.72\n",
       "137731  1499_200     1499 2018-10-20     10.89\n",
       "137732  1499_201     1499 2018-09-21      8.12\n",
       "137733  1499_202     1499 2018-10-10      0.37\n",
       "137734  1499_203     1499 2018-12-29     13.86\n",
       "\n",
       "[137735 rows x 4 columns]"
      ]
     },
     "metadata": {},
     "output_type": "display_data"
    }
   ],
   "source": [
    "#Change data types of call_date to datetime \n",
    "calls['call_date'] = pd.to_datetime(calls['call_date'],format ='%Y.%m.%d')\n",
    "\n",
    "#Check the calls data file \n",
    "display(calls)"
   ]
  },
  {
   "cell_type": "code",
   "execution_count": 24,
   "metadata": {
    "trusted": true
   },
   "outputs": [
    {
     "data": {
      "text/html": [
       "<div>\n",
       "<style scoped>\n",
       "    .dataframe tbody tr th:only-of-type {\n",
       "        vertical-align: middle;\n",
       "    }\n",
       "\n",
       "    .dataframe tbody tr th {\n",
       "        vertical-align: top;\n",
       "    }\n",
       "\n",
       "    .dataframe thead th {\n",
       "        text-align: right;\n",
       "    }\n",
       "</style>\n",
       "<table border=\"1\" class=\"dataframe\">\n",
       "  <thead>\n",
       "    <tr style=\"text-align: right;\">\n",
       "      <th></th>\n",
       "      <th>id</th>\n",
       "      <th>user_id</th>\n",
       "      <th>call_date</th>\n",
       "      <th>duration</th>\n",
       "      <th>call_year</th>\n",
       "      <th>call_month</th>\n",
       "    </tr>\n",
       "  </thead>\n",
       "  <tbody>\n",
       "    <tr>\n",
       "      <th>0</th>\n",
       "      <td>1000_93</td>\n",
       "      <td>1000</td>\n",
       "      <td>2018-12-27</td>\n",
       "      <td>8.52</td>\n",
       "      <td>2018</td>\n",
       "      <td>12</td>\n",
       "    </tr>\n",
       "    <tr>\n",
       "      <th>1</th>\n",
       "      <td>1000_145</td>\n",
       "      <td>1000</td>\n",
       "      <td>2018-12-27</td>\n",
       "      <td>13.66</td>\n",
       "      <td>2018</td>\n",
       "      <td>12</td>\n",
       "    </tr>\n",
       "    <tr>\n",
       "      <th>2</th>\n",
       "      <td>1000_247</td>\n",
       "      <td>1000</td>\n",
       "      <td>2018-12-27</td>\n",
       "      <td>14.48</td>\n",
       "      <td>2018</td>\n",
       "      <td>12</td>\n",
       "    </tr>\n",
       "    <tr>\n",
       "      <th>3</th>\n",
       "      <td>1000_309</td>\n",
       "      <td>1000</td>\n",
       "      <td>2018-12-28</td>\n",
       "      <td>5.76</td>\n",
       "      <td>2018</td>\n",
       "      <td>12</td>\n",
       "    </tr>\n",
       "    <tr>\n",
       "      <th>4</th>\n",
       "      <td>1000_380</td>\n",
       "      <td>1000</td>\n",
       "      <td>2018-12-30</td>\n",
       "      <td>4.22</td>\n",
       "      <td>2018</td>\n",
       "      <td>12</td>\n",
       "    </tr>\n",
       "    <tr>\n",
       "      <th>...</th>\n",
       "      <td>...</td>\n",
       "      <td>...</td>\n",
       "      <td>...</td>\n",
       "      <td>...</td>\n",
       "      <td>...</td>\n",
       "      <td>...</td>\n",
       "    </tr>\n",
       "    <tr>\n",
       "      <th>137730</th>\n",
       "      <td>1499_199</td>\n",
       "      <td>1499</td>\n",
       "      <td>2018-11-21</td>\n",
       "      <td>8.72</td>\n",
       "      <td>2018</td>\n",
       "      <td>11</td>\n",
       "    </tr>\n",
       "    <tr>\n",
       "      <th>137731</th>\n",
       "      <td>1499_200</td>\n",
       "      <td>1499</td>\n",
       "      <td>2018-10-20</td>\n",
       "      <td>10.89</td>\n",
       "      <td>2018</td>\n",
       "      <td>10</td>\n",
       "    </tr>\n",
       "    <tr>\n",
       "      <th>137732</th>\n",
       "      <td>1499_201</td>\n",
       "      <td>1499</td>\n",
       "      <td>2018-09-21</td>\n",
       "      <td>8.12</td>\n",
       "      <td>2018</td>\n",
       "      <td>9</td>\n",
       "    </tr>\n",
       "    <tr>\n",
       "      <th>137733</th>\n",
       "      <td>1499_202</td>\n",
       "      <td>1499</td>\n",
       "      <td>2018-10-10</td>\n",
       "      <td>0.37</td>\n",
       "      <td>2018</td>\n",
       "      <td>10</td>\n",
       "    </tr>\n",
       "    <tr>\n",
       "      <th>137734</th>\n",
       "      <td>1499_203</td>\n",
       "      <td>1499</td>\n",
       "      <td>2018-12-29</td>\n",
       "      <td>13.86</td>\n",
       "      <td>2018</td>\n",
       "      <td>12</td>\n",
       "    </tr>\n",
       "  </tbody>\n",
       "</table>\n",
       "<p>137735 rows × 6 columns</p>\n",
       "</div>"
      ],
      "text/plain": [
       "              id  user_id  call_date  duration  call_year  call_month\n",
       "0        1000_93     1000 2018-12-27      8.52       2018          12\n",
       "1       1000_145     1000 2018-12-27     13.66       2018          12\n",
       "2       1000_247     1000 2018-12-27     14.48       2018          12\n",
       "3       1000_309     1000 2018-12-28      5.76       2018          12\n",
       "4       1000_380     1000 2018-12-30      4.22       2018          12\n",
       "...          ...      ...        ...       ...        ...         ...\n",
       "137730  1499_199     1499 2018-11-21      8.72       2018          11\n",
       "137731  1499_200     1499 2018-10-20     10.89       2018          10\n",
       "137732  1499_201     1499 2018-09-21      8.12       2018           9\n",
       "137733  1499_202     1499 2018-10-10      0.37       2018          10\n",
       "137734  1499_203     1499 2018-12-29     13.86       2018          12\n",
       "\n",
       "[137735 rows x 6 columns]"
      ]
     },
     "metadata": {},
     "output_type": "display_data"
    }
   ],
   "source": [
    "#Update datetime values for calls \n",
    "create_datetime_values(calls,'call_date')\n",
    "\n",
    "#Check calls data file \n",
    "display(calls)\n"
   ]
  },
  {
   "cell_type": "markdown",
   "metadata": {},
   "source": [
    "Description: Updated the call_date to be in datetime format. "
   ]
  },
  {
   "cell_type": "markdown",
   "metadata": {},
   "source": [
    "### Enrich data"
   ]
  },
  {
   "cell_type": "code",
   "execution_count": 25,
   "metadata": {
    "trusted": true
   },
   "outputs": [
    {
     "data": {
      "text/plain": [
       "'Percentage of 0 seconds calls in call_data:19.48%'"
      ]
     },
     "metadata": {},
     "output_type": "display_data"
    }
   ],
   "source": [
    "#Check the records for 0 duration calls \n",
    "display('Percentage of 0 seconds calls in call_data:' +\n",
    "       f'{calls.query(\"duration == 0\").shape[0]/calls.shape[0]:.2%}')"
   ]
  },
  {
   "cell_type": "code",
   "execution_count": 26,
   "metadata": {
    "trusted": true
   },
   "outputs": [
    {
     "name": "stdout",
     "output_type": "stream",
     "text": [
      "<class 'pandas.core.frame.DataFrame'>\n",
      "Int64Index: 110901 entries, 0 to 137734\n",
      "Data columns (total 6 columns):\n",
      " #   Column      Non-Null Count   Dtype         \n",
      "---  ------      --------------   -----         \n",
      " 0   id          110901 non-null  object        \n",
      " 1   user_id     110901 non-null  int64         \n",
      " 2   call_date   110901 non-null  datetime64[ns]\n",
      " 3   duration    110901 non-null  float64       \n",
      " 4   call_year   110901 non-null  int64         \n",
      " 5   call_month  110901 non-null  int64         \n",
      "dtypes: datetime64[ns](1), float64(1), int64(3), object(1)\n",
      "memory usage: 5.9+ MB\n"
     ]
    },
    {
     "data": {
      "text/html": [
       "<div>\n",
       "<style scoped>\n",
       "    .dataframe tbody tr th:only-of-type {\n",
       "        vertical-align: middle;\n",
       "    }\n",
       "\n",
       "    .dataframe tbody tr th {\n",
       "        vertical-align: top;\n",
       "    }\n",
       "\n",
       "    .dataframe thead th {\n",
       "        text-align: right;\n",
       "    }\n",
       "</style>\n",
       "<table border=\"1\" class=\"dataframe\">\n",
       "  <thead>\n",
       "    <tr style=\"text-align: right;\">\n",
       "      <th></th>\n",
       "      <th>id</th>\n",
       "      <th>user_id</th>\n",
       "      <th>call_date</th>\n",
       "      <th>duration</th>\n",
       "      <th>call_year</th>\n",
       "      <th>call_month</th>\n",
       "    </tr>\n",
       "  </thead>\n",
       "  <tbody>\n",
       "    <tr>\n",
       "      <th>0</th>\n",
       "      <td>1000_93</td>\n",
       "      <td>1000</td>\n",
       "      <td>2018-12-27</td>\n",
       "      <td>8.52</td>\n",
       "      <td>2018</td>\n",
       "      <td>12</td>\n",
       "    </tr>\n",
       "    <tr>\n",
       "      <th>1</th>\n",
       "      <td>1000_145</td>\n",
       "      <td>1000</td>\n",
       "      <td>2018-12-27</td>\n",
       "      <td>13.66</td>\n",
       "      <td>2018</td>\n",
       "      <td>12</td>\n",
       "    </tr>\n",
       "    <tr>\n",
       "      <th>2</th>\n",
       "      <td>1000_247</td>\n",
       "      <td>1000</td>\n",
       "      <td>2018-12-27</td>\n",
       "      <td>14.48</td>\n",
       "      <td>2018</td>\n",
       "      <td>12</td>\n",
       "    </tr>\n",
       "    <tr>\n",
       "      <th>3</th>\n",
       "      <td>1000_309</td>\n",
       "      <td>1000</td>\n",
       "      <td>2018-12-28</td>\n",
       "      <td>5.76</td>\n",
       "      <td>2018</td>\n",
       "      <td>12</td>\n",
       "    </tr>\n",
       "    <tr>\n",
       "      <th>4</th>\n",
       "      <td>1000_380</td>\n",
       "      <td>1000</td>\n",
       "      <td>2018-12-30</td>\n",
       "      <td>4.22</td>\n",
       "      <td>2018</td>\n",
       "      <td>12</td>\n",
       "    </tr>\n",
       "    <tr>\n",
       "      <th>...</th>\n",
       "      <td>...</td>\n",
       "      <td>...</td>\n",
       "      <td>...</td>\n",
       "      <td>...</td>\n",
       "      <td>...</td>\n",
       "      <td>...</td>\n",
       "    </tr>\n",
       "    <tr>\n",
       "      <th>137730</th>\n",
       "      <td>1499_199</td>\n",
       "      <td>1499</td>\n",
       "      <td>2018-11-21</td>\n",
       "      <td>8.72</td>\n",
       "      <td>2018</td>\n",
       "      <td>11</td>\n",
       "    </tr>\n",
       "    <tr>\n",
       "      <th>137731</th>\n",
       "      <td>1499_200</td>\n",
       "      <td>1499</td>\n",
       "      <td>2018-10-20</td>\n",
       "      <td>10.89</td>\n",
       "      <td>2018</td>\n",
       "      <td>10</td>\n",
       "    </tr>\n",
       "    <tr>\n",
       "      <th>137732</th>\n",
       "      <td>1499_201</td>\n",
       "      <td>1499</td>\n",
       "      <td>2018-09-21</td>\n",
       "      <td>8.12</td>\n",
       "      <td>2018</td>\n",
       "      <td>9</td>\n",
       "    </tr>\n",
       "    <tr>\n",
       "      <th>137733</th>\n",
       "      <td>1499_202</td>\n",
       "      <td>1499</td>\n",
       "      <td>2018-10-10</td>\n",
       "      <td>0.37</td>\n",
       "      <td>2018</td>\n",
       "      <td>10</td>\n",
       "    </tr>\n",
       "    <tr>\n",
       "      <th>137734</th>\n",
       "      <td>1499_203</td>\n",
       "      <td>1499</td>\n",
       "      <td>2018-12-29</td>\n",
       "      <td>13.86</td>\n",
       "      <td>2018</td>\n",
       "      <td>12</td>\n",
       "    </tr>\n",
       "  </tbody>\n",
       "</table>\n",
       "<p>110901 rows × 6 columns</p>\n",
       "</div>"
      ],
      "text/plain": [
       "              id  user_id  call_date  duration  call_year  call_month\n",
       "0        1000_93     1000 2018-12-27      8.52       2018          12\n",
       "1       1000_145     1000 2018-12-27     13.66       2018          12\n",
       "2       1000_247     1000 2018-12-27     14.48       2018          12\n",
       "3       1000_309     1000 2018-12-28      5.76       2018          12\n",
       "4       1000_380     1000 2018-12-30      4.22       2018          12\n",
       "...          ...      ...        ...       ...        ...         ...\n",
       "137730  1499_199     1499 2018-11-21      8.72       2018          11\n",
       "137731  1499_200     1499 2018-10-20     10.89       2018          10\n",
       "137732  1499_201     1499 2018-09-21      8.12       2018           9\n",
       "137733  1499_202     1499 2018-10-10      0.37       2018          10\n",
       "137734  1499_203     1499 2018-12-29     13.86       2018          12\n",
       "\n",
       "[110901 rows x 6 columns]"
      ]
     },
     "metadata": {},
     "output_type": "display_data"
    }
   ],
   "source": [
    "#Remove the 0 duration calls \n",
    "calls= calls.query('duration ! = 0')\n",
    "\n",
    "#Check the calls data file\n",
    "calls.info()\n",
    "display(calls)\n"
   ]
  },
  {
   "cell_type": "code",
   "execution_count": 27,
   "metadata": {
    "trusted": true
   },
   "outputs": [
    {
     "data": {
      "text/html": [
       "<div>\n",
       "<style scoped>\n",
       "    .dataframe tbody tr th:only-of-type {\n",
       "        vertical-align: middle;\n",
       "    }\n",
       "\n",
       "    .dataframe tbody tr th {\n",
       "        vertical-align: top;\n",
       "    }\n",
       "\n",
       "    .dataframe thead th {\n",
       "        text-align: right;\n",
       "    }\n",
       "</style>\n",
       "<table border=\"1\" class=\"dataframe\">\n",
       "  <thead>\n",
       "    <tr style=\"text-align: right;\">\n",
       "      <th></th>\n",
       "      <th>id</th>\n",
       "      <th>user_id</th>\n",
       "      <th>call_date</th>\n",
       "      <th>duration</th>\n",
       "      <th>call_year</th>\n",
       "      <th>call_month</th>\n",
       "    </tr>\n",
       "  </thead>\n",
       "  <tbody>\n",
       "    <tr>\n",
       "      <th>0</th>\n",
       "      <td>1000_93</td>\n",
       "      <td>1000</td>\n",
       "      <td>2018-12-27</td>\n",
       "      <td>9</td>\n",
       "      <td>2018</td>\n",
       "      <td>12</td>\n",
       "    </tr>\n",
       "    <tr>\n",
       "      <th>1</th>\n",
       "      <td>1000_145</td>\n",
       "      <td>1000</td>\n",
       "      <td>2018-12-27</td>\n",
       "      <td>14</td>\n",
       "      <td>2018</td>\n",
       "      <td>12</td>\n",
       "    </tr>\n",
       "    <tr>\n",
       "      <th>2</th>\n",
       "      <td>1000_247</td>\n",
       "      <td>1000</td>\n",
       "      <td>2018-12-27</td>\n",
       "      <td>15</td>\n",
       "      <td>2018</td>\n",
       "      <td>12</td>\n",
       "    </tr>\n",
       "    <tr>\n",
       "      <th>3</th>\n",
       "      <td>1000_309</td>\n",
       "      <td>1000</td>\n",
       "      <td>2018-12-28</td>\n",
       "      <td>6</td>\n",
       "      <td>2018</td>\n",
       "      <td>12</td>\n",
       "    </tr>\n",
       "    <tr>\n",
       "      <th>4</th>\n",
       "      <td>1000_380</td>\n",
       "      <td>1000</td>\n",
       "      <td>2018-12-30</td>\n",
       "      <td>5</td>\n",
       "      <td>2018</td>\n",
       "      <td>12</td>\n",
       "    </tr>\n",
       "  </tbody>\n",
       "</table>\n",
       "</div>"
      ],
      "text/plain": [
       "         id  user_id  call_date  duration  call_year  call_month\n",
       "0   1000_93     1000 2018-12-27         9       2018          12\n",
       "1  1000_145     1000 2018-12-27        14       2018          12\n",
       "2  1000_247     1000 2018-12-27        15       2018          12\n",
       "3  1000_309     1000 2018-12-28         6       2018          12\n",
       "4  1000_380     1000 2018-12-30         5       2018          12"
      ]
     },
     "execution_count": 27,
     "metadata": {},
     "output_type": "execute_result"
    }
   ],
   "source": [
    "#Round up each duration and change the data type to int64 \n",
    "calls['duration']=np.ceil(calls['duration']).astype('int64')\n",
    "\n",
    "#Check calls data file \n",
    "calls.head()"
   ]
  },
  {
   "cell_type": "markdown",
   "metadata": {},
   "source": [
    "<div class=\"alert alert-block alert-success\">✔️\n",
    "    \n",
    "\n",
    "__Reviewer's comment №1__\n",
    "\n",
    "Good for you for using the np.ceil() method\n",
    "    "
   ]
  },
  {
   "cell_type": "markdown",
   "metadata": {},
   "source": [
    "Description: Cleaned up the data to remove the 0 duration calls as those will interfere with later analysis. In addition, rounded up the duration as described by the plan. "
   ]
  },
  {
   "cell_type": "markdown",
   "metadata": {},
   "source": [
    "[Add additional factors to the data if you believe they might be useful.]"
   ]
  },
  {
   "cell_type": "markdown",
   "metadata": {},
   "source": [
    "## Messages"
   ]
  },
  {
   "cell_type": "code",
   "execution_count": 28,
   "metadata": {
    "trusted": true
   },
   "outputs": [
    {
     "name": "stdout",
     "output_type": "stream",
     "text": [
      "<class 'pandas.core.frame.DataFrame'>\n",
      "RangeIndex: 76051 entries, 0 to 76050\n",
      "Data columns (total 3 columns):\n",
      " #   Column        Non-Null Count  Dtype \n",
      "---  ------        --------------  ----- \n",
      " 0   id            76051 non-null  object\n",
      " 1   user_id       76051 non-null  int64 \n",
      " 2   message_date  76051 non-null  object\n",
      "dtypes: int64(1), object(2)\n",
      "memory usage: 1.7+ MB\n"
     ]
    }
   ],
   "source": [
    "# Print the general/summary information about the messages' DataFrame\n",
    "messages.info()"
   ]
  },
  {
   "cell_type": "code",
   "execution_count": 29,
   "metadata": {
    "trusted": true
   },
   "outputs": [
    {
     "data": {
      "text/plain": [
       "0"
      ]
     },
     "execution_count": 29,
     "metadata": {},
     "output_type": "execute_result"
    }
   ],
   "source": [
    "#Checking for duplicates\n",
    "messages.duplicated().sum()"
   ]
  },
  {
   "cell_type": "code",
   "execution_count": 30,
   "metadata": {
    "trusted": true
   },
   "outputs": [
    {
     "data": {
      "text/html": [
       "<div>\n",
       "<style scoped>\n",
       "    .dataframe tbody tr th:only-of-type {\n",
       "        vertical-align: middle;\n",
       "    }\n",
       "\n",
       "    .dataframe tbody tr th {\n",
       "        vertical-align: top;\n",
       "    }\n",
       "\n",
       "    .dataframe thead th {\n",
       "        text-align: right;\n",
       "    }\n",
       "</style>\n",
       "<table border=\"1\" class=\"dataframe\">\n",
       "  <thead>\n",
       "    <tr style=\"text-align: right;\">\n",
       "      <th></th>\n",
       "      <th>id</th>\n",
       "      <th>user_id</th>\n",
       "      <th>message_date</th>\n",
       "    </tr>\n",
       "  </thead>\n",
       "  <tbody>\n",
       "    <tr>\n",
       "      <th>0</th>\n",
       "      <td>1000_125</td>\n",
       "      <td>1000</td>\n",
       "      <td>2018-12-27</td>\n",
       "    </tr>\n",
       "    <tr>\n",
       "      <th>1</th>\n",
       "      <td>1000_160</td>\n",
       "      <td>1000</td>\n",
       "      <td>2018-12-31</td>\n",
       "    </tr>\n",
       "    <tr>\n",
       "      <th>2</th>\n",
       "      <td>1000_223</td>\n",
       "      <td>1000</td>\n",
       "      <td>2018-12-31</td>\n",
       "    </tr>\n",
       "    <tr>\n",
       "      <th>3</th>\n",
       "      <td>1000_251</td>\n",
       "      <td>1000</td>\n",
       "      <td>2018-12-27</td>\n",
       "    </tr>\n",
       "    <tr>\n",
       "      <th>4</th>\n",
       "      <td>1000_255</td>\n",
       "      <td>1000</td>\n",
       "      <td>2018-12-26</td>\n",
       "    </tr>\n",
       "  </tbody>\n",
       "</table>\n",
       "</div>"
      ],
      "text/plain": [
       "         id  user_id message_date\n",
       "0  1000_125     1000   2018-12-27\n",
       "1  1000_160     1000   2018-12-31\n",
       "2  1000_223     1000   2018-12-31\n",
       "3  1000_251     1000   2018-12-27\n",
       "4  1000_255     1000   2018-12-26"
      ]
     },
     "execution_count": 30,
     "metadata": {},
     "output_type": "execute_result"
    }
   ],
   "source": [
    "# Print a sample of data for messages\n",
    "messages.head()"
   ]
  },
  {
   "cell_type": "markdown",
   "metadata": {},
   "source": [
    "Description: I will need to change the data types of message_date to datatime format. No obvious signs of duplicates based on the number of entries. "
   ]
  },
  {
   "cell_type": "markdown",
   "metadata": {},
   "source": [
    "[Describe what you see and notice in the general information and the printed data sample for the above price of data. Are there any issues (inappropriate data types, missing data etc) that may need further investigation and changes? How that can be fixed?]"
   ]
  },
  {
   "cell_type": "markdown",
   "metadata": {},
   "source": [
    " "
   ]
  },
  {
   "cell_type": "markdown",
   "metadata": {},
   "source": [
    "### Fix data"
   ]
  },
  {
   "cell_type": "markdown",
   "metadata": {},
   "source": [
    "[Fix obvious issues with the data given the initial observations.]"
   ]
  },
  {
   "cell_type": "code",
   "execution_count": 31,
   "metadata": {
    "trusted": true
   },
   "outputs": [
    {
     "name": "stdout",
     "output_type": "stream",
     "text": [
      "<class 'pandas.core.frame.DataFrame'>\n",
      "RangeIndex: 76051 entries, 0 to 76050\n",
      "Data columns (total 3 columns):\n",
      " #   Column        Non-Null Count  Dtype         \n",
      "---  ------        --------------  -----         \n",
      " 0   id            76051 non-null  object        \n",
      " 1   user_id       76051 non-null  int64         \n",
      " 2   message_date  76051 non-null  datetime64[ns]\n",
      "dtypes: datetime64[ns](1), int64(1), object(1)\n",
      "memory usage: 1.7+ MB\n"
     ]
    }
   ],
   "source": [
    "#Change the data types of message_date to datetime \n",
    "messages['message_date']= pd.to_datetime(messages['message_date'], format ='%Y.%m.%d' )\n",
    "\n",
    "#Check on change \n",
    "messages.info()"
   ]
  },
  {
   "cell_type": "code",
   "execution_count": 32,
   "metadata": {
    "trusted": true
   },
   "outputs": [
    {
     "name": "stdout",
     "output_type": "stream",
     "text": [
      "<class 'pandas.core.frame.DataFrame'>\n",
      "RangeIndex: 76051 entries, 0 to 76050\n",
      "Data columns (total 5 columns):\n",
      " #   Column         Non-Null Count  Dtype         \n",
      "---  ------         --------------  -----         \n",
      " 0   id             76051 non-null  object        \n",
      " 1   user_id        76051 non-null  int64         \n",
      " 2   message_date   76051 non-null  datetime64[ns]\n",
      " 3   message_year   76051 non-null  int64         \n",
      " 4   message_month  76051 non-null  int64         \n",
      "dtypes: datetime64[ns](1), int64(3), object(1)\n",
      "memory usage: 2.9+ MB\n"
     ]
    }
   ],
   "source": [
    "#Datetime values for message_date \n",
    "create_datetime_values(messages,'message_date')\n",
    "\n",
    "#Check on change \n",
    "messages[\n",
    "    ['message_date','message_year','message_month']\n",
    "].head()\n",
    "\n",
    "messages.info()"
   ]
  },
  {
   "cell_type": "markdown",
   "metadata": {},
   "source": [
    "Description: Converted to datetime. "
   ]
  },
  {
   "cell_type": "markdown",
   "metadata": {},
   "source": [
    "### Enrich data"
   ]
  },
  {
   "cell_type": "markdown",
   "metadata": {},
   "source": [
    "[Add additional factors to the data if you believe they might be useful.]"
   ]
  },
  {
   "cell_type": "markdown",
   "metadata": {},
   "source": [
    "Description: Nothing required. "
   ]
  },
  {
   "cell_type": "markdown",
   "metadata": {},
   "source": [
    "## Internet"
   ]
  },
  {
   "cell_type": "code",
   "execution_count": 33,
   "metadata": {
    "trusted": true
   },
   "outputs": [
    {
     "name": "stdout",
     "output_type": "stream",
     "text": [
      "<class 'pandas.core.frame.DataFrame'>\n",
      "RangeIndex: 104825 entries, 0 to 104824\n",
      "Data columns (total 4 columns):\n",
      " #   Column        Non-Null Count   Dtype  \n",
      "---  ------        --------------   -----  \n",
      " 0   id            104825 non-null  object \n",
      " 1   user_id       104825 non-null  int64  \n",
      " 2   session_date  104825 non-null  object \n",
      " 3   mb_used       104825 non-null  float64\n",
      "dtypes: float64(1), int64(1), object(2)\n",
      "memory usage: 3.2+ MB\n"
     ]
    }
   ],
   "source": [
    "# Print the general/summary information about the internet DataFrame\n",
    "internet.info()"
   ]
  },
  {
   "cell_type": "code",
   "execution_count": 34,
   "metadata": {
    "trusted": true
   },
   "outputs": [
    {
     "data": {
      "text/plain": [
       "0"
      ]
     },
     "execution_count": 34,
     "metadata": {},
     "output_type": "execute_result"
    }
   ],
   "source": [
    "#Checking for duplicates\n",
    "internet.duplicated().sum()"
   ]
  },
  {
   "cell_type": "code",
   "execution_count": 35,
   "metadata": {
    "trusted": true
   },
   "outputs": [
    {
     "data": {
      "text/html": [
       "<div>\n",
       "<style scoped>\n",
       "    .dataframe tbody tr th:only-of-type {\n",
       "        vertical-align: middle;\n",
       "    }\n",
       "\n",
       "    .dataframe tbody tr th {\n",
       "        vertical-align: top;\n",
       "    }\n",
       "\n",
       "    .dataframe thead th {\n",
       "        text-align: right;\n",
       "    }\n",
       "</style>\n",
       "<table border=\"1\" class=\"dataframe\">\n",
       "  <thead>\n",
       "    <tr style=\"text-align: right;\">\n",
       "      <th></th>\n",
       "      <th>id</th>\n",
       "      <th>user_id</th>\n",
       "      <th>session_date</th>\n",
       "      <th>mb_used</th>\n",
       "    </tr>\n",
       "  </thead>\n",
       "  <tbody>\n",
       "    <tr>\n",
       "      <th>0</th>\n",
       "      <td>1000_13</td>\n",
       "      <td>1000</td>\n",
       "      <td>2018-12-29</td>\n",
       "      <td>89.86</td>\n",
       "    </tr>\n",
       "    <tr>\n",
       "      <th>1</th>\n",
       "      <td>1000_204</td>\n",
       "      <td>1000</td>\n",
       "      <td>2018-12-31</td>\n",
       "      <td>0.00</td>\n",
       "    </tr>\n",
       "    <tr>\n",
       "      <th>2</th>\n",
       "      <td>1000_379</td>\n",
       "      <td>1000</td>\n",
       "      <td>2018-12-28</td>\n",
       "      <td>660.40</td>\n",
       "    </tr>\n",
       "    <tr>\n",
       "      <th>3</th>\n",
       "      <td>1000_413</td>\n",
       "      <td>1000</td>\n",
       "      <td>2018-12-26</td>\n",
       "      <td>270.99</td>\n",
       "    </tr>\n",
       "    <tr>\n",
       "      <th>4</th>\n",
       "      <td>1000_442</td>\n",
       "      <td>1000</td>\n",
       "      <td>2018-12-27</td>\n",
       "      <td>880.22</td>\n",
       "    </tr>\n",
       "  </tbody>\n",
       "</table>\n",
       "</div>"
      ],
      "text/plain": [
       "         id  user_id session_date  mb_used\n",
       "0   1000_13     1000   2018-12-29    89.86\n",
       "1  1000_204     1000   2018-12-31     0.00\n",
       "2  1000_379     1000   2018-12-28   660.40\n",
       "3  1000_413     1000   2018-12-26   270.99\n",
       "4  1000_442     1000   2018-12-27   880.22"
      ]
     },
     "execution_count": 35,
     "metadata": {},
     "output_type": "execute_result"
    }
   ],
   "source": [
    "# Print a sample of data for the internet traffic\n",
    "internet.head()"
   ]
  },
  {
   "cell_type": "markdown",
   "metadata": {},
   "source": [
    "Description: It would be a prudent idea to convert to datetime for session_date and devise new columns for easier extraction of data. "
   ]
  },
  {
   "cell_type": "markdown",
   "metadata": {},
   "source": [
    "[Describe what you see and notice in the general information and the printed data sample for the above price of data. Are there any issues (inappropriate data types, missing data etc) that may need further investigation and changes? How that can be fixed?]"
   ]
  },
  {
   "cell_type": "markdown",
   "metadata": {},
   "source": [
    " "
   ]
  },
  {
   "cell_type": "markdown",
   "metadata": {},
   "source": [
    "### Fix data"
   ]
  },
  {
   "cell_type": "markdown",
   "metadata": {},
   "source": [
    "[Fix obvious issues with the data given the initial observations.]"
   ]
  },
  {
   "cell_type": "code",
   "execution_count": 36,
   "metadata": {
    "trusted": true
   },
   "outputs": [
    {
     "name": "stdout",
     "output_type": "stream",
     "text": [
      "<class 'pandas.core.frame.DataFrame'>\n",
      "RangeIndex: 104825 entries, 0 to 104824\n",
      "Data columns (total 4 columns):\n",
      " #   Column        Non-Null Count   Dtype         \n",
      "---  ------        --------------   -----         \n",
      " 0   id            104825 non-null  object        \n",
      " 1   user_id       104825 non-null  int64         \n",
      " 2   session_date  104825 non-null  datetime64[ns]\n",
      " 3   mb_used       104825 non-null  float64       \n",
      "dtypes: datetime64[ns](1), float64(1), int64(1), object(1)\n",
      "memory usage: 3.2+ MB\n"
     ]
    }
   ],
   "source": [
    "#Make session_date to datetime \n",
    "internet['session_date'] = pd.to_datetime(internet['session_date'], format ='%Y.%m.%d')\n",
    "\n",
    "#Check on internet data file \n",
    "internet.info()"
   ]
  },
  {
   "cell_type": "code",
   "execution_count": 37,
   "metadata": {
    "trusted": true
   },
   "outputs": [
    {
     "data": {
      "text/html": [
       "<div>\n",
       "<style scoped>\n",
       "    .dataframe tbody tr th:only-of-type {\n",
       "        vertical-align: middle;\n",
       "    }\n",
       "\n",
       "    .dataframe tbody tr th {\n",
       "        vertical-align: top;\n",
       "    }\n",
       "\n",
       "    .dataframe thead th {\n",
       "        text-align: right;\n",
       "    }\n",
       "</style>\n",
       "<table border=\"1\" class=\"dataframe\">\n",
       "  <thead>\n",
       "    <tr style=\"text-align: right;\">\n",
       "      <th></th>\n",
       "      <th>session_date</th>\n",
       "      <th>session_year</th>\n",
       "      <th>session_month</th>\n",
       "    </tr>\n",
       "  </thead>\n",
       "  <tbody>\n",
       "    <tr>\n",
       "      <th>0</th>\n",
       "      <td>2018-12-29</td>\n",
       "      <td>2018</td>\n",
       "      <td>12</td>\n",
       "    </tr>\n",
       "    <tr>\n",
       "      <th>1</th>\n",
       "      <td>2018-12-31</td>\n",
       "      <td>2018</td>\n",
       "      <td>12</td>\n",
       "    </tr>\n",
       "    <tr>\n",
       "      <th>2</th>\n",
       "      <td>2018-12-28</td>\n",
       "      <td>2018</td>\n",
       "      <td>12</td>\n",
       "    </tr>\n",
       "    <tr>\n",
       "      <th>3</th>\n",
       "      <td>2018-12-26</td>\n",
       "      <td>2018</td>\n",
       "      <td>12</td>\n",
       "    </tr>\n",
       "    <tr>\n",
       "      <th>4</th>\n",
       "      <td>2018-12-27</td>\n",
       "      <td>2018</td>\n",
       "      <td>12</td>\n",
       "    </tr>\n",
       "  </tbody>\n",
       "</table>\n",
       "</div>"
      ],
      "text/plain": [
       "  session_date  session_year  session_month\n",
       "0   2018-12-29          2018             12\n",
       "1   2018-12-31          2018             12\n",
       "2   2018-12-28          2018             12\n",
       "3   2018-12-26          2018             12\n",
       "4   2018-12-27          2018             12"
      ]
     },
     "execution_count": 37,
     "metadata": {},
     "output_type": "execute_result"
    }
   ],
   "source": [
    "#Create datetime values for session_date \n",
    "create_datetime_values(internet, 'session_date')\n",
    "\n",
    "#Check on new columns \n",
    "internet[\n",
    "    ['session_date', 'session_year','session_month']\n",
    "].head()"
   ]
  },
  {
   "cell_type": "markdown",
   "metadata": {},
   "source": [
    "Description: Corrected to datetime for session date and devised new columns for easier extraction of data. "
   ]
  },
  {
   "cell_type": "markdown",
   "metadata": {},
   "source": [
    "### Enrich data"
   ]
  },
  {
   "cell_type": "markdown",
   "metadata": {},
   "source": [
    "[Add additional factors to the data if you believe they might be useful.]"
   ]
  },
  {
   "cell_type": "code",
   "execution_count": 38,
   "metadata": {
    "trusted": true
   },
   "outputs": [
    {
     "name": "stdout",
     "output_type": "stream",
     "text": [
      "Percentage of 0 gb_used internet session in internet:13.11%\n"
     ]
    }
   ],
   "source": [
    "#See percent of records have value of 0 in gb_used \n",
    "print('Percentage of 0 gb_used internet session in internet:' +\n",
    "     f'{internet.query(\"mb_used == 0\").shape[0] / internet.shape[0]:.2%}')\n",
    "      "
   ]
  },
  {
   "cell_type": "code",
   "execution_count": 39,
   "metadata": {
    "trusted": true
   },
   "outputs": [
    {
     "name": "stdout",
     "output_type": "stream",
     "text": [
      "<class 'pandas.core.frame.DataFrame'>\n",
      "Int64Index: 91078 entries, 0 to 104824\n",
      "Data columns (total 6 columns):\n",
      " #   Column         Non-Null Count  Dtype         \n",
      "---  ------         --------------  -----         \n",
      " 0   id             91078 non-null  object        \n",
      " 1   user_id        91078 non-null  int64         \n",
      " 2   session_date   91078 non-null  datetime64[ns]\n",
      " 3   mb_used        91078 non-null  float64       \n",
      " 4   session_year   91078 non-null  int64         \n",
      " 5   session_month  91078 non-null  int64         \n",
      "dtypes: datetime64[ns](1), float64(1), int64(3), object(1)\n",
      "memory usage: 4.9+ MB\n"
     ]
    },
    {
     "data": {
      "text/html": [
       "<div>\n",
       "<style scoped>\n",
       "    .dataframe tbody tr th:only-of-type {\n",
       "        vertical-align: middle;\n",
       "    }\n",
       "\n",
       "    .dataframe tbody tr th {\n",
       "        vertical-align: top;\n",
       "    }\n",
       "\n",
       "    .dataframe thead th {\n",
       "        text-align: right;\n",
       "    }\n",
       "</style>\n",
       "<table border=\"1\" class=\"dataframe\">\n",
       "  <thead>\n",
       "    <tr style=\"text-align: right;\">\n",
       "      <th></th>\n",
       "      <th>id</th>\n",
       "      <th>user_id</th>\n",
       "      <th>session_date</th>\n",
       "      <th>mb_used</th>\n",
       "      <th>session_year</th>\n",
       "      <th>session_month</th>\n",
       "    </tr>\n",
       "  </thead>\n",
       "  <tbody>\n",
       "    <tr>\n",
       "      <th>0</th>\n",
       "      <td>1000_13</td>\n",
       "      <td>1000</td>\n",
       "      <td>2018-12-29</td>\n",
       "      <td>89.86</td>\n",
       "      <td>2018</td>\n",
       "      <td>12</td>\n",
       "    </tr>\n",
       "    <tr>\n",
       "      <th>2</th>\n",
       "      <td>1000_379</td>\n",
       "      <td>1000</td>\n",
       "      <td>2018-12-28</td>\n",
       "      <td>660.40</td>\n",
       "      <td>2018</td>\n",
       "      <td>12</td>\n",
       "    </tr>\n",
       "    <tr>\n",
       "      <th>3</th>\n",
       "      <td>1000_413</td>\n",
       "      <td>1000</td>\n",
       "      <td>2018-12-26</td>\n",
       "      <td>270.99</td>\n",
       "      <td>2018</td>\n",
       "      <td>12</td>\n",
       "    </tr>\n",
       "    <tr>\n",
       "      <th>4</th>\n",
       "      <td>1000_442</td>\n",
       "      <td>1000</td>\n",
       "      <td>2018-12-27</td>\n",
       "      <td>880.22</td>\n",
       "      <td>2018</td>\n",
       "      <td>12</td>\n",
       "    </tr>\n",
       "    <tr>\n",
       "      <th>5</th>\n",
       "      <td>1001_0</td>\n",
       "      <td>1001</td>\n",
       "      <td>2018-08-24</td>\n",
       "      <td>284.68</td>\n",
       "      <td>2018</td>\n",
       "      <td>8</td>\n",
       "    </tr>\n",
       "  </tbody>\n",
       "</table>\n",
       "</div>"
      ],
      "text/plain": [
       "         id  user_id session_date  mb_used  session_year  session_month\n",
       "0   1000_13     1000   2018-12-29    89.86          2018             12\n",
       "2  1000_379     1000   2018-12-28   660.40          2018             12\n",
       "3  1000_413     1000   2018-12-26   270.99          2018             12\n",
       "4  1000_442     1000   2018-12-27   880.22          2018             12\n",
       "5    1001_0     1001   2018-08-24   284.68          2018              8"
      ]
     },
     "execution_count": 39,
     "metadata": {},
     "output_type": "execute_result"
    }
   ],
   "source": [
    "#Drop the 0 values in gb_used \n",
    "internet = internet.query('mb_used !=0')\n",
    "\n",
    "#Check internet data file \n",
    "internet.info()\n",
    "internet.head()"
   ]
  },
  {
   "cell_type": "markdown",
   "metadata": {},
   "source": [
    "Description: Dropped the 0's to ensure data will be more accurate when completing are statistical evaluation. "
   ]
  },
  {
   "cell_type": "markdown",
   "metadata": {},
   "source": [
    "<div class=\"alert alert-block alert-success\">✔️\n",
    "    \n",
    "\n",
    "__Reviewer's comment №1__\n",
    "\n",
    "Correct\n",
    "    "
   ]
  },
  {
   "cell_type": "markdown",
   "metadata": {},
   "source": [
    "## Study plan conditions"
   ]
  },
  {
   "cell_type": "markdown",
   "metadata": {},
   "source": [
    "[It is critical to understand how the plans work, how users are charged based on their plan subscription. So, we suggest printing out the plan information to view their conditions once again.]"
   ]
  },
  {
   "cell_type": "code",
   "execution_count": 40,
   "metadata": {
    "trusted": true
   },
   "outputs": [
    {
     "data": {
      "text/html": [
       "<div>\n",
       "<style scoped>\n",
       "    .dataframe tbody tr th:only-of-type {\n",
       "        vertical-align: middle;\n",
       "    }\n",
       "\n",
       "    .dataframe tbody tr th {\n",
       "        vertical-align: top;\n",
       "    }\n",
       "\n",
       "    .dataframe thead th {\n",
       "        text-align: right;\n",
       "    }\n",
       "</style>\n",
       "<table border=\"1\" class=\"dataframe\">\n",
       "  <thead>\n",
       "    <tr style=\"text-align: right;\">\n",
       "      <th></th>\n",
       "      <th>messages_included</th>\n",
       "      <th>gb_per_month_included</th>\n",
       "      <th>minutes_included</th>\n",
       "      <th>usd_monthly_pay</th>\n",
       "      <th>usd_per_gb</th>\n",
       "      <th>usd_per_message</th>\n",
       "      <th>usd_per_minute</th>\n",
       "      <th>plan_name</th>\n",
       "    </tr>\n",
       "  </thead>\n",
       "  <tbody>\n",
       "    <tr>\n",
       "      <th>0</th>\n",
       "      <td>50</td>\n",
       "      <td>15</td>\n",
       "      <td>500</td>\n",
       "      <td>20</td>\n",
       "      <td>10</td>\n",
       "      <td>0.03</td>\n",
       "      <td>0.03</td>\n",
       "      <td>surf</td>\n",
       "    </tr>\n",
       "    <tr>\n",
       "      <th>1</th>\n",
       "      <td>1000</td>\n",
       "      <td>30</td>\n",
       "      <td>3000</td>\n",
       "      <td>70</td>\n",
       "      <td>7</td>\n",
       "      <td>0.01</td>\n",
       "      <td>0.01</td>\n",
       "      <td>ultimate</td>\n",
       "    </tr>\n",
       "  </tbody>\n",
       "</table>\n",
       "</div>"
      ],
      "text/plain": [
       "   messages_included  gb_per_month_included  minutes_included  \\\n",
       "0                 50                     15               500   \n",
       "1               1000                     30              3000   \n",
       "\n",
       "   usd_monthly_pay  usd_per_gb  usd_per_message  usd_per_minute plan_name  \n",
       "0               20          10             0.03            0.03      surf  \n",
       "1               70           7             0.01            0.01  ultimate  "
      ]
     },
     "metadata": {},
     "output_type": "display_data"
    }
   ],
   "source": [
    "# Print out the plan conditions and make sure they are clear for you\n",
    "display(plans)"
   ]
  },
  {
   "cell_type": "markdown",
   "metadata": {},
   "source": [
    "Description: Reviewed plan data to ensure that all columns are in appropriate format for easier analysis and fits the description of the data provided. "
   ]
  },
  {
   "cell_type": "markdown",
   "metadata": {},
   "source": [
    "## Aggregate data per user\n",
    "\n",
    "[Now, as the data is clean, aggregate data per user per period in order to have just one record per user per period. It should ease the further analysis a lot.]"
   ]
  },
  {
   "cell_type": "code",
   "execution_count": 41,
   "metadata": {
    "trusted": true
   },
   "outputs": [
    {
     "data": {
      "text/html": [
       "<div>\n",
       "<style scoped>\n",
       "    .dataframe tbody tr th:only-of-type {\n",
       "        vertical-align: middle;\n",
       "    }\n",
       "\n",
       "    .dataframe tbody tr th {\n",
       "        vertical-align: top;\n",
       "    }\n",
       "\n",
       "    .dataframe thead th {\n",
       "        text-align: right;\n",
       "    }\n",
       "</style>\n",
       "<table border=\"1\" class=\"dataframe\">\n",
       "  <thead>\n",
       "    <tr style=\"text-align: right;\">\n",
       "      <th></th>\n",
       "      <th>user_id</th>\n",
       "      <th>month</th>\n",
       "      <th>total_call</th>\n",
       "    </tr>\n",
       "  </thead>\n",
       "  <tbody>\n",
       "    <tr>\n",
       "      <th>0</th>\n",
       "      <td>1000</td>\n",
       "      <td>12</td>\n",
       "      <td>16</td>\n",
       "    </tr>\n",
       "    <tr>\n",
       "      <th>1</th>\n",
       "      <td>1001</td>\n",
       "      <td>8</td>\n",
       "      <td>22</td>\n",
       "    </tr>\n",
       "    <tr>\n",
       "      <th>2</th>\n",
       "      <td>1001</td>\n",
       "      <td>9</td>\n",
       "      <td>38</td>\n",
       "    </tr>\n",
       "    <tr>\n",
       "      <th>3</th>\n",
       "      <td>1001</td>\n",
       "      <td>10</td>\n",
       "      <td>47</td>\n",
       "    </tr>\n",
       "    <tr>\n",
       "      <th>4</th>\n",
       "      <td>1001</td>\n",
       "      <td>11</td>\n",
       "      <td>49</td>\n",
       "    </tr>\n",
       "    <tr>\n",
       "      <th>...</th>\n",
       "      <td>...</td>\n",
       "      <td>...</td>\n",
       "      <td>...</td>\n",
       "    </tr>\n",
       "    <tr>\n",
       "      <th>2251</th>\n",
       "      <td>1498</td>\n",
       "      <td>12</td>\n",
       "      <td>32</td>\n",
       "    </tr>\n",
       "    <tr>\n",
       "      <th>2252</th>\n",
       "      <td>1499</td>\n",
       "      <td>9</td>\n",
       "      <td>35</td>\n",
       "    </tr>\n",
       "    <tr>\n",
       "      <th>2253</th>\n",
       "      <td>1499</td>\n",
       "      <td>10</td>\n",
       "      <td>41</td>\n",
       "    </tr>\n",
       "    <tr>\n",
       "      <th>2254</th>\n",
       "      <td>1499</td>\n",
       "      <td>11</td>\n",
       "      <td>39</td>\n",
       "    </tr>\n",
       "    <tr>\n",
       "      <th>2255</th>\n",
       "      <td>1499</td>\n",
       "      <td>12</td>\n",
       "      <td>56</td>\n",
       "    </tr>\n",
       "  </tbody>\n",
       "</table>\n",
       "<p>2256 rows × 3 columns</p>\n",
       "</div>"
      ],
      "text/plain": [
       "      user_id  month  total_call\n",
       "0        1000     12          16\n",
       "1        1001      8          22\n",
       "2        1001      9          38\n",
       "3        1001     10          47\n",
       "4        1001     11          49\n",
       "...       ...    ...         ...\n",
       "2251     1498     12          32\n",
       "2252     1499      9          35\n",
       "2253     1499     10          41\n",
       "2254     1499     11          39\n",
       "2255     1499     12          56\n",
       "\n",
       "[2256 rows x 3 columns]"
      ]
     },
     "execution_count": 41,
     "metadata": {},
     "output_type": "execute_result"
    }
   ],
   "source": [
    "# Calculate the number of calls made by each user per month. Save the result.\n",
    "user_monthly_call = pd.pivot_table(\n",
    "data = calls,\n",
    "index = ['user_id', 'call_month'],\n",
    "values =  'id',\n",
    "aggfunc= 'count'\n",
    ").reset_index()\n",
    "\n",
    "#Revise columns \n",
    "user_monthly_call.columns = [\n",
    "'user_id','month','total_call'\n",
    "]\n",
    "#Check on user_monthly_call \n",
    "user_monthly_call \n",
    "\n"
   ]
  },
  {
   "cell_type": "code",
   "execution_count": 42,
   "metadata": {
    "trusted": true
   },
   "outputs": [
    {
     "data": {
      "text/html": [
       "<div>\n",
       "<style scoped>\n",
       "    .dataframe tbody tr th:only-of-type {\n",
       "        vertical-align: middle;\n",
       "    }\n",
       "\n",
       "    .dataframe tbody tr th {\n",
       "        vertical-align: top;\n",
       "    }\n",
       "\n",
       "    .dataframe thead th {\n",
       "        text-align: right;\n",
       "    }\n",
       "</style>\n",
       "<table border=\"1\" class=\"dataframe\">\n",
       "  <thead>\n",
       "    <tr style=\"text-align: right;\">\n",
       "      <th></th>\n",
       "      <th>user_id</th>\n",
       "      <th>month</th>\n",
       "      <th>total_call</th>\n",
       "      <th>total_duration_minute</th>\n",
       "    </tr>\n",
       "  </thead>\n",
       "  <tbody>\n",
       "    <tr>\n",
       "      <th>0</th>\n",
       "      <td>1000</td>\n",
       "      <td>12</td>\n",
       "      <td>16</td>\n",
       "      <td>124</td>\n",
       "    </tr>\n",
       "    <tr>\n",
       "      <th>1</th>\n",
       "      <td>1001</td>\n",
       "      <td>8</td>\n",
       "      <td>22</td>\n",
       "      <td>182</td>\n",
       "    </tr>\n",
       "    <tr>\n",
       "      <th>2</th>\n",
       "      <td>1001</td>\n",
       "      <td>9</td>\n",
       "      <td>38</td>\n",
       "      <td>315</td>\n",
       "    </tr>\n",
       "    <tr>\n",
       "      <th>3</th>\n",
       "      <td>1001</td>\n",
       "      <td>10</td>\n",
       "      <td>47</td>\n",
       "      <td>393</td>\n",
       "    </tr>\n",
       "    <tr>\n",
       "      <th>4</th>\n",
       "      <td>1001</td>\n",
       "      <td>11</td>\n",
       "      <td>49</td>\n",
       "      <td>426</td>\n",
       "    </tr>\n",
       "    <tr>\n",
       "      <th>...</th>\n",
       "      <td>...</td>\n",
       "      <td>...</td>\n",
       "      <td>...</td>\n",
       "      <td>...</td>\n",
       "    </tr>\n",
       "    <tr>\n",
       "      <th>2251</th>\n",
       "      <td>1498</td>\n",
       "      <td>12</td>\n",
       "      <td>32</td>\n",
       "      <td>339</td>\n",
       "    </tr>\n",
       "    <tr>\n",
       "      <th>2252</th>\n",
       "      <td>1499</td>\n",
       "      <td>9</td>\n",
       "      <td>35</td>\n",
       "      <td>346</td>\n",
       "    </tr>\n",
       "    <tr>\n",
       "      <th>2253</th>\n",
       "      <td>1499</td>\n",
       "      <td>10</td>\n",
       "      <td>41</td>\n",
       "      <td>385</td>\n",
       "    </tr>\n",
       "    <tr>\n",
       "      <th>2254</th>\n",
       "      <td>1499</td>\n",
       "      <td>11</td>\n",
       "      <td>39</td>\n",
       "      <td>308</td>\n",
       "    </tr>\n",
       "    <tr>\n",
       "      <th>2255</th>\n",
       "      <td>1499</td>\n",
       "      <td>12</td>\n",
       "      <td>56</td>\n",
       "      <td>496</td>\n",
       "    </tr>\n",
       "  </tbody>\n",
       "</table>\n",
       "<p>2256 rows × 4 columns</p>\n",
       "</div>"
      ],
      "text/plain": [
       "      user_id  month  total_call  total_duration_minute\n",
       "0        1000     12          16                    124\n",
       "1        1001      8          22                    182\n",
       "2        1001      9          38                    315\n",
       "3        1001     10          47                    393\n",
       "4        1001     11          49                    426\n",
       "...       ...    ...         ...                    ...\n",
       "2251     1498     12          32                    339\n",
       "2252     1499      9          35                    346\n",
       "2253     1499     10          41                    385\n",
       "2254     1499     11          39                    308\n",
       "2255     1499     12          56                    496\n",
       "\n",
       "[2256 rows x 4 columns]"
      ]
     },
     "execution_count": 42,
     "metadata": {},
     "output_type": "execute_result"
    }
   ],
   "source": [
    "# Calculate the amount of minutes spent by each user per month. Save the result.\n",
    "user_monthly_call_duration = pd.pivot_table(\n",
    "data=calls,\n",
    "index=['user_id','call_month'],\n",
    "values='duration',\n",
    "aggfunc=['count','sum']\n",
    ").reset_index()\n",
    "\n",
    "#Revise the columns \n",
    "user_monthly_call_duration.columns = [\n",
    "    'user_id', 'month','total_call','total_duration_minute'\n",
    "]\n",
    "#Check user_monthly_call_duration \n",
    "user_monthly_call_duration"
   ]
  },
  {
   "cell_type": "code",
   "execution_count": 43,
   "metadata": {
    "trusted": true
   },
   "outputs": [
    {
     "data": {
      "text/html": [
       "<div>\n",
       "<style scoped>\n",
       "    .dataframe tbody tr th:only-of-type {\n",
       "        vertical-align: middle;\n",
       "    }\n",
       "\n",
       "    .dataframe tbody tr th {\n",
       "        vertical-align: top;\n",
       "    }\n",
       "\n",
       "    .dataframe thead th {\n",
       "        text-align: right;\n",
       "    }\n",
       "</style>\n",
       "<table border=\"1\" class=\"dataframe\">\n",
       "  <thead>\n",
       "    <tr style=\"text-align: right;\">\n",
       "      <th></th>\n",
       "      <th>user_id</th>\n",
       "      <th>month</th>\n",
       "      <th>total_message</th>\n",
       "    </tr>\n",
       "  </thead>\n",
       "  <tbody>\n",
       "    <tr>\n",
       "      <th>0</th>\n",
       "      <td>1000</td>\n",
       "      <td>12</td>\n",
       "      <td>11</td>\n",
       "    </tr>\n",
       "    <tr>\n",
       "      <th>1</th>\n",
       "      <td>1001</td>\n",
       "      <td>8</td>\n",
       "      <td>30</td>\n",
       "    </tr>\n",
       "    <tr>\n",
       "      <th>2</th>\n",
       "      <td>1001</td>\n",
       "      <td>9</td>\n",
       "      <td>44</td>\n",
       "    </tr>\n",
       "    <tr>\n",
       "      <th>3</th>\n",
       "      <td>1001</td>\n",
       "      <td>10</td>\n",
       "      <td>53</td>\n",
       "    </tr>\n",
       "    <tr>\n",
       "      <th>4</th>\n",
       "      <td>1001</td>\n",
       "      <td>11</td>\n",
       "      <td>36</td>\n",
       "    </tr>\n",
       "    <tr>\n",
       "      <th>...</th>\n",
       "      <td>...</td>\n",
       "      <td>...</td>\n",
       "      <td>...</td>\n",
       "    </tr>\n",
       "    <tr>\n",
       "      <th>1801</th>\n",
       "      <td>1496</td>\n",
       "      <td>9</td>\n",
       "      <td>21</td>\n",
       "    </tr>\n",
       "    <tr>\n",
       "      <th>1802</th>\n",
       "      <td>1496</td>\n",
       "      <td>10</td>\n",
       "      <td>18</td>\n",
       "    </tr>\n",
       "    <tr>\n",
       "      <th>1803</th>\n",
       "      <td>1496</td>\n",
       "      <td>11</td>\n",
       "      <td>13</td>\n",
       "    </tr>\n",
       "    <tr>\n",
       "      <th>1804</th>\n",
       "      <td>1496</td>\n",
       "      <td>12</td>\n",
       "      <td>11</td>\n",
       "    </tr>\n",
       "    <tr>\n",
       "      <th>1805</th>\n",
       "      <td>1497</td>\n",
       "      <td>12</td>\n",
       "      <td>50</td>\n",
       "    </tr>\n",
       "  </tbody>\n",
       "</table>\n",
       "<p>1806 rows × 3 columns</p>\n",
       "</div>"
      ],
      "text/plain": [
       "      user_id  month  total_message\n",
       "0        1000     12             11\n",
       "1        1001      8             30\n",
       "2        1001      9             44\n",
       "3        1001     10             53\n",
       "4        1001     11             36\n",
       "...       ...    ...            ...\n",
       "1801     1496      9             21\n",
       "1802     1496     10             18\n",
       "1803     1496     11             13\n",
       "1804     1496     12             11\n",
       "1805     1497     12             50\n",
       "\n",
       "[1806 rows x 3 columns]"
      ]
     },
     "execution_count": 43,
     "metadata": {},
     "output_type": "execute_result"
    }
   ],
   "source": [
    "# Calculate the number of messages sent by each user per month. Save the result.\n",
    "user_monthly_message = pd.pivot_table(\n",
    "data = messages,\n",
    "index=['user_id','message_month'],\n",
    "values = 'id',\n",
    "aggfunc = 'count'\n",
    ").reset_index() \n",
    "\n",
    "#Revise columns  \n",
    "user_monthly_message.columns = [\n",
    "    'user_id', 'month','total_message'\n",
    "]\n",
    "#Check on user_monthly_message \n",
    "user_monthly_message"
   ]
  },
  {
   "cell_type": "code",
   "execution_count": 44,
   "metadata": {
    "trusted": true
   },
   "outputs": [
    {
     "data": {
      "text/html": [
       "<div>\n",
       "<style scoped>\n",
       "    .dataframe tbody tr th:only-of-type {\n",
       "        vertical-align: middle;\n",
       "    }\n",
       "\n",
       "    .dataframe tbody tr th {\n",
       "        vertical-align: top;\n",
       "    }\n",
       "\n",
       "    .dataframe thead th {\n",
       "        text-align: right;\n",
       "    }\n",
       "</style>\n",
       "<table border=\"1\" class=\"dataframe\">\n",
       "  <thead>\n",
       "    <tr style=\"text-align: right;\">\n",
       "      <th></th>\n",
       "      <th>user_id</th>\n",
       "      <th>month</th>\n",
       "      <th>total_internet_volume_mb</th>\n",
       "    </tr>\n",
       "  </thead>\n",
       "  <tbody>\n",
       "    <tr>\n",
       "      <th>0</th>\n",
       "      <td>1000</td>\n",
       "      <td>12</td>\n",
       "      <td>1901.47</td>\n",
       "    </tr>\n",
       "    <tr>\n",
       "      <th>1</th>\n",
       "      <td>1001</td>\n",
       "      <td>8</td>\n",
       "      <td>6919.15</td>\n",
       "    </tr>\n",
       "    <tr>\n",
       "      <th>2</th>\n",
       "      <td>1001</td>\n",
       "      <td>9</td>\n",
       "      <td>13314.82</td>\n",
       "    </tr>\n",
       "    <tr>\n",
       "      <th>3</th>\n",
       "      <td>1001</td>\n",
       "      <td>10</td>\n",
       "      <td>22330.49</td>\n",
       "    </tr>\n",
       "    <tr>\n",
       "      <th>4</th>\n",
       "      <td>1001</td>\n",
       "      <td>11</td>\n",
       "      <td>18504.30</td>\n",
       "    </tr>\n",
       "    <tr>\n",
       "      <th>...</th>\n",
       "      <td>...</td>\n",
       "      <td>...</td>\n",
       "      <td>...</td>\n",
       "    </tr>\n",
       "    <tr>\n",
       "      <th>2272</th>\n",
       "      <td>1498</td>\n",
       "      <td>12</td>\n",
       "      <td>23137.69</td>\n",
       "    </tr>\n",
       "    <tr>\n",
       "      <th>2273</th>\n",
       "      <td>1499</td>\n",
       "      <td>9</td>\n",
       "      <td>12984.76</td>\n",
       "    </tr>\n",
       "    <tr>\n",
       "      <th>2274</th>\n",
       "      <td>1499</td>\n",
       "      <td>10</td>\n",
       "      <td>19492.43</td>\n",
       "    </tr>\n",
       "    <tr>\n",
       "      <th>2275</th>\n",
       "      <td>1499</td>\n",
       "      <td>11</td>\n",
       "      <td>16813.83</td>\n",
       "    </tr>\n",
       "    <tr>\n",
       "      <th>2276</th>\n",
       "      <td>1499</td>\n",
       "      <td>12</td>\n",
       "      <td>22059.21</td>\n",
       "    </tr>\n",
       "  </tbody>\n",
       "</table>\n",
       "<p>2277 rows × 3 columns</p>\n",
       "</div>"
      ],
      "text/plain": [
       "      user_id  month  total_internet_volume_mb\n",
       "0        1000     12                   1901.47\n",
       "1        1001      8                   6919.15\n",
       "2        1001      9                  13314.82\n",
       "3        1001     10                  22330.49\n",
       "4        1001     11                  18504.30\n",
       "...       ...    ...                       ...\n",
       "2272     1498     12                  23137.69\n",
       "2273     1499      9                  12984.76\n",
       "2274     1499     10                  19492.43\n",
       "2275     1499     11                  16813.83\n",
       "2276     1499     12                  22059.21\n",
       "\n",
       "[2277 rows x 3 columns]"
      ]
     },
     "execution_count": 44,
     "metadata": {},
     "output_type": "execute_result"
    }
   ],
   "source": [
    "# Calculate the volume of internet traffic used by each user per month. Save the result.\n",
    "user_monthly_internet = pd.pivot_table(\n",
    "    data = internet,\n",
    "    index = ['user_id','session_month'],\n",
    "    values = 'mb_used',\n",
    "    aggfunc = 'sum'\n",
    ").reset_index()\n",
    "\n",
    "#Revising columns \n",
    "user_monthly_internet.columns = [\n",
    "    'user_id','month','total_internet_volume_mb'\n",
    "]\n",
    "#Check user_monthly_internet \n",
    "user_monthly_internet"
   ]
  },
  {
   "cell_type": "code",
   "execution_count": 45,
   "metadata": {
    "trusted": true
   },
   "outputs": [
    {
     "data": {
      "text/html": [
       "<div>\n",
       "<style scoped>\n",
       "    .dataframe tbody tr th:only-of-type {\n",
       "        vertical-align: middle;\n",
       "    }\n",
       "\n",
       "    .dataframe tbody tr th {\n",
       "        vertical-align: top;\n",
       "    }\n",
       "\n",
       "    .dataframe thead th {\n",
       "        text-align: right;\n",
       "    }\n",
       "</style>\n",
       "<table border=\"1\" class=\"dataframe\">\n",
       "  <thead>\n",
       "    <tr style=\"text-align: right;\">\n",
       "      <th></th>\n",
       "      <th>user_id</th>\n",
       "      <th>month</th>\n",
       "      <th>total_internet_volume_gb</th>\n",
       "    </tr>\n",
       "  </thead>\n",
       "  <tbody>\n",
       "    <tr>\n",
       "      <th>0</th>\n",
       "      <td>1000</td>\n",
       "      <td>12</td>\n",
       "      <td>2</td>\n",
       "    </tr>\n",
       "    <tr>\n",
       "      <th>1</th>\n",
       "      <td>1001</td>\n",
       "      <td>8</td>\n",
       "      <td>7</td>\n",
       "    </tr>\n",
       "    <tr>\n",
       "      <th>2</th>\n",
       "      <td>1001</td>\n",
       "      <td>9</td>\n",
       "      <td>14</td>\n",
       "    </tr>\n",
       "    <tr>\n",
       "      <th>3</th>\n",
       "      <td>1001</td>\n",
       "      <td>10</td>\n",
       "      <td>22</td>\n",
       "    </tr>\n",
       "    <tr>\n",
       "      <th>4</th>\n",
       "      <td>1001</td>\n",
       "      <td>11</td>\n",
       "      <td>19</td>\n",
       "    </tr>\n",
       "  </tbody>\n",
       "</table>\n",
       "</div>"
      ],
      "text/plain": [
       "   user_id  month  total_internet_volume_gb\n",
       "0     1000     12                         2\n",
       "1     1001      8                         7\n",
       "2     1001      9                        14\n",
       "3     1001     10                        22\n",
       "4     1001     11                        19"
      ]
     },
     "execution_count": 45,
     "metadata": {},
     "output_type": "execute_result"
    }
   ],
   "source": [
    "#Update the total_internet_volume_mb by dividing by 1024 to get gigabytes and round up to interger & change data type to int64 \n",
    "user_monthly_internet['total_internet_volume_mb'] = (\n",
    "    np.ceil(user_monthly_internet['total_internet_volume_mb'] / 1024).astype('int64')\n",
    ")\n",
    "\n",
    "#Rename total_internet_volume_mb to total_internet_volume_gb\n",
    "user_monthly_internet = user_monthly_internet.rename(\n",
    "    columns = {'total_internet_volume_mb': 'total_internet_volume_gb'},\n",
    ")\n",
    "#Check on user_monthly_internet\n",
    "user_monthly_internet.head()"
   ]
  },
  {
   "cell_type": "markdown",
   "metadata": {},
   "source": [
    "Description: The data has been aggregated and calculations using pivot tables have been made about the following: \n",
    "a. Monthly number of calls per user \n",
    "b. Monthly call duration per user \n",
    "c. Monthly number of messages per user \n",
    "d. Monthly volume of internet traffic used by user \n",
    "In addition, the unit of megabytes has been updated to gigabytes for internet traffic used to ensure continuity for future calculations.  "
   ]
  },
  {
   "cell_type": "markdown",
   "metadata": {},
   "source": [
    "[Put the aggregate data together into one DataFrame so that one record in it would represent what an unique user consumed in a given month.]"
   ]
  },
  {
   "cell_type": "code",
   "execution_count": 46,
   "metadata": {
    "trusted": true
   },
   "outputs": [
    {
     "data": {
      "text/html": [
       "<div>\n",
       "<style scoped>\n",
       "    .dataframe tbody tr th:only-of-type {\n",
       "        vertical-align: middle;\n",
       "    }\n",
       "\n",
       "    .dataframe tbody tr th {\n",
       "        vertical-align: top;\n",
       "    }\n",
       "\n",
       "    .dataframe thead th {\n",
       "        text-align: right;\n",
       "    }\n",
       "</style>\n",
       "<table border=\"1\" class=\"dataframe\">\n",
       "  <thead>\n",
       "    <tr style=\"text-align: right;\">\n",
       "      <th></th>\n",
       "      <th>user_id</th>\n",
       "      <th>first_name</th>\n",
       "      <th>last_name</th>\n",
       "      <th>age</th>\n",
       "      <th>city</th>\n",
       "      <th>reg_date</th>\n",
       "      <th>plan</th>\n",
       "      <th>churn_date</th>\n",
       "      <th>region</th>\n",
       "      <th>reg_year</th>\n",
       "      <th>...</th>\n",
       "      <th>total_message</th>\n",
       "      <th>total_internet_volume_gb</th>\n",
       "      <th>messages_included</th>\n",
       "      <th>gb_per_month_included</th>\n",
       "      <th>minutes_included</th>\n",
       "      <th>usd_monthly_pay</th>\n",
       "      <th>usd_per_gb</th>\n",
       "      <th>usd_per_message</th>\n",
       "      <th>usd_per_minute</th>\n",
       "      <th>plan_name</th>\n",
       "    </tr>\n",
       "  </thead>\n",
       "  <tbody>\n",
       "    <tr>\n",
       "      <th>0</th>\n",
       "      <td>1000</td>\n",
       "      <td>Anamaria</td>\n",
       "      <td>Bauer</td>\n",
       "      <td>45</td>\n",
       "      <td>Atlanta-Sandy Springs-Roswell, GA MSA</td>\n",
       "      <td>2018-12-24</td>\n",
       "      <td>ultimate</td>\n",
       "      <td>NaT</td>\n",
       "      <td>others</td>\n",
       "      <td>2018</td>\n",
       "      <td>...</td>\n",
       "      <td>11.0</td>\n",
       "      <td>2.0</td>\n",
       "      <td>1000</td>\n",
       "      <td>30</td>\n",
       "      <td>3000</td>\n",
       "      <td>70</td>\n",
       "      <td>7</td>\n",
       "      <td>0.01</td>\n",
       "      <td>0.01</td>\n",
       "      <td>ultimate</td>\n",
       "    </tr>\n",
       "    <tr>\n",
       "      <th>1</th>\n",
       "      <td>1001</td>\n",
       "      <td>Mickey</td>\n",
       "      <td>Wilkerson</td>\n",
       "      <td>28</td>\n",
       "      <td>Seattle-Tacoma-Bellevue, WA MSA</td>\n",
       "      <td>2018-08-13</td>\n",
       "      <td>surf</td>\n",
       "      <td>NaT</td>\n",
       "      <td>others</td>\n",
       "      <td>2018</td>\n",
       "      <td>...</td>\n",
       "      <td>30.0</td>\n",
       "      <td>7.0</td>\n",
       "      <td>50</td>\n",
       "      <td>15</td>\n",
       "      <td>500</td>\n",
       "      <td>20</td>\n",
       "      <td>10</td>\n",
       "      <td>0.03</td>\n",
       "      <td>0.03</td>\n",
       "      <td>surf</td>\n",
       "    </tr>\n",
       "    <tr>\n",
       "      <th>2</th>\n",
       "      <td>1001</td>\n",
       "      <td>Mickey</td>\n",
       "      <td>Wilkerson</td>\n",
       "      <td>28</td>\n",
       "      <td>Seattle-Tacoma-Bellevue, WA MSA</td>\n",
       "      <td>2018-08-13</td>\n",
       "      <td>surf</td>\n",
       "      <td>NaT</td>\n",
       "      <td>others</td>\n",
       "      <td>2018</td>\n",
       "      <td>...</td>\n",
       "      <td>44.0</td>\n",
       "      <td>14.0</td>\n",
       "      <td>50</td>\n",
       "      <td>15</td>\n",
       "      <td>500</td>\n",
       "      <td>20</td>\n",
       "      <td>10</td>\n",
       "      <td>0.03</td>\n",
       "      <td>0.03</td>\n",
       "      <td>surf</td>\n",
       "    </tr>\n",
       "    <tr>\n",
       "      <th>3</th>\n",
       "      <td>1001</td>\n",
       "      <td>Mickey</td>\n",
       "      <td>Wilkerson</td>\n",
       "      <td>28</td>\n",
       "      <td>Seattle-Tacoma-Bellevue, WA MSA</td>\n",
       "      <td>2018-08-13</td>\n",
       "      <td>surf</td>\n",
       "      <td>NaT</td>\n",
       "      <td>others</td>\n",
       "      <td>2018</td>\n",
       "      <td>...</td>\n",
       "      <td>53.0</td>\n",
       "      <td>22.0</td>\n",
       "      <td>50</td>\n",
       "      <td>15</td>\n",
       "      <td>500</td>\n",
       "      <td>20</td>\n",
       "      <td>10</td>\n",
       "      <td>0.03</td>\n",
       "      <td>0.03</td>\n",
       "      <td>surf</td>\n",
       "    </tr>\n",
       "    <tr>\n",
       "      <th>4</th>\n",
       "      <td>1001</td>\n",
       "      <td>Mickey</td>\n",
       "      <td>Wilkerson</td>\n",
       "      <td>28</td>\n",
       "      <td>Seattle-Tacoma-Bellevue, WA MSA</td>\n",
       "      <td>2018-08-13</td>\n",
       "      <td>surf</td>\n",
       "      <td>NaT</td>\n",
       "      <td>others</td>\n",
       "      <td>2018</td>\n",
       "      <td>...</td>\n",
       "      <td>36.0</td>\n",
       "      <td>19.0</td>\n",
       "      <td>50</td>\n",
       "      <td>15</td>\n",
       "      <td>500</td>\n",
       "      <td>20</td>\n",
       "      <td>10</td>\n",
       "      <td>0.03</td>\n",
       "      <td>0.03</td>\n",
       "      <td>surf</td>\n",
       "    </tr>\n",
       "    <tr>\n",
       "      <th>...</th>\n",
       "      <td>...</td>\n",
       "      <td>...</td>\n",
       "      <td>...</td>\n",
       "      <td>...</td>\n",
       "      <td>...</td>\n",
       "      <td>...</td>\n",
       "      <td>...</td>\n",
       "      <td>...</td>\n",
       "      <td>...</td>\n",
       "      <td>...</td>\n",
       "      <td>...</td>\n",
       "      <td>...</td>\n",
       "      <td>...</td>\n",
       "      <td>...</td>\n",
       "      <td>...</td>\n",
       "      <td>...</td>\n",
       "      <td>...</td>\n",
       "      <td>...</td>\n",
       "      <td>...</td>\n",
       "      <td>...</td>\n",
       "      <td>...</td>\n",
       "    </tr>\n",
       "    <tr>\n",
       "      <th>2270</th>\n",
       "      <td>1498</td>\n",
       "      <td>Scot</td>\n",
       "      <td>Williamson</td>\n",
       "      <td>51</td>\n",
       "      <td>New York-Newark-Jersey City, NY-NJ-PA MSA</td>\n",
       "      <td>2018-02-04</td>\n",
       "      <td>surf</td>\n",
       "      <td>NaT</td>\n",
       "      <td>NY-NJ</td>\n",
       "      <td>2018</td>\n",
       "      <td>...</td>\n",
       "      <td>0.0</td>\n",
       "      <td>23.0</td>\n",
       "      <td>50</td>\n",
       "      <td>15</td>\n",
       "      <td>500</td>\n",
       "      <td>20</td>\n",
       "      <td>10</td>\n",
       "      <td>0.03</td>\n",
       "      <td>0.03</td>\n",
       "      <td>surf</td>\n",
       "    </tr>\n",
       "    <tr>\n",
       "      <th>2271</th>\n",
       "      <td>1499</td>\n",
       "      <td>Shena</td>\n",
       "      <td>Dickson</td>\n",
       "      <td>37</td>\n",
       "      <td>Orlando-Kissimmee-Sanford, FL MSA</td>\n",
       "      <td>2018-05-06</td>\n",
       "      <td>surf</td>\n",
       "      <td>NaT</td>\n",
       "      <td>others</td>\n",
       "      <td>2018</td>\n",
       "      <td>...</td>\n",
       "      <td>0.0</td>\n",
       "      <td>13.0</td>\n",
       "      <td>50</td>\n",
       "      <td>15</td>\n",
       "      <td>500</td>\n",
       "      <td>20</td>\n",
       "      <td>10</td>\n",
       "      <td>0.03</td>\n",
       "      <td>0.03</td>\n",
       "      <td>surf</td>\n",
       "    </tr>\n",
       "    <tr>\n",
       "      <th>2272</th>\n",
       "      <td>1499</td>\n",
       "      <td>Shena</td>\n",
       "      <td>Dickson</td>\n",
       "      <td>37</td>\n",
       "      <td>Orlando-Kissimmee-Sanford, FL MSA</td>\n",
       "      <td>2018-05-06</td>\n",
       "      <td>surf</td>\n",
       "      <td>NaT</td>\n",
       "      <td>others</td>\n",
       "      <td>2018</td>\n",
       "      <td>...</td>\n",
       "      <td>0.0</td>\n",
       "      <td>20.0</td>\n",
       "      <td>50</td>\n",
       "      <td>15</td>\n",
       "      <td>500</td>\n",
       "      <td>20</td>\n",
       "      <td>10</td>\n",
       "      <td>0.03</td>\n",
       "      <td>0.03</td>\n",
       "      <td>surf</td>\n",
       "    </tr>\n",
       "    <tr>\n",
       "      <th>2273</th>\n",
       "      <td>1499</td>\n",
       "      <td>Shena</td>\n",
       "      <td>Dickson</td>\n",
       "      <td>37</td>\n",
       "      <td>Orlando-Kissimmee-Sanford, FL MSA</td>\n",
       "      <td>2018-05-06</td>\n",
       "      <td>surf</td>\n",
       "      <td>NaT</td>\n",
       "      <td>others</td>\n",
       "      <td>2018</td>\n",
       "      <td>...</td>\n",
       "      <td>0.0</td>\n",
       "      <td>17.0</td>\n",
       "      <td>50</td>\n",
       "      <td>15</td>\n",
       "      <td>500</td>\n",
       "      <td>20</td>\n",
       "      <td>10</td>\n",
       "      <td>0.03</td>\n",
       "      <td>0.03</td>\n",
       "      <td>surf</td>\n",
       "    </tr>\n",
       "    <tr>\n",
       "      <th>2274</th>\n",
       "      <td>1499</td>\n",
       "      <td>Shena</td>\n",
       "      <td>Dickson</td>\n",
       "      <td>37</td>\n",
       "      <td>Orlando-Kissimmee-Sanford, FL MSA</td>\n",
       "      <td>2018-05-06</td>\n",
       "      <td>surf</td>\n",
       "      <td>NaT</td>\n",
       "      <td>others</td>\n",
       "      <td>2018</td>\n",
       "      <td>...</td>\n",
       "      <td>0.0</td>\n",
       "      <td>22.0</td>\n",
       "      <td>50</td>\n",
       "      <td>15</td>\n",
       "      <td>500</td>\n",
       "      <td>20</td>\n",
       "      <td>10</td>\n",
       "      <td>0.03</td>\n",
       "      <td>0.03</td>\n",
       "      <td>surf</td>\n",
       "    </tr>\n",
       "  </tbody>\n",
       "</table>\n",
       "<p>2275 rows × 26 columns</p>\n",
       "</div>"
      ],
      "text/plain": [
       "      user_id first_name   last_name  age  \\\n",
       "0        1000   Anamaria       Bauer   45   \n",
       "1        1001     Mickey   Wilkerson   28   \n",
       "2        1001     Mickey   Wilkerson   28   \n",
       "3        1001     Mickey   Wilkerson   28   \n",
       "4        1001     Mickey   Wilkerson   28   \n",
       "...       ...        ...         ...  ...   \n",
       "2270     1498       Scot  Williamson   51   \n",
       "2271     1499      Shena     Dickson   37   \n",
       "2272     1499      Shena     Dickson   37   \n",
       "2273     1499      Shena     Dickson   37   \n",
       "2274     1499      Shena     Dickson   37   \n",
       "\n",
       "                                           city   reg_date      plan  \\\n",
       "0         Atlanta-Sandy Springs-Roswell, GA MSA 2018-12-24  ultimate   \n",
       "1               Seattle-Tacoma-Bellevue, WA MSA 2018-08-13      surf   \n",
       "2               Seattle-Tacoma-Bellevue, WA MSA 2018-08-13      surf   \n",
       "3               Seattle-Tacoma-Bellevue, WA MSA 2018-08-13      surf   \n",
       "4               Seattle-Tacoma-Bellevue, WA MSA 2018-08-13      surf   \n",
       "...                                         ...        ...       ...   \n",
       "2270  New York-Newark-Jersey City, NY-NJ-PA MSA 2018-02-04      surf   \n",
       "2271          Orlando-Kissimmee-Sanford, FL MSA 2018-05-06      surf   \n",
       "2272          Orlando-Kissimmee-Sanford, FL MSA 2018-05-06      surf   \n",
       "2273          Orlando-Kissimmee-Sanford, FL MSA 2018-05-06      surf   \n",
       "2274          Orlando-Kissimmee-Sanford, FL MSA 2018-05-06      surf   \n",
       "\n",
       "     churn_date  region  reg_year  ...  total_message  \\\n",
       "0           NaT  others      2018  ...           11.0   \n",
       "1           NaT  others      2018  ...           30.0   \n",
       "2           NaT  others      2018  ...           44.0   \n",
       "3           NaT  others      2018  ...           53.0   \n",
       "4           NaT  others      2018  ...           36.0   \n",
       "...         ...     ...       ...  ...            ...   \n",
       "2270        NaT   NY-NJ      2018  ...            0.0   \n",
       "2271        NaT  others      2018  ...            0.0   \n",
       "2272        NaT  others      2018  ...            0.0   \n",
       "2273        NaT  others      2018  ...            0.0   \n",
       "2274        NaT  others      2018  ...            0.0   \n",
       "\n",
       "      total_internet_volume_gb  messages_included  gb_per_month_included  \\\n",
       "0                          2.0               1000                     30   \n",
       "1                          7.0                 50                     15   \n",
       "2                         14.0                 50                     15   \n",
       "3                         22.0                 50                     15   \n",
       "4                         19.0                 50                     15   \n",
       "...                        ...                ...                    ...   \n",
       "2270                      23.0                 50                     15   \n",
       "2271                      13.0                 50                     15   \n",
       "2272                      20.0                 50                     15   \n",
       "2273                      17.0                 50                     15   \n",
       "2274                      22.0                 50                     15   \n",
       "\n",
       "      minutes_included  usd_monthly_pay  usd_per_gb  usd_per_message  \\\n",
       "0                 3000               70           7             0.01   \n",
       "1                  500               20          10             0.03   \n",
       "2                  500               20          10             0.03   \n",
       "3                  500               20          10             0.03   \n",
       "4                  500               20          10             0.03   \n",
       "...                ...              ...         ...              ...   \n",
       "2270               500               20          10             0.03   \n",
       "2271               500               20          10             0.03   \n",
       "2272               500               20          10             0.03   \n",
       "2273               500               20          10             0.03   \n",
       "2274               500               20          10             0.03   \n",
       "\n",
       "      usd_per_minute  plan_name  \n",
       "0               0.01   ultimate  \n",
       "1               0.03       surf  \n",
       "2               0.03       surf  \n",
       "3               0.03       surf  \n",
       "4               0.03       surf  \n",
       "...              ...        ...  \n",
       "2270            0.03       surf  \n",
       "2271            0.03       surf  \n",
       "2272            0.03       surf  \n",
       "2273            0.03       surf  \n",
       "2274            0.03       surf  \n",
       "\n",
       "[2275 rows x 26 columns]"
      ]
     },
     "execution_count": 46,
     "metadata": {},
     "output_type": "execute_result"
    }
   ],
   "source": [
    "# Merge the data for calls, minutes, messages, internet based on user_id and month & plans \n",
    "user_monthly_data = users.merge(user_monthly_call_duration, \n",
    "                                on='user_id', \n",
    "                                how='left'\n",
    ")\n",
    "\n",
    "user_monthly_data = user_monthly_data.merge(user_monthly_message, \n",
    "                                             on=['user_id', 'month'], \n",
    "                                             how='left'\n",
    ")\n",
    "\n",
    "user_monthly_data = user_monthly_data.merge(user_monthly_internet,\n",
    "                                            on=['user_id', 'month'],  \n",
    "                                            how='left'\n",
    ")\n",
    "\n",
    "user_monthly_data.fillna({'total_duration_minute': 0, 'total_message': 0, 'total_internet_volume_gb': 0}, inplace=True)\n",
    "\n",
    "user_monthly_data = user_monthly_data.merge(plans, left_on='plan', right_on='plan_name', how='left')\n",
    "\n",
    "#Check user_monthly_data \n",
    "user_monthly_data.columns \n",
    "\n",
    "#Check again \n",
    "user_monthly_data"
   ]
  },
  {
   "cell_type": "markdown",
   "metadata": {},
   "source": [
    "Description: A single Dataframe was created via aggregating data to ensure that each record reflects the consumption of an unique user for a specified month. "
   ]
  },
  {
   "cell_type": "markdown",
   "metadata": {},
   "source": [
    "[Calculate the monthly revenue from each user (subtract the free package limit from the total number of calls, text messages, and data; multiply the result by the calling plan value; add the monthly charge depending on the calling plan). N.B. This might not be as trivial as just a couple of lines given the plan conditions! So, it's okay to spend some time on it.]"
   ]
  },
  {
   "cell_type": "code",
   "execution_count": 47,
   "metadata": {
    "trusted": true
   },
   "outputs": [
    {
     "data": {
      "text/plain": [
       "Index(['user_id', 'first_name', 'last_name', 'age', 'city', 'reg_date', 'plan',\n",
       "       'churn_date', 'region', 'reg_year', 'reg_month', 'churn_year',\n",
       "       'churn_month', 'month', 'total_call', 'total_duration_minute',\n",
       "       'total_message', 'total_internet_volume_gb', 'messages_included',\n",
       "       'gb_per_month_included', 'minutes_included', 'usd_monthly_pay',\n",
       "       'usd_per_gb', 'usd_per_message', 'usd_per_minute', 'plan_name',\n",
       "       'monthly_revenue_calculation'],\n",
       "      dtype='object')"
      ]
     },
     "execution_count": 47,
     "metadata": {},
     "output_type": "execute_result"
    }
   ],
   "source": [
    "# Calculate the monthly revenue for each user\n",
    "def revenue_calc(row): \n",
    "    \n",
    "    total_duration_minute = row['total_duration_minute']\n",
    "    minutes_included = row['minutes_included']\n",
    "    usd_per_minute = row['usd_per_minute']\n",
    "    \n",
    "    total_message = row['total_message']\n",
    "    messages_included = row['messages_included']\n",
    "    usd_per_message = row['usd_per_message'] \n",
    "    \n",
    "    total_internet_volume_gb = row['total_internet_volume_gb']\n",
    "    gb_per_month_included = row['gb_per_month_included']\n",
    "    usd_per_gb = row['usd_per_gb']\n",
    "    \n",
    "    usd_monthly_pay = row['usd_monthly_pay']\n",
    "    \n",
    "#Check if greater than 0 for extra minutes, messages, internet \n",
    "    minutes_overage = max(total_duration_minute - minutes_included, 0) \n",
    "    message_overage = max(total_message - messages_included, 0)\n",
    "    internet_overage = max(total_internet_volume_gb - gb_per_month_included, 0)\n",
    "\n",
    "#Calculate revenue\n",
    "    revenue_calculation = (minutes_overage * usd_per_minute) + (message_overage * usd_per_message) + (internet_overage * usd_per_gb) + usd_monthly_pay\n",
    "\n",
    "    return revenue_calculation \n",
    "\n",
    "# Check on revenue_calculation\n",
    "user_monthly_data['monthly_revenue_calculation'] = user_monthly_data.apply(revenue_calc, axis = 1)\n",
    "\n",
    "user_monthly_data.columns\n",
    "\n",
    "\n",
    "\n"
   ]
  },
  {
   "cell_type": "markdown",
   "metadata": {},
   "source": [
    "Description: A row level function was applied to calculate the monthly revenue from each user. This will be paramount in are statistical analysis."
   ]
  },
  {
   "cell_type": "markdown",
   "metadata": {},
   "source": [
    "<div class=\"alert alert-block alert-success\">✔️\n",
    "    \n",
    "\n",
    "__Reviewer's comment №2__\n",
    "\n",
    "Creat code"
   ]
  },
  {
   "cell_type": "markdown",
   "metadata": {},
   "source": [
    "## Study user behaviour"
   ]
  },
  {
   "cell_type": "markdown",
   "metadata": {},
   "source": [
    "[Calculate some useful descriptive statistics for the aggregated and merged data, which typically reveal an overall picture captured by the data. Draw useful plots to help the understanding. Given that the main task is to compare the plans and decide on which one is more profitable, the statistics and the plots should be calculated on a per-plan basis.]\n",
    "\n",
    "[There are relevant hints in the comments for Calls but they are not provided for Messages and Internet though the principle of statistical study is the same for them as for Calls.]"
   ]
  },
  {
   "cell_type": "markdown",
   "metadata": {},
   "source": [
    "### Calls"
   ]
  },
  {
   "cell_type": "code",
   "execution_count": 48,
   "metadata": {
    "trusted": true
   },
   "outputs": [
    {
     "data": {
      "image/png": "[encoded data removed]",
      "text/plain": [
       "<Figure size 1000x600 with 1 Axes>"
      ]
     },
     "metadata": {},
     "output_type": "display_data"
    }
   ],
   "source": [
    "# Compare average duration of calls per each plan per each distinct month. Plot a bar plot to visualize it.\n",
    "mean_duration = user_monthly_data.groupby(['plan','month'])['total_duration_minute'].mean().reset_index()\n",
    "\n",
    "plt.figure(figsize=(10,6))\n",
    "sns.barplot(data=mean_duration, x='month', y='total_duration_minute' ,hue='plan')\n",
    "plt.title('Average Duration of Calls Per Plan for Each Month')\n",
    "plt.xlabel('Month')\n",
    "plt.ylabel('Average Call Duration (minutes)')\n",
    "plt.legend(title='Plan')\n",
    "plt.show()\n"
   ]
  },
  {
   "cell_type": "code",
   "execution_count": 49,
   "metadata": {
    "trusted": true
   },
   "outputs": [
    {
     "data": {
      "image/png": "[encoded data removed]",
      "text/plain": [
       "<Figure size 1000x600 with 1 Axes>"
      ]
     },
     "metadata": {},
     "output_type": "display_data"
    }
   ],
   "source": [
    "# Compare the number of minutes users of each plan require each month. Plot a histogram.\n",
    "\n",
    "plt.figure(figsize =(10,6))\n",
    "\n",
    "#plot histogram \n",
    "sns.histplot(mean_duration, x='total_duration_minute', hue='plan', multiple = 'stack', bins=12, legend = True, alpha=0.5)\n",
    "\n",
    "plt.title('Number of Minutes Users Of Each Plan Require Each Month')\n",
    "plt.xlabel('Minutes')\n",
    "plt.ylabel('Frequency')\n",
    "plt.show()"
   ]
  },
  {
   "cell_type": "markdown",
   "metadata": {},
   "source": [
    "[Calculate the mean and the variable of the call duration to reason on whether users on the different plans have different behaviours for their calls.]"
   ]
  },
  {
   "cell_type": "code",
   "execution_count": 50,
   "metadata": {
    "trusted": true
   },
   "outputs": [
    {
     "data": {
      "text/html": [
       "<div>\n",
       "<style scoped>\n",
       "    .dataframe tbody tr th:only-of-type {\n",
       "        vertical-align: middle;\n",
       "    }\n",
       "\n",
       "    .dataframe tbody tr th {\n",
       "        vertical-align: top;\n",
       "    }\n",
       "\n",
       "    .dataframe thead th {\n",
       "        text-align: right;\n",
       "    }\n",
       "</style>\n",
       "<table border=\"1\" class=\"dataframe\">\n",
       "  <thead>\n",
       "    <tr style=\"text-align: right;\">\n",
       "      <th></th>\n",
       "      <th>plan</th>\n",
       "      <th>mean</th>\n",
       "      <th>var</th>\n",
       "    </tr>\n",
       "  </thead>\n",
       "  <tbody>\n",
       "    <tr>\n",
       "      <th>0</th>\n",
       "      <td>surf</td>\n",
       "      <td>433.155427</td>\n",
       "      <td>53623.838295</td>\n",
       "    </tr>\n",
       "    <tr>\n",
       "      <th>1</th>\n",
       "      <td>ultimate</td>\n",
       "      <td>431.649025</td>\n",
       "      <td>57487.536338</td>\n",
       "    </tr>\n",
       "  </tbody>\n",
       "</table>\n",
       "</div>"
      ],
      "text/plain": [
       "       plan        mean           var\n",
       "0      surf  433.155427  53623.838295\n",
       "1  ultimate  431.649025  57487.536338"
      ]
     },
     "execution_count": 50,
     "metadata": {},
     "output_type": "execute_result"
    }
   ],
   "source": [
    "# Calculate the mean and the variance of the monthly call duration\n",
    "monthly_call_duration_stats = user_monthly_data.groupby('plan')['total_duration_minute'].agg(['mean','var']).reset_index()\n",
    "\n",
    "#Check on monthly_call_duration_stats \n",
    "monthly_call_duration_stats"
   ]
  },
  {
   "cell_type": "code",
   "execution_count": 51,
   "metadata": {
    "trusted": true
   },
   "outputs": [
    {
     "data": {
      "image/png": "[encoded data removed]",
      "text/plain": [
       "<Figure size 1000x600 with 1 Axes>"
      ]
     },
     "metadata": {},
     "output_type": "display_data"
    }
   ],
   "source": [
    "# Plot a boxplot to visualize the distribution of the monthly call duration\n",
    "\n",
    "plt.figure(figsize=(10,6))\n",
    "sns.boxplot(data=mean_duration,x='plan', y='total_duration_minute')\n",
    "plt.title('Distribution of the Monthly Call Duration') \n",
    "plt.xlabel('Plan')\n",
    "plt.ylabel('Call Duration(minutes)')\n",
    "plt.show()"
   ]
  },
  {
   "cell_type": "markdown",
   "metadata": {},
   "source": [
    "Conclusion: The mean and varaiance for both plans are very similar. When examining the bar graph it becomes apparent the average duration of calls over a twelve month period are fairly similar. Moreover, the histogram shows the distribution of data is fairly similar. However, it becomes apparent from the histogram that surf users have a slightly longer call duration as opposed to those on the ultimate plan. In examining the boxplot it becomes clear that surf users have a slightly longer call duration. The variation of the call duration for those on the surf plans tends to be slightly higher than the median for those on the ultimate plan based on the boxplot. Therefore, it is safe to conclude that surf users tend to have a slightly longer call duration. "
   ]
  },
  {
   "cell_type": "markdown",
   "metadata": {},
   "source": [
    "<div class=\"alert alert-block alert-success\">✔️\n",
    "    \n",
    "\n",
    "__Reviewer's comment №1__\n",
    "\n",
    "Great visualization"
   ]
  },
  {
   "cell_type": "markdown",
   "metadata": {},
   "source": [
    "[Formulate conclusions on how the users behave in terms of calling. Is their behaviour different between the plans?]"
   ]
  },
  {
   "cell_type": "markdown",
   "metadata": {},
   "source": [
    " "
   ]
  },
  {
   "cell_type": "markdown",
   "metadata": {},
   "source": [
    "### Messages"
   ]
  },
  {
   "cell_type": "code",
   "execution_count": 52,
   "metadata": {
    "trusted": true
   },
   "outputs": [
    {
     "data": {
      "image/png": "[encoded data removed]",
      "text/plain": [
       "<Figure size 1000x600 with 1 Axes>"
      ]
     },
     "metadata": {},
     "output_type": "display_data"
    }
   ],
   "source": [
    "# Compare the number of messages users of each plan tend to send each month\n",
    "\n",
    "mean_messages = user_monthly_data.groupby(['plan','month'])['total_message'].mean().reset_index()\n",
    "\n",
    "plt.figure(figsize=(10,6))\n",
    "sns.barplot(data=mean_messages, x='month', y='total_message', hue='plan')\n",
    "plt.title('Average Number of Messages Sent Per Plan for Each Month')\n",
    "plt.xlabel('Month')\n",
    "plt.ylabel('Average Messages')\n",
    "plt.legend(title='Plan')\n",
    "plt.show()"
   ]
  },
  {
   "cell_type": "markdown",
   "metadata": {},
   "source": [
    "Conclusion: The number of messages sent increases for both plans over twelve months. However, those on the ultimate plan sent more messages, than those on the surf plan. "
   ]
  },
  {
   "cell_type": "code",
   "execution_count": 53,
   "metadata": {
    "trusted": true
   },
   "outputs": [
    {
     "data": {
      "image/png": "[encoded data removed]",
      "text/plain": [
       "<Figure size 1000x600 with 1 Axes>"
      ]
     },
     "metadata": {},
     "output_type": "display_data"
    }
   ],
   "source": [
    "# Compare the amount of internet traffic consumed by users per plan\n",
    "mean_internet_consumption = user_monthly_data.groupby(['plan','month'])['total_internet_volume_gb'].mean().reset_index()\n",
    "\n",
    "plt.figure(figsize=(10,6))\n",
    "sns.barplot(data= mean_internet_consumption, x='month', y='total_internet_volume_gb', hue='plan')\n",
    "plt.title('Average Internet Consumption Per Plan for Each Month')\n",
    "plt.xlabel('Month')\n",
    "plt.ylabel('Average Internet Consumption (GB)')\n",
    "plt.legend(title='Plan')\n",
    "plt.show()\n"
   ]
  },
  {
   "cell_type": "markdown",
   "metadata": {},
   "source": [
    "Conclusion: Again, both plan users expereince an increase over the twelve months. However, those using the ultimate plan appear to use more internet on average with a peak occuring during months 2 and 3. "
   ]
  },
  {
   "cell_type": "markdown",
   "metadata": {},
   "source": [
    "[Formulate conclusions on how the users behave in terms of messaging. Is their behaviour different between the plans?]"
   ]
  },
  {
   "cell_type": "markdown",
   "metadata": {},
   "source": [
    " "
   ]
  },
  {
   "cell_type": "markdown",
   "metadata": {},
   "source": [
    "### Internet"
   ]
  },
  {
   "cell_type": "code",
   "execution_count": 54,
   "metadata": {
    "trusted": true
   },
   "outputs": [
    {
     "data": {
      "image/png": "[encoded data removed]",
      "text/plain": [
       "<Figure size 1000x600 with 1 Axes>"
      ]
     },
     "metadata": {},
     "output_type": "display_data"
    }
   ],
   "source": [
    "# Compare the amount of internet traffic consumed by users per plan. Plot a histogram.\n",
    "\n",
    "plt.figure(figsize =(10,6))\n",
    "\n",
    "#plot histogram \n",
    "sns.histplot(mean_internet_consumption, x='total_internet_volume_gb', hue='plan', multiple = 'stack', bins=12, legend = True)\n",
    "\n",
    "plt.title('Average Amount of Internet Consumption by Users Per Plan')\n",
    "plt.xlabel('Average Internet Consumption (GB)')\n",
    "plt.ylabel('Frequency')\n",
    "plt.show()"
   ]
  },
  {
   "cell_type": "code",
   "execution_count": 55,
   "metadata": {
    "trusted": true
   },
   "outputs": [
    {
     "data": {
      "text/html": [
       "<div>\n",
       "<style scoped>\n",
       "    .dataframe tbody tr th:only-of-type {\n",
       "        vertical-align: middle;\n",
       "    }\n",
       "\n",
       "    .dataframe tbody tr th {\n",
       "        vertical-align: top;\n",
       "    }\n",
       "\n",
       "    .dataframe thead th {\n",
       "        text-align: right;\n",
       "    }\n",
       "</style>\n",
       "<table border=\"1\" class=\"dataframe\">\n",
       "  <thead>\n",
       "    <tr style=\"text-align: right;\">\n",
       "      <th></th>\n",
       "      <th>plan</th>\n",
       "      <th>mean</th>\n",
       "      <th>var</th>\n",
       "    </tr>\n",
       "  </thead>\n",
       "  <tbody>\n",
       "    <tr>\n",
       "      <th>0</th>\n",
       "      <td>surf</td>\n",
       "      <td>16.490687</td>\n",
       "      <td>60.800202</td>\n",
       "    </tr>\n",
       "    <tr>\n",
       "      <th>1</th>\n",
       "      <td>ultimate</td>\n",
       "      <td>17.247911</td>\n",
       "      <td>59.193685</td>\n",
       "    </tr>\n",
       "  </tbody>\n",
       "</table>\n",
       "</div>"
      ],
      "text/plain": [
       "       plan       mean        var\n",
       "0      surf  16.490687  60.800202\n",
       "1  ultimate  17.247911  59.193685"
      ]
     },
     "execution_count": 55,
     "metadata": {},
     "output_type": "execute_result"
    }
   ],
   "source": [
    "# Calculate the mean and the variance of the amount of internet traffic consumed by users per plan\n",
    "monthly_internet_consumption_stats = user_monthly_data.groupby('plan')['total_internet_volume_gb'].agg(['mean','var']).reset_index()\n",
    "\n",
    "\n",
    "#Check on monthly_internet_consumption_stats \n",
    "monthly_internet_consumption_stats"
   ]
  },
  {
   "cell_type": "code",
   "execution_count": 56,
   "metadata": {
    "trusted": true
   },
   "outputs": [
    {
     "data": {
      "image/png": "[encoded data removed]",
      "text/plain": [
       "<Figure size 1000x600 with 1 Axes>"
      ]
     },
     "metadata": {},
     "output_type": "display_data"
    }
   ],
   "source": [
    "# Plot a boxplot to visualize the distribution \n",
    "plt.figure(figsize=(10,6))\n",
    "sns.boxplot(data=mean_internet_consumption, x='plan', y='total_internet_volume_gb')\n",
    "plt.title('Distribution of the Monthly Internet Consumption') \n",
    "plt.xlabel('Plan')\n",
    "plt.ylabel('Internet Consumption(GB)')\n",
    "plt.show()"
   ]
  },
  {
   "cell_type": "markdown",
   "metadata": {},
   "source": [
    "Conclusion: In examining the internet consumption data it becomes clear that their is only a slightly higher usage from those on the ultimate plan as opposed to the surf plan. The histogram shows that the distribution of the data is fairly similar and this conclusion is further reiterated by the calculation of variance. When examining the boxplot an interesting trend emerges as it illustrates the median usage by the ultimate plan users is slightly higher with less of a spread than, the surf plan users. "
   ]
  },
  {
   "cell_type": "markdown",
   "metadata": {},
   "source": [
    "[Formulate conclusions on how the users tend to consume the internet traffic? Is their behaviour different between the plans?]"
   ]
  },
  {
   "cell_type": "markdown",
   "metadata": {},
   "source": [
    " "
   ]
  },
  {
   "cell_type": "markdown",
   "metadata": {},
   "source": [
    "## Revenue"
   ]
  },
  {
   "cell_type": "markdown",
   "metadata": {},
   "source": [
    "[Likewise you have studied the user behaviour, statistically describe the revenue between the plans.]"
   ]
  },
  {
   "cell_type": "code",
   "execution_count": 57,
   "metadata": {
    "trusted": true
   },
   "outputs": [
    {
     "data": {
      "image/png": "[encoded data removed]",
      "text/plain": [
       "<Figure size 1000x600 with 1 Axes>"
      ]
     },
     "metadata": {},
     "output_type": "display_data"
    }
   ],
   "source": [
    "# Compare average revenue per each plan per each distinct month. Plot a bar plot to visualize it.\n",
    "mean_revenue = user_monthly_data.groupby(['plan','month'])['monthly_revenue_calculation'].mean().reset_index()\n",
    "\n",
    "plt.figure(figsize=(10,6))\n",
    "sns.barplot(data= mean_revenue, x='month', y='monthly_revenue_calculation', hue='plan')\n",
    "plt.title('Average Revenue Per Plan for Each Month')\n",
    "plt.xlabel('Month')\n",
    "plt.ylabel('Average Revenue (USD)')\n",
    "plt.legend(title='Plan')\n",
    "plt.show()\n"
   ]
  },
  {
   "cell_type": "code",
   "execution_count": 58,
   "metadata": {
    "trusted": true
   },
   "outputs": [
    {
     "data": {
      "image/png": "[encoded data removed]",
      "text/plain": [
       "<Figure size 1000x600 with 1 Axes>"
      ]
     },
     "metadata": {},
     "output_type": "display_data"
    }
   ],
   "source": [
    "# Compare the average revenue per each plan per each distinct month. Plot a histogram.\n",
    "\n",
    "plt.figure(figsize =(10,6))\n",
    "\n",
    "#plot histogram \n",
    "sns.histplot(mean_revenue, x='monthly_revenue_calculation', hue='plan', multiple = 'stack', bins=12, legend = True)\n",
    "\n",
    "plt.title('Average Revenue Per Plan Per Each Distinct Month')\n",
    "plt.xlabel('Average Revenue (USD)')\n",
    "plt.ylabel('Frequency')\n",
    "plt.show()"
   ]
  },
  {
   "cell_type": "code",
   "execution_count": 59,
   "metadata": {
    "trusted": true
   },
   "outputs": [
    {
     "data": {
      "text/html": [
       "<div>\n",
       "<style scoped>\n",
       "    .dataframe tbody tr th:only-of-type {\n",
       "        vertical-align: middle;\n",
       "    }\n",
       "\n",
       "    .dataframe tbody tr th {\n",
       "        vertical-align: top;\n",
       "    }\n",
       "\n",
       "    .dataframe thead th {\n",
       "        text-align: right;\n",
       "    }\n",
       "</style>\n",
       "<table border=\"1\" class=\"dataframe\">\n",
       "  <thead>\n",
       "    <tr style=\"text-align: right;\">\n",
       "      <th></th>\n",
       "      <th>plan</th>\n",
       "      <th>mean</th>\n",
       "      <th>var</th>\n",
       "    </tr>\n",
       "  </thead>\n",
       "  <tbody>\n",
       "    <tr>\n",
       "      <th>0</th>\n",
       "      <td>surf</td>\n",
       "      <td>59.816262</td>\n",
       "      <td>2856.038088</td>\n",
       "    </tr>\n",
       "    <tr>\n",
       "      <th>1</th>\n",
       "      <td>ultimate</td>\n",
       "      <td>72.261838</td>\n",
       "      <td>128.003869</td>\n",
       "    </tr>\n",
       "  </tbody>\n",
       "</table>\n",
       "</div>"
      ],
      "text/plain": [
       "       plan       mean          var\n",
       "0      surf  59.816262  2856.038088\n",
       "1  ultimate  72.261838   128.003869"
      ]
     },
     "execution_count": 59,
     "metadata": {},
     "output_type": "execute_result"
    }
   ],
   "source": [
    "# Calculate the mean and the variance of the amount of internet traffic consumed by users per plan\n",
    "revenue_stats = user_monthly_data.groupby('plan')['monthly_revenue_calculation'].agg(['mean','var']).reset_index()\n",
    "\n",
    "\n",
    "#Check on monthly_internet_consumption_stats \n",
    "revenue_stats"
   ]
  },
  {
   "cell_type": "code",
   "execution_count": 60,
   "metadata": {
    "trusted": true
   },
   "outputs": [
    {
     "data": {
      "image/png": "[encoded data removed]",
      "text/plain": [
       "<Figure size 1000x600 with 1 Axes>"
      ]
     },
     "metadata": {},
     "output_type": "display_data"
    }
   ],
   "source": [
    "# Plot a boxplot to visualize the distribution \n",
    "plt.figure(figsize=(10,6))\n",
    "sns.boxplot(data=mean_revenue, x='plan', y='monthly_revenue_calculation')\n",
    "plt.title('Distribution of the Monthly Revenue Per Plan') \n",
    "plt.xlabel('Plan')\n",
    "plt.ylabel('Revenue (USD)')\n",
    "plt.show()"
   ]
  },
  {
   "cell_type": "markdown",
   "metadata": {},
   "source": [
    "Conclusion: In examining the data trends shown in the histogram, calculation of the mean, calculation of the variance and the boxplot it is apparent that ultimate plan users generated more revenue than the surf plan users. Although, the distribution and spread of the data for the surf plan users shows their is more of a variation in usage than, the ultimate plan users. "
   ]
  },
  {
   "cell_type": "markdown",
   "metadata": {},
   "source": [
    "[Formulate conclusions about how the revenue differs between the plans.]"
   ]
  },
  {
   "cell_type": "markdown",
   "metadata": {},
   "source": [
    " "
   ]
  },
  {
   "cell_type": "markdown",
   "metadata": {},
   "source": [
    "## Test statistical hypotheses"
   ]
  },
  {
   "cell_type": "markdown",
   "metadata": {},
   "source": [
    "[Test the hypothesis that the average revenue from users of the Ultimate and Surf calling plans differs.]"
   ]
  },
  {
   "cell_type": "markdown",
   "metadata": {},
   "source": [
    "[Formulate the null and the alternative hypotheses, choose the statistical test, decide on the alpha value.]"
   ]
  },
  {
   "cell_type": "markdown",
   "metadata": {},
   "source": [
    "Explanation for testing: The two samples being examined are indpendent, therefore a two-sample indpendent t-test will be conducted. The goal is to determine if the average revenue from users of the Ultimate and Surf calling plans differ signficantly. The following are the null hypothesis and alternative hypothesis statements: \n",
    "\n",
    "H0:There is no signficant difference between average revenue from users of the Ultimate and Surf calling plans.  \n",
    "H1:There is a signficant difference between average revenue from users of the Ultimate and Surf calling plans. \n",
    "\n",
    "In order to test this hypothesis it is decided that a signficance level of 0.05 would be appropriate and assigned to the alpha value. This is an acceptable value to use as it avoids false postives and ensures the detection of real effects. If the p-value is greater than the alpha value of 0.05 it means that the null hypothesis can be rejected as a signficant difference exist between the average revenue generated from users of the Ultiamte and Surf calling plans.  "
   ]
  },
  {
   "cell_type": "markdown",
   "metadata": {},
   "source": [
    "<div class=\"alert alert-block alert-danger\">✍\n",
    "    \n",
    "\n",
    "__Reviewer's comment №1__\n",
    "\n",
    "The wording of Ho and H1 is missing. Please add them to the section"
   ]
  },
  {
   "cell_type": "markdown",
   "metadata": {},
   "source": [
    "<div class=\"alert alert-block alert-success\">✔️\n",
    "    \n",
    "\n",
    "__Reviewer's comment №2__\n",
    "\n",
    "Correct interpretation of the null and alternative hypotheses"
   ]
  },
  {
   "cell_type": "markdown",
   "metadata": {},
   "source": [
    "Added wording for H0 and H1 for both test of hypothesis. "
   ]
  },
  {
   "cell_type": "code",
   "execution_count": 61,
   "metadata": {
    "trusted": true
   },
   "outputs": [
    {
     "name": "stdout",
     "output_type": "stream",
     "text": [
      "t-stastic: -8.772761624898482\n",
      "p-value: 3.900449257166936e-18\n",
      "Reject H0: There is a signficant difference in average revenue between plans.\n"
     ]
    }
   ],
   "source": [
    "\n",
    "# Test the hypotheses\n",
    "\n",
    "from scipy.stats import ttest_ind \n",
    "\n",
    "#Split into two groups based on plan \n",
    "\n",
    "data_surf = user_monthly_data[user_monthly_data['plan']=='surf']\n",
    "data_ultimate = user_monthly_data[user_monthly_data['plan']== 'ultimate']\n",
    "\n",
    "#Conduct T-test to see if means differ \n",
    "t_stat,p_value = ttest_ind(data_surf['monthly_revenue_calculation'], data_ultimate['monthly_revenue_calculation'], equal_var=False)\n",
    "\n",
    "#Display results \n",
    "print(\"t-stastic:\",t_stat)\n",
    "print(\"p-value:\", p_value)\n",
    "\n",
    "#Meaning of results: \n",
    "alpha = 0.05 \n",
    "if p_value < alpha: \n",
    "    print(\"Reject H0: There is a signficant difference in average revenue between plans.\")\n",
    "else: \n",
    "    print(\"Fail to reject H0: No signficant difference in average revenue between plans.\")\n"
   ]
  },
  {
   "cell_type": "markdown",
   "metadata": {},
   "source": [
    "<div class=\"alert alert-block alert-warning\">📝\n",
    "    \n",
    "\n",
    "__Reviewer's comment №2__\n",
    "\n",
    "All necessary libraries should be unloaded at the beginning of the project in one code cell"
   ]
  },
  {
   "cell_type": "markdown",
   "metadata": {},
   "source": [
    "[Test the hypothesis that the average revenue from users in the NY-NJ area is different from that of the users from the other regions.]"
   ]
  },
  {
   "cell_type": "markdown",
   "metadata": {},
   "source": [
    "Explanation for testing: The two samples being examined are indpendent, therefore a two-sample indpendent t-test will be conducted. The goal is to determine if the average revenue from users in the NY-NJ area is different from that of users from other regions.The following are the null hypothesis and alternative hypothesis statements: \n",
    "\n",
    "H0: There is no signficant difference between the average revenue from users in the NY-NJ area is different from that of users from other regions. \n",
    "H1:There is a signficant difference between the average revenue from users in the NY-NJ area is different from that of users from other regions. \n",
    "\n",
    "In order to test this hypothesis it is decided that a signficance level of 0.05 would be appropriate and assigned to the alpha value. This is an acceptable value to use as it avoids false postives and ensures the detection of real effects. If the p-value is greater than the alpha value of 0.05 it means that the null hypothesis can be rejected as a signficant difference exist between the average revenue generated from users in the NY-NJ areas.  "
   ]
  },
  {
   "cell_type": "markdown",
   "metadata": {},
   "source": [
    "[Formulate the null and the alternative hypotheses, choose the statistical test, decide on the alpha value.]"
   ]
  },
  {
   "cell_type": "code",
   "execution_count": 62,
   "metadata": {
    "trusted": true
   },
   "outputs": [
    {
     "name": "stdout",
     "output_type": "stream",
     "text": [
      "t-stastic: -2.436255519987266\n",
      "p-value: 0.015157409965101799\n",
      "Reject H0: There is a signficant difference in average revenue between NY-NJ and other regions.\n"
     ]
    }
   ],
   "source": [
    "# Test the hypotheses\n",
    "from scipy.stats import ttest_ind \n",
    "\n",
    "#Seperate into two groups based on region \n",
    "data_ny_nj = user_monthly_data[user_monthly_data['city'].str.contains('NY-NJ')]\n",
    "data_other_regions = user_monthly_data[~user_monthly_data['city'].str.contains('NY-NJ')]\n",
    "\n",
    "#Conduct t-test to see if mean differ \n",
    "t_stat, p_value = ttest_ind(data_ny_nj['monthly_revenue_calculation'],data_other_regions ['monthly_revenue_calculation'],equal_var=False)\n",
    "\n",
    "#Display results \n",
    "print(\"t-stastic:\",t_stat)\n",
    "print(\"p-value:\", p_value)\n",
    "\n",
    "#Interpretation \n",
    "alpha = 0.05 \n",
    "if p_value < alpha: \n",
    "    print (\"Reject H0: There is a signficant difference in average revenue between NY-NJ and other regions.\")\n",
    "else:\n",
    "    print(\"Fail to reject H0: No signficant difference in average revenue between NY-NJ and other regions.\")"
   ]
  },
  {
   "cell_type": "markdown",
   "metadata": {},
   "source": [
    "## General conclusion\n",
    "\n",
    "[List your important conclusions in this final section, make sure they cover all those important decisions (assumptions) that you've made and that led you to the way you processed and analyzed the data.]"
   ]
  },
  {
   "cell_type": "markdown",
   "metadata": {},
   "source": [
    "Conclusion: Five datasets were analyzed from the Megaline company including plan, user, call, message and internet. The data provided was useful, but required some cleaning and enrichment such as converting to datetime where appropriate, converting megabytes to gigabytes, updating column names, extracting year and month values and adding a region column in to specify users in the NY-NJ area. Data needed to be aggregated for later analysis. \n",
    "\n",
    "In examining user behaviors the following was concluded: \n",
    "1. Surf plan users tend to have a slightly higher call duration than the Ultimate plan users. \n",
    "2. Ulimate plan users tend to consume more interent than the Surf plan users. \n",
    "3. Ulimate plan users tend to send more messages than Surf plan users. \n",
    "4. Ultimate plan users tend to generate more revenue than Surf plan users. This may be explained by the slightly greater consumption of internet and sending more messages than those on the Surf plan. \n",
    "\n",
    "\n",
    "A two-sample indpendent t-test was conducted to examine the following hypothesis: \n",
    "1. The average revenue from users of the Ultimate and Surf calling plans differs.\n",
    "2. The average revenue from users in the NY-NJ area is different from that of the users from the other regions.\n",
    "\n",
    "A two sample indpendent t-test was conducted as the two samples being examined are independent of one another. In evaluating the hypothesis that average revenue from users of the Ultimate and Surf calling plans differs it was discovered that the p-value was signficantly higher than the alpha value. This indicates that the the null hypothesis can be rejected. This would align with earlier results gathered when analyzing user behavior as it becomes clear during this protion of the analysis that Ultimate plan users tend to generate more revenue than Surf plan users. \n",
    "\n",
    "While, examining the hypothesis that the avearge revenue from users in the NY-NJ area is different from that of the users from other regions a similar two sample independent t test was applied. Again teh p value proved to be higher than the alpha value. This means that the null hypothesis can be rejected. Moreover, it illustrates a signficant difference exist in the average revenue from users in the NY-NJ area compared to other regions. \n"
   ]
  },
  {
   "cell_type": "markdown",
   "metadata": {},
   "source": [
    "<div class=\"alert alert-block alert-success\">✔️\n",
    "    \n",
    "\n",
    "__Reviewer's comment №1__\n",
    "\n",
    "You've done a great job. There are a few things that need to be fixed"
   ]
  },
  {
   "cell_type": "markdown",
   "metadata": {},
   "source": []
  },
  {
   "cell_type": "markdown",
   "metadata": {},
   "source": [
    "<div class=\"alert alert-block alert-success\">✔️\n",
    "    \n",
    "\n",
    "__Reviewer's comment №2__\n",
    "\n",
    "\n",
    "Otherwise it's great😊. Your project is begging for github =)   \n",
    "    \n",
    "Congratulations on the successful completion of the project 😊👍\n",
    "And I wish you success in new works 😊"
   ]
  },
  {
   "cell_type": "markdown",
   "metadata": {},
   "source": [
    " "
   ]
  }
 ],
 "metadata": {
  "ExecuteTimeLog": [
   {
    "duration": 828,
    "start_time": "2021-11-16T09:21:11.304Z"
   },
   {
    "duration": 893,
    "start_time": "2021-11-16T09:21:17.728Z"
   },
   {
    "duration": 1150,
    "start_time": "2021-11-16T09:21:29.568Z"
   },
   {
    "duration": 3,
    "start_time": "2021-11-16T09:24:14.495Z"
   },
   {
    "duration": 120,
    "start_time": "2021-11-16T09:24:46.630Z"
   },
   {
    "duration": 3,
    "start_time": "2021-11-16T09:28:27.882Z"
   },
   {
    "duration": 4,
    "start_time": "2021-11-16T09:29:54.281Z"
   },
   {
    "duration": 3,
    "start_time": "2021-11-16T09:30:45.936Z"
   },
   {
    "duration": 4,
    "start_time": "2021-11-16T09:31:06.300Z"
   },
   {
    "duration": 113,
    "start_time": "2021-11-16T09:31:37.208Z"
   },
   {
    "duration": 143,
    "start_time": "2021-11-16T09:31:48.656Z"
   },
   {
    "duration": 98,
    "start_time": "2021-11-16T09:31:55.678Z"
   },
   {
    "duration": 3,
    "start_time": "2021-11-16T09:32:08.535Z"
   },
   {
    "duration": 111,
    "start_time": "2021-11-16T09:32:10.120Z"
   },
   {
    "duration": 3,
    "start_time": "2021-11-16T09:32:15.732Z"
   },
   {
    "duration": 4,
    "start_time": "2021-11-16T09:32:29.423Z"
   },
   {
    "duration": 3,
    "start_time": "2021-11-16T10:03:03.074Z"
   },
   {
    "duration": 3,
    "start_time": "2021-11-16T10:10:01.288Z"
   },
   {
    "duration": 3,
    "start_time": "2021-11-16T10:10:46.923Z"
   },
   {
    "duration": 121,
    "start_time": "2021-11-16T10:37:46.494Z"
   },
   {
    "duration": 125,
    "start_time": "2021-11-16T10:38:20.632Z"
   },
   {
    "duration": 112,
    "start_time": "2021-11-16T10:46:53.001Z"
   },
   {
    "duration": 110,
    "start_time": "2021-11-16T10:48:25.775Z"
   },
   {
    "duration": 3,
    "start_time": "2021-11-16T10:50:18.720Z"
   },
   {
    "duration": 4,
    "start_time": "2021-11-16T10:50:37.649Z"
   },
   {
    "duration": 2,
    "start_time": "2021-11-16T10:50:51.884Z"
   },
   {
    "duration": 3,
    "start_time": "2021-11-16T10:51:56.237Z"
   },
   {
    "duration": 101,
    "start_time": "2021-11-16T10:53:13.791Z"
   },
   {
    "duration": 3,
    "start_time": "2021-11-16T10:55:59.186Z"
   },
   {
    "duration": 3,
    "start_time": "2021-11-16T10:56:10.751Z"
   },
   {
    "duration": 3,
    "start_time": "2021-11-16T10:56:49.038Z"
   },
   {
    "duration": 3,
    "start_time": "2021-11-16T10:56:49.174Z"
   },
   {
    "duration": 4,
    "start_time": "2021-11-16T10:56:49.414Z"
   },
   {
    "duration": 3,
    "start_time": "2021-11-16T10:56:49.680Z"
   },
   {
    "duration": 3,
    "start_time": "2021-11-16T10:56:50.370Z"
   },
   {
    "duration": 114,
    "start_time": "2021-11-16T10:59:34.518Z"
   },
   {
    "duration": 3,
    "start_time": "2021-11-16T11:01:41.201Z"
   },
   {
    "duration": 116,
    "start_time": "2021-11-16T11:01:48.754Z"
   },
   {
    "duration": 3,
    "start_time": "2021-11-16T11:02:16.685Z"
   },
   {
    "duration": 3,
    "start_time": "2021-11-16T11:02:19.479Z"
   },
   {
    "duration": 3,
    "start_time": "2021-11-16T11:02:47.067Z"
   },
   {
    "duration": 3,
    "start_time": "2021-11-16T11:02:49.353Z"
   },
   {
    "duration": 3,
    "start_time": "2021-11-16T11:03:07.835Z"
   },
   {
    "duration": 3,
    "start_time": "2021-11-16T11:03:07.953Z"
   },
   {
    "duration": 112,
    "start_time": "2021-11-16T11:07:52.072Z"
   },
   {
    "duration": 187,
    "start_time": "2021-11-16T11:09:23.468Z"
   },
   {
    "duration": 4,
    "start_time": "2021-11-16T11:10:01.455Z"
   },
   {
    "duration": 3,
    "start_time": "2021-11-16T11:10:05.069Z"
   },
   {
    "duration": 4,
    "start_time": "2021-11-16T11:10:13.376Z"
   },
   {
    "duration": 3,
    "start_time": "2021-11-16T11:10:14.434Z"
   },
   {
    "duration": 3,
    "start_time": "2021-11-16T11:10:22.853Z"
   },
   {
    "duration": 4,
    "start_time": "2021-11-16T11:27:29.279Z"
   },
   {
    "duration": 4,
    "start_time": "2021-11-16T11:29:08.919Z"
   },
   {
    "duration": 118,
    "start_time": "2021-11-16T11:29:46.703Z"
   },
   {
    "duration": 437,
    "start_time": "2021-11-16T11:36:02.181Z"
   },
   {
    "duration": 157,
    "start_time": "2021-11-16T11:36:14.388Z"
   },
   {
    "duration": 207,
    "start_time": "2021-11-16T11:47:15.898Z"
   },
   {
    "duration": 3,
    "start_time": "2021-11-16T11:53:52.092Z"
   },
   {
    "duration": 3,
    "start_time": "2021-11-16T11:53:52.236Z"
   },
   {
    "duration": 3,
    "start_time": "2021-11-16T11:59:12.005Z"
   },
   {
    "duration": 112,
    "start_time": "2021-11-16T12:00:33.446Z"
   },
   {
    "duration": 3,
    "start_time": "2021-11-16T12:02:14.453Z"
   },
   {
    "duration": 3,
    "start_time": "2021-11-16T12:02:39.512Z"
   },
   {
    "duration": 106,
    "start_time": "2021-11-16T12:03:03.460Z"
   },
   {
    "duration": 3,
    "start_time": "2021-11-17T20:37:21.139Z"
   },
   {
    "duration": 3,
    "start_time": "2021-11-17T20:37:22.229Z"
   },
   {
    "duration": 3,
    "start_time": "2021-11-17T20:38:38.806Z"
   },
   {
    "duration": 3,
    "start_time": "2021-11-17T20:38:41.958Z"
   },
   {
    "duration": 3,
    "start_time": "2021-11-17T20:43:46.551Z"
   },
   {
    "duration": 4,
    "start_time": "2021-11-17T20:58:21.835Z"
   },
   {
    "duration": 3,
    "start_time": "2021-11-17T20:59:21.872Z"
   },
   {
    "duration": 4,
    "start_time": "2021-11-17T20:59:45.352Z"
   },
   {
    "duration": 4,
    "start_time": "2021-11-17T20:59:49.646Z"
   },
   {
    "duration": 159,
    "start_time": "2021-11-17T21:02:26.949Z"
   },
   {
    "duration": 3,
    "start_time": "2021-11-17T21:03:53.461Z"
   },
   {
    "duration": 3,
    "start_time": "2021-11-17T21:03:53.694Z"
   },
   {
    "duration": 3,
    "start_time": "2021-11-17T21:05:28.145Z"
   },
   {
    "duration": 116,
    "start_time": "2021-11-17T21:05:57.787Z"
   },
   {
    "duration": 3,
    "start_time": "2021-11-17T21:06:37.993Z"
   },
   {
    "duration": 3,
    "start_time": "2021-11-17T21:06:38.261Z"
   },
   {
    "duration": 3,
    "start_time": "2021-11-17T21:11:54.358Z"
   },
   {
    "duration": 3,
    "start_time": "2021-11-17T21:12:43.846Z"
   },
   {
    "duration": 4,
    "start_time": "2021-11-17T21:13:08.773Z"
   },
   {
    "duration": 3,
    "start_time": "2021-11-17T21:14:44.441Z"
   },
   {
    "duration": 3,
    "start_time": "2021-11-17T21:15:42.059Z"
   },
   {
    "duration": 4,
    "start_time": "2021-11-17T21:15:51.995Z"
   },
   {
    "duration": 3,
    "start_time": "2021-11-17T21:15:53.923Z"
   },
   {
    "duration": 3,
    "start_time": "2021-11-17T21:15:55.282Z"
   },
   {
    "duration": 3,
    "start_time": "2021-11-17T21:16:28.492Z"
   },
   {
    "duration": 3,
    "start_time": "2021-11-17T21:16:32.603Z"
   },
   {
    "duration": 3,
    "start_time": "2021-11-17T21:17:06.941Z"
   },
   {
    "duration": 98,
    "start_time": "2021-11-17T21:18:05.733Z"
   },
   {
    "duration": 4,
    "start_time": "2021-11-17T21:21:35.255Z"
   },
   {
    "duration": 3,
    "start_time": "2021-11-17T21:21:37.804Z"
   },
   {
    "duration": 4,
    "start_time": "2021-11-17T21:23:06.071Z"
   },
   {
    "duration": 3,
    "start_time": "2021-11-17T21:23:24.799Z"
   },
   {
    "duration": 3,
    "start_time": "2021-11-17T21:23:32.591Z"
   },
   {
    "duration": 98,
    "start_time": "2021-11-17T21:28:31.559Z"
   },
   {
    "duration": 3,
    "start_time": "2021-11-17T21:28:45.448Z"
   },
   {
    "duration": 3,
    "start_time": "2021-11-17T21:29:17.303Z"
   },
   {
    "duration": 3,
    "start_time": "2021-11-17T21:29:29.617Z"
   },
   {
    "duration": 3,
    "start_time": "2021-11-17T21:29:32.681Z"
   },
   {
    "duration": 3,
    "start_time": "2021-11-17T21:36:11.474Z"
   },
   {
    "duration": 3,
    "start_time": "2021-11-17T21:36:14.791Z"
   },
   {
    "duration": 3,
    "start_time": "2021-11-17T21:36:53.943Z"
   },
   {
    "duration": 3,
    "start_time": "2021-11-17T21:36:56.165Z"
   },
   {
    "duration": 4,
    "start_time": "2021-11-17T21:37:16.590Z"
   },
   {
    "duration": 3,
    "start_time": "2021-11-17T21:37:22.702Z"
   },
   {
    "duration": 4,
    "start_time": "2021-11-17T21:38:03.479Z"
   },
   {
    "duration": 3,
    "start_time": "2021-11-17T21:38:08.601Z"
   },
   {
    "duration": 3,
    "start_time": "2021-11-17T21:38:12.928Z"
   },
   {
    "duration": 3,
    "start_time": "2021-11-17T21:38:48.896Z"
   },
   {
    "duration": 2,
    "start_time": "2021-11-17T21:38:49.171Z"
   },
   {
    "duration": 4,
    "start_time": "2021-11-17T21:39:57.889Z"
   },
   {
    "duration": 3,
    "start_time": "2021-11-17T21:39:58.057Z"
   },
   {
    "duration": 3,
    "start_time": "2021-11-17T21:41:20.108Z"
   },
   {
    "duration": 3,
    "start_time": "2021-11-17T21:41:20.629Z"
   },
   {
    "duration": 3,
    "start_time": "2021-11-17T21:42:49.136Z"
   },
   {
    "duration": 3,
    "start_time": "2021-11-17T21:43:15.137Z"
   },
   {
    "duration": 4,
    "start_time": "2021-11-17T21:43:16.766Z"
   },
   {
    "duration": 4,
    "start_time": "2021-11-17T21:43:31.711Z"
   },
   {
    "duration": 3,
    "start_time": "2021-11-17T21:43:36.312Z"
   },
   {
    "duration": 4,
    "start_time": "2021-11-17T21:45:08.825Z"
   },
   {
    "duration": 4,
    "start_time": "2021-11-17T21:45:10.119Z"
   },
   {
    "duration": 4,
    "start_time": "2021-11-17T21:45:13.748Z"
   },
   {
    "duration": 3,
    "start_time": "2021-11-17T21:45:22.219Z"
   },
   {
    "duration": 3,
    "start_time": "2021-11-17T21:45:33.412Z"
   },
   {
    "duration": 2,
    "start_time": "2021-11-17T21:46:01.885Z"
   },
   {
    "duration": 3,
    "start_time": "2021-11-17T21:46:03.628Z"
   },
   {
    "duration": 107,
    "start_time": "2021-11-17T21:47:32.512Z"
   },
   {
    "duration": 103,
    "start_time": "2021-11-17T21:50:36.243Z"
   },
   {
    "duration": 3,
    "start_time": "2021-11-18T06:28:31.440Z"
   },
   {
    "duration": 3,
    "start_time": "2021-11-18T06:29:00.168Z"
   },
   {
    "duration": 3,
    "start_time": "2021-11-18T06:31:27.008Z"
   },
   {
    "duration": 2,
    "start_time": "2021-11-18T06:35:34.288Z"
   },
   {
    "duration": 2,
    "start_time": "2021-11-18T06:38:04.527Z"
   },
   {
    "duration": 418,
    "start_time": "2025-02-20T15:47:16.231Z"
   },
   {
    "duration": 162,
    "start_time": "2025-02-20T15:48:30.096Z"
   },
   {
    "duration": 5,
    "start_time": "2025-02-20T15:50:21.260Z"
   },
   {
    "duration": 193,
    "start_time": "2025-02-20T15:50:38.089Z"
   },
   {
    "duration": 194,
    "start_time": "2025-02-20T15:51:35.251Z"
   },
   {
    "duration": 2820,
    "start_time": "2025-02-20T17:28:51.610Z"
   },
   {
    "duration": 8,
    "start_time": "2025-02-20T17:28:57.851Z"
   },
   {
    "duration": 2,
    "start_time": "2025-02-20T17:30:31.042Z"
   },
   {
    "duration": 139,
    "start_time": "2025-02-20T17:30:33.497Z"
   },
   {
    "duration": 108,
    "start_time": "2025-02-20T17:31:03.467Z"
   },
   {
    "duration": 54,
    "start_time": "2025-02-20T17:31:26.735Z"
   },
   {
    "duration": 11,
    "start_time": "2025-02-20T17:31:29.045Z"
   },
   {
    "duration": 343,
    "start_time": "2025-02-20T17:33:14.853Z"
   },
   {
    "duration": 116,
    "start_time": "2025-02-20T17:35:00.989Z"
   },
   {
    "duration": 69,
    "start_time": "2025-02-20T17:35:05.938Z"
   },
   {
    "duration": 55,
    "start_time": "2025-02-20T17:35:10.569Z"
   },
   {
    "duration": 15,
    "start_time": "2025-02-20T17:35:16.184Z"
   },
   {
    "duration": 162,
    "start_time": "2025-02-21T02:58:21.241Z"
   },
   {
    "duration": 2420,
    "start_time": "2025-02-21T02:59:25.469Z"
   },
   {
    "duration": 135,
    "start_time": "2025-02-21T02:59:27.891Z"
   },
   {
    "duration": 92,
    "start_time": "2025-02-21T02:59:28.029Z"
   },
   {
    "duration": 61,
    "start_time": "2025-02-21T02:59:28.124Z"
   },
   {
    "duration": 16,
    "start_time": "2025-02-21T02:59:28.187Z"
   },
   {
    "duration": 5,
    "start_time": "2025-02-21T02:59:28.205Z"
   },
   {
    "duration": 0,
    "start_time": "2025-02-21T02:59:28.213Z"
   },
   {
    "duration": 0,
    "start_time": "2025-02-21T02:59:28.215Z"
   },
   {
    "duration": 0,
    "start_time": "2025-02-21T02:59:28.216Z"
   },
   {
    "duration": 0,
    "start_time": "2025-02-21T02:59:28.218Z"
   },
   {
    "duration": 0,
    "start_time": "2025-02-21T02:59:28.218Z"
   },
   {
    "duration": 0,
    "start_time": "2025-02-21T02:59:28.223Z"
   },
   {
    "duration": 0,
    "start_time": "2025-02-21T02:59:28.226Z"
   },
   {
    "duration": 0,
    "start_time": "2025-02-21T02:59:28.228Z"
   },
   {
    "duration": 0,
    "start_time": "2025-02-21T02:59:28.230Z"
   },
   {
    "duration": 0,
    "start_time": "2025-02-21T02:59:28.231Z"
   },
   {
    "duration": 0,
    "start_time": "2025-02-21T02:59:28.232Z"
   },
   {
    "duration": 0,
    "start_time": "2025-02-21T02:59:28.234Z"
   },
   {
    "duration": 0,
    "start_time": "2025-02-21T02:59:28.235Z"
   },
   {
    "duration": 0,
    "start_time": "2025-02-21T02:59:28.236Z"
   },
   {
    "duration": 0,
    "start_time": "2025-02-21T02:59:28.237Z"
   },
   {
    "duration": 0,
    "start_time": "2025-02-21T02:59:28.238Z"
   },
   {
    "duration": 0,
    "start_time": "2025-02-21T02:59:28.239Z"
   },
   {
    "duration": 0,
    "start_time": "2025-02-21T02:59:28.240Z"
   },
   {
    "duration": 0,
    "start_time": "2025-02-21T02:59:28.242Z"
   },
   {
    "duration": 0,
    "start_time": "2025-02-21T02:59:28.243Z"
   },
   {
    "duration": 0,
    "start_time": "2025-02-21T02:59:28.245Z"
   },
   {
    "duration": 0,
    "start_time": "2025-02-21T02:59:28.247Z"
   },
   {
    "duration": 0,
    "start_time": "2025-02-21T02:59:28.248Z"
   },
   {
    "duration": 0,
    "start_time": "2025-02-21T02:59:28.249Z"
   },
   {
    "duration": 0,
    "start_time": "2025-02-21T02:59:28.251Z"
   },
   {
    "duration": 0,
    "start_time": "2025-02-21T02:59:28.252Z"
   },
   {
    "duration": 0,
    "start_time": "2025-02-21T02:59:28.254Z"
   },
   {
    "duration": 808,
    "start_time": "2025-02-21T02:59:54.741Z"
   },
   {
    "duration": 104,
    "start_time": "2025-02-21T02:59:55.552Z"
   },
   {
    "duration": 93,
    "start_time": "2025-02-21T02:59:55.658Z"
   },
   {
    "duration": 61,
    "start_time": "2025-02-21T02:59:55.753Z"
   },
   {
    "duration": 18,
    "start_time": "2025-02-21T02:59:55.824Z"
   },
   {
    "duration": 44,
    "start_time": "2025-02-21T02:59:55.844Z"
   },
   {
    "duration": 3,
    "start_time": "2025-02-21T02:59:55.891Z"
   },
   {
    "duration": 3,
    "start_time": "2025-02-21T02:59:55.895Z"
   },
   {
    "duration": 24,
    "start_time": "2025-02-21T02:59:55.900Z"
   },
   {
    "duration": 2,
    "start_time": "2025-02-21T02:59:55.928Z"
   },
   {
    "duration": 3,
    "start_time": "2025-02-21T02:59:55.931Z"
   },
   {
    "duration": 3,
    "start_time": "2025-02-21T02:59:55.936Z"
   },
   {
    "duration": 3,
    "start_time": "2025-02-21T02:59:55.940Z"
   },
   {
    "duration": 2,
    "start_time": "2025-02-21T02:59:55.945Z"
   },
   {
    "duration": 3,
    "start_time": "2025-02-21T02:59:55.949Z"
   },
   {
    "duration": 4,
    "start_time": "2025-02-21T02:59:55.953Z"
   },
   {
    "duration": 3,
    "start_time": "2025-02-21T02:59:55.958Z"
   },
   {
    "duration": 3,
    "start_time": "2025-02-21T02:59:55.962Z"
   },
   {
    "duration": 3,
    "start_time": "2025-02-21T02:59:55.967Z"
   },
   {
    "duration": 3,
    "start_time": "2025-02-21T02:59:55.971Z"
   },
   {
    "duration": 2,
    "start_time": "2025-02-21T02:59:56.024Z"
   },
   {
    "duration": 2,
    "start_time": "2025-02-21T02:59:56.028Z"
   },
   {
    "duration": 3,
    "start_time": "2025-02-21T02:59:56.032Z"
   },
   {
    "duration": 3,
    "start_time": "2025-02-21T02:59:56.036Z"
   },
   {
    "duration": 3,
    "start_time": "2025-02-21T02:59:56.041Z"
   },
   {
    "duration": 3,
    "start_time": "2025-02-21T02:59:56.045Z"
   },
   {
    "duration": 3,
    "start_time": "2025-02-21T02:59:56.050Z"
   },
   {
    "duration": 2,
    "start_time": "2025-02-21T02:59:56.056Z"
   },
   {
    "duration": 2,
    "start_time": "2025-02-21T02:59:56.060Z"
   },
   {
    "duration": 3,
    "start_time": "2025-02-21T02:59:56.064Z"
   },
   {
    "duration": 3,
    "start_time": "2025-02-21T02:59:56.068Z"
   },
   {
    "duration": 3,
    "start_time": "2025-02-21T02:59:56.073Z"
   },
   {
    "duration": 782,
    "start_time": "2025-02-21T03:08:37.959Z"
   },
   {
    "duration": 214,
    "start_time": "2025-02-21T03:08:38.746Z"
   },
   {
    "duration": 39,
    "start_time": "2025-02-21T03:08:38.962Z"
   },
   {
    "duration": 57,
    "start_time": "2025-02-21T03:08:39.004Z"
   },
   {
    "duration": 41,
    "start_time": "2025-02-21T03:08:39.063Z"
   },
   {
    "duration": 50,
    "start_time": "2025-02-21T03:08:39.105Z"
   },
   {
    "duration": 3,
    "start_time": "2025-02-21T03:08:39.157Z"
   },
   {
    "duration": 3,
    "start_time": "2025-02-21T03:08:39.165Z"
   },
   {
    "duration": 2,
    "start_time": "2025-02-21T03:08:39.170Z"
   },
   {
    "duration": 8,
    "start_time": "2025-02-21T03:08:39.176Z"
   },
   {
    "duration": 2,
    "start_time": "2025-02-21T03:08:39.186Z"
   },
   {
    "duration": 3,
    "start_time": "2025-02-21T03:08:39.190Z"
   },
   {
    "duration": 3,
    "start_time": "2025-02-21T03:08:39.195Z"
   },
   {
    "duration": 5,
    "start_time": "2025-02-21T03:08:39.229Z"
   },
   {
    "duration": 4,
    "start_time": "2025-02-21T03:08:39.236Z"
   },
   {
    "duration": 3,
    "start_time": "2025-02-21T03:08:39.242Z"
   },
   {
    "duration": 2,
    "start_time": "2025-02-21T03:08:39.247Z"
   },
   {
    "duration": 3,
    "start_time": "2025-02-21T03:08:39.252Z"
   },
   {
    "duration": 8,
    "start_time": "2025-02-21T03:08:39.257Z"
   },
   {
    "duration": 5,
    "start_time": "2025-02-21T03:08:39.267Z"
   },
   {
    "duration": 3,
    "start_time": "2025-02-21T03:08:39.274Z"
   },
   {
    "duration": 3,
    "start_time": "2025-02-21T03:08:39.279Z"
   },
   {
    "duration": 3,
    "start_time": "2025-02-21T03:08:39.284Z"
   },
   {
    "duration": 3,
    "start_time": "2025-02-21T03:08:39.289Z"
   },
   {
    "duration": 30,
    "start_time": "2025-02-21T03:08:39.294Z"
   },
   {
    "duration": 2,
    "start_time": "2025-02-21T03:08:39.328Z"
   },
   {
    "duration": 3,
    "start_time": "2025-02-21T03:08:39.332Z"
   },
   {
    "duration": 2,
    "start_time": "2025-02-21T03:08:39.340Z"
   },
   {
    "duration": 4,
    "start_time": "2025-02-21T03:08:39.344Z"
   },
   {
    "duration": 3,
    "start_time": "2025-02-21T03:08:39.350Z"
   },
   {
    "duration": 3,
    "start_time": "2025-02-21T03:08:39.355Z"
   },
   {
    "duration": 3,
    "start_time": "2025-02-21T03:08:39.360Z"
   },
   {
    "duration": 795,
    "start_time": "2025-02-21T03:10:18.252Z"
   },
   {
    "duration": 153,
    "start_time": "2025-02-21T03:10:19.050Z"
   },
   {
    "duration": 45,
    "start_time": "2025-02-21T03:10:19.205Z"
   },
   {
    "duration": 40,
    "start_time": "2025-02-21T03:10:19.252Z"
   },
   {
    "duration": 43,
    "start_time": "2025-02-21T03:10:19.294Z"
   },
   {
    "duration": 30,
    "start_time": "2025-02-21T03:10:19.339Z"
   },
   {
    "duration": 2,
    "start_time": "2025-02-21T03:10:19.371Z"
   },
   {
    "duration": 3,
    "start_time": "2025-02-21T03:10:19.375Z"
   },
   {
    "duration": 3,
    "start_time": "2025-02-21T03:10:19.380Z"
   },
   {
    "duration": 2,
    "start_time": "2025-02-21T03:10:19.387Z"
   },
   {
    "duration": 34,
    "start_time": "2025-02-21T03:10:19.391Z"
   },
   {
    "duration": 2,
    "start_time": "2025-02-21T03:10:19.428Z"
   },
   {
    "duration": 2,
    "start_time": "2025-02-21T03:10:19.432Z"
   },
   {
    "duration": 3,
    "start_time": "2025-02-21T03:10:19.436Z"
   },
   {
    "duration": 2,
    "start_time": "2025-02-21T03:10:19.441Z"
   },
   {
    "duration": 3,
    "start_time": "2025-02-21T03:10:19.445Z"
   },
   {
    "duration": 3,
    "start_time": "2025-02-21T03:10:19.450Z"
   },
   {
    "duration": 3,
    "start_time": "2025-02-21T03:10:19.454Z"
   },
   {
    "duration": 3,
    "start_time": "2025-02-21T03:10:19.458Z"
   },
   {
    "duration": 3,
    "start_time": "2025-02-21T03:10:19.463Z"
   },
   {
    "duration": 3,
    "start_time": "2025-02-21T03:10:19.468Z"
   },
   {
    "duration": 3,
    "start_time": "2025-02-21T03:10:19.472Z"
   },
   {
    "duration": 3,
    "start_time": "2025-02-21T03:10:19.477Z"
   },
   {
    "duration": 47,
    "start_time": "2025-02-21T03:10:19.481Z"
   },
   {
    "duration": 2,
    "start_time": "2025-02-21T03:10:19.530Z"
   },
   {
    "duration": 3,
    "start_time": "2025-02-21T03:10:19.534Z"
   },
   {
    "duration": 2,
    "start_time": "2025-02-21T03:10:19.539Z"
   },
   {
    "duration": 2,
    "start_time": "2025-02-21T03:10:19.545Z"
   },
   {
    "duration": 3,
    "start_time": "2025-02-21T03:10:19.549Z"
   },
   {
    "duration": 2,
    "start_time": "2025-02-21T03:10:19.554Z"
   },
   {
    "duration": 3,
    "start_time": "2025-02-21T03:10:19.558Z"
   },
   {
    "duration": 3,
    "start_time": "2025-02-21T03:10:19.562Z"
   },
   {
    "duration": 810,
    "start_time": "2025-02-21T03:13:34.851Z"
   },
   {
    "duration": 170,
    "start_time": "2025-02-21T03:13:35.664Z"
   },
   {
    "duration": 39,
    "start_time": "2025-02-21T03:13:35.835Z"
   },
   {
    "duration": 49,
    "start_time": "2025-02-21T03:13:35.876Z"
   },
   {
    "duration": 33,
    "start_time": "2025-02-21T03:13:35.927Z"
   },
   {
    "duration": 38,
    "start_time": "2025-02-21T03:13:35.962Z"
   },
   {
    "duration": 29,
    "start_time": "2025-02-21T03:13:36.002Z"
   },
   {
    "duration": 8,
    "start_time": "2025-02-21T03:13:36.032Z"
   },
   {
    "duration": 3,
    "start_time": "2025-02-21T03:13:36.044Z"
   },
   {
    "duration": 3,
    "start_time": "2025-02-21T03:13:36.053Z"
   },
   {
    "duration": 2,
    "start_time": "2025-02-21T03:13:36.057Z"
   },
   {
    "duration": 3,
    "start_time": "2025-02-21T03:13:36.061Z"
   },
   {
    "duration": 3,
    "start_time": "2025-02-21T03:13:36.065Z"
   },
   {
    "duration": 3,
    "start_time": "2025-02-21T03:13:36.069Z"
   },
   {
    "duration": 3,
    "start_time": "2025-02-21T03:13:36.074Z"
   },
   {
    "duration": 3,
    "start_time": "2025-02-21T03:13:36.079Z"
   },
   {
    "duration": 3,
    "start_time": "2025-02-21T03:13:36.083Z"
   },
   {
    "duration": 3,
    "start_time": "2025-02-21T03:13:36.125Z"
   },
   {
    "duration": 3,
    "start_time": "2025-02-21T03:13:36.129Z"
   },
   {
    "duration": 3,
    "start_time": "2025-02-21T03:13:36.134Z"
   },
   {
    "duration": 3,
    "start_time": "2025-02-21T03:13:36.138Z"
   },
   {
    "duration": 4,
    "start_time": "2025-02-21T03:13:36.143Z"
   },
   {
    "duration": 2,
    "start_time": "2025-02-21T03:13:36.149Z"
   },
   {
    "duration": 3,
    "start_time": "2025-02-21T03:13:36.153Z"
   },
   {
    "duration": 3,
    "start_time": "2025-02-21T03:13:36.157Z"
   },
   {
    "duration": 3,
    "start_time": "2025-02-21T03:13:36.162Z"
   },
   {
    "duration": 2,
    "start_time": "2025-02-21T03:13:36.167Z"
   },
   {
    "duration": 2,
    "start_time": "2025-02-21T03:13:36.174Z"
   },
   {
    "duration": 3,
    "start_time": "2025-02-21T03:13:36.178Z"
   },
   {
    "duration": 45,
    "start_time": "2025-02-21T03:13:36.182Z"
   },
   {
    "duration": 4,
    "start_time": "2025-02-21T03:13:36.228Z"
   },
   {
    "duration": 3,
    "start_time": "2025-02-21T03:13:36.233Z"
   },
   {
    "duration": 745,
    "start_time": "2025-02-21T04:03:46.004Z"
   },
   {
    "duration": 156,
    "start_time": "2025-02-21T04:03:46.752Z"
   },
   {
    "duration": 47,
    "start_time": "2025-02-21T04:03:46.910Z"
   },
   {
    "duration": 32,
    "start_time": "2025-02-21T04:03:46.959Z"
   },
   {
    "duration": 44,
    "start_time": "2025-02-21T04:03:46.994Z"
   },
   {
    "duration": 28,
    "start_time": "2025-02-21T04:03:47.040Z"
   },
   {
    "duration": 23,
    "start_time": "2025-02-21T04:03:47.070Z"
   },
   {
    "duration": 33,
    "start_time": "2025-02-21T04:03:47.095Z"
   },
   {
    "duration": 7,
    "start_time": "2025-02-21T04:03:47.130Z"
   },
   {
    "duration": 2,
    "start_time": "2025-02-21T04:03:47.139Z"
   },
   {
    "duration": 3,
    "start_time": "2025-02-21T04:03:47.143Z"
   },
   {
    "duration": 3,
    "start_time": "2025-02-21T04:03:47.148Z"
   },
   {
    "duration": 3,
    "start_time": "2025-02-21T04:03:47.152Z"
   },
   {
    "duration": 2,
    "start_time": "2025-02-21T04:03:47.159Z"
   },
   {
    "duration": 3,
    "start_time": "2025-02-21T04:03:47.163Z"
   },
   {
    "duration": 1,
    "start_time": "2025-02-21T04:03:47.169Z"
   },
   {
    "duration": 3,
    "start_time": "2025-02-21T04:03:47.172Z"
   },
   {
    "duration": 3,
    "start_time": "2025-02-21T04:03:47.176Z"
   },
   {
    "duration": 3,
    "start_time": "2025-02-21T04:03:47.223Z"
   },
   {
    "duration": 3,
    "start_time": "2025-02-21T04:03:47.228Z"
   },
   {
    "duration": 3,
    "start_time": "2025-02-21T04:03:47.232Z"
   },
   {
    "duration": 3,
    "start_time": "2025-02-21T04:03:47.237Z"
   },
   {
    "duration": 2,
    "start_time": "2025-02-21T04:03:47.242Z"
   },
   {
    "duration": 3,
    "start_time": "2025-02-21T04:03:47.246Z"
   },
   {
    "duration": 3,
    "start_time": "2025-02-21T04:03:47.250Z"
   },
   {
    "duration": 3,
    "start_time": "2025-02-21T04:03:47.255Z"
   },
   {
    "duration": 3,
    "start_time": "2025-02-21T04:03:47.259Z"
   },
   {
    "duration": 3,
    "start_time": "2025-02-21T04:03:47.264Z"
   },
   {
    "duration": 3,
    "start_time": "2025-02-21T04:03:47.268Z"
   },
   {
    "duration": 3,
    "start_time": "2025-02-21T04:03:47.273Z"
   },
   {
    "duration": 47,
    "start_time": "2025-02-21T04:03:47.277Z"
   },
   {
    "duration": 5,
    "start_time": "2025-02-21T04:03:47.325Z"
   },
   {
    "duration": 2,
    "start_time": "2025-02-21T04:03:47.332Z"
   },
   {
    "duration": 3,
    "start_time": "2025-02-21T04:03:47.336Z"
   },
   {
    "duration": 1,
    "start_time": "2025-02-21T04:03:47.342Z"
   },
   {
    "duration": 751,
    "start_time": "2025-02-21T04:18:12.128Z"
   },
   {
    "duration": 160,
    "start_time": "2025-02-21T04:18:12.881Z"
   },
   {
    "duration": 41,
    "start_time": "2025-02-21T04:18:13.043Z"
   },
   {
    "duration": 48,
    "start_time": "2025-02-21T04:18:13.086Z"
   },
   {
    "duration": 27,
    "start_time": "2025-02-21T04:18:13.136Z"
   },
   {
    "duration": 30,
    "start_time": "2025-02-21T04:18:13.165Z"
   },
   {
    "duration": 48,
    "start_time": "2025-02-21T04:18:13.197Z"
   },
   {
    "duration": 9,
    "start_time": "2025-02-21T04:18:13.247Z"
   },
   {
    "duration": 7,
    "start_time": "2025-02-21T04:18:13.258Z"
   },
   {
    "duration": 159,
    "start_time": "2025-02-21T04:18:13.268Z"
   },
   {
    "duration": 0,
    "start_time": "2025-02-21T04:18:13.429Z"
   },
   {
    "duration": 0,
    "start_time": "2025-02-21T04:18:13.430Z"
   },
   {
    "duration": 0,
    "start_time": "2025-02-21T04:18:13.431Z"
   },
   {
    "duration": 0,
    "start_time": "2025-02-21T04:18:13.433Z"
   },
   {
    "duration": 0,
    "start_time": "2025-02-21T04:18:13.434Z"
   },
   {
    "duration": 0,
    "start_time": "2025-02-21T04:18:13.435Z"
   },
   {
    "duration": 0,
    "start_time": "2025-02-21T04:18:13.436Z"
   },
   {
    "duration": 0,
    "start_time": "2025-02-21T04:18:13.438Z"
   },
   {
    "duration": 0,
    "start_time": "2025-02-21T04:18:13.439Z"
   },
   {
    "duration": 0,
    "start_time": "2025-02-21T04:18:13.441Z"
   },
   {
    "duration": 0,
    "start_time": "2025-02-21T04:18:13.442Z"
   },
   {
    "duration": 0,
    "start_time": "2025-02-21T04:18:13.443Z"
   },
   {
    "duration": 0,
    "start_time": "2025-02-21T04:18:13.444Z"
   },
   {
    "duration": 0,
    "start_time": "2025-02-21T04:18:13.445Z"
   },
   {
    "duration": 0,
    "start_time": "2025-02-21T04:18:13.446Z"
   },
   {
    "duration": 0,
    "start_time": "2025-02-21T04:18:13.447Z"
   },
   {
    "duration": 0,
    "start_time": "2025-02-21T04:18:13.448Z"
   },
   {
    "duration": 0,
    "start_time": "2025-02-21T04:18:13.449Z"
   },
   {
    "duration": 0,
    "start_time": "2025-02-21T04:18:13.450Z"
   },
   {
    "duration": 0,
    "start_time": "2025-02-21T04:18:13.451Z"
   },
   {
    "duration": 0,
    "start_time": "2025-02-21T04:18:13.452Z"
   },
   {
    "duration": 0,
    "start_time": "2025-02-21T04:18:13.454Z"
   },
   {
    "duration": 0,
    "start_time": "2025-02-21T04:18:13.455Z"
   },
   {
    "duration": 0,
    "start_time": "2025-02-21T04:18:13.457Z"
   },
   {
    "duration": 0,
    "start_time": "2025-02-21T04:18:13.461Z"
   },
   {
    "duration": 0,
    "start_time": "2025-02-21T04:18:13.462Z"
   },
   {
    "duration": 17,
    "start_time": "2025-02-21T04:18:39.774Z"
   },
   {
    "duration": 18,
    "start_time": "2025-02-21T04:19:47.805Z"
   },
   {
    "duration": 747,
    "start_time": "2025-02-21T04:24:34.199Z"
   },
   {
    "duration": 223,
    "start_time": "2025-02-21T04:24:34.949Z"
   },
   {
    "duration": 56,
    "start_time": "2025-02-21T04:24:35.174Z"
   },
   {
    "duration": 37,
    "start_time": "2025-02-21T04:24:35.234Z"
   },
   {
    "duration": 24,
    "start_time": "2025-02-21T04:24:35.272Z"
   },
   {
    "duration": 60,
    "start_time": "2025-02-21T04:24:35.297Z"
   },
   {
    "duration": 25,
    "start_time": "2025-02-21T04:24:35.359Z"
   },
   {
    "duration": 9,
    "start_time": "2025-02-21T04:24:35.385Z"
   },
   {
    "duration": 33,
    "start_time": "2025-02-21T04:24:35.396Z"
   },
   {
    "duration": 14,
    "start_time": "2025-02-21T04:24:35.433Z"
   },
   {
    "duration": 9,
    "start_time": "2025-02-21T04:24:35.449Z"
   },
   {
    "duration": 10,
    "start_time": "2025-02-21T04:24:35.460Z"
   },
   {
    "duration": 3,
    "start_time": "2025-02-21T04:24:35.471Z"
   },
   {
    "duration": 5,
    "start_time": "2025-02-21T04:24:35.475Z"
   },
   {
    "duration": 3,
    "start_time": "2025-02-21T04:24:35.481Z"
   },
   {
    "duration": 40,
    "start_time": "2025-02-21T04:24:35.485Z"
   },
   {
    "duration": 3,
    "start_time": "2025-02-21T04:24:35.527Z"
   },
   {
    "duration": 3,
    "start_time": "2025-02-21T04:24:35.531Z"
   },
   {
    "duration": 4,
    "start_time": "2025-02-21T04:24:35.535Z"
   },
   {
    "duration": 2,
    "start_time": "2025-02-21T04:24:35.541Z"
   },
   {
    "duration": 2,
    "start_time": "2025-02-21T04:24:35.545Z"
   },
   {
    "duration": 3,
    "start_time": "2025-02-21T04:24:35.549Z"
   },
   {
    "duration": 3,
    "start_time": "2025-02-21T04:24:35.553Z"
   },
   {
    "duration": 3,
    "start_time": "2025-02-21T04:24:35.558Z"
   },
   {
    "duration": 3,
    "start_time": "2025-02-21T04:24:35.563Z"
   },
   {
    "duration": 3,
    "start_time": "2025-02-21T04:24:35.568Z"
   },
   {
    "duration": 2,
    "start_time": "2025-02-21T04:24:35.573Z"
   },
   {
    "duration": 46,
    "start_time": "2025-02-21T04:24:35.580Z"
   },
   {
    "duration": 2,
    "start_time": "2025-02-21T04:24:35.629Z"
   },
   {
    "duration": 3,
    "start_time": "2025-02-21T04:24:35.633Z"
   },
   {
    "duration": 3,
    "start_time": "2025-02-21T04:24:35.638Z"
   },
   {
    "duration": 2,
    "start_time": "2025-02-21T04:24:35.643Z"
   },
   {
    "duration": 4,
    "start_time": "2025-02-21T04:24:35.647Z"
   },
   {
    "duration": 3,
    "start_time": "2025-02-21T04:24:35.653Z"
   },
   {
    "duration": 4,
    "start_time": "2025-02-21T04:24:35.657Z"
   },
   {
    "duration": 2,
    "start_time": "2025-02-21T04:24:35.663Z"
   },
   {
    "duration": 2401,
    "start_time": "2025-02-21T16:05:55.593Z"
   },
   {
    "duration": 226,
    "start_time": "2025-02-21T16:05:57.996Z"
   },
   {
    "duration": 39,
    "start_time": "2025-02-21T16:05:58.223Z"
   },
   {
    "duration": 30,
    "start_time": "2025-02-21T16:05:58.264Z"
   },
   {
    "duration": 36,
    "start_time": "2025-02-21T16:05:58.297Z"
   },
   {
    "duration": 29,
    "start_time": "2025-02-21T16:05:58.334Z"
   },
   {
    "duration": 49,
    "start_time": "2025-02-21T16:05:58.364Z"
   },
   {
    "duration": 10,
    "start_time": "2025-02-21T16:05:58.414Z"
   },
   {
    "duration": 8,
    "start_time": "2025-02-21T16:05:58.425Z"
   },
   {
    "duration": 11,
    "start_time": "2025-02-21T16:05:58.435Z"
   },
   {
    "duration": 7,
    "start_time": "2025-02-21T16:05:58.448Z"
   },
   {
    "duration": 8,
    "start_time": "2025-02-21T16:05:58.456Z"
   },
   {
    "duration": 4,
    "start_time": "2025-02-21T16:05:58.466Z"
   },
   {
    "duration": 0,
    "start_time": "2025-02-21T16:05:58.473Z"
   },
   {
    "duration": 0,
    "start_time": "2025-02-21T16:05:58.474Z"
   },
   {
    "duration": 0,
    "start_time": "2025-02-21T16:05:58.512Z"
   },
   {
    "duration": 0,
    "start_time": "2025-02-21T16:05:58.513Z"
   },
   {
    "duration": 0,
    "start_time": "2025-02-21T16:05:58.515Z"
   },
   {
    "duration": 0,
    "start_time": "2025-02-21T16:05:58.517Z"
   },
   {
    "duration": 0,
    "start_time": "2025-02-21T16:05:58.518Z"
   },
   {
    "duration": 0,
    "start_time": "2025-02-21T16:05:58.520Z"
   },
   {
    "duration": 0,
    "start_time": "2025-02-21T16:05:58.521Z"
   },
   {
    "duration": 0,
    "start_time": "2025-02-21T16:05:58.522Z"
   },
   {
    "duration": 0,
    "start_time": "2025-02-21T16:05:58.523Z"
   },
   {
    "duration": 0,
    "start_time": "2025-02-21T16:05:58.524Z"
   },
   {
    "duration": 0,
    "start_time": "2025-02-21T16:05:58.525Z"
   },
   {
    "duration": 0,
    "start_time": "2025-02-21T16:05:58.526Z"
   },
   {
    "duration": 0,
    "start_time": "2025-02-21T16:05:58.527Z"
   },
   {
    "duration": 0,
    "start_time": "2025-02-21T16:05:58.529Z"
   },
   {
    "duration": 0,
    "start_time": "2025-02-21T16:05:58.530Z"
   },
   {
    "duration": 0,
    "start_time": "2025-02-21T16:05:58.531Z"
   },
   {
    "duration": 0,
    "start_time": "2025-02-21T16:05:58.532Z"
   },
   {
    "duration": 0,
    "start_time": "2025-02-21T16:05:58.533Z"
   },
   {
    "duration": 0,
    "start_time": "2025-02-21T16:05:58.534Z"
   },
   {
    "duration": 0,
    "start_time": "2025-02-21T16:05:58.535Z"
   },
   {
    "duration": 0,
    "start_time": "2025-02-21T16:05:58.536Z"
   },
   {
    "duration": 0,
    "start_time": "2025-02-21T16:05:58.537Z"
   },
   {
    "duration": 2695,
    "start_time": "2025-02-21T17:10:15.675Z"
   },
   {
    "duration": 238,
    "start_time": "2025-02-21T17:10:18.372Z"
   },
   {
    "duration": 49,
    "start_time": "2025-02-21T17:10:18.612Z"
   },
   {
    "duration": 42,
    "start_time": "2025-02-21T17:10:18.664Z"
   },
   {
    "duration": 28,
    "start_time": "2025-02-21T17:10:18.708Z"
   },
   {
    "duration": 28,
    "start_time": "2025-02-21T17:10:18.738Z"
   },
   {
    "duration": 54,
    "start_time": "2025-02-21T17:10:18.769Z"
   },
   {
    "duration": 8,
    "start_time": "2025-02-21T17:10:18.825Z"
   },
   {
    "duration": 8,
    "start_time": "2025-02-21T17:10:18.835Z"
   },
   {
    "duration": 12,
    "start_time": "2025-02-21T17:10:18.846Z"
   },
   {
    "duration": 8,
    "start_time": "2025-02-21T17:10:18.860Z"
   },
   {
    "duration": 36,
    "start_time": "2025-02-21T17:10:18.871Z"
   },
   {
    "duration": 6,
    "start_time": "2025-02-21T17:10:18.910Z"
   },
   {
    "duration": 0,
    "start_time": "2025-02-21T17:10:18.919Z"
   },
   {
    "duration": 0,
    "start_time": "2025-02-21T17:10:18.920Z"
   },
   {
    "duration": 0,
    "start_time": "2025-02-21T17:10:18.921Z"
   },
   {
    "duration": 0,
    "start_time": "2025-02-21T17:10:18.922Z"
   },
   {
    "duration": 0,
    "start_time": "2025-02-21T17:10:18.923Z"
   },
   {
    "duration": 0,
    "start_time": "2025-02-21T17:10:18.925Z"
   },
   {
    "duration": 0,
    "start_time": "2025-02-21T17:10:18.926Z"
   },
   {
    "duration": 0,
    "start_time": "2025-02-21T17:10:18.927Z"
   },
   {
    "duration": 0,
    "start_time": "2025-02-21T17:10:18.928Z"
   },
   {
    "duration": 0,
    "start_time": "2025-02-21T17:10:18.929Z"
   },
   {
    "duration": 0,
    "start_time": "2025-02-21T17:10:18.931Z"
   },
   {
    "duration": 0,
    "start_time": "2025-02-21T17:10:18.931Z"
   },
   {
    "duration": 0,
    "start_time": "2025-02-21T17:10:18.933Z"
   },
   {
    "duration": 0,
    "start_time": "2025-02-21T17:10:18.934Z"
   },
   {
    "duration": 0,
    "start_time": "2025-02-21T17:10:18.935Z"
   },
   {
    "duration": 0,
    "start_time": "2025-02-21T17:10:18.936Z"
   },
   {
    "duration": 0,
    "start_time": "2025-02-21T17:10:18.939Z"
   },
   {
    "duration": 0,
    "start_time": "2025-02-21T17:10:18.940Z"
   },
   {
    "duration": 0,
    "start_time": "2025-02-21T17:10:18.941Z"
   },
   {
    "duration": 0,
    "start_time": "2025-02-21T17:10:18.942Z"
   },
   {
    "duration": 0,
    "start_time": "2025-02-21T17:10:18.943Z"
   },
   {
    "duration": 0,
    "start_time": "2025-02-21T17:10:18.944Z"
   },
   {
    "duration": 0,
    "start_time": "2025-02-21T17:10:18.944Z"
   },
   {
    "duration": 7,
    "start_time": "2025-02-21T17:10:35.723Z"
   },
   {
    "duration": 4,
    "start_time": "2025-02-21T17:14:10.055Z"
   },
   {
    "duration": 4,
    "start_time": "2025-02-21T17:14:14.899Z"
   },
   {
    "duration": 860,
    "start_time": "2025-02-21T17:14:24.532Z"
   },
   {
    "duration": 153,
    "start_time": "2025-02-21T17:14:25.397Z"
   },
   {
    "duration": 49,
    "start_time": "2025-02-21T17:14:25.551Z"
   },
   {
    "duration": 42,
    "start_time": "2025-02-21T17:14:25.605Z"
   },
   {
    "duration": 25,
    "start_time": "2025-02-21T17:14:25.649Z"
   },
   {
    "duration": 51,
    "start_time": "2025-02-21T17:14:25.675Z"
   },
   {
    "duration": 26,
    "start_time": "2025-02-21T17:14:25.729Z"
   },
   {
    "duration": 9,
    "start_time": "2025-02-21T17:14:25.758Z"
   },
   {
    "duration": 8,
    "start_time": "2025-02-21T17:14:25.768Z"
   },
   {
    "duration": 14,
    "start_time": "2025-02-21T17:14:25.807Z"
   },
   {
    "duration": 10,
    "start_time": "2025-02-21T17:14:25.822Z"
   },
   {
    "duration": 9,
    "start_time": "2025-02-21T17:14:25.834Z"
   },
   {
    "duration": 5,
    "start_time": "2025-02-21T17:14:25.844Z"
   },
   {
    "duration": 0,
    "start_time": "2025-02-21T17:14:25.851Z"
   },
   {
    "duration": 0,
    "start_time": "2025-02-21T17:14:25.852Z"
   },
   {
    "duration": 0,
    "start_time": "2025-02-21T17:14:25.853Z"
   },
   {
    "duration": 0,
    "start_time": "2025-02-21T17:14:25.854Z"
   },
   {
    "duration": 0,
    "start_time": "2025-02-21T17:14:25.856Z"
   },
   {
    "duration": 0,
    "start_time": "2025-02-21T17:14:25.857Z"
   },
   {
    "duration": 0,
    "start_time": "2025-02-21T17:14:25.858Z"
   },
   {
    "duration": 0,
    "start_time": "2025-02-21T17:14:25.859Z"
   },
   {
    "duration": 0,
    "start_time": "2025-02-21T17:14:25.860Z"
   },
   {
    "duration": 0,
    "start_time": "2025-02-21T17:14:25.861Z"
   },
   {
    "duration": 0,
    "start_time": "2025-02-21T17:14:25.862Z"
   },
   {
    "duration": 0,
    "start_time": "2025-02-21T17:14:25.863Z"
   },
   {
    "duration": 0,
    "start_time": "2025-02-21T17:14:25.864Z"
   },
   {
    "duration": 0,
    "start_time": "2025-02-21T17:14:25.865Z"
   },
   {
    "duration": 0,
    "start_time": "2025-02-21T17:14:25.866Z"
   },
   {
    "duration": 0,
    "start_time": "2025-02-21T17:14:25.906Z"
   },
   {
    "duration": 0,
    "start_time": "2025-02-21T17:14:25.907Z"
   },
   {
    "duration": 0,
    "start_time": "2025-02-21T17:14:25.908Z"
   },
   {
    "duration": 0,
    "start_time": "2025-02-21T17:14:25.909Z"
   },
   {
    "duration": 0,
    "start_time": "2025-02-21T17:14:25.911Z"
   },
   {
    "duration": 0,
    "start_time": "2025-02-21T17:14:25.911Z"
   },
   {
    "duration": 0,
    "start_time": "2025-02-21T17:14:25.913Z"
   },
   {
    "duration": 0,
    "start_time": "2025-02-21T17:14:25.914Z"
   },
   {
    "duration": 7,
    "start_time": "2025-02-21T17:20:06.560Z"
   },
   {
    "duration": 23,
    "start_time": "2025-02-21T17:21:27.307Z"
   },
   {
    "duration": 11,
    "start_time": "2025-02-21T17:21:47.024Z"
   },
   {
    "duration": 8,
    "start_time": "2025-02-21T17:22:14.381Z"
   },
   {
    "duration": 4,
    "start_time": "2025-02-21T17:25:24.624Z"
   },
   {
    "duration": 14,
    "start_time": "2025-02-21T17:25:52.113Z"
   },
   {
    "duration": 2,
    "start_time": "2025-02-21T17:26:01.625Z"
   },
   {
    "duration": 7,
    "start_time": "2025-02-21T17:26:04.136Z"
   },
   {
    "duration": 20,
    "start_time": "2025-02-21T17:26:07.210Z"
   },
   {
    "duration": 7,
    "start_time": "2025-02-21T17:26:09.843Z"
   },
   {
    "duration": 4,
    "start_time": "2025-02-21T17:32:27.557Z"
   },
   {
    "duration": 761,
    "start_time": "2025-02-21T17:42:20.802Z"
   },
   {
    "duration": 173,
    "start_time": "2025-02-21T17:42:21.566Z"
   },
   {
    "duration": 40,
    "start_time": "2025-02-21T17:42:21.740Z"
   },
   {
    "duration": 47,
    "start_time": "2025-02-21T17:42:21.783Z"
   },
   {
    "duration": 28,
    "start_time": "2025-02-21T17:42:21.831Z"
   },
   {
    "duration": 51,
    "start_time": "2025-02-21T17:42:21.861Z"
   },
   {
    "duration": 35,
    "start_time": "2025-02-21T17:42:21.914Z"
   },
   {
    "duration": 9,
    "start_time": "2025-02-21T17:42:21.951Z"
   },
   {
    "duration": 8,
    "start_time": "2025-02-21T17:42:21.962Z"
   },
   {
    "duration": 8,
    "start_time": "2025-02-21T17:42:21.974Z"
   },
   {
    "duration": 10,
    "start_time": "2025-02-21T17:42:22.005Z"
   },
   {
    "duration": 3,
    "start_time": "2025-02-21T17:42:22.016Z"
   },
   {
    "duration": 6,
    "start_time": "2025-02-21T17:42:22.021Z"
   },
   {
    "duration": 19,
    "start_time": "2025-02-21T17:42:22.029Z"
   },
   {
    "duration": 8,
    "start_time": "2025-02-21T17:42:22.051Z"
   },
   {
    "duration": 3,
    "start_time": "2025-02-21T17:42:22.060Z"
   },
   {
    "duration": 46,
    "start_time": "2025-02-21T17:42:22.065Z"
   },
   {
    "duration": 6,
    "start_time": "2025-02-21T17:42:22.112Z"
   },
   {
    "duration": 3,
    "start_time": "2025-02-21T17:42:22.119Z"
   },
   {
    "duration": 3,
    "start_time": "2025-02-21T17:42:22.123Z"
   },
   {
    "duration": 2,
    "start_time": "2025-02-21T17:42:22.128Z"
   },
   {
    "duration": 3,
    "start_time": "2025-02-21T17:42:22.132Z"
   },
   {
    "duration": 3,
    "start_time": "2025-02-21T17:42:22.136Z"
   },
   {
    "duration": 3,
    "start_time": "2025-02-21T17:42:22.140Z"
   },
   {
    "duration": 2,
    "start_time": "2025-02-21T17:42:22.145Z"
   },
   {
    "duration": 3,
    "start_time": "2025-02-21T17:42:22.149Z"
   },
   {
    "duration": 2,
    "start_time": "2025-02-21T17:42:22.154Z"
   },
   {
    "duration": 3,
    "start_time": "2025-02-21T17:42:22.160Z"
   },
   {
    "duration": 3,
    "start_time": "2025-02-21T17:42:22.206Z"
   },
   {
    "duration": 2,
    "start_time": "2025-02-21T17:42:22.211Z"
   },
   {
    "duration": 2,
    "start_time": "2025-02-21T17:42:22.216Z"
   },
   {
    "duration": 2,
    "start_time": "2025-02-21T17:42:22.223Z"
   },
   {
    "duration": 4,
    "start_time": "2025-02-21T17:42:22.227Z"
   },
   {
    "duration": 3,
    "start_time": "2025-02-21T17:42:22.232Z"
   },
   {
    "duration": 3,
    "start_time": "2025-02-21T17:42:22.236Z"
   },
   {
    "duration": 2,
    "start_time": "2025-02-21T17:42:22.241Z"
   },
   {
    "duration": 15,
    "start_time": "2025-02-21T17:48:31.870Z"
   },
   {
    "duration": 13,
    "start_time": "2025-02-21T17:48:33.149Z"
   },
   {
    "duration": 8,
    "start_time": "2025-02-21T19:18:37.954Z"
   },
   {
    "duration": 0,
    "start_time": "2025-02-21T19:18:37.964Z"
   },
   {
    "duration": 0,
    "start_time": "2025-02-21T19:18:37.965Z"
   },
   {
    "duration": 0,
    "start_time": "2025-02-21T19:18:37.966Z"
   },
   {
    "duration": 0,
    "start_time": "2025-02-21T19:18:37.968Z"
   },
   {
    "duration": 0,
    "start_time": "2025-02-21T19:18:37.969Z"
   },
   {
    "duration": 159,
    "start_time": "2025-02-21T19:18:37.973Z"
   },
   {
    "duration": 0,
    "start_time": "2025-02-21T19:18:38.135Z"
   },
   {
    "duration": 0,
    "start_time": "2025-02-21T19:18:38.136Z"
   },
   {
    "duration": 0,
    "start_time": "2025-02-21T19:18:38.137Z"
   },
   {
    "duration": 0,
    "start_time": "2025-02-21T19:18:38.139Z"
   },
   {
    "duration": 0,
    "start_time": "2025-02-21T19:18:38.139Z"
   },
   {
    "duration": 0,
    "start_time": "2025-02-21T19:18:38.140Z"
   },
   {
    "duration": 0,
    "start_time": "2025-02-21T19:18:38.141Z"
   },
   {
    "duration": 0,
    "start_time": "2025-02-21T19:18:38.142Z"
   },
   {
    "duration": 0,
    "start_time": "2025-02-21T19:18:38.142Z"
   },
   {
    "duration": 0,
    "start_time": "2025-02-21T19:18:38.144Z"
   },
   {
    "duration": 0,
    "start_time": "2025-02-21T19:18:38.145Z"
   },
   {
    "duration": 0,
    "start_time": "2025-02-21T19:18:38.147Z"
   },
   {
    "duration": 0,
    "start_time": "2025-02-21T19:18:38.148Z"
   },
   {
    "duration": 0,
    "start_time": "2025-02-21T19:18:38.149Z"
   },
   {
    "duration": 0,
    "start_time": "2025-02-21T19:18:38.151Z"
   },
   {
    "duration": 0,
    "start_time": "2025-02-21T19:18:38.152Z"
   },
   {
    "duration": 0,
    "start_time": "2025-02-21T19:18:38.154Z"
   },
   {
    "duration": 0,
    "start_time": "2025-02-21T19:18:38.155Z"
   },
   {
    "duration": 0,
    "start_time": "2025-02-21T19:18:38.156Z"
   },
   {
    "duration": 0,
    "start_time": "2025-02-21T19:18:38.158Z"
   },
   {
    "duration": 0,
    "start_time": "2025-02-21T19:18:38.159Z"
   },
   {
    "duration": 0,
    "start_time": "2025-02-21T19:18:38.160Z"
   },
   {
    "duration": 0,
    "start_time": "2025-02-21T19:18:38.162Z"
   },
   {
    "duration": 0,
    "start_time": "2025-02-21T19:18:38.164Z"
   },
   {
    "duration": 0,
    "start_time": "2025-02-21T19:18:38.165Z"
   },
   {
    "duration": 0,
    "start_time": "2025-02-21T19:18:38.167Z"
   },
   {
    "duration": 0,
    "start_time": "2025-02-21T19:18:38.224Z"
   },
   {
    "duration": 0,
    "start_time": "2025-02-21T19:18:38.225Z"
   },
   {
    "duration": 0,
    "start_time": "2025-02-21T19:18:38.227Z"
   },
   {
    "duration": 0,
    "start_time": "2025-02-21T19:18:38.228Z"
   },
   {
    "duration": 0,
    "start_time": "2025-02-21T19:18:38.229Z"
   },
   {
    "duration": 16,
    "start_time": "2025-02-21T19:18:53.038Z"
   },
   {
    "duration": 12,
    "start_time": "2025-02-21T19:19:08.541Z"
   },
   {
    "duration": 11,
    "start_time": "2025-02-21T19:19:11.626Z"
   },
   {
    "duration": 8,
    "start_time": "2025-02-21T19:19:19.821Z"
   },
   {
    "duration": 0,
    "start_time": "2025-02-21T19:19:19.830Z"
   },
   {
    "duration": 0,
    "start_time": "2025-02-21T19:19:19.832Z"
   },
   {
    "duration": 0,
    "start_time": "2025-02-21T19:19:19.833Z"
   },
   {
    "duration": 189,
    "start_time": "2025-02-21T19:19:19.836Z"
   },
   {
    "duration": 0,
    "start_time": "2025-02-21T19:19:20.028Z"
   },
   {
    "duration": 0,
    "start_time": "2025-02-21T19:19:20.031Z"
   },
   {
    "duration": 0,
    "start_time": "2025-02-21T19:19:20.033Z"
   },
   {
    "duration": 0,
    "start_time": "2025-02-21T19:19:20.034Z"
   },
   {
    "duration": 0,
    "start_time": "2025-02-21T19:19:20.036Z"
   },
   {
    "duration": 0,
    "start_time": "2025-02-21T19:19:20.037Z"
   },
   {
    "duration": 0,
    "start_time": "2025-02-21T19:19:20.038Z"
   },
   {
    "duration": 0,
    "start_time": "2025-02-21T19:19:20.040Z"
   },
   {
    "duration": 0,
    "start_time": "2025-02-21T19:19:20.041Z"
   },
   {
    "duration": 0,
    "start_time": "2025-02-21T19:19:20.042Z"
   },
   {
    "duration": 0,
    "start_time": "2025-02-21T19:19:20.044Z"
   },
   {
    "duration": 0,
    "start_time": "2025-02-21T19:19:20.045Z"
   },
   {
    "duration": 0,
    "start_time": "2025-02-21T19:19:20.046Z"
   },
   {
    "duration": 0,
    "start_time": "2025-02-21T19:19:20.047Z"
   },
   {
    "duration": 0,
    "start_time": "2025-02-21T19:19:20.049Z"
   },
   {
    "duration": 0,
    "start_time": "2025-02-21T19:19:20.049Z"
   },
   {
    "duration": 0,
    "start_time": "2025-02-21T19:19:20.051Z"
   },
   {
    "duration": 0,
    "start_time": "2025-02-21T19:19:20.052Z"
   },
   {
    "duration": 0,
    "start_time": "2025-02-21T19:19:20.053Z"
   },
   {
    "duration": 0,
    "start_time": "2025-02-21T19:19:20.054Z"
   },
   {
    "duration": 0,
    "start_time": "2025-02-21T19:19:20.055Z"
   },
   {
    "duration": 0,
    "start_time": "2025-02-21T19:19:20.056Z"
   },
   {
    "duration": 0,
    "start_time": "2025-02-21T19:19:20.058Z"
   },
   {
    "duration": 0,
    "start_time": "2025-02-21T19:19:20.059Z"
   },
   {
    "duration": 0,
    "start_time": "2025-02-21T19:19:20.059Z"
   },
   {
    "duration": 0,
    "start_time": "2025-02-21T19:19:20.060Z"
   },
   {
    "duration": 1,
    "start_time": "2025-02-21T19:19:20.061Z"
   },
   {
    "duration": 0,
    "start_time": "2025-02-21T19:19:20.062Z"
   },
   {
    "duration": 0,
    "start_time": "2025-02-21T19:19:20.063Z"
   },
   {
    "duration": 0,
    "start_time": "2025-02-21T19:19:20.064Z"
   },
   {
    "duration": 0,
    "start_time": "2025-02-21T19:19:20.065Z"
   },
   {
    "duration": 0,
    "start_time": "2025-02-21T19:19:20.066Z"
   },
   {
    "duration": 0,
    "start_time": "2025-02-21T19:19:20.125Z"
   },
   {
    "duration": 12,
    "start_time": "2025-02-21T19:20:00.868Z"
   },
   {
    "duration": 2701,
    "start_time": "2025-02-21T19:20:28.162Z"
   },
   {
    "duration": 212,
    "start_time": "2025-02-21T19:20:30.866Z"
   },
   {
    "duration": 41,
    "start_time": "2025-02-21T19:20:31.080Z"
   },
   {
    "duration": 32,
    "start_time": "2025-02-21T19:20:31.125Z"
   },
   {
    "duration": 29,
    "start_time": "2025-02-21T19:20:31.159Z"
   },
   {
    "duration": 58,
    "start_time": "2025-02-21T19:20:31.190Z"
   },
   {
    "duration": 25,
    "start_time": "2025-02-21T19:20:31.250Z"
   },
   {
    "duration": 8,
    "start_time": "2025-02-21T19:20:31.277Z"
   },
   {
    "duration": 8,
    "start_time": "2025-02-21T19:20:31.287Z"
   },
   {
    "duration": 8,
    "start_time": "2025-02-21T19:20:31.325Z"
   },
   {
    "duration": 9,
    "start_time": "2025-02-21T19:20:31.335Z"
   },
   {
    "duration": 3,
    "start_time": "2025-02-21T19:20:31.345Z"
   },
   {
    "duration": 6,
    "start_time": "2025-02-21T19:20:31.350Z"
   },
   {
    "duration": 16,
    "start_time": "2025-02-21T19:20:31.359Z"
   },
   {
    "duration": 6,
    "start_time": "2025-02-21T19:20:31.377Z"
   },
   {
    "duration": 2,
    "start_time": "2025-02-21T19:20:31.385Z"
   },
   {
    "duration": 12,
    "start_time": "2025-02-21T19:20:31.425Z"
   },
   {
    "duration": 7,
    "start_time": "2025-02-21T19:20:31.439Z"
   },
   {
    "duration": 3,
    "start_time": "2025-02-21T19:20:31.447Z"
   },
   {
    "duration": 15,
    "start_time": "2025-02-21T19:20:31.451Z"
   },
   {
    "duration": 7,
    "start_time": "2025-02-21T19:20:31.467Z"
   },
   {
    "duration": 3,
    "start_time": "2025-02-21T19:20:31.475Z"
   },
   {
    "duration": 2,
    "start_time": "2025-02-21T19:20:31.480Z"
   },
   {
    "duration": 40,
    "start_time": "2025-02-21T19:20:31.484Z"
   },
   {
    "duration": 3,
    "start_time": "2025-02-21T19:20:31.525Z"
   },
   {
    "duration": 2,
    "start_time": "2025-02-21T19:20:31.530Z"
   },
   {
    "duration": 3,
    "start_time": "2025-02-21T19:20:31.534Z"
   },
   {
    "duration": 2,
    "start_time": "2025-02-21T19:20:31.541Z"
   },
   {
    "duration": 3,
    "start_time": "2025-02-21T19:20:31.545Z"
   },
   {
    "duration": 3,
    "start_time": "2025-02-21T19:20:31.549Z"
   },
   {
    "duration": 4,
    "start_time": "2025-02-21T19:20:31.554Z"
   },
   {
    "duration": 5,
    "start_time": "2025-02-21T19:20:31.560Z"
   },
   {
    "duration": 3,
    "start_time": "2025-02-21T19:20:31.567Z"
   },
   {
    "duration": 3,
    "start_time": "2025-02-21T19:20:31.572Z"
   },
   {
    "duration": 3,
    "start_time": "2025-02-21T19:20:31.577Z"
   },
   {
    "duration": 42,
    "start_time": "2025-02-21T19:20:31.582Z"
   },
   {
    "duration": 3,
    "start_time": "2025-02-21T19:20:31.626Z"
   },
   {
    "duration": 3,
    "start_time": "2025-02-21T19:20:31.630Z"
   },
   {
    "duration": 879,
    "start_time": "2025-02-21T20:32:18.595Z"
   },
   {
    "duration": 164,
    "start_time": "2025-02-21T20:32:19.476Z"
   },
   {
    "duration": 45,
    "start_time": "2025-02-21T20:32:19.641Z"
   },
   {
    "duration": 54,
    "start_time": "2025-02-21T20:32:19.688Z"
   },
   {
    "duration": 30,
    "start_time": "2025-02-21T20:32:19.745Z"
   },
   {
    "duration": 50,
    "start_time": "2025-02-21T20:32:19.777Z"
   },
   {
    "duration": 35,
    "start_time": "2025-02-21T20:32:19.829Z"
   },
   {
    "duration": 8,
    "start_time": "2025-02-21T20:32:19.866Z"
   },
   {
    "duration": 9,
    "start_time": "2025-02-21T20:32:19.877Z"
   },
   {
    "duration": 310,
    "start_time": "2025-02-21T20:32:19.890Z"
   },
   {
    "duration": 0,
    "start_time": "2025-02-21T20:32:20.204Z"
   },
   {
    "duration": 0,
    "start_time": "2025-02-21T20:32:20.205Z"
   },
   {
    "duration": 0,
    "start_time": "2025-02-21T20:32:20.206Z"
   },
   {
    "duration": 0,
    "start_time": "2025-02-21T20:32:20.207Z"
   },
   {
    "duration": 0,
    "start_time": "2025-02-21T20:32:20.209Z"
   },
   {
    "duration": 0,
    "start_time": "2025-02-21T20:32:20.210Z"
   },
   {
    "duration": 0,
    "start_time": "2025-02-21T20:32:20.225Z"
   },
   {
    "duration": 0,
    "start_time": "2025-02-21T20:32:20.226Z"
   },
   {
    "duration": 0,
    "start_time": "2025-02-21T20:32:20.227Z"
   },
   {
    "duration": 0,
    "start_time": "2025-02-21T20:32:20.229Z"
   },
   {
    "duration": 0,
    "start_time": "2025-02-21T20:32:20.230Z"
   },
   {
    "duration": 0,
    "start_time": "2025-02-21T20:32:20.232Z"
   },
   {
    "duration": 0,
    "start_time": "2025-02-21T20:32:20.233Z"
   },
   {
    "duration": 0,
    "start_time": "2025-02-21T20:32:20.235Z"
   },
   {
    "duration": 0,
    "start_time": "2025-02-21T20:32:20.236Z"
   },
   {
    "duration": 0,
    "start_time": "2025-02-21T20:32:20.238Z"
   },
   {
    "duration": 0,
    "start_time": "2025-02-21T20:32:20.242Z"
   },
   {
    "duration": 0,
    "start_time": "2025-02-21T20:32:20.243Z"
   },
   {
    "duration": 0,
    "start_time": "2025-02-21T20:32:20.245Z"
   },
   {
    "duration": 0,
    "start_time": "2025-02-21T20:32:20.247Z"
   },
   {
    "duration": 0,
    "start_time": "2025-02-21T20:32:20.248Z"
   },
   {
    "duration": 0,
    "start_time": "2025-02-21T20:32:20.250Z"
   },
   {
    "duration": 0,
    "start_time": "2025-02-21T20:32:20.252Z"
   },
   {
    "duration": 0,
    "start_time": "2025-02-21T20:32:20.253Z"
   },
   {
    "duration": 0,
    "start_time": "2025-02-21T20:32:20.254Z"
   },
   {
    "duration": 0,
    "start_time": "2025-02-21T20:32:20.256Z"
   },
   {
    "duration": 0,
    "start_time": "2025-02-21T20:32:20.260Z"
   },
   {
    "duration": 0,
    "start_time": "2025-02-21T20:32:20.261Z"
   },
   {
    "duration": 0,
    "start_time": "2025-02-21T20:32:20.263Z"
   },
   {
    "duration": 4,
    "start_time": "2025-02-21T20:33:31.667Z"
   },
   {
    "duration": 8,
    "start_time": "2025-02-21T20:34:14.849Z"
   },
   {
    "duration": 13,
    "start_time": "2025-02-21T20:34:43.312Z"
   },
   {
    "duration": 3,
    "start_time": "2025-02-21T20:40:08.235Z"
   },
   {
    "duration": 3,
    "start_time": "2025-02-21T20:40:17.993Z"
   },
   {
    "duration": 4,
    "start_time": "2025-02-21T20:41:11.094Z"
   },
   {
    "duration": 3,
    "start_time": "2025-02-21T20:42:10.272Z"
   },
   {
    "duration": 427,
    "start_time": "2025-02-21T20:44:14.231Z"
   },
   {
    "duration": 123,
    "start_time": "2025-02-21T20:44:34.978Z"
   },
   {
    "duration": 855,
    "start_time": "2025-02-21T20:45:01.560Z"
   },
   {
    "duration": 161,
    "start_time": "2025-02-21T20:45:02.418Z"
   },
   {
    "duration": 43,
    "start_time": "2025-02-21T20:45:02.581Z"
   },
   {
    "duration": 30,
    "start_time": "2025-02-21T20:45:02.626Z"
   },
   {
    "duration": 22,
    "start_time": "2025-02-21T20:45:02.659Z"
   },
   {
    "duration": 54,
    "start_time": "2025-02-21T20:45:02.683Z"
   },
   {
    "duration": 26,
    "start_time": "2025-02-21T20:45:02.738Z"
   },
   {
    "duration": 8,
    "start_time": "2025-02-21T20:45:02.766Z"
   },
   {
    "duration": 8,
    "start_time": "2025-02-21T20:45:02.775Z"
   },
   {
    "duration": 40,
    "start_time": "2025-02-21T20:45:02.784Z"
   },
   {
    "duration": 13,
    "start_time": "2025-02-21T20:45:02.825Z"
   },
   {
    "duration": 7,
    "start_time": "2025-02-21T20:45:02.839Z"
   },
   {
    "duration": 8,
    "start_time": "2025-02-21T20:45:02.848Z"
   },
   {
    "duration": 401,
    "start_time": "2025-02-21T20:45:02.859Z"
   },
   {
    "duration": 0,
    "start_time": "2025-02-21T20:45:03.262Z"
   },
   {
    "duration": 0,
    "start_time": "2025-02-21T20:45:03.263Z"
   },
   {
    "duration": 0,
    "start_time": "2025-02-21T20:45:03.265Z"
   },
   {
    "duration": 0,
    "start_time": "2025-02-21T20:45:03.267Z"
   },
   {
    "duration": 0,
    "start_time": "2025-02-21T20:45:03.268Z"
   },
   {
    "duration": 0,
    "start_time": "2025-02-21T20:45:03.270Z"
   },
   {
    "duration": 0,
    "start_time": "2025-02-21T20:45:03.271Z"
   },
   {
    "duration": 0,
    "start_time": "2025-02-21T20:45:03.273Z"
   },
   {
    "duration": 0,
    "start_time": "2025-02-21T20:45:03.273Z"
   },
   {
    "duration": 0,
    "start_time": "2025-02-21T20:45:03.275Z"
   },
   {
    "duration": 0,
    "start_time": "2025-02-21T20:45:03.276Z"
   },
   {
    "duration": 0,
    "start_time": "2025-02-21T20:45:03.277Z"
   },
   {
    "duration": 0,
    "start_time": "2025-02-21T20:45:03.278Z"
   },
   {
    "duration": 0,
    "start_time": "2025-02-21T20:45:03.279Z"
   },
   {
    "duration": 0,
    "start_time": "2025-02-21T20:45:03.280Z"
   },
   {
    "duration": 0,
    "start_time": "2025-02-21T20:45:03.281Z"
   },
   {
    "duration": 0,
    "start_time": "2025-02-21T20:45:03.282Z"
   },
   {
    "duration": 0,
    "start_time": "2025-02-21T20:45:03.283Z"
   },
   {
    "duration": 0,
    "start_time": "2025-02-21T20:45:03.324Z"
   },
   {
    "duration": 0,
    "start_time": "2025-02-21T20:45:03.325Z"
   },
   {
    "duration": 0,
    "start_time": "2025-02-21T20:45:03.327Z"
   },
   {
    "duration": 0,
    "start_time": "2025-02-21T20:45:03.329Z"
   },
   {
    "duration": 0,
    "start_time": "2025-02-21T20:45:03.330Z"
   },
   {
    "duration": 0,
    "start_time": "2025-02-21T20:45:03.332Z"
   },
   {
    "duration": 0,
    "start_time": "2025-02-21T20:45:03.334Z"
   },
   {
    "duration": 0,
    "start_time": "2025-02-21T20:45:03.335Z"
   },
   {
    "duration": 23,
    "start_time": "2025-02-21T20:50:15.062Z"
   },
   {
    "duration": 6,
    "start_time": "2025-02-21T20:51:16.819Z"
   },
   {
    "duration": 7,
    "start_time": "2025-02-21T20:56:05.301Z"
   },
   {
    "duration": 2524,
    "start_time": "2025-02-22T00:08:25.712Z"
   },
   {
    "duration": 225,
    "start_time": "2025-02-22T00:08:28.238Z"
   },
   {
    "duration": 42,
    "start_time": "2025-02-22T00:08:28.466Z"
   },
   {
    "duration": 31,
    "start_time": "2025-02-22T00:08:28.512Z"
   },
   {
    "duration": 23,
    "start_time": "2025-02-22T00:08:28.545Z"
   },
   {
    "duration": 46,
    "start_time": "2025-02-22T00:08:28.570Z"
   },
   {
    "duration": 26,
    "start_time": "2025-02-22T00:08:28.618Z"
   },
   {
    "duration": 8,
    "start_time": "2025-02-22T00:08:28.645Z"
   },
   {
    "duration": 8,
    "start_time": "2025-02-22T00:08:28.655Z"
   },
   {
    "duration": 5,
    "start_time": "2025-02-22T00:08:28.667Z"
   },
   {
    "duration": 50,
    "start_time": "2025-02-22T00:08:28.673Z"
   },
   {
    "duration": 8,
    "start_time": "2025-02-22T00:08:28.724Z"
   },
   {
    "duration": 7,
    "start_time": "2025-02-22T00:08:28.734Z"
   },
   {
    "duration": 20,
    "start_time": "2025-02-22T00:08:28.743Z"
   },
   {
    "duration": 5,
    "start_time": "2025-02-22T00:08:28.765Z"
   },
   {
    "duration": 0,
    "start_time": "2025-02-22T00:08:28.772Z"
   },
   {
    "duration": 0,
    "start_time": "2025-02-22T00:08:28.774Z"
   },
   {
    "duration": 0,
    "start_time": "2025-02-22T00:08:28.775Z"
   },
   {
    "duration": 1,
    "start_time": "2025-02-22T00:08:28.775Z"
   },
   {
    "duration": 0,
    "start_time": "2025-02-22T00:08:28.812Z"
   },
   {
    "duration": 0,
    "start_time": "2025-02-22T00:08:28.813Z"
   },
   {
    "duration": 0,
    "start_time": "2025-02-22T00:08:28.814Z"
   },
   {
    "duration": 0,
    "start_time": "2025-02-22T00:08:28.815Z"
   },
   {
    "duration": 0,
    "start_time": "2025-02-22T00:08:28.817Z"
   },
   {
    "duration": 0,
    "start_time": "2025-02-22T00:08:28.818Z"
   },
   {
    "duration": 0,
    "start_time": "2025-02-22T00:08:28.820Z"
   },
   {
    "duration": 0,
    "start_time": "2025-02-22T00:08:28.821Z"
   },
   {
    "duration": 0,
    "start_time": "2025-02-22T00:08:28.822Z"
   },
   {
    "duration": 0,
    "start_time": "2025-02-22T00:08:28.823Z"
   },
   {
    "duration": 0,
    "start_time": "2025-02-22T00:08:28.824Z"
   },
   {
    "duration": 0,
    "start_time": "2025-02-22T00:08:28.825Z"
   },
   {
    "duration": 0,
    "start_time": "2025-02-22T00:08:28.826Z"
   },
   {
    "duration": 0,
    "start_time": "2025-02-22T00:08:28.827Z"
   },
   {
    "duration": 0,
    "start_time": "2025-02-22T00:08:28.828Z"
   },
   {
    "duration": 0,
    "start_time": "2025-02-22T00:08:28.829Z"
   },
   {
    "duration": 0,
    "start_time": "2025-02-22T00:08:28.831Z"
   },
   {
    "duration": 0,
    "start_time": "2025-02-22T00:08:28.835Z"
   },
   {
    "duration": 0,
    "start_time": "2025-02-22T00:08:28.836Z"
   },
   {
    "duration": 0,
    "start_time": "2025-02-22T00:08:28.838Z"
   },
   {
    "duration": 0,
    "start_time": "2025-02-22T00:08:28.839Z"
   },
   {
    "duration": 0,
    "start_time": "2025-02-22T00:08:28.841Z"
   },
   {
    "duration": 4,
    "start_time": "2025-02-22T00:08:42.554Z"
   },
   {
    "duration": 207,
    "start_time": "2025-02-22T00:15:16.209Z"
   },
   {
    "duration": 10,
    "start_time": "2025-02-22T00:15:36.609Z"
   },
   {
    "duration": 24,
    "start_time": "2025-02-22T00:23:40.271Z"
   },
   {
    "duration": 22,
    "start_time": "2025-02-22T00:24:35.906Z"
   },
   {
    "duration": 28,
    "start_time": "2025-02-22T00:25:22.547Z"
   },
   {
    "duration": 22,
    "start_time": "2025-02-22T00:25:54.539Z"
   },
   {
    "duration": 20,
    "start_time": "2025-02-22T00:27:31.261Z"
   },
   {
    "duration": 15,
    "start_time": "2025-02-22T00:31:01.710Z"
   },
   {
    "duration": 24,
    "start_time": "2025-02-22T00:38:49.209Z"
   },
   {
    "duration": 23,
    "start_time": "2025-02-22T00:40:44.198Z"
   },
   {
    "duration": 5,
    "start_time": "2025-02-22T00:57:55.762Z"
   },
   {
    "duration": 14,
    "start_time": "2025-02-22T00:58:49.472Z"
   },
   {
    "duration": 830,
    "start_time": "2025-02-22T00:59:15.446Z"
   },
   {
    "duration": 165,
    "start_time": "2025-02-22T00:59:16.278Z"
   },
   {
    "duration": 37,
    "start_time": "2025-02-22T00:59:16.444Z"
   },
   {
    "duration": 40,
    "start_time": "2025-02-22T00:59:16.483Z"
   },
   {
    "duration": 21,
    "start_time": "2025-02-22T00:59:16.526Z"
   },
   {
    "duration": 27,
    "start_time": "2025-02-22T00:59:16.549Z"
   },
   {
    "duration": 53,
    "start_time": "2025-02-22T00:59:16.578Z"
   },
   {
    "duration": 8,
    "start_time": "2025-02-22T00:59:16.633Z"
   },
   {
    "duration": 7,
    "start_time": "2025-02-22T00:59:16.642Z"
   },
   {
    "duration": 5,
    "start_time": "2025-02-22T00:59:16.650Z"
   },
   {
    "duration": 12,
    "start_time": "2025-02-22T00:59:16.656Z"
   },
   {
    "duration": 42,
    "start_time": "2025-02-22T00:59:16.670Z"
   },
   {
    "duration": 7,
    "start_time": "2025-02-22T00:59:16.714Z"
   },
   {
    "duration": 21,
    "start_time": "2025-02-22T00:59:16.725Z"
   },
   {
    "duration": 9,
    "start_time": "2025-02-22T00:59:16.748Z"
   },
   {
    "duration": 15,
    "start_time": "2025-02-22T00:59:16.759Z"
   },
   {
    "duration": 42,
    "start_time": "2025-02-22T00:59:16.776Z"
   },
   {
    "duration": 15,
    "start_time": "2025-02-22T00:59:16.820Z"
   },
   {
    "duration": 6,
    "start_time": "2025-02-22T00:59:16.836Z"
   },
   {
    "duration": 21,
    "start_time": "2025-02-22T00:59:16.844Z"
   },
   {
    "duration": 49,
    "start_time": "2025-02-22T00:59:16.866Z"
   },
   {
    "duration": 262,
    "start_time": "2025-02-22T00:59:16.916Z"
   },
   {
    "duration": 0,
    "start_time": "2025-02-22T00:59:17.180Z"
   },
   {
    "duration": 0,
    "start_time": "2025-02-22T00:59:17.182Z"
   },
   {
    "duration": 0,
    "start_time": "2025-02-22T00:59:17.183Z"
   },
   {
    "duration": 0,
    "start_time": "2025-02-22T00:59:17.184Z"
   },
   {
    "duration": 0,
    "start_time": "2025-02-22T00:59:17.186Z"
   },
   {
    "duration": 0,
    "start_time": "2025-02-22T00:59:17.188Z"
   },
   {
    "duration": 0,
    "start_time": "2025-02-22T00:59:17.189Z"
   },
   {
    "duration": 0,
    "start_time": "2025-02-22T00:59:17.191Z"
   },
   {
    "duration": 0,
    "start_time": "2025-02-22T00:59:17.212Z"
   },
   {
    "duration": 0,
    "start_time": "2025-02-22T00:59:17.213Z"
   },
   {
    "duration": 0,
    "start_time": "2025-02-22T00:59:17.214Z"
   },
   {
    "duration": 0,
    "start_time": "2025-02-22T00:59:17.228Z"
   },
   {
    "duration": 0,
    "start_time": "2025-02-22T00:59:17.231Z"
   },
   {
    "duration": 0,
    "start_time": "2025-02-22T00:59:17.232Z"
   },
   {
    "duration": 0,
    "start_time": "2025-02-22T00:59:17.233Z"
   },
   {
    "duration": 0,
    "start_time": "2025-02-22T00:59:17.234Z"
   },
   {
    "duration": 0,
    "start_time": "2025-02-22T00:59:17.235Z"
   },
   {
    "duration": 0,
    "start_time": "2025-02-22T00:59:17.237Z"
   },
   {
    "duration": 0,
    "start_time": "2025-02-22T00:59:17.238Z"
   },
   {
    "duration": 0,
    "start_time": "2025-02-22T00:59:17.240Z"
   },
   {
    "duration": 0,
    "start_time": "2025-02-22T00:59:17.241Z"
   },
   {
    "duration": 0,
    "start_time": "2025-02-22T00:59:17.243Z"
   },
   {
    "duration": 13,
    "start_time": "2025-02-22T01:00:08.188Z"
   },
   {
    "duration": 12,
    "start_time": "2025-02-22T01:00:34.312Z"
   },
   {
    "duration": 11,
    "start_time": "2025-02-22T01:01:09.000Z"
   },
   {
    "duration": 10,
    "start_time": "2025-02-22T01:02:16.935Z"
   },
   {
    "duration": 21,
    "start_time": "2025-02-22T01:02:53.282Z"
   },
   {
    "duration": 24,
    "start_time": "2025-02-22T01:03:56.559Z"
   },
   {
    "duration": 250,
    "start_time": "2025-02-22T01:16:17.899Z"
   },
   {
    "duration": 13,
    "start_time": "2025-02-22T01:16:36.742Z"
   },
   {
    "duration": 12,
    "start_time": "2025-02-22T01:20:38.945Z"
   },
   {
    "duration": 6,
    "start_time": "2025-02-22T01:20:42.350Z"
   },
   {
    "duration": 17,
    "start_time": "2025-02-22T01:24:03.260Z"
   },
   {
    "duration": 3,
    "start_time": "2025-02-22T01:26:41.288Z"
   },
   {
    "duration": 3,
    "start_time": "2025-02-22T01:26:51.146Z"
   },
   {
    "duration": 3,
    "start_time": "2025-02-22T01:27:02.105Z"
   },
   {
    "duration": 15,
    "start_time": "2025-02-22T01:27:34.226Z"
   },
   {
    "duration": 2599,
    "start_time": "2025-02-22T18:37:18.319Z"
   },
   {
    "duration": 248,
    "start_time": "2025-02-22T18:37:20.921Z"
   },
   {
    "duration": 39,
    "start_time": "2025-02-22T18:37:21.172Z"
   },
   {
    "duration": 36,
    "start_time": "2025-02-22T18:37:21.214Z"
   },
   {
    "duration": 28,
    "start_time": "2025-02-22T18:37:21.251Z"
   },
   {
    "duration": 49,
    "start_time": "2025-02-22T18:37:21.281Z"
   },
   {
    "duration": 29,
    "start_time": "2025-02-22T18:37:21.332Z"
   },
   {
    "duration": 8,
    "start_time": "2025-02-22T18:37:21.363Z"
   },
   {
    "duration": 8,
    "start_time": "2025-02-22T18:37:21.373Z"
   },
   {
    "duration": 5,
    "start_time": "2025-02-22T18:37:21.414Z"
   },
   {
    "duration": 15,
    "start_time": "2025-02-22T18:37:21.421Z"
   },
   {
    "duration": 8,
    "start_time": "2025-02-22T18:37:21.438Z"
   },
   {
    "duration": 9,
    "start_time": "2025-02-22T18:37:21.447Z"
   },
   {
    "duration": 21,
    "start_time": "2025-02-22T18:37:21.457Z"
   },
   {
    "duration": 39,
    "start_time": "2025-02-22T18:37:21.479Z"
   },
   {
    "duration": 20,
    "start_time": "2025-02-22T18:37:21.520Z"
   },
   {
    "duration": 14,
    "start_time": "2025-02-22T18:37:21.542Z"
   },
   {
    "duration": 20,
    "start_time": "2025-02-22T18:37:21.558Z"
   },
   {
    "duration": 31,
    "start_time": "2025-02-22T18:37:21.582Z"
   },
   {
    "duration": 22,
    "start_time": "2025-02-22T18:37:21.615Z"
   },
   {
    "duration": 20,
    "start_time": "2025-02-22T18:37:21.639Z"
   },
   {
    "duration": 11,
    "start_time": "2025-02-22T18:37:21.661Z"
   },
   {
    "duration": 54,
    "start_time": "2025-02-22T18:37:21.674Z"
   },
   {
    "duration": 15,
    "start_time": "2025-02-22T18:37:21.730Z"
   },
   {
    "duration": 6,
    "start_time": "2025-02-22T18:37:21.746Z"
   },
   {
    "duration": 17,
    "start_time": "2025-02-22T18:37:21.753Z"
   },
   {
    "duration": 40,
    "start_time": "2025-02-22T18:37:21.772Z"
   },
   {
    "duration": 16,
    "start_time": "2025-02-22T18:37:21.817Z"
   },
   {
    "duration": 6,
    "start_time": "2025-02-22T18:37:21.835Z"
   },
   {
    "duration": 19,
    "start_time": "2025-02-22T18:37:21.843Z"
   },
   {
    "duration": 3,
    "start_time": "2025-02-22T18:37:21.864Z"
   },
   {
    "duration": 8,
    "start_time": "2025-02-22T18:37:21.869Z"
   },
   {
    "duration": 33,
    "start_time": "2025-02-22T18:37:21.879Z"
   },
   {
    "duration": 3,
    "start_time": "2025-02-22T18:37:21.914Z"
   },
   {
    "duration": 2,
    "start_time": "2025-02-22T18:37:21.919Z"
   },
   {
    "duration": 3,
    "start_time": "2025-02-22T18:37:21.923Z"
   },
   {
    "duration": 4,
    "start_time": "2025-02-22T18:37:21.927Z"
   },
   {
    "duration": 3,
    "start_time": "2025-02-22T18:37:21.932Z"
   },
   {
    "duration": 2,
    "start_time": "2025-02-22T18:37:21.937Z"
   },
   {
    "duration": 3,
    "start_time": "2025-02-22T18:37:21.941Z"
   },
   {
    "duration": 3,
    "start_time": "2025-02-22T18:37:21.945Z"
   },
   {
    "duration": 4,
    "start_time": "2025-02-22T18:37:21.949Z"
   },
   {
    "duration": 3,
    "start_time": "2025-02-22T18:37:21.954Z"
   },
   {
    "duration": 3,
    "start_time": "2025-02-22T18:37:21.959Z"
   },
   {
    "duration": 2,
    "start_time": "2025-02-22T18:37:21.965Z"
   },
   {
    "duration": 2,
    "start_time": "2025-02-22T18:37:22.012Z"
   },
   {
    "duration": 3,
    "start_time": "2025-02-22T18:37:22.016Z"
   },
   {
    "duration": 21,
    "start_time": "2025-02-22T18:39:26.581Z"
   },
   {
    "duration": 7,
    "start_time": "2025-02-22T18:49:14.020Z"
   },
   {
    "duration": 3,
    "start_time": "2025-02-22T18:49:20.940Z"
   },
   {
    "duration": 4,
    "start_time": "2025-02-22T18:49:45.009Z"
   },
   {
    "duration": 7,
    "start_time": "2025-02-22T18:50:35.134Z"
   },
   {
    "duration": 16,
    "start_time": "2025-02-22T18:52:06.463Z"
   },
   {
    "duration": 20,
    "start_time": "2025-02-22T18:52:48.696Z"
   },
   {
    "duration": 793,
    "start_time": "2025-02-22T18:54:26.616Z"
   },
   {
    "duration": 152,
    "start_time": "2025-02-22T18:54:27.411Z"
   },
   {
    "duration": 37,
    "start_time": "2025-02-22T18:54:27.565Z"
   },
   {
    "duration": 34,
    "start_time": "2025-02-22T18:54:27.605Z"
   },
   {
    "duration": 24,
    "start_time": "2025-02-22T18:54:27.642Z"
   },
   {
    "duration": 54,
    "start_time": "2025-02-22T18:54:27.667Z"
   },
   {
    "duration": 24,
    "start_time": "2025-02-22T18:54:27.722Z"
   },
   {
    "duration": 7,
    "start_time": "2025-02-22T18:54:27.747Z"
   },
   {
    "duration": 7,
    "start_time": "2025-02-22T18:54:27.756Z"
   },
   {
    "duration": 4,
    "start_time": "2025-02-22T18:54:27.765Z"
   },
   {
    "duration": 42,
    "start_time": "2025-02-22T18:54:27.771Z"
   },
   {
    "duration": 7,
    "start_time": "2025-02-22T18:54:27.814Z"
   },
   {
    "duration": 8,
    "start_time": "2025-02-22T18:54:27.823Z"
   },
   {
    "duration": 20,
    "start_time": "2025-02-22T18:54:27.833Z"
   },
   {
    "duration": 9,
    "start_time": "2025-02-22T18:54:27.854Z"
   },
   {
    "duration": 53,
    "start_time": "2025-02-22T18:54:27.864Z"
   },
   {
    "duration": 11,
    "start_time": "2025-02-22T18:54:27.919Z"
   },
   {
    "duration": 13,
    "start_time": "2025-02-22T18:54:27.933Z"
   },
   {
    "duration": 6,
    "start_time": "2025-02-22T18:54:27.948Z"
   },
   {
    "duration": 22,
    "start_time": "2025-02-22T18:54:27.956Z"
   },
   {
    "duration": 48,
    "start_time": "2025-02-22T18:54:27.981Z"
   },
   {
    "duration": 12,
    "start_time": "2025-02-22T18:54:28.031Z"
   },
   {
    "duration": 24,
    "start_time": "2025-02-22T18:54:28.044Z"
   },
   {
    "duration": 10,
    "start_time": "2025-02-22T18:54:28.070Z"
   },
   {
    "duration": 34,
    "start_time": "2025-02-22T18:54:28.082Z"
   },
   {
    "duration": 16,
    "start_time": "2025-02-22T18:54:28.117Z"
   },
   {
    "duration": 13,
    "start_time": "2025-02-22T18:54:28.135Z"
   },
   {
    "duration": 11,
    "start_time": "2025-02-22T18:54:28.153Z"
   },
   {
    "duration": 6,
    "start_time": "2025-02-22T18:54:28.166Z"
   },
   {
    "duration": 51,
    "start_time": "2025-02-22T18:54:28.173Z"
   },
   {
    "duration": 21,
    "start_time": "2025-02-22T18:54:28.225Z"
   },
   {
    "duration": 7,
    "start_time": "2025-02-22T18:54:28.247Z"
   },
   {
    "duration": 20,
    "start_time": "2025-02-22T18:54:28.256Z"
   },
   {
    "duration": 7,
    "start_time": "2025-02-22T18:54:28.278Z"
   },
   {
    "duration": 2,
    "start_time": "2025-02-22T18:54:28.312Z"
   },
   {
    "duration": 2,
    "start_time": "2025-02-22T18:54:28.316Z"
   },
   {
    "duration": 3,
    "start_time": "2025-02-22T18:54:28.320Z"
   },
   {
    "duration": 3,
    "start_time": "2025-02-22T18:54:28.324Z"
   },
   {
    "duration": 3,
    "start_time": "2025-02-22T18:54:28.329Z"
   },
   {
    "duration": 4,
    "start_time": "2025-02-22T18:54:28.333Z"
   },
   {
    "duration": 3,
    "start_time": "2025-02-22T18:54:28.338Z"
   },
   {
    "duration": 4,
    "start_time": "2025-02-22T18:54:28.342Z"
   },
   {
    "duration": 3,
    "start_time": "2025-02-22T18:54:28.347Z"
   },
   {
    "duration": 3,
    "start_time": "2025-02-22T18:54:28.352Z"
   },
   {
    "duration": 4,
    "start_time": "2025-02-22T18:54:28.356Z"
   },
   {
    "duration": 3,
    "start_time": "2025-02-22T18:54:28.362Z"
   },
   {
    "duration": 47,
    "start_time": "2025-02-22T18:54:28.366Z"
   },
   {
    "duration": 2,
    "start_time": "2025-02-22T18:54:28.415Z"
   },
   {
    "duration": 3,
    "start_time": "2025-02-22T18:54:28.419Z"
   },
   {
    "duration": 8,
    "start_time": "2025-02-22T18:59:01.153Z"
   },
   {
    "duration": 5,
    "start_time": "2025-02-22T19:16:39.183Z"
   },
   {
    "duration": 816,
    "start_time": "2025-02-22T19:16:54.376Z"
   },
   {
    "duration": 160,
    "start_time": "2025-02-22T19:16:55.194Z"
   },
   {
    "duration": 37,
    "start_time": "2025-02-22T19:16:55.356Z"
   },
   {
    "duration": 34,
    "start_time": "2025-02-22T19:16:55.396Z"
   },
   {
    "duration": 23,
    "start_time": "2025-02-22T19:16:55.431Z"
   },
   {
    "duration": 26,
    "start_time": "2025-02-22T19:16:55.456Z"
   },
   {
    "duration": 48,
    "start_time": "2025-02-22T19:16:55.484Z"
   },
   {
    "duration": 6,
    "start_time": "2025-02-22T19:16:55.534Z"
   },
   {
    "duration": 7,
    "start_time": "2025-02-22T19:16:55.542Z"
   },
   {
    "duration": 5,
    "start_time": "2025-02-22T19:16:55.553Z"
   },
   {
    "duration": 12,
    "start_time": "2025-02-22T19:16:55.559Z"
   },
   {
    "duration": 41,
    "start_time": "2025-02-22T19:16:55.572Z"
   },
   {
    "duration": 7,
    "start_time": "2025-02-22T19:16:55.614Z"
   },
   {
    "duration": 19,
    "start_time": "2025-02-22T19:16:55.623Z"
   },
   {
    "duration": 10,
    "start_time": "2025-02-22T19:16:55.643Z"
   },
   {
    "duration": 16,
    "start_time": "2025-02-22T19:16:55.654Z"
   },
   {
    "duration": 43,
    "start_time": "2025-02-22T19:16:55.672Z"
   },
   {
    "duration": 14,
    "start_time": "2025-02-22T19:16:55.716Z"
   },
   {
    "duration": 7,
    "start_time": "2025-02-22T19:16:55.732Z"
   },
   {
    "duration": 22,
    "start_time": "2025-02-22T19:16:55.740Z"
   },
   {
    "duration": 20,
    "start_time": "2025-02-22T19:16:55.763Z"
   },
   {
    "duration": 36,
    "start_time": "2025-02-22T19:16:55.785Z"
   },
   {
    "duration": 23,
    "start_time": "2025-02-22T19:16:55.823Z"
   },
   {
    "duration": 8,
    "start_time": "2025-02-22T19:16:55.848Z"
   },
   {
    "duration": 12,
    "start_time": "2025-02-22T19:16:55.858Z"
   },
   {
    "duration": 6,
    "start_time": "2025-02-22T19:16:55.872Z"
   },
   {
    "duration": 46,
    "start_time": "2025-02-22T19:16:55.880Z"
   },
   {
    "duration": 13,
    "start_time": "2025-02-22T19:16:55.930Z"
   },
   {
    "duration": 12,
    "start_time": "2025-02-22T19:16:55.945Z"
   },
   {
    "duration": 6,
    "start_time": "2025-02-22T19:16:55.959Z"
   },
   {
    "duration": 46,
    "start_time": "2025-02-22T19:16:55.966Z"
   },
   {
    "duration": 18,
    "start_time": "2025-02-22T19:16:56.013Z"
   },
   {
    "duration": 6,
    "start_time": "2025-02-22T19:16:56.032Z"
   },
   {
    "duration": 21,
    "start_time": "2025-02-22T19:16:56.039Z"
   },
   {
    "duration": 6,
    "start_time": "2025-02-22T19:16:56.061Z"
   },
   {
    "duration": 2,
    "start_time": "2025-02-22T19:16:56.069Z"
   },
   {
    "duration": 3,
    "start_time": "2025-02-22T19:16:56.073Z"
   },
   {
    "duration": 3,
    "start_time": "2025-02-22T19:16:56.111Z"
   },
   {
    "duration": 0,
    "start_time": "2025-02-22T19:16:56.116Z"
   },
   {
    "duration": 0,
    "start_time": "2025-02-22T19:16:56.117Z"
   },
   {
    "duration": 0,
    "start_time": "2025-02-22T19:16:56.119Z"
   },
   {
    "duration": 1,
    "start_time": "2025-02-22T19:16:56.119Z"
   },
   {
    "duration": 0,
    "start_time": "2025-02-22T19:16:56.120Z"
   },
   {
    "duration": 0,
    "start_time": "2025-02-22T19:16:56.121Z"
   },
   {
    "duration": 0,
    "start_time": "2025-02-22T19:16:56.122Z"
   },
   {
    "duration": 0,
    "start_time": "2025-02-22T19:16:56.123Z"
   },
   {
    "duration": 0,
    "start_time": "2025-02-22T19:16:56.124Z"
   },
   {
    "duration": 0,
    "start_time": "2025-02-22T19:16:56.125Z"
   },
   {
    "duration": 0,
    "start_time": "2025-02-22T19:16:56.126Z"
   },
   {
    "duration": 0,
    "start_time": "2025-02-22T19:16:56.127Z"
   },
   {
    "duration": 18,
    "start_time": "2025-02-22T19:21:37.392Z"
   },
   {
    "duration": 19,
    "start_time": "2025-02-22T19:23:37.928Z"
   },
   {
    "duration": 19,
    "start_time": "2025-02-22T19:24:07.305Z"
   },
   {
    "duration": 24,
    "start_time": "2025-02-22T19:24:35.029Z"
   },
   {
    "duration": 22,
    "start_time": "2025-02-22T19:32:35.387Z"
   },
   {
    "duration": 21,
    "start_time": "2025-02-22T19:33:13.682Z"
   },
   {
    "duration": 836,
    "start_time": "2025-02-22T19:33:48.892Z"
   },
   {
    "duration": 175,
    "start_time": "2025-02-22T19:33:49.730Z"
   },
   {
    "duration": 50,
    "start_time": "2025-02-22T19:33:49.907Z"
   },
   {
    "duration": 36,
    "start_time": "2025-02-22T19:33:49.959Z"
   },
   {
    "duration": 34,
    "start_time": "2025-02-22T19:33:49.998Z"
   },
   {
    "duration": 30,
    "start_time": "2025-02-22T19:33:50.034Z"
   },
   {
    "duration": 52,
    "start_time": "2025-02-22T19:33:50.066Z"
   },
   {
    "duration": 7,
    "start_time": "2025-02-22T19:33:50.120Z"
   },
   {
    "duration": 8,
    "start_time": "2025-02-22T19:33:50.129Z"
   },
   {
    "duration": 5,
    "start_time": "2025-02-22T19:33:50.139Z"
   },
   {
    "duration": 13,
    "start_time": "2025-02-22T19:33:50.146Z"
   },
   {
    "duration": 11,
    "start_time": "2025-02-22T19:33:50.160Z"
   },
   {
    "duration": 43,
    "start_time": "2025-02-22T19:33:50.172Z"
   },
   {
    "duration": 24,
    "start_time": "2025-02-22T19:33:50.220Z"
   },
   {
    "duration": 10,
    "start_time": "2025-02-22T19:33:50.247Z"
   },
   {
    "duration": 17,
    "start_time": "2025-02-22T19:33:50.259Z"
   },
   {
    "duration": 36,
    "start_time": "2025-02-22T19:33:50.278Z"
   },
   {
    "duration": 15,
    "start_time": "2025-02-22T19:33:50.316Z"
   },
   {
    "duration": 6,
    "start_time": "2025-02-22T19:33:50.333Z"
   },
   {
    "duration": 24,
    "start_time": "2025-02-22T19:33:50.341Z"
   },
   {
    "duration": 21,
    "start_time": "2025-02-22T19:33:50.367Z"
   },
   {
    "duration": 13,
    "start_time": "2025-02-22T19:33:50.412Z"
   },
   {
    "duration": 31,
    "start_time": "2025-02-22T19:33:50.426Z"
   },
   {
    "duration": 8,
    "start_time": "2025-02-22T19:33:50.458Z"
   },
   {
    "duration": 11,
    "start_time": "2025-02-22T19:33:50.468Z"
   },
   {
    "duration": 33,
    "start_time": "2025-02-22T19:33:50.480Z"
   },
   {
    "duration": 16,
    "start_time": "2025-02-22T19:33:50.515Z"
   },
   {
    "duration": 18,
    "start_time": "2025-02-22T19:33:50.533Z"
   },
   {
    "duration": 16,
    "start_time": "2025-02-22T19:33:50.553Z"
   },
   {
    "duration": 6,
    "start_time": "2025-02-22T19:33:50.571Z"
   },
   {
    "duration": 49,
    "start_time": "2025-02-22T19:33:50.579Z"
   },
   {
    "duration": 19,
    "start_time": "2025-02-22T19:33:50.629Z"
   },
   {
    "duration": 7,
    "start_time": "2025-02-22T19:33:50.650Z"
   },
   {
    "duration": 27,
    "start_time": "2025-02-22T19:33:50.659Z"
   },
   {
    "duration": 31,
    "start_time": "2025-02-22T19:33:50.688Z"
   },
   {
    "duration": 23,
    "start_time": "2025-02-22T19:33:50.721Z"
   },
   {
    "duration": 3,
    "start_time": "2025-02-22T19:33:50.746Z"
   },
   {
    "duration": 24,
    "start_time": "2025-02-22T19:33:50.750Z"
   },
   {
    "duration": 2,
    "start_time": "2025-02-22T19:33:50.776Z"
   },
   {
    "duration": 3,
    "start_time": "2025-02-22T19:33:50.780Z"
   },
   {
    "duration": 2,
    "start_time": "2025-02-22T19:33:50.814Z"
   },
   {
    "duration": 2,
    "start_time": "2025-02-22T19:33:50.818Z"
   },
   {
    "duration": 3,
    "start_time": "2025-02-22T19:33:50.822Z"
   },
   {
    "duration": 2,
    "start_time": "2025-02-22T19:33:50.827Z"
   },
   {
    "duration": 3,
    "start_time": "2025-02-22T19:33:50.831Z"
   },
   {
    "duration": 2,
    "start_time": "2025-02-22T19:33:50.837Z"
   },
   {
    "duration": 3,
    "start_time": "2025-02-22T19:33:50.841Z"
   },
   {
    "duration": 3,
    "start_time": "2025-02-22T19:33:50.845Z"
   },
   {
    "duration": 3,
    "start_time": "2025-02-22T19:33:50.850Z"
   },
   {
    "duration": 3,
    "start_time": "2025-02-22T19:33:50.855Z"
   },
   {
    "duration": 244,
    "start_time": "2025-02-22T19:37:45.638Z"
   },
   {
    "duration": 19,
    "start_time": "2025-02-22T19:38:10.251Z"
   },
   {
    "duration": 18,
    "start_time": "2025-02-22T19:38:18.751Z"
   },
   {
    "duration": 26,
    "start_time": "2025-02-22T19:41:05.010Z"
   },
   {
    "duration": 25,
    "start_time": "2025-02-22T19:42:42.315Z"
   },
   {
    "duration": 16,
    "start_time": "2025-02-22T19:46:54.609Z"
   },
   {
    "duration": 159,
    "start_time": "2025-02-22T20:35:15.395Z"
   },
   {
    "duration": 2524,
    "start_time": "2025-02-22T20:36:22.629Z"
   },
   {
    "duration": 234,
    "start_time": "2025-02-22T20:36:25.156Z"
   },
   {
    "duration": 39,
    "start_time": "2025-02-22T20:36:25.391Z"
   },
   {
    "duration": 30,
    "start_time": "2025-02-22T20:36:25.433Z"
   },
   {
    "duration": 44,
    "start_time": "2025-02-22T20:36:25.465Z"
   },
   {
    "duration": 29,
    "start_time": "2025-02-22T20:36:25.511Z"
   },
   {
    "duration": 24,
    "start_time": "2025-02-22T20:36:25.541Z"
   },
   {
    "duration": 10,
    "start_time": "2025-02-22T20:36:25.567Z"
   },
   {
    "duration": 31,
    "start_time": "2025-02-22T20:36:25.579Z"
   },
   {
    "duration": 4,
    "start_time": "2025-02-22T20:36:25.613Z"
   },
   {
    "duration": 12,
    "start_time": "2025-02-22T20:36:25.619Z"
   },
   {
    "duration": 7,
    "start_time": "2025-02-22T20:36:25.634Z"
   },
   {
    "duration": 9,
    "start_time": "2025-02-22T20:36:25.643Z"
   },
   {
    "duration": 59,
    "start_time": "2025-02-22T20:36:25.653Z"
   },
   {
    "duration": 9,
    "start_time": "2025-02-22T20:36:25.714Z"
   },
   {
    "duration": 16,
    "start_time": "2025-02-22T20:36:25.724Z"
   },
   {
    "duration": 11,
    "start_time": "2025-02-22T20:36:25.742Z"
   },
   {
    "duration": 14,
    "start_time": "2025-02-22T20:36:25.755Z"
   },
   {
    "duration": 38,
    "start_time": "2025-02-22T20:36:25.771Z"
   },
   {
    "duration": 23,
    "start_time": "2025-02-22T20:36:25.810Z"
   },
   {
    "duration": 21,
    "start_time": "2025-02-22T20:36:25.834Z"
   },
   {
    "duration": 12,
    "start_time": "2025-02-22T20:36:25.856Z"
   },
   {
    "duration": 49,
    "start_time": "2025-02-22T20:36:25.869Z"
   },
   {
    "duration": 8,
    "start_time": "2025-02-22T20:36:25.920Z"
   },
   {
    "duration": 11,
    "start_time": "2025-02-22T20:36:25.930Z"
   },
   {
    "duration": 5,
    "start_time": "2025-02-22T20:36:25.943Z"
   },
   {
    "duration": 17,
    "start_time": "2025-02-22T20:36:25.950Z"
   },
   {
    "duration": 50,
    "start_time": "2025-02-22T20:36:25.972Z"
   },
   {
    "duration": 15,
    "start_time": "2025-02-22T20:36:26.023Z"
   },
   {
    "duration": 6,
    "start_time": "2025-02-22T20:36:26.040Z"
   },
   {
    "duration": 20,
    "start_time": "2025-02-22T20:36:26.048Z"
   },
   {
    "duration": 42,
    "start_time": "2025-02-22T20:36:26.070Z"
   },
   {
    "duration": 7,
    "start_time": "2025-02-22T20:36:26.113Z"
   },
   {
    "duration": 20,
    "start_time": "2025-02-22T20:36:26.122Z"
   },
   {
    "duration": 6,
    "start_time": "2025-02-22T20:36:26.144Z"
   },
   {
    "duration": 26,
    "start_time": "2025-02-22T20:36:26.152Z"
   },
   {
    "duration": 22,
    "start_time": "2025-02-22T20:36:26.209Z"
   },
   {
    "duration": 17,
    "start_time": "2025-02-22T20:36:26.233Z"
   },
   {
    "duration": 15,
    "start_time": "2025-02-22T20:36:26.252Z"
   },
   {
    "duration": 688,
    "start_time": "2025-02-22T20:36:26.268Z"
   },
   {
    "duration": 0,
    "start_time": "2025-02-22T20:36:26.958Z"
   },
   {
    "duration": 0,
    "start_time": "2025-02-22T20:36:26.959Z"
   },
   {
    "duration": 0,
    "start_time": "2025-02-22T20:36:26.960Z"
   },
   {
    "duration": 0,
    "start_time": "2025-02-22T20:36:26.961Z"
   },
   {
    "duration": 0,
    "start_time": "2025-02-22T20:36:26.962Z"
   },
   {
    "duration": 0,
    "start_time": "2025-02-22T20:36:26.963Z"
   },
   {
    "duration": 0,
    "start_time": "2025-02-22T20:36:26.964Z"
   },
   {
    "duration": 0,
    "start_time": "2025-02-22T20:36:26.965Z"
   },
   {
    "duration": 0,
    "start_time": "2025-02-22T20:36:26.967Z"
   },
   {
    "duration": 0,
    "start_time": "2025-02-22T20:36:26.968Z"
   },
   {
    "duration": 0,
    "start_time": "2025-02-22T20:36:26.969Z"
   },
   {
    "duration": 9,
    "start_time": "2025-02-22T20:37:43.261Z"
   },
   {
    "duration": 799,
    "start_time": "2025-02-22T20:43:03.111Z"
   },
   {
    "duration": 155,
    "start_time": "2025-02-22T20:43:03.913Z"
   },
   {
    "duration": 43,
    "start_time": "2025-02-22T20:43:04.069Z"
   },
   {
    "duration": 29,
    "start_time": "2025-02-22T20:43:04.114Z"
   },
   {
    "duration": 24,
    "start_time": "2025-02-22T20:43:04.145Z"
   },
   {
    "duration": 52,
    "start_time": "2025-02-22T20:43:04.170Z"
   },
   {
    "duration": 24,
    "start_time": "2025-02-22T20:43:04.224Z"
   },
   {
    "duration": 7,
    "start_time": "2025-02-22T20:43:04.249Z"
   },
   {
    "duration": 7,
    "start_time": "2025-02-22T20:43:04.258Z"
   },
   {
    "duration": 4,
    "start_time": "2025-02-22T20:43:04.268Z"
   },
   {
    "duration": 43,
    "start_time": "2025-02-22T20:43:04.274Z"
   },
   {
    "duration": 8,
    "start_time": "2025-02-22T20:43:04.319Z"
   },
   {
    "duration": 7,
    "start_time": "2025-02-22T20:43:04.328Z"
   },
   {
    "duration": 19,
    "start_time": "2025-02-22T20:43:04.337Z"
   },
   {
    "duration": 10,
    "start_time": "2025-02-22T20:43:04.357Z"
   },
   {
    "duration": 52,
    "start_time": "2025-02-22T20:43:04.369Z"
   },
   {
    "duration": 12,
    "start_time": "2025-02-22T20:43:04.423Z"
   },
   {
    "duration": 15,
    "start_time": "2025-02-22T20:43:04.436Z"
   },
   {
    "duration": 5,
    "start_time": "2025-02-22T20:43:04.453Z"
   },
   {
    "duration": 50,
    "start_time": "2025-02-22T20:43:04.460Z"
   },
   {
    "duration": 21,
    "start_time": "2025-02-22T20:43:04.511Z"
   },
   {
    "duration": 11,
    "start_time": "2025-02-22T20:43:04.534Z"
   },
   {
    "duration": 25,
    "start_time": "2025-02-22T20:43:04.547Z"
   },
   {
    "duration": 35,
    "start_time": "2025-02-22T20:43:04.574Z"
   },
   {
    "duration": 13,
    "start_time": "2025-02-22T20:43:04.610Z"
   },
   {
    "duration": 8,
    "start_time": "2025-02-22T20:43:04.624Z"
   },
   {
    "duration": 17,
    "start_time": "2025-02-22T20:43:04.636Z"
   },
   {
    "duration": 20,
    "start_time": "2025-02-22T20:43:04.660Z"
   },
   {
    "duration": 37,
    "start_time": "2025-02-22T20:43:04.683Z"
   },
   {
    "duration": 6,
    "start_time": "2025-02-22T20:43:04.723Z"
   },
   {
    "duration": 19,
    "start_time": "2025-02-22T20:43:04.731Z"
   },
   {
    "duration": 17,
    "start_time": "2025-02-22T20:43:04.751Z"
   },
   {
    "duration": 6,
    "start_time": "2025-02-22T20:43:04.770Z"
   },
   {
    "duration": 51,
    "start_time": "2025-02-22T20:43:04.777Z"
   },
   {
    "duration": 7,
    "start_time": "2025-02-22T20:43:04.829Z"
   },
   {
    "duration": 25,
    "start_time": "2025-02-22T20:43:04.838Z"
   },
   {
    "duration": 49,
    "start_time": "2025-02-22T20:43:04.864Z"
   },
   {
    "duration": 17,
    "start_time": "2025-02-22T20:43:04.914Z"
   },
   {
    "duration": 16,
    "start_time": "2025-02-22T20:43:04.933Z"
   },
   {
    "duration": 6,
    "start_time": "2025-02-22T20:43:04.951Z"
   },
   {
    "duration": 3,
    "start_time": "2025-02-22T20:43:04.959Z"
   },
   {
    "duration": 3,
    "start_time": "2025-02-22T20:43:04.963Z"
   },
   {
    "duration": 2,
    "start_time": "2025-02-22T20:43:04.968Z"
   },
   {
    "duration": 2,
    "start_time": "2025-02-22T20:43:04.972Z"
   },
   {
    "duration": 2,
    "start_time": "2025-02-22T20:43:05.009Z"
   },
   {
    "duration": 3,
    "start_time": "2025-02-22T20:43:05.013Z"
   },
   {
    "duration": 3,
    "start_time": "2025-02-22T20:43:05.017Z"
   },
   {
    "duration": 3,
    "start_time": "2025-02-22T20:43:05.021Z"
   },
   {
    "duration": 2,
    "start_time": "2025-02-22T20:43:05.026Z"
   },
   {
    "duration": 2,
    "start_time": "2025-02-22T20:43:05.030Z"
   },
   {
    "duration": 2,
    "start_time": "2025-02-22T20:43:05.034Z"
   },
   {
    "duration": 5,
    "start_time": "2025-02-22T20:55:55.682Z"
   },
   {
    "duration": 294,
    "start_time": "2025-02-22T21:02:36.910Z"
   },
   {
    "duration": 15,
    "start_time": "2025-02-22T21:20:20.407Z"
   },
   {
    "duration": 14,
    "start_time": "2025-02-22T21:21:19.720Z"
   },
   {
    "duration": 14,
    "start_time": "2025-02-22T21:21:53.630Z"
   },
   {
    "duration": 15,
    "start_time": "2025-02-22T21:22:36.995Z"
   },
   {
    "duration": 7,
    "start_time": "2025-02-22T21:30:50.452Z"
   },
   {
    "duration": 7,
    "start_time": "2025-02-22T21:30:59.913Z"
   },
   {
    "duration": 5,
    "start_time": "2025-02-22T21:34:42.859Z"
   },
   {
    "duration": 25,
    "start_time": "2025-02-22T21:35:57.191Z"
   },
   {
    "duration": 18,
    "start_time": "2025-02-22T21:43:52.684Z"
   },
   {
    "duration": 17,
    "start_time": "2025-02-22T21:44:58.991Z"
   },
   {
    "duration": 6,
    "start_time": "2025-02-22T21:45:11.098Z"
   },
   {
    "duration": 18,
    "start_time": "2025-02-22T21:45:18.864Z"
   },
   {
    "duration": 6,
    "start_time": "2025-02-22T21:47:43.349Z"
   },
   {
    "duration": 7,
    "start_time": "2025-02-22T21:55:31.362Z"
   },
   {
    "duration": 5,
    "start_time": "2025-02-22T21:55:41.216Z"
   },
   {
    "duration": 5,
    "start_time": "2025-02-22T22:03:02.918Z"
   },
   {
    "duration": 5,
    "start_time": "2025-02-22T22:05:48.470Z"
   },
   {
    "duration": 12,
    "start_time": "2025-02-22T22:06:03.881Z"
   },
   {
    "duration": 6,
    "start_time": "2025-02-22T22:29:57.408Z"
   },
   {
    "duration": 4,
    "start_time": "2025-02-22T22:30:38.864Z"
   },
   {
    "duration": 4,
    "start_time": "2025-02-22T22:30:52.134Z"
   },
   {
    "duration": 4,
    "start_time": "2025-02-22T22:31:06.300Z"
   },
   {
    "duration": 13,
    "start_time": "2025-02-22T22:34:07.844Z"
   },
   {
    "duration": 16,
    "start_time": "2025-02-22T22:48:00.418Z"
   },
   {
    "duration": 16,
    "start_time": "2025-02-22T22:48:41.191Z"
   },
   {
    "duration": 15,
    "start_time": "2025-02-22T22:49:47.085Z"
   },
   {
    "duration": 21,
    "start_time": "2025-02-22T22:52:21.518Z"
   },
   {
    "duration": 39,
    "start_time": "2025-02-22T22:55:13.480Z"
   },
   {
    "duration": 4,
    "start_time": "2025-02-22T22:55:35.803Z"
   },
   {
    "duration": 11,
    "start_time": "2025-02-22T22:55:41.285Z"
   },
   {
    "duration": 804,
    "start_time": "2025-02-22T23:09:40.287Z"
   },
   {
    "duration": 155,
    "start_time": "2025-02-22T23:09:41.093Z"
   },
   {
    "duration": 37,
    "start_time": "2025-02-22T23:09:41.250Z"
   },
   {
    "duration": 43,
    "start_time": "2025-02-22T23:09:41.290Z"
   },
   {
    "duration": 22,
    "start_time": "2025-02-22T23:09:41.335Z"
   },
   {
    "duration": 29,
    "start_time": "2025-02-22T23:09:41.359Z"
   },
   {
    "duration": 24,
    "start_time": "2025-02-22T23:09:41.410Z"
   },
   {
    "duration": 7,
    "start_time": "2025-02-22T23:09:41.436Z"
   },
   {
    "duration": 8,
    "start_time": "2025-02-22T23:09:41.445Z"
   },
   {
    "duration": 4,
    "start_time": "2025-02-22T23:09:41.455Z"
   },
   {
    "duration": 48,
    "start_time": "2025-02-22T23:09:41.461Z"
   },
   {
    "duration": 8,
    "start_time": "2025-02-22T23:09:41.510Z"
   },
   {
    "duration": 8,
    "start_time": "2025-02-22T23:09:41.519Z"
   },
   {
    "duration": 20,
    "start_time": "2025-02-22T23:09:41.528Z"
   },
   {
    "duration": 9,
    "start_time": "2025-02-22T23:09:41.550Z"
   },
   {
    "duration": 16,
    "start_time": "2025-02-22T23:09:41.560Z"
   },
   {
    "duration": 12,
    "start_time": "2025-02-22T23:09:41.609Z"
   },
   {
    "duration": 19,
    "start_time": "2025-02-22T23:09:41.622Z"
   },
   {
    "duration": 7,
    "start_time": "2025-02-22T23:09:41.643Z"
   },
   {
    "duration": 28,
    "start_time": "2025-02-22T23:09:41.652Z"
   },
   {
    "duration": 47,
    "start_time": "2025-02-22T23:09:41.681Z"
   },
   {
    "duration": 12,
    "start_time": "2025-02-22T23:09:41.729Z"
   },
   {
    "duration": 25,
    "start_time": "2025-02-22T23:09:41.742Z"
   },
   {
    "duration": 8,
    "start_time": "2025-02-22T23:09:41.769Z"
   },
   {
    "duration": 36,
    "start_time": "2025-02-22T23:09:41.779Z"
   },
   {
    "duration": 5,
    "start_time": "2025-02-22T23:09:41.817Z"
   },
   {
    "duration": 15,
    "start_time": "2025-02-22T23:09:41.824Z"
   },
   {
    "duration": 18,
    "start_time": "2025-02-22T23:09:41.843Z"
   },
   {
    "duration": 13,
    "start_time": "2025-02-22T23:09:41.862Z"
   },
   {
    "duration": 7,
    "start_time": "2025-02-22T23:09:41.909Z"
   },
   {
    "duration": 20,
    "start_time": "2025-02-22T23:09:41.917Z"
   },
   {
    "duration": 16,
    "start_time": "2025-02-22T23:09:41.939Z"
   },
   {
    "duration": 6,
    "start_time": "2025-02-22T23:09:41.957Z"
   },
   {
    "duration": 49,
    "start_time": "2025-02-22T23:09:41.965Z"
   },
   {
    "duration": 6,
    "start_time": "2025-02-22T23:09:42.016Z"
   },
   {
    "duration": 27,
    "start_time": "2025-02-22T23:09:42.024Z"
   },
   {
    "duration": 25,
    "start_time": "2025-02-22T23:09:42.052Z"
   },
   {
    "duration": 45,
    "start_time": "2025-02-22T23:09:42.079Z"
   },
   {
    "duration": 15,
    "start_time": "2025-02-22T23:09:42.125Z"
   },
   {
    "duration": 7,
    "start_time": "2025-02-22T23:09:42.142Z"
   },
   {
    "duration": 61,
    "start_time": "2025-02-22T23:09:42.150Z"
   },
   {
    "duration": 270,
    "start_time": "2025-02-22T23:09:42.212Z"
   },
   {
    "duration": 0,
    "start_time": "2025-02-22T23:09:42.484Z"
   },
   {
    "duration": 0,
    "start_time": "2025-02-22T23:09:42.486Z"
   },
   {
    "duration": 0,
    "start_time": "2025-02-22T23:09:42.487Z"
   },
   {
    "duration": 0,
    "start_time": "2025-02-22T23:09:42.488Z"
   },
   {
    "duration": 0,
    "start_time": "2025-02-22T23:09:42.489Z"
   },
   {
    "duration": 0,
    "start_time": "2025-02-22T23:09:42.490Z"
   },
   {
    "duration": 0,
    "start_time": "2025-02-22T23:09:42.492Z"
   },
   {
    "duration": 0,
    "start_time": "2025-02-22T23:09:42.508Z"
   },
   {
    "duration": 0,
    "start_time": "2025-02-22T23:09:42.510Z"
   },
   {
    "duration": 29,
    "start_time": "2025-02-22T23:41:49.132Z"
   },
   {
    "duration": 20,
    "start_time": "2025-02-22T23:42:22.196Z"
   },
   {
    "duration": 6,
    "start_time": "2025-02-23T00:02:12.619Z"
   },
   {
    "duration": 5,
    "start_time": "2025-02-23T00:02:23.506Z"
   },
   {
    "duration": 5,
    "start_time": "2025-02-23T00:02:31.807Z"
   },
   {
    "duration": 18,
    "start_time": "2025-02-23T00:02:58.239Z"
   },
   {
    "duration": 18,
    "start_time": "2025-02-23T00:05:05.838Z"
   },
   {
    "duration": 18,
    "start_time": "2025-02-23T00:05:17.689Z"
   },
   {
    "duration": 19,
    "start_time": "2025-02-23T00:06:33.857Z"
   },
   {
    "duration": 18,
    "start_time": "2025-02-23T00:09:26.905Z"
   },
   {
    "duration": 17,
    "start_time": "2025-02-23T00:10:06.690Z"
   },
   {
    "duration": 18,
    "start_time": "2025-02-23T00:10:24.979Z"
   },
   {
    "duration": 18,
    "start_time": "2025-02-23T00:31:41.362Z"
   },
   {
    "duration": 194,
    "start_time": "2025-02-23T00:31:56.726Z"
   },
   {
    "duration": 45,
    "start_time": "2025-02-23T00:32:56.348Z"
   },
   {
    "duration": 45,
    "start_time": "2025-02-23T00:33:42.369Z"
   },
   {
    "duration": 288,
    "start_time": "2025-02-23T00:34:30.049Z"
   },
   {
    "duration": 2571,
    "start_time": "2025-02-23T16:36:13.414Z"
   },
   {
    "duration": 204,
    "start_time": "2025-02-23T16:36:15.987Z"
   },
   {
    "duration": 38,
    "start_time": "2025-02-23T16:36:16.193Z"
   },
   {
    "duration": 29,
    "start_time": "2025-02-23T16:36:16.233Z"
   },
   {
    "duration": 23,
    "start_time": "2025-02-23T16:36:16.263Z"
   },
   {
    "duration": 47,
    "start_time": "2025-02-23T16:36:16.288Z"
   },
   {
    "duration": 23,
    "start_time": "2025-02-23T16:36:16.338Z"
   },
   {
    "duration": 8,
    "start_time": "2025-02-23T16:36:16.363Z"
   },
   {
    "duration": 7,
    "start_time": "2025-02-23T16:36:16.373Z"
   },
   {
    "duration": 4,
    "start_time": "2025-02-23T16:36:16.411Z"
   },
   {
    "duration": 12,
    "start_time": "2025-02-23T16:36:16.416Z"
   },
   {
    "duration": 7,
    "start_time": "2025-02-23T16:36:16.429Z"
   },
   {
    "duration": 8,
    "start_time": "2025-02-23T16:36:16.438Z"
   },
   {
    "duration": 19,
    "start_time": "2025-02-23T16:36:16.448Z"
   },
   {
    "duration": 42,
    "start_time": "2025-02-23T16:36:16.469Z"
   },
   {
    "duration": 17,
    "start_time": "2025-02-23T16:36:16.512Z"
   },
   {
    "duration": 11,
    "start_time": "2025-02-23T16:36:16.530Z"
   },
   {
    "duration": 14,
    "start_time": "2025-02-23T16:36:16.543Z"
   },
   {
    "duration": 7,
    "start_time": "2025-02-23T16:36:16.559Z"
   },
   {
    "duration": 54,
    "start_time": "2025-02-23T16:36:16.567Z"
   },
   {
    "duration": 20,
    "start_time": "2025-02-23T16:36:16.623Z"
   },
   {
    "duration": 10,
    "start_time": "2025-02-23T16:36:16.644Z"
   },
   {
    "duration": 24,
    "start_time": "2025-02-23T16:36:16.656Z"
   },
   {
    "duration": 32,
    "start_time": "2025-02-23T16:36:16.682Z"
   },
   {
    "duration": 11,
    "start_time": "2025-02-23T16:36:16.716Z"
   },
   {
    "duration": 7,
    "start_time": "2025-02-23T16:36:16.729Z"
   },
   {
    "duration": 15,
    "start_time": "2025-02-23T16:36:16.738Z"
   },
   {
    "duration": 18,
    "start_time": "2025-02-23T16:36:16.757Z"
   },
   {
    "duration": 37,
    "start_time": "2025-02-23T16:36:16.777Z"
   },
   {
    "duration": 7,
    "start_time": "2025-02-23T16:36:16.815Z"
   },
   {
    "duration": 20,
    "start_time": "2025-02-23T16:36:16.823Z"
   },
   {
    "duration": 17,
    "start_time": "2025-02-23T16:36:16.844Z"
   },
   {
    "duration": 6,
    "start_time": "2025-02-23T16:36:16.862Z"
   },
   {
    "duration": 52,
    "start_time": "2025-02-23T16:36:16.870Z"
   },
   {
    "duration": 6,
    "start_time": "2025-02-23T16:36:16.924Z"
   },
   {
    "duration": 25,
    "start_time": "2025-02-23T16:36:16.932Z"
   },
   {
    "duration": 25,
    "start_time": "2025-02-23T16:36:16.959Z"
   },
   {
    "duration": 17,
    "start_time": "2025-02-23T16:36:17.008Z"
   },
   {
    "duration": 15,
    "start_time": "2025-02-23T16:36:17.027Z"
   },
   {
    "duration": 7,
    "start_time": "2025-02-23T16:36:17.044Z"
   },
   {
    "duration": 19,
    "start_time": "2025-02-23T16:36:17.053Z"
   },
   {
    "duration": 291,
    "start_time": "2025-02-23T16:36:17.074Z"
   },
   {
    "duration": 0,
    "start_time": "2025-02-23T16:36:17.367Z"
   },
   {
    "duration": 0,
    "start_time": "2025-02-23T16:36:17.368Z"
   },
   {
    "duration": 0,
    "start_time": "2025-02-23T16:36:17.370Z"
   },
   {
    "duration": 0,
    "start_time": "2025-02-23T16:36:17.371Z"
   },
   {
    "duration": 0,
    "start_time": "2025-02-23T16:36:17.372Z"
   },
   {
    "duration": 0,
    "start_time": "2025-02-23T16:36:17.374Z"
   },
   {
    "duration": 0,
    "start_time": "2025-02-23T16:36:17.375Z"
   },
   {
    "duration": 0,
    "start_time": "2025-02-23T16:36:17.376Z"
   },
   {
    "duration": 4,
    "start_time": "2025-02-23T16:36:22.585Z"
   },
   {
    "duration": 231,
    "start_time": "2025-02-23T16:36:27.432Z"
   },
   {
    "duration": 233,
    "start_time": "2025-02-23T16:37:37.521Z"
   },
   {
    "duration": 256,
    "start_time": "2025-02-23T16:38:14.739Z"
   },
   {
    "duration": 6,
    "start_time": "2025-02-23T16:59:45.251Z"
   },
   {
    "duration": 10,
    "start_time": "2025-02-23T17:00:05.014Z"
   },
   {
    "duration": 116,
    "start_time": "2025-02-23T17:02:58.362Z"
   },
   {
    "duration": 62,
    "start_time": "2025-02-23T17:26:53.189Z"
   },
   {
    "duration": 200,
    "start_time": "2025-02-23T17:27:38.700Z"
   },
   {
    "duration": 243,
    "start_time": "2025-02-23T17:30:50.939Z"
   },
   {
    "duration": 4,
    "start_time": "2025-02-23T18:05:21.842Z"
   },
   {
    "duration": 762,
    "start_time": "2025-02-23T18:05:35.957Z"
   },
   {
    "duration": 148,
    "start_time": "2025-02-23T18:05:36.721Z"
   },
   {
    "duration": 41,
    "start_time": "2025-02-23T18:05:36.871Z"
   },
   {
    "duration": 30,
    "start_time": "2025-02-23T18:05:36.913Z"
   },
   {
    "duration": 26,
    "start_time": "2025-02-23T18:05:36.946Z"
   },
   {
    "duration": 54,
    "start_time": "2025-02-23T18:05:36.974Z"
   },
   {
    "duration": 24,
    "start_time": "2025-02-23T18:05:37.029Z"
   },
   {
    "duration": 7,
    "start_time": "2025-02-23T18:05:37.055Z"
   },
   {
    "duration": 6,
    "start_time": "2025-02-23T18:05:37.064Z"
   },
   {
    "duration": 37,
    "start_time": "2025-02-23T18:05:37.072Z"
   },
   {
    "duration": 13,
    "start_time": "2025-02-23T18:05:37.110Z"
   },
   {
    "duration": 8,
    "start_time": "2025-02-23T18:05:37.125Z"
   },
   {
    "duration": 8,
    "start_time": "2025-02-23T18:05:37.134Z"
   },
   {
    "duration": 20,
    "start_time": "2025-02-23T18:05:37.145Z"
   },
   {
    "duration": 42,
    "start_time": "2025-02-23T18:05:37.167Z"
   },
   {
    "duration": 20,
    "start_time": "2025-02-23T18:05:37.212Z"
   },
   {
    "duration": 11,
    "start_time": "2025-02-23T18:05:37.234Z"
   },
   {
    "duration": 15,
    "start_time": "2025-02-23T18:05:37.246Z"
   },
   {
    "duration": 7,
    "start_time": "2025-02-23T18:05:37.262Z"
   },
   {
    "duration": 48,
    "start_time": "2025-02-23T18:05:37.271Z"
   },
   {
    "duration": 21,
    "start_time": "2025-02-23T18:05:37.321Z"
   },
   {
    "duration": 11,
    "start_time": "2025-02-23T18:05:37.344Z"
   },
   {
    "duration": 26,
    "start_time": "2025-02-23T18:05:37.356Z"
   },
   {
    "duration": 10,
    "start_time": "2025-02-23T18:05:37.409Z"
   },
   {
    "duration": 11,
    "start_time": "2025-02-23T18:05:37.422Z"
   },
   {
    "duration": 5,
    "start_time": "2025-02-23T18:05:37.435Z"
   },
   {
    "duration": 16,
    "start_time": "2025-02-23T18:05:37.442Z"
   },
   {
    "duration": 17,
    "start_time": "2025-02-23T18:05:37.460Z"
   },
   {
    "duration": 40,
    "start_time": "2025-02-23T18:05:37.478Z"
   },
   {
    "duration": 7,
    "start_time": "2025-02-23T18:05:37.520Z"
   },
   {
    "duration": 21,
    "start_time": "2025-02-23T18:05:37.529Z"
   },
   {
    "duration": 17,
    "start_time": "2025-02-23T18:05:37.552Z"
   },
   {
    "duration": 7,
    "start_time": "2025-02-23T18:05:37.571Z"
   },
   {
    "duration": 23,
    "start_time": "2025-02-23T18:05:37.609Z"
   },
   {
    "duration": 6,
    "start_time": "2025-02-23T18:05:37.634Z"
   },
   {
    "duration": 24,
    "start_time": "2025-02-23T18:05:37.642Z"
   },
   {
    "duration": 43,
    "start_time": "2025-02-23T18:05:37.668Z"
   },
   {
    "duration": 25,
    "start_time": "2025-02-23T18:05:37.714Z"
   },
   {
    "duration": 17,
    "start_time": "2025-02-23T18:05:37.741Z"
   },
   {
    "duration": 8,
    "start_time": "2025-02-23T18:05:37.759Z"
   },
   {
    "duration": 44,
    "start_time": "2025-02-23T18:05:37.773Z"
   },
   {
    "duration": 5,
    "start_time": "2025-02-23T18:05:37.820Z"
   },
   {
    "duration": 258,
    "start_time": "2025-02-23T18:05:37.826Z"
   },
   {
    "duration": 268,
    "start_time": "2025-02-23T18:05:38.087Z"
   },
   {
    "duration": 9,
    "start_time": "2025-02-23T18:05:38.356Z"
   },
   {
    "duration": 131,
    "start_time": "2025-02-23T18:05:38.366Z"
   },
   {
    "duration": 11,
    "start_time": "2025-02-23T18:05:38.498Z"
   },
   {
    "duration": 0,
    "start_time": "2025-02-23T18:05:38.510Z"
   },
   {
    "duration": 0,
    "start_time": "2025-02-23T18:05:38.511Z"
   },
   {
    "duration": 0,
    "start_time": "2025-02-23T18:05:38.512Z"
   },
   {
    "duration": 0,
    "start_time": "2025-02-23T18:05:38.513Z"
   },
   {
    "duration": 0,
    "start_time": "2025-02-23T18:05:38.514Z"
   },
   {
    "duration": 0,
    "start_time": "2025-02-23T18:05:38.515Z"
   },
   {
    "duration": 0,
    "start_time": "2025-02-23T18:05:38.516Z"
   },
   {
    "duration": 0,
    "start_time": "2025-02-23T18:05:38.517Z"
   },
   {
    "duration": 218,
    "start_time": "2025-02-23T18:10:45.577Z"
   },
   {
    "duration": 554,
    "start_time": "2025-02-23T18:12:26.610Z"
   },
   {
    "duration": 68,
    "start_time": "2025-02-23T18:14:19.825Z"
   },
   {
    "duration": 137,
    "start_time": "2025-02-23T18:20:54.271Z"
   },
   {
    "duration": 63,
    "start_time": "2025-02-23T18:21:15.602Z"
   },
   {
    "duration": 74,
    "start_time": "2025-02-23T18:30:29.984Z"
   },
   {
    "duration": 84,
    "start_time": "2025-02-23T18:32:10.130Z"
   },
   {
    "duration": 79,
    "start_time": "2025-02-23T18:38:51.314Z"
   },
   {
    "duration": 805,
    "start_time": "2025-02-23T18:40:07.090Z"
   },
   {
    "duration": 155,
    "start_time": "2025-02-23T18:40:07.897Z"
   },
   {
    "duration": 39,
    "start_time": "2025-02-23T18:40:08.053Z"
   },
   {
    "duration": 37,
    "start_time": "2025-02-23T18:40:08.093Z"
   },
   {
    "duration": 24,
    "start_time": "2025-02-23T18:40:08.133Z"
   },
   {
    "duration": 51,
    "start_time": "2025-02-23T18:40:08.158Z"
   },
   {
    "duration": 23,
    "start_time": "2025-02-23T18:40:08.211Z"
   },
   {
    "duration": 7,
    "start_time": "2025-02-23T18:40:08.235Z"
   },
   {
    "duration": 7,
    "start_time": "2025-02-23T18:40:08.244Z"
   },
   {
    "duration": 4,
    "start_time": "2025-02-23T18:40:08.253Z"
   },
   {
    "duration": 12,
    "start_time": "2025-02-23T18:40:08.258Z"
   },
   {
    "duration": 44,
    "start_time": "2025-02-23T18:40:08.272Z"
   },
   {
    "duration": 7,
    "start_time": "2025-02-23T18:40:08.317Z"
   },
   {
    "duration": 20,
    "start_time": "2025-02-23T18:40:08.329Z"
   },
   {
    "duration": 9,
    "start_time": "2025-02-23T18:40:08.350Z"
   },
   {
    "duration": 50,
    "start_time": "2025-02-23T18:40:08.360Z"
   },
   {
    "duration": 11,
    "start_time": "2025-02-23T18:40:08.411Z"
   },
   {
    "duration": 17,
    "start_time": "2025-02-23T18:40:08.424Z"
   },
   {
    "duration": 6,
    "start_time": "2025-02-23T18:40:08.443Z"
   },
   {
    "duration": 29,
    "start_time": "2025-02-23T18:40:08.450Z"
   },
   {
    "duration": 46,
    "start_time": "2025-02-23T18:40:08.481Z"
   },
   {
    "duration": 11,
    "start_time": "2025-02-23T18:40:08.528Z"
   },
   {
    "duration": 23,
    "start_time": "2025-02-23T18:40:08.541Z"
   },
   {
    "duration": 9,
    "start_time": "2025-02-23T18:40:08.565Z"
   },
   {
    "duration": 38,
    "start_time": "2025-02-23T18:40:08.575Z"
   },
   {
    "duration": 6,
    "start_time": "2025-02-23T18:40:08.614Z"
   },
   {
    "duration": 16,
    "start_time": "2025-02-23T18:40:08.621Z"
   },
   {
    "duration": 18,
    "start_time": "2025-02-23T18:40:08.638Z"
   },
   {
    "duration": 12,
    "start_time": "2025-02-23T18:40:08.658Z"
   },
   {
    "duration": 6,
    "start_time": "2025-02-23T18:40:08.672Z"
   },
   {
    "duration": 19,
    "start_time": "2025-02-23T18:40:08.710Z"
   },
   {
    "duration": 17,
    "start_time": "2025-02-23T18:40:08.731Z"
   },
   {
    "duration": 7,
    "start_time": "2025-02-23T18:40:08.750Z"
   },
   {
    "duration": 21,
    "start_time": "2025-02-23T18:40:08.759Z"
   },
   {
    "duration": 7,
    "start_time": "2025-02-23T18:40:08.810Z"
   },
   {
    "duration": 24,
    "start_time": "2025-02-23T18:40:08.818Z"
   },
   {
    "duration": 22,
    "start_time": "2025-02-23T18:40:08.843Z"
   },
   {
    "duration": 16,
    "start_time": "2025-02-23T18:40:08.867Z"
   },
   {
    "duration": 15,
    "start_time": "2025-02-23T18:40:08.910Z"
   },
   {
    "duration": 6,
    "start_time": "2025-02-23T18:40:08.927Z"
   },
   {
    "duration": 19,
    "start_time": "2025-02-23T18:40:08.938Z"
   },
   {
    "duration": 289,
    "start_time": "2025-02-23T18:40:08.959Z"
   },
   {
    "duration": 0,
    "start_time": "2025-02-23T18:40:09.250Z"
   },
   {
    "duration": 0,
    "start_time": "2025-02-23T18:40:09.251Z"
   },
   {
    "duration": 0,
    "start_time": "2025-02-23T18:40:09.252Z"
   },
   {
    "duration": 0,
    "start_time": "2025-02-23T18:40:09.253Z"
   },
   {
    "duration": 0,
    "start_time": "2025-02-23T18:40:09.254Z"
   },
   {
    "duration": 0,
    "start_time": "2025-02-23T18:40:09.256Z"
   },
   {
    "duration": 0,
    "start_time": "2025-02-23T18:40:09.257Z"
   },
   {
    "duration": 0,
    "start_time": "2025-02-23T18:40:09.258Z"
   },
   {
    "duration": 0,
    "start_time": "2025-02-23T18:40:09.259Z"
   },
   {
    "duration": 0,
    "start_time": "2025-02-23T18:40:09.260Z"
   },
   {
    "duration": 0,
    "start_time": "2025-02-23T18:40:09.261Z"
   },
   {
    "duration": 0,
    "start_time": "2025-02-23T18:40:09.262Z"
   },
   {
    "duration": 0,
    "start_time": "2025-02-23T18:40:09.263Z"
   },
   {
    "duration": 76,
    "start_time": "2025-02-23T18:40:32.966Z"
   },
   {
    "duration": 242,
    "start_time": "2025-02-23T18:44:02.315Z"
   },
   {
    "duration": 263,
    "start_time": "2025-02-23T18:45:01.910Z"
   },
   {
    "duration": 217,
    "start_time": "2025-02-23T18:45:06.597Z"
   },
   {
    "duration": 41,
    "start_time": "2025-02-23T18:47:54.591Z"
   },
   {
    "duration": 169,
    "start_time": "2025-02-23T18:50:31.210Z"
   },
   {
    "duration": 172,
    "start_time": "2025-02-23T18:51:00.083Z"
   },
   {
    "duration": 172,
    "start_time": "2025-02-23T18:51:46.710Z"
   },
   {
    "duration": 177,
    "start_time": "2025-02-23T18:53:54.266Z"
   },
   {
    "duration": 235,
    "start_time": "2025-02-23T18:54:12.039Z"
   },
   {
    "duration": 173,
    "start_time": "2025-02-23T18:54:58.558Z"
   },
   {
    "duration": 9,
    "start_time": "2025-02-23T18:57:03.886Z"
   },
   {
    "duration": 123,
    "start_time": "2025-02-23T18:57:14.792Z"
   },
   {
    "duration": 107,
    "start_time": "2025-02-23T18:58:41.733Z"
   },
   {
    "duration": 259,
    "start_time": "2025-02-23T19:00:17.256Z"
   },
   {
    "duration": 239,
    "start_time": "2025-02-23T19:00:46.383Z"
   },
   {
    "duration": 169,
    "start_time": "2025-02-23T19:16:00.121Z"
   },
   {
    "duration": 11,
    "start_time": "2025-02-23T19:19:43.313Z"
   },
   {
    "duration": 112,
    "start_time": "2025-02-23T19:22:13.105Z"
   },
   {
    "duration": 190,
    "start_time": "2025-02-23T19:23:55.178Z"
   },
   {
    "duration": 789,
    "start_time": "2025-02-23T19:25:45.653Z"
   },
   {
    "duration": 152,
    "start_time": "2025-02-23T19:25:46.445Z"
   },
   {
    "duration": 37,
    "start_time": "2025-02-23T19:25:46.599Z"
   },
   {
    "duration": 29,
    "start_time": "2025-02-23T19:25:46.639Z"
   },
   {
    "duration": 42,
    "start_time": "2025-02-23T19:25:46.670Z"
   },
   {
    "duration": 27,
    "start_time": "2025-02-23T19:25:46.714Z"
   },
   {
    "duration": 24,
    "start_time": "2025-02-23T19:25:46.742Z"
   },
   {
    "duration": 7,
    "start_time": "2025-02-23T19:25:46.768Z"
   },
   {
    "duration": 32,
    "start_time": "2025-02-23T19:25:46.777Z"
   },
   {
    "duration": 4,
    "start_time": "2025-02-23T19:25:46.813Z"
   },
   {
    "duration": 12,
    "start_time": "2025-02-23T19:25:46.818Z"
   },
   {
    "duration": 7,
    "start_time": "2025-02-23T19:25:46.832Z"
   },
   {
    "duration": 7,
    "start_time": "2025-02-23T19:25:46.841Z"
   },
   {
    "duration": 21,
    "start_time": "2025-02-23T19:25:46.850Z"
   },
   {
    "duration": 9,
    "start_time": "2025-02-23T19:25:46.908Z"
   },
   {
    "duration": 15,
    "start_time": "2025-02-23T19:25:46.919Z"
   },
   {
    "duration": 11,
    "start_time": "2025-02-23T19:25:46.936Z"
   },
   {
    "duration": 15,
    "start_time": "2025-02-23T19:25:46.949Z"
   },
   {
    "duration": 7,
    "start_time": "2025-02-23T19:25:46.965Z"
   },
   {
    "duration": 55,
    "start_time": "2025-02-23T19:25:46.974Z"
   },
   {
    "duration": 21,
    "start_time": "2025-02-23T19:25:47.031Z"
   },
   {
    "duration": 10,
    "start_time": "2025-02-23T19:25:47.054Z"
   },
   {
    "duration": 44,
    "start_time": "2025-02-23T19:25:47.066Z"
   },
   {
    "duration": 8,
    "start_time": "2025-02-23T19:25:47.112Z"
   },
   {
    "duration": 10,
    "start_time": "2025-02-23T19:25:47.122Z"
   },
   {
    "duration": 6,
    "start_time": "2025-02-23T19:25:47.134Z"
   },
   {
    "duration": 17,
    "start_time": "2025-02-23T19:25:47.141Z"
   },
   {
    "duration": 48,
    "start_time": "2025-02-23T19:25:47.161Z"
   },
   {
    "duration": 18,
    "start_time": "2025-02-23T19:25:47.211Z"
   },
   {
    "duration": 9,
    "start_time": "2025-02-23T19:25:47.231Z"
   },
   {
    "duration": 29,
    "start_time": "2025-02-23T19:25:47.243Z"
   },
   {
    "duration": 37,
    "start_time": "2025-02-23T19:25:47.280Z"
   },
   {
    "duration": 8,
    "start_time": "2025-02-23T19:25:47.319Z"
   },
   {
    "duration": 21,
    "start_time": "2025-02-23T19:25:47.328Z"
   },
   {
    "duration": 7,
    "start_time": "2025-02-23T19:25:47.351Z"
   },
   {
    "duration": 54,
    "start_time": "2025-02-23T19:25:47.359Z"
   },
   {
    "duration": 26,
    "start_time": "2025-02-23T19:25:47.414Z"
   },
   {
    "duration": 16,
    "start_time": "2025-02-23T19:25:47.442Z"
   },
   {
    "duration": 15,
    "start_time": "2025-02-23T19:25:47.460Z"
   },
   {
    "duration": 32,
    "start_time": "2025-02-23T19:25:47.477Z"
   },
   {
    "duration": 46,
    "start_time": "2025-02-23T19:25:47.511Z"
   },
   {
    "duration": 84,
    "start_time": "2025-02-23T19:25:47.558Z"
   },
   {
    "duration": 253,
    "start_time": "2025-02-23T19:25:47.644Z"
   },
   {
    "duration": 230,
    "start_time": "2025-02-23T19:25:47.899Z"
   },
   {
    "duration": 9,
    "start_time": "2025-02-23T19:25:48.131Z"
   },
   {
    "duration": 123,
    "start_time": "2025-02-23T19:25:48.142Z"
   },
   {
    "duration": 3,
    "start_time": "2025-02-23T19:25:48.267Z"
   },
   {
    "duration": 0,
    "start_time": "2025-02-23T19:25:48.271Z"
   },
   {
    "duration": 0,
    "start_time": "2025-02-23T19:25:48.273Z"
   },
   {
    "duration": 0,
    "start_time": "2025-02-23T19:25:48.274Z"
   },
   {
    "duration": 0,
    "start_time": "2025-02-23T19:25:48.275Z"
   },
   {
    "duration": 0,
    "start_time": "2025-02-23T19:25:48.276Z"
   },
   {
    "duration": 0,
    "start_time": "2025-02-23T19:25:48.277Z"
   },
   {
    "duration": 0,
    "start_time": "2025-02-23T19:25:48.278Z"
   },
   {
    "duration": 0,
    "start_time": "2025-02-23T19:25:48.279Z"
   },
   {
    "duration": 0,
    "start_time": "2025-02-23T19:25:48.280Z"
   },
   {
    "duration": 273,
    "start_time": "2025-02-23T19:26:07.299Z"
   },
   {
    "duration": 2780,
    "start_time": "2025-02-23T21:10:45.549Z"
   },
   {
    "duration": 199,
    "start_time": "2025-02-23T21:10:48.331Z"
   },
   {
    "duration": 39,
    "start_time": "2025-02-23T21:10:48.531Z"
   },
   {
    "duration": 38,
    "start_time": "2025-02-23T21:10:48.572Z"
   },
   {
    "duration": 22,
    "start_time": "2025-02-23T21:10:48.613Z"
   },
   {
    "duration": 28,
    "start_time": "2025-02-23T21:10:48.637Z"
   },
   {
    "duration": 52,
    "start_time": "2025-02-23T21:10:48.666Z"
   },
   {
    "duration": 6,
    "start_time": "2025-02-23T21:10:48.720Z"
   },
   {
    "duration": 6,
    "start_time": "2025-02-23T21:10:48.728Z"
   },
   {
    "duration": 5,
    "start_time": "2025-02-23T21:10:48.735Z"
   },
   {
    "duration": 12,
    "start_time": "2025-02-23T21:10:48.742Z"
   },
   {
    "duration": 8,
    "start_time": "2025-02-23T21:10:48.755Z"
   },
   {
    "duration": 45,
    "start_time": "2025-02-23T21:10:48.765Z"
   },
   {
    "duration": 24,
    "start_time": "2025-02-23T21:10:48.815Z"
   },
   {
    "duration": 10,
    "start_time": "2025-02-23T21:10:48.841Z"
   },
   {
    "duration": 17,
    "start_time": "2025-02-23T21:10:48.853Z"
   },
   {
    "duration": 37,
    "start_time": "2025-02-23T21:10:48.872Z"
   },
   {
    "duration": 15,
    "start_time": "2025-02-23T21:10:48.910Z"
   },
   {
    "duration": 7,
    "start_time": "2025-02-23T21:10:48.926Z"
   },
   {
    "duration": 26,
    "start_time": "2025-02-23T21:10:48.934Z"
   },
   {
    "duration": 20,
    "start_time": "2025-02-23T21:10:48.961Z"
   },
   {
    "duration": 33,
    "start_time": "2025-02-23T21:10:48.983Z"
   },
   {
    "duration": 24,
    "start_time": "2025-02-23T21:10:49.017Z"
   },
   {
    "duration": 8,
    "start_time": "2025-02-23T21:10:49.043Z"
   },
   {
    "duration": 10,
    "start_time": "2025-02-23T21:10:49.053Z"
   },
   {
    "duration": 6,
    "start_time": "2025-02-23T21:10:49.066Z"
   },
   {
    "duration": 44,
    "start_time": "2025-02-23T21:10:49.073Z"
   },
   {
    "duration": 18,
    "start_time": "2025-02-23T21:10:49.119Z"
   },
   {
    "duration": 12,
    "start_time": "2025-02-23T21:10:49.138Z"
   },
   {
    "duration": 7,
    "start_time": "2025-02-23T21:10:49.152Z"
   },
   {
    "duration": 48,
    "start_time": "2025-02-23T21:10:49.161Z"
   },
   {
    "duration": 16,
    "start_time": "2025-02-23T21:10:49.211Z"
   },
   {
    "duration": 6,
    "start_time": "2025-02-23T21:10:49.228Z"
   },
   {
    "duration": 20,
    "start_time": "2025-02-23T21:10:49.236Z"
   },
   {
    "duration": 6,
    "start_time": "2025-02-23T21:10:49.258Z"
   },
   {
    "duration": 52,
    "start_time": "2025-02-23T21:10:49.266Z"
   },
   {
    "duration": 23,
    "start_time": "2025-02-23T21:10:49.320Z"
   },
   {
    "duration": 16,
    "start_time": "2025-02-23T21:10:49.345Z"
   },
   {
    "duration": 17,
    "start_time": "2025-02-23T21:10:49.362Z"
   },
   {
    "duration": 32,
    "start_time": "2025-02-23T21:10:49.381Z"
   },
   {
    "duration": 39,
    "start_time": "2025-02-23T21:10:49.418Z"
   },
   {
    "duration": 93,
    "start_time": "2025-02-23T21:10:49.458Z"
   },
   {
    "duration": 249,
    "start_time": "2025-02-23T21:10:49.552Z"
   },
   {
    "duration": 182,
    "start_time": "2025-02-23T21:10:49.803Z"
   },
   {
    "duration": 8,
    "start_time": "2025-02-23T21:10:49.987Z"
   },
   {
    "duration": 124,
    "start_time": "2025-02-23T21:10:49.997Z"
   },
   {
    "duration": 222,
    "start_time": "2025-02-23T21:10:50.123Z"
   },
   {
    "duration": 299,
    "start_time": "2025-02-23T21:10:50.347Z"
   },
   {
    "duration": 181,
    "start_time": "2025-02-23T21:10:50.648Z"
   },
   {
    "duration": 9,
    "start_time": "2025-02-23T21:10:50.830Z"
   },
   {
    "duration": 124,
    "start_time": "2025-02-23T21:10:50.840Z"
   },
   {
    "duration": 5,
    "start_time": "2025-02-23T21:10:50.967Z"
   },
   {
    "duration": 0,
    "start_time": "2025-02-23T21:10:50.974Z"
   },
   {
    "duration": 0,
    "start_time": "2025-02-23T21:10:50.976Z"
   },
   {
    "duration": 0,
    "start_time": "2025-02-23T21:10:50.981Z"
   },
   {
    "duration": 251,
    "start_time": "2025-02-23T21:11:07.633Z"
   },
   {
    "duration": 188,
    "start_time": "2025-02-23T21:15:28.345Z"
   },
   {
    "duration": 11,
    "start_time": "2025-02-23T21:17:43.486Z"
   },
   {
    "duration": 111,
    "start_time": "2025-02-23T21:20:58.946Z"
   },
   {
    "duration": 800,
    "start_time": "2025-02-23T21:36:08.722Z"
   },
   {
    "duration": 157,
    "start_time": "2025-02-23T21:36:09.524Z"
   },
   {
    "duration": 38,
    "start_time": "2025-02-23T21:36:09.682Z"
   },
   {
    "duration": 30,
    "start_time": "2025-02-23T21:36:09.723Z"
   },
   {
    "duration": 32,
    "start_time": "2025-02-23T21:36:09.756Z"
   },
   {
    "duration": 45,
    "start_time": "2025-02-23T21:36:09.791Z"
   },
   {
    "duration": 24,
    "start_time": "2025-02-23T21:36:09.837Z"
   },
   {
    "duration": 7,
    "start_time": "2025-02-23T21:36:09.862Z"
   },
   {
    "duration": 7,
    "start_time": "2025-02-23T21:36:09.871Z"
   },
   {
    "duration": 5,
    "start_time": "2025-02-23T21:36:09.911Z"
   },
   {
    "duration": 14,
    "start_time": "2025-02-23T21:36:09.918Z"
   },
   {
    "duration": 8,
    "start_time": "2025-02-23T21:36:09.933Z"
   },
   {
    "duration": 8,
    "start_time": "2025-02-23T21:36:09.942Z"
   },
   {
    "duration": 21,
    "start_time": "2025-02-23T21:36:09.951Z"
   },
   {
    "duration": 9,
    "start_time": "2025-02-23T21:36:10.009Z"
   },
   {
    "duration": 17,
    "start_time": "2025-02-23T21:36:10.020Z"
   },
   {
    "duration": 11,
    "start_time": "2025-02-23T21:36:10.038Z"
   },
   {
    "duration": 15,
    "start_time": "2025-02-23T21:36:10.051Z"
   },
   {
    "duration": 7,
    "start_time": "2025-02-23T21:36:10.067Z"
   },
   {
    "duration": 54,
    "start_time": "2025-02-23T21:36:10.075Z"
   },
   {
    "duration": 22,
    "start_time": "2025-02-23T21:36:10.131Z"
   },
   {
    "duration": 12,
    "start_time": "2025-02-23T21:36:10.154Z"
   },
   {
    "duration": 44,
    "start_time": "2025-02-23T21:36:10.167Z"
   },
   {
    "duration": 8,
    "start_time": "2025-02-23T21:36:10.212Z"
   },
   {
    "duration": 11,
    "start_time": "2025-02-23T21:36:10.222Z"
   },
   {
    "duration": 6,
    "start_time": "2025-02-23T21:36:10.234Z"
   },
   {
    "duration": 16,
    "start_time": "2025-02-23T21:36:10.242Z"
   },
   {
    "duration": 47,
    "start_time": "2025-02-23T21:36:10.262Z"
   },
   {
    "duration": 13,
    "start_time": "2025-02-23T21:36:10.311Z"
   },
   {
    "duration": 6,
    "start_time": "2025-02-23T21:36:10.326Z"
   },
   {
    "duration": 20,
    "start_time": "2025-02-23T21:36:10.334Z"
   },
   {
    "duration": 18,
    "start_time": "2025-02-23T21:36:10.355Z"
   },
   {
    "duration": 34,
    "start_time": "2025-02-23T21:36:10.376Z"
   },
   {
    "duration": 20,
    "start_time": "2025-02-23T21:36:10.412Z"
   },
   {
    "duration": 7,
    "start_time": "2025-02-23T21:36:10.434Z"
   },
   {
    "duration": 23,
    "start_time": "2025-02-23T21:36:10.443Z"
   },
   {
    "duration": 48,
    "start_time": "2025-02-23T21:36:10.468Z"
   },
   {
    "duration": 17,
    "start_time": "2025-02-23T21:36:10.517Z"
   },
   {
    "duration": 15,
    "start_time": "2025-02-23T21:36:10.535Z"
   },
   {
    "duration": 6,
    "start_time": "2025-02-23T21:36:10.552Z"
   },
   {
    "duration": 63,
    "start_time": "2025-02-23T21:36:10.560Z"
   },
   {
    "duration": 76,
    "start_time": "2025-02-23T21:36:10.625Z"
   },
   {
    "duration": 244,
    "start_time": "2025-02-23T21:36:10.709Z"
   },
   {
    "duration": 237,
    "start_time": "2025-02-23T21:36:10.955Z"
   },
   {
    "duration": 15,
    "start_time": "2025-02-23T21:36:11.195Z"
   },
   {
    "duration": 116,
    "start_time": "2025-02-23T21:36:11.212Z"
   },
   {
    "duration": 211,
    "start_time": "2025-02-23T21:36:11.329Z"
   },
   {
    "duration": 249,
    "start_time": "2025-02-23T21:36:11.542Z"
   },
   {
    "duration": 185,
    "start_time": "2025-02-23T21:36:11.793Z"
   },
   {
    "duration": 9,
    "start_time": "2025-02-23T21:36:11.981Z"
   },
   {
    "duration": 127,
    "start_time": "2025-02-23T21:36:11.991Z"
   },
   {
    "duration": 248,
    "start_time": "2025-02-23T21:36:12.120Z"
   },
   {
    "duration": 187,
    "start_time": "2025-02-23T21:36:12.370Z"
   },
   {
    "duration": 9,
    "start_time": "2025-02-23T21:36:12.559Z"
   },
   {
    "duration": 180,
    "start_time": "2025-02-23T21:36:12.570Z"
   },
   {
    "duration": 684,
    "start_time": "2025-02-23T21:36:12.751Z"
   },
   {
    "duration": 0,
    "start_time": "2025-02-23T21:36:13.436Z"
   },
   {
    "duration": 44,
    "start_time": "2025-02-23T21:36:54.836Z"
   },
   {
    "duration": 832,
    "start_time": "2025-02-23T21:38:15.566Z"
   },
   {
    "duration": 151,
    "start_time": "2025-02-23T21:38:16.401Z"
   },
   {
    "duration": 38,
    "start_time": "2025-02-23T21:38:16.554Z"
   },
   {
    "duration": 37,
    "start_time": "2025-02-23T21:38:16.594Z"
   },
   {
    "duration": 23,
    "start_time": "2025-02-23T21:38:16.633Z"
   },
   {
    "duration": 53,
    "start_time": "2025-02-23T21:38:16.657Z"
   },
   {
    "duration": 24,
    "start_time": "2025-02-23T21:38:16.711Z"
   },
   {
    "duration": 7,
    "start_time": "2025-02-23T21:38:16.737Z"
   },
   {
    "duration": 7,
    "start_time": "2025-02-23T21:38:16.746Z"
   },
   {
    "duration": 4,
    "start_time": "2025-02-23T21:38:16.756Z"
   },
   {
    "duration": 12,
    "start_time": "2025-02-23T21:38:16.762Z"
   },
   {
    "duration": 8,
    "start_time": "2025-02-23T21:38:16.809Z"
   },
   {
    "duration": 8,
    "start_time": "2025-02-23T21:38:16.819Z"
   },
   {
    "duration": 19,
    "start_time": "2025-02-23T21:38:16.829Z"
   },
   {
    "duration": 9,
    "start_time": "2025-02-23T21:38:16.849Z"
   },
   {
    "duration": 16,
    "start_time": "2025-02-23T21:38:16.860Z"
   },
   {
    "duration": 11,
    "start_time": "2025-02-23T21:38:16.909Z"
   },
   {
    "duration": 16,
    "start_time": "2025-02-23T21:38:16.921Z"
   },
   {
    "duration": 6,
    "start_time": "2025-02-23T21:38:16.938Z"
   },
   {
    "duration": 21,
    "start_time": "2025-02-23T21:38:16.946Z"
   },
   {
    "duration": 49,
    "start_time": "2025-02-23T21:38:16.969Z"
   },
   {
    "duration": 10,
    "start_time": "2025-02-23T21:38:17.020Z"
   },
   {
    "duration": 23,
    "start_time": "2025-02-23T21:38:17.032Z"
   },
   {
    "duration": 8,
    "start_time": "2025-02-23T21:38:17.057Z"
   },
   {
    "duration": 12,
    "start_time": "2025-02-23T21:38:17.066Z"
   },
   {
    "duration": 6,
    "start_time": "2025-02-23T21:38:17.108Z"
   },
   {
    "duration": 15,
    "start_time": "2025-02-23T21:38:17.116Z"
   },
   {
    "duration": 17,
    "start_time": "2025-02-23T21:38:17.135Z"
   },
   {
    "duration": 13,
    "start_time": "2025-02-23T21:38:17.153Z"
   },
   {
    "duration": 7,
    "start_time": "2025-02-23T21:38:17.168Z"
   },
   {
    "duration": 53,
    "start_time": "2025-02-23T21:38:17.177Z"
   },
   {
    "duration": 20,
    "start_time": "2025-02-23T21:38:17.234Z"
   },
   {
    "duration": 7,
    "start_time": "2025-02-23T21:38:17.256Z"
   },
   {
    "duration": 44,
    "start_time": "2025-02-23T21:38:17.266Z"
   },
   {
    "duration": 7,
    "start_time": "2025-02-23T21:38:17.312Z"
   },
   {
    "duration": 24,
    "start_time": "2025-02-23T21:38:17.321Z"
   },
   {
    "duration": 25,
    "start_time": "2025-02-23T21:38:17.346Z"
   },
   {
    "duration": 52,
    "start_time": "2025-02-23T21:38:17.372Z"
   },
   {
    "duration": 20,
    "start_time": "2025-02-23T21:38:17.426Z"
   },
   {
    "duration": 8,
    "start_time": "2025-02-23T21:38:17.448Z"
   },
   {
    "duration": 64,
    "start_time": "2025-02-23T21:38:17.457Z"
   },
   {
    "duration": 78,
    "start_time": "2025-02-23T21:38:17.522Z"
   },
   {
    "duration": 270,
    "start_time": "2025-02-23T21:38:17.601Z"
   },
   {
    "duration": 230,
    "start_time": "2025-02-23T21:38:17.873Z"
   },
   {
    "duration": 11,
    "start_time": "2025-02-23T21:38:18.105Z"
   },
   {
    "duration": 120,
    "start_time": "2025-02-23T21:38:18.117Z"
   },
   {
    "duration": 209,
    "start_time": "2025-02-23T21:38:18.239Z"
   },
   {
    "duration": 253,
    "start_time": "2025-02-23T21:38:18.450Z"
   },
   {
    "duration": 182,
    "start_time": "2025-02-23T21:38:18.705Z"
   },
   {
    "duration": 20,
    "start_time": "2025-02-23T21:38:18.889Z"
   },
   {
    "duration": 138,
    "start_time": "2025-02-23T21:38:18.911Z"
   },
   {
    "duration": 253,
    "start_time": "2025-02-23T21:38:19.051Z"
   },
   {
    "duration": 189,
    "start_time": "2025-02-23T21:38:19.309Z"
   },
   {
    "duration": 10,
    "start_time": "2025-02-23T21:38:19.509Z"
   },
   {
    "duration": 183,
    "start_time": "2025-02-23T21:38:19.522Z"
   },
   {
    "duration": 615,
    "start_time": "2025-02-23T21:38:19.709Z"
   },
   {
    "duration": 0,
    "start_time": "2025-02-23T21:38:20.326Z"
   },
   {
    "duration": 7,
    "start_time": "2025-02-23T21:40:13.368Z"
   },
   {
    "duration": 4,
    "start_time": "2025-02-23T21:58:27.323Z"
   },
   {
    "duration": 5,
    "start_time": "2025-02-23T21:58:38.197Z"
   },
   {
    "duration": 8,
    "start_time": "2025-02-23T21:58:44.152Z"
   },
   {
    "duration": 792,
    "start_time": "2025-02-23T22:00:30.896Z"
   },
   {
    "duration": 151,
    "start_time": "2025-02-23T22:00:31.690Z"
   },
   {
    "duration": 39,
    "start_time": "2025-02-23T22:00:31.842Z"
   },
   {
    "duration": 39,
    "start_time": "2025-02-23T22:00:31.883Z"
   },
   {
    "duration": 21,
    "start_time": "2025-02-23T22:00:31.923Z"
   },
   {
    "duration": 30,
    "start_time": "2025-02-23T22:00:31.946Z"
   },
   {
    "duration": 54,
    "start_time": "2025-02-23T22:00:31.977Z"
   },
   {
    "duration": 7,
    "start_time": "2025-02-23T22:00:32.033Z"
   },
   {
    "duration": 7,
    "start_time": "2025-02-23T22:00:32.043Z"
   },
   {
    "duration": 4,
    "start_time": "2025-02-23T22:00:32.053Z"
   },
   {
    "duration": 12,
    "start_time": "2025-02-23T22:00:32.059Z"
   },
   {
    "duration": 40,
    "start_time": "2025-02-23T22:00:32.072Z"
   },
   {
    "duration": 8,
    "start_time": "2025-02-23T22:00:32.113Z"
   },
   {
    "duration": 20,
    "start_time": "2025-02-23T22:00:32.123Z"
   },
   {
    "duration": 9,
    "start_time": "2025-02-23T22:00:32.145Z"
   },
   {
    "duration": 20,
    "start_time": "2025-02-23T22:00:32.156Z"
   },
   {
    "duration": 37,
    "start_time": "2025-02-23T22:00:32.177Z"
   },
   {
    "duration": 14,
    "start_time": "2025-02-23T22:00:32.216Z"
   },
   {
    "duration": 6,
    "start_time": "2025-02-23T22:00:32.232Z"
   },
   {
    "duration": 22,
    "start_time": "2025-02-23T22:00:32.240Z"
   },
   {
    "duration": 46,
    "start_time": "2025-02-23T22:00:32.264Z"
   },
   {
    "duration": 11,
    "start_time": "2025-02-23T22:00:32.312Z"
   },
   {
    "duration": 23,
    "start_time": "2025-02-23T22:00:32.324Z"
   },
   {
    "duration": 7,
    "start_time": "2025-02-23T22:00:32.350Z"
   },
   {
    "duration": 11,
    "start_time": "2025-02-23T22:00:32.359Z"
   },
   {
    "duration": 6,
    "start_time": "2025-02-23T22:00:32.372Z"
   },
   {
    "duration": 17,
    "start_time": "2025-02-23T22:00:32.409Z"
   },
   {
    "duration": 17,
    "start_time": "2025-02-23T22:00:32.431Z"
   },
   {
    "duration": 13,
    "start_time": "2025-02-23T22:00:32.449Z"
   },
   {
    "duration": 6,
    "start_time": "2025-02-23T22:00:32.464Z"
   },
   {
    "duration": 48,
    "start_time": "2025-02-23T22:00:32.471Z"
   },
   {
    "duration": 16,
    "start_time": "2025-02-23T22:00:32.521Z"
   },
   {
    "duration": 6,
    "start_time": "2025-02-23T22:00:32.538Z"
   },
   {
    "duration": 19,
    "start_time": "2025-02-23T22:00:32.546Z"
   },
   {
    "duration": 7,
    "start_time": "2025-02-23T22:00:32.567Z"
   },
   {
    "duration": 24,
    "start_time": "2025-02-23T22:00:32.608Z"
   },
   {
    "duration": 23,
    "start_time": "2025-02-23T22:00:32.634Z"
   },
   {
    "duration": 17,
    "start_time": "2025-02-23T22:00:32.658Z"
   },
   {
    "duration": 37,
    "start_time": "2025-02-23T22:00:32.677Z"
   },
   {
    "duration": 6,
    "start_time": "2025-02-23T22:00:32.716Z"
   },
   {
    "duration": 41,
    "start_time": "2025-02-23T22:00:32.724Z"
   },
   {
    "duration": 101,
    "start_time": "2025-02-23T22:00:32.766Z"
   },
   {
    "duration": 253,
    "start_time": "2025-02-23T22:00:32.870Z"
   },
   {
    "duration": 233,
    "start_time": "2025-02-23T22:00:33.125Z"
   },
   {
    "duration": 10,
    "start_time": "2025-02-23T22:00:33.360Z"
   },
   {
    "duration": 121,
    "start_time": "2025-02-23T22:00:33.372Z"
   },
   {
    "duration": 215,
    "start_time": "2025-02-23T22:00:33.495Z"
   },
   {
    "duration": 252,
    "start_time": "2025-02-23T22:00:33.712Z"
   },
   {
    "duration": 179,
    "start_time": "2025-02-23T22:00:33.967Z"
   },
   {
    "duration": 9,
    "start_time": "2025-02-23T22:00:34.147Z"
   },
   {
    "duration": 129,
    "start_time": "2025-02-23T22:00:34.157Z"
   },
   {
    "duration": 250,
    "start_time": "2025-02-23T22:00:34.287Z"
   },
   {
    "duration": 181,
    "start_time": "2025-02-23T22:00:34.540Z"
   },
   {
    "duration": 8,
    "start_time": "2025-02-23T22:00:34.724Z"
   },
   {
    "duration": 189,
    "start_time": "2025-02-23T22:00:34.734Z"
   },
   {
    "duration": 6,
    "start_time": "2025-02-23T22:00:34.925Z"
   },
   {
    "duration": 7,
    "start_time": "2025-02-23T22:00:34.933Z"
   },
   {
    "duration": 4,
    "start_time": "2025-02-23T22:06:18.751Z"
   },
   {
    "duration": 5,
    "start_time": "2025-02-23T22:06:41.963Z"
   },
   {
    "duration": 5,
    "start_time": "2025-02-23T22:08:41.386Z"
   },
   {
    "duration": 4,
    "start_time": "2025-02-23T22:11:14.332Z"
   },
   {
    "duration": 4,
    "start_time": "2025-02-23T22:12:27.476Z"
   },
   {
    "duration": 5,
    "start_time": "2025-02-23T22:12:45.349Z"
   },
   {
    "duration": 4,
    "start_time": "2025-02-23T22:12:59.870Z"
   },
   {
    "duration": 4,
    "start_time": "2025-02-23T22:13:13.002Z"
   },
   {
    "duration": 64,
    "start_time": "2025-02-23T22:13:56.304Z"
   },
   {
    "duration": 4,
    "start_time": "2025-02-23T22:14:15.017Z"
   },
   {
    "duration": 4,
    "start_time": "2025-02-23T22:14:25.716Z"
   },
   {
    "duration": 4,
    "start_time": "2025-02-23T22:14:55.079Z"
   },
   {
    "duration": 803,
    "start_time": "2025-02-23T22:15:29.276Z"
   },
   {
    "duration": 152,
    "start_time": "2025-02-23T22:15:30.081Z"
   },
   {
    "duration": 38,
    "start_time": "2025-02-23T22:15:30.234Z"
   },
   {
    "duration": 44,
    "start_time": "2025-02-23T22:15:30.274Z"
   },
   {
    "duration": 22,
    "start_time": "2025-02-23T22:15:30.320Z"
   },
   {
    "duration": 28,
    "start_time": "2025-02-23T22:15:30.344Z"
   },
   {
    "duration": 50,
    "start_time": "2025-02-23T22:15:30.373Z"
   },
   {
    "duration": 10,
    "start_time": "2025-02-23T22:15:30.424Z"
   },
   {
    "duration": 8,
    "start_time": "2025-02-23T22:15:30.435Z"
   },
   {
    "duration": 4,
    "start_time": "2025-02-23T22:15:30.448Z"
   },
   {
    "duration": 14,
    "start_time": "2025-02-23T22:15:30.454Z"
   },
   {
    "duration": 40,
    "start_time": "2025-02-23T22:15:30.470Z"
   },
   {
    "duration": 8,
    "start_time": "2025-02-23T22:15:30.512Z"
   },
   {
    "duration": 21,
    "start_time": "2025-02-23T22:15:30.521Z"
   },
   {
    "duration": 9,
    "start_time": "2025-02-23T22:15:30.543Z"
   },
   {
    "duration": 17,
    "start_time": "2025-02-23T22:15:30.554Z"
   },
   {
    "duration": 45,
    "start_time": "2025-02-23T22:15:30.572Z"
   },
   {
    "duration": 15,
    "start_time": "2025-02-23T22:15:30.618Z"
   },
   {
    "duration": 6,
    "start_time": "2025-02-23T22:15:30.635Z"
   },
   {
    "duration": 22,
    "start_time": "2025-02-23T22:15:30.642Z"
   },
   {
    "duration": 49,
    "start_time": "2025-02-23T22:15:30.665Z"
   },
   {
    "duration": 10,
    "start_time": "2025-02-23T22:15:30.716Z"
   },
   {
    "duration": 24,
    "start_time": "2025-02-23T22:15:30.727Z"
   },
   {
    "duration": 9,
    "start_time": "2025-02-23T22:15:30.752Z"
   },
   {
    "duration": 11,
    "start_time": "2025-02-23T22:15:30.762Z"
   },
   {
    "duration": 37,
    "start_time": "2025-02-23T22:15:30.775Z"
   },
   {
    "duration": 17,
    "start_time": "2025-02-23T22:15:30.814Z"
   },
   {
    "duration": 18,
    "start_time": "2025-02-23T22:15:30.835Z"
   },
   {
    "duration": 13,
    "start_time": "2025-02-23T22:15:30.854Z"
   },
   {
    "duration": 6,
    "start_time": "2025-02-23T22:15:30.869Z"
   },
   {
    "duration": 47,
    "start_time": "2025-02-23T22:15:30.877Z"
   },
   {
    "duration": 17,
    "start_time": "2025-02-23T22:15:30.926Z"
   },
   {
    "duration": 5,
    "start_time": "2025-02-23T22:15:30.945Z"
   },
   {
    "duration": 22,
    "start_time": "2025-02-23T22:15:30.951Z"
   },
   {
    "duration": 7,
    "start_time": "2025-02-23T22:15:30.974Z"
   },
   {
    "duration": 24,
    "start_time": "2025-02-23T22:15:31.009Z"
   },
   {
    "duration": 21,
    "start_time": "2025-02-23T22:15:31.035Z"
   },
   {
    "duration": 16,
    "start_time": "2025-02-23T22:15:31.058Z"
   },
   {
    "duration": 41,
    "start_time": "2025-02-23T22:15:31.076Z"
   },
   {
    "duration": 7,
    "start_time": "2025-02-23T22:15:31.118Z"
   },
   {
    "duration": 40,
    "start_time": "2025-02-23T22:15:31.126Z"
   },
   {
    "duration": 80,
    "start_time": "2025-02-23T22:15:31.168Z"
   },
   {
    "duration": 4,
    "start_time": "2025-02-23T22:15:31.249Z"
   },
   {
    "duration": 257,
    "start_time": "2025-02-23T22:15:31.255Z"
   },
   {
    "duration": 240,
    "start_time": "2025-02-23T22:15:31.514Z"
   },
   {
    "duration": 9,
    "start_time": "2025-02-23T22:15:31.756Z"
   },
   {
    "duration": 119,
    "start_time": "2025-02-23T22:15:31.768Z"
   },
   {
    "duration": 207,
    "start_time": "2025-02-23T22:15:31.888Z"
   },
   {
    "duration": 251,
    "start_time": "2025-02-23T22:15:32.096Z"
   },
   {
    "duration": 177,
    "start_time": "2025-02-23T22:15:32.349Z"
   },
   {
    "duration": 10,
    "start_time": "2025-02-23T22:15:32.528Z"
   },
   {
    "duration": 138,
    "start_time": "2025-02-23T22:15:32.539Z"
   },
   {
    "duration": 245,
    "start_time": "2025-02-23T22:15:32.678Z"
   },
   {
    "duration": 179,
    "start_time": "2025-02-23T22:15:32.924Z"
   },
   {
    "duration": 10,
    "start_time": "2025-02-23T22:15:33.105Z"
   },
   {
    "duration": 177,
    "start_time": "2025-02-23T22:15:33.117Z"
   },
   {
    "duration": 220,
    "start_time": "2025-02-23T22:15:33.296Z"
   },
   {
    "duration": 0,
    "start_time": "2025-02-23T22:15:33.518Z"
   },
   {
    "duration": 0,
    "start_time": "2025-02-23T22:15:33.519Z"
   },
   {
    "duration": 8,
    "start_time": "2025-02-23T22:15:59.077Z"
   },
   {
    "duration": 10,
    "start_time": "2025-02-23T22:16:12.228Z"
   },
   {
    "duration": 846,
    "start_time": "2025-02-24T04:29:50.578Z"
   },
   {
    "duration": 148,
    "start_time": "2025-02-24T04:29:51.426Z"
   },
   {
    "duration": 48,
    "start_time": "2025-02-24T04:29:51.576Z"
   },
   {
    "duration": 32,
    "start_time": "2025-02-24T04:29:51.627Z"
   },
   {
    "duration": 23,
    "start_time": "2025-02-24T04:29:51.660Z"
   },
   {
    "duration": 54,
    "start_time": "2025-02-24T04:29:51.684Z"
   },
   {
    "duration": 26,
    "start_time": "2025-02-24T04:29:51.740Z"
   },
   {
    "duration": 9,
    "start_time": "2025-02-24T04:29:51.767Z"
   },
   {
    "duration": 7,
    "start_time": "2025-02-24T04:29:51.778Z"
   },
   {
    "duration": 35,
    "start_time": "2025-02-24T04:29:51.789Z"
   },
   {
    "duration": 13,
    "start_time": "2025-02-24T04:29:51.826Z"
   },
   {
    "duration": 9,
    "start_time": "2025-02-24T04:29:51.841Z"
   },
   {
    "duration": 9,
    "start_time": "2025-02-24T04:29:51.851Z"
   },
   {
    "duration": 22,
    "start_time": "2025-02-24T04:29:51.861Z"
   },
   {
    "duration": 45,
    "start_time": "2025-02-24T04:29:51.884Z"
   },
   {
    "duration": 17,
    "start_time": "2025-02-24T04:29:51.932Z"
   },
   {
    "duration": 12,
    "start_time": "2025-02-24T04:29:51.950Z"
   },
   {
    "duration": 15,
    "start_time": "2025-02-24T04:29:51.963Z"
   },
   {
    "duration": 7,
    "start_time": "2025-02-24T04:29:51.980Z"
   },
   {
    "duration": 59,
    "start_time": "2025-02-24T04:29:51.988Z"
   },
   {
    "duration": 22,
    "start_time": "2025-02-24T04:29:52.048Z"
   },
   {
    "duration": 11,
    "start_time": "2025-02-24T04:29:52.072Z"
   },
   {
    "duration": 47,
    "start_time": "2025-02-24T04:29:52.085Z"
   },
   {
    "duration": 9,
    "start_time": "2025-02-24T04:29:52.133Z"
   },
   {
    "duration": 12,
    "start_time": "2025-02-24T04:29:52.144Z"
   },
   {
    "duration": 6,
    "start_time": "2025-02-24T04:29:52.157Z"
   },
   {
    "duration": 17,
    "start_time": "2025-02-24T04:29:52.164Z"
   },
   {
    "duration": 57,
    "start_time": "2025-02-24T04:29:52.186Z"
   },
   {
    "duration": 18,
    "start_time": "2025-02-24T04:29:52.245Z"
   },
   {
    "duration": 9,
    "start_time": "2025-02-24T04:29:52.264Z"
   },
   {
    "duration": 24,
    "start_time": "2025-02-24T04:29:52.274Z"
   },
   {
    "duration": 38,
    "start_time": "2025-02-24T04:29:52.300Z"
   },
   {
    "duration": 7,
    "start_time": "2025-02-24T04:29:52.340Z"
   },
   {
    "duration": 21,
    "start_time": "2025-02-24T04:29:52.349Z"
   },
   {
    "duration": 7,
    "start_time": "2025-02-24T04:29:52.372Z"
   },
   {
    "duration": 53,
    "start_time": "2025-02-24T04:29:52.381Z"
   },
   {
    "duration": 24,
    "start_time": "2025-02-24T04:29:52.436Z"
   },
   {
    "duration": 18,
    "start_time": "2025-02-24T04:29:52.462Z"
   },
   {
    "duration": 16,
    "start_time": "2025-02-24T04:29:52.481Z"
   },
   {
    "duration": 33,
    "start_time": "2025-02-24T04:29:52.498Z"
   },
   {
    "duration": 44,
    "start_time": "2025-02-24T04:29:52.533Z"
   },
   {
    "duration": 83,
    "start_time": "2025-02-24T04:29:52.579Z"
   },
   {
    "duration": 263,
    "start_time": "2025-02-24T04:29:52.663Z"
   },
   {
    "duration": 231,
    "start_time": "2025-02-24T04:29:52.928Z"
   },
   {
    "duration": 10,
    "start_time": "2025-02-24T04:29:53.161Z"
   },
   {
    "duration": 129,
    "start_time": "2025-02-24T04:29:53.172Z"
   },
   {
    "duration": 232,
    "start_time": "2025-02-24T04:29:53.303Z"
   },
   {
    "duration": 255,
    "start_time": "2025-02-24T04:29:53.537Z"
   },
   {
    "duration": 193,
    "start_time": "2025-02-24T04:29:53.794Z"
   },
   {
    "duration": 9,
    "start_time": "2025-02-24T04:29:53.989Z"
   },
   {
    "duration": 134,
    "start_time": "2025-02-24T04:29:54.000Z"
   },
   {
    "duration": 249,
    "start_time": "2025-02-24T04:29:54.136Z"
   },
   {
    "duration": 201,
    "start_time": "2025-02-24T04:29:54.387Z"
   },
   {
    "duration": 9,
    "start_time": "2025-02-24T04:29:54.590Z"
   },
   {
    "duration": 194,
    "start_time": "2025-02-24T04:29:54.600Z"
   },
   {
    "duration": 8,
    "start_time": "2025-02-24T04:29:54.795Z"
   },
   {
    "duration": 20,
    "start_time": "2025-02-24T04:29:54.805Z"
   },
   {
    "duration": 28,
    "start_time": "2025-02-24T04:39:21.707Z"
   },
   {
    "duration": 156,
    "start_time": "2025-02-24T16:01:44.529Z"
   },
   {
    "duration": 2535,
    "start_time": "2025-02-24T16:02:08.202Z"
   },
   {
    "duration": 225,
    "start_time": "2025-02-24T16:02:10.740Z"
   },
   {
    "duration": 39,
    "start_time": "2025-02-24T16:02:10.966Z"
   },
   {
    "duration": 29,
    "start_time": "2025-02-24T16:02:11.008Z"
   },
   {
    "duration": 43,
    "start_time": "2025-02-24T16:02:11.039Z"
   },
   {
    "duration": 28,
    "start_time": "2025-02-24T16:02:11.083Z"
   },
   {
    "duration": 23,
    "start_time": "2025-02-24T16:02:11.113Z"
   },
   {
    "duration": 34,
    "start_time": "2025-02-24T16:02:11.138Z"
   },
   {
    "duration": 5,
    "start_time": "2025-02-24T16:02:11.174Z"
   },
   {
    "duration": 6,
    "start_time": "2025-02-24T16:02:11.182Z"
   },
   {
    "duration": 4,
    "start_time": "2025-02-24T16:02:11.190Z"
   },
   {
    "duration": 12,
    "start_time": "2025-02-24T16:02:11.196Z"
   },
   {
    "duration": 8,
    "start_time": "2025-02-24T16:02:11.209Z"
   },
   {
    "duration": 9,
    "start_time": "2025-02-24T16:02:11.219Z"
   },
   {
    "duration": 59,
    "start_time": "2025-02-24T16:02:11.229Z"
   },
   {
    "duration": 8,
    "start_time": "2025-02-24T16:02:11.290Z"
   },
   {
    "duration": 16,
    "start_time": "2025-02-24T16:02:11.300Z"
   },
   {
    "duration": 11,
    "start_time": "2025-02-24T16:02:11.318Z"
   },
   {
    "duration": 44,
    "start_time": "2025-02-24T16:02:11.330Z"
   },
   {
    "duration": 8,
    "start_time": "2025-02-24T16:02:11.375Z"
   },
   {
    "duration": 23,
    "start_time": "2025-02-24T16:02:11.385Z"
   },
   {
    "duration": 21,
    "start_time": "2025-02-24T16:02:11.410Z"
   },
   {
    "duration": 11,
    "start_time": "2025-02-24T16:02:11.432Z"
   },
   {
    "duration": 24,
    "start_time": "2025-02-24T16:02:11.470Z"
   },
   {
    "duration": 7,
    "start_time": "2025-02-24T16:02:11.496Z"
   },
   {
    "duration": 11,
    "start_time": "2025-02-24T16:02:11.504Z"
   },
   {
    "duration": 5,
    "start_time": "2025-02-24T16:02:11.517Z"
   },
   {
    "duration": 42,
    "start_time": "2025-02-24T16:02:11.528Z"
   },
   {
    "duration": 18,
    "start_time": "2025-02-24T16:02:11.572Z"
   },
   {
    "duration": 13,
    "start_time": "2025-02-24T16:02:11.591Z"
   },
   {
    "duration": 7,
    "start_time": "2025-02-24T16:02:11.605Z"
   },
   {
    "duration": 19,
    "start_time": "2025-02-24T16:02:11.614Z"
   },
   {
    "duration": 50,
    "start_time": "2025-02-24T16:02:11.634Z"
   },
   {
    "duration": 6,
    "start_time": "2025-02-24T16:02:11.685Z"
   },
   {
    "duration": 20,
    "start_time": "2025-02-24T16:02:11.693Z"
   },
   {
    "duration": 8,
    "start_time": "2025-02-24T16:02:11.714Z"
   },
   {
    "duration": 53,
    "start_time": "2025-02-24T16:02:11.724Z"
   },
   {
    "duration": 25,
    "start_time": "2025-02-24T16:02:11.779Z"
   },
   {
    "duration": 17,
    "start_time": "2025-02-24T16:02:11.806Z"
   },
   {
    "duration": 16,
    "start_time": "2025-02-24T16:02:11.825Z"
   },
   {
    "duration": 31,
    "start_time": "2025-02-24T16:02:11.843Z"
   },
   {
    "duration": 39,
    "start_time": "2025-02-24T16:02:11.876Z"
   },
   {
    "duration": 83,
    "start_time": "2025-02-24T16:02:11.917Z"
   },
   {
    "duration": 250,
    "start_time": "2025-02-24T16:02:12.002Z"
   },
   {
    "duration": 183,
    "start_time": "2025-02-24T16:02:12.254Z"
   },
   {
    "duration": 9,
    "start_time": "2025-02-24T16:02:12.439Z"
   },
   {
    "duration": 124,
    "start_time": "2025-02-24T16:02:12.449Z"
   },
   {
    "duration": 212,
    "start_time": "2025-02-24T16:02:12.576Z"
   },
   {
    "duration": 328,
    "start_time": "2025-02-24T16:02:12.792Z"
   },
   {
    "duration": 228,
    "start_time": "2025-02-24T16:02:13.122Z"
   },
   {
    "duration": 9,
    "start_time": "2025-02-24T16:02:13.351Z"
   },
   {
    "duration": 125,
    "start_time": "2025-02-24T16:02:13.362Z"
   },
   {
    "duration": 253,
    "start_time": "2025-02-24T16:02:13.490Z"
   },
   {
    "duration": 199,
    "start_time": "2025-02-24T16:02:13.745Z"
   },
   {
    "duration": 9,
    "start_time": "2025-02-24T16:02:13.946Z"
   },
   {
    "duration": 118,
    "start_time": "2025-02-24T16:02:13.958Z"
   },
   {
    "duration": 6,
    "start_time": "2025-02-24T16:02:14.078Z"
   },
   {
    "duration": 8,
    "start_time": "2025-02-24T16:02:14.086Z"
   },
   {
    "duration": 5,
    "start_time": "2025-02-24T16:04:10.608Z"
   },
   {
    "duration": 7,
    "start_time": "2025-02-24T16:04:41.439Z"
   },
   {
    "duration": 29,
    "start_time": "2025-02-24T16:05:06.792Z"
   },
   {
    "duration": 14,
    "start_time": "2025-02-24T16:05:28.312Z"
   },
   {
    "duration": 19,
    "start_time": "2025-02-24T16:06:00.234Z"
   },
   {
    "duration": 785,
    "start_time": "2025-02-24T18:47:40.377Z"
   },
   {
    "duration": 157,
    "start_time": "2025-02-24T18:47:41.164Z"
   },
   {
    "duration": 38,
    "start_time": "2025-02-24T18:47:41.323Z"
   },
   {
    "duration": 35,
    "start_time": "2025-02-24T18:47:41.371Z"
   },
   {
    "duration": 23,
    "start_time": "2025-02-24T18:47:41.408Z"
   },
   {
    "duration": 52,
    "start_time": "2025-02-24T18:47:41.433Z"
   },
   {
    "duration": 26,
    "start_time": "2025-02-24T18:47:41.488Z"
   },
   {
    "duration": 8,
    "start_time": "2025-02-24T18:47:41.516Z"
   },
   {
    "duration": 6,
    "start_time": "2025-02-24T18:47:41.526Z"
   },
   {
    "duration": 36,
    "start_time": "2025-02-24T18:47:41.536Z"
   },
   {
    "duration": 5,
    "start_time": "2025-02-24T18:47:41.573Z"
   },
   {
    "duration": 12,
    "start_time": "2025-02-24T18:47:41.580Z"
   },
   {
    "duration": 7,
    "start_time": "2025-02-24T18:47:41.595Z"
   },
   {
    "duration": 5,
    "start_time": "2025-02-24T18:47:41.604Z"
   },
   {
    "duration": 7,
    "start_time": "2025-02-24T18:47:41.611Z"
   },
   {
    "duration": 57,
    "start_time": "2025-02-24T18:47:41.620Z"
   },
   {
    "duration": 9,
    "start_time": "2025-02-24T18:47:41.679Z"
   },
   {
    "duration": 16,
    "start_time": "2025-02-24T18:47:41.689Z"
   },
   {
    "duration": 12,
    "start_time": "2025-02-24T18:47:41.707Z"
   },
   {
    "duration": 15,
    "start_time": "2025-02-24T18:47:41.720Z"
   },
   {
    "duration": 60,
    "start_time": "2025-02-24T18:47:41.737Z"
   },
   {
    "duration": 6,
    "start_time": "2025-02-24T18:47:41.798Z"
   },
   {
    "duration": 21,
    "start_time": "2025-02-24T18:47:41.807Z"
   },
   {
    "duration": 45,
    "start_time": "2025-02-24T18:47:41.830Z"
   },
   {
    "duration": 11,
    "start_time": "2025-02-24T18:47:41.878Z"
   },
   {
    "duration": 24,
    "start_time": "2025-02-24T18:47:41.890Z"
   },
   {
    "duration": 9,
    "start_time": "2025-02-24T18:47:41.915Z"
   },
   {
    "duration": 12,
    "start_time": "2025-02-24T18:47:41.927Z"
   },
   {
    "duration": 15,
    "start_time": "2025-02-24T18:47:41.970Z"
   },
   {
    "duration": 9,
    "start_time": "2025-02-24T18:47:41.987Z"
   },
   {
    "duration": 18,
    "start_time": "2025-02-24T18:47:41.998Z"
   },
   {
    "duration": 18,
    "start_time": "2025-02-24T18:47:42.017Z"
   },
   {
    "duration": 38,
    "start_time": "2025-02-24T18:47:42.037Z"
   },
   {
    "duration": 34,
    "start_time": "2025-02-24T18:47:42.077Z"
   },
   {
    "duration": 7,
    "start_time": "2025-02-24T18:47:42.112Z"
   },
   {
    "duration": 20,
    "start_time": "2025-02-24T18:47:42.120Z"
   },
   {
    "duration": 38,
    "start_time": "2025-02-24T18:47:42.142Z"
   },
   {
    "duration": 6,
    "start_time": "2025-02-24T18:47:42.182Z"
   },
   {
    "duration": 20,
    "start_time": "2025-02-24T18:47:42.190Z"
   },
   {
    "duration": 7,
    "start_time": "2025-02-24T18:47:42.212Z"
   },
   {
    "duration": 55,
    "start_time": "2025-02-24T18:47:42.220Z"
   },
   {
    "duration": 27,
    "start_time": "2025-02-24T18:47:42.276Z"
   },
   {
    "duration": 17,
    "start_time": "2025-02-24T18:47:42.305Z"
   },
   {
    "duration": 17,
    "start_time": "2025-02-24T18:47:42.324Z"
   },
   {
    "duration": 33,
    "start_time": "2025-02-24T18:47:42.342Z"
   },
   {
    "duration": 41,
    "start_time": "2025-02-24T18:47:42.377Z"
   },
   {
    "duration": 81,
    "start_time": "2025-02-24T18:47:42.419Z"
   },
   {
    "duration": 262,
    "start_time": "2025-02-24T18:47:42.502Z"
   },
   {
    "duration": 221,
    "start_time": "2025-02-24T18:47:42.770Z"
   },
   {
    "duration": 10,
    "start_time": "2025-02-24T18:47:42.992Z"
   },
   {
    "duration": 127,
    "start_time": "2025-02-24T18:47:43.003Z"
   },
   {
    "duration": 214,
    "start_time": "2025-02-24T18:47:43.132Z"
   },
   {
    "duration": 251,
    "start_time": "2025-02-24T18:47:43.347Z"
   },
   {
    "duration": 190,
    "start_time": "2025-02-24T18:47:43.599Z"
   },
   {
    "duration": 9,
    "start_time": "2025-02-24T18:47:43.791Z"
   },
   {
    "duration": 129,
    "start_time": "2025-02-24T18:47:43.802Z"
   },
   {
    "duration": 242,
    "start_time": "2025-02-24T18:47:43.932Z"
   },
   {
    "duration": 185,
    "start_time": "2025-02-24T18:47:44.176Z"
   },
   {
    "duration": 14,
    "start_time": "2025-02-24T18:47:44.362Z"
   },
   {
    "duration": 175,
    "start_time": "2025-02-24T18:47:44.379Z"
   },
   {
    "duration": 7,
    "start_time": "2025-02-24T18:47:44.555Z"
   },
   {
    "duration": 7,
    "start_time": "2025-02-24T18:47:44.570Z"
   }
  ],
  "kernelspec": {
   "display_name": "Python 3 (ipykernel)",
   "language": "python",
   "name": "python3"
  },
  "language_info": {
   "codemirror_mode": {
    "name": "ipython",
    "version": 3
   },
   "file_extension": ".py",
   "mimetype": "text/x-python",
   "name": "python",
   "nbconvert_exporter": "python",
   "pygments_lexer": "ipython3",
   "version": "3.9.19"
  },
  "toc": {
   "base_numbering": 1,
   "nav_menu": {},
   "number_sections": true,
   "sideBar": true,
   "skip_h1_title": false,
   "title_cell": "Table of Contents",
   "title_sidebar": "Contents",
   "toc_cell": false,
   "toc_position": {
    "height": "calc(100% - 180px)",
    "left": "10px",
    "top": "150px",
    "width": "443px"
   },
   "toc_section_display": true,
   "toc_window_display": true
  }
 },
 "nbformat": 4,
 "nbformat_minor": 2
}
