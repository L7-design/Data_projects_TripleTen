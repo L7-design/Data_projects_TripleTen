{
 "cells": [
  {
   "cell_type": "markdown",
   "id": "19fbe2cb",
   "metadata": {},
   "source": []
  },
  {
   "cell_type": "markdown",
   "id": "69edf173",
   "metadata": {},
   "source": [
    "Introduction:"
   ]
  },
  {
   "cell_type": "markdown",
   "id": "af79afe8",
   "metadata": {},
   "source": [
    "The purpose of this study is to clean up the data and provide insights on the shopping behaviors of Instacart's customers.\n",
    "The main steps of the project are as follows: \n",
    "1. Open data files to examine their contents. \n",
    "2. Clean up the data by verifying data types, find and fill in missing values, find and remove duplicates. \n",
    "3. Analyze the data by examining shopping patterns incliuding:\n",
    "a.Most popular time of day to shop \n",
    "b.Most popular day to show \n",
    "c.How long between order placements\n",
    "d.Distribution of order\n",
    "e. Top 20 products ordered \n",
    "f. How many items purchased in one order and the distribution \n",
    "g. Top 20 most reordered items \n",
    "The visualizations of the data will provide useful insights for Instacart to better serve their customers.  "
   ]
  },
  {
   "cell_type": "markdown",
   "id": "715f5232",
   "metadata": {},
   "source": []
  },
  {
   "cell_type": "code",
   "execution_count": 1,
   "id": "b512776e",
   "metadata": {
    "trusted": false
   },
   "outputs": [],
   "source": [
    "import pandas as pd #import pandas library assigning alias pd "
   ]
  },
  {
   "cell_type": "code",
   "execution_count": 2,
   "id": "fbf1adab",
   "metadata": {
    "trusted": false
   },
   "outputs": [],
   "source": [
    "instacart_orders = pd.read_csv('/datasets/instacart_orders.csv',sep =';') #open data file: /datasets/instacart_orders.csv"
   ]
  },
  {
   "cell_type": "code",
   "execution_count": 3,
   "id": "0b6e4228",
   "metadata": {
    "scrolled": true,
    "trusted": false
   },
   "outputs": [
    {
     "name": "stdout",
     "output_type": "stream",
     "text": [
      "<class 'pandas.core.frame.DataFrame'>\n",
      "RangeIndex: 478967 entries, 0 to 478966\n",
      "Data columns (total 6 columns):\n",
      " #   Column                  Non-Null Count   Dtype  \n",
      "---  ------                  --------------   -----  \n",
      " 0   order_id                478967 non-null  int64  \n",
      " 1   user_id                 478967 non-null  int64  \n",
      " 2   order_number            478967 non-null  int64  \n",
      " 3   order_dow               478967 non-null  int64  \n",
      " 4   order_hour_of_day       478967 non-null  int64  \n",
      " 5   days_since_prior_order  450148 non-null  float64\n",
      "dtypes: float64(1), int64(5)\n",
      "memory usage: 21.9 MB\n"
     ]
    }
   ],
   "source": [
    "instacart_orders.info() #Looking at general contents of table "
   ]
  },
  {
   "cell_type": "code",
   "execution_count": 4,
   "id": "06be5056",
   "metadata": {
    "trusted": false
   },
   "outputs": [
    {
     "data": {
      "text/html": [
       "<div>\n",
       "<style scoped>\n",
       "    .dataframe tbody tr th:only-of-type {\n",
       "        vertical-align: middle;\n",
       "    }\n",
       "\n",
       "    .dataframe tbody tr th {\n",
       "        vertical-align: top;\n",
       "    }\n",
       "\n",
       "    .dataframe thead th {\n",
       "        text-align: right;\n",
       "    }\n",
       "</style>\n",
       "<table border=\"1\" class=\"dataframe\">\n",
       "  <thead>\n",
       "    <tr style=\"text-align: right;\">\n",
       "      <th></th>\n",
       "      <th>order_id</th>\n",
       "      <th>user_id</th>\n",
       "      <th>order_number</th>\n",
       "      <th>order_dow</th>\n",
       "      <th>order_hour_of_day</th>\n",
       "      <th>days_since_prior_order</th>\n",
       "    </tr>\n",
       "  </thead>\n",
       "  <tbody>\n",
       "    <tr>\n",
       "      <th>0</th>\n",
       "      <td>1515936</td>\n",
       "      <td>183418</td>\n",
       "      <td>11</td>\n",
       "      <td>6</td>\n",
       "      <td>13</td>\n",
       "      <td>30.0</td>\n",
       "    </tr>\n",
       "    <tr>\n",
       "      <th>1</th>\n",
       "      <td>1690866</td>\n",
       "      <td>163593</td>\n",
       "      <td>5</td>\n",
       "      <td>5</td>\n",
       "      <td>12</td>\n",
       "      <td>9.0</td>\n",
       "    </tr>\n",
       "    <tr>\n",
       "      <th>2</th>\n",
       "      <td>1454967</td>\n",
       "      <td>39980</td>\n",
       "      <td>4</td>\n",
       "      <td>5</td>\n",
       "      <td>19</td>\n",
       "      <td>2.0</td>\n",
       "    </tr>\n",
       "    <tr>\n",
       "      <th>3</th>\n",
       "      <td>1768857</td>\n",
       "      <td>82516</td>\n",
       "      <td>56</td>\n",
       "      <td>0</td>\n",
       "      <td>20</td>\n",
       "      <td>10.0</td>\n",
       "    </tr>\n",
       "    <tr>\n",
       "      <th>4</th>\n",
       "      <td>3007858</td>\n",
       "      <td>196724</td>\n",
       "      <td>2</td>\n",
       "      <td>4</td>\n",
       "      <td>12</td>\n",
       "      <td>17.0</td>\n",
       "    </tr>\n",
       "    <tr>\n",
       "      <th>...</th>\n",
       "      <td>...</td>\n",
       "      <td>...</td>\n",
       "      <td>...</td>\n",
       "      <td>...</td>\n",
       "      <td>...</td>\n",
       "      <td>...</td>\n",
       "    </tr>\n",
       "    <tr>\n",
       "      <th>478962</th>\n",
       "      <td>3210681</td>\n",
       "      <td>5617</td>\n",
       "      <td>5</td>\n",
       "      <td>1</td>\n",
       "      <td>14</td>\n",
       "      <td>7.0</td>\n",
       "    </tr>\n",
       "    <tr>\n",
       "      <th>478963</th>\n",
       "      <td>3270802</td>\n",
       "      <td>112087</td>\n",
       "      <td>2</td>\n",
       "      <td>3</td>\n",
       "      <td>13</td>\n",
       "      <td>6.0</td>\n",
       "    </tr>\n",
       "    <tr>\n",
       "      <th>478964</th>\n",
       "      <td>885349</td>\n",
       "      <td>82944</td>\n",
       "      <td>16</td>\n",
       "      <td>2</td>\n",
       "      <td>11</td>\n",
       "      <td>6.0</td>\n",
       "    </tr>\n",
       "    <tr>\n",
       "      <th>478965</th>\n",
       "      <td>216274</td>\n",
       "      <td>4391</td>\n",
       "      <td>3</td>\n",
       "      <td>3</td>\n",
       "      <td>8</td>\n",
       "      <td>8.0</td>\n",
       "    </tr>\n",
       "    <tr>\n",
       "      <th>478966</th>\n",
       "      <td>2071924</td>\n",
       "      <td>1730</td>\n",
       "      <td>18</td>\n",
       "      <td>1</td>\n",
       "      <td>14</td>\n",
       "      <td>15.0</td>\n",
       "    </tr>\n",
       "  </tbody>\n",
       "</table>\n",
       "<p>478967 rows × 6 columns</p>\n",
       "</div>"
      ],
      "text/plain": [
       "        order_id  user_id  order_number  order_dow  order_hour_of_day  \\\n",
       "0        1515936   183418            11          6                 13   \n",
       "1        1690866   163593             5          5                 12   \n",
       "2        1454967    39980             4          5                 19   \n",
       "3        1768857    82516            56          0                 20   \n",
       "4        3007858   196724             2          4                 12   \n",
       "...          ...      ...           ...        ...                ...   \n",
       "478962   3210681     5617             5          1                 14   \n",
       "478963   3270802   112087             2          3                 13   \n",
       "478964    885349    82944            16          2                 11   \n",
       "478965    216274     4391             3          3                  8   \n",
       "478966   2071924     1730            18          1                 14   \n",
       "\n",
       "        days_since_prior_order  \n",
       "0                         30.0  \n",
       "1                          9.0  \n",
       "2                          2.0  \n",
       "3                         10.0  \n",
       "4                         17.0  \n",
       "...                        ...  \n",
       "478962                     7.0  \n",
       "478963                     6.0  \n",
       "478964                     6.0  \n",
       "478965                     8.0  \n",
       "478966                    15.0  \n",
       "\n",
       "[478967 rows x 6 columns]"
      ]
     },
     "metadata": {},
     "output_type": "display_data"
    }
   ],
   "source": [
    "display(instacart_orders)#Closer look at data "
   ]
  },
  {
   "cell_type": "code",
   "execution_count": 5,
   "id": "ad36396d",
   "metadata": {
    "trusted": false
   },
   "outputs": [],
   "source": [
    "products = pd.read_csv('/datasets/products.csv',sep=';')#open data file: /datasets/products.csv"
   ]
  },
  {
   "cell_type": "code",
   "execution_count": 6,
   "id": "e5e50904",
   "metadata": {
    "trusted": false
   },
   "outputs": [
    {
     "name": "stdout",
     "output_type": "stream",
     "text": [
      "<class 'pandas.core.frame.DataFrame'>\n",
      "RangeIndex: 49694 entries, 0 to 49693\n",
      "Data columns (total 4 columns):\n",
      " #   Column         Non-Null Count  Dtype \n",
      "---  ------         --------------  ----- \n",
      " 0   product_id     49694 non-null  int64 \n",
      " 1   product_name   48436 non-null  object\n",
      " 2   aisle_id       49694 non-null  int64 \n",
      " 3   department_id  49694 non-null  int64 \n",
      "dtypes: int64(3), object(1)\n",
      "memory usage: 1.5+ MB\n"
     ]
    }
   ],
   "source": [
    "products.info()#Looking at general contents of table "
   ]
  },
  {
   "cell_type": "code",
   "execution_count": 7,
   "id": "3e3704c4",
   "metadata": {
    "trusted": false
   },
   "outputs": [
    {
     "data": {
      "text/html": [
       "<div>\n",
       "<style scoped>\n",
       "    .dataframe tbody tr th:only-of-type {\n",
       "        vertical-align: middle;\n",
       "    }\n",
       "\n",
       "    .dataframe tbody tr th {\n",
       "        vertical-align: top;\n",
       "    }\n",
       "\n",
       "    .dataframe thead th {\n",
       "        text-align: right;\n",
       "    }\n",
       "</style>\n",
       "<table border=\"1\" class=\"dataframe\">\n",
       "  <thead>\n",
       "    <tr style=\"text-align: right;\">\n",
       "      <th></th>\n",
       "      <th>product_id</th>\n",
       "      <th>product_name</th>\n",
       "      <th>aisle_id</th>\n",
       "      <th>department_id</th>\n",
       "    </tr>\n",
       "  </thead>\n",
       "  <tbody>\n",
       "    <tr>\n",
       "      <th>0</th>\n",
       "      <td>1</td>\n",
       "      <td>Chocolate Sandwich Cookies</td>\n",
       "      <td>61</td>\n",
       "      <td>19</td>\n",
       "    </tr>\n",
       "    <tr>\n",
       "      <th>1</th>\n",
       "      <td>2</td>\n",
       "      <td>All-Seasons Salt</td>\n",
       "      <td>104</td>\n",
       "      <td>13</td>\n",
       "    </tr>\n",
       "    <tr>\n",
       "      <th>2</th>\n",
       "      <td>3</td>\n",
       "      <td>Robust Golden Unsweetened Oolong Tea</td>\n",
       "      <td>94</td>\n",
       "      <td>7</td>\n",
       "    </tr>\n",
       "    <tr>\n",
       "      <th>3</th>\n",
       "      <td>4</td>\n",
       "      <td>Smart Ones Classic Favorites Mini Rigatoni Wit...</td>\n",
       "      <td>38</td>\n",
       "      <td>1</td>\n",
       "    </tr>\n",
       "    <tr>\n",
       "      <th>4</th>\n",
       "      <td>5</td>\n",
       "      <td>Green Chile Anytime Sauce</td>\n",
       "      <td>5</td>\n",
       "      <td>13</td>\n",
       "    </tr>\n",
       "    <tr>\n",
       "      <th>...</th>\n",
       "      <td>...</td>\n",
       "      <td>...</td>\n",
       "      <td>...</td>\n",
       "      <td>...</td>\n",
       "    </tr>\n",
       "    <tr>\n",
       "      <th>49689</th>\n",
       "      <td>49690</td>\n",
       "      <td>HIGH PERFORMANCE ENERGY DRINK</td>\n",
       "      <td>64</td>\n",
       "      <td>7</td>\n",
       "    </tr>\n",
       "    <tr>\n",
       "      <th>49690</th>\n",
       "      <td>49691</td>\n",
       "      <td>ORIGINAL PANCAKE &amp; WAFFLE MIX</td>\n",
       "      <td>130</td>\n",
       "      <td>14</td>\n",
       "    </tr>\n",
       "    <tr>\n",
       "      <th>49691</th>\n",
       "      <td>49692</td>\n",
       "      <td>ORGANIC INSTANT OATMEAL LIGHT MAPLE BROWN SUGAR</td>\n",
       "      <td>130</td>\n",
       "      <td>14</td>\n",
       "    </tr>\n",
       "    <tr>\n",
       "      <th>49692</th>\n",
       "      <td>49693</td>\n",
       "      <td>SPRING WATER BODY WASH</td>\n",
       "      <td>127</td>\n",
       "      <td>11</td>\n",
       "    </tr>\n",
       "    <tr>\n",
       "      <th>49693</th>\n",
       "      <td>49694</td>\n",
       "      <td>BURRITO- STEAK &amp; CHEESE</td>\n",
       "      <td>38</td>\n",
       "      <td>1</td>\n",
       "    </tr>\n",
       "  </tbody>\n",
       "</table>\n",
       "<p>49694 rows × 4 columns</p>\n",
       "</div>"
      ],
      "text/plain": [
       "       product_id                                       product_name  \\\n",
       "0               1                         Chocolate Sandwich Cookies   \n",
       "1               2                                   All-Seasons Salt   \n",
       "2               3               Robust Golden Unsweetened Oolong Tea   \n",
       "3               4  Smart Ones Classic Favorites Mini Rigatoni Wit...   \n",
       "4               5                          Green Chile Anytime Sauce   \n",
       "...           ...                                                ...   \n",
       "49689       49690                      HIGH PERFORMANCE ENERGY DRINK   \n",
       "49690       49691                      ORIGINAL PANCAKE & WAFFLE MIX   \n",
       "49691       49692    ORGANIC INSTANT OATMEAL LIGHT MAPLE BROWN SUGAR   \n",
       "49692       49693                             SPRING WATER BODY WASH   \n",
       "49693       49694                            BURRITO- STEAK & CHEESE   \n",
       "\n",
       "       aisle_id  department_id  \n",
       "0            61             19  \n",
       "1           104             13  \n",
       "2            94              7  \n",
       "3            38              1  \n",
       "4             5             13  \n",
       "...         ...            ...  \n",
       "49689        64              7  \n",
       "49690       130             14  \n",
       "49691       130             14  \n",
       "49692       127             11  \n",
       "49693        38              1  \n",
       "\n",
       "[49694 rows x 4 columns]"
      ]
     },
     "metadata": {},
     "output_type": "display_data"
    }
   ],
   "source": [
    "display(products) #Closer look at data "
   ]
  },
  {
   "cell_type": "code",
   "execution_count": 8,
   "id": "ad6a1efa",
   "metadata": {
    "trusted": false
   },
   "outputs": [],
   "source": [
    "aisles = pd.read_csv('/datasets/aisles.csv',sep = ';')#open data file: /datasets/aisles.csv"
   ]
  },
  {
   "cell_type": "code",
   "execution_count": 9,
   "id": "0f2bc068",
   "metadata": {
    "trusted": false
   },
   "outputs": [
    {
     "name": "stdout",
     "output_type": "stream",
     "text": [
      "<class 'pandas.core.frame.DataFrame'>\n",
      "RangeIndex: 134 entries, 0 to 133\n",
      "Data columns (total 2 columns):\n",
      " #   Column    Non-Null Count  Dtype \n",
      "---  ------    --------------  ----- \n",
      " 0   aisle_id  134 non-null    int64 \n",
      " 1   aisle     134 non-null    object\n",
      "dtypes: int64(1), object(1)\n",
      "memory usage: 2.2+ KB\n"
     ]
    }
   ],
   "source": [
    "aisles.info()#Looking at general contents of table "
   ]
  },
  {
   "cell_type": "code",
   "execution_count": 10,
   "id": "b47617fa",
   "metadata": {
    "trusted": false
   },
   "outputs": [
    {
     "data": {
      "text/html": [
       "<div>\n",
       "<style scoped>\n",
       "    .dataframe tbody tr th:only-of-type {\n",
       "        vertical-align: middle;\n",
       "    }\n",
       "\n",
       "    .dataframe tbody tr th {\n",
       "        vertical-align: top;\n",
       "    }\n",
       "\n",
       "    .dataframe thead th {\n",
       "        text-align: right;\n",
       "    }\n",
       "</style>\n",
       "<table border=\"1\" class=\"dataframe\">\n",
       "  <thead>\n",
       "    <tr style=\"text-align: right;\">\n",
       "      <th></th>\n",
       "      <th>aisle_id</th>\n",
       "      <th>aisle</th>\n",
       "    </tr>\n",
       "  </thead>\n",
       "  <tbody>\n",
       "    <tr>\n",
       "      <th>0</th>\n",
       "      <td>1</td>\n",
       "      <td>prepared soups salads</td>\n",
       "    </tr>\n",
       "    <tr>\n",
       "      <th>1</th>\n",
       "      <td>2</td>\n",
       "      <td>specialty cheeses</td>\n",
       "    </tr>\n",
       "    <tr>\n",
       "      <th>2</th>\n",
       "      <td>3</td>\n",
       "      <td>energy granola bars</td>\n",
       "    </tr>\n",
       "    <tr>\n",
       "      <th>3</th>\n",
       "      <td>4</td>\n",
       "      <td>instant foods</td>\n",
       "    </tr>\n",
       "    <tr>\n",
       "      <th>4</th>\n",
       "      <td>5</td>\n",
       "      <td>marinades meat preparation</td>\n",
       "    </tr>\n",
       "    <tr>\n",
       "      <th>...</th>\n",
       "      <td>...</td>\n",
       "      <td>...</td>\n",
       "    </tr>\n",
       "    <tr>\n",
       "      <th>129</th>\n",
       "      <td>130</td>\n",
       "      <td>hot cereal pancake mixes</td>\n",
       "    </tr>\n",
       "    <tr>\n",
       "      <th>130</th>\n",
       "      <td>131</td>\n",
       "      <td>dry pasta</td>\n",
       "    </tr>\n",
       "    <tr>\n",
       "      <th>131</th>\n",
       "      <td>132</td>\n",
       "      <td>beauty</td>\n",
       "    </tr>\n",
       "    <tr>\n",
       "      <th>132</th>\n",
       "      <td>133</td>\n",
       "      <td>muscles joints pain relief</td>\n",
       "    </tr>\n",
       "    <tr>\n",
       "      <th>133</th>\n",
       "      <td>134</td>\n",
       "      <td>specialty wines champagnes</td>\n",
       "    </tr>\n",
       "  </tbody>\n",
       "</table>\n",
       "<p>134 rows × 2 columns</p>\n",
       "</div>"
      ],
      "text/plain": [
       "     aisle_id                       aisle\n",
       "0           1       prepared soups salads\n",
       "1           2           specialty cheeses\n",
       "2           3         energy granola bars\n",
       "3           4               instant foods\n",
       "4           5  marinades meat preparation\n",
       "..        ...                         ...\n",
       "129       130    hot cereal pancake mixes\n",
       "130       131                   dry pasta\n",
       "131       132                      beauty\n",
       "132       133  muscles joints pain relief\n",
       "133       134  specialty wines champagnes\n",
       "\n",
       "[134 rows x 2 columns]"
      ]
     },
     "metadata": {},
     "output_type": "display_data"
    }
   ],
   "source": [
    "display(aisles)#Closer look at data "
   ]
  },
  {
   "cell_type": "code",
   "execution_count": 11,
   "id": "5130e05e",
   "metadata": {
    "trusted": false
   },
   "outputs": [],
   "source": [
    "departments = pd.read_csv('/datasets/departments.csv', sep=';')#open data file:/datasets/departments.csv"
   ]
  },
  {
   "cell_type": "code",
   "execution_count": 12,
   "id": "24c7ee47",
   "metadata": {
    "trusted": false
   },
   "outputs": [
    {
     "name": "stdout",
     "output_type": "stream",
     "text": [
      "<class 'pandas.core.frame.DataFrame'>\n",
      "RangeIndex: 21 entries, 0 to 20\n",
      "Data columns (total 2 columns):\n",
      " #   Column         Non-Null Count  Dtype \n",
      "---  ------         --------------  ----- \n",
      " 0   department_id  21 non-null     int64 \n",
      " 1   department     21 non-null     object\n",
      "dtypes: int64(1), object(1)\n",
      "memory usage: 464.0+ bytes\n"
     ]
    }
   ],
   "source": [
    "departments.info()#Looking at general contents of table "
   ]
  },
  {
   "cell_type": "code",
   "execution_count": 13,
   "id": "8dae14a2",
   "metadata": {
    "trusted": false
   },
   "outputs": [
    {
     "data": {
      "text/html": [
       "<div>\n",
       "<style scoped>\n",
       "    .dataframe tbody tr th:only-of-type {\n",
       "        vertical-align: middle;\n",
       "    }\n",
       "\n",
       "    .dataframe tbody tr th {\n",
       "        vertical-align: top;\n",
       "    }\n",
       "\n",
       "    .dataframe thead th {\n",
       "        text-align: right;\n",
       "    }\n",
       "</style>\n",
       "<table border=\"1\" class=\"dataframe\">\n",
       "  <thead>\n",
       "    <tr style=\"text-align: right;\">\n",
       "      <th></th>\n",
       "      <th>department_id</th>\n",
       "      <th>department</th>\n",
       "    </tr>\n",
       "  </thead>\n",
       "  <tbody>\n",
       "    <tr>\n",
       "      <th>0</th>\n",
       "      <td>1</td>\n",
       "      <td>frozen</td>\n",
       "    </tr>\n",
       "    <tr>\n",
       "      <th>1</th>\n",
       "      <td>2</td>\n",
       "      <td>other</td>\n",
       "    </tr>\n",
       "    <tr>\n",
       "      <th>2</th>\n",
       "      <td>3</td>\n",
       "      <td>bakery</td>\n",
       "    </tr>\n",
       "    <tr>\n",
       "      <th>3</th>\n",
       "      <td>4</td>\n",
       "      <td>produce</td>\n",
       "    </tr>\n",
       "    <tr>\n",
       "      <th>4</th>\n",
       "      <td>5</td>\n",
       "      <td>alcohol</td>\n",
       "    </tr>\n",
       "    <tr>\n",
       "      <th>5</th>\n",
       "      <td>6</td>\n",
       "      <td>international</td>\n",
       "    </tr>\n",
       "    <tr>\n",
       "      <th>6</th>\n",
       "      <td>7</td>\n",
       "      <td>beverages</td>\n",
       "    </tr>\n",
       "    <tr>\n",
       "      <th>7</th>\n",
       "      <td>8</td>\n",
       "      <td>pets</td>\n",
       "    </tr>\n",
       "    <tr>\n",
       "      <th>8</th>\n",
       "      <td>9</td>\n",
       "      <td>dry goods pasta</td>\n",
       "    </tr>\n",
       "    <tr>\n",
       "      <th>9</th>\n",
       "      <td>10</td>\n",
       "      <td>bulk</td>\n",
       "    </tr>\n",
       "    <tr>\n",
       "      <th>10</th>\n",
       "      <td>11</td>\n",
       "      <td>personal care</td>\n",
       "    </tr>\n",
       "    <tr>\n",
       "      <th>11</th>\n",
       "      <td>12</td>\n",
       "      <td>meat seafood</td>\n",
       "    </tr>\n",
       "    <tr>\n",
       "      <th>12</th>\n",
       "      <td>13</td>\n",
       "      <td>pantry</td>\n",
       "    </tr>\n",
       "    <tr>\n",
       "      <th>13</th>\n",
       "      <td>14</td>\n",
       "      <td>breakfast</td>\n",
       "    </tr>\n",
       "    <tr>\n",
       "      <th>14</th>\n",
       "      <td>15</td>\n",
       "      <td>canned goods</td>\n",
       "    </tr>\n",
       "    <tr>\n",
       "      <th>15</th>\n",
       "      <td>16</td>\n",
       "      <td>dairy eggs</td>\n",
       "    </tr>\n",
       "    <tr>\n",
       "      <th>16</th>\n",
       "      <td>17</td>\n",
       "      <td>household</td>\n",
       "    </tr>\n",
       "    <tr>\n",
       "      <th>17</th>\n",
       "      <td>18</td>\n",
       "      <td>babies</td>\n",
       "    </tr>\n",
       "    <tr>\n",
       "      <th>18</th>\n",
       "      <td>19</td>\n",
       "      <td>snacks</td>\n",
       "    </tr>\n",
       "    <tr>\n",
       "      <th>19</th>\n",
       "      <td>20</td>\n",
       "      <td>deli</td>\n",
       "    </tr>\n",
       "    <tr>\n",
       "      <th>20</th>\n",
       "      <td>21</td>\n",
       "      <td>missing</td>\n",
       "    </tr>\n",
       "  </tbody>\n",
       "</table>\n",
       "</div>"
      ],
      "text/plain": [
       "    department_id       department\n",
       "0               1           frozen\n",
       "1               2            other\n",
       "2               3           bakery\n",
       "3               4          produce\n",
       "4               5          alcohol\n",
       "5               6    international\n",
       "6               7        beverages\n",
       "7               8             pets\n",
       "8               9  dry goods pasta\n",
       "9              10             bulk\n",
       "10             11    personal care\n",
       "11             12     meat seafood\n",
       "12             13           pantry\n",
       "13             14        breakfast\n",
       "14             15     canned goods\n",
       "15             16       dairy eggs\n",
       "16             17        household\n",
       "17             18           babies\n",
       "18             19           snacks\n",
       "19             20             deli\n",
       "20             21          missing"
      ]
     },
     "metadata": {},
     "output_type": "display_data"
    }
   ],
   "source": [
    "display(departments)#Closer look at data "
   ]
  },
  {
   "cell_type": "code",
   "execution_count": 14,
   "id": "d8370c05",
   "metadata": {
    "trusted": false
   },
   "outputs": [],
   "source": [
    "order_products = pd.read_csv('/datasets/order_products.csv', sep =';')#open data file:/datasets/order_products.csv"
   ]
  },
  {
   "cell_type": "code",
   "execution_count": 15,
   "id": "59e2090f",
   "metadata": {
    "trusted": false
   },
   "outputs": [
    {
     "name": "stdout",
     "output_type": "stream",
     "text": [
      "<class 'pandas.core.frame.DataFrame'>\n",
      "RangeIndex: 4545007 entries, 0 to 4545006\n",
      "Data columns (total 4 columns):\n",
      " #   Column             Non-Null Count    Dtype  \n",
      "---  ------             --------------    -----  \n",
      " 0   order_id           4545007 non-null  int64  \n",
      " 1   product_id         4545007 non-null  int64  \n",
      " 2   add_to_cart_order  4544171 non-null  float64\n",
      " 3   reordered          4545007 non-null  int64  \n",
      "dtypes: float64(1), int64(3)\n",
      "memory usage: 138.7 MB\n"
     ]
    }
   ],
   "source": [
    "order_products.info(show_counts=True)#Looking at general contents of table "
   ]
  },
  {
   "cell_type": "code",
   "execution_count": 16,
   "id": "7fb49c3b",
   "metadata": {
    "trusted": false
   },
   "outputs": [
    {
     "data": {
      "text/html": [
       "<div>\n",
       "<style scoped>\n",
       "    .dataframe tbody tr th:only-of-type {\n",
       "        vertical-align: middle;\n",
       "    }\n",
       "\n",
       "    .dataframe tbody tr th {\n",
       "        vertical-align: top;\n",
       "    }\n",
       "\n",
       "    .dataframe thead th {\n",
       "        text-align: right;\n",
       "    }\n",
       "</style>\n",
       "<table border=\"1\" class=\"dataframe\">\n",
       "  <thead>\n",
       "    <tr style=\"text-align: right;\">\n",
       "      <th></th>\n",
       "      <th>order_id</th>\n",
       "      <th>product_id</th>\n",
       "      <th>add_to_cart_order</th>\n",
       "      <th>reordered</th>\n",
       "    </tr>\n",
       "  </thead>\n",
       "  <tbody>\n",
       "    <tr>\n",
       "      <th>0</th>\n",
       "      <td>2141543</td>\n",
       "      <td>11440</td>\n",
       "      <td>17.0</td>\n",
       "      <td>0</td>\n",
       "    </tr>\n",
       "    <tr>\n",
       "      <th>1</th>\n",
       "      <td>567889</td>\n",
       "      <td>1560</td>\n",
       "      <td>1.0</td>\n",
       "      <td>1</td>\n",
       "    </tr>\n",
       "    <tr>\n",
       "      <th>2</th>\n",
       "      <td>2261212</td>\n",
       "      <td>26683</td>\n",
       "      <td>1.0</td>\n",
       "      <td>1</td>\n",
       "    </tr>\n",
       "    <tr>\n",
       "      <th>3</th>\n",
       "      <td>491251</td>\n",
       "      <td>8670</td>\n",
       "      <td>35.0</td>\n",
       "      <td>1</td>\n",
       "    </tr>\n",
       "    <tr>\n",
       "      <th>4</th>\n",
       "      <td>2571142</td>\n",
       "      <td>1940</td>\n",
       "      <td>5.0</td>\n",
       "      <td>1</td>\n",
       "    </tr>\n",
       "    <tr>\n",
       "      <th>...</th>\n",
       "      <td>...</td>\n",
       "      <td>...</td>\n",
       "      <td>...</td>\n",
       "      <td>...</td>\n",
       "    </tr>\n",
       "    <tr>\n",
       "      <th>4545002</th>\n",
       "      <td>577211</td>\n",
       "      <td>15290</td>\n",
       "      <td>12.0</td>\n",
       "      <td>1</td>\n",
       "    </tr>\n",
       "    <tr>\n",
       "      <th>4545003</th>\n",
       "      <td>1219554</td>\n",
       "      <td>21914</td>\n",
       "      <td>9.0</td>\n",
       "      <td>0</td>\n",
       "    </tr>\n",
       "    <tr>\n",
       "      <th>4545004</th>\n",
       "      <td>692640</td>\n",
       "      <td>47766</td>\n",
       "      <td>4.0</td>\n",
       "      <td>1</td>\n",
       "    </tr>\n",
       "    <tr>\n",
       "      <th>4545005</th>\n",
       "      <td>319435</td>\n",
       "      <td>691</td>\n",
       "      <td>8.0</td>\n",
       "      <td>1</td>\n",
       "    </tr>\n",
       "    <tr>\n",
       "      <th>4545006</th>\n",
       "      <td>1398151</td>\n",
       "      <td>28733</td>\n",
       "      <td>9.0</td>\n",
       "      <td>0</td>\n",
       "    </tr>\n",
       "  </tbody>\n",
       "</table>\n",
       "<p>4545007 rows × 4 columns</p>\n",
       "</div>"
      ],
      "text/plain": [
       "         order_id  product_id  add_to_cart_order  reordered\n",
       "0         2141543       11440               17.0          0\n",
       "1          567889        1560                1.0          1\n",
       "2         2261212       26683                1.0          1\n",
       "3          491251        8670               35.0          1\n",
       "4         2571142        1940                5.0          1\n",
       "...           ...         ...                ...        ...\n",
       "4545002    577211       15290               12.0          1\n",
       "4545003   1219554       21914                9.0          0\n",
       "4545004    692640       47766                4.0          1\n",
       "4545005    319435         691                8.0          1\n",
       "4545006   1398151       28733                9.0          0\n",
       "\n",
       "[4545007 rows x 4 columns]"
      ]
     },
     "metadata": {},
     "output_type": "display_data"
    }
   ],
   "source": [
    "display(order_products)#Closer look at data "
   ]
  },
  {
   "cell_type": "markdown",
   "id": "07357848-dc64-4156-9cc3-01ff4365226d",
   "metadata": {},
   "source": [
    "## Find and remove duplicate values (and describe why you make your choices)"
   ]
  },
  {
   "cell_type": "markdown",
   "id": "f179f0a9",
   "metadata": {},
   "source": [
    "### `orders` data frame"
   ]
  },
  {
   "cell_type": "code",
   "execution_count": 17,
   "id": "b99297a5-405a-463d-8535-9adc3da4ad74",
   "metadata": {
    "trusted": false
   },
   "outputs": [
    {
     "data": {
      "text/html": [
       "<div>\n",
       "<style scoped>\n",
       "    .dataframe tbody tr th:only-of-type {\n",
       "        vertical-align: middle;\n",
       "    }\n",
       "\n",
       "    .dataframe tbody tr th {\n",
       "        vertical-align: top;\n",
       "    }\n",
       "\n",
       "    .dataframe thead th {\n",
       "        text-align: right;\n",
       "    }\n",
       "</style>\n",
       "<table border=\"1\" class=\"dataframe\">\n",
       "  <thead>\n",
       "    <tr style=\"text-align: right;\">\n",
       "      <th></th>\n",
       "      <th>order_id</th>\n",
       "      <th>user_id</th>\n",
       "      <th>order_number</th>\n",
       "      <th>order_dow</th>\n",
       "      <th>order_hour_of_day</th>\n",
       "      <th>days_since_prior_order</th>\n",
       "    </tr>\n",
       "  </thead>\n",
       "  <tbody>\n",
       "    <tr>\n",
       "      <th>354993</th>\n",
       "      <td>391768</td>\n",
       "      <td>57671</td>\n",
       "      <td>19</td>\n",
       "      <td>3</td>\n",
       "      <td>2</td>\n",
       "      <td>10.0</td>\n",
       "    </tr>\n",
       "    <tr>\n",
       "      <th>371905</th>\n",
       "      <td>391768</td>\n",
       "      <td>57671</td>\n",
       "      <td>19</td>\n",
       "      <td>3</td>\n",
       "      <td>2</td>\n",
       "      <td>10.0</td>\n",
       "    </tr>\n",
       "    <tr>\n",
       "      <th>119251</th>\n",
       "      <td>408114</td>\n",
       "      <td>68324</td>\n",
       "      <td>4</td>\n",
       "      <td>3</td>\n",
       "      <td>2</td>\n",
       "      <td>18.0</td>\n",
       "    </tr>\n",
       "    <tr>\n",
       "      <th>321100</th>\n",
       "      <td>408114</td>\n",
       "      <td>68324</td>\n",
       "      <td>4</td>\n",
       "      <td>3</td>\n",
       "      <td>2</td>\n",
       "      <td>18.0</td>\n",
       "    </tr>\n",
       "    <tr>\n",
       "      <th>394347</th>\n",
       "      <td>467134</td>\n",
       "      <td>63189</td>\n",
       "      <td>21</td>\n",
       "      <td>3</td>\n",
       "      <td>2</td>\n",
       "      <td>2.0</td>\n",
       "    </tr>\n",
       "    <tr>\n",
       "      <th>250626</th>\n",
       "      <td>467134</td>\n",
       "      <td>63189</td>\n",
       "      <td>21</td>\n",
       "      <td>3</td>\n",
       "      <td>2</td>\n",
       "      <td>2.0</td>\n",
       "    </tr>\n",
       "    <tr>\n",
       "      <th>99462</th>\n",
       "      <td>794638</td>\n",
       "      <td>50898</td>\n",
       "      <td>24</td>\n",
       "      <td>3</td>\n",
       "      <td>2</td>\n",
       "      <td>2.0</td>\n",
       "    </tr>\n",
       "    <tr>\n",
       "      <th>145574</th>\n",
       "      <td>794638</td>\n",
       "      <td>50898</td>\n",
       "      <td>24</td>\n",
       "      <td>3</td>\n",
       "      <td>2</td>\n",
       "      <td>2.0</td>\n",
       "    </tr>\n",
       "    <tr>\n",
       "      <th>311713</th>\n",
       "      <td>1021560</td>\n",
       "      <td>53767</td>\n",
       "      <td>3</td>\n",
       "      <td>3</td>\n",
       "      <td>2</td>\n",
       "      <td>9.0</td>\n",
       "    </tr>\n",
       "    <tr>\n",
       "      <th>242618</th>\n",
       "      <td>1021560</td>\n",
       "      <td>53767</td>\n",
       "      <td>3</td>\n",
       "      <td>3</td>\n",
       "      <td>2</td>\n",
       "      <td>9.0</td>\n",
       "    </tr>\n",
       "    <tr>\n",
       "      <th>164581</th>\n",
       "      <td>1112182</td>\n",
       "      <td>202304</td>\n",
       "      <td>84</td>\n",
       "      <td>3</td>\n",
       "      <td>2</td>\n",
       "      <td>6.0</td>\n",
       "    </tr>\n",
       "    <tr>\n",
       "      <th>273805</th>\n",
       "      <td>1112182</td>\n",
       "      <td>202304</td>\n",
       "      <td>84</td>\n",
       "      <td>3</td>\n",
       "      <td>2</td>\n",
       "      <td>6.0</td>\n",
       "    </tr>\n",
       "    <tr>\n",
       "      <th>314427</th>\n",
       "      <td>1286742</td>\n",
       "      <td>183220</td>\n",
       "      <td>48</td>\n",
       "      <td>3</td>\n",
       "      <td>2</td>\n",
       "      <td>4.0</td>\n",
       "    </tr>\n",
       "    <tr>\n",
       "      <th>411408</th>\n",
       "      <td>1286742</td>\n",
       "      <td>183220</td>\n",
       "      <td>48</td>\n",
       "      <td>3</td>\n",
       "      <td>2</td>\n",
       "      <td>4.0</td>\n",
       "    </tr>\n",
       "    <tr>\n",
       "      <th>266232</th>\n",
       "      <td>1782114</td>\n",
       "      <td>106752</td>\n",
       "      <td>1</td>\n",
       "      <td>3</td>\n",
       "      <td>2</td>\n",
       "      <td>NaN</td>\n",
       "    </tr>\n",
       "    <tr>\n",
       "      <th>200059</th>\n",
       "      <td>1782114</td>\n",
       "      <td>106752</td>\n",
       "      <td>1</td>\n",
       "      <td>3</td>\n",
       "      <td>2</td>\n",
       "      <td>NaN</td>\n",
       "    </tr>\n",
       "    <tr>\n",
       "      <th>230807</th>\n",
       "      <td>1918001</td>\n",
       "      <td>188546</td>\n",
       "      <td>14</td>\n",
       "      <td>3</td>\n",
       "      <td>2</td>\n",
       "      <td>16.0</td>\n",
       "    </tr>\n",
       "    <tr>\n",
       "      <th>30371</th>\n",
       "      <td>1918001</td>\n",
       "      <td>188546</td>\n",
       "      <td>14</td>\n",
       "      <td>3</td>\n",
       "      <td>2</td>\n",
       "      <td>16.0</td>\n",
       "    </tr>\n",
       "    <tr>\n",
       "      <th>257934</th>\n",
       "      <td>1919531</td>\n",
       "      <td>191501</td>\n",
       "      <td>32</td>\n",
       "      <td>3</td>\n",
       "      <td>2</td>\n",
       "      <td>7.0</td>\n",
       "    </tr>\n",
       "    <tr>\n",
       "      <th>323900</th>\n",
       "      <td>1919531</td>\n",
       "      <td>191501</td>\n",
       "      <td>32</td>\n",
       "      <td>3</td>\n",
       "      <td>2</td>\n",
       "      <td>7.0</td>\n",
       "    </tr>\n",
       "    <tr>\n",
       "      <th>441599</th>\n",
       "      <td>2125197</td>\n",
       "      <td>14050</td>\n",
       "      <td>48</td>\n",
       "      <td>3</td>\n",
       "      <td>2</td>\n",
       "      <td>3.0</td>\n",
       "    </tr>\n",
       "    <tr>\n",
       "      <th>204042</th>\n",
       "      <td>2125197</td>\n",
       "      <td>14050</td>\n",
       "      <td>48</td>\n",
       "      <td>3</td>\n",
       "      <td>2</td>\n",
       "      <td>3.0</td>\n",
       "    </tr>\n",
       "    <tr>\n",
       "      <th>223105</th>\n",
       "      <td>2160484</td>\n",
       "      <td>107525</td>\n",
       "      <td>16</td>\n",
       "      <td>3</td>\n",
       "      <td>2</td>\n",
       "      <td>30.0</td>\n",
       "    </tr>\n",
       "    <tr>\n",
       "      <th>215294</th>\n",
       "      <td>2160484</td>\n",
       "      <td>107525</td>\n",
       "      <td>16</td>\n",
       "      <td>3</td>\n",
       "      <td>2</td>\n",
       "      <td>30.0</td>\n",
       "    </tr>\n",
       "    <tr>\n",
       "      <th>324868</th>\n",
       "      <td>2232988</td>\n",
       "      <td>82565</td>\n",
       "      <td>1</td>\n",
       "      <td>3</td>\n",
       "      <td>2</td>\n",
       "      <td>NaN</td>\n",
       "    </tr>\n",
       "    <tr>\n",
       "      <th>345917</th>\n",
       "      <td>2232988</td>\n",
       "      <td>82565</td>\n",
       "      <td>1</td>\n",
       "      <td>3</td>\n",
       "      <td>2</td>\n",
       "      <td>NaN</td>\n",
       "    </tr>\n",
       "    <tr>\n",
       "      <th>415163</th>\n",
       "      <td>2282673</td>\n",
       "      <td>86751</td>\n",
       "      <td>49</td>\n",
       "      <td>3</td>\n",
       "      <td>2</td>\n",
       "      <td>2.0</td>\n",
       "    </tr>\n",
       "    <tr>\n",
       "      <th>259636</th>\n",
       "      <td>2282673</td>\n",
       "      <td>86751</td>\n",
       "      <td>49</td>\n",
       "      <td>3</td>\n",
       "      <td>2</td>\n",
       "      <td>2.0</td>\n",
       "    </tr>\n",
       "    <tr>\n",
       "      <th>142258</th>\n",
       "      <td>2845099</td>\n",
       "      <td>31189</td>\n",
       "      <td>11</td>\n",
       "      <td>3</td>\n",
       "      <td>2</td>\n",
       "      <td>7.0</td>\n",
       "    </tr>\n",
       "    <tr>\n",
       "      <th>284038</th>\n",
       "      <td>2845099</td>\n",
       "      <td>31189</td>\n",
       "      <td>11</td>\n",
       "      <td>3</td>\n",
       "      <td>2</td>\n",
       "      <td>7.0</td>\n",
       "    </tr>\n",
       "  </tbody>\n",
       "</table>\n",
       "</div>"
      ],
      "text/plain": [
       "        order_id  user_id  order_number  order_dow  order_hour_of_day  \\\n",
       "354993    391768    57671            19          3                  2   \n",
       "371905    391768    57671            19          3                  2   \n",
       "119251    408114    68324             4          3                  2   \n",
       "321100    408114    68324             4          3                  2   \n",
       "394347    467134    63189            21          3                  2   \n",
       "250626    467134    63189            21          3                  2   \n",
       "99462     794638    50898            24          3                  2   \n",
       "145574    794638    50898            24          3                  2   \n",
       "311713   1021560    53767             3          3                  2   \n",
       "242618   1021560    53767             3          3                  2   \n",
       "164581   1112182   202304            84          3                  2   \n",
       "273805   1112182   202304            84          3                  2   \n",
       "314427   1286742   183220            48          3                  2   \n",
       "411408   1286742   183220            48          3                  2   \n",
       "266232   1782114   106752             1          3                  2   \n",
       "200059   1782114   106752             1          3                  2   \n",
       "230807   1918001   188546            14          3                  2   \n",
       "30371    1918001   188546            14          3                  2   \n",
       "257934   1919531   191501            32          3                  2   \n",
       "323900   1919531   191501            32          3                  2   \n",
       "441599   2125197    14050            48          3                  2   \n",
       "204042   2125197    14050            48          3                  2   \n",
       "223105   2160484   107525            16          3                  2   \n",
       "215294   2160484   107525            16          3                  2   \n",
       "324868   2232988    82565             1          3                  2   \n",
       "345917   2232988    82565             1          3                  2   \n",
       "415163   2282673    86751            49          3                  2   \n",
       "259636   2282673    86751            49          3                  2   \n",
       "142258   2845099    31189            11          3                  2   \n",
       "284038   2845099    31189            11          3                  2   \n",
       "\n",
       "        days_since_prior_order  \n",
       "354993                    10.0  \n",
       "371905                    10.0  \n",
       "119251                    18.0  \n",
       "321100                    18.0  \n",
       "394347                     2.0  \n",
       "250626                     2.0  \n",
       "99462                      2.0  \n",
       "145574                     2.0  \n",
       "311713                     9.0  \n",
       "242618                     9.0  \n",
       "164581                     6.0  \n",
       "273805                     6.0  \n",
       "314427                     4.0  \n",
       "411408                     4.0  \n",
       "266232                     NaN  \n",
       "200059                     NaN  \n",
       "230807                    16.0  \n",
       "30371                     16.0  \n",
       "257934                     7.0  \n",
       "323900                     7.0  \n",
       "441599                     3.0  \n",
       "204042                     3.0  \n",
       "223105                    30.0  \n",
       "215294                    30.0  \n",
       "324868                     NaN  \n",
       "345917                     NaN  \n",
       "415163                     2.0  \n",
       "259636                     2.0  \n",
       "142258                     7.0  \n",
       "284038                     7.0  "
      ]
     },
     "execution_count": 17,
     "metadata": {},
     "output_type": "execute_result"
    }
   ],
   "source": [
    "# Check for duplicated orders\n",
    "instacart_orders.duplicated().sum()\n",
    "instacart_orders[(instacart_orders.duplicated(keep= False))].sort_values('order_id')  "
   ]
  },
  {
   "cell_type": "code",
   "execution_count": 18,
   "id": "0d44de5d",
   "metadata": {
    "trusted": false
   },
   "outputs": [
    {
     "name": "stdout",
     "output_type": "stream",
     "text": [
      "<class 'pandas.core.frame.DataFrame'>\n",
      "Int64Index: 121 entries, 4838 to 477526\n",
      "Data columns (total 6 columns):\n",
      " #   Column                  Non-Null Count  Dtype  \n",
      "---  ------                  --------------  -----  \n",
      " 0   order_id                121 non-null    int64  \n",
      " 1   user_id                 121 non-null    int64  \n",
      " 2   order_number            121 non-null    int64  \n",
      " 3   order_dow               121 non-null    int64  \n",
      " 4   order_hour_of_day       121 non-null    int64  \n",
      " 5   days_since_prior_order  114 non-null    float64\n",
      "dtypes: float64(1), int64(5)\n",
      "memory usage: 6.6 KB\n"
     ]
    }
   ],
   "source": [
    "# Check for all orders placed Wednesday at 2:00 AM\n",
    "orders_wed_2am = instacart_orders[(instacart_orders['order_dow']== 3)& (instacart_orders['order_hour_of_day']==2)]\n",
    "orders_wed_2am.info()\n"
   ]
  },
  {
   "cell_type": "code",
   "execution_count": 19,
   "id": "480563c7",
   "metadata": {
    "trusted": false
   },
   "outputs": [],
   "source": [
    "# Remove duplicate orders\n",
    "instacart_orders = instacart_orders.drop_duplicates(subset='order_id')"
   ]
  },
  {
   "cell_type": "code",
   "execution_count": 20,
   "id": "0b2396a2",
   "metadata": {
    "trusted": false
   },
   "outputs": [
    {
     "data": {
      "text/plain": [
       "0"
      ]
     },
     "execution_count": 20,
     "metadata": {},
     "output_type": "execute_result"
    }
   ],
   "source": [
    "# Double check for duplicate rows\n",
    "instacart_orders.duplicated().sum() \n"
   ]
  },
  {
   "cell_type": "code",
   "execution_count": 21,
   "id": "f6113ef1",
   "metadata": {
    "trusted": false
   },
   "outputs": [
    {
     "data": {
      "text/plain": [
       "0"
      ]
     },
     "execution_count": 21,
     "metadata": {},
     "output_type": "execute_result"
    }
   ],
   "source": [
    "# Double check for duplicate order IDs only\n",
    "instacart_orders.duplicated(subset='order_id').sum()"
   ]
  },
  {
   "cell_type": "markdown",
   "id": "6df58348",
   "metadata": {},
   "source": []
  },
  {
   "cell_type": "markdown",
   "id": "5e8905ae",
   "metadata": {},
   "source": []
  },
  {
   "cell_type": "markdown",
   "id": "45e6bc46",
   "metadata": {},
   "source": [
    "### `products` data frame"
   ]
  },
  {
   "cell_type": "code",
   "execution_count": 22,
   "id": "5f526b5b-8175-46fa-a0fd-441767d50e64",
   "metadata": {
    "trusted": false
   },
   "outputs": [
    {
     "data": {
      "text/html": [
       "<div>\n",
       "<style scoped>\n",
       "    .dataframe tbody tr th:only-of-type {\n",
       "        vertical-align: middle;\n",
       "    }\n",
       "\n",
       "    .dataframe tbody tr th {\n",
       "        vertical-align: top;\n",
       "    }\n",
       "\n",
       "    .dataframe thead th {\n",
       "        text-align: right;\n",
       "    }\n",
       "</style>\n",
       "<table border=\"1\" class=\"dataframe\">\n",
       "  <thead>\n",
       "    <tr style=\"text-align: right;\">\n",
       "      <th></th>\n",
       "      <th>product_id</th>\n",
       "      <th>product_name</th>\n",
       "      <th>aisle_id</th>\n",
       "      <th>department_id</th>\n",
       "    </tr>\n",
       "  </thead>\n",
       "  <tbody>\n",
       "    <tr>\n",
       "      <th>0</th>\n",
       "      <td>1</td>\n",
       "      <td>Chocolate Sandwich Cookies</td>\n",
       "      <td>61</td>\n",
       "      <td>19</td>\n",
       "    </tr>\n",
       "    <tr>\n",
       "      <th>1</th>\n",
       "      <td>2</td>\n",
       "      <td>All-Seasons Salt</td>\n",
       "      <td>104</td>\n",
       "      <td>13</td>\n",
       "    </tr>\n",
       "    <tr>\n",
       "      <th>2</th>\n",
       "      <td>3</td>\n",
       "      <td>Robust Golden Unsweetened Oolong Tea</td>\n",
       "      <td>94</td>\n",
       "      <td>7</td>\n",
       "    </tr>\n",
       "    <tr>\n",
       "      <th>3</th>\n",
       "      <td>4</td>\n",
       "      <td>Smart Ones Classic Favorites Mini Rigatoni Wit...</td>\n",
       "      <td>38</td>\n",
       "      <td>1</td>\n",
       "    </tr>\n",
       "    <tr>\n",
       "      <th>4</th>\n",
       "      <td>5</td>\n",
       "      <td>Green Chile Anytime Sauce</td>\n",
       "      <td>5</td>\n",
       "      <td>13</td>\n",
       "    </tr>\n",
       "    <tr>\n",
       "      <th>...</th>\n",
       "      <td>...</td>\n",
       "      <td>...</td>\n",
       "      <td>...</td>\n",
       "      <td>...</td>\n",
       "    </tr>\n",
       "    <tr>\n",
       "      <th>49689</th>\n",
       "      <td>49690</td>\n",
       "      <td>HIGH PERFORMANCE ENERGY DRINK</td>\n",
       "      <td>64</td>\n",
       "      <td>7</td>\n",
       "    </tr>\n",
       "    <tr>\n",
       "      <th>49690</th>\n",
       "      <td>49691</td>\n",
       "      <td>ORIGINAL PANCAKE &amp; WAFFLE MIX</td>\n",
       "      <td>130</td>\n",
       "      <td>14</td>\n",
       "    </tr>\n",
       "    <tr>\n",
       "      <th>49691</th>\n",
       "      <td>49692</td>\n",
       "      <td>ORGANIC INSTANT OATMEAL LIGHT MAPLE BROWN SUGAR</td>\n",
       "      <td>130</td>\n",
       "      <td>14</td>\n",
       "    </tr>\n",
       "    <tr>\n",
       "      <th>49692</th>\n",
       "      <td>49693</td>\n",
       "      <td>SPRING WATER BODY WASH</td>\n",
       "      <td>127</td>\n",
       "      <td>11</td>\n",
       "    </tr>\n",
       "    <tr>\n",
       "      <th>49693</th>\n",
       "      <td>49694</td>\n",
       "      <td>BURRITO- STEAK &amp; CHEESE</td>\n",
       "      <td>38</td>\n",
       "      <td>1</td>\n",
       "    </tr>\n",
       "  </tbody>\n",
       "</table>\n",
       "<p>49694 rows × 4 columns</p>\n",
       "</div>"
      ],
      "text/plain": [
       "       product_id                                       product_name  \\\n",
       "0               1                         Chocolate Sandwich Cookies   \n",
       "1               2                                   All-Seasons Salt   \n",
       "2               3               Robust Golden Unsweetened Oolong Tea   \n",
       "3               4  Smart Ones Classic Favorites Mini Rigatoni Wit...   \n",
       "4               5                          Green Chile Anytime Sauce   \n",
       "...           ...                                                ...   \n",
       "49689       49690                      HIGH PERFORMANCE ENERGY DRINK   \n",
       "49690       49691                      ORIGINAL PANCAKE & WAFFLE MIX   \n",
       "49691       49692    ORGANIC INSTANT OATMEAL LIGHT MAPLE BROWN SUGAR   \n",
       "49692       49693                             SPRING WATER BODY WASH   \n",
       "49693       49694                            BURRITO- STEAK & CHEESE   \n",
       "\n",
       "       aisle_id  department_id  \n",
       "0            61             19  \n",
       "1           104             13  \n",
       "2            94              7  \n",
       "3            38              1  \n",
       "4             5             13  \n",
       "...         ...            ...  \n",
       "49689        64              7  \n",
       "49690       130             14  \n",
       "49691       130             14  \n",
       "49692       127             11  \n",
       "49693        38              1  \n",
       "\n",
       "[49694 rows x 4 columns]"
      ]
     },
     "metadata": {},
     "output_type": "display_data"
    }
   ],
   "source": [
    "# Check for fully duplicate rows\n",
    "products.duplicated().sum() \n",
    "display(products)"
   ]
  },
  {
   "cell_type": "code",
   "execution_count": 23,
   "id": "88daa4f4",
   "metadata": {
    "trusted": false
   },
   "outputs": [
    {
     "data": {
      "text/html": [
       "<div>\n",
       "<style scoped>\n",
       "    .dataframe tbody tr th:only-of-type {\n",
       "        vertical-align: middle;\n",
       "    }\n",
       "\n",
       "    .dataframe tbody tr th {\n",
       "        vertical-align: top;\n",
       "    }\n",
       "\n",
       "    .dataframe thead th {\n",
       "        text-align: right;\n",
       "    }\n",
       "</style>\n",
       "<table border=\"1\" class=\"dataframe\">\n",
       "  <thead>\n",
       "    <tr style=\"text-align: right;\">\n",
       "      <th></th>\n",
       "      <th>product_id</th>\n",
       "      <th>product_name</th>\n",
       "      <th>aisle_id</th>\n",
       "      <th>department_id</th>\n",
       "    </tr>\n",
       "  </thead>\n",
       "  <tbody>\n",
       "    <tr>\n",
       "      <th>0</th>\n",
       "      <td>1</td>\n",
       "      <td>Chocolate Sandwich Cookies</td>\n",
       "      <td>61</td>\n",
       "      <td>19</td>\n",
       "    </tr>\n",
       "    <tr>\n",
       "      <th>1</th>\n",
       "      <td>2</td>\n",
       "      <td>All-Seasons Salt</td>\n",
       "      <td>104</td>\n",
       "      <td>13</td>\n",
       "    </tr>\n",
       "    <tr>\n",
       "      <th>2</th>\n",
       "      <td>3</td>\n",
       "      <td>Robust Golden Unsweetened Oolong Tea</td>\n",
       "      <td>94</td>\n",
       "      <td>7</td>\n",
       "    </tr>\n",
       "    <tr>\n",
       "      <th>3</th>\n",
       "      <td>4</td>\n",
       "      <td>Smart Ones Classic Favorites Mini Rigatoni Wit...</td>\n",
       "      <td>38</td>\n",
       "      <td>1</td>\n",
       "    </tr>\n",
       "    <tr>\n",
       "      <th>4</th>\n",
       "      <td>5</td>\n",
       "      <td>Green Chile Anytime Sauce</td>\n",
       "      <td>5</td>\n",
       "      <td>13</td>\n",
       "    </tr>\n",
       "    <tr>\n",
       "      <th>...</th>\n",
       "      <td>...</td>\n",
       "      <td>...</td>\n",
       "      <td>...</td>\n",
       "      <td>...</td>\n",
       "    </tr>\n",
       "    <tr>\n",
       "      <th>49689</th>\n",
       "      <td>49690</td>\n",
       "      <td>HIGH PERFORMANCE ENERGY DRINK</td>\n",
       "      <td>64</td>\n",
       "      <td>7</td>\n",
       "    </tr>\n",
       "    <tr>\n",
       "      <th>49690</th>\n",
       "      <td>49691</td>\n",
       "      <td>ORIGINAL PANCAKE &amp; WAFFLE MIX</td>\n",
       "      <td>130</td>\n",
       "      <td>14</td>\n",
       "    </tr>\n",
       "    <tr>\n",
       "      <th>49691</th>\n",
       "      <td>49692</td>\n",
       "      <td>ORGANIC INSTANT OATMEAL LIGHT MAPLE BROWN SUGAR</td>\n",
       "      <td>130</td>\n",
       "      <td>14</td>\n",
       "    </tr>\n",
       "    <tr>\n",
       "      <th>49692</th>\n",
       "      <td>49693</td>\n",
       "      <td>SPRING WATER BODY WASH</td>\n",
       "      <td>127</td>\n",
       "      <td>11</td>\n",
       "    </tr>\n",
       "    <tr>\n",
       "      <th>49693</th>\n",
       "      <td>49694</td>\n",
       "      <td>BURRITO- STEAK &amp; CHEESE</td>\n",
       "      <td>38</td>\n",
       "      <td>1</td>\n",
       "    </tr>\n",
       "  </tbody>\n",
       "</table>\n",
       "<p>49694 rows × 4 columns</p>\n",
       "</div>"
      ],
      "text/plain": [
       "       product_id                                       product_name  \\\n",
       "0               1                         Chocolate Sandwich Cookies   \n",
       "1               2                                   All-Seasons Salt   \n",
       "2               3               Robust Golden Unsweetened Oolong Tea   \n",
       "3               4  Smart Ones Classic Favorites Mini Rigatoni Wit...   \n",
       "4               5                          Green Chile Anytime Sauce   \n",
       "...           ...                                                ...   \n",
       "49689       49690                      HIGH PERFORMANCE ENERGY DRINK   \n",
       "49690       49691                      ORIGINAL PANCAKE & WAFFLE MIX   \n",
       "49691       49692    ORGANIC INSTANT OATMEAL LIGHT MAPLE BROWN SUGAR   \n",
       "49692       49693                             SPRING WATER BODY WASH   \n",
       "49693       49694                            BURRITO- STEAK & CHEESE   \n",
       "\n",
       "       aisle_id  department_id  \n",
       "0            61             19  \n",
       "1           104             13  \n",
       "2            94              7  \n",
       "3            38              1  \n",
       "4             5             13  \n",
       "...         ...            ...  \n",
       "49689        64              7  \n",
       "49690       130             14  \n",
       "49691       130             14  \n",
       "49692       127             11  \n",
       "49693        38              1  \n",
       "\n",
       "[49694 rows x 4 columns]"
      ]
     },
     "metadata": {},
     "output_type": "display_data"
    }
   ],
   "source": [
    "# Check for just duplicate product IDs\n",
    "products.duplicated(subset='product_id')\n",
    "display(products)"
   ]
  },
  {
   "cell_type": "code",
   "execution_count": 24,
   "id": "c773f0bf",
   "metadata": {
    "trusted": false
   },
   "outputs": [
    {
     "data": {
      "text/plain": [
       "0                               chocolate sandwich cookies\n",
       "1                                         all-seasons salt\n",
       "2                     robust golden unsweetened oolong tea\n",
       "3        smart ones classic favorites mini rigatoni wit...\n",
       "4                                green chile anytime sauce\n",
       "                               ...                        \n",
       "49689                        high performance energy drink\n",
       "49690                        original pancake & waffle mix\n",
       "49691      organic instant oatmeal light maple brown sugar\n",
       "49692                               spring water body wash\n",
       "49693                              burrito- steak & cheese\n",
       "Name: product_name, Length: 49694, dtype: object"
      ]
     },
     "metadata": {},
     "output_type": "display_data"
    }
   ],
   "source": [
    "# Check for just duplicate product names (convert names to lowercase to compare better)\n",
    "products_lower = products['product_name'].str.lower()\n",
    "display(products_lower)\n"
   ]
  },
  {
   "cell_type": "code",
   "execution_count": 25,
   "id": "01efd02e",
   "metadata": {
    "trusted": false
   },
   "outputs": [
    {
     "data": {
      "text/html": [
       "<div>\n",
       "<style scoped>\n",
       "    .dataframe tbody tr th:only-of-type {\n",
       "        vertical-align: middle;\n",
       "    }\n",
       "\n",
       "    .dataframe tbody tr th {\n",
       "        vertical-align: top;\n",
       "    }\n",
       "\n",
       "    .dataframe thead th {\n",
       "        text-align: right;\n",
       "    }\n",
       "</style>\n",
       "<table border=\"1\" class=\"dataframe\">\n",
       "  <thead>\n",
       "    <tr style=\"text-align: right;\">\n",
       "      <th></th>\n",
       "      <th>product_id</th>\n",
       "      <th>product_name</th>\n",
       "      <th>aisle_id</th>\n",
       "      <th>department_id</th>\n",
       "    </tr>\n",
       "  </thead>\n",
       "  <tbody>\n",
       "    <tr>\n",
       "      <th>2058</th>\n",
       "      <td>2059</td>\n",
       "      <td>Biotin 1000 Mcg</td>\n",
       "      <td>47</td>\n",
       "      <td>11</td>\n",
       "    </tr>\n",
       "    <tr>\n",
       "      <th>5455</th>\n",
       "      <td>5456</td>\n",
       "      <td>Green Tea With Ginseng and Honey</td>\n",
       "      <td>96</td>\n",
       "      <td>20</td>\n",
       "    </tr>\n",
       "    <tr>\n",
       "      <th>5558</th>\n",
       "      <td>5559</td>\n",
       "      <td>Cream Of Mushroom Soup</td>\n",
       "      <td>69</td>\n",
       "      <td>15</td>\n",
       "    </tr>\n",
       "    <tr>\n",
       "      <th>7558</th>\n",
       "      <td>7559</td>\n",
       "      <td>Cinnamon Rolls with Icing</td>\n",
       "      <td>105</td>\n",
       "      <td>13</td>\n",
       "    </tr>\n",
       "    <tr>\n",
       "      <th>9037</th>\n",
       "      <td>9038</td>\n",
       "      <td>American Cheese slices</td>\n",
       "      <td>21</td>\n",
       "      <td>16</td>\n",
       "    </tr>\n",
       "    <tr>\n",
       "      <th>...</th>\n",
       "      <td>...</td>\n",
       "      <td>...</td>\n",
       "      <td>...</td>\n",
       "      <td>...</td>\n",
       "    </tr>\n",
       "    <tr>\n",
       "      <th>49689</th>\n",
       "      <td>49690</td>\n",
       "      <td>HIGH PERFORMANCE ENERGY DRINK</td>\n",
       "      <td>64</td>\n",
       "      <td>7</td>\n",
       "    </tr>\n",
       "    <tr>\n",
       "      <th>49690</th>\n",
       "      <td>49691</td>\n",
       "      <td>ORIGINAL PANCAKE &amp; WAFFLE MIX</td>\n",
       "      <td>130</td>\n",
       "      <td>14</td>\n",
       "    </tr>\n",
       "    <tr>\n",
       "      <th>49691</th>\n",
       "      <td>49692</td>\n",
       "      <td>ORGANIC INSTANT OATMEAL LIGHT MAPLE BROWN SUGAR</td>\n",
       "      <td>130</td>\n",
       "      <td>14</td>\n",
       "    </tr>\n",
       "    <tr>\n",
       "      <th>49692</th>\n",
       "      <td>49693</td>\n",
       "      <td>SPRING WATER BODY WASH</td>\n",
       "      <td>127</td>\n",
       "      <td>11</td>\n",
       "    </tr>\n",
       "    <tr>\n",
       "      <th>49693</th>\n",
       "      <td>49694</td>\n",
       "      <td>BURRITO- STEAK &amp; CHEESE</td>\n",
       "      <td>38</td>\n",
       "      <td>1</td>\n",
       "    </tr>\n",
       "  </tbody>\n",
       "</table>\n",
       "<p>104 rows × 4 columns</p>\n",
       "</div>"
      ],
      "text/plain": [
       "       product_id                                     product_name  aisle_id  \\\n",
       "2058         2059                                  Biotin 1000 Mcg        47   \n",
       "5455         5456                 Green Tea With Ginseng and Honey        96   \n",
       "5558         5559                           Cream Of Mushroom Soup        69   \n",
       "7558         7559                        Cinnamon Rolls with Icing       105   \n",
       "9037         9038                           American Cheese slices        21   \n",
       "...           ...                                              ...       ...   \n",
       "49689       49690                    HIGH PERFORMANCE ENERGY DRINK        64   \n",
       "49690       49691                    ORIGINAL PANCAKE & WAFFLE MIX       130   \n",
       "49691       49692  ORGANIC INSTANT OATMEAL LIGHT MAPLE BROWN SUGAR       130   \n",
       "49692       49693                           SPRING WATER BODY WASH       127   \n",
       "49693       49694                          BURRITO- STEAK & CHEESE        38   \n",
       "\n",
       "       department_id  \n",
       "2058              11  \n",
       "5455              20  \n",
       "5558              15  \n",
       "7558              13  \n",
       "9037              16  \n",
       "...              ...  \n",
       "49689              7  \n",
       "49690             14  \n",
       "49691             14  \n",
       "49692             11  \n",
       "49693              1  \n",
       "\n",
       "[104 rows x 4 columns]"
      ]
     },
     "metadata": {},
     "output_type": "display_data"
    }
   ],
   "source": [
    "# Check for duplicate product names that aren't missing\n",
    "duplicate_names = products[products['product_name'].notna()& products['product_name'].str.lower().duplicated()]\n",
    "display(duplicate_names)"
   ]
  },
  {
   "cell_type": "markdown",
   "id": "9da8d293",
   "metadata": {},
   "source": []
  },
  {
   "cell_type": "markdown",
   "id": "60f30db1",
   "metadata": {},
   "source": [
    "### `departments` data frame"
   ]
  },
  {
   "cell_type": "code",
   "execution_count": 26,
   "id": "fb410ad4-0fbf-4b80-bb09-23fdea79afe3",
   "metadata": {
    "trusted": false
   },
   "outputs": [
    {
     "data": {
      "text/html": [
       "<div>\n",
       "<style scoped>\n",
       "    .dataframe tbody tr th:only-of-type {\n",
       "        vertical-align: middle;\n",
       "    }\n",
       "\n",
       "    .dataframe tbody tr th {\n",
       "        vertical-align: top;\n",
       "    }\n",
       "\n",
       "    .dataframe thead th {\n",
       "        text-align: right;\n",
       "    }\n",
       "</style>\n",
       "<table border=\"1\" class=\"dataframe\">\n",
       "  <thead>\n",
       "    <tr style=\"text-align: right;\">\n",
       "      <th></th>\n",
       "      <th>department_id</th>\n",
       "      <th>department</th>\n",
       "    </tr>\n",
       "  </thead>\n",
       "  <tbody>\n",
       "    <tr>\n",
       "      <th>0</th>\n",
       "      <td>1</td>\n",
       "      <td>frozen</td>\n",
       "    </tr>\n",
       "    <tr>\n",
       "      <th>1</th>\n",
       "      <td>2</td>\n",
       "      <td>other</td>\n",
       "    </tr>\n",
       "    <tr>\n",
       "      <th>2</th>\n",
       "      <td>3</td>\n",
       "      <td>bakery</td>\n",
       "    </tr>\n",
       "    <tr>\n",
       "      <th>3</th>\n",
       "      <td>4</td>\n",
       "      <td>produce</td>\n",
       "    </tr>\n",
       "    <tr>\n",
       "      <th>4</th>\n",
       "      <td>5</td>\n",
       "      <td>alcohol</td>\n",
       "    </tr>\n",
       "    <tr>\n",
       "      <th>5</th>\n",
       "      <td>6</td>\n",
       "      <td>international</td>\n",
       "    </tr>\n",
       "    <tr>\n",
       "      <th>6</th>\n",
       "      <td>7</td>\n",
       "      <td>beverages</td>\n",
       "    </tr>\n",
       "    <tr>\n",
       "      <th>7</th>\n",
       "      <td>8</td>\n",
       "      <td>pets</td>\n",
       "    </tr>\n",
       "    <tr>\n",
       "      <th>8</th>\n",
       "      <td>9</td>\n",
       "      <td>dry goods pasta</td>\n",
       "    </tr>\n",
       "    <tr>\n",
       "      <th>9</th>\n",
       "      <td>10</td>\n",
       "      <td>bulk</td>\n",
       "    </tr>\n",
       "    <tr>\n",
       "      <th>10</th>\n",
       "      <td>11</td>\n",
       "      <td>personal care</td>\n",
       "    </tr>\n",
       "    <tr>\n",
       "      <th>11</th>\n",
       "      <td>12</td>\n",
       "      <td>meat seafood</td>\n",
       "    </tr>\n",
       "    <tr>\n",
       "      <th>12</th>\n",
       "      <td>13</td>\n",
       "      <td>pantry</td>\n",
       "    </tr>\n",
       "    <tr>\n",
       "      <th>13</th>\n",
       "      <td>14</td>\n",
       "      <td>breakfast</td>\n",
       "    </tr>\n",
       "    <tr>\n",
       "      <th>14</th>\n",
       "      <td>15</td>\n",
       "      <td>canned goods</td>\n",
       "    </tr>\n",
       "    <tr>\n",
       "      <th>15</th>\n",
       "      <td>16</td>\n",
       "      <td>dairy eggs</td>\n",
       "    </tr>\n",
       "    <tr>\n",
       "      <th>16</th>\n",
       "      <td>17</td>\n",
       "      <td>household</td>\n",
       "    </tr>\n",
       "    <tr>\n",
       "      <th>17</th>\n",
       "      <td>18</td>\n",
       "      <td>babies</td>\n",
       "    </tr>\n",
       "    <tr>\n",
       "      <th>18</th>\n",
       "      <td>19</td>\n",
       "      <td>snacks</td>\n",
       "    </tr>\n",
       "    <tr>\n",
       "      <th>19</th>\n",
       "      <td>20</td>\n",
       "      <td>deli</td>\n",
       "    </tr>\n",
       "    <tr>\n",
       "      <th>20</th>\n",
       "      <td>21</td>\n",
       "      <td>missing</td>\n",
       "    </tr>\n",
       "  </tbody>\n",
       "</table>\n",
       "</div>"
      ],
      "text/plain": [
       "    department_id       department\n",
       "0               1           frozen\n",
       "1               2            other\n",
       "2               3           bakery\n",
       "3               4          produce\n",
       "4               5          alcohol\n",
       "5               6    international\n",
       "6               7        beverages\n",
       "7               8             pets\n",
       "8               9  dry goods pasta\n",
       "9              10             bulk\n",
       "10             11    personal care\n",
       "11             12     meat seafood\n",
       "12             13           pantry\n",
       "13             14        breakfast\n",
       "14             15     canned goods\n",
       "15             16       dairy eggs\n",
       "16             17        household\n",
       "17             18           babies\n",
       "18             19           snacks\n",
       "19             20             deli\n",
       "20             21          missing"
      ]
     },
     "metadata": {},
     "output_type": "display_data"
    }
   ],
   "source": [
    "#show duplicates\n",
    "departments.duplicated().sum() \n",
    "display(departments)"
   ]
  },
  {
   "cell_type": "code",
   "execution_count": 27,
   "id": "332b12bb",
   "metadata": {
    "trusted": false
   },
   "outputs": [
    {
     "data": {
      "text/plain": [
       "0"
      ]
     },
     "metadata": {},
     "output_type": "display_data"
    }
   ],
   "source": [
    "#show number of duplicates\n",
    "departments = departments.drop_duplicates(subset='department')\n",
    "display(departments.duplicated(subset='department').sum())"
   ]
  },
  {
   "cell_type": "markdown",
   "id": "bd30d78e",
   "metadata": {},
   "source": []
  },
  {
   "cell_type": "markdown",
   "id": "889349c1",
   "metadata": {},
   "source": [
    "### `aisles` data frame"
   ]
  },
  {
   "cell_type": "code",
   "execution_count": 28,
   "id": "9da89fb9-4679-40f5-ad0d-c34df753a3f8",
   "metadata": {
    "trusted": false
   },
   "outputs": [
    {
     "data": {
      "text/html": [
       "<div>\n",
       "<style scoped>\n",
       "    .dataframe tbody tr th:only-of-type {\n",
       "        vertical-align: middle;\n",
       "    }\n",
       "\n",
       "    .dataframe tbody tr th {\n",
       "        vertical-align: top;\n",
       "    }\n",
       "\n",
       "    .dataframe thead th {\n",
       "        text-align: right;\n",
       "    }\n",
       "</style>\n",
       "<table border=\"1\" class=\"dataframe\">\n",
       "  <thead>\n",
       "    <tr style=\"text-align: right;\">\n",
       "      <th></th>\n",
       "      <th>aisle_id</th>\n",
       "      <th>aisle</th>\n",
       "    </tr>\n",
       "  </thead>\n",
       "  <tbody>\n",
       "    <tr>\n",
       "      <th>0</th>\n",
       "      <td>1</td>\n",
       "      <td>prepared soups salads</td>\n",
       "    </tr>\n",
       "    <tr>\n",
       "      <th>1</th>\n",
       "      <td>2</td>\n",
       "      <td>specialty cheeses</td>\n",
       "    </tr>\n",
       "    <tr>\n",
       "      <th>2</th>\n",
       "      <td>3</td>\n",
       "      <td>energy granola bars</td>\n",
       "    </tr>\n",
       "    <tr>\n",
       "      <th>3</th>\n",
       "      <td>4</td>\n",
       "      <td>instant foods</td>\n",
       "    </tr>\n",
       "    <tr>\n",
       "      <th>4</th>\n",
       "      <td>5</td>\n",
       "      <td>marinades meat preparation</td>\n",
       "    </tr>\n",
       "    <tr>\n",
       "      <th>...</th>\n",
       "      <td>...</td>\n",
       "      <td>...</td>\n",
       "    </tr>\n",
       "    <tr>\n",
       "      <th>129</th>\n",
       "      <td>130</td>\n",
       "      <td>hot cereal pancake mixes</td>\n",
       "    </tr>\n",
       "    <tr>\n",
       "      <th>130</th>\n",
       "      <td>131</td>\n",
       "      <td>dry pasta</td>\n",
       "    </tr>\n",
       "    <tr>\n",
       "      <th>131</th>\n",
       "      <td>132</td>\n",
       "      <td>beauty</td>\n",
       "    </tr>\n",
       "    <tr>\n",
       "      <th>132</th>\n",
       "      <td>133</td>\n",
       "      <td>muscles joints pain relief</td>\n",
       "    </tr>\n",
       "    <tr>\n",
       "      <th>133</th>\n",
       "      <td>134</td>\n",
       "      <td>specialty wines champagnes</td>\n",
       "    </tr>\n",
       "  </tbody>\n",
       "</table>\n",
       "<p>134 rows × 2 columns</p>\n",
       "</div>"
      ],
      "text/plain": [
       "     aisle_id                       aisle\n",
       "0           1       prepared soups salads\n",
       "1           2           specialty cheeses\n",
       "2           3         energy granola bars\n",
       "3           4               instant foods\n",
       "4           5  marinades meat preparation\n",
       "..        ...                         ...\n",
       "129       130    hot cereal pancake mixes\n",
       "130       131                   dry pasta\n",
       "131       132                      beauty\n",
       "132       133  muscles joints pain relief\n",
       "133       134  specialty wines champagnes\n",
       "\n",
       "[134 rows x 2 columns]"
      ]
     },
     "metadata": {},
     "output_type": "display_data"
    }
   ],
   "source": [
    "#show duplicates\n",
    "aisles.duplicated().sum() \n",
    "display(aisles)"
   ]
  },
  {
   "cell_type": "code",
   "execution_count": 29,
   "id": "da7c2822",
   "metadata": {
    "trusted": false
   },
   "outputs": [
    {
     "data": {
      "text/plain": [
       "0"
      ]
     },
     "metadata": {},
     "output_type": "display_data"
    }
   ],
   "source": [
    "#show number of duplicates\n",
    "aisles = aisles.drop_duplicates(subset='aisle')\n",
    "display(aisles.duplicated(subset='aisle').sum())"
   ]
  },
  {
   "cell_type": "markdown",
   "id": "274cd06a",
   "metadata": {},
   "source": [
    "### `order_products` data frame"
   ]
  },
  {
   "cell_type": "code",
   "execution_count": 30,
   "id": "52326689-84a8-4b8f-a881-7c68780f62c9",
   "metadata": {
    "trusted": false
   },
   "outputs": [
    {
     "data": {
      "text/plain": [
       "0"
      ]
     },
     "execution_count": 30,
     "metadata": {},
     "output_type": "execute_result"
    }
   ],
   "source": [
    "# Check for fullly duplicate rows\n",
    "order_products.duplicated().sum()\n"
   ]
  },
  {
   "cell_type": "code",
   "execution_count": 31,
   "id": "7b861391",
   "metadata": {
    "trusted": false
   },
   "outputs": [
    {
     "data": {
      "text/plain": [
       "0"
      ]
     },
     "metadata": {},
     "output_type": "display_data"
    }
   ],
   "source": [
    "# Double check for any other tricky duplicates\n",
    "tricky_duplicates = order_products[order_products.duplicated(subset= ['order_id','product_id'], keep = False)]\n",
    "display(tricky_duplicates.duplicated().sum())"
   ]
  },
  {
   "cell_type": "markdown",
   "id": "1e46de76",
   "metadata": {},
   "source": [
    "## Find and remove missing values\n"
   ]
  },
  {
   "cell_type": "markdown",
   "id": "c0aebd78",
   "metadata": {},
   "source": [
    "### `products` data frame"
   ]
  },
  {
   "cell_type": "code",
   "execution_count": 32,
   "id": "fe4a8b0f",
   "metadata": {
    "trusted": false
   },
   "outputs": [
    {
     "name": "stdout",
     "output_type": "stream",
     "text": [
      "<class 'pandas.core.frame.DataFrame'>\n",
      "RangeIndex: 49694 entries, 0 to 49693\n",
      "Data columns (total 4 columns):\n",
      " #   Column         Non-Null Count  Dtype \n",
      "---  ------         --------------  ----- \n",
      " 0   product_id     49694 non-null  int64 \n",
      " 1   product_name   48436 non-null  object\n",
      " 2   aisle_id       49694 non-null  int64 \n",
      " 3   department_id  49694 non-null  int64 \n",
      "dtypes: int64(3), object(1)\n",
      "memory usage: 1.5+ MB\n"
     ]
    },
    {
     "data": {
      "text/html": [
       "<div>\n",
       "<style scoped>\n",
       "    .dataframe tbody tr th:only-of-type {\n",
       "        vertical-align: middle;\n",
       "    }\n",
       "\n",
       "    .dataframe tbody tr th {\n",
       "        vertical-align: top;\n",
       "    }\n",
       "\n",
       "    .dataframe thead th {\n",
       "        text-align: right;\n",
       "    }\n",
       "</style>\n",
       "<table border=\"1\" class=\"dataframe\">\n",
       "  <thead>\n",
       "    <tr style=\"text-align: right;\">\n",
       "      <th></th>\n",
       "      <th>product_id</th>\n",
       "      <th>product_name</th>\n",
       "      <th>aisle_id</th>\n",
       "      <th>department_id</th>\n",
       "    </tr>\n",
       "  </thead>\n",
       "  <tbody>\n",
       "    <tr>\n",
       "      <th>0</th>\n",
       "      <td>1</td>\n",
       "      <td>Chocolate Sandwich Cookies</td>\n",
       "      <td>61</td>\n",
       "      <td>19</td>\n",
       "    </tr>\n",
       "    <tr>\n",
       "      <th>1</th>\n",
       "      <td>2</td>\n",
       "      <td>All-Seasons Salt</td>\n",
       "      <td>104</td>\n",
       "      <td>13</td>\n",
       "    </tr>\n",
       "    <tr>\n",
       "      <th>2</th>\n",
       "      <td>3</td>\n",
       "      <td>Robust Golden Unsweetened Oolong Tea</td>\n",
       "      <td>94</td>\n",
       "      <td>7</td>\n",
       "    </tr>\n",
       "    <tr>\n",
       "      <th>3</th>\n",
       "      <td>4</td>\n",
       "      <td>Smart Ones Classic Favorites Mini Rigatoni Wit...</td>\n",
       "      <td>38</td>\n",
       "      <td>1</td>\n",
       "    </tr>\n",
       "    <tr>\n",
       "      <th>4</th>\n",
       "      <td>5</td>\n",
       "      <td>Green Chile Anytime Sauce</td>\n",
       "      <td>5</td>\n",
       "      <td>13</td>\n",
       "    </tr>\n",
       "    <tr>\n",
       "      <th>...</th>\n",
       "      <td>...</td>\n",
       "      <td>...</td>\n",
       "      <td>...</td>\n",
       "      <td>...</td>\n",
       "    </tr>\n",
       "    <tr>\n",
       "      <th>49689</th>\n",
       "      <td>49690</td>\n",
       "      <td>HIGH PERFORMANCE ENERGY DRINK</td>\n",
       "      <td>64</td>\n",
       "      <td>7</td>\n",
       "    </tr>\n",
       "    <tr>\n",
       "      <th>49690</th>\n",
       "      <td>49691</td>\n",
       "      <td>ORIGINAL PANCAKE &amp; WAFFLE MIX</td>\n",
       "      <td>130</td>\n",
       "      <td>14</td>\n",
       "    </tr>\n",
       "    <tr>\n",
       "      <th>49691</th>\n",
       "      <td>49692</td>\n",
       "      <td>ORGANIC INSTANT OATMEAL LIGHT MAPLE BROWN SUGAR</td>\n",
       "      <td>130</td>\n",
       "      <td>14</td>\n",
       "    </tr>\n",
       "    <tr>\n",
       "      <th>49692</th>\n",
       "      <td>49693</td>\n",
       "      <td>SPRING WATER BODY WASH</td>\n",
       "      <td>127</td>\n",
       "      <td>11</td>\n",
       "    </tr>\n",
       "    <tr>\n",
       "      <th>49693</th>\n",
       "      <td>49694</td>\n",
       "      <td>BURRITO- STEAK &amp; CHEESE</td>\n",
       "      <td>38</td>\n",
       "      <td>1</td>\n",
       "    </tr>\n",
       "  </tbody>\n",
       "</table>\n",
       "<p>49694 rows × 4 columns</p>\n",
       "</div>"
      ],
      "text/plain": [
       "       product_id                                       product_name  \\\n",
       "0               1                         Chocolate Sandwich Cookies   \n",
       "1               2                                   All-Seasons Salt   \n",
       "2               3               Robust Golden Unsweetened Oolong Tea   \n",
       "3               4  Smart Ones Classic Favorites Mini Rigatoni Wit...   \n",
       "4               5                          Green Chile Anytime Sauce   \n",
       "...           ...                                                ...   \n",
       "49689       49690                      HIGH PERFORMANCE ENERGY DRINK   \n",
       "49690       49691                      ORIGINAL PANCAKE & WAFFLE MIX   \n",
       "49691       49692    ORGANIC INSTANT OATMEAL LIGHT MAPLE BROWN SUGAR   \n",
       "49692       49693                             SPRING WATER BODY WASH   \n",
       "49693       49694                            BURRITO- STEAK & CHEESE   \n",
       "\n",
       "       aisle_id  department_id  \n",
       "0            61             19  \n",
       "1           104             13  \n",
       "2            94              7  \n",
       "3            38              1  \n",
       "4             5             13  \n",
       "...         ...            ...  \n",
       "49689        64              7  \n",
       "49690       130             14  \n",
       "49691       130             14  \n",
       "49692       127             11  \n",
       "49693        38              1  \n",
       "\n",
       "[49694 rows x 4 columns]"
      ]
     },
     "metadata": {},
     "output_type": "display_data"
    }
   ],
   "source": [
    "#display data frame \n",
    "products.info()\n",
    "display(products)"
   ]
  },
  {
   "cell_type": "code",
   "execution_count": 33,
   "id": "e96167bc",
   "metadata": {
    "trusted": false
   },
   "outputs": [
    {
     "data": {
      "text/html": [
       "<div>\n",
       "<style scoped>\n",
       "    .dataframe tbody tr th:only-of-type {\n",
       "        vertical-align: middle;\n",
       "    }\n",
       "\n",
       "    .dataframe tbody tr th {\n",
       "        vertical-align: top;\n",
       "    }\n",
       "\n",
       "    .dataframe thead th {\n",
       "        text-align: right;\n",
       "    }\n",
       "</style>\n",
       "<table border=\"1\" class=\"dataframe\">\n",
       "  <thead>\n",
       "    <tr style=\"text-align: right;\">\n",
       "      <th></th>\n",
       "      <th>product_id</th>\n",
       "      <th>product_name</th>\n",
       "      <th>aisle_id</th>\n",
       "      <th>department_id</th>\n",
       "    </tr>\n",
       "  </thead>\n",
       "  <tbody>\n",
       "    <tr>\n",
       "      <th>37</th>\n",
       "      <td>38</td>\n",
       "      <td>NaN</td>\n",
       "      <td>100</td>\n",
       "      <td>21</td>\n",
       "    </tr>\n",
       "    <tr>\n",
       "      <th>71</th>\n",
       "      <td>72</td>\n",
       "      <td>NaN</td>\n",
       "      <td>100</td>\n",
       "      <td>21</td>\n",
       "    </tr>\n",
       "    <tr>\n",
       "      <th>109</th>\n",
       "      <td>110</td>\n",
       "      <td>NaN</td>\n",
       "      <td>100</td>\n",
       "      <td>21</td>\n",
       "    </tr>\n",
       "    <tr>\n",
       "      <th>296</th>\n",
       "      <td>297</td>\n",
       "      <td>NaN</td>\n",
       "      <td>100</td>\n",
       "      <td>21</td>\n",
       "    </tr>\n",
       "    <tr>\n",
       "      <th>416</th>\n",
       "      <td>417</td>\n",
       "      <td>NaN</td>\n",
       "      <td>100</td>\n",
       "      <td>21</td>\n",
       "    </tr>\n",
       "    <tr>\n",
       "      <th>...</th>\n",
       "      <td>...</td>\n",
       "      <td>...</td>\n",
       "      <td>...</td>\n",
       "      <td>...</td>\n",
       "    </tr>\n",
       "    <tr>\n",
       "      <th>49552</th>\n",
       "      <td>49553</td>\n",
       "      <td>NaN</td>\n",
       "      <td>100</td>\n",
       "      <td>21</td>\n",
       "    </tr>\n",
       "    <tr>\n",
       "      <th>49574</th>\n",
       "      <td>49575</td>\n",
       "      <td>NaN</td>\n",
       "      <td>100</td>\n",
       "      <td>21</td>\n",
       "    </tr>\n",
       "    <tr>\n",
       "      <th>49640</th>\n",
       "      <td>49641</td>\n",
       "      <td>NaN</td>\n",
       "      <td>100</td>\n",
       "      <td>21</td>\n",
       "    </tr>\n",
       "    <tr>\n",
       "      <th>49663</th>\n",
       "      <td>49664</td>\n",
       "      <td>NaN</td>\n",
       "      <td>100</td>\n",
       "      <td>21</td>\n",
       "    </tr>\n",
       "    <tr>\n",
       "      <th>49668</th>\n",
       "      <td>49669</td>\n",
       "      <td>NaN</td>\n",
       "      <td>100</td>\n",
       "      <td>21</td>\n",
       "    </tr>\n",
       "  </tbody>\n",
       "</table>\n",
       "<p>1258 rows × 4 columns</p>\n",
       "</div>"
      ],
      "text/plain": [
       "       product_id product_name  aisle_id  department_id\n",
       "37             38          NaN       100             21\n",
       "71             72          NaN       100             21\n",
       "109           110          NaN       100             21\n",
       "296           297          NaN       100             21\n",
       "416           417          NaN       100             21\n",
       "...           ...          ...       ...            ...\n",
       "49552       49553          NaN       100             21\n",
       "49574       49575          NaN       100             21\n",
       "49640       49641          NaN       100             21\n",
       "49663       49664          NaN       100             21\n",
       "49668       49669          NaN       100             21\n",
       "\n",
       "[1258 rows x 4 columns]"
      ]
     },
     "metadata": {},
     "output_type": "display_data"
    },
    {
     "name": "stdout",
     "output_type": "stream",
     "text": [
      "Yes!\n"
     ]
    }
   ],
   "source": [
    "# Are all of the missing product names associated with aisle ID 100?\n",
    "missing_product_names = products[products['product_name'].isna()]\n",
    "display(missing_product_names)\n",
    "if (missing_product_names['aisle_id']==100).all():\n",
    "    print('Yes!')\n",
    "else: \n",
    "    print('No!')"
   ]
  },
  {
   "cell_type": "code",
   "execution_count": 34,
   "id": "8fd0a541",
   "metadata": {
    "trusted": false
   },
   "outputs": [
    {
     "data": {
      "text/html": [
       "<div>\n",
       "<style scoped>\n",
       "    .dataframe tbody tr th:only-of-type {\n",
       "        vertical-align: middle;\n",
       "    }\n",
       "\n",
       "    .dataframe tbody tr th {\n",
       "        vertical-align: top;\n",
       "    }\n",
       "\n",
       "    .dataframe thead th {\n",
       "        text-align: right;\n",
       "    }\n",
       "</style>\n",
       "<table border=\"1\" class=\"dataframe\">\n",
       "  <thead>\n",
       "    <tr style=\"text-align: right;\">\n",
       "      <th></th>\n",
       "      <th>product_id</th>\n",
       "      <th>product_name</th>\n",
       "      <th>aisle_id</th>\n",
       "      <th>department_id</th>\n",
       "    </tr>\n",
       "  </thead>\n",
       "  <tbody>\n",
       "    <tr>\n",
       "      <th>37</th>\n",
       "      <td>38</td>\n",
       "      <td>NaN</td>\n",
       "      <td>100</td>\n",
       "      <td>21</td>\n",
       "    </tr>\n",
       "    <tr>\n",
       "      <th>71</th>\n",
       "      <td>72</td>\n",
       "      <td>NaN</td>\n",
       "      <td>100</td>\n",
       "      <td>21</td>\n",
       "    </tr>\n",
       "    <tr>\n",
       "      <th>109</th>\n",
       "      <td>110</td>\n",
       "      <td>NaN</td>\n",
       "      <td>100</td>\n",
       "      <td>21</td>\n",
       "    </tr>\n",
       "    <tr>\n",
       "      <th>296</th>\n",
       "      <td>297</td>\n",
       "      <td>NaN</td>\n",
       "      <td>100</td>\n",
       "      <td>21</td>\n",
       "    </tr>\n",
       "    <tr>\n",
       "      <th>416</th>\n",
       "      <td>417</td>\n",
       "      <td>NaN</td>\n",
       "      <td>100</td>\n",
       "      <td>21</td>\n",
       "    </tr>\n",
       "    <tr>\n",
       "      <th>...</th>\n",
       "      <td>...</td>\n",
       "      <td>...</td>\n",
       "      <td>...</td>\n",
       "      <td>...</td>\n",
       "    </tr>\n",
       "    <tr>\n",
       "      <th>49552</th>\n",
       "      <td>49553</td>\n",
       "      <td>NaN</td>\n",
       "      <td>100</td>\n",
       "      <td>21</td>\n",
       "    </tr>\n",
       "    <tr>\n",
       "      <th>49574</th>\n",
       "      <td>49575</td>\n",
       "      <td>NaN</td>\n",
       "      <td>100</td>\n",
       "      <td>21</td>\n",
       "    </tr>\n",
       "    <tr>\n",
       "      <th>49640</th>\n",
       "      <td>49641</td>\n",
       "      <td>NaN</td>\n",
       "      <td>100</td>\n",
       "      <td>21</td>\n",
       "    </tr>\n",
       "    <tr>\n",
       "      <th>49663</th>\n",
       "      <td>49664</td>\n",
       "      <td>NaN</td>\n",
       "      <td>100</td>\n",
       "      <td>21</td>\n",
       "    </tr>\n",
       "    <tr>\n",
       "      <th>49668</th>\n",
       "      <td>49669</td>\n",
       "      <td>NaN</td>\n",
       "      <td>100</td>\n",
       "      <td>21</td>\n",
       "    </tr>\n",
       "  </tbody>\n",
       "</table>\n",
       "<p>1258 rows × 4 columns</p>\n",
       "</div>"
      ],
      "text/plain": [
       "       product_id product_name  aisle_id  department_id\n",
       "37             38          NaN       100             21\n",
       "71             72          NaN       100             21\n",
       "109           110          NaN       100             21\n",
       "296           297          NaN       100             21\n",
       "416           417          NaN       100             21\n",
       "...           ...          ...       ...            ...\n",
       "49552       49553          NaN       100             21\n",
       "49574       49575          NaN       100             21\n",
       "49640       49641          NaN       100             21\n",
       "49663       49664          NaN       100             21\n",
       "49668       49669          NaN       100             21\n",
       "\n",
       "[1258 rows x 4 columns]"
      ]
     },
     "metadata": {},
     "output_type": "display_data"
    },
    {
     "name": "stdout",
     "output_type": "stream",
     "text": [
      "Yes!\n"
     ]
    }
   ],
   "source": [
    "# Are all of the missing product names associated with department ID 21?\n",
    "missing_department_id_21 = products[(products['product_name'].isna()) & (products['department_id']==21)]\n",
    "display(missing_department_id_21)\n",
    "if (missing_product_names['department_id']==21).all():\n",
    "    print('Yes!')\n",
    "else: \n",
    "    print('No!')"
   ]
  },
  {
   "cell_type": "code",
   "execution_count": 35,
   "id": "325c3464",
   "metadata": {
    "trusted": false
   },
   "outputs": [
    {
     "data": {
      "text/html": [
       "<div>\n",
       "<style scoped>\n",
       "    .dataframe tbody tr th:only-of-type {\n",
       "        vertical-align: middle;\n",
       "    }\n",
       "\n",
       "    .dataframe tbody tr th {\n",
       "        vertical-align: top;\n",
       "    }\n",
       "\n",
       "    .dataframe thead th {\n",
       "        text-align: right;\n",
       "    }\n",
       "</style>\n",
       "<table border=\"1\" class=\"dataframe\">\n",
       "  <thead>\n",
       "    <tr style=\"text-align: right;\">\n",
       "      <th></th>\n",
       "      <th>aisle_id</th>\n",
       "      <th>aisle</th>\n",
       "    </tr>\n",
       "  </thead>\n",
       "  <tbody>\n",
       "    <tr>\n",
       "      <th>99</th>\n",
       "      <td>100</td>\n",
       "      <td>missing</td>\n",
       "    </tr>\n",
       "  </tbody>\n",
       "</table>\n",
       "</div>"
      ],
      "text/plain": [
       "    aisle_id    aisle\n",
       "99       100  missing"
      ]
     },
     "metadata": {},
     "output_type": "display_data"
    },
    {
     "data": {
      "text/html": [
       "<div>\n",
       "<style scoped>\n",
       "    .dataframe tbody tr th:only-of-type {\n",
       "        vertical-align: middle;\n",
       "    }\n",
       "\n",
       "    .dataframe tbody tr th {\n",
       "        vertical-align: top;\n",
       "    }\n",
       "\n",
       "    .dataframe thead th {\n",
       "        text-align: right;\n",
       "    }\n",
       "</style>\n",
       "<table border=\"1\" class=\"dataframe\">\n",
       "  <thead>\n",
       "    <tr style=\"text-align: right;\">\n",
       "      <th></th>\n",
       "      <th>department_id</th>\n",
       "      <th>department</th>\n",
       "    </tr>\n",
       "  </thead>\n",
       "  <tbody>\n",
       "    <tr>\n",
       "      <th>20</th>\n",
       "      <td>21</td>\n",
       "      <td>missing</td>\n",
       "    </tr>\n",
       "  </tbody>\n",
       "</table>\n",
       "</div>"
      ],
      "text/plain": [
       "    department_id department\n",
       "20             21    missing"
      ]
     },
     "metadata": {},
     "output_type": "display_data"
    }
   ],
   "source": [
    "# What is this ailse and department?\n",
    "filtered_products_info_aisle = aisles[aisles['aisle_id'] ==100]\n",
    "filtered_products_info_deparment = departments[departments['department_id']==21]\n",
    "display(filtered_products_info_aisle)\n",
    "display(filtered_products_info_deparment)"
   ]
  },
  {
   "cell_type": "code",
   "execution_count": 36,
   "id": "6b295120",
   "metadata": {
    "trusted": false
   },
   "outputs": [
    {
     "data": {
      "text/plain": [
       "product_id       0\n",
       "product_name     0\n",
       "aisle_id         0\n",
       "department_id    0\n",
       "dtype: int64"
      ]
     },
     "metadata": {},
     "output_type": "display_data"
    }
   ],
   "source": [
    "# Fill missing product names with 'Unknown'\n",
    "products['product_name'].fillna('Unknown',inplace=True)\n",
    "display(products.isna().sum())"
   ]
  },
  {
   "cell_type": "markdown",
   "id": "fc70e5ad",
   "metadata": {},
   "source": []
  },
  {
   "cell_type": "markdown",
   "id": "7eb45c86",
   "metadata": {},
   "source": [
    "### `orders` data frame"
   ]
  },
  {
   "cell_type": "code",
   "execution_count": 37,
   "id": "93e41d96",
   "metadata": {
    "trusted": false
   },
   "outputs": [
    {
     "name": "stdout",
     "output_type": "stream",
     "text": [
      "<class 'pandas.core.frame.DataFrame'>\n",
      "Int64Index: 478952 entries, 0 to 478966\n",
      "Data columns (total 6 columns):\n",
      " #   Column                  Non-Null Count   Dtype  \n",
      "---  ------                  --------------   -----  \n",
      " 0   order_id                478952 non-null  int64  \n",
      " 1   user_id                 478952 non-null  int64  \n",
      " 2   order_number            478952 non-null  int64  \n",
      " 3   order_dow               478952 non-null  int64  \n",
      " 4   order_hour_of_day       478952 non-null  int64  \n",
      " 5   days_since_prior_order  450135 non-null  float64\n",
      "dtypes: float64(1), int64(5)\n",
      "memory usage: 25.6 MB\n"
     ]
    },
    {
     "data": {
      "text/html": [
       "<div>\n",
       "<style scoped>\n",
       "    .dataframe tbody tr th:only-of-type {\n",
       "        vertical-align: middle;\n",
       "    }\n",
       "\n",
       "    .dataframe tbody tr th {\n",
       "        vertical-align: top;\n",
       "    }\n",
       "\n",
       "    .dataframe thead th {\n",
       "        text-align: right;\n",
       "    }\n",
       "</style>\n",
       "<table border=\"1\" class=\"dataframe\">\n",
       "  <thead>\n",
       "    <tr style=\"text-align: right;\">\n",
       "      <th></th>\n",
       "      <th>order_id</th>\n",
       "      <th>user_id</th>\n",
       "      <th>order_number</th>\n",
       "      <th>order_dow</th>\n",
       "      <th>order_hour_of_day</th>\n",
       "      <th>days_since_prior_order</th>\n",
       "    </tr>\n",
       "  </thead>\n",
       "  <tbody>\n",
       "    <tr>\n",
       "      <th>0</th>\n",
       "      <td>1515936</td>\n",
       "      <td>183418</td>\n",
       "      <td>11</td>\n",
       "      <td>6</td>\n",
       "      <td>13</td>\n",
       "      <td>30.0</td>\n",
       "    </tr>\n",
       "    <tr>\n",
       "      <th>1</th>\n",
       "      <td>1690866</td>\n",
       "      <td>163593</td>\n",
       "      <td>5</td>\n",
       "      <td>5</td>\n",
       "      <td>12</td>\n",
       "      <td>9.0</td>\n",
       "    </tr>\n",
       "    <tr>\n",
       "      <th>2</th>\n",
       "      <td>1454967</td>\n",
       "      <td>39980</td>\n",
       "      <td>4</td>\n",
       "      <td>5</td>\n",
       "      <td>19</td>\n",
       "      <td>2.0</td>\n",
       "    </tr>\n",
       "    <tr>\n",
       "      <th>3</th>\n",
       "      <td>1768857</td>\n",
       "      <td>82516</td>\n",
       "      <td>56</td>\n",
       "      <td>0</td>\n",
       "      <td>20</td>\n",
       "      <td>10.0</td>\n",
       "    </tr>\n",
       "    <tr>\n",
       "      <th>4</th>\n",
       "      <td>3007858</td>\n",
       "      <td>196724</td>\n",
       "      <td>2</td>\n",
       "      <td>4</td>\n",
       "      <td>12</td>\n",
       "      <td>17.0</td>\n",
       "    </tr>\n",
       "    <tr>\n",
       "      <th>...</th>\n",
       "      <td>...</td>\n",
       "      <td>...</td>\n",
       "      <td>...</td>\n",
       "      <td>...</td>\n",
       "      <td>...</td>\n",
       "      <td>...</td>\n",
       "    </tr>\n",
       "    <tr>\n",
       "      <th>478962</th>\n",
       "      <td>3210681</td>\n",
       "      <td>5617</td>\n",
       "      <td>5</td>\n",
       "      <td>1</td>\n",
       "      <td>14</td>\n",
       "      <td>7.0</td>\n",
       "    </tr>\n",
       "    <tr>\n",
       "      <th>478963</th>\n",
       "      <td>3270802</td>\n",
       "      <td>112087</td>\n",
       "      <td>2</td>\n",
       "      <td>3</td>\n",
       "      <td>13</td>\n",
       "      <td>6.0</td>\n",
       "    </tr>\n",
       "    <tr>\n",
       "      <th>478964</th>\n",
       "      <td>885349</td>\n",
       "      <td>82944</td>\n",
       "      <td>16</td>\n",
       "      <td>2</td>\n",
       "      <td>11</td>\n",
       "      <td>6.0</td>\n",
       "    </tr>\n",
       "    <tr>\n",
       "      <th>478965</th>\n",
       "      <td>216274</td>\n",
       "      <td>4391</td>\n",
       "      <td>3</td>\n",
       "      <td>3</td>\n",
       "      <td>8</td>\n",
       "      <td>8.0</td>\n",
       "    </tr>\n",
       "    <tr>\n",
       "      <th>478966</th>\n",
       "      <td>2071924</td>\n",
       "      <td>1730</td>\n",
       "      <td>18</td>\n",
       "      <td>1</td>\n",
       "      <td>14</td>\n",
       "      <td>15.0</td>\n",
       "    </tr>\n",
       "  </tbody>\n",
       "</table>\n",
       "<p>478952 rows × 6 columns</p>\n",
       "</div>"
      ],
      "text/plain": [
       "        order_id  user_id  order_number  order_dow  order_hour_of_day  \\\n",
       "0        1515936   183418            11          6                 13   \n",
       "1        1690866   163593             5          5                 12   \n",
       "2        1454967    39980             4          5                 19   \n",
       "3        1768857    82516            56          0                 20   \n",
       "4        3007858   196724             2          4                 12   \n",
       "...          ...      ...           ...        ...                ...   \n",
       "478962   3210681     5617             5          1                 14   \n",
       "478963   3270802   112087             2          3                 13   \n",
       "478964    885349    82944            16          2                 11   \n",
       "478965    216274     4391             3          3                  8   \n",
       "478966   2071924     1730            18          1                 14   \n",
       "\n",
       "        days_since_prior_order  \n",
       "0                         30.0  \n",
       "1                          9.0  \n",
       "2                          2.0  \n",
       "3                         10.0  \n",
       "4                         17.0  \n",
       "...                        ...  \n",
       "478962                     7.0  \n",
       "478963                     6.0  \n",
       "478964                     6.0  \n",
       "478965                     8.0  \n",
       "478966                    15.0  \n",
       "\n",
       "[478952 rows x 6 columns]"
      ]
     },
     "metadata": {},
     "output_type": "display_data"
    }
   ],
   "source": [
    "#display data frame \n",
    "instacart_orders.info()\n",
    "display(instacart_orders)"
   ]
  },
  {
   "cell_type": "code",
   "execution_count": 38,
   "id": "166e5a86",
   "metadata": {
    "trusted": false
   },
   "outputs": [
    {
     "data": {
      "text/plain": [
       "28817"
      ]
     },
     "execution_count": 38,
     "metadata": {},
     "output_type": "execute_result"
    }
   ],
   "source": [
    "# Are there any missing values where it's not a customer's first order?\n",
    "instacart_orders['days_since_prior_order'].isnull().sum()"
   ]
  },
  {
   "cell_type": "markdown",
   "id": "4e23d089",
   "metadata": {},
   "source": []
  },
  {
   "cell_type": "markdown",
   "id": "69dc9ca4",
   "metadata": {},
   "source": [
    "### `order_products` data frame"
   ]
  },
  {
   "cell_type": "code",
   "execution_count": 39,
   "id": "b8240253",
   "metadata": {
    "trusted": false
   },
   "outputs": [
    {
     "data": {
      "text/html": [
       "<div>\n",
       "<style scoped>\n",
       "    .dataframe tbody tr th:only-of-type {\n",
       "        vertical-align: middle;\n",
       "    }\n",
       "\n",
       "    .dataframe tbody tr th {\n",
       "        vertical-align: top;\n",
       "    }\n",
       "\n",
       "    .dataframe thead th {\n",
       "        text-align: right;\n",
       "    }\n",
       "</style>\n",
       "<table border=\"1\" class=\"dataframe\">\n",
       "  <thead>\n",
       "    <tr style=\"text-align: right;\">\n",
       "      <th></th>\n",
       "      <th>order_id</th>\n",
       "      <th>product_id</th>\n",
       "      <th>add_to_cart_order</th>\n",
       "      <th>reordered</th>\n",
       "    </tr>\n",
       "  </thead>\n",
       "  <tbody>\n",
       "    <tr>\n",
       "      <th>0</th>\n",
       "      <td>2141543</td>\n",
       "      <td>11440</td>\n",
       "      <td>17.0</td>\n",
       "      <td>0</td>\n",
       "    </tr>\n",
       "    <tr>\n",
       "      <th>1</th>\n",
       "      <td>567889</td>\n",
       "      <td>1560</td>\n",
       "      <td>1.0</td>\n",
       "      <td>1</td>\n",
       "    </tr>\n",
       "    <tr>\n",
       "      <th>2</th>\n",
       "      <td>2261212</td>\n",
       "      <td>26683</td>\n",
       "      <td>1.0</td>\n",
       "      <td>1</td>\n",
       "    </tr>\n",
       "    <tr>\n",
       "      <th>3</th>\n",
       "      <td>491251</td>\n",
       "      <td>8670</td>\n",
       "      <td>35.0</td>\n",
       "      <td>1</td>\n",
       "    </tr>\n",
       "    <tr>\n",
       "      <th>4</th>\n",
       "      <td>2571142</td>\n",
       "      <td>1940</td>\n",
       "      <td>5.0</td>\n",
       "      <td>1</td>\n",
       "    </tr>\n",
       "    <tr>\n",
       "      <th>...</th>\n",
       "      <td>...</td>\n",
       "      <td>...</td>\n",
       "      <td>...</td>\n",
       "      <td>...</td>\n",
       "    </tr>\n",
       "    <tr>\n",
       "      <th>4545002</th>\n",
       "      <td>577211</td>\n",
       "      <td>15290</td>\n",
       "      <td>12.0</td>\n",
       "      <td>1</td>\n",
       "    </tr>\n",
       "    <tr>\n",
       "      <th>4545003</th>\n",
       "      <td>1219554</td>\n",
       "      <td>21914</td>\n",
       "      <td>9.0</td>\n",
       "      <td>0</td>\n",
       "    </tr>\n",
       "    <tr>\n",
       "      <th>4545004</th>\n",
       "      <td>692640</td>\n",
       "      <td>47766</td>\n",
       "      <td>4.0</td>\n",
       "      <td>1</td>\n",
       "    </tr>\n",
       "    <tr>\n",
       "      <th>4545005</th>\n",
       "      <td>319435</td>\n",
       "      <td>691</td>\n",
       "      <td>8.0</td>\n",
       "      <td>1</td>\n",
       "    </tr>\n",
       "    <tr>\n",
       "      <th>4545006</th>\n",
       "      <td>1398151</td>\n",
       "      <td>28733</td>\n",
       "      <td>9.0</td>\n",
       "      <td>0</td>\n",
       "    </tr>\n",
       "  </tbody>\n",
       "</table>\n",
       "<p>4545007 rows × 4 columns</p>\n",
       "</div>"
      ],
      "text/plain": [
       "         order_id  product_id  add_to_cart_order  reordered\n",
       "0         2141543       11440               17.0          0\n",
       "1          567889        1560                1.0          1\n",
       "2         2261212       26683                1.0          1\n",
       "3          491251        8670               35.0          1\n",
       "4         2571142        1940                5.0          1\n",
       "...           ...         ...                ...        ...\n",
       "4545002    577211       15290               12.0          1\n",
       "4545003   1219554       21914                9.0          0\n",
       "4545004    692640       47766                4.0          1\n",
       "4545005    319435         691                8.0          1\n",
       "4545006   1398151       28733                9.0          0\n",
       "\n",
       "[4545007 rows x 4 columns]"
      ]
     },
     "metadata": {},
     "output_type": "display_data"
    }
   ],
   "source": [
    "#display data frame \n",
    "display(order_products)"
   ]
  },
  {
   "cell_type": "code",
   "execution_count": 40,
   "id": "9a78e5ee",
   "metadata": {
    "trusted": false
   },
   "outputs": [
    {
     "data": {
      "text/plain": [
       "1.0"
      ]
     },
     "metadata": {},
     "output_type": "display_data"
    },
    {
     "data": {
      "text/plain": [
       "64.0"
      ]
     },
     "metadata": {},
     "output_type": "display_data"
    }
   ],
   "source": [
    "# What are the min and max values in this column?\n",
    "min_value_col = order_products['add_to_cart_order'].min() \n",
    "max_value_col = order_products['add_to_cart_order'].max() \n",
    "display(min_value_col)\n",
    "display(max_value_col)"
   ]
  },
  {
   "cell_type": "code",
   "execution_count": 41,
   "id": "ab9d0c2b",
   "metadata": {
    "trusted": false
   },
   "outputs": [
    {
     "data": {
      "text/html": [
       "<div>\n",
       "<style scoped>\n",
       "    .dataframe tbody tr th:only-of-type {\n",
       "        vertical-align: middle;\n",
       "    }\n",
       "\n",
       "    .dataframe tbody tr th {\n",
       "        vertical-align: top;\n",
       "    }\n",
       "\n",
       "    .dataframe thead th {\n",
       "        text-align: right;\n",
       "    }\n",
       "</style>\n",
       "<table border=\"1\" class=\"dataframe\">\n",
       "  <thead>\n",
       "    <tr style=\"text-align: right;\">\n",
       "      <th></th>\n",
       "      <th>order_id</th>\n",
       "      <th>product_id</th>\n",
       "      <th>add_to_cart_order</th>\n",
       "      <th>reordered</th>\n",
       "    </tr>\n",
       "  </thead>\n",
       "  <tbody>\n",
       "    <tr>\n",
       "      <th>737</th>\n",
       "      <td>2449164</td>\n",
       "      <td>5068</td>\n",
       "      <td>NaN</td>\n",
       "      <td>0</td>\n",
       "    </tr>\n",
       "    <tr>\n",
       "      <th>9926</th>\n",
       "      <td>1968313</td>\n",
       "      <td>43867</td>\n",
       "      <td>NaN</td>\n",
       "      <td>0</td>\n",
       "    </tr>\n",
       "    <tr>\n",
       "      <th>14394</th>\n",
       "      <td>2926893</td>\n",
       "      <td>11688</td>\n",
       "      <td>NaN</td>\n",
       "      <td>0</td>\n",
       "    </tr>\n",
       "    <tr>\n",
       "      <th>16418</th>\n",
       "      <td>1717990</td>\n",
       "      <td>4142</td>\n",
       "      <td>NaN</td>\n",
       "      <td>0</td>\n",
       "    </tr>\n",
       "    <tr>\n",
       "      <th>30114</th>\n",
       "      <td>1959075</td>\n",
       "      <td>42828</td>\n",
       "      <td>NaN</td>\n",
       "      <td>1</td>\n",
       "    </tr>\n",
       "    <tr>\n",
       "      <th>...</th>\n",
       "      <td>...</td>\n",
       "      <td>...</td>\n",
       "      <td>...</td>\n",
       "      <td>...</td>\n",
       "    </tr>\n",
       "    <tr>\n",
       "      <th>4505662</th>\n",
       "      <td>1800005</td>\n",
       "      <td>7411</td>\n",
       "      <td>NaN</td>\n",
       "      <td>0</td>\n",
       "    </tr>\n",
       "    <tr>\n",
       "      <th>4511400</th>\n",
       "      <td>1633337</td>\n",
       "      <td>260</td>\n",
       "      <td>NaN</td>\n",
       "      <td>0</td>\n",
       "    </tr>\n",
       "    <tr>\n",
       "      <th>4517562</th>\n",
       "      <td>404157</td>\n",
       "      <td>9517</td>\n",
       "      <td>NaN</td>\n",
       "      <td>0</td>\n",
       "    </tr>\n",
       "    <tr>\n",
       "      <th>4534112</th>\n",
       "      <td>1673227</td>\n",
       "      <td>17835</td>\n",
       "      <td>NaN</td>\n",
       "      <td>0</td>\n",
       "    </tr>\n",
       "    <tr>\n",
       "      <th>4535739</th>\n",
       "      <td>1832957</td>\n",
       "      <td>17949</td>\n",
       "      <td>NaN</td>\n",
       "      <td>1</td>\n",
       "    </tr>\n",
       "  </tbody>\n",
       "</table>\n",
       "<p>836 rows × 4 columns</p>\n",
       "</div>"
      ],
      "text/plain": [
       "         order_id  product_id  add_to_cart_order  reordered\n",
       "737       2449164        5068                NaN          0\n",
       "9926      1968313       43867                NaN          0\n",
       "14394     2926893       11688                NaN          0\n",
       "16418     1717990        4142                NaN          0\n",
       "30114     1959075       42828                NaN          1\n",
       "...           ...         ...                ...        ...\n",
       "4505662   1800005        7411                NaN          0\n",
       "4511400   1633337         260                NaN          0\n",
       "4517562    404157        9517                NaN          0\n",
       "4534112   1673227       17835                NaN          0\n",
       "4535739   1832957       17949                NaN          1\n",
       "\n",
       "[836 rows x 4 columns]"
      ]
     },
     "metadata": {},
     "output_type": "display_data"
    }
   ],
   "source": [
    "# Save all order IDs with at least one missing value in 'add_to_cart_order'\n",
    "miss_add_to_cart = order_products[order_products['add_to_cart_order'].isnull()]\n",
    "display(miss_add_to_cart)"
   ]
  },
  {
   "cell_type": "code",
   "execution_count": 42,
   "id": "54c31695",
   "metadata": {
    "trusted": false
   },
   "outputs": [
    {
     "data": {
      "text/plain": [
       "Series([], dtype: int64)"
      ]
     },
     "execution_count": 42,
     "metadata": {},
     "output_type": "execute_result"
    }
   ],
   "source": [
    "# Do all orders with missing values have more than 64 products?\n",
    "order_products[order_products['order_id'].isin(miss_add_to_cart)].groupby('order_id').size().sort_values()\n"
   ]
  },
  {
   "cell_type": "code",
   "execution_count": 43,
   "id": "7a987d08",
   "metadata": {
    "trusted": false
   },
   "outputs": [
    {
     "data": {
      "text/html": [
       "<div>\n",
       "<style scoped>\n",
       "    .dataframe tbody tr th:only-of-type {\n",
       "        vertical-align: middle;\n",
       "    }\n",
       "\n",
       "    .dataframe tbody tr th {\n",
       "        vertical-align: top;\n",
       "    }\n",
       "\n",
       "    .dataframe thead th {\n",
       "        text-align: right;\n",
       "    }\n",
       "</style>\n",
       "<table border=\"1\" class=\"dataframe\">\n",
       "  <thead>\n",
       "    <tr style=\"text-align: right;\">\n",
       "      <th></th>\n",
       "      <th>order_id</th>\n",
       "      <th>product_id</th>\n",
       "      <th>add_to_cart_order</th>\n",
       "      <th>reordered</th>\n",
       "    </tr>\n",
       "  </thead>\n",
       "  <tbody>\n",
       "    <tr>\n",
       "      <th>0</th>\n",
       "      <td>2141543</td>\n",
       "      <td>11440</td>\n",
       "      <td>17</td>\n",
       "      <td>0</td>\n",
       "    </tr>\n",
       "    <tr>\n",
       "      <th>1</th>\n",
       "      <td>567889</td>\n",
       "      <td>1560</td>\n",
       "      <td>1</td>\n",
       "      <td>1</td>\n",
       "    </tr>\n",
       "    <tr>\n",
       "      <th>2</th>\n",
       "      <td>2261212</td>\n",
       "      <td>26683</td>\n",
       "      <td>1</td>\n",
       "      <td>1</td>\n",
       "    </tr>\n",
       "    <tr>\n",
       "      <th>3</th>\n",
       "      <td>491251</td>\n",
       "      <td>8670</td>\n",
       "      <td>35</td>\n",
       "      <td>1</td>\n",
       "    </tr>\n",
       "    <tr>\n",
       "      <th>4</th>\n",
       "      <td>2571142</td>\n",
       "      <td>1940</td>\n",
       "      <td>5</td>\n",
       "      <td>1</td>\n",
       "    </tr>\n",
       "    <tr>\n",
       "      <th>...</th>\n",
       "      <td>...</td>\n",
       "      <td>...</td>\n",
       "      <td>...</td>\n",
       "      <td>...</td>\n",
       "    </tr>\n",
       "    <tr>\n",
       "      <th>4545002</th>\n",
       "      <td>577211</td>\n",
       "      <td>15290</td>\n",
       "      <td>12</td>\n",
       "      <td>1</td>\n",
       "    </tr>\n",
       "    <tr>\n",
       "      <th>4545003</th>\n",
       "      <td>1219554</td>\n",
       "      <td>21914</td>\n",
       "      <td>9</td>\n",
       "      <td>0</td>\n",
       "    </tr>\n",
       "    <tr>\n",
       "      <th>4545004</th>\n",
       "      <td>692640</td>\n",
       "      <td>47766</td>\n",
       "      <td>4</td>\n",
       "      <td>1</td>\n",
       "    </tr>\n",
       "    <tr>\n",
       "      <th>4545005</th>\n",
       "      <td>319435</td>\n",
       "      <td>691</td>\n",
       "      <td>8</td>\n",
       "      <td>1</td>\n",
       "    </tr>\n",
       "    <tr>\n",
       "      <th>4545006</th>\n",
       "      <td>1398151</td>\n",
       "      <td>28733</td>\n",
       "      <td>9</td>\n",
       "      <td>0</td>\n",
       "    </tr>\n",
       "  </tbody>\n",
       "</table>\n",
       "<p>4545007 rows × 4 columns</p>\n",
       "</div>"
      ],
      "text/plain": [
       "         order_id  product_id  add_to_cart_order  reordered\n",
       "0         2141543       11440                 17          0\n",
       "1          567889        1560                  1          1\n",
       "2         2261212       26683                  1          1\n",
       "3          491251        8670                 35          1\n",
       "4         2571142        1940                  5          1\n",
       "...           ...         ...                ...        ...\n",
       "4545002    577211       15290                 12          1\n",
       "4545003   1219554       21914                  9          0\n",
       "4545004    692640       47766                  4          1\n",
       "4545005    319435         691                  8          1\n",
       "4545006   1398151       28733                  9          0\n",
       "\n",
       "[4545007 rows x 4 columns]"
      ]
     },
     "metadata": {},
     "output_type": "display_data"
    }
   ],
   "source": [
    "# Replace missing values with 999 and convert column to integer type\n",
    "order_products['add_to_cart_order']= order_products['add_to_cart_order'].fillna(999).astype(int)\n",
    "display(order_products)"
   ]
  },
  {
   "cell_type": "markdown",
   "id": "fea4bcc7",
   "metadata": {},
   "source": []
  },
  {
   "cell_type": "markdown",
   "id": "turkish-kidney",
   "metadata": {},
   "source": [
    "# [A] Easy (must complete all to pass)"
   ]
  },
  {
   "cell_type": "markdown",
   "id": "short-capability",
   "metadata": {},
   "source": [
    "### [A1] Verify that the `'order_hour_of_day'` and `'order_dow'` values in the `orders` tables are sensible (i.e. `'order_hour_of_day'` ranges from 0 to 23 and `'order_dow'` ranges from 0 to 6)"
   ]
  },
  {
   "cell_type": "code",
   "execution_count": 44,
   "id": "growing-fruit",
   "metadata": {
    "trusted": false
   },
   "outputs": [
    {
     "data": {
      "text/plain": [
       "'Order hour of day ranges from 0 to 23.'"
      ]
     },
     "metadata": {},
     "output_type": "display_data"
    }
   ],
   "source": [
    "#show hour of day ranges\n",
    "hour_min = instacart_orders['order_hour_of_day'].min()\n",
    "hour_max = instacart_orders['order_hour_of_day'].max()\n",
    "display(f\"Order hour of day ranges from {hour_min} to {hour_max}.\")"
   ]
  },
  {
   "cell_type": "code",
   "execution_count": 45,
   "id": "accessory-malaysia",
   "metadata": {
    "trusted": false
   },
   "outputs": [
    {
     "data": {
      "text/plain": [
       "'Order day of week ranges from 0 to 6.'"
      ]
     },
     "metadata": {},
     "output_type": "display_data"
    }
   ],
   "source": [
    "#show day of week ranges\n",
    "dow_min = instacart_orders['order_dow'].min()\n",
    "dow_max = instacart_orders['order_dow'].max()\n",
    "display(f\"Order day of week ranges from {dow_min} to {dow_max}.\")"
   ]
  },
  {
   "cell_type": "markdown",
   "id": "a6743a70",
   "metadata": {},
   "source": [
    "### [A2] What time of day do people shop for groceries?"
   ]
  },
  {
   "cell_type": "code",
   "execution_count": 46,
   "id": "a36cca27",
   "metadata": {
    "trusted": false
   },
   "outputs": [
    {
     "data": {
      "image/png": "[encoded data removed]",
      "text/plain": [
       "<Figure size 640x480 with 1 Axes>"
      ]
     },
     "metadata": {},
     "output_type": "display_data"
    }
   ],
   "source": [
    "#import plt \n",
    "import matplotlib.pyplot as plt \n",
    "#Show most popular time of day\n",
    "instacart_orders['order_hour_of_day'].value_counts().sort_index().plot(kind='bar',\n",
    "title = 'Most Popular Time of Day',\n",
    "xlabel='Time of Day',\n",
    "ylabel='Orders Placed')\n",
    "plt.show()\n"
   ]
  },
  {
   "cell_type": "markdown",
   "id": "aefe2c5d",
   "metadata": {},
   "source": [
    "Conclusion: People typically prefer to shop in the mid morning and afternoon, then at night or early hours of the morning. "
   ]
  },
  {
   "cell_type": "markdown",
   "id": "documented-command",
   "metadata": {},
   "source": [
    "### [A3] What day of the week do people shop for groceries?"
   ]
  },
  {
   "cell_type": "code",
   "execution_count": 47,
   "id": "chief-digit",
   "metadata": {
    "trusted": false
   },
   "outputs": [
    {
     "data": {
      "image/png": "[encoded data removed]",
      "text/plain": [
       "<Figure size 640x480 with 1 Axes>"
      ]
     },
     "metadata": {},
     "output_type": "display_data"
    }
   ],
   "source": [
    "#import plt \n",
    "import matplotlib.pyplot as plt \n",
    "#most popular day of week\n",
    "instacart_orders['order_dow'].value_counts().sort_index().plot(kind='bar', \n",
    "title = 'Most Popular Day of Week',\n",
    "xlabel='Day of Week',\n",
    "ylabel='Orders Placed')\n",
    "plt.show()\n",
    "                                            "
   ]
  },
  {
   "cell_type": "markdown",
   "id": "c40e4b8c",
   "metadata": {},
   "source": [
    "Conclusion: Weekends are the most popular day of the week to shop on instacart. "
   ]
  },
  {
   "cell_type": "markdown",
   "id": "dominant-lightning",
   "metadata": {},
   "source": []
  },
  {
   "cell_type": "markdown",
   "id": "cutting-concert",
   "metadata": {},
   "source": [
    "### [A4] How long do people wait until placing another order?"
   ]
  },
  {
   "cell_type": "code",
   "execution_count": 48,
   "id": "c231f523",
   "metadata": {
    "trusted": false
   },
   "outputs": [
    {
     "data": {
      "text/plain": [
       "Text(0, 0.5, 'Orders Placed')"
      ]
     },
     "execution_count": 48,
     "metadata": {},
     "output_type": "execute_result"
    },
    {
     "data": {
      "image/png": "[encoded data removed]",
      "text/plain": [
       "<Figure size 640x480 with 1 Axes>"
      ]
     },
     "metadata": {},
     "output_type": "display_data"
    }
   ],
   "source": [
    "#import plt \n",
    "import matplotlib.pyplot as plt \n",
    "#time between orders\n",
    "instacart_orders['days_since_prior_order'].plot(kind='hist')\n",
    "plt.title('Days Since Prior Order')\n",
    "plt.xlabel('Days') \n",
    "plt.ylabel('Orders Placed') \n"
   ]
  },
  {
   "cell_type": "markdown",
   "id": "3b0f5dc8",
   "metadata": {},
   "source": [
    "Conclusion: Orders are typically placed within 5-10 days of the previous orders. "
   ]
  },
  {
   "cell_type": "code",
   "execution_count": null,
   "id": "exciting-fantasy",
   "metadata": {
    "trusted": false
   },
   "outputs": [],
   "source": []
  },
  {
   "cell_type": "markdown",
   "id": "tight-staff",
   "metadata": {},
   "source": [
    "# [B] Medium (must complete all to pass)"
   ]
  },
  {
   "cell_type": "markdown",
   "id": "packed-classic",
   "metadata": {},
   "source": [
    "### [B1] Is there a difference in `'order_hour_of_day'` distributions on Wednesdays and Saturdays? Plot the histograms for both days and describe the differences that you see."
   ]
  },
  {
   "cell_type": "code",
   "execution_count": 49,
   "id": "d89b8403",
   "metadata": {
    "trusted": false
   },
   "outputs": [
    {
     "data": {
      "image/png": "[encoded data removed]",
      "text/plain": [
       "<Figure size 1200x600 with 1 Axes>"
      ]
     },
     "metadata": {},
     "output_type": "display_data"
    }
   ],
   "source": [
    "#Import plot\n",
    "import matplotlib.pyplot as plt \n",
    "\n",
    "# Saturday is 0 and Wednesday is 5 \n",
    "saturday_orders = instacart_orders[instacart_orders ['order_dow'] ==0] \n",
    "wednesday_orders = instacart_orders[instacart_orders ['order_dow'] ==5]\n",
    "\n",
    "#Create histogram to show distrubtion on Wednesday & Saturdays \n",
    "plt.figure(figsize=(12,6))\n",
    "bins = range(24)\n",
    "saturday_orders ['order_hour_of_day'].hist(bins=bins, alpha=0.5, label='Saturday')\n",
    "wednesday_orders ['order_hour_of_day'].hist(bins=bins, alpha=0.5, label='Wednesday')\n",
    "\n",
    "plt.title('Order Hour Distribution for Wednesday vs Saturdays')\n",
    "plt.xlabel('Order Hour of Day')\n",
    "plt.ylabel('Number of Orders')\n",
    "plt.xlim(left=0)\n",
    "plt.ylim(bottom=0)\n",
    "plt.legend() \n",
    "plt.show()\n",
    "\n",
    "# Describe the difference: More orders are placed on Saturday, then Wednesday. Orders placed on Saturday are most popular at hour 16. While, orders place on Wednesday are most commonly placed at hour 10. "
   ]
  },
  {
   "cell_type": "markdown",
   "id": "87b7401e",
   "metadata": {},
   "source": [
    "Conclusion: Saturday is the most popular day to place orders at about hour 16. While Wednesday typically sees an increase in orders at hour 10. "
   ]
  },
  {
   "cell_type": "code",
   "execution_count": null,
   "id": "94e54e8a",
   "metadata": {
    "trusted": false
   },
   "outputs": [],
   "source": []
  },
  {
   "cell_type": "code",
   "execution_count": null,
   "id": "797c90a8",
   "metadata": {
    "trusted": false
   },
   "outputs": [],
   "source": []
  },
  {
   "cell_type": "code",
   "execution_count": null,
   "id": "35bcea30",
   "metadata": {
    "trusted": false
   },
   "outputs": [],
   "source": []
  },
  {
   "cell_type": "markdown",
   "id": "charitable-congo",
   "metadata": {},
   "source": []
  },
  {
   "cell_type": "markdown",
   "id": "e3891143",
   "metadata": {},
   "source": [
    "### [B2] What's the distribution for the number of orders per customer?"
   ]
  },
  {
   "cell_type": "code",
   "execution_count": 50,
   "id": "d8c26c23",
   "metadata": {
    "trusted": false
   },
   "outputs": [
    {
     "data": {
      "image/png": "[encoded data removed]",
      "text/plain": [
       "<Figure size 1200x600 with 1 Axes>"
      ]
     },
     "metadata": {},
     "output_type": "display_data"
    }
   ],
   "source": [
    "#Show distribution for the number of orders per customer\n",
    "import matplotlib.pyplot as plt \n",
    "num_orders_per_customer = instacart_orders.groupby('user_id')['order_id'].count()\n",
    "\n",
    "plt.figure(figsize=(12,6))\n",
    "plt.hist(num_orders_per_customer, color='blue', bins=28)\n",
    "bins = range(24)\n",
    "plt.title('Distribution of Orders Per Customer')\n",
    "plt.xlabel('Number of Orders')\n",
    "plt.ylabel('Number of Customers')\n",
    "plt.show()"
   ]
  },
  {
   "cell_type": "markdown",
   "id": "fbf9f8fd",
   "metadata": {},
   "source": [
    "Conclusion: The skewed graph indicates that the majority of customers place less than 5 orders. "
   ]
  },
  {
   "cell_type": "code",
   "execution_count": null,
   "id": "00e69a66",
   "metadata": {
    "trusted": false
   },
   "outputs": [],
   "source": []
  },
  {
   "cell_type": "markdown",
   "id": "d2eff7d5",
   "metadata": {},
   "source": []
  },
  {
   "cell_type": "markdown",
   "id": "54a0319c",
   "metadata": {},
   "source": [
    "### [B3] What are the top 20 popular products (display their id and name)?"
   ]
  },
  {
   "cell_type": "code",
   "execution_count": 51,
   "id": "exterior-arizona",
   "metadata": {
    "scrolled": true,
    "trusted": false
   },
   "outputs": [],
   "source": [
    "#20 most popular products \n",
    "popular_products = order_products['product_id'].value_counts().head(20)\n",
    "df_popular_products = pd.DataFrame(popular_products).reset_index()\n",
    "df_popular_products.columns= ['product_id', 'order_count'] "
   ]
  },
  {
   "cell_type": "code",
   "execution_count": 52,
   "id": "universal-facial",
   "metadata": {
    "trusted": false
   },
   "outputs": [],
   "source": [
    "#Merge \n",
    "df_product_names = df_popular_products.merge(products, on = 'product_id') "
   ]
  },
  {
   "cell_type": "code",
   "execution_count": 53,
   "id": "bbcdd20b",
   "metadata": {
    "trusted": false
   },
   "outputs": [
    {
     "data": {
      "text/html": [
       "<div>\n",
       "<style scoped>\n",
       "    .dataframe tbody tr th:only-of-type {\n",
       "        vertical-align: middle;\n",
       "    }\n",
       "\n",
       "    .dataframe tbody tr th {\n",
       "        vertical-align: top;\n",
       "    }\n",
       "\n",
       "    .dataframe thead th {\n",
       "        text-align: right;\n",
       "    }\n",
       "</style>\n",
       "<table border=\"1\" class=\"dataframe\">\n",
       "  <thead>\n",
       "    <tr style=\"text-align: right;\">\n",
       "      <th></th>\n",
       "      <th>product_id</th>\n",
       "      <th>order_count</th>\n",
       "      <th>product_name</th>\n",
       "      <th>aisle_id</th>\n",
       "      <th>department_id</th>\n",
       "    </tr>\n",
       "  </thead>\n",
       "  <tbody>\n",
       "    <tr>\n",
       "      <th>0</th>\n",
       "      <td>24852</td>\n",
       "      <td>66050</td>\n",
       "      <td>Banana</td>\n",
       "      <td>24</td>\n",
       "      <td>4</td>\n",
       "    </tr>\n",
       "    <tr>\n",
       "      <th>1</th>\n",
       "      <td>13176</td>\n",
       "      <td>53297</td>\n",
       "      <td>Bag of Organic Bananas</td>\n",
       "      <td>24</td>\n",
       "      <td>4</td>\n",
       "    </tr>\n",
       "    <tr>\n",
       "      <th>2</th>\n",
       "      <td>21137</td>\n",
       "      <td>37039</td>\n",
       "      <td>Organic Strawberries</td>\n",
       "      <td>24</td>\n",
       "      <td>4</td>\n",
       "    </tr>\n",
       "    <tr>\n",
       "      <th>3</th>\n",
       "      <td>21903</td>\n",
       "      <td>33971</td>\n",
       "      <td>Organic Baby Spinach</td>\n",
       "      <td>123</td>\n",
       "      <td>4</td>\n",
       "    </tr>\n",
       "    <tr>\n",
       "      <th>4</th>\n",
       "      <td>47209</td>\n",
       "      <td>29773</td>\n",
       "      <td>Organic Hass Avocado</td>\n",
       "      <td>24</td>\n",
       "      <td>4</td>\n",
       "    </tr>\n",
       "    <tr>\n",
       "      <th>5</th>\n",
       "      <td>47766</td>\n",
       "      <td>24689</td>\n",
       "      <td>Organic Avocado</td>\n",
       "      <td>24</td>\n",
       "      <td>4</td>\n",
       "    </tr>\n",
       "    <tr>\n",
       "      <th>6</th>\n",
       "      <td>47626</td>\n",
       "      <td>21495</td>\n",
       "      <td>Large Lemon</td>\n",
       "      <td>24</td>\n",
       "      <td>4</td>\n",
       "    </tr>\n",
       "    <tr>\n",
       "      <th>7</th>\n",
       "      <td>16797</td>\n",
       "      <td>20018</td>\n",
       "      <td>Strawberries</td>\n",
       "      <td>24</td>\n",
       "      <td>4</td>\n",
       "    </tr>\n",
       "    <tr>\n",
       "      <th>8</th>\n",
       "      <td>26209</td>\n",
       "      <td>19690</td>\n",
       "      <td>Limes</td>\n",
       "      <td>24</td>\n",
       "      <td>4</td>\n",
       "    </tr>\n",
       "    <tr>\n",
       "      <th>9</th>\n",
       "      <td>27845</td>\n",
       "      <td>19600</td>\n",
       "      <td>Organic Whole Milk</td>\n",
       "      <td>84</td>\n",
       "      <td>16</td>\n",
       "    </tr>\n",
       "    <tr>\n",
       "      <th>10</th>\n",
       "      <td>27966</td>\n",
       "      <td>19197</td>\n",
       "      <td>Organic Raspberries</td>\n",
       "      <td>123</td>\n",
       "      <td>4</td>\n",
       "    </tr>\n",
       "    <tr>\n",
       "      <th>11</th>\n",
       "      <td>22935</td>\n",
       "      <td>15898</td>\n",
       "      <td>Organic Yellow Onion</td>\n",
       "      <td>83</td>\n",
       "      <td>4</td>\n",
       "    </tr>\n",
       "    <tr>\n",
       "      <th>12</th>\n",
       "      <td>24964</td>\n",
       "      <td>15292</td>\n",
       "      <td>Organic Garlic</td>\n",
       "      <td>83</td>\n",
       "      <td>4</td>\n",
       "    </tr>\n",
       "    <tr>\n",
       "      <th>13</th>\n",
       "      <td>45007</td>\n",
       "      <td>14584</td>\n",
       "      <td>Organic Zucchini</td>\n",
       "      <td>83</td>\n",
       "      <td>4</td>\n",
       "    </tr>\n",
       "    <tr>\n",
       "      <th>14</th>\n",
       "      <td>39275</td>\n",
       "      <td>13879</td>\n",
       "      <td>Organic Blueberries</td>\n",
       "      <td>123</td>\n",
       "      <td>4</td>\n",
       "    </tr>\n",
       "    <tr>\n",
       "      <th>15</th>\n",
       "      <td>49683</td>\n",
       "      <td>13675</td>\n",
       "      <td>Cucumber Kirby</td>\n",
       "      <td>83</td>\n",
       "      <td>4</td>\n",
       "    </tr>\n",
       "    <tr>\n",
       "      <th>16</th>\n",
       "      <td>28204</td>\n",
       "      <td>12544</td>\n",
       "      <td>Organic Fuji Apple</td>\n",
       "      <td>24</td>\n",
       "      <td>4</td>\n",
       "    </tr>\n",
       "    <tr>\n",
       "      <th>17</th>\n",
       "      <td>5876</td>\n",
       "      <td>12232</td>\n",
       "      <td>Organic Lemon</td>\n",
       "      <td>24</td>\n",
       "      <td>4</td>\n",
       "    </tr>\n",
       "    <tr>\n",
       "      <th>18</th>\n",
       "      <td>8277</td>\n",
       "      <td>11993</td>\n",
       "      <td>Apple Honeycrisp Organic</td>\n",
       "      <td>24</td>\n",
       "      <td>4</td>\n",
       "    </tr>\n",
       "    <tr>\n",
       "      <th>19</th>\n",
       "      <td>40706</td>\n",
       "      <td>11781</td>\n",
       "      <td>Organic Grape Tomatoes</td>\n",
       "      <td>123</td>\n",
       "      <td>4</td>\n",
       "    </tr>\n",
       "  </tbody>\n",
       "</table>\n",
       "</div>"
      ],
      "text/plain": [
       "    product_id  order_count              product_name  aisle_id  department_id\n",
       "0        24852        66050                    Banana        24              4\n",
       "1        13176        53297    Bag of Organic Bananas        24              4\n",
       "2        21137        37039      Organic Strawberries        24              4\n",
       "3        21903        33971      Organic Baby Spinach       123              4\n",
       "4        47209        29773      Organic Hass Avocado        24              4\n",
       "5        47766        24689           Organic Avocado        24              4\n",
       "6        47626        21495               Large Lemon        24              4\n",
       "7        16797        20018              Strawberries        24              4\n",
       "8        26209        19690                     Limes        24              4\n",
       "9        27845        19600        Organic Whole Milk        84             16\n",
       "10       27966        19197       Organic Raspberries       123              4\n",
       "11       22935        15898      Organic Yellow Onion        83              4\n",
       "12       24964        15292            Organic Garlic        83              4\n",
       "13       45007        14584          Organic Zucchini        83              4\n",
       "14       39275        13879       Organic Blueberries       123              4\n",
       "15       49683        13675            Cucumber Kirby        83              4\n",
       "16       28204        12544        Organic Fuji Apple        24              4\n",
       "17        5876        12232             Organic Lemon        24              4\n",
       "18        8277        11993  Apple Honeycrisp Organic        24              4\n",
       "19       40706        11781    Organic Grape Tomatoes       123              4"
      ]
     },
     "metadata": {},
     "output_type": "display_data"
    }
   ],
   "source": [
    "#Display \n",
    "display(df_product_names)"
   ]
  },
  {
   "cell_type": "markdown",
   "id": "9dfed578",
   "metadata": {},
   "source": [
    "Conclusion: The most popular 20 products is mostly comprised of organic fruit such as bananas with a few vegetables such as zucchini. "
   ]
  },
  {
   "cell_type": "markdown",
   "id": "7df00f47",
   "metadata": {},
   "source": []
  },
  {
   "cell_type": "markdown",
   "id": "gross-theme",
   "metadata": {},
   "source": [
    "# [C] Hard (must complete at least two to pass)"
   ]
  },
  {
   "cell_type": "markdown",
   "id": "romantic-deposit",
   "metadata": {},
   "source": [
    "### [C1] How many items do people typically buy in one order? What does the distribution look like?"
   ]
  },
  {
   "cell_type": "code",
   "execution_count": 54,
   "id": "virtual-punch",
   "metadata": {
    "trusted": false
   },
   "outputs": [
    {
     "data": {
      "image/png": "[encoded data removed]",
      "text/plain": [
       "<Figure size 800x400 with 1 Axes>"
      ]
     },
     "metadata": {},
     "output_type": "display_data"
    }
   ],
   "source": [
    "#import plt\n",
    "import matplotlib.pyplot as plt \n",
    "\n",
    "#Number of items per order calculation \n",
    "number_items_per_order = order_products.groupby('order_id').size()\n",
    "\n",
    "#Creating visual \n",
    "plt.figure(figsize=(8,4))\n",
    "plt.hist(number_items_per_order, color= 'black', bins=20)\n",
    "plt.title ('Distribution of Number of Items per Order')\n",
    "plt.xlabel('Number of Items')\n",
    "plt.ylabel('Distribution of Items')\n",
    "plt.grid()\n",
    "plt.show()"
   ]
  },
  {
   "cell_type": "markdown",
   "id": "f6575ea4",
   "metadata": {},
   "source": [
    "Conclusion: The skewed distribution illustrates most people buy less than 10 items in one order. "
   ]
  },
  {
   "cell_type": "code",
   "execution_count": null,
   "id": "sensitive-breathing",
   "metadata": {
    "trusted": false
   },
   "outputs": [],
   "source": []
  },
  {
   "cell_type": "code",
   "execution_count": null,
   "id": "completed-frank",
   "metadata": {
    "trusted": false
   },
   "outputs": [],
   "source": []
  },
  {
   "cell_type": "markdown",
   "id": "designed-mortality",
   "metadata": {},
   "source": []
  },
  {
   "cell_type": "markdown",
   "id": "5e6b5537",
   "metadata": {},
   "source": [
    "### [C2] What are the top 20 items that are reordered most frequently (display their names and product IDs)?"
   ]
  },
  {
   "cell_type": "code",
   "execution_count": 55,
   "id": "9374e55a",
   "metadata": {
    "trusted": false
   },
   "outputs": [
    {
     "data": {
      "text/html": [
       "<div>\n",
       "<style scoped>\n",
       "    .dataframe tbody tr th:only-of-type {\n",
       "        vertical-align: middle;\n",
       "    }\n",
       "\n",
       "    .dataframe tbody tr th {\n",
       "        vertical-align: top;\n",
       "    }\n",
       "\n",
       "    .dataframe thead th {\n",
       "        text-align: right;\n",
       "    }\n",
       "</style>\n",
       "<table border=\"1\" class=\"dataframe\">\n",
       "  <thead>\n",
       "    <tr style=\"text-align: right;\">\n",
       "      <th></th>\n",
       "      <th>product_id</th>\n",
       "      <th>reorder_count</th>\n",
       "      <th>product_name</th>\n",
       "    </tr>\n",
       "  </thead>\n",
       "  <tbody>\n",
       "    <tr>\n",
       "      <th>0</th>\n",
       "      <td>24852</td>\n",
       "      <td>55763</td>\n",
       "      <td>Banana</td>\n",
       "    </tr>\n",
       "    <tr>\n",
       "      <th>1</th>\n",
       "      <td>13176</td>\n",
       "      <td>44450</td>\n",
       "      <td>Bag of Organic Bananas</td>\n",
       "    </tr>\n",
       "    <tr>\n",
       "      <th>2</th>\n",
       "      <td>21137</td>\n",
       "      <td>28639</td>\n",
       "      <td>Organic Strawberries</td>\n",
       "    </tr>\n",
       "    <tr>\n",
       "      <th>3</th>\n",
       "      <td>21903</td>\n",
       "      <td>26233</td>\n",
       "      <td>Organic Baby Spinach</td>\n",
       "    </tr>\n",
       "    <tr>\n",
       "      <th>4</th>\n",
       "      <td>47209</td>\n",
       "      <td>23629</td>\n",
       "      <td>Organic Hass Avocado</td>\n",
       "    </tr>\n",
       "    <tr>\n",
       "      <th>5</th>\n",
       "      <td>47766</td>\n",
       "      <td>18743</td>\n",
       "      <td>Organic Avocado</td>\n",
       "    </tr>\n",
       "    <tr>\n",
       "      <th>6</th>\n",
       "      <td>27845</td>\n",
       "      <td>16251</td>\n",
       "      <td>Organic Whole Milk</td>\n",
       "    </tr>\n",
       "    <tr>\n",
       "      <th>7</th>\n",
       "      <td>47626</td>\n",
       "      <td>15044</td>\n",
       "      <td>Large Lemon</td>\n",
       "    </tr>\n",
       "    <tr>\n",
       "      <th>8</th>\n",
       "      <td>27966</td>\n",
       "      <td>14748</td>\n",
       "      <td>Organic Raspberries</td>\n",
       "    </tr>\n",
       "    <tr>\n",
       "      <th>9</th>\n",
       "      <td>16797</td>\n",
       "      <td>13945</td>\n",
       "      <td>Strawberries</td>\n",
       "    </tr>\n",
       "    <tr>\n",
       "      <th>10</th>\n",
       "      <td>26209</td>\n",
       "      <td>13327</td>\n",
       "      <td>Limes</td>\n",
       "    </tr>\n",
       "    <tr>\n",
       "      <th>11</th>\n",
       "      <td>22935</td>\n",
       "      <td>11145</td>\n",
       "      <td>Organic Yellow Onion</td>\n",
       "    </tr>\n",
       "    <tr>\n",
       "      <th>12</th>\n",
       "      <td>24964</td>\n",
       "      <td>10411</td>\n",
       "      <td>Organic Garlic</td>\n",
       "    </tr>\n",
       "    <tr>\n",
       "      <th>13</th>\n",
       "      <td>45007</td>\n",
       "      <td>10076</td>\n",
       "      <td>Organic Zucchini</td>\n",
       "    </tr>\n",
       "    <tr>\n",
       "      <th>14</th>\n",
       "      <td>49683</td>\n",
       "      <td>9538</td>\n",
       "      <td>Cucumber Kirby</td>\n",
       "    </tr>\n",
       "    <tr>\n",
       "      <th>15</th>\n",
       "      <td>28204</td>\n",
       "      <td>8989</td>\n",
       "      <td>Organic Fuji Apple</td>\n",
       "    </tr>\n",
       "    <tr>\n",
       "      <th>16</th>\n",
       "      <td>8277</td>\n",
       "      <td>8836</td>\n",
       "      <td>Apple Honeycrisp Organic</td>\n",
       "    </tr>\n",
       "    <tr>\n",
       "      <th>17</th>\n",
       "      <td>39275</td>\n",
       "      <td>8799</td>\n",
       "      <td>Organic Blueberries</td>\n",
       "    </tr>\n",
       "    <tr>\n",
       "      <th>18</th>\n",
       "      <td>5876</td>\n",
       "      <td>8412</td>\n",
       "      <td>Organic Lemon</td>\n",
       "    </tr>\n",
       "    <tr>\n",
       "      <th>19</th>\n",
       "      <td>49235</td>\n",
       "      <td>8389</td>\n",
       "      <td>Organic Half &amp; Half</td>\n",
       "    </tr>\n",
       "  </tbody>\n",
       "</table>\n",
       "</div>"
      ],
      "text/plain": [
       "    product_id  reorder_count              product_name\n",
       "0        24852          55763                    Banana\n",
       "1        13176          44450    Bag of Organic Bananas\n",
       "2        21137          28639      Organic Strawberries\n",
       "3        21903          26233      Organic Baby Spinach\n",
       "4        47209          23629      Organic Hass Avocado\n",
       "5        47766          18743           Organic Avocado\n",
       "6        27845          16251        Organic Whole Milk\n",
       "7        47626          15044               Large Lemon\n",
       "8        27966          14748       Organic Raspberries\n",
       "9        16797          13945              Strawberries\n",
       "10       26209          13327                     Limes\n",
       "11       22935          11145      Organic Yellow Onion\n",
       "12       24964          10411            Organic Garlic\n",
       "13       45007          10076          Organic Zucchini\n",
       "14       49683           9538            Cucumber Kirby\n",
       "15       28204           8989        Organic Fuji Apple\n",
       "16        8277           8836  Apple Honeycrisp Organic\n",
       "17       39275           8799       Organic Blueberries\n",
       "18        5876           8412             Organic Lemon\n",
       "19       49235           8389       Organic Half & Half"
      ]
     },
     "metadata": {},
     "output_type": "display_data"
    }
   ],
   "source": [
    "#Filter names & product IDs most popular items \n",
    "reorder_items =order_products[order_products['reordered']==1] \n",
    "top_reorder_items =reorder_items['product_id'].value_counts().head(20)\n",
    "top_reorder_items =top_reorder_items.reset_index()\n",
    "top_reorder_items.columns= ['product_id','reorder_count']\n",
    "\n",
    "#Merge \n",
    "both_df_merged =top_reorder_items.merge(products[['product_id','product_name']], on='product_id')\n",
    "\n",
    "#Display \n",
    "display(both_df_merged)"
   ]
  },
  {
   "cell_type": "markdown",
   "id": "5400e38b",
   "metadata": {},
   "source": [
    "Conclusion: The items reordered most frequently are organic fruits and a few vegetables. "
   ]
  },
  {
   "cell_type": "code",
   "execution_count": null,
   "id": "possible-change",
   "metadata": {
    "scrolled": true,
    "trusted": false
   },
   "outputs": [],
   "source": []
  },
  {
   "cell_type": "code",
   "execution_count": null,
   "id": "professional-surfing",
   "metadata": {
    "scrolled": true,
    "trusted": false
   },
   "outputs": [],
   "source": []
  },
  {
   "cell_type": "code",
   "execution_count": null,
   "id": "48dd3658",
   "metadata": {
    "trusted": false
   },
   "outputs": [],
   "source": []
  },
  {
   "cell_type": "markdown",
   "id": "80e70c74",
   "metadata": {},
   "source": []
  },
  {
   "cell_type": "markdown",
   "id": "9d312b14",
   "metadata": {},
   "source": [
    "### [C3] For each product, what proportion of its orders are reorders?"
   ]
  },
  {
   "cell_type": "code",
   "execution_count": null,
   "id": "8ae9f4b1",
   "metadata": {
    "trusted": false
   },
   "outputs": [],
   "source": []
  },
  {
   "cell_type": "code",
   "execution_count": null,
   "id": "103e7fe1",
   "metadata": {
    "trusted": false
   },
   "outputs": [],
   "source": []
  },
  {
   "cell_type": "code",
   "execution_count": null,
   "id": "social-individual",
   "metadata": {
    "trusted": false
   },
   "outputs": [],
   "source": []
  },
  {
   "cell_type": "markdown",
   "id": "subject-boxing",
   "metadata": {},
   "source": [
    "### [C4] For each customer, what proportion of their products ordered are reorders?"
   ]
  },
  {
   "cell_type": "code",
   "execution_count": null,
   "id": "medical-couple",
   "metadata": {
    "scrolled": true,
    "trusted": false
   },
   "outputs": [],
   "source": []
  },
  {
   "cell_type": "code",
   "execution_count": null,
   "id": "8892e4b4",
   "metadata": {
    "trusted": false
   },
   "outputs": [],
   "source": []
  },
  {
   "cell_type": "markdown",
   "id": "92d35137",
   "metadata": {},
   "source": [
    "### [C5] What are the top 20 items that people put in their carts first? "
   ]
  },
  {
   "cell_type": "code",
   "execution_count": null,
   "id": "0ae57274",
   "metadata": {
    "scrolled": true,
    "trusted": false
   },
   "outputs": [],
   "source": []
  },
  {
   "cell_type": "code",
   "execution_count": null,
   "id": "forty-netherlands",
   "metadata": {
    "scrolled": true,
    "trusted": false
   },
   "outputs": [],
   "source": []
  },
  {
   "cell_type": "code",
   "execution_count": null,
   "id": "08e41ec2",
   "metadata": {
    "trusted": false
   },
   "outputs": [],
   "source": []
  },
  {
   "cell_type": "markdown",
   "id": "28ce9872",
   "metadata": {},
   "source": []
  },
  {
   "cell_type": "markdown",
   "id": "09d7ba26",
   "metadata": {},
   "source": [
    "Conclusion of Project: The goal of the project was to examine Instacart's customers shopping behaviors by clearning up the data and analyzing the trends in the data. The key findings for this data set were people tend to shop mostly on weekends in the morning and afternoon hours. In addtion shoppers tend to buy mostly fruit especially organic fruit and purchase less than 10 items in an order. A challenge I faced while completing this project was applying my new found knowledge of how to create visualizations of data. I plan to practice this new found skillset and review my learning from sprint 2 by consolidating my notes. "
   ]
  },
  {
   "cell_type": "markdown",
   "id": "6f9f4337",
   "metadata": {},
   "source": []
  }
 ],
 "metadata": {
  "ExecuteTimeLog": [
   {
    "duration": 296,
    "start_time": "2025-02-08T23:05:27.117Z"
   },
   {
    "duration": 281,
    "start_time": "2025-02-08T23:05:36.304Z"
   },
   {
    "duration": 268,
    "start_time": "2025-02-08T23:05:36.587Z"
   },
   {
    "duration": 52,
    "start_time": "2025-02-08T23:05:36.857Z"
   },
   {
    "duration": 6,
    "start_time": "2025-02-08T23:05:36.911Z"
   },
   {
    "duration": 6,
    "start_time": "2025-02-08T23:05:36.918Z"
   },
   {
    "duration": 1914,
    "start_time": "2025-02-08T23:05:36.925Z"
   },
   {
    "duration": 3,
    "start_time": "2025-02-08T23:05:38.843Z"
   },
   {
    "duration": 2,
    "start_time": "2025-02-08T23:05:38.849Z"
   },
   {
    "duration": 3,
    "start_time": "2025-02-08T23:05:38.853Z"
   },
   {
    "duration": 2,
    "start_time": "2025-02-08T23:05:38.860Z"
   },
   {
    "duration": 2,
    "start_time": "2025-02-08T23:05:38.865Z"
   },
   {
    "duration": 3,
    "start_time": "2025-02-08T23:05:38.869Z"
   },
   {
    "duration": 4,
    "start_time": "2025-02-08T23:05:38.873Z"
   },
   {
    "duration": 3,
    "start_time": "2025-02-08T23:05:38.878Z"
   },
   {
    "duration": 3,
    "start_time": "2025-02-08T23:05:38.883Z"
   },
   {
    "duration": 4,
    "start_time": "2025-02-08T23:05:38.887Z"
   },
   {
    "duration": 3,
    "start_time": "2025-02-08T23:05:38.892Z"
   },
   {
    "duration": 47,
    "start_time": "2025-02-08T23:05:38.896Z"
   },
   {
    "duration": 2,
    "start_time": "2025-02-08T23:05:38.944Z"
   },
   {
    "duration": 3,
    "start_time": "2025-02-08T23:05:38.948Z"
   },
   {
    "duration": 3,
    "start_time": "2025-02-08T23:05:38.952Z"
   },
   {
    "duration": 4,
    "start_time": "2025-02-08T23:05:38.956Z"
   },
   {
    "duration": 3,
    "start_time": "2025-02-08T23:05:38.961Z"
   },
   {
    "duration": 3,
    "start_time": "2025-02-08T23:05:38.966Z"
   },
   {
    "duration": 3,
    "start_time": "2025-02-08T23:05:38.971Z"
   },
   {
    "duration": 3,
    "start_time": "2025-02-08T23:05:38.975Z"
   },
   {
    "duration": 2,
    "start_time": "2025-02-08T23:06:05.081Z"
   },
   {
    "duration": 240,
    "start_time": "2025-02-08T23:06:05.740Z"
   },
   {
    "duration": 31,
    "start_time": "2025-02-08T23:06:06.358Z"
   },
   {
    "duration": 7,
    "start_time": "2025-02-08T23:06:07.049Z"
   },
   {
    "duration": 5,
    "start_time": "2025-02-08T23:06:07.720Z"
   },
   {
    "duration": 1853,
    "start_time": "2025-02-08T23:06:08.322Z"
   },
   {
    "duration": 2,
    "start_time": "2025-02-08T23:12:28.771Z"
   },
   {
    "duration": 252,
    "start_time": "2025-02-08T23:12:29.526Z"
   },
   {
    "duration": 6,
    "start_time": "2025-02-08T23:12:30.106Z"
   },
   {
    "duration": 2,
    "start_time": "2025-02-08T23:13:12.718Z"
   },
   {
    "duration": 232,
    "start_time": "2025-02-08T23:13:13.423Z"
   },
   {
    "duration": 20,
    "start_time": "2025-02-08T23:13:14.172Z"
   },
   {
    "duration": 297,
    "start_time": "2025-02-08T23:17:36.184Z"
   },
   {
    "duration": 237,
    "start_time": "2025-02-08T23:17:36.483Z"
   },
   {
    "duration": 25,
    "start_time": "2025-02-08T23:17:36.722Z"
   },
   {
    "duration": 30,
    "start_time": "2025-02-08T23:17:36.750Z"
   },
   {
    "duration": 9,
    "start_time": "2025-02-08T23:17:36.782Z"
   },
   {
    "duration": 6,
    "start_time": "2025-02-08T23:17:36.793Z"
   },
   {
    "duration": 8,
    "start_time": "2025-02-08T23:17:36.800Z"
   },
   {
    "duration": 33,
    "start_time": "2025-02-08T23:17:36.810Z"
   },
   {
    "duration": 9,
    "start_time": "2025-02-08T23:17:36.845Z"
   },
   {
    "duration": 1763,
    "start_time": "2025-02-08T23:17:36.857Z"
   },
   {
    "duration": 128,
    "start_time": "2025-02-08T23:17:38.622Z"
   },
   {
    "duration": 3,
    "start_time": "2025-02-08T23:17:38.751Z"
   },
   {
    "duration": 3,
    "start_time": "2025-02-08T23:17:38.755Z"
   },
   {
    "duration": 3,
    "start_time": "2025-02-08T23:17:38.759Z"
   },
   {
    "duration": 3,
    "start_time": "2025-02-08T23:17:38.764Z"
   },
   {
    "duration": 3,
    "start_time": "2025-02-08T23:17:38.768Z"
   },
   {
    "duration": 3,
    "start_time": "2025-02-08T23:17:38.773Z"
   },
   {
    "duration": 3,
    "start_time": "2025-02-08T23:17:38.777Z"
   },
   {
    "duration": 3,
    "start_time": "2025-02-08T23:17:38.782Z"
   },
   {
    "duration": 2,
    "start_time": "2025-02-08T23:17:38.787Z"
   },
   {
    "duration": 3,
    "start_time": "2025-02-08T23:17:38.791Z"
   },
   {
    "duration": 48,
    "start_time": "2025-02-08T23:17:38.795Z"
   },
   {
    "duration": 3,
    "start_time": "2025-02-08T23:17:38.844Z"
   },
   {
    "duration": 3,
    "start_time": "2025-02-08T23:17:38.848Z"
   },
   {
    "duration": 3,
    "start_time": "2025-02-08T23:17:38.853Z"
   },
   {
    "duration": 3,
    "start_time": "2025-02-08T23:17:38.858Z"
   },
   {
    "duration": 2,
    "start_time": "2025-02-08T23:17:38.863Z"
   },
   {
    "duration": 3,
    "start_time": "2025-02-08T23:17:38.868Z"
   },
   {
    "duration": 3,
    "start_time": "2025-02-08T23:17:38.872Z"
   },
   {
    "duration": 3,
    "start_time": "2025-02-08T23:17:38.877Z"
   },
   {
    "duration": 3,
    "start_time": "2025-02-08T23:17:38.881Z"
   },
   {
    "duration": 284,
    "start_time": "2025-02-08T23:24:44.636Z"
   },
   {
    "duration": 245,
    "start_time": "2025-02-08T23:24:44.922Z"
   },
   {
    "duration": 29,
    "start_time": "2025-02-08T23:24:45.169Z"
   },
   {
    "duration": 10,
    "start_time": "2025-02-08T23:24:45.200Z"
   },
   {
    "duration": 42,
    "start_time": "2025-02-08T23:24:45.212Z"
   },
   {
    "duration": 9,
    "start_time": "2025-02-08T23:24:45.256Z"
   },
   {
    "duration": 2,
    "start_time": "2025-02-08T23:24:45.267Z"
   },
   {
    "duration": 5,
    "start_time": "2025-02-08T23:24:45.271Z"
   },
   {
    "duration": 6,
    "start_time": "2025-02-08T23:24:45.278Z"
   },
   {
    "duration": 2,
    "start_time": "2025-02-08T23:24:45.288Z"
   },
   {
    "duration": 5,
    "start_time": "2025-02-08T23:24:45.292Z"
   },
   {
    "duration": 7,
    "start_time": "2025-02-08T23:24:45.298Z"
   },
   {
    "duration": 37,
    "start_time": "2025-02-08T23:24:45.307Z"
   },
   {
    "duration": 1758,
    "start_time": "2025-02-08T23:24:45.346Z"
   },
   {
    "duration": 126,
    "start_time": "2025-02-08T23:24:47.106Z"
   },
   {
    "duration": 2,
    "start_time": "2025-02-08T23:24:47.243Z"
   },
   {
    "duration": 2,
    "start_time": "2025-02-08T23:24:47.246Z"
   },
   {
    "duration": 2,
    "start_time": "2025-02-08T23:24:47.250Z"
   },
   {
    "duration": 2,
    "start_time": "2025-02-08T23:24:47.254Z"
   },
   {
    "duration": 2,
    "start_time": "2025-02-08T23:24:47.258Z"
   },
   {
    "duration": 2,
    "start_time": "2025-02-08T23:24:47.262Z"
   },
   {
    "duration": 3,
    "start_time": "2025-02-08T23:24:47.266Z"
   },
   {
    "duration": 3,
    "start_time": "2025-02-08T23:24:47.270Z"
   },
   {
    "duration": 2,
    "start_time": "2025-02-08T23:24:47.275Z"
   },
   {
    "duration": 3,
    "start_time": "2025-02-08T23:24:47.279Z"
   },
   {
    "duration": 3,
    "start_time": "2025-02-08T23:24:47.283Z"
   },
   {
    "duration": 3,
    "start_time": "2025-02-08T23:24:47.288Z"
   },
   {
    "duration": 2,
    "start_time": "2025-02-08T23:24:47.343Z"
   },
   {
    "duration": 3,
    "start_time": "2025-02-08T23:24:47.346Z"
   },
   {
    "duration": 4,
    "start_time": "2025-02-08T23:24:47.351Z"
   },
   {
    "duration": 3,
    "start_time": "2025-02-08T23:24:47.356Z"
   },
   {
    "duration": 3,
    "start_time": "2025-02-08T23:24:47.361Z"
   },
   {
    "duration": 3,
    "start_time": "2025-02-08T23:24:47.365Z"
   },
   {
    "duration": 3,
    "start_time": "2025-02-08T23:24:47.370Z"
   },
   {
    "duration": 3,
    "start_time": "2025-02-08T23:24:47.374Z"
   },
   {
    "duration": 3,
    "start_time": "2025-02-08T23:24:47.379Z"
   },
   {
    "duration": 300,
    "start_time": "2025-02-08T23:26:42.099Z"
   },
   {
    "duration": 242,
    "start_time": "2025-02-08T23:26:42.401Z"
   },
   {
    "duration": 21,
    "start_time": "2025-02-08T23:26:42.645Z"
   },
   {
    "duration": 10,
    "start_time": "2025-02-08T23:26:42.668Z"
   },
   {
    "duration": 30,
    "start_time": "2025-02-08T23:26:42.680Z"
   },
   {
    "duration": 9,
    "start_time": "2025-02-08T23:26:42.711Z"
   },
   {
    "duration": 6,
    "start_time": "2025-02-08T23:26:42.745Z"
   },
   {
    "duration": 4,
    "start_time": "2025-02-08T23:26:42.753Z"
   },
   {
    "duration": 7,
    "start_time": "2025-02-08T23:26:42.759Z"
   },
   {
    "duration": 7,
    "start_time": "2025-02-08T23:26:42.768Z"
   },
   {
    "duration": 5,
    "start_time": "2025-02-08T23:26:42.776Z"
   },
   {
    "duration": 8,
    "start_time": "2025-02-08T23:26:42.782Z"
   },
   {
    "duration": 6,
    "start_time": "2025-02-08T23:26:42.791Z"
   },
   {
    "duration": 1824,
    "start_time": "2025-02-08T23:26:42.801Z"
   },
   {
    "duration": 125,
    "start_time": "2025-02-08T23:26:44.627Z"
   },
   {
    "duration": 7,
    "start_time": "2025-02-08T23:26:44.754Z"
   },
   {
    "duration": 2,
    "start_time": "2025-02-08T23:26:44.763Z"
   },
   {
    "duration": 3,
    "start_time": "2025-02-08T23:26:44.767Z"
   },
   {
    "duration": 3,
    "start_time": "2025-02-08T23:26:44.772Z"
   },
   {
    "duration": 3,
    "start_time": "2025-02-08T23:26:44.776Z"
   },
   {
    "duration": 3,
    "start_time": "2025-02-08T23:26:44.781Z"
   },
   {
    "duration": 3,
    "start_time": "2025-02-08T23:26:44.786Z"
   },
   {
    "duration": 3,
    "start_time": "2025-02-08T23:26:44.790Z"
   },
   {
    "duration": 3,
    "start_time": "2025-02-08T23:26:44.795Z"
   },
   {
    "duration": 4,
    "start_time": "2025-02-08T23:26:44.799Z"
   },
   {
    "duration": 2,
    "start_time": "2025-02-08T23:26:44.843Z"
   },
   {
    "duration": 3,
    "start_time": "2025-02-08T23:26:44.847Z"
   },
   {
    "duration": 3,
    "start_time": "2025-02-08T23:26:44.851Z"
   },
   {
    "duration": 2,
    "start_time": "2025-02-08T23:26:44.857Z"
   },
   {
    "duration": 3,
    "start_time": "2025-02-08T23:26:44.861Z"
   },
   {
    "duration": 3,
    "start_time": "2025-02-08T23:26:44.865Z"
   },
   {
    "duration": 2,
    "start_time": "2025-02-08T23:26:44.870Z"
   },
   {
    "duration": 2,
    "start_time": "2025-02-08T23:26:44.875Z"
   },
   {
    "duration": 3,
    "start_time": "2025-02-08T23:26:44.879Z"
   },
   {
    "duration": 3,
    "start_time": "2025-02-08T23:26:44.884Z"
   },
   {
    "duration": 3,
    "start_time": "2025-02-08T23:26:44.888Z"
   },
   {
    "duration": 312,
    "start_time": "2025-02-08T23:32:19.671Z"
   },
   {
    "duration": 241,
    "start_time": "2025-02-08T23:32:19.985Z"
   },
   {
    "duration": 22,
    "start_time": "2025-02-08T23:32:20.227Z"
   },
   {
    "duration": 11,
    "start_time": "2025-02-08T23:32:20.252Z"
   },
   {
    "duration": 29,
    "start_time": "2025-02-08T23:32:20.264Z"
   },
   {
    "duration": 8,
    "start_time": "2025-02-08T23:32:20.295Z"
   },
   {
    "duration": 6,
    "start_time": "2025-02-08T23:32:20.305Z"
   },
   {
    "duration": 30,
    "start_time": "2025-02-08T23:32:20.313Z"
   },
   {
    "duration": 6,
    "start_time": "2025-02-08T23:32:20.345Z"
   },
   {
    "duration": 6,
    "start_time": "2025-02-08T23:32:20.355Z"
   },
   {
    "duration": 5,
    "start_time": "2025-02-08T23:32:20.362Z"
   },
   {
    "duration": 8,
    "start_time": "2025-02-08T23:32:20.368Z"
   },
   {
    "duration": 6,
    "start_time": "2025-02-08T23:32:20.377Z"
   },
   {
    "duration": 1894,
    "start_time": "2025-02-08T23:32:20.384Z"
   },
   {
    "duration": 125,
    "start_time": "2025-02-08T23:32:22.280Z"
   },
   {
    "duration": 6,
    "start_time": "2025-02-08T23:32:22.407Z"
   },
   {
    "duration": 198,
    "start_time": "2025-02-08T23:32:22.415Z"
   },
   {
    "duration": 2,
    "start_time": "2025-02-08T23:32:22.615Z"
   },
   {
    "duration": 2,
    "start_time": "2025-02-08T23:32:22.619Z"
   },
   {
    "duration": 3,
    "start_time": "2025-02-08T23:32:22.623Z"
   },
   {
    "duration": 3,
    "start_time": "2025-02-08T23:32:22.642Z"
   },
   {
    "duration": 3,
    "start_time": "2025-02-08T23:32:22.646Z"
   },
   {
    "duration": 3,
    "start_time": "2025-02-08T23:32:22.650Z"
   },
   {
    "duration": 3,
    "start_time": "2025-02-08T23:32:22.655Z"
   },
   {
    "duration": 2,
    "start_time": "2025-02-08T23:32:22.661Z"
   },
   {
    "duration": 3,
    "start_time": "2025-02-08T23:32:22.665Z"
   },
   {
    "duration": 4,
    "start_time": "2025-02-08T23:32:22.669Z"
   },
   {
    "duration": 2,
    "start_time": "2025-02-08T23:32:22.676Z"
   },
   {
    "duration": 3,
    "start_time": "2025-02-08T23:32:22.680Z"
   },
   {
    "duration": 3,
    "start_time": "2025-02-08T23:32:22.685Z"
   },
   {
    "duration": 3,
    "start_time": "2025-02-08T23:32:22.689Z"
   },
   {
    "duration": 3,
    "start_time": "2025-02-08T23:32:22.694Z"
   },
   {
    "duration": 3,
    "start_time": "2025-02-08T23:32:22.698Z"
   },
   {
    "duration": 2,
    "start_time": "2025-02-08T23:32:22.743Z"
   },
   {
    "duration": 3,
    "start_time": "2025-02-08T23:32:22.747Z"
   },
   {
    "duration": 3,
    "start_time": "2025-02-08T23:32:22.752Z"
   },
   {
    "duration": 323,
    "start_time": "2025-02-08T23:46:09.061Z"
   },
   {
    "duration": 245,
    "start_time": "2025-02-08T23:46:09.386Z"
   },
   {
    "duration": 21,
    "start_time": "2025-02-08T23:46:09.632Z"
   },
   {
    "duration": 11,
    "start_time": "2025-02-08T23:46:09.655Z"
   },
   {
    "duration": 30,
    "start_time": "2025-02-08T23:46:09.667Z"
   },
   {
    "duration": 8,
    "start_time": "2025-02-08T23:46:09.699Z"
   },
   {
    "duration": 36,
    "start_time": "2025-02-08T23:46:09.708Z"
   },
   {
    "duration": 5,
    "start_time": "2025-02-08T23:46:09.745Z"
   },
   {
    "duration": 7,
    "start_time": "2025-02-08T23:46:09.752Z"
   },
   {
    "duration": 6,
    "start_time": "2025-02-08T23:46:09.762Z"
   },
   {
    "duration": 5,
    "start_time": "2025-02-08T23:46:09.770Z"
   },
   {
    "duration": 7,
    "start_time": "2025-02-08T23:46:09.776Z"
   },
   {
    "duration": 5,
    "start_time": "2025-02-08T23:46:09.785Z"
   },
   {
    "duration": 1879,
    "start_time": "2025-02-08T23:46:09.792Z"
   },
   {
    "duration": 125,
    "start_time": "2025-02-08T23:46:11.672Z"
   },
   {
    "duration": 6,
    "start_time": "2025-02-08T23:46:11.799Z"
   },
   {
    "duration": 217,
    "start_time": "2025-02-08T23:46:11.807Z"
   },
   {
    "duration": 567,
    "start_time": "2025-02-08T23:46:12.026Z"
   },
   {
    "duration": 0,
    "start_time": "2025-02-08T23:46:12.595Z"
   },
   {
    "duration": 0,
    "start_time": "2025-02-08T23:46:12.596Z"
   },
   {
    "duration": 0,
    "start_time": "2025-02-08T23:46:12.597Z"
   },
   {
    "duration": 0,
    "start_time": "2025-02-08T23:46:12.598Z"
   },
   {
    "duration": 0,
    "start_time": "2025-02-08T23:46:12.599Z"
   },
   {
    "duration": 0,
    "start_time": "2025-02-08T23:46:12.600Z"
   },
   {
    "duration": 0,
    "start_time": "2025-02-08T23:46:12.601Z"
   },
   {
    "duration": 0,
    "start_time": "2025-02-08T23:46:12.602Z"
   },
   {
    "duration": 0,
    "start_time": "2025-02-08T23:46:12.603Z"
   },
   {
    "duration": 0,
    "start_time": "2025-02-08T23:46:12.605Z"
   },
   {
    "duration": 0,
    "start_time": "2025-02-08T23:46:12.606Z"
   },
   {
    "duration": 0,
    "start_time": "2025-02-08T23:46:12.608Z"
   },
   {
    "duration": 0,
    "start_time": "2025-02-08T23:46:12.608Z"
   },
   {
    "duration": 0,
    "start_time": "2025-02-08T23:46:12.610Z"
   },
   {
    "duration": 0,
    "start_time": "2025-02-08T23:46:12.611Z"
   },
   {
    "duration": 0,
    "start_time": "2025-02-08T23:46:12.612Z"
   },
   {
    "duration": 0,
    "start_time": "2025-02-08T23:46:12.613Z"
   },
   {
    "duration": 1,
    "start_time": "2025-02-08T23:46:12.614Z"
   },
   {
    "duration": 283,
    "start_time": "2025-02-08T23:50:30.199Z"
   },
   {
    "duration": 255,
    "start_time": "2025-02-08T23:50:30.487Z"
   },
   {
    "duration": 25,
    "start_time": "2025-02-08T23:50:30.743Z"
   },
   {
    "duration": 11,
    "start_time": "2025-02-08T23:50:30.771Z"
   },
   {
    "duration": 29,
    "start_time": "2025-02-08T23:50:30.783Z"
   },
   {
    "duration": 31,
    "start_time": "2025-02-08T23:50:30.814Z"
   },
   {
    "duration": 8,
    "start_time": "2025-02-08T23:50:30.847Z"
   },
   {
    "duration": 6,
    "start_time": "2025-02-08T23:50:30.857Z"
   },
   {
    "duration": 9,
    "start_time": "2025-02-08T23:50:30.865Z"
   },
   {
    "duration": 7,
    "start_time": "2025-02-08T23:50:30.878Z"
   },
   {
    "duration": 5,
    "start_time": "2025-02-08T23:50:30.887Z"
   },
   {
    "duration": 8,
    "start_time": "2025-02-08T23:50:30.894Z"
   },
   {
    "duration": 42,
    "start_time": "2025-02-08T23:50:30.904Z"
   },
   {
    "duration": 2081,
    "start_time": "2025-02-08T23:50:30.947Z"
   },
   {
    "duration": 136,
    "start_time": "2025-02-08T23:50:33.030Z"
   },
   {
    "duration": 11,
    "start_time": "2025-02-08T23:50:33.168Z"
   },
   {
    "duration": 214,
    "start_time": "2025-02-08T23:50:33.181Z"
   },
   {
    "duration": 270,
    "start_time": "2025-02-08T23:50:33.396Z"
   },
   {
    "duration": 0,
    "start_time": "2025-02-08T23:50:33.668Z"
   },
   {
    "duration": 0,
    "start_time": "2025-02-08T23:50:33.670Z"
   },
   {
    "duration": 0,
    "start_time": "2025-02-08T23:50:33.672Z"
   },
   {
    "duration": 0,
    "start_time": "2025-02-08T23:50:33.674Z"
   },
   {
    "duration": 0,
    "start_time": "2025-02-08T23:50:33.676Z"
   },
   {
    "duration": 0,
    "start_time": "2025-02-08T23:50:33.677Z"
   },
   {
    "duration": 0,
    "start_time": "2025-02-08T23:50:33.678Z"
   },
   {
    "duration": 0,
    "start_time": "2025-02-08T23:50:33.679Z"
   },
   {
    "duration": 0,
    "start_time": "2025-02-08T23:50:33.681Z"
   },
   {
    "duration": 0,
    "start_time": "2025-02-08T23:50:33.682Z"
   },
   {
    "duration": 0,
    "start_time": "2025-02-08T23:50:33.684Z"
   },
   {
    "duration": 0,
    "start_time": "2025-02-08T23:50:33.685Z"
   },
   {
    "duration": 0,
    "start_time": "2025-02-08T23:50:33.687Z"
   },
   {
    "duration": 0,
    "start_time": "2025-02-08T23:50:33.688Z"
   },
   {
    "duration": 0,
    "start_time": "2025-02-08T23:50:33.689Z"
   },
   {
    "duration": 0,
    "start_time": "2025-02-08T23:50:33.691Z"
   },
   {
    "duration": 0,
    "start_time": "2025-02-08T23:50:33.692Z"
   },
   {
    "duration": 0,
    "start_time": "2025-02-08T23:50:33.694Z"
   },
   {
    "duration": 270,
    "start_time": "2025-02-08T23:51:06.232Z"
   },
   {
    "duration": 242,
    "start_time": "2025-02-08T23:51:06.505Z"
   },
   {
    "duration": 21,
    "start_time": "2025-02-08T23:51:06.749Z"
   },
   {
    "duration": 9,
    "start_time": "2025-02-08T23:51:06.773Z"
   },
   {
    "duration": 30,
    "start_time": "2025-02-08T23:51:06.784Z"
   },
   {
    "duration": 29,
    "start_time": "2025-02-08T23:51:06.816Z"
   },
   {
    "duration": 7,
    "start_time": "2025-02-08T23:51:06.846Z"
   },
   {
    "duration": 5,
    "start_time": "2025-02-08T23:51:06.854Z"
   },
   {
    "duration": 7,
    "start_time": "2025-02-08T23:51:06.861Z"
   },
   {
    "duration": 6,
    "start_time": "2025-02-08T23:51:06.871Z"
   },
   {
    "duration": 5,
    "start_time": "2025-02-08T23:51:06.878Z"
   },
   {
    "duration": 7,
    "start_time": "2025-02-08T23:51:06.884Z"
   },
   {
    "duration": 5,
    "start_time": "2025-02-08T23:51:06.893Z"
   },
   {
    "duration": 1911,
    "start_time": "2025-02-08T23:51:06.899Z"
   },
   {
    "duration": 125,
    "start_time": "2025-02-08T23:51:08.812Z"
   },
   {
    "duration": 8,
    "start_time": "2025-02-08T23:51:08.943Z"
   },
   {
    "duration": 191,
    "start_time": "2025-02-08T23:51:08.953Z"
   },
   {
    "duration": 554,
    "start_time": "2025-02-08T23:51:09.146Z"
   },
   {
    "duration": 0,
    "start_time": "2025-02-08T23:51:09.702Z"
   },
   {
    "duration": 0,
    "start_time": "2025-02-08T23:51:09.703Z"
   },
   {
    "duration": 0,
    "start_time": "2025-02-08T23:51:09.705Z"
   },
   {
    "duration": 0,
    "start_time": "2025-02-08T23:51:09.706Z"
   },
   {
    "duration": 0,
    "start_time": "2025-02-08T23:51:09.707Z"
   },
   {
    "duration": 0,
    "start_time": "2025-02-08T23:51:09.709Z"
   },
   {
    "duration": 0,
    "start_time": "2025-02-08T23:51:09.710Z"
   },
   {
    "duration": 0,
    "start_time": "2025-02-08T23:51:09.712Z"
   },
   {
    "duration": 0,
    "start_time": "2025-02-08T23:51:09.713Z"
   },
   {
    "duration": 0,
    "start_time": "2025-02-08T23:51:09.714Z"
   },
   {
    "duration": 0,
    "start_time": "2025-02-08T23:51:09.715Z"
   },
   {
    "duration": 0,
    "start_time": "2025-02-08T23:51:09.716Z"
   },
   {
    "duration": 0,
    "start_time": "2025-02-08T23:51:09.717Z"
   },
   {
    "duration": 0,
    "start_time": "2025-02-08T23:51:09.743Z"
   },
   {
    "duration": 0,
    "start_time": "2025-02-08T23:51:09.744Z"
   },
   {
    "duration": 0,
    "start_time": "2025-02-08T23:51:09.745Z"
   },
   {
    "duration": 0,
    "start_time": "2025-02-08T23:51:09.746Z"
   },
   {
    "duration": 0,
    "start_time": "2025-02-08T23:51:09.747Z"
   },
   {
    "duration": 272,
    "start_time": "2025-02-08T23:51:31.817Z"
   },
   {
    "duration": 243,
    "start_time": "2025-02-08T23:51:32.091Z"
   },
   {
    "duration": 21,
    "start_time": "2025-02-08T23:51:32.336Z"
   },
   {
    "duration": 11,
    "start_time": "2025-02-08T23:51:32.359Z"
   },
   {
    "duration": 29,
    "start_time": "2025-02-08T23:51:32.371Z"
   },
   {
    "duration": 8,
    "start_time": "2025-02-08T23:51:32.402Z"
   },
   {
    "duration": 32,
    "start_time": "2025-02-08T23:51:32.412Z"
   },
   {
    "duration": 5,
    "start_time": "2025-02-08T23:51:32.445Z"
   },
   {
    "duration": 7,
    "start_time": "2025-02-08T23:51:32.452Z"
   },
   {
    "duration": 6,
    "start_time": "2025-02-08T23:51:32.462Z"
   },
   {
    "duration": 4,
    "start_time": "2025-02-08T23:51:32.470Z"
   },
   {
    "duration": 7,
    "start_time": "2025-02-08T23:51:32.476Z"
   },
   {
    "duration": 6,
    "start_time": "2025-02-08T23:51:32.484Z"
   },
   {
    "duration": 1853,
    "start_time": "2025-02-08T23:51:32.491Z"
   },
   {
    "duration": 130,
    "start_time": "2025-02-08T23:51:34.346Z"
   },
   {
    "duration": 7,
    "start_time": "2025-02-08T23:51:34.477Z"
   },
   {
    "duration": 194,
    "start_time": "2025-02-08T23:51:34.485Z"
   },
   {
    "duration": 545,
    "start_time": "2025-02-08T23:51:34.681Z"
   },
   {
    "duration": 0,
    "start_time": "2025-02-08T23:51:35.228Z"
   },
   {
    "duration": 0,
    "start_time": "2025-02-08T23:51:35.230Z"
   },
   {
    "duration": 0,
    "start_time": "2025-02-08T23:51:35.232Z"
   },
   {
    "duration": 0,
    "start_time": "2025-02-08T23:51:35.233Z"
   },
   {
    "duration": 0,
    "start_time": "2025-02-08T23:51:35.234Z"
   },
   {
    "duration": 0,
    "start_time": "2025-02-08T23:51:35.234Z"
   },
   {
    "duration": 0,
    "start_time": "2025-02-08T23:51:35.235Z"
   },
   {
    "duration": 0,
    "start_time": "2025-02-08T23:51:35.235Z"
   },
   {
    "duration": 0,
    "start_time": "2025-02-08T23:51:35.236Z"
   },
   {
    "duration": 0,
    "start_time": "2025-02-08T23:51:35.236Z"
   },
   {
    "duration": 0,
    "start_time": "2025-02-08T23:51:35.237Z"
   },
   {
    "duration": 0,
    "start_time": "2025-02-08T23:51:35.237Z"
   },
   {
    "duration": 0,
    "start_time": "2025-02-08T23:51:35.242Z"
   },
   {
    "duration": 0,
    "start_time": "2025-02-08T23:51:35.244Z"
   },
   {
    "duration": 0,
    "start_time": "2025-02-08T23:51:35.246Z"
   },
   {
    "duration": 0,
    "start_time": "2025-02-08T23:51:35.247Z"
   },
   {
    "duration": 0,
    "start_time": "2025-02-08T23:51:35.249Z"
   },
   {
    "duration": 0,
    "start_time": "2025-02-08T23:51:35.250Z"
   },
   {
    "duration": 273,
    "start_time": "2025-02-08T23:52:25.514Z"
   },
   {
    "duration": 268,
    "start_time": "2025-02-08T23:52:25.789Z"
   },
   {
    "duration": 21,
    "start_time": "2025-02-08T23:52:26.059Z"
   },
   {
    "duration": 10,
    "start_time": "2025-02-08T23:52:26.083Z"
   },
   {
    "duration": 49,
    "start_time": "2025-02-08T23:52:26.094Z"
   },
   {
    "duration": 9,
    "start_time": "2025-02-08T23:52:26.145Z"
   },
   {
    "duration": 7,
    "start_time": "2025-02-08T23:52:26.155Z"
   },
   {
    "duration": 5,
    "start_time": "2025-02-08T23:52:26.164Z"
   },
   {
    "duration": 7,
    "start_time": "2025-02-08T23:52:26.170Z"
   },
   {
    "duration": 6,
    "start_time": "2025-02-08T23:52:26.180Z"
   },
   {
    "duration": 4,
    "start_time": "2025-02-08T23:52:26.187Z"
   },
   {
    "duration": 7,
    "start_time": "2025-02-08T23:52:26.193Z"
   },
   {
    "duration": 47,
    "start_time": "2025-02-08T23:52:26.201Z"
   },
   {
    "duration": 1810,
    "start_time": "2025-02-08T23:52:26.251Z"
   },
   {
    "duration": 124,
    "start_time": "2025-02-08T23:52:28.063Z"
   },
   {
    "duration": 6,
    "start_time": "2025-02-08T23:52:28.189Z"
   },
   {
    "duration": 194,
    "start_time": "2025-02-08T23:52:28.197Z"
   },
   {
    "duration": 540,
    "start_time": "2025-02-08T23:52:28.393Z"
   },
   {
    "duration": 0,
    "start_time": "2025-02-08T23:52:28.943Z"
   },
   {
    "duration": 0,
    "start_time": "2025-02-08T23:52:28.945Z"
   },
   {
    "duration": 0,
    "start_time": "2025-02-08T23:52:28.946Z"
   },
   {
    "duration": 0,
    "start_time": "2025-02-08T23:52:28.947Z"
   },
   {
    "duration": 0,
    "start_time": "2025-02-08T23:52:28.948Z"
   },
   {
    "duration": 0,
    "start_time": "2025-02-08T23:52:28.948Z"
   },
   {
    "duration": 0,
    "start_time": "2025-02-08T23:52:28.949Z"
   },
   {
    "duration": 0,
    "start_time": "2025-02-08T23:52:28.950Z"
   },
   {
    "duration": 0,
    "start_time": "2025-02-08T23:52:28.952Z"
   },
   {
    "duration": 0,
    "start_time": "2025-02-08T23:52:28.953Z"
   },
   {
    "duration": 0,
    "start_time": "2025-02-08T23:52:28.954Z"
   },
   {
    "duration": 0,
    "start_time": "2025-02-08T23:52:28.955Z"
   },
   {
    "duration": 0,
    "start_time": "2025-02-08T23:52:28.956Z"
   },
   {
    "duration": 0,
    "start_time": "2025-02-08T23:52:28.958Z"
   },
   {
    "duration": 0,
    "start_time": "2025-02-08T23:52:28.959Z"
   },
   {
    "duration": 0,
    "start_time": "2025-02-08T23:52:28.959Z"
   },
   {
    "duration": 0,
    "start_time": "2025-02-08T23:52:28.961Z"
   },
   {
    "duration": 0,
    "start_time": "2025-02-08T23:52:28.962Z"
   },
   {
    "duration": 326,
    "start_time": "2025-02-09T00:29:57.893Z"
   },
   {
    "duration": 277,
    "start_time": "2025-02-09T00:29:58.221Z"
   },
   {
    "duration": 25,
    "start_time": "2025-02-09T00:29:58.500Z"
   },
   {
    "duration": 11,
    "start_time": "2025-02-09T00:29:58.527Z"
   },
   {
    "duration": 54,
    "start_time": "2025-02-09T00:29:58.540Z"
   },
   {
    "duration": 9,
    "start_time": "2025-02-09T00:29:58.596Z"
   },
   {
    "duration": 6,
    "start_time": "2025-02-09T00:29:58.607Z"
   },
   {
    "duration": 8,
    "start_time": "2025-02-09T00:29:58.615Z"
   },
   {
    "duration": 7,
    "start_time": "2025-02-09T00:29:58.625Z"
   },
   {
    "duration": 6,
    "start_time": "2025-02-09T00:29:58.634Z"
   },
   {
    "duration": 8,
    "start_time": "2025-02-09T00:29:58.642Z"
   },
   {
    "duration": 7,
    "start_time": "2025-02-09T00:29:58.651Z"
   },
   {
    "duration": 6,
    "start_time": "2025-02-09T00:29:58.686Z"
   },
   {
    "duration": 1890,
    "start_time": "2025-02-09T00:29:58.696Z"
   },
   {
    "duration": 137,
    "start_time": "2025-02-09T00:30:00.588Z"
   },
   {
    "duration": 7,
    "start_time": "2025-02-09T00:30:00.726Z"
   },
   {
    "duration": 200,
    "start_time": "2025-02-09T00:30:00.735Z"
   },
   {
    "duration": 565,
    "start_time": "2025-02-09T00:30:00.938Z"
   },
   {
    "duration": 0,
    "start_time": "2025-02-09T00:30:01.504Z"
   },
   {
    "duration": 0,
    "start_time": "2025-02-09T00:30:01.506Z"
   },
   {
    "duration": 0,
    "start_time": "2025-02-09T00:30:01.507Z"
   },
   {
    "duration": 0,
    "start_time": "2025-02-09T00:30:01.508Z"
   },
   {
    "duration": 0,
    "start_time": "2025-02-09T00:30:01.510Z"
   },
   {
    "duration": 0,
    "start_time": "2025-02-09T00:30:01.511Z"
   },
   {
    "duration": 0,
    "start_time": "2025-02-09T00:30:01.513Z"
   },
   {
    "duration": 0,
    "start_time": "2025-02-09T00:30:01.514Z"
   },
   {
    "duration": 0,
    "start_time": "2025-02-09T00:30:01.516Z"
   },
   {
    "duration": 0,
    "start_time": "2025-02-09T00:30:01.518Z"
   },
   {
    "duration": 0,
    "start_time": "2025-02-09T00:30:01.520Z"
   },
   {
    "duration": 0,
    "start_time": "2025-02-09T00:30:01.521Z"
   },
   {
    "duration": 0,
    "start_time": "2025-02-09T00:30:01.522Z"
   },
   {
    "duration": 0,
    "start_time": "2025-02-09T00:30:01.524Z"
   },
   {
    "duration": 0,
    "start_time": "2025-02-09T00:30:01.526Z"
   },
   {
    "duration": 0,
    "start_time": "2025-02-09T00:30:01.527Z"
   },
   {
    "duration": 0,
    "start_time": "2025-02-09T00:30:01.528Z"
   },
   {
    "duration": 0,
    "start_time": "2025-02-09T00:30:01.530Z"
   },
   {
    "duration": 273,
    "start_time": "2025-02-09T00:30:51.969Z"
   },
   {
    "duration": 231,
    "start_time": "2025-02-09T00:30:52.244Z"
   },
   {
    "duration": 22,
    "start_time": "2025-02-09T00:30:52.476Z"
   },
   {
    "duration": 10,
    "start_time": "2025-02-09T00:30:52.500Z"
   },
   {
    "duration": 29,
    "start_time": "2025-02-09T00:30:52.512Z"
   },
   {
    "duration": 10,
    "start_time": "2025-02-09T00:30:52.543Z"
   },
   {
    "duration": 35,
    "start_time": "2025-02-09T00:30:52.554Z"
   },
   {
    "duration": 4,
    "start_time": "2025-02-09T00:30:52.591Z"
   },
   {
    "duration": 7,
    "start_time": "2025-02-09T00:30:52.597Z"
   },
   {
    "duration": 7,
    "start_time": "2025-02-09T00:30:52.608Z"
   },
   {
    "duration": 4,
    "start_time": "2025-02-09T00:30:52.617Z"
   },
   {
    "duration": 7,
    "start_time": "2025-02-09T00:30:52.623Z"
   },
   {
    "duration": 7,
    "start_time": "2025-02-09T00:30:52.631Z"
   },
   {
    "duration": 1879,
    "start_time": "2025-02-09T00:30:52.640Z"
   },
   {
    "duration": 125,
    "start_time": "2025-02-09T00:30:54.521Z"
   },
   {
    "duration": 6,
    "start_time": "2025-02-09T00:30:54.648Z"
   },
   {
    "duration": 198,
    "start_time": "2025-02-09T00:30:54.656Z"
   },
   {
    "duration": 200,
    "start_time": "2025-02-09T00:30:54.856Z"
   },
   {
    "duration": 0,
    "start_time": "2025-02-09T00:30:55.060Z"
   },
   {
    "duration": 0,
    "start_time": "2025-02-09T00:30:55.060Z"
   },
   {
    "duration": 0,
    "start_time": "2025-02-09T00:30:55.061Z"
   },
   {
    "duration": 0,
    "start_time": "2025-02-09T00:30:55.062Z"
   },
   {
    "duration": 0,
    "start_time": "2025-02-09T00:30:55.063Z"
   },
   {
    "duration": 0,
    "start_time": "2025-02-09T00:30:55.065Z"
   },
   {
    "duration": 0,
    "start_time": "2025-02-09T00:30:55.066Z"
   },
   {
    "duration": 0,
    "start_time": "2025-02-09T00:30:55.067Z"
   },
   {
    "duration": 0,
    "start_time": "2025-02-09T00:30:55.068Z"
   },
   {
    "duration": 0,
    "start_time": "2025-02-09T00:30:55.068Z"
   },
   {
    "duration": 0,
    "start_time": "2025-02-09T00:30:55.069Z"
   },
   {
    "duration": 0,
    "start_time": "2025-02-09T00:30:55.087Z"
   },
   {
    "duration": 0,
    "start_time": "2025-02-09T00:30:55.089Z"
   },
   {
    "duration": 0,
    "start_time": "2025-02-09T00:30:55.090Z"
   },
   {
    "duration": 0,
    "start_time": "2025-02-09T00:30:55.091Z"
   },
   {
    "duration": 0,
    "start_time": "2025-02-09T00:30:55.092Z"
   },
   {
    "duration": 0,
    "start_time": "2025-02-09T00:30:55.093Z"
   },
   {
    "duration": 0,
    "start_time": "2025-02-09T00:30:55.094Z"
   },
   {
    "duration": 374,
    "start_time": "2025-02-09T00:31:26.192Z"
   },
   {
    "duration": 278,
    "start_time": "2025-02-09T18:03:51.984Z"
   },
   {
    "duration": 320,
    "start_time": "2025-02-09T18:03:52.264Z"
   },
   {
    "duration": 22,
    "start_time": "2025-02-09T18:03:52.586Z"
   },
   {
    "duration": 16,
    "start_time": "2025-02-09T18:03:52.610Z"
   },
   {
    "duration": 60,
    "start_time": "2025-02-09T18:03:52.628Z"
   },
   {
    "duration": 10,
    "start_time": "2025-02-09T18:03:52.690Z"
   },
   {
    "duration": 13,
    "start_time": "2025-02-09T18:03:52.702Z"
   },
   {
    "duration": 8,
    "start_time": "2025-02-09T18:03:52.717Z"
   },
   {
    "duration": 8,
    "start_time": "2025-02-09T18:03:52.727Z"
   },
   {
    "duration": 6,
    "start_time": "2025-02-09T18:03:52.737Z"
   },
   {
    "duration": 7,
    "start_time": "2025-02-09T18:03:52.745Z"
   },
   {
    "duration": 8,
    "start_time": "2025-02-09T18:03:52.755Z"
   },
   {
    "duration": 6,
    "start_time": "2025-02-09T18:03:52.765Z"
   },
   {
    "duration": 2056,
    "start_time": "2025-02-09T18:03:52.774Z"
   },
   {
    "duration": 130,
    "start_time": "2025-02-09T18:03:54.832Z"
   },
   {
    "duration": 6,
    "start_time": "2025-02-09T18:03:54.964Z"
   },
   {
    "duration": 192,
    "start_time": "2025-02-09T18:03:54.972Z"
   },
   {
    "duration": 781,
    "start_time": "2025-02-09T18:03:55.166Z"
   },
   {
    "duration": 0,
    "start_time": "2025-02-09T18:03:55.949Z"
   },
   {
    "duration": 0,
    "start_time": "2025-02-09T18:03:55.950Z"
   },
   {
    "duration": 0,
    "start_time": "2025-02-09T18:03:55.951Z"
   },
   {
    "duration": 0,
    "start_time": "2025-02-09T18:03:55.952Z"
   },
   {
    "duration": 0,
    "start_time": "2025-02-09T18:03:55.954Z"
   },
   {
    "duration": 0,
    "start_time": "2025-02-09T18:03:55.955Z"
   },
   {
    "duration": 0,
    "start_time": "2025-02-09T18:03:55.956Z"
   },
   {
    "duration": 0,
    "start_time": "2025-02-09T18:03:55.959Z"
   },
   {
    "duration": 0,
    "start_time": "2025-02-09T18:03:55.960Z"
   },
   {
    "duration": 0,
    "start_time": "2025-02-09T18:03:55.961Z"
   },
   {
    "duration": 0,
    "start_time": "2025-02-09T18:03:55.962Z"
   },
   {
    "duration": 0,
    "start_time": "2025-02-09T18:03:55.963Z"
   },
   {
    "duration": 0,
    "start_time": "2025-02-09T18:03:55.965Z"
   },
   {
    "duration": 0,
    "start_time": "2025-02-09T18:03:55.966Z"
   },
   {
    "duration": 0,
    "start_time": "2025-02-09T18:03:55.967Z"
   },
   {
    "duration": 0,
    "start_time": "2025-02-09T18:03:55.970Z"
   },
   {
    "duration": 0,
    "start_time": "2025-02-09T18:03:55.971Z"
   },
   {
    "duration": 0,
    "start_time": "2025-02-09T18:03:55.972Z"
   },
   {
    "duration": 2,
    "start_time": "2025-02-09T18:05:48.487Z"
   },
   {
    "duration": 119,
    "start_time": "2025-02-09T18:05:49.077Z"
   },
   {
    "duration": 10,
    "start_time": "2025-02-09T18:05:49.815Z"
   },
   {
    "duration": 325,
    "start_time": "2025-02-09T18:06:39.112Z"
   },
   {
    "duration": 137,
    "start_time": "2025-02-09T18:06:39.439Z"
   },
   {
    "duration": 14,
    "start_time": "2025-02-09T18:06:39.579Z"
   },
   {
    "duration": 23,
    "start_time": "2025-02-09T18:06:39.596Z"
   },
   {
    "duration": 32,
    "start_time": "2025-02-09T18:06:39.622Z"
   },
   {
    "duration": 9,
    "start_time": "2025-02-09T18:06:39.655Z"
   },
   {
    "duration": 6,
    "start_time": "2025-02-09T18:06:39.666Z"
   },
   {
    "duration": 31,
    "start_time": "2025-02-09T18:06:39.674Z"
   },
   {
    "duration": 9,
    "start_time": "2025-02-09T18:06:39.707Z"
   },
   {
    "duration": 7,
    "start_time": "2025-02-09T18:06:39.717Z"
   },
   {
    "duration": 5,
    "start_time": "2025-02-09T18:06:39.725Z"
   },
   {
    "duration": 7,
    "start_time": "2025-02-09T18:06:39.731Z"
   },
   {
    "duration": 6,
    "start_time": "2025-02-09T18:06:39.739Z"
   },
   {
    "duration": 1888,
    "start_time": "2025-02-09T18:06:39.749Z"
   },
   {
    "duration": 128,
    "start_time": "2025-02-09T18:06:41.638Z"
   },
   {
    "duration": 6,
    "start_time": "2025-02-09T18:06:41.768Z"
   },
   {
    "duration": 110,
    "start_time": "2025-02-09T18:06:41.776Z"
   },
   {
    "duration": 6,
    "start_time": "2025-02-09T18:06:41.888Z"
   },
   {
    "duration": 11,
    "start_time": "2025-02-09T18:06:41.895Z"
   },
   {
    "duration": 7,
    "start_time": "2025-02-09T18:06:41.908Z"
   },
   {
    "duration": 2,
    "start_time": "2025-02-09T18:06:41.917Z"
   },
   {
    "duration": 3,
    "start_time": "2025-02-09T18:06:41.921Z"
   },
   {
    "duration": 2,
    "start_time": "2025-02-09T18:06:41.926Z"
   },
   {
    "duration": 3,
    "start_time": "2025-02-09T18:06:41.929Z"
   },
   {
    "duration": 2,
    "start_time": "2025-02-09T18:06:41.934Z"
   },
   {
    "duration": 3,
    "start_time": "2025-02-09T18:06:41.938Z"
   },
   {
    "duration": 3,
    "start_time": "2025-02-09T18:06:41.942Z"
   },
   {
    "duration": 2,
    "start_time": "2025-02-09T18:06:41.947Z"
   },
   {
    "duration": 2,
    "start_time": "2025-02-09T18:06:41.950Z"
   },
   {
    "duration": 2,
    "start_time": "2025-02-09T18:06:41.954Z"
   },
   {
    "duration": 3,
    "start_time": "2025-02-09T18:06:41.958Z"
   },
   {
    "duration": 2,
    "start_time": "2025-02-09T18:06:42.006Z"
   },
   {
    "duration": 3,
    "start_time": "2025-02-09T18:06:42.009Z"
   },
   {
    "duration": 2,
    "start_time": "2025-02-09T18:06:42.014Z"
   },
   {
    "duration": 3,
    "start_time": "2025-02-09T18:06:42.018Z"
   },
   {
    "duration": 3,
    "start_time": "2025-02-09T18:06:42.022Z"
   },
   {
    "duration": 100,
    "start_time": "2025-02-09T18:07:30.694Z"
   },
   {
    "duration": 4,
    "start_time": "2025-02-09T18:07:37.665Z"
   },
   {
    "duration": 10,
    "start_time": "2025-02-09T18:07:57.550Z"
   },
   {
    "duration": 97,
    "start_time": "2025-02-09T18:09:19.467Z"
   },
   {
    "duration": 178,
    "start_time": "2025-02-09T18:09:51.948Z"
   },
   {
    "duration": 187,
    "start_time": "2025-02-09T18:15:20.978Z"
   },
   {
    "duration": 193,
    "start_time": "2025-02-09T18:19:37.893Z"
   },
   {
    "duration": 333,
    "start_time": "2025-02-09T18:21:46.322Z"
   },
   {
    "duration": 193,
    "start_time": "2025-02-09T18:22:15.355Z"
   },
   {
    "duration": 105,
    "start_time": "2025-02-09T18:23:02.236Z"
   },
   {
    "duration": 182,
    "start_time": "2025-02-09T18:23:11.044Z"
   },
   {
    "duration": 194,
    "start_time": "2025-02-09T18:23:21.011Z"
   },
   {
    "duration": 188,
    "start_time": "2025-02-09T18:26:52.690Z"
   },
   {
    "duration": 10,
    "start_time": "2025-02-09T18:26:53.412Z"
   },
   {
    "duration": 63,
    "start_time": "2025-02-09T18:26:56.227Z"
   },
   {
    "duration": 60,
    "start_time": "2025-02-09T18:28:34.267Z"
   },
   {
    "duration": 62,
    "start_time": "2025-02-09T18:28:37.155Z"
   },
   {
    "duration": 51,
    "start_time": "2025-02-09T18:28:54.280Z"
   },
   {
    "duration": 87,
    "start_time": "2025-02-09T18:30:01.716Z"
   },
   {
    "duration": 41,
    "start_time": "2025-02-09T18:33:02.733Z"
   },
   {
    "duration": 37,
    "start_time": "2025-02-09T18:33:24.974Z"
   },
   {
    "duration": 16,
    "start_time": "2025-02-09T18:37:24.346Z"
   },
   {
    "duration": 35,
    "start_time": "2025-02-09T18:37:59.378Z"
   },
   {
    "duration": 31,
    "start_time": "2025-02-09T18:38:08.273Z"
   },
   {
    "duration": 21,
    "start_time": "2025-02-09T18:38:27.473Z"
   },
   {
    "duration": 22,
    "start_time": "2025-02-09T18:39:10.227Z"
   },
   {
    "duration": 7,
    "start_time": "2025-02-09T18:39:16.382Z"
   },
   {
    "duration": 20,
    "start_time": "2025-02-09T18:39:29.106Z"
   },
   {
    "duration": 14,
    "start_time": "2025-02-09T18:39:44.785Z"
   },
   {
    "duration": 29,
    "start_time": "2025-02-09T18:41:25.365Z"
   },
   {
    "duration": 307,
    "start_time": "2025-02-09T18:42:21.138Z"
   },
   {
    "duration": 128,
    "start_time": "2025-02-09T18:42:21.447Z"
   },
   {
    "duration": 13,
    "start_time": "2025-02-09T18:42:21.577Z"
   },
   {
    "duration": 12,
    "start_time": "2025-02-09T18:42:21.604Z"
   },
   {
    "duration": 37,
    "start_time": "2025-02-09T18:42:21.618Z"
   },
   {
    "duration": 9,
    "start_time": "2025-02-09T18:42:21.656Z"
   },
   {
    "duration": 8,
    "start_time": "2025-02-09T18:42:21.667Z"
   },
   {
    "duration": 5,
    "start_time": "2025-02-09T18:42:21.677Z"
   },
   {
    "duration": 27,
    "start_time": "2025-02-09T18:42:21.685Z"
   },
   {
    "duration": 5,
    "start_time": "2025-02-09T18:42:21.716Z"
   },
   {
    "duration": 7,
    "start_time": "2025-02-09T18:42:21.723Z"
   },
   {
    "duration": 7,
    "start_time": "2025-02-09T18:42:21.732Z"
   },
   {
    "duration": 5,
    "start_time": "2025-02-09T18:42:21.741Z"
   },
   {
    "duration": 1890,
    "start_time": "2025-02-09T18:42:21.748Z"
   },
   {
    "duration": 120,
    "start_time": "2025-02-09T18:42:23.639Z"
   },
   {
    "duration": 6,
    "start_time": "2025-02-09T18:42:23.761Z"
   },
   {
    "duration": 209,
    "start_time": "2025-02-09T18:42:23.769Z"
   },
   {
    "duration": 11,
    "start_time": "2025-02-09T18:42:23.979Z"
   },
   {
    "duration": 75,
    "start_time": "2025-02-09T18:42:23.991Z"
   },
   {
    "duration": 103,
    "start_time": "2025-02-09T18:42:24.068Z"
   },
   {
    "duration": 53,
    "start_time": "2025-02-09T18:42:24.173Z"
   },
   {
    "duration": 22,
    "start_time": "2025-02-09T18:42:24.228Z"
   },
   {
    "duration": 2,
    "start_time": "2025-02-09T18:42:24.252Z"
   },
   {
    "duration": 3,
    "start_time": "2025-02-09T18:42:24.255Z"
   },
   {
    "duration": 2,
    "start_time": "2025-02-09T18:42:24.259Z"
   },
   {
    "duration": 2,
    "start_time": "2025-02-09T18:42:24.263Z"
   },
   {
    "duration": 2,
    "start_time": "2025-02-09T18:42:24.267Z"
   },
   {
    "duration": 2,
    "start_time": "2025-02-09T18:42:24.273Z"
   },
   {
    "duration": 2,
    "start_time": "2025-02-09T18:42:24.306Z"
   },
   {
    "duration": 2,
    "start_time": "2025-02-09T18:42:24.310Z"
   },
   {
    "duration": 3,
    "start_time": "2025-02-09T18:42:24.314Z"
   },
   {
    "duration": 2,
    "start_time": "2025-02-09T18:42:24.318Z"
   },
   {
    "duration": 3,
    "start_time": "2025-02-09T18:42:24.322Z"
   },
   {
    "duration": 2,
    "start_time": "2025-02-09T18:42:24.326Z"
   },
   {
    "duration": 2,
    "start_time": "2025-02-09T18:42:24.330Z"
   },
   {
    "duration": 2,
    "start_time": "2025-02-09T18:42:24.334Z"
   },
   {
    "duration": 12,
    "start_time": "2025-02-09T18:43:40.989Z"
   },
   {
    "duration": 14,
    "start_time": "2025-02-09T18:43:42.450Z"
   },
   {
    "duration": 7,
    "start_time": "2025-02-09T18:46:13.943Z"
   },
   {
    "duration": 7,
    "start_time": "2025-02-09T18:47:58.491Z"
   },
   {
    "duration": 13,
    "start_time": "2025-02-09T18:49:00.147Z"
   },
   {
    "duration": 18,
    "start_time": "2025-02-09T18:49:35.475Z"
   },
   {
    "duration": 86,
    "start_time": "2025-02-09T18:50:23.028Z"
   },
   {
    "duration": 14,
    "start_time": "2025-02-09T18:50:32.442Z"
   },
   {
    "duration": 7,
    "start_time": "2025-02-09T18:50:54.107Z"
   },
   {
    "duration": 16,
    "start_time": "2025-02-09T18:53:27.370Z"
   },
   {
    "duration": 8,
    "start_time": "2025-02-09T18:53:35.164Z"
   },
   {
    "duration": 4,
    "start_time": "2025-02-09T18:56:15.335Z"
   },
   {
    "duration": 10,
    "start_time": "2025-02-09T18:57:15.770Z"
   },
   {
    "duration": 17,
    "start_time": "2025-02-09T18:58:07.307Z"
   },
   {
    "duration": 15,
    "start_time": "2025-02-09T18:58:52.847Z"
   },
   {
    "duration": 15,
    "start_time": "2025-02-09T18:59:34.384Z"
   },
   {
    "duration": 14,
    "start_time": "2025-02-09T19:02:02.431Z"
   },
   {
    "duration": 339,
    "start_time": "2025-02-09T20:41:55.284Z"
   },
   {
    "duration": 159,
    "start_time": "2025-02-09T20:41:55.625Z"
   },
   {
    "duration": 14,
    "start_time": "2025-02-09T20:41:55.786Z"
   },
   {
    "duration": 14,
    "start_time": "2025-02-09T20:41:55.803Z"
   },
   {
    "duration": 62,
    "start_time": "2025-02-09T20:41:55.818Z"
   },
   {
    "duration": 11,
    "start_time": "2025-02-09T20:41:55.882Z"
   },
   {
    "duration": 9,
    "start_time": "2025-02-09T20:41:55.895Z"
   },
   {
    "duration": 9,
    "start_time": "2025-02-09T20:41:55.906Z"
   },
   {
    "duration": 7,
    "start_time": "2025-02-09T20:41:55.916Z"
   },
   {
    "duration": 7,
    "start_time": "2025-02-09T20:41:55.927Z"
   },
   {
    "duration": 9,
    "start_time": "2025-02-09T20:41:55.935Z"
   },
   {
    "duration": 8,
    "start_time": "2025-02-09T20:41:55.970Z"
   },
   {
    "duration": 6,
    "start_time": "2025-02-09T20:41:55.980Z"
   },
   {
    "duration": 2023,
    "start_time": "2025-02-09T20:41:55.988Z"
   },
   {
    "duration": 125,
    "start_time": "2025-02-09T20:41:58.013Z"
   },
   {
    "duration": 8,
    "start_time": "2025-02-09T20:41:58.141Z"
   },
   {
    "duration": 208,
    "start_time": "2025-02-09T20:41:58.151Z"
   },
   {
    "duration": 18,
    "start_time": "2025-02-09T20:41:58.361Z"
   },
   {
    "duration": 63,
    "start_time": "2025-02-09T20:41:58.381Z"
   },
   {
    "duration": 105,
    "start_time": "2025-02-09T20:41:58.445Z"
   },
   {
    "duration": 52,
    "start_time": "2025-02-09T20:41:58.551Z"
   },
   {
    "duration": 17,
    "start_time": "2025-02-09T20:41:58.605Z"
   },
   {
    "duration": 9,
    "start_time": "2025-02-09T20:41:58.624Z"
   },
   {
    "duration": 10,
    "start_time": "2025-02-09T20:41:58.635Z"
   },
   {
    "duration": 183,
    "start_time": "2025-02-09T20:41:58.669Z"
   },
   {
    "duration": 0,
    "start_time": "2025-02-09T20:41:58.854Z"
   },
   {
    "duration": 0,
    "start_time": "2025-02-09T20:41:58.855Z"
   },
   {
    "duration": 0,
    "start_time": "2025-02-09T20:41:58.856Z"
   },
   {
    "duration": 0,
    "start_time": "2025-02-09T20:41:58.857Z"
   },
   {
    "duration": 0,
    "start_time": "2025-02-09T20:41:58.870Z"
   },
   {
    "duration": 0,
    "start_time": "2025-02-09T20:41:58.871Z"
   },
   {
    "duration": 0,
    "start_time": "2025-02-09T20:41:58.872Z"
   },
   {
    "duration": 0,
    "start_time": "2025-02-09T20:41:58.874Z"
   },
   {
    "duration": 0,
    "start_time": "2025-02-09T20:41:58.875Z"
   },
   {
    "duration": 1,
    "start_time": "2025-02-09T20:41:58.876Z"
   },
   {
    "duration": 0,
    "start_time": "2025-02-09T20:41:58.878Z"
   },
   {
    "duration": 285,
    "start_time": "2025-02-09T20:44:17.661Z"
   },
   {
    "duration": 126,
    "start_time": "2025-02-09T20:44:17.948Z"
   },
   {
    "duration": 13,
    "start_time": "2025-02-09T20:44:18.076Z"
   },
   {
    "duration": 13,
    "start_time": "2025-02-09T20:44:18.091Z"
   },
   {
    "duration": 36,
    "start_time": "2025-02-09T20:44:18.106Z"
   },
   {
    "duration": 31,
    "start_time": "2025-02-09T20:44:18.144Z"
   },
   {
    "duration": 9,
    "start_time": "2025-02-09T20:44:18.177Z"
   },
   {
    "duration": 4,
    "start_time": "2025-02-09T20:44:18.188Z"
   },
   {
    "duration": 7,
    "start_time": "2025-02-09T20:44:18.194Z"
   },
   {
    "duration": 6,
    "start_time": "2025-02-09T20:44:18.206Z"
   },
   {
    "duration": 5,
    "start_time": "2025-02-09T20:44:18.214Z"
   },
   {
    "duration": 7,
    "start_time": "2025-02-09T20:44:18.221Z"
   },
   {
    "duration": 8,
    "start_time": "2025-02-09T20:44:18.269Z"
   },
   {
    "duration": 711,
    "start_time": "2025-02-09T20:44:18.278Z"
   },
   {
    "duration": 25,
    "start_time": "2025-02-09T20:44:18.990Z"
   },
   {
    "duration": 9,
    "start_time": "2025-02-09T20:44:19.016Z"
   },
   {
    "duration": 201,
    "start_time": "2025-02-09T20:44:19.027Z"
   },
   {
    "duration": 10,
    "start_time": "2025-02-09T20:44:19.230Z"
   },
   {
    "duration": 62,
    "start_time": "2025-02-09T20:44:19.241Z"
   },
   {
    "duration": 95,
    "start_time": "2025-02-09T20:44:19.305Z"
   },
   {
    "duration": 47,
    "start_time": "2025-02-09T20:44:19.402Z"
   },
   {
    "duration": 31,
    "start_time": "2025-02-09T20:44:19.451Z"
   },
   {
    "duration": 9,
    "start_time": "2025-02-09T20:44:19.484Z"
   },
   {
    "duration": 9,
    "start_time": "2025-02-09T20:44:19.495Z"
   },
   {
    "duration": 196,
    "start_time": "2025-02-09T20:44:19.506Z"
   },
   {
    "duration": 0,
    "start_time": "2025-02-09T20:44:19.705Z"
   },
   {
    "duration": 0,
    "start_time": "2025-02-09T20:44:19.706Z"
   },
   {
    "duration": 0,
    "start_time": "2025-02-09T20:44:19.707Z"
   },
   {
    "duration": 0,
    "start_time": "2025-02-09T20:44:19.709Z"
   },
   {
    "duration": 0,
    "start_time": "2025-02-09T20:44:19.710Z"
   },
   {
    "duration": 0,
    "start_time": "2025-02-09T20:44:19.711Z"
   },
   {
    "duration": 0,
    "start_time": "2025-02-09T20:44:19.712Z"
   },
   {
    "duration": 0,
    "start_time": "2025-02-09T20:44:19.713Z"
   },
   {
    "duration": 0,
    "start_time": "2025-02-09T20:44:19.714Z"
   },
   {
    "duration": 0,
    "start_time": "2025-02-09T20:44:19.715Z"
   },
   {
    "duration": 0,
    "start_time": "2025-02-09T20:44:19.716Z"
   },
   {
    "duration": 11,
    "start_time": "2025-02-09T20:45:30.145Z"
   },
   {
    "duration": 6,
    "start_time": "2025-02-09T20:51:46.381Z"
   },
   {
    "duration": 7,
    "start_time": "2025-02-09T20:53:48.352Z"
   },
   {
    "duration": 7,
    "start_time": "2025-02-09T20:58:15.594Z"
   },
   {
    "duration": 9,
    "start_time": "2025-02-09T20:59:20.925Z"
   },
   {
    "duration": 6,
    "start_time": "2025-02-09T21:00:34.167Z"
   },
   {
    "duration": 311,
    "start_time": "2025-02-09T21:02:48.714Z"
   },
   {
    "duration": 128,
    "start_time": "2025-02-09T21:02:49.027Z"
   },
   {
    "duration": 17,
    "start_time": "2025-02-09T21:02:49.157Z"
   },
   {
    "duration": 12,
    "start_time": "2025-02-09T21:02:49.176Z"
   },
   {
    "duration": 36,
    "start_time": "2025-02-09T21:02:49.191Z"
   },
   {
    "duration": 9,
    "start_time": "2025-02-09T21:02:49.229Z"
   },
   {
    "duration": 33,
    "start_time": "2025-02-09T21:02:49.240Z"
   },
   {
    "duration": 6,
    "start_time": "2025-02-09T21:02:49.275Z"
   },
   {
    "duration": 7,
    "start_time": "2025-02-09T21:02:49.283Z"
   },
   {
    "duration": 8,
    "start_time": "2025-02-09T21:02:49.292Z"
   },
   {
    "duration": 7,
    "start_time": "2025-02-09T21:02:49.301Z"
   },
   {
    "duration": 9,
    "start_time": "2025-02-09T21:02:49.309Z"
   },
   {
    "duration": 6,
    "start_time": "2025-02-09T21:02:49.319Z"
   },
   {
    "duration": 741,
    "start_time": "2025-02-09T21:02:49.330Z"
   },
   {
    "duration": 23,
    "start_time": "2025-02-09T21:02:50.073Z"
   },
   {
    "duration": 9,
    "start_time": "2025-02-09T21:02:50.098Z"
   },
   {
    "duration": 197,
    "start_time": "2025-02-09T21:02:50.110Z"
   },
   {
    "duration": 10,
    "start_time": "2025-02-09T21:02:50.310Z"
   },
   {
    "duration": 62,
    "start_time": "2025-02-09T21:02:50.321Z"
   },
   {
    "duration": 110,
    "start_time": "2025-02-09T21:02:50.385Z"
   },
   {
    "duration": 48,
    "start_time": "2025-02-09T21:02:50.497Z"
   },
   {
    "duration": 32,
    "start_time": "2025-02-09T21:02:50.546Z"
   },
   {
    "duration": 9,
    "start_time": "2025-02-09T21:02:50.579Z"
   },
   {
    "duration": 10,
    "start_time": "2025-02-09T21:02:50.590Z"
   },
   {
    "duration": 11,
    "start_time": "2025-02-09T21:02:50.601Z"
   },
   {
    "duration": 6,
    "start_time": "2025-02-09T21:02:50.615Z"
   },
   {
    "duration": 4,
    "start_time": "2025-02-09T21:02:50.623Z"
   },
   {
    "duration": 42,
    "start_time": "2025-02-09T21:02:50.628Z"
   },
   {
    "duration": 2,
    "start_time": "2025-02-09T21:02:50.672Z"
   },
   {
    "duration": 2,
    "start_time": "2025-02-09T21:02:50.676Z"
   },
   {
    "duration": 3,
    "start_time": "2025-02-09T21:02:50.680Z"
   },
   {
    "duration": 4,
    "start_time": "2025-02-09T21:02:50.685Z"
   },
   {
    "duration": 4,
    "start_time": "2025-02-09T21:02:50.690Z"
   },
   {
    "duration": 3,
    "start_time": "2025-02-09T21:02:50.695Z"
   },
   {
    "duration": 3,
    "start_time": "2025-02-09T21:02:50.699Z"
   },
   {
    "duration": 3,
    "start_time": "2025-02-09T21:02:50.704Z"
   },
   {
    "duration": 3,
    "start_time": "2025-02-09T21:02:50.709Z"
   },
   {
    "duration": 4,
    "start_time": "2025-02-09T21:02:50.713Z"
   },
   {
    "duration": 3,
    "start_time": "2025-02-09T21:02:50.718Z"
   },
   {
    "duration": 3,
    "start_time": "2025-02-09T21:02:50.723Z"
   },
   {
    "duration": 6,
    "start_time": "2025-02-09T21:03:56.503Z"
   },
   {
    "duration": 787,
    "start_time": "2025-02-09T21:06:51.414Z"
   },
   {
    "duration": 728,
    "start_time": "2025-02-09T21:07:19.928Z"
   },
   {
    "duration": 290,
    "start_time": "2025-02-09T21:15:49.728Z"
   },
   {
    "duration": 127,
    "start_time": "2025-02-09T21:15:50.020Z"
   },
   {
    "duration": 12,
    "start_time": "2025-02-09T21:15:50.149Z"
   },
   {
    "duration": 17,
    "start_time": "2025-02-09T21:15:50.163Z"
   },
   {
    "duration": 36,
    "start_time": "2025-02-09T21:15:50.182Z"
   },
   {
    "duration": 10,
    "start_time": "2025-02-09T21:15:50.219Z"
   },
   {
    "duration": 8,
    "start_time": "2025-02-09T21:15:50.231Z"
   },
   {
    "duration": 32,
    "start_time": "2025-02-09T21:15:50.241Z"
   },
   {
    "duration": 9,
    "start_time": "2025-02-09T21:15:50.275Z"
   },
   {
    "duration": 6,
    "start_time": "2025-02-09T21:15:50.287Z"
   },
   {
    "duration": 5,
    "start_time": "2025-02-09T21:15:50.295Z"
   },
   {
    "duration": 9,
    "start_time": "2025-02-09T21:15:50.301Z"
   },
   {
    "duration": 6,
    "start_time": "2025-02-09T21:15:50.311Z"
   },
   {
    "duration": 731,
    "start_time": "2025-02-09T21:15:50.319Z"
   },
   {
    "duration": 28,
    "start_time": "2025-02-09T21:15:51.052Z"
   },
   {
    "duration": 8,
    "start_time": "2025-02-09T21:15:51.082Z"
   },
   {
    "duration": 189,
    "start_time": "2025-02-09T21:15:51.092Z"
   },
   {
    "duration": 10,
    "start_time": "2025-02-09T21:15:51.283Z"
   },
   {
    "duration": 48,
    "start_time": "2025-02-09T21:15:51.295Z"
   },
   {
    "duration": 114,
    "start_time": "2025-02-09T21:15:51.345Z"
   },
   {
    "duration": 59,
    "start_time": "2025-02-09T21:15:51.461Z"
   },
   {
    "duration": 19,
    "start_time": "2025-02-09T21:15:51.522Z"
   },
   {
    "duration": 9,
    "start_time": "2025-02-09T21:15:51.543Z"
   },
   {
    "duration": 60,
    "start_time": "2025-02-09T21:15:51.554Z"
   },
   {
    "duration": 15,
    "start_time": "2025-02-09T21:15:51.615Z"
   },
   {
    "duration": 6,
    "start_time": "2025-02-09T21:15:51.632Z"
   },
   {
    "duration": 5,
    "start_time": "2025-02-09T21:15:51.639Z"
   },
   {
    "duration": 8,
    "start_time": "2025-02-09T21:15:51.669Z"
   },
   {
    "duration": 6,
    "start_time": "2025-02-09T21:15:51.679Z"
   },
   {
    "duration": 756,
    "start_time": "2025-02-09T21:15:51.687Z"
   },
   {
    "duration": 2,
    "start_time": "2025-02-09T21:15:52.446Z"
   },
   {
    "duration": 4,
    "start_time": "2025-02-09T21:15:52.449Z"
   },
   {
    "duration": 2,
    "start_time": "2025-02-09T21:15:52.455Z"
   },
   {
    "duration": 1,
    "start_time": "2025-02-09T21:15:52.471Z"
   },
   {
    "duration": 3,
    "start_time": "2025-02-09T21:15:52.475Z"
   },
   {
    "duration": 3,
    "start_time": "2025-02-09T21:15:52.480Z"
   },
   {
    "duration": 4,
    "start_time": "2025-02-09T21:15:52.485Z"
   },
   {
    "duration": 3,
    "start_time": "2025-02-09T21:15:52.490Z"
   },
   {
    "duration": 3,
    "start_time": "2025-02-09T21:15:52.494Z"
   },
   {
    "duration": 3,
    "start_time": "2025-02-09T21:15:52.499Z"
   },
   {
    "duration": 30,
    "start_time": "2025-02-09T21:16:45.068Z"
   },
   {
    "duration": 281,
    "start_time": "2025-02-09T21:18:57.562Z"
   },
   {
    "duration": 130,
    "start_time": "2025-02-09T21:18:57.845Z"
   },
   {
    "duration": 13,
    "start_time": "2025-02-09T21:18:57.976Z"
   },
   {
    "duration": 13,
    "start_time": "2025-02-09T21:18:57.991Z"
   },
   {
    "duration": 35,
    "start_time": "2025-02-09T21:18:58.006Z"
   },
   {
    "duration": 30,
    "start_time": "2025-02-09T21:18:58.043Z"
   },
   {
    "duration": 13,
    "start_time": "2025-02-09T21:18:58.075Z"
   },
   {
    "duration": 16,
    "start_time": "2025-02-09T21:18:58.090Z"
   },
   {
    "duration": 8,
    "start_time": "2025-02-09T21:18:58.108Z"
   },
   {
    "duration": 8,
    "start_time": "2025-02-09T21:18:58.119Z"
   },
   {
    "duration": 5,
    "start_time": "2025-02-09T21:18:58.129Z"
   },
   {
    "duration": 9,
    "start_time": "2025-02-09T21:18:58.135Z"
   },
   {
    "duration": 25,
    "start_time": "2025-02-09T21:18:58.146Z"
   },
   {
    "duration": 710,
    "start_time": "2025-02-09T21:18:58.173Z"
   },
   {
    "duration": 25,
    "start_time": "2025-02-09T21:18:58.884Z"
   },
   {
    "duration": 9,
    "start_time": "2025-02-09T21:18:58.910Z"
   },
   {
    "duration": 198,
    "start_time": "2025-02-09T21:18:58.921Z"
   },
   {
    "duration": 13,
    "start_time": "2025-02-09T21:18:59.121Z"
   },
   {
    "duration": 65,
    "start_time": "2025-02-09T21:18:59.135Z"
   },
   {
    "duration": 98,
    "start_time": "2025-02-09T21:18:59.202Z"
   },
   {
    "duration": 48,
    "start_time": "2025-02-09T21:18:59.301Z"
   },
   {
    "duration": 29,
    "start_time": "2025-02-09T21:18:59.351Z"
   },
   {
    "duration": 10,
    "start_time": "2025-02-09T21:18:59.382Z"
   },
   {
    "duration": 30,
    "start_time": "2025-02-09T21:18:59.395Z"
   },
   {
    "duration": 10,
    "start_time": "2025-02-09T21:18:59.426Z"
   },
   {
    "duration": 6,
    "start_time": "2025-02-09T21:18:59.438Z"
   },
   {
    "duration": 28,
    "start_time": "2025-02-09T21:18:59.445Z"
   },
   {
    "duration": 8,
    "start_time": "2025-02-09T21:18:59.477Z"
   },
   {
    "duration": 7,
    "start_time": "2025-02-09T21:18:59.487Z"
   },
   {
    "duration": 787,
    "start_time": "2025-02-09T21:18:59.495Z"
   },
   {
    "duration": 769,
    "start_time": "2025-02-09T21:19:00.284Z"
   },
   {
    "duration": 2,
    "start_time": "2025-02-09T21:19:01.055Z"
   },
   {
    "duration": 2,
    "start_time": "2025-02-09T21:19:01.069Z"
   },
   {
    "duration": 3,
    "start_time": "2025-02-09T21:19:01.073Z"
   },
   {
    "duration": 3,
    "start_time": "2025-02-09T21:19:01.078Z"
   },
   {
    "duration": 3,
    "start_time": "2025-02-09T21:19:01.083Z"
   },
   {
    "duration": 3,
    "start_time": "2025-02-09T21:19:01.087Z"
   },
   {
    "duration": 3,
    "start_time": "2025-02-09T21:19:01.092Z"
   },
   {
    "duration": 2,
    "start_time": "2025-02-09T21:19:01.097Z"
   },
   {
    "duration": 3,
    "start_time": "2025-02-09T21:19:01.101Z"
   },
   {
    "duration": 776,
    "start_time": "2025-02-09T21:19:36.903Z"
   },
   {
    "duration": 791,
    "start_time": "2025-02-09T21:23:36.537Z"
   },
   {
    "duration": 162,
    "start_time": "2025-02-09T22:06:30.193Z"
   },
   {
    "duration": 269,
    "start_time": "2025-02-09T22:06:45.332Z"
   },
   {
    "duration": 143,
    "start_time": "2025-02-09T22:06:45.603Z"
   },
   {
    "duration": 12,
    "start_time": "2025-02-09T22:06:45.748Z"
   },
   {
    "duration": 13,
    "start_time": "2025-02-09T22:06:45.762Z"
   },
   {
    "duration": 54,
    "start_time": "2025-02-09T22:06:45.778Z"
   },
   {
    "duration": 15,
    "start_time": "2025-02-09T22:06:45.834Z"
   },
   {
    "duration": 10,
    "start_time": "2025-02-09T22:06:45.851Z"
   },
   {
    "duration": 6,
    "start_time": "2025-02-09T22:06:45.863Z"
   },
   {
    "duration": 8,
    "start_time": "2025-02-09T22:06:45.871Z"
   },
   {
    "duration": 8,
    "start_time": "2025-02-09T22:06:45.880Z"
   },
   {
    "duration": 5,
    "start_time": "2025-02-09T22:06:45.890Z"
   },
   {
    "duration": 7,
    "start_time": "2025-02-09T22:06:45.896Z"
   },
   {
    "duration": 40,
    "start_time": "2025-02-09T22:06:45.905Z"
   },
   {
    "duration": 810,
    "start_time": "2025-02-09T22:06:45.949Z"
   },
   {
    "duration": 22,
    "start_time": "2025-02-09T22:06:46.761Z"
   },
   {
    "duration": 10,
    "start_time": "2025-02-09T22:06:46.785Z"
   },
   {
    "duration": 187,
    "start_time": "2025-02-09T22:06:46.797Z"
   },
   {
    "duration": 10,
    "start_time": "2025-02-09T22:06:46.986Z"
   },
   {
    "duration": 60,
    "start_time": "2025-02-09T22:06:46.998Z"
   },
   {
    "duration": 90,
    "start_time": "2025-02-09T22:06:47.061Z"
   },
   {
    "duration": 44,
    "start_time": "2025-02-09T22:06:47.153Z"
   },
   {
    "duration": 16,
    "start_time": "2025-02-09T22:06:47.199Z"
   },
   {
    "duration": 28,
    "start_time": "2025-02-09T22:06:47.216Z"
   },
   {
    "duration": 14,
    "start_time": "2025-02-09T22:06:47.245Z"
   },
   {
    "duration": 22,
    "start_time": "2025-02-09T22:06:47.261Z"
   },
   {
    "duration": 8,
    "start_time": "2025-02-09T22:06:47.285Z"
   },
   {
    "duration": 6,
    "start_time": "2025-02-09T22:06:47.294Z"
   },
   {
    "duration": 8,
    "start_time": "2025-02-09T22:06:47.301Z"
   },
   {
    "duration": 5,
    "start_time": "2025-02-09T22:06:47.343Z"
   },
   {
    "duration": 787,
    "start_time": "2025-02-09T22:06:47.350Z"
   },
   {
    "duration": 744,
    "start_time": "2025-02-09T22:06:48.143Z"
   },
   {
    "duration": 2,
    "start_time": "2025-02-09T22:06:48.889Z"
   },
   {
    "duration": 3,
    "start_time": "2025-02-09T22:06:48.893Z"
   },
   {
    "duration": 2,
    "start_time": "2025-02-09T22:06:48.898Z"
   },
   {
    "duration": 3,
    "start_time": "2025-02-09T22:06:48.902Z"
   },
   {
    "duration": 2,
    "start_time": "2025-02-09T22:06:48.907Z"
   },
   {
    "duration": 3,
    "start_time": "2025-02-09T22:06:48.911Z"
   },
   {
    "duration": 30,
    "start_time": "2025-02-09T22:06:48.915Z"
   },
   {
    "duration": 4,
    "start_time": "2025-02-09T22:06:48.946Z"
   },
   {
    "duration": 3,
    "start_time": "2025-02-09T22:06:48.951Z"
   },
   {
    "duration": 309,
    "start_time": "2025-02-09T22:16:14.046Z"
   },
   {
    "duration": 124,
    "start_time": "2025-02-09T22:16:14.357Z"
   },
   {
    "duration": 13,
    "start_time": "2025-02-09T22:16:14.482Z"
   },
   {
    "duration": 13,
    "start_time": "2025-02-09T22:16:14.497Z"
   },
   {
    "duration": 51,
    "start_time": "2025-02-09T22:16:14.511Z"
   },
   {
    "duration": 9,
    "start_time": "2025-02-09T22:16:14.564Z"
   },
   {
    "duration": 9,
    "start_time": "2025-02-09T22:16:14.575Z"
   },
   {
    "duration": 5,
    "start_time": "2025-02-09T22:16:14.585Z"
   },
   {
    "duration": 8,
    "start_time": "2025-02-09T22:16:14.591Z"
   },
   {
    "duration": 6,
    "start_time": "2025-02-09T22:16:14.602Z"
   },
   {
    "duration": 36,
    "start_time": "2025-02-09T22:16:14.611Z"
   },
   {
    "duration": 8,
    "start_time": "2025-02-09T22:16:14.648Z"
   },
   {
    "duration": 7,
    "start_time": "2025-02-09T22:16:14.657Z"
   },
   {
    "duration": 729,
    "start_time": "2025-02-09T22:16:14.667Z"
   },
   {
    "duration": 24,
    "start_time": "2025-02-09T22:16:15.398Z"
   },
   {
    "duration": 26,
    "start_time": "2025-02-09T22:16:15.424Z"
   },
   {
    "duration": 176,
    "start_time": "2025-02-09T22:16:15.451Z"
   },
   {
    "duration": 19,
    "start_time": "2025-02-09T22:16:15.629Z"
   },
   {
    "duration": 51,
    "start_time": "2025-02-09T22:16:15.649Z"
   },
   {
    "duration": 99,
    "start_time": "2025-02-09T22:16:15.702Z"
   },
   {
    "duration": 62,
    "start_time": "2025-02-09T22:16:15.802Z"
   },
   {
    "duration": 17,
    "start_time": "2025-02-09T22:16:15.866Z"
   },
   {
    "duration": 11,
    "start_time": "2025-02-09T22:16:15.885Z"
   },
   {
    "duration": 15,
    "start_time": "2025-02-09T22:16:15.897Z"
   },
   {
    "duration": 47,
    "start_time": "2025-02-09T22:16:15.914Z"
   },
   {
    "duration": 7,
    "start_time": "2025-02-09T22:16:15.963Z"
   },
   {
    "duration": 5,
    "start_time": "2025-02-09T22:16:15.972Z"
   },
   {
    "duration": 7,
    "start_time": "2025-02-09T22:16:15.982Z"
   },
   {
    "duration": 5,
    "start_time": "2025-02-09T22:16:15.991Z"
   },
   {
    "duration": 773,
    "start_time": "2025-02-09T22:16:15.997Z"
   },
   {
    "duration": 774,
    "start_time": "2025-02-09T22:16:16.771Z"
   },
   {
    "duration": 397,
    "start_time": "2025-02-09T22:16:17.547Z"
   },
   {
    "duration": 0,
    "start_time": "2025-02-09T22:16:17.946Z"
   },
   {
    "duration": 0,
    "start_time": "2025-02-09T22:16:17.947Z"
   },
   {
    "duration": 0,
    "start_time": "2025-02-09T22:16:17.948Z"
   },
   {
    "duration": 0,
    "start_time": "2025-02-09T22:16:17.951Z"
   },
   {
    "duration": 0,
    "start_time": "2025-02-09T22:16:17.952Z"
   },
   {
    "duration": 0,
    "start_time": "2025-02-09T22:16:17.953Z"
   },
   {
    "duration": 0,
    "start_time": "2025-02-09T22:16:17.954Z"
   },
   {
    "duration": 0,
    "start_time": "2025-02-09T22:16:17.955Z"
   },
   {
    "duration": 286,
    "start_time": "2025-02-09T22:21:28.098Z"
   },
   {
    "duration": 136,
    "start_time": "2025-02-09T22:21:28.386Z"
   },
   {
    "duration": 12,
    "start_time": "2025-02-09T22:21:28.524Z"
   },
   {
    "duration": 12,
    "start_time": "2025-02-09T22:21:28.544Z"
   },
   {
    "duration": 47,
    "start_time": "2025-02-09T22:21:28.558Z"
   },
   {
    "duration": 10,
    "start_time": "2025-02-09T22:21:28.607Z"
   },
   {
    "duration": 30,
    "start_time": "2025-02-09T22:21:28.619Z"
   },
   {
    "duration": 5,
    "start_time": "2025-02-09T22:21:28.651Z"
   },
   {
    "duration": 8,
    "start_time": "2025-02-09T22:21:28.657Z"
   },
   {
    "duration": 7,
    "start_time": "2025-02-09T22:21:28.668Z"
   },
   {
    "duration": 6,
    "start_time": "2025-02-09T22:21:28.676Z"
   },
   {
    "duration": 9,
    "start_time": "2025-02-09T22:21:28.683Z"
   },
   {
    "duration": 6,
    "start_time": "2025-02-09T22:21:28.693Z"
   },
   {
    "duration": 757,
    "start_time": "2025-02-09T22:21:28.700Z"
   },
   {
    "duration": 24,
    "start_time": "2025-02-09T22:21:29.458Z"
   },
   {
    "duration": 9,
    "start_time": "2025-02-09T22:21:29.485Z"
   },
   {
    "duration": 196,
    "start_time": "2025-02-09T22:21:29.496Z"
   },
   {
    "duration": 10,
    "start_time": "2025-02-09T22:21:29.694Z"
   },
   {
    "duration": 59,
    "start_time": "2025-02-09T22:21:29.706Z"
   },
   {
    "duration": 95,
    "start_time": "2025-02-09T22:21:29.767Z"
   },
   {
    "duration": 45,
    "start_time": "2025-02-09T22:21:29.865Z"
   },
   {
    "duration": 31,
    "start_time": "2025-02-09T22:21:29.912Z"
   },
   {
    "duration": 9,
    "start_time": "2025-02-09T22:21:29.945Z"
   },
   {
    "duration": 15,
    "start_time": "2025-02-09T22:21:29.955Z"
   },
   {
    "duration": 22,
    "start_time": "2025-02-09T22:21:29.971Z"
   },
   {
    "duration": 7,
    "start_time": "2025-02-09T22:21:29.996Z"
   },
   {
    "duration": 5,
    "start_time": "2025-02-09T22:21:30.006Z"
   },
   {
    "duration": 33,
    "start_time": "2025-02-09T22:21:30.015Z"
   },
   {
    "duration": 4,
    "start_time": "2025-02-09T22:21:30.050Z"
   },
   {
    "duration": 811,
    "start_time": "2025-02-09T22:21:30.056Z"
   },
   {
    "duration": 742,
    "start_time": "2025-02-09T22:21:30.869Z"
   },
   {
    "duration": 5,
    "start_time": "2025-02-09T22:21:31.613Z"
   },
   {
    "duration": 4,
    "start_time": "2025-02-09T22:21:31.620Z"
   },
   {
    "duration": 0,
    "start_time": "2025-02-09T22:21:31.626Z"
   },
   {
    "duration": 0,
    "start_time": "2025-02-09T22:21:31.627Z"
   },
   {
    "duration": 0,
    "start_time": "2025-02-09T22:21:31.628Z"
   },
   {
    "duration": 0,
    "start_time": "2025-02-09T22:21:31.643Z"
   },
   {
    "duration": 0,
    "start_time": "2025-02-09T22:21:31.645Z"
   },
   {
    "duration": 0,
    "start_time": "2025-02-09T22:21:31.646Z"
   },
   {
    "duration": 0,
    "start_time": "2025-02-09T22:21:31.647Z"
   },
   {
    "duration": 14,
    "start_time": "2025-02-09T22:21:52.320Z"
   },
   {
    "duration": 8,
    "start_time": "2025-02-09T22:25:28.473Z"
   },
   {
    "duration": 3,
    "start_time": "2025-02-09T22:27:24.310Z"
   },
   {
    "duration": 13,
    "start_time": "2025-02-09T22:27:53.810Z"
   },
   {
    "duration": 12,
    "start_time": "2025-02-09T22:28:44.401Z"
   },
   {
    "duration": 9,
    "start_time": "2025-02-09T22:28:51.459Z"
   },
   {
    "duration": 9,
    "start_time": "2025-02-09T22:29:16.853Z"
   },
   {
    "duration": 13,
    "start_time": "2025-02-09T22:30:20.536Z"
   },
   {
    "duration": 10,
    "start_time": "2025-02-09T22:34:01.358Z"
   },
   {
    "duration": 281,
    "start_time": "2025-02-09T22:36:58.508Z"
   },
   {
    "duration": 128,
    "start_time": "2025-02-09T22:36:58.791Z"
   },
   {
    "duration": 12,
    "start_time": "2025-02-09T22:36:58.920Z"
   },
   {
    "duration": 13,
    "start_time": "2025-02-09T22:36:58.944Z"
   },
   {
    "duration": 35,
    "start_time": "2025-02-09T22:36:58.959Z"
   },
   {
    "duration": 10,
    "start_time": "2025-02-09T22:36:58.995Z"
   },
   {
    "duration": 9,
    "start_time": "2025-02-09T22:36:59.007Z"
   },
   {
    "duration": 29,
    "start_time": "2025-02-09T22:36:59.017Z"
   },
   {
    "duration": 7,
    "start_time": "2025-02-09T22:36:59.048Z"
   },
   {
    "duration": 9,
    "start_time": "2025-02-09T22:36:59.059Z"
   },
   {
    "duration": 4,
    "start_time": "2025-02-09T22:36:59.070Z"
   },
   {
    "duration": 7,
    "start_time": "2025-02-09T22:36:59.076Z"
   },
   {
    "duration": 7,
    "start_time": "2025-02-09T22:36:59.085Z"
   },
   {
    "duration": 766,
    "start_time": "2025-02-09T22:36:59.093Z"
   },
   {
    "duration": 23,
    "start_time": "2025-02-09T22:36:59.861Z"
   },
   {
    "duration": 10,
    "start_time": "2025-02-09T22:36:59.886Z"
   },
   {
    "duration": 191,
    "start_time": "2025-02-09T22:36:59.897Z"
   },
   {
    "duration": 10,
    "start_time": "2025-02-09T22:37:00.090Z"
   },
   {
    "duration": 64,
    "start_time": "2025-02-09T22:37:00.101Z"
   },
   {
    "duration": 89,
    "start_time": "2025-02-09T22:37:00.167Z"
   },
   {
    "duration": 43,
    "start_time": "2025-02-09T22:37:00.258Z"
   },
   {
    "duration": 18,
    "start_time": "2025-02-09T22:37:00.303Z"
   },
   {
    "duration": 27,
    "start_time": "2025-02-09T22:37:00.322Z"
   },
   {
    "duration": 15,
    "start_time": "2025-02-09T22:37:00.350Z"
   },
   {
    "duration": 22,
    "start_time": "2025-02-09T22:37:00.367Z"
   },
   {
    "duration": 6,
    "start_time": "2025-02-09T22:37:00.390Z"
   },
   {
    "duration": 5,
    "start_time": "2025-02-09T22:37:00.398Z"
   },
   {
    "duration": 37,
    "start_time": "2025-02-09T22:37:00.407Z"
   },
   {
    "duration": 5,
    "start_time": "2025-02-09T22:37:00.445Z"
   },
   {
    "duration": 785,
    "start_time": "2025-02-09T22:37:00.452Z"
   },
   {
    "duration": 825,
    "start_time": "2025-02-09T22:37:01.243Z"
   },
   {
    "duration": 9,
    "start_time": "2025-02-09T22:37:02.070Z"
   },
   {
    "duration": 11,
    "start_time": "2025-02-09T22:37:02.081Z"
   },
   {
    "duration": 11,
    "start_time": "2025-02-09T22:37:02.093Z"
   },
   {
    "duration": 9,
    "start_time": "2025-02-09T22:37:02.106Z"
   },
   {
    "duration": 33,
    "start_time": "2025-02-09T22:37:02.116Z"
   },
   {
    "duration": 2,
    "start_time": "2025-02-09T22:37:02.151Z"
   },
   {
    "duration": 2,
    "start_time": "2025-02-09T22:37:02.155Z"
   },
   {
    "duration": 3,
    "start_time": "2025-02-09T22:37:02.159Z"
   },
   {
    "duration": 3,
    "start_time": "2025-02-09T22:37:02.164Z"
   },
   {
    "duration": 3,
    "start_time": "2025-02-09T22:37:02.169Z"
   },
   {
    "duration": 280,
    "start_time": "2025-02-09T22:41:01.315Z"
   },
   {
    "duration": 127,
    "start_time": "2025-02-09T22:41:01.597Z"
   },
   {
    "duration": 17,
    "start_time": "2025-02-09T22:41:01.726Z"
   },
   {
    "duration": 13,
    "start_time": "2025-02-09T22:41:01.745Z"
   },
   {
    "duration": 34,
    "start_time": "2025-02-09T22:41:01.760Z"
   },
   {
    "duration": 10,
    "start_time": "2025-02-09T22:41:01.796Z"
   },
   {
    "duration": 8,
    "start_time": "2025-02-09T22:41:01.808Z"
   },
   {
    "duration": 4,
    "start_time": "2025-02-09T22:41:01.843Z"
   },
   {
    "duration": 8,
    "start_time": "2025-02-09T22:41:01.849Z"
   },
   {
    "duration": 8,
    "start_time": "2025-02-09T22:41:01.862Z"
   },
   {
    "duration": 5,
    "start_time": "2025-02-09T22:41:01.872Z"
   },
   {
    "duration": 10,
    "start_time": "2025-02-09T22:41:01.878Z"
   },
   {
    "duration": 6,
    "start_time": "2025-02-09T22:41:01.889Z"
   },
   {
    "duration": 741,
    "start_time": "2025-02-09T22:41:01.897Z"
   },
   {
    "duration": 24,
    "start_time": "2025-02-09T22:41:02.643Z"
   },
   {
    "duration": 8,
    "start_time": "2025-02-09T22:41:02.669Z"
   },
   {
    "duration": 200,
    "start_time": "2025-02-09T22:41:02.679Z"
   },
   {
    "duration": 11,
    "start_time": "2025-02-09T22:41:02.881Z"
   },
   {
    "duration": 63,
    "start_time": "2025-02-09T22:41:02.894Z"
   },
   {
    "duration": 100,
    "start_time": "2025-02-09T22:41:02.961Z"
   },
   {
    "duration": 48,
    "start_time": "2025-02-09T22:41:03.062Z"
   },
   {
    "duration": 33,
    "start_time": "2025-02-09T22:41:03.112Z"
   },
   {
    "duration": 13,
    "start_time": "2025-02-09T22:41:03.146Z"
   },
   {
    "duration": 20,
    "start_time": "2025-02-09T22:41:03.161Z"
   },
   {
    "duration": 22,
    "start_time": "2025-02-09T22:41:03.183Z"
   },
   {
    "duration": 6,
    "start_time": "2025-02-09T22:41:03.207Z"
   },
   {
    "duration": 6,
    "start_time": "2025-02-09T22:41:03.243Z"
   },
   {
    "duration": 9,
    "start_time": "2025-02-09T22:41:03.253Z"
   },
   {
    "duration": 10,
    "start_time": "2025-02-09T22:41:03.264Z"
   },
   {
    "duration": 783,
    "start_time": "2025-02-09T22:41:03.276Z"
   },
   {
    "duration": 752,
    "start_time": "2025-02-09T22:41:04.061Z"
   },
   {
    "duration": 10,
    "start_time": "2025-02-09T22:41:04.815Z"
   },
   {
    "duration": 20,
    "start_time": "2025-02-09T22:41:04.826Z"
   },
   {
    "duration": 13,
    "start_time": "2025-02-09T22:41:04.848Z"
   },
   {
    "duration": 9,
    "start_time": "2025-02-09T22:41:04.863Z"
   },
   {
    "duration": 8,
    "start_time": "2025-02-09T22:41:04.873Z"
   },
   {
    "duration": 207,
    "start_time": "2025-02-09T22:41:04.883Z"
   },
   {
    "duration": 0,
    "start_time": "2025-02-09T22:41:05.092Z"
   },
   {
    "duration": 0,
    "start_time": "2025-02-09T22:41:05.093Z"
   },
   {
    "duration": 0,
    "start_time": "2025-02-09T22:41:05.094Z"
   },
   {
    "duration": 0,
    "start_time": "2025-02-09T22:41:05.095Z"
   },
   {
    "duration": 0,
    "start_time": "2025-02-09T22:41:05.096Z"
   },
   {
    "duration": 12,
    "start_time": "2025-02-09T22:41:13.441Z"
   },
   {
    "duration": 298,
    "start_time": "2025-02-09T22:41:20.391Z"
   },
   {
    "duration": 133,
    "start_time": "2025-02-09T22:41:20.692Z"
   },
   {
    "duration": 17,
    "start_time": "2025-02-09T22:41:20.826Z"
   },
   {
    "duration": 17,
    "start_time": "2025-02-09T22:41:20.846Z"
   },
   {
    "duration": 35,
    "start_time": "2025-02-09T22:41:20.864Z"
   },
   {
    "duration": 10,
    "start_time": "2025-02-09T22:41:20.900Z"
   },
   {
    "duration": 8,
    "start_time": "2025-02-09T22:41:20.912Z"
   },
   {
    "duration": 6,
    "start_time": "2025-02-09T22:41:20.944Z"
   },
   {
    "duration": 8,
    "start_time": "2025-02-09T22:41:20.952Z"
   },
   {
    "duration": 7,
    "start_time": "2025-02-09T22:41:20.963Z"
   },
   {
    "duration": 5,
    "start_time": "2025-02-09T22:41:20.972Z"
   },
   {
    "duration": 7,
    "start_time": "2025-02-09T22:41:20.980Z"
   },
   {
    "duration": 6,
    "start_time": "2025-02-09T22:41:20.988Z"
   },
   {
    "duration": 751,
    "start_time": "2025-02-09T22:41:20.996Z"
   },
   {
    "duration": 24,
    "start_time": "2025-02-09T22:41:21.749Z"
   },
   {
    "duration": 8,
    "start_time": "2025-02-09T22:41:21.776Z"
   },
   {
    "duration": 197,
    "start_time": "2025-02-09T22:41:21.788Z"
   },
   {
    "duration": 9,
    "start_time": "2025-02-09T22:41:21.987Z"
   },
   {
    "duration": 61,
    "start_time": "2025-02-09T22:41:21.998Z"
   },
   {
    "duration": 96,
    "start_time": "2025-02-09T22:41:22.061Z"
   },
   {
    "duration": 47,
    "start_time": "2025-02-09T22:41:22.159Z"
   },
   {
    "duration": 16,
    "start_time": "2025-02-09T22:41:22.208Z"
   },
   {
    "duration": 27,
    "start_time": "2025-02-09T22:41:22.225Z"
   },
   {
    "duration": 15,
    "start_time": "2025-02-09T22:41:22.254Z"
   },
   {
    "duration": 21,
    "start_time": "2025-02-09T22:41:22.271Z"
   },
   {
    "duration": 6,
    "start_time": "2025-02-09T22:41:22.294Z"
   },
   {
    "duration": 5,
    "start_time": "2025-02-09T22:41:22.301Z"
   },
   {
    "duration": 7,
    "start_time": "2025-02-09T22:41:22.343Z"
   },
   {
    "duration": 6,
    "start_time": "2025-02-09T22:41:22.352Z"
   },
   {
    "duration": 753,
    "start_time": "2025-02-09T22:41:22.359Z"
   },
   {
    "duration": 744,
    "start_time": "2025-02-09T22:41:23.114Z"
   },
   {
    "duration": 9,
    "start_time": "2025-02-09T22:41:23.859Z"
   },
   {
    "duration": 11,
    "start_time": "2025-02-09T22:41:23.870Z"
   },
   {
    "duration": 10,
    "start_time": "2025-02-09T22:41:23.883Z"
   },
   {
    "duration": 9,
    "start_time": "2025-02-09T22:41:23.895Z"
   },
   {
    "duration": 39,
    "start_time": "2025-02-09T22:41:23.905Z"
   },
   {
    "duration": 183,
    "start_time": "2025-02-09T22:41:23.946Z"
   },
   {
    "duration": 0,
    "start_time": "2025-02-09T22:41:24.131Z"
   },
   {
    "duration": 1,
    "start_time": "2025-02-09T22:41:24.132Z"
   },
   {
    "duration": 0,
    "start_time": "2025-02-09T22:41:24.134Z"
   },
   {
    "duration": 0,
    "start_time": "2025-02-09T22:41:24.143Z"
   },
   {
    "duration": 0,
    "start_time": "2025-02-09T22:41:24.145Z"
   },
   {
    "duration": 294,
    "start_time": "2025-02-09T22:42:11.694Z"
   },
   {
    "duration": 122,
    "start_time": "2025-02-09T22:42:11.990Z"
   },
   {
    "duration": 12,
    "start_time": "2025-02-09T22:42:12.114Z"
   },
   {
    "duration": 22,
    "start_time": "2025-02-09T22:42:12.128Z"
   },
   {
    "duration": 35,
    "start_time": "2025-02-09T22:42:12.152Z"
   },
   {
    "duration": 10,
    "start_time": "2025-02-09T22:42:12.189Z"
   },
   {
    "duration": 8,
    "start_time": "2025-02-09T22:42:12.200Z"
   },
   {
    "duration": 5,
    "start_time": "2025-02-09T22:42:12.210Z"
   },
   {
    "duration": 31,
    "start_time": "2025-02-09T22:42:12.217Z"
   },
   {
    "duration": 7,
    "start_time": "2025-02-09T22:42:12.252Z"
   },
   {
    "duration": 6,
    "start_time": "2025-02-09T22:42:12.261Z"
   },
   {
    "duration": 9,
    "start_time": "2025-02-09T22:42:12.268Z"
   },
   {
    "duration": 6,
    "start_time": "2025-02-09T22:42:12.278Z"
   },
   {
    "duration": 754,
    "start_time": "2025-02-09T22:42:12.286Z"
   },
   {
    "duration": 24,
    "start_time": "2025-02-09T22:42:13.042Z"
   },
   {
    "duration": 10,
    "start_time": "2025-02-09T22:42:13.068Z"
   },
   {
    "duration": 200,
    "start_time": "2025-02-09T22:42:13.079Z"
   },
   {
    "duration": 10,
    "start_time": "2025-02-09T22:42:13.281Z"
   },
   {
    "duration": 65,
    "start_time": "2025-02-09T22:42:13.293Z"
   },
   {
    "duration": 95,
    "start_time": "2025-02-09T22:42:13.360Z"
   },
   {
    "duration": 46,
    "start_time": "2025-02-09T22:42:13.456Z"
   },
   {
    "duration": 16,
    "start_time": "2025-02-09T22:42:13.504Z"
   },
   {
    "duration": 25,
    "start_time": "2025-02-09T22:42:13.522Z"
   },
   {
    "duration": 15,
    "start_time": "2025-02-09T22:42:13.549Z"
   },
   {
    "duration": 22,
    "start_time": "2025-02-09T22:42:13.566Z"
   },
   {
    "duration": 6,
    "start_time": "2025-02-09T22:42:13.589Z"
   },
   {
    "duration": 5,
    "start_time": "2025-02-09T22:42:13.597Z"
   },
   {
    "duration": 38,
    "start_time": "2025-02-09T22:42:13.606Z"
   },
   {
    "duration": 5,
    "start_time": "2025-02-09T22:42:13.645Z"
   },
   {
    "duration": 752,
    "start_time": "2025-02-09T22:42:13.652Z"
   },
   {
    "duration": 785,
    "start_time": "2025-02-09T22:42:14.405Z"
   },
   {
    "duration": 11,
    "start_time": "2025-02-09T22:42:15.192Z"
   },
   {
    "duration": 12,
    "start_time": "2025-02-09T22:42:15.205Z"
   },
   {
    "duration": 29,
    "start_time": "2025-02-09T22:42:15.218Z"
   },
   {
    "duration": 11,
    "start_time": "2025-02-09T22:42:15.248Z"
   },
   {
    "duration": 9,
    "start_time": "2025-02-09T22:42:15.260Z"
   },
   {
    "duration": 9,
    "start_time": "2025-02-09T22:42:15.271Z"
   },
   {
    "duration": 3,
    "start_time": "2025-02-09T22:42:15.281Z"
   },
   {
    "duration": 3,
    "start_time": "2025-02-09T22:42:15.286Z"
   },
   {
    "duration": 3,
    "start_time": "2025-02-09T22:42:15.290Z"
   },
   {
    "duration": 3,
    "start_time": "2025-02-09T22:42:15.295Z"
   },
   {
    "duration": 43,
    "start_time": "2025-02-09T22:42:15.299Z"
   },
   {
    "duration": 16,
    "start_time": "2025-02-09T22:42:40.045Z"
   },
   {
    "duration": 309,
    "start_time": "2025-02-10T23:11:34.980Z"
   },
   {
    "duration": 152,
    "start_time": "2025-02-10T23:11:35.291Z"
   },
   {
    "duration": 13,
    "start_time": "2025-02-10T23:11:35.445Z"
   },
   {
    "duration": 13,
    "start_time": "2025-02-10T23:11:35.460Z"
   },
   {
    "duration": 54,
    "start_time": "2025-02-10T23:11:35.474Z"
   },
   {
    "duration": 10,
    "start_time": "2025-02-10T23:11:35.529Z"
   },
   {
    "duration": 8,
    "start_time": "2025-02-10T23:11:35.541Z"
   },
   {
    "duration": 6,
    "start_time": "2025-02-10T23:11:35.551Z"
   },
   {
    "duration": 9,
    "start_time": "2025-02-10T23:11:35.558Z"
   },
   {
    "duration": 8,
    "start_time": "2025-02-10T23:11:35.570Z"
   },
   {
    "duration": 5,
    "start_time": "2025-02-10T23:11:35.580Z"
   },
   {
    "duration": 7,
    "start_time": "2025-02-10T23:11:35.587Z"
   },
   {
    "duration": 6,
    "start_time": "2025-02-10T23:11:35.632Z"
   },
   {
    "duration": 814,
    "start_time": "2025-02-10T23:11:35.639Z"
   },
   {
    "duration": 23,
    "start_time": "2025-02-10T23:11:36.455Z"
   },
   {
    "duration": 9,
    "start_time": "2025-02-10T23:11:36.480Z"
   },
   {
    "duration": 198,
    "start_time": "2025-02-10T23:11:36.490Z"
   },
   {
    "duration": 11,
    "start_time": "2025-02-10T23:11:36.689Z"
   },
   {
    "duration": 65,
    "start_time": "2025-02-10T23:11:36.702Z"
   },
   {
    "duration": 96,
    "start_time": "2025-02-10T23:11:36.769Z"
   },
   {
    "duration": 56,
    "start_time": "2025-02-10T23:11:36.866Z"
   },
   {
    "duration": 26,
    "start_time": "2025-02-10T23:11:36.923Z"
   },
   {
    "duration": 12,
    "start_time": "2025-02-10T23:11:36.950Z"
   },
   {
    "duration": 15,
    "start_time": "2025-02-10T23:11:36.964Z"
   },
   {
    "duration": 51,
    "start_time": "2025-02-10T23:11:36.981Z"
   },
   {
    "duration": 7,
    "start_time": "2025-02-10T23:11:37.034Z"
   },
   {
    "duration": 5,
    "start_time": "2025-02-10T23:11:37.043Z"
   },
   {
    "duration": 8,
    "start_time": "2025-02-10T23:11:37.051Z"
   },
   {
    "duration": 5,
    "start_time": "2025-02-10T23:11:37.061Z"
   },
   {
    "duration": 874,
    "start_time": "2025-02-10T23:11:37.068Z"
   },
   {
    "duration": 829,
    "start_time": "2025-02-10T23:11:37.945Z"
   },
   {
    "duration": 16,
    "start_time": "2025-02-10T23:11:38.776Z"
   },
   {
    "duration": 13,
    "start_time": "2025-02-10T23:11:38.793Z"
   },
   {
    "duration": 33,
    "start_time": "2025-02-10T23:11:38.808Z"
   },
   {
    "duration": 9,
    "start_time": "2025-02-10T23:11:38.843Z"
   },
   {
    "duration": 9,
    "start_time": "2025-02-10T23:11:38.854Z"
   },
   {
    "duration": 16,
    "start_time": "2025-02-10T23:11:38.865Z"
   },
   {
    "duration": 2,
    "start_time": "2025-02-10T23:11:38.882Z"
   },
   {
    "duration": 4,
    "start_time": "2025-02-10T23:11:38.886Z"
   },
   {
    "duration": 2,
    "start_time": "2025-02-10T23:11:38.892Z"
   },
   {
    "duration": 38,
    "start_time": "2025-02-10T23:11:38.896Z"
   },
   {
    "duration": 2,
    "start_time": "2025-02-10T23:11:38.937Z"
   },
   {
    "duration": 14,
    "start_time": "2025-02-10T23:19:10.954Z"
   },
   {
    "duration": 13,
    "start_time": "2025-02-10T23:21:44.806Z"
   },
   {
    "duration": 8,
    "start_time": "2025-02-10T23:31:33.277Z"
   },
   {
    "duration": 278,
    "start_time": "2025-02-10T23:31:42.104Z"
   },
   {
    "duration": 121,
    "start_time": "2025-02-10T23:31:42.384Z"
   },
   {
    "duration": 13,
    "start_time": "2025-02-10T23:31:42.507Z"
   },
   {
    "duration": 13,
    "start_time": "2025-02-10T23:31:42.530Z"
   },
   {
    "duration": 36,
    "start_time": "2025-02-10T23:31:42.545Z"
   },
   {
    "duration": 10,
    "start_time": "2025-02-10T23:31:42.583Z"
   },
   {
    "duration": 8,
    "start_time": "2025-02-10T23:31:42.595Z"
   },
   {
    "duration": 27,
    "start_time": "2025-02-10T23:31:42.605Z"
   },
   {
    "duration": 8,
    "start_time": "2025-02-10T23:31:42.633Z"
   },
   {
    "duration": 7,
    "start_time": "2025-02-10T23:31:42.643Z"
   },
   {
    "duration": 8,
    "start_time": "2025-02-10T23:31:42.652Z"
   },
   {
    "duration": 8,
    "start_time": "2025-02-10T23:31:42.662Z"
   },
   {
    "duration": 7,
    "start_time": "2025-02-10T23:31:42.671Z"
   },
   {
    "duration": 766,
    "start_time": "2025-02-10T23:31:42.681Z"
   },
   {
    "duration": 24,
    "start_time": "2025-02-10T23:31:43.449Z"
   },
   {
    "duration": 9,
    "start_time": "2025-02-10T23:31:43.475Z"
   },
   {
    "duration": 190,
    "start_time": "2025-02-10T23:31:43.485Z"
   },
   {
    "duration": 10,
    "start_time": "2025-02-10T23:31:43.677Z"
   },
   {
    "duration": 59,
    "start_time": "2025-02-10T23:31:43.689Z"
   },
   {
    "duration": 89,
    "start_time": "2025-02-10T23:31:43.750Z"
   },
   {
    "duration": 44,
    "start_time": "2025-02-10T23:31:43.841Z"
   },
   {
    "duration": 18,
    "start_time": "2025-02-10T23:31:43.886Z"
   },
   {
    "duration": 30,
    "start_time": "2025-02-10T23:31:43.906Z"
   },
   {
    "duration": 15,
    "start_time": "2025-02-10T23:31:43.939Z"
   },
   {
    "duration": 22,
    "start_time": "2025-02-10T23:31:43.957Z"
   },
   {
    "duration": 7,
    "start_time": "2025-02-10T23:31:43.981Z"
   },
   {
    "duration": 5,
    "start_time": "2025-02-10T23:31:43.989Z"
   },
   {
    "duration": 36,
    "start_time": "2025-02-10T23:31:43.996Z"
   },
   {
    "duration": 5,
    "start_time": "2025-02-10T23:31:44.034Z"
   },
   {
    "duration": 777,
    "start_time": "2025-02-10T23:31:44.042Z"
   },
   {
    "duration": 771,
    "start_time": "2025-02-10T23:31:44.821Z"
   },
   {
    "duration": 16,
    "start_time": "2025-02-10T23:31:45.594Z"
   },
   {
    "duration": 24,
    "start_time": "2025-02-10T23:31:45.611Z"
   },
   {
    "duration": 12,
    "start_time": "2025-02-10T23:31:45.638Z"
   },
   {
    "duration": 10,
    "start_time": "2025-02-10T23:31:45.652Z"
   },
   {
    "duration": 10,
    "start_time": "2025-02-10T23:31:45.663Z"
   },
   {
    "duration": 15,
    "start_time": "2025-02-10T23:31:45.675Z"
   },
   {
    "duration": 213,
    "start_time": "2025-02-10T23:31:45.691Z"
   },
   {
    "duration": 0,
    "start_time": "2025-02-10T23:31:45.906Z"
   },
   {
    "duration": 0,
    "start_time": "2025-02-10T23:31:45.908Z"
   },
   {
    "duration": 0,
    "start_time": "2025-02-10T23:31:45.909Z"
   },
   {
    "duration": 0,
    "start_time": "2025-02-10T23:31:45.910Z"
   },
   {
    "duration": 8,
    "start_time": "2025-02-10T23:32:07.710Z"
   },
   {
    "duration": 9,
    "start_time": "2025-02-10T23:33:14.263Z"
   },
   {
    "duration": 34,
    "start_time": "2025-02-10T23:36:06.990Z"
   },
   {
    "duration": 6,
    "start_time": "2025-02-10T23:38:26.276Z"
   },
   {
    "duration": 14,
    "start_time": "2025-02-10T23:38:37.854Z"
   },
   {
    "duration": 405,
    "start_time": "2025-02-10T23:43:57.286Z"
   },
   {
    "duration": 12,
    "start_time": "2025-02-10T23:44:02.813Z"
   },
   {
    "duration": 7,
    "start_time": "2025-02-10T23:48:45.271Z"
   },
   {
    "duration": 241,
    "start_time": "2025-02-10T23:49:14.095Z"
   },
   {
    "duration": 272,
    "start_time": "2025-02-10T23:49:22.531Z"
   },
   {
    "duration": 389,
    "start_time": "2025-02-10T23:50:28.427Z"
   },
   {
    "duration": 279,
    "start_time": "2025-02-10T23:51:07.129Z"
   },
   {
    "duration": 13,
    "start_time": "2025-02-10T23:54:49.738Z"
   },
   {
    "duration": 267,
    "start_time": "2025-02-10T23:58:14.359Z"
   },
   {
    "duration": 31,
    "start_time": "2025-02-11T00:00:58.124Z"
   },
   {
    "duration": 4,
    "start_time": "2025-02-11T00:01:15.477Z"
   },
   {
    "duration": 22,
    "start_time": "2025-02-11T00:01:24.306Z"
   },
   {
    "duration": 2,
    "start_time": "2025-02-11T00:19:58.996Z"
   },
   {
    "duration": 289,
    "start_time": "2025-02-11T00:29:35.215Z"
   },
   {
    "duration": 276,
    "start_time": "2025-02-11T00:39:59.309Z"
   },
   {
    "duration": 128,
    "start_time": "2025-02-11T00:39:59.587Z"
   },
   {
    "duration": 14,
    "start_time": "2025-02-11T00:39:59.717Z"
   },
   {
    "duration": 12,
    "start_time": "2025-02-11T00:39:59.734Z"
   },
   {
    "duration": 37,
    "start_time": "2025-02-11T00:39:59.747Z"
   },
   {
    "duration": 10,
    "start_time": "2025-02-11T00:39:59.786Z"
   },
   {
    "duration": 9,
    "start_time": "2025-02-11T00:39:59.798Z"
   },
   {
    "duration": 6,
    "start_time": "2025-02-11T00:39:59.832Z"
   },
   {
    "duration": 7,
    "start_time": "2025-02-11T00:39:59.840Z"
   },
   {
    "duration": 7,
    "start_time": "2025-02-11T00:39:59.852Z"
   },
   {
    "duration": 6,
    "start_time": "2025-02-11T00:39:59.861Z"
   },
   {
    "duration": 8,
    "start_time": "2025-02-11T00:39:59.869Z"
   },
   {
    "duration": 6,
    "start_time": "2025-02-11T00:39:59.879Z"
   },
   {
    "duration": 758,
    "start_time": "2025-02-11T00:39:59.886Z"
   },
   {
    "duration": 25,
    "start_time": "2025-02-11T00:40:00.645Z"
   },
   {
    "duration": 10,
    "start_time": "2025-02-11T00:40:00.671Z"
   },
   {
    "duration": 211,
    "start_time": "2025-02-11T00:40:00.683Z"
   },
   {
    "duration": 11,
    "start_time": "2025-02-11T00:40:00.895Z"
   },
   {
    "duration": 70,
    "start_time": "2025-02-11T00:40:00.908Z"
   },
   {
    "duration": 97,
    "start_time": "2025-02-11T00:40:00.980Z"
   },
   {
    "duration": 57,
    "start_time": "2025-02-11T00:40:01.079Z"
   },
   {
    "duration": 22,
    "start_time": "2025-02-11T00:40:01.137Z"
   },
   {
    "duration": 12,
    "start_time": "2025-02-11T00:40:01.162Z"
   },
   {
    "duration": 18,
    "start_time": "2025-02-11T00:40:01.177Z"
   },
   {
    "duration": 51,
    "start_time": "2025-02-11T00:40:01.197Z"
   },
   {
    "duration": 6,
    "start_time": "2025-02-11T00:40:01.249Z"
   },
   {
    "duration": 6,
    "start_time": "2025-02-11T00:40:01.256Z"
   },
   {
    "duration": 8,
    "start_time": "2025-02-11T00:40:01.266Z"
   },
   {
    "duration": 7,
    "start_time": "2025-02-11T00:40:01.277Z"
   },
   {
    "duration": 817,
    "start_time": "2025-02-11T00:40:01.286Z"
   },
   {
    "duration": 833,
    "start_time": "2025-02-11T00:40:02.105Z"
   },
   {
    "duration": 15,
    "start_time": "2025-02-11T00:40:02.940Z"
   },
   {
    "duration": 11,
    "start_time": "2025-02-11T00:40:02.956Z"
   },
   {
    "duration": 12,
    "start_time": "2025-02-11T00:40:02.969Z"
   },
   {
    "duration": 10,
    "start_time": "2025-02-11T00:40:02.982Z"
   },
   {
    "duration": 47,
    "start_time": "2025-02-11T00:40:02.993Z"
   },
   {
    "duration": 16,
    "start_time": "2025-02-11T00:40:03.042Z"
   },
   {
    "duration": 7,
    "start_time": "2025-02-11T00:40:03.060Z"
   },
   {
    "duration": 9,
    "start_time": "2025-02-11T00:40:03.069Z"
   },
   {
    "duration": 61,
    "start_time": "2025-02-11T00:40:03.080Z"
   },
   {
    "duration": 12,
    "start_time": "2025-02-11T00:40:03.143Z"
   },
   {
    "duration": 4,
    "start_time": "2025-02-11T00:40:03.157Z"
   },
   {
    "duration": 0,
    "start_time": "2025-02-11T00:40:03.163Z"
   },
   {
    "duration": 0,
    "start_time": "2025-02-11T00:40:03.164Z"
   },
   {
    "duration": 0,
    "start_time": "2025-02-11T00:40:03.166Z"
   },
   {
    "duration": 0,
    "start_time": "2025-02-11T00:40:03.167Z"
   },
   {
    "duration": 0,
    "start_time": "2025-02-11T00:40:03.169Z"
   },
   {
    "duration": 0,
    "start_time": "2025-02-11T00:40:03.170Z"
   },
   {
    "duration": 3,
    "start_time": "2025-02-11T00:40:46.188Z"
   },
   {
    "duration": 3,
    "start_time": "2025-02-11T00:40:58.330Z"
   },
   {
    "duration": 4,
    "start_time": "2025-02-11T00:41:55.624Z"
   },
   {
    "duration": 4,
    "start_time": "2025-02-11T00:42:20.941Z"
   },
   {
    "duration": 4,
    "start_time": "2025-02-11T00:42:29.798Z"
   },
   {
    "duration": 4,
    "start_time": "2025-02-11T00:44:02.028Z"
   },
   {
    "duration": 5,
    "start_time": "2025-02-11T00:44:05.895Z"
   },
   {
    "duration": 390,
    "start_time": "2025-02-11T00:45:11.249Z"
   },
   {
    "duration": 314,
    "start_time": "2025-02-11T00:45:33.075Z"
   },
   {
    "duration": 127,
    "start_time": "2025-02-11T00:45:33.391Z"
   },
   {
    "duration": 13,
    "start_time": "2025-02-11T00:45:33.520Z"
   },
   {
    "duration": 13,
    "start_time": "2025-02-11T00:45:33.535Z"
   },
   {
    "duration": 36,
    "start_time": "2025-02-11T00:45:33.551Z"
   },
   {
    "duration": 10,
    "start_time": "2025-02-11T00:45:33.588Z"
   },
   {
    "duration": 33,
    "start_time": "2025-02-11T00:45:33.600Z"
   },
   {
    "duration": 6,
    "start_time": "2025-02-11T00:45:33.635Z"
   },
   {
    "duration": 9,
    "start_time": "2025-02-11T00:45:33.642Z"
   },
   {
    "duration": 8,
    "start_time": "2025-02-11T00:45:33.652Z"
   },
   {
    "duration": 6,
    "start_time": "2025-02-11T00:45:33.661Z"
   },
   {
    "duration": 8,
    "start_time": "2025-02-11T00:45:33.669Z"
   },
   {
    "duration": 6,
    "start_time": "2025-02-11T00:45:33.679Z"
   },
   {
    "duration": 739,
    "start_time": "2025-02-11T00:45:33.688Z"
   },
   {
    "duration": 25,
    "start_time": "2025-02-11T00:45:34.428Z"
   },
   {
    "duration": 10,
    "start_time": "2025-02-11T00:45:34.455Z"
   },
   {
    "duration": 196,
    "start_time": "2025-02-11T00:45:34.467Z"
   },
   {
    "duration": 10,
    "start_time": "2025-02-11T00:45:34.665Z"
   },
   {
    "duration": 65,
    "start_time": "2025-02-11T00:45:34.676Z"
   },
   {
    "duration": 100,
    "start_time": "2025-02-11T00:45:34.743Z"
   },
   {
    "duration": 46,
    "start_time": "2025-02-11T00:45:34.844Z"
   },
   {
    "duration": 16,
    "start_time": "2025-02-11T00:45:34.892Z"
   },
   {
    "duration": 26,
    "start_time": "2025-02-11T00:45:34.910Z"
   },
   {
    "duration": 15,
    "start_time": "2025-02-11T00:45:34.938Z"
   },
   {
    "duration": 25,
    "start_time": "2025-02-11T00:45:34.954Z"
   },
   {
    "duration": 7,
    "start_time": "2025-02-11T00:45:34.981Z"
   },
   {
    "duration": 7,
    "start_time": "2025-02-11T00:45:34.990Z"
   },
   {
    "duration": 36,
    "start_time": "2025-02-11T00:45:34.999Z"
   },
   {
    "duration": 6,
    "start_time": "2025-02-11T00:45:35.037Z"
   },
   {
    "duration": 801,
    "start_time": "2025-02-11T00:45:35.045Z"
   },
   {
    "duration": 831,
    "start_time": "2025-02-11T00:45:35.848Z"
   },
   {
    "duration": 15,
    "start_time": "2025-02-11T00:45:36.681Z"
   },
   {
    "duration": 11,
    "start_time": "2025-02-11T00:45:36.698Z"
   },
   {
    "duration": 12,
    "start_time": "2025-02-11T00:45:36.730Z"
   },
   {
    "duration": 9,
    "start_time": "2025-02-11T00:45:36.744Z"
   },
   {
    "duration": 8,
    "start_time": "2025-02-11T00:45:36.755Z"
   },
   {
    "duration": 16,
    "start_time": "2025-02-11T00:45:36.765Z"
   },
   {
    "duration": 7,
    "start_time": "2025-02-11T00:45:36.783Z"
   },
   {
    "duration": 44,
    "start_time": "2025-02-11T00:45:36.791Z"
   },
   {
    "duration": 32,
    "start_time": "2025-02-11T00:45:36.837Z"
   },
   {
    "duration": 12,
    "start_time": "2025-02-11T00:45:36.873Z"
   },
   {
    "duration": 412,
    "start_time": "2025-02-11T00:45:36.886Z"
   },
   {
    "duration": 32,
    "start_time": "2025-02-11T00:45:37.299Z"
   },
   {
    "duration": 4,
    "start_time": "2025-02-11T00:45:37.333Z"
   },
   {
    "duration": 3,
    "start_time": "2025-02-11T00:45:37.338Z"
   },
   {
    "duration": 3,
    "start_time": "2025-02-11T00:45:37.342Z"
   },
   {
    "duration": 3,
    "start_time": "2025-02-11T00:45:37.347Z"
   },
   {
    "duration": 4,
    "start_time": "2025-02-11T00:45:37.351Z"
   },
   {
    "duration": 164,
    "start_time": "2025-02-11T01:33:44.473Z"
   },
   {
    "duration": 13,
    "start_time": "2025-02-11T01:34:02.029Z"
   },
   {
    "duration": 12,
    "start_time": "2025-02-11T01:34:22.294Z"
   },
   {
    "duration": 12,
    "start_time": "2025-02-11T01:34:45.632Z"
   },
   {
    "duration": 12,
    "start_time": "2025-02-11T01:35:06.042Z"
   },
   {
    "duration": 323,
    "start_time": "2025-02-11T01:35:29.230Z"
   },
   {
    "duration": 150,
    "start_time": "2025-02-11T01:35:29.555Z"
   },
   {
    "duration": 13,
    "start_time": "2025-02-11T01:35:29.706Z"
   },
   {
    "duration": 11,
    "start_time": "2025-02-11T01:35:29.722Z"
   },
   {
    "duration": 56,
    "start_time": "2025-02-11T01:35:29.735Z"
   },
   {
    "duration": 14,
    "start_time": "2025-02-11T01:35:29.793Z"
   },
   {
    "duration": 11,
    "start_time": "2025-02-11T01:35:29.809Z"
   },
   {
    "duration": 6,
    "start_time": "2025-02-11T01:35:29.822Z"
   },
   {
    "duration": 9,
    "start_time": "2025-02-11T01:35:29.830Z"
   },
   {
    "duration": 8,
    "start_time": "2025-02-11T01:35:29.843Z"
   },
   {
    "duration": 6,
    "start_time": "2025-02-11T01:35:29.852Z"
   },
   {
    "duration": 9,
    "start_time": "2025-02-11T01:35:29.860Z"
   },
   {
    "duration": 39,
    "start_time": "2025-02-11T01:35:29.871Z"
   },
   {
    "duration": 786,
    "start_time": "2025-02-11T01:35:29.912Z"
   },
   {
    "duration": 25,
    "start_time": "2025-02-11T01:35:30.700Z"
   },
   {
    "duration": 9,
    "start_time": "2025-02-11T01:35:30.727Z"
   },
   {
    "duration": 198,
    "start_time": "2025-02-11T01:35:30.738Z"
   },
   {
    "duration": 12,
    "start_time": "2025-02-11T01:35:30.937Z"
   },
   {
    "duration": 62,
    "start_time": "2025-02-11T01:35:30.952Z"
   },
   {
    "duration": 96,
    "start_time": "2025-02-11T01:35:31.016Z"
   },
   {
    "duration": 43,
    "start_time": "2025-02-11T01:35:31.114Z"
   },
   {
    "duration": 17,
    "start_time": "2025-02-11T01:35:31.158Z"
   },
   {
    "duration": 29,
    "start_time": "2025-02-11T01:35:31.177Z"
   },
   {
    "duration": 15,
    "start_time": "2025-02-11T01:35:31.207Z"
   },
   {
    "duration": 22,
    "start_time": "2025-02-11T01:35:31.224Z"
   },
   {
    "duration": 13,
    "start_time": "2025-02-11T01:35:31.247Z"
   },
   {
    "duration": 6,
    "start_time": "2025-02-11T01:35:31.262Z"
   },
   {
    "duration": 32,
    "start_time": "2025-02-11T01:35:31.275Z"
   },
   {
    "duration": 7,
    "start_time": "2025-02-11T01:35:31.309Z"
   },
   {
    "duration": 775,
    "start_time": "2025-02-11T01:35:31.317Z"
   },
   {
    "duration": 778,
    "start_time": "2025-02-11T01:35:32.094Z"
   },
   {
    "duration": 15,
    "start_time": "2025-02-11T01:35:32.874Z"
   },
   {
    "duration": 25,
    "start_time": "2025-02-11T01:35:32.891Z"
   },
   {
    "duration": 14,
    "start_time": "2025-02-11T01:35:32.919Z"
   },
   {
    "duration": 9,
    "start_time": "2025-02-11T01:35:32.935Z"
   },
   {
    "duration": 8,
    "start_time": "2025-02-11T01:35:32.946Z"
   },
   {
    "duration": 15,
    "start_time": "2025-02-11T01:35:32.956Z"
   },
   {
    "duration": 8,
    "start_time": "2025-02-11T01:35:33.005Z"
   },
   {
    "duration": 11,
    "start_time": "2025-02-11T01:35:33.015Z"
   },
   {
    "duration": 33,
    "start_time": "2025-02-11T01:35:33.028Z"
   },
   {
    "duration": 12,
    "start_time": "2025-02-11T01:35:33.063Z"
   },
   {
    "duration": 422,
    "start_time": "2025-02-11T01:35:33.105Z"
   },
   {
    "duration": 34,
    "start_time": "2025-02-11T01:35:33.529Z"
   },
   {
    "duration": 2,
    "start_time": "2025-02-11T01:35:33.565Z"
   },
   {
    "duration": 4,
    "start_time": "2025-02-11T01:35:33.568Z"
   },
   {
    "duration": 2,
    "start_time": "2025-02-11T01:35:33.574Z"
   },
   {
    "duration": 2,
    "start_time": "2025-02-11T01:35:33.578Z"
   },
   {
    "duration": 3,
    "start_time": "2025-02-11T01:35:33.605Z"
   },
   {
    "duration": 283,
    "start_time": "2025-02-11T01:44:37.593Z"
   },
   {
    "duration": 127,
    "start_time": "2025-02-11T01:44:37.878Z"
   },
   {
    "duration": 13,
    "start_time": "2025-02-11T01:44:38.007Z"
   },
   {
    "duration": 13,
    "start_time": "2025-02-11T01:44:38.022Z"
   },
   {
    "duration": 36,
    "start_time": "2025-02-11T01:44:38.036Z"
   },
   {
    "duration": 35,
    "start_time": "2025-02-11T01:44:38.073Z"
   },
   {
    "duration": 8,
    "start_time": "2025-02-11T01:44:38.109Z"
   },
   {
    "duration": 4,
    "start_time": "2025-02-11T01:44:38.119Z"
   },
   {
    "duration": 7,
    "start_time": "2025-02-11T01:44:38.125Z"
   },
   {
    "duration": 7,
    "start_time": "2025-02-11T01:44:38.137Z"
   },
   {
    "duration": 5,
    "start_time": "2025-02-11T01:44:38.146Z"
   },
   {
    "duration": 8,
    "start_time": "2025-02-11T01:44:38.152Z"
   },
   {
    "duration": 46,
    "start_time": "2025-02-11T01:44:38.162Z"
   },
   {
    "duration": 733,
    "start_time": "2025-02-11T01:44:38.210Z"
   },
   {
    "duration": 23,
    "start_time": "2025-02-11T01:44:38.945Z"
   },
   {
    "duration": 9,
    "start_time": "2025-02-11T01:44:38.970Z"
   },
   {
    "duration": 199,
    "start_time": "2025-02-11T01:44:38.981Z"
   },
   {
    "duration": 11,
    "start_time": "2025-02-11T01:44:39.183Z"
   },
   {
    "duration": 60,
    "start_time": "2025-02-11T01:44:39.195Z"
   },
   {
    "duration": 98,
    "start_time": "2025-02-11T01:44:39.257Z"
   },
   {
    "duration": 56,
    "start_time": "2025-02-11T01:44:39.357Z"
   },
   {
    "duration": 20,
    "start_time": "2025-02-11T01:44:39.415Z"
   },
   {
    "duration": 10,
    "start_time": "2025-02-11T01:44:39.437Z"
   },
   {
    "duration": 18,
    "start_time": "2025-02-11T01:44:39.449Z"
   },
   {
    "duration": 50,
    "start_time": "2025-02-11T01:44:39.469Z"
   },
   {
    "duration": 6,
    "start_time": "2025-02-11T01:44:39.521Z"
   },
   {
    "duration": 6,
    "start_time": "2025-02-11T01:44:39.529Z"
   },
   {
    "duration": 7,
    "start_time": "2025-02-11T01:44:39.539Z"
   },
   {
    "duration": 4,
    "start_time": "2025-02-11T01:44:39.548Z"
   },
   {
    "duration": 795,
    "start_time": "2025-02-11T01:44:39.554Z"
   },
   {
    "duration": 766,
    "start_time": "2025-02-11T01:44:40.351Z"
   },
   {
    "duration": 15,
    "start_time": "2025-02-11T01:44:41.119Z"
   },
   {
    "duration": 11,
    "start_time": "2025-02-11T01:44:41.135Z"
   },
   {
    "duration": 13,
    "start_time": "2025-02-11T01:44:41.147Z"
   },
   {
    "duration": 45,
    "start_time": "2025-02-11T01:44:41.161Z"
   },
   {
    "duration": 9,
    "start_time": "2025-02-11T01:44:41.207Z"
   },
   {
    "duration": 19,
    "start_time": "2025-02-11T01:44:41.218Z"
   },
   {
    "duration": 6,
    "start_time": "2025-02-11T01:44:41.239Z"
   },
   {
    "duration": 8,
    "start_time": "2025-02-11T01:44:41.247Z"
   },
   {
    "duration": 57,
    "start_time": "2025-02-11T01:44:41.256Z"
   },
   {
    "duration": 11,
    "start_time": "2025-02-11T01:44:41.315Z"
   },
   {
    "duration": 406,
    "start_time": "2025-02-11T01:44:41.329Z"
   },
   {
    "duration": 31,
    "start_time": "2025-02-11T01:44:41.737Z"
   },
   {
    "duration": 5,
    "start_time": "2025-02-11T01:44:41.770Z"
   },
   {
    "duration": 2,
    "start_time": "2025-02-11T01:44:41.777Z"
   },
   {
    "duration": 24,
    "start_time": "2025-02-11T01:44:41.781Z"
   },
   {
    "duration": 2,
    "start_time": "2025-02-11T01:44:41.807Z"
   },
   {
    "duration": 2,
    "start_time": "2025-02-11T01:44:41.810Z"
   },
   {
    "duration": 3,
    "start_time": "2025-02-11T01:44:41.814Z"
   },
   {
    "duration": 3,
    "start_time": "2025-02-11T01:44:41.818Z"
   },
   {
    "duration": 5,
    "start_time": "2025-02-11T01:45:11.160Z"
   },
   {
    "duration": 180,
    "start_time": "2025-02-11T01:46:16.550Z"
   },
   {
    "duration": 5,
    "start_time": "2025-02-11T01:46:27.141Z"
   },
   {
    "duration": 15,
    "start_time": "2025-02-11T01:46:38.648Z"
   },
   {
    "duration": 14,
    "start_time": "2025-02-11T01:46:52.676Z"
   },
   {
    "duration": 16,
    "start_time": "2025-02-11T01:46:58.872Z"
   },
   {
    "duration": 336,
    "start_time": "2025-02-11T01:47:38.243Z"
   },
   {
    "duration": 128,
    "start_time": "2025-02-11T01:47:38.582Z"
   },
   {
    "duration": 13,
    "start_time": "2025-02-11T01:47:38.712Z"
   },
   {
    "duration": 15,
    "start_time": "2025-02-11T01:47:38.727Z"
   },
   {
    "duration": 70,
    "start_time": "2025-02-11T01:47:38.744Z"
   },
   {
    "duration": 14,
    "start_time": "2025-02-11T01:47:38.816Z"
   },
   {
    "duration": 11,
    "start_time": "2025-02-11T01:47:38.833Z"
   },
   {
    "duration": 6,
    "start_time": "2025-02-11T01:47:38.846Z"
   },
   {
    "duration": 9,
    "start_time": "2025-02-11T01:47:38.853Z"
   },
   {
    "duration": 8,
    "start_time": "2025-02-11T01:47:38.863Z"
   },
   {
    "duration": 35,
    "start_time": "2025-02-11T01:47:38.873Z"
   },
   {
    "duration": 9,
    "start_time": "2025-02-11T01:47:38.910Z"
   },
   {
    "duration": 9,
    "start_time": "2025-02-11T01:47:38.922Z"
   },
   {
    "duration": 777,
    "start_time": "2025-02-11T01:47:38.935Z"
   },
   {
    "duration": 25,
    "start_time": "2025-02-11T01:47:39.713Z"
   },
   {
    "duration": 9,
    "start_time": "2025-02-11T01:47:39.740Z"
   },
   {
    "duration": 201,
    "start_time": "2025-02-11T01:47:39.750Z"
   },
   {
    "duration": 10,
    "start_time": "2025-02-11T01:47:39.953Z"
   },
   {
    "duration": 59,
    "start_time": "2025-02-11T01:47:39.965Z"
   },
   {
    "duration": 95,
    "start_time": "2025-02-11T01:47:40.025Z"
   },
   {
    "duration": 44,
    "start_time": "2025-02-11T01:47:40.121Z"
   },
   {
    "duration": 17,
    "start_time": "2025-02-11T01:47:40.167Z"
   },
   {
    "duration": 29,
    "start_time": "2025-02-11T01:47:40.185Z"
   },
   {
    "duration": 16,
    "start_time": "2025-02-11T01:47:40.216Z"
   },
   {
    "duration": 23,
    "start_time": "2025-02-11T01:47:40.233Z"
   },
   {
    "duration": 6,
    "start_time": "2025-02-11T01:47:40.258Z"
   },
   {
    "duration": 6,
    "start_time": "2025-02-11T01:47:40.266Z"
   },
   {
    "duration": 37,
    "start_time": "2025-02-11T01:47:40.274Z"
   },
   {
    "duration": 6,
    "start_time": "2025-02-11T01:47:40.313Z"
   },
   {
    "duration": 793,
    "start_time": "2025-02-11T01:47:40.321Z"
   },
   {
    "duration": 835,
    "start_time": "2025-02-11T01:47:41.116Z"
   },
   {
    "duration": 14,
    "start_time": "2025-02-11T01:47:41.953Z"
   },
   {
    "duration": 11,
    "start_time": "2025-02-11T01:47:41.969Z"
   },
   {
    "duration": 32,
    "start_time": "2025-02-11T01:47:41.981Z"
   },
   {
    "duration": 9,
    "start_time": "2025-02-11T01:47:42.015Z"
   },
   {
    "duration": 8,
    "start_time": "2025-02-11T01:47:42.025Z"
   },
   {
    "duration": 15,
    "start_time": "2025-02-11T01:47:42.035Z"
   },
   {
    "duration": 6,
    "start_time": "2025-02-11T01:47:42.051Z"
   },
   {
    "duration": 8,
    "start_time": "2025-02-11T01:47:42.059Z"
   },
   {
    "duration": 34,
    "start_time": "2025-02-11T01:47:42.104Z"
   },
   {
    "duration": 11,
    "start_time": "2025-02-11T01:47:42.144Z"
   },
   {
    "duration": 450,
    "start_time": "2025-02-11T01:47:42.157Z"
   },
   {
    "duration": 33,
    "start_time": "2025-02-11T01:47:42.609Z"
   },
   {
    "duration": 4,
    "start_time": "2025-02-11T01:47:42.645Z"
   },
   {
    "duration": 5,
    "start_time": "2025-02-11T01:47:42.650Z"
   },
   {
    "duration": 115,
    "start_time": "2025-02-11T01:47:42.657Z"
   },
   {
    "duration": 0,
    "start_time": "2025-02-11T01:47:42.773Z"
   },
   {
    "duration": 0,
    "start_time": "2025-02-11T01:47:42.774Z"
   },
   {
    "duration": 0,
    "start_time": "2025-02-11T01:47:42.775Z"
   },
   {
    "duration": 0,
    "start_time": "2025-02-11T01:47:42.776Z"
   },
   {
    "duration": 7,
    "start_time": "2025-02-11T01:49:17.318Z"
   },
   {
    "duration": 7,
    "start_time": "2025-02-11T01:49:21.615Z"
   },
   {
    "duration": 10,
    "start_time": "2025-02-11T01:49:25.418Z"
   },
   {
    "duration": 9,
    "start_time": "2025-02-11T01:50:25.607Z"
   },
   {
    "duration": 4,
    "start_time": "2025-02-11T01:50:27.332Z"
   },
   {
    "duration": 107,
    "start_time": "2025-02-11T01:51:11.014Z"
   },
   {
    "duration": 14,
    "start_time": "2025-02-11T01:51:42.055Z"
   },
   {
    "duration": 26,
    "start_time": "2025-02-11T01:52:22.604Z"
   },
   {
    "duration": 303,
    "start_time": "2025-02-11T01:52:55.954Z"
   },
   {
    "duration": 125,
    "start_time": "2025-02-11T01:52:56.259Z"
   },
   {
    "duration": 18,
    "start_time": "2025-02-11T01:52:56.387Z"
   },
   {
    "duration": 15,
    "start_time": "2025-02-11T01:52:56.407Z"
   },
   {
    "duration": 38,
    "start_time": "2025-02-11T01:52:56.425Z"
   },
   {
    "duration": 10,
    "start_time": "2025-02-11T01:52:56.465Z"
   },
   {
    "duration": 29,
    "start_time": "2025-02-11T01:52:56.477Z"
   },
   {
    "duration": 5,
    "start_time": "2025-02-11T01:52:56.507Z"
   },
   {
    "duration": 8,
    "start_time": "2025-02-11T01:52:56.513Z"
   },
   {
    "duration": 7,
    "start_time": "2025-02-11T01:52:56.522Z"
   },
   {
    "duration": 6,
    "start_time": "2025-02-11T01:52:56.531Z"
   },
   {
    "duration": 7,
    "start_time": "2025-02-11T01:52:56.539Z"
   },
   {
    "duration": 8,
    "start_time": "2025-02-11T01:52:56.548Z"
   },
   {
    "duration": 744,
    "start_time": "2025-02-11T01:52:56.560Z"
   },
   {
    "duration": 23,
    "start_time": "2025-02-11T01:52:57.305Z"
   },
   {
    "duration": 9,
    "start_time": "2025-02-11T01:52:57.330Z"
   },
   {
    "duration": 185,
    "start_time": "2025-02-11T01:52:57.340Z"
   },
   {
    "duration": 10,
    "start_time": "2025-02-11T01:52:57.526Z"
   },
   {
    "duration": 46,
    "start_time": "2025-02-11T01:52:57.538Z"
   },
   {
    "duration": 120,
    "start_time": "2025-02-11T01:52:57.587Z"
   },
   {
    "duration": 47,
    "start_time": "2025-02-11T01:52:57.709Z"
   },
   {
    "duration": 18,
    "start_time": "2025-02-11T01:52:57.758Z"
   },
   {
    "duration": 33,
    "start_time": "2025-02-11T01:52:57.778Z"
   },
   {
    "duration": 16,
    "start_time": "2025-02-11T01:52:57.813Z"
   },
   {
    "duration": 22,
    "start_time": "2025-02-11T01:52:57.831Z"
   },
   {
    "duration": 6,
    "start_time": "2025-02-11T01:52:57.855Z"
   },
   {
    "duration": 6,
    "start_time": "2025-02-11T01:52:57.862Z"
   },
   {
    "duration": 37,
    "start_time": "2025-02-11T01:52:57.869Z"
   },
   {
    "duration": 6,
    "start_time": "2025-02-11T01:52:57.908Z"
   },
   {
    "duration": 734,
    "start_time": "2025-02-11T01:52:57.915Z"
   },
   {
    "duration": 771,
    "start_time": "2025-02-11T01:52:58.652Z"
   },
   {
    "duration": 14,
    "start_time": "2025-02-11T01:52:59.425Z"
   },
   {
    "duration": 11,
    "start_time": "2025-02-11T01:52:59.442Z"
   },
   {
    "duration": 12,
    "start_time": "2025-02-11T01:52:59.455Z"
   },
   {
    "duration": 39,
    "start_time": "2025-02-11T01:52:59.468Z"
   },
   {
    "duration": 10,
    "start_time": "2025-02-11T01:52:59.508Z"
   },
   {
    "duration": 15,
    "start_time": "2025-02-11T01:52:59.520Z"
   },
   {
    "duration": 6,
    "start_time": "2025-02-11T01:52:59.537Z"
   },
   {
    "duration": 8,
    "start_time": "2025-02-11T01:52:59.545Z"
   },
   {
    "duration": 67,
    "start_time": "2025-02-11T01:52:59.555Z"
   },
   {
    "duration": 13,
    "start_time": "2025-02-11T01:52:59.626Z"
   },
   {
    "duration": 422,
    "start_time": "2025-02-11T01:52:59.640Z"
   },
   {
    "duration": 42,
    "start_time": "2025-02-11T01:53:00.064Z"
   },
   {
    "duration": 4,
    "start_time": "2025-02-11T01:53:00.108Z"
   },
   {
    "duration": 5,
    "start_time": "2025-02-11T01:53:00.114Z"
   },
   {
    "duration": 7,
    "start_time": "2025-02-11T01:53:00.120Z"
   },
   {
    "duration": 6,
    "start_time": "2025-02-11T01:53:00.128Z"
   },
   {
    "duration": 9,
    "start_time": "2025-02-11T01:53:00.135Z"
   },
   {
    "duration": 218,
    "start_time": "2025-02-11T01:53:00.145Z"
   },
   {
    "duration": 21,
    "start_time": "2025-02-11T01:53:25.465Z"
   },
   {
    "duration": 21,
    "start_time": "2025-02-11T01:54:02.080Z"
   },
   {
    "duration": 26,
    "start_time": "2025-02-11T01:54:59.487Z"
   },
   {
    "duration": 21,
    "start_time": "2025-02-11T01:57:29.649Z"
   },
   {
    "duration": 2091,
    "start_time": "2025-02-11T02:02:33.905Z"
   },
   {
    "duration": 185,
    "start_time": "2025-02-11T02:05:36.671Z"
   },
   {
    "duration": 209,
    "start_time": "2025-02-11T02:05:47.502Z"
   },
   {
    "duration": 198,
    "start_time": "2025-02-11T02:06:14.994Z"
   },
   {
    "duration": 89,
    "start_time": "2025-02-11T02:13:53.111Z"
   },
   {
    "duration": 116,
    "start_time": "2025-02-11T02:13:53.958Z"
   },
   {
    "duration": 5,
    "start_time": "2025-02-11T02:13:54.738Z"
   },
   {
    "duration": 316,
    "start_time": "2025-02-11T02:14:27.731Z"
   },
   {
    "duration": 4,
    "start_time": "2025-02-11T02:15:10.540Z"
   },
   {
    "duration": 14,
    "start_time": "2025-02-11T02:15:39.406Z"
   },
   {
    "duration": 39,
    "start_time": "2025-02-11T02:16:52.089Z"
   },
   {
    "duration": 5,
    "start_time": "2025-02-11T02:18:16.845Z"
   },
   {
    "duration": 49,
    "start_time": "2025-02-11T02:18:17.570Z"
   },
   {
    "duration": 4,
    "start_time": "2025-02-11T02:18:29.089Z"
   },
   {
    "duration": 8,
    "start_time": "2025-02-11T02:18:33.758Z"
   },
   {
    "duration": 344,
    "start_time": "2025-02-11T02:38:45.134Z"
   },
   {
    "duration": 231,
    "start_time": "2025-02-11T02:39:24.359Z"
   },
   {
    "duration": 232,
    "start_time": "2025-02-11T02:39:52.653Z"
   },
   {
    "duration": 300,
    "start_time": "2025-02-11T02:40:21.467Z"
   },
   {
    "duration": 222,
    "start_time": "2025-02-11T02:40:44.075Z"
   },
   {
    "duration": 226,
    "start_time": "2025-02-11T02:42:42.379Z"
   },
   {
    "duration": 390,
    "start_time": "2025-02-11T02:45:00.269Z"
   },
   {
    "duration": 339,
    "start_time": "2025-02-11T02:47:38.529Z"
   },
   {
    "duration": 130,
    "start_time": "2025-02-11T02:47:38.870Z"
   },
   {
    "duration": 16,
    "start_time": "2025-02-11T02:47:39.002Z"
   },
   {
    "duration": 14,
    "start_time": "2025-02-11T02:47:39.021Z"
   },
   {
    "duration": 38,
    "start_time": "2025-02-11T02:47:39.037Z"
   },
   {
    "duration": 30,
    "start_time": "2025-02-11T02:47:39.077Z"
   },
   {
    "duration": 8,
    "start_time": "2025-02-11T02:47:39.109Z"
   },
   {
    "duration": 6,
    "start_time": "2025-02-11T02:47:39.119Z"
   },
   {
    "duration": 7,
    "start_time": "2025-02-11T02:47:39.126Z"
   },
   {
    "duration": 7,
    "start_time": "2025-02-11T02:47:39.136Z"
   },
   {
    "duration": 6,
    "start_time": "2025-02-11T02:47:39.144Z"
   },
   {
    "duration": 8,
    "start_time": "2025-02-11T02:47:39.151Z"
   },
   {
    "duration": 6,
    "start_time": "2025-02-11T02:47:39.160Z"
   },
   {
    "duration": 723,
    "start_time": "2025-02-11T02:47:39.206Z"
   },
   {
    "duration": 24,
    "start_time": "2025-02-11T02:47:39.930Z"
   },
   {
    "duration": 9,
    "start_time": "2025-02-11T02:47:39.956Z"
   },
   {
    "duration": 219,
    "start_time": "2025-02-11T02:47:39.967Z"
   },
   {
    "duration": 18,
    "start_time": "2025-02-11T02:47:40.188Z"
   },
   {
    "duration": 54,
    "start_time": "2025-02-11T02:47:40.208Z"
   },
   {
    "duration": 99,
    "start_time": "2025-02-11T02:47:40.264Z"
   },
   {
    "duration": 61,
    "start_time": "2025-02-11T02:47:40.365Z"
   },
   {
    "duration": 19,
    "start_time": "2025-02-11T02:47:40.428Z"
   },
   {
    "duration": 9,
    "start_time": "2025-02-11T02:47:40.449Z"
   },
   {
    "duration": 15,
    "start_time": "2025-02-11T02:47:40.459Z"
   },
   {
    "duration": 43,
    "start_time": "2025-02-11T02:47:40.475Z"
   },
   {
    "duration": 6,
    "start_time": "2025-02-11T02:47:40.520Z"
   },
   {
    "duration": 5,
    "start_time": "2025-02-11T02:47:40.528Z"
   },
   {
    "duration": 7,
    "start_time": "2025-02-11T02:47:40.537Z"
   },
   {
    "duration": 6,
    "start_time": "2025-02-11T02:47:40.545Z"
   },
   {
    "duration": 789,
    "start_time": "2025-02-11T02:47:40.553Z"
   },
   {
    "duration": 756,
    "start_time": "2025-02-11T02:47:41.344Z"
   },
   {
    "duration": 15,
    "start_time": "2025-02-11T02:47:42.104Z"
   },
   {
    "duration": 12,
    "start_time": "2025-02-11T02:47:42.120Z"
   },
   {
    "duration": 11,
    "start_time": "2025-02-11T02:47:42.134Z"
   },
   {
    "duration": 9,
    "start_time": "2025-02-11T02:47:42.148Z"
   },
   {
    "duration": 7,
    "start_time": "2025-02-11T02:47:42.159Z"
   },
   {
    "duration": 53,
    "start_time": "2025-02-11T02:47:42.168Z"
   },
   {
    "duration": 7,
    "start_time": "2025-02-11T02:47:42.223Z"
   },
   {
    "duration": 10,
    "start_time": "2025-02-11T02:47:42.231Z"
   },
   {
    "duration": 64,
    "start_time": "2025-02-11T02:47:42.243Z"
   },
   {
    "duration": 15,
    "start_time": "2025-02-11T02:47:42.309Z"
   },
   {
    "duration": 422,
    "start_time": "2025-02-11T02:47:42.325Z"
   },
   {
    "duration": 30,
    "start_time": "2025-02-11T02:47:42.749Z"
   },
   {
    "duration": 4,
    "start_time": "2025-02-11T02:47:42.781Z"
   },
   {
    "duration": 23,
    "start_time": "2025-02-11T02:47:42.786Z"
   },
   {
    "duration": 11,
    "start_time": "2025-02-11T02:47:42.812Z"
   },
   {
    "duration": 7,
    "start_time": "2025-02-11T02:47:42.825Z"
   },
   {
    "duration": 9,
    "start_time": "2025-02-11T02:47:42.834Z"
   },
   {
    "duration": 393,
    "start_time": "2025-02-11T02:47:42.845Z"
   },
   {
    "duration": 2,
    "start_time": "2025-02-11T02:47:43.240Z"
   },
   {
    "duration": 634,
    "start_time": "2025-02-11T02:47:43.244Z"
   },
   {
    "duration": 0,
    "start_time": "2025-02-11T02:47:43.880Z"
   },
   {
    "duration": 0,
    "start_time": "2025-02-11T02:47:43.881Z"
   },
   {
    "duration": 0,
    "start_time": "2025-02-11T02:47:43.883Z"
   },
   {
    "duration": 222,
    "start_time": "2025-02-11T02:53:26.601Z"
   },
   {
    "duration": 244,
    "start_time": "2025-02-11T02:54:13.473Z"
   },
   {
    "duration": 361,
    "start_time": "2025-02-11T02:55:33.260Z"
   },
   {
    "duration": 328,
    "start_time": "2025-02-11T02:56:53.829Z"
   },
   {
    "duration": 126,
    "start_time": "2025-02-11T02:56:54.159Z"
   },
   {
    "duration": 18,
    "start_time": "2025-02-11T02:56:54.287Z"
   },
   {
    "duration": 13,
    "start_time": "2025-02-11T02:56:54.308Z"
   },
   {
    "duration": 38,
    "start_time": "2025-02-11T02:56:54.322Z"
   },
   {
    "duration": 13,
    "start_time": "2025-02-11T02:56:54.362Z"
   },
   {
    "duration": 29,
    "start_time": "2025-02-11T02:56:54.377Z"
   },
   {
    "duration": 6,
    "start_time": "2025-02-11T02:56:54.408Z"
   },
   {
    "duration": 9,
    "start_time": "2025-02-11T02:56:54.416Z"
   },
   {
    "duration": 8,
    "start_time": "2025-02-11T02:56:54.429Z"
   },
   {
    "duration": 6,
    "start_time": "2025-02-11T02:56:54.439Z"
   },
   {
    "duration": 8,
    "start_time": "2025-02-11T02:56:54.446Z"
   },
   {
    "duration": 5,
    "start_time": "2025-02-11T02:56:54.456Z"
   },
   {
    "duration": 753,
    "start_time": "2025-02-11T02:56:54.464Z"
   },
   {
    "duration": 24,
    "start_time": "2025-02-11T02:56:55.219Z"
   },
   {
    "duration": 8,
    "start_time": "2025-02-11T02:56:55.245Z"
   },
   {
    "duration": 192,
    "start_time": "2025-02-11T02:56:55.255Z"
   },
   {
    "duration": 11,
    "start_time": "2025-02-11T02:56:55.449Z"
   },
   {
    "duration": 79,
    "start_time": "2025-02-11T02:56:55.462Z"
   },
   {
    "duration": 90,
    "start_time": "2025-02-11T02:56:55.542Z"
   },
   {
    "duration": 54,
    "start_time": "2025-02-11T02:56:55.634Z"
   },
   {
    "duration": 27,
    "start_time": "2025-02-11T02:56:55.690Z"
   },
   {
    "duration": 10,
    "start_time": "2025-02-11T02:56:55.719Z"
   },
   {
    "duration": 16,
    "start_time": "2025-02-11T02:56:55.731Z"
   },
   {
    "duration": 22,
    "start_time": "2025-02-11T02:56:55.748Z"
   },
   {
    "duration": 33,
    "start_time": "2025-02-11T02:56:55.772Z"
   },
   {
    "duration": 5,
    "start_time": "2025-02-11T02:56:55.807Z"
   },
   {
    "duration": 7,
    "start_time": "2025-02-11T02:56:55.817Z"
   },
   {
    "duration": 5,
    "start_time": "2025-02-11T02:56:55.826Z"
   },
   {
    "duration": 926,
    "start_time": "2025-02-11T02:56:55.833Z"
   },
   {
    "duration": 731,
    "start_time": "2025-02-11T02:56:56.761Z"
   },
   {
    "duration": 21,
    "start_time": "2025-02-11T02:56:57.494Z"
   },
   {
    "duration": 11,
    "start_time": "2025-02-11T02:56:57.517Z"
   },
   {
    "duration": 11,
    "start_time": "2025-02-11T02:56:57.529Z"
   },
   {
    "duration": 9,
    "start_time": "2025-02-11T02:56:57.541Z"
   },
   {
    "duration": 8,
    "start_time": "2025-02-11T02:56:57.552Z"
   },
   {
    "duration": 49,
    "start_time": "2025-02-11T02:56:57.562Z"
   },
   {
    "duration": 6,
    "start_time": "2025-02-11T02:56:57.613Z"
   },
   {
    "duration": 9,
    "start_time": "2025-02-11T02:56:57.621Z"
   },
   {
    "duration": 34,
    "start_time": "2025-02-11T02:56:57.632Z"
   },
   {
    "duration": 39,
    "start_time": "2025-02-11T02:56:57.668Z"
   },
   {
    "duration": 411,
    "start_time": "2025-02-11T02:56:57.709Z"
   },
   {
    "duration": 42,
    "start_time": "2025-02-11T02:56:58.122Z"
   },
   {
    "duration": 4,
    "start_time": "2025-02-11T02:56:58.166Z"
   },
   {
    "duration": 4,
    "start_time": "2025-02-11T02:56:58.172Z"
   },
   {
    "duration": 28,
    "start_time": "2025-02-11T02:56:58.178Z"
   },
   {
    "duration": 6,
    "start_time": "2025-02-11T02:56:58.207Z"
   },
   {
    "duration": 8,
    "start_time": "2025-02-11T02:56:58.214Z"
   },
   {
    "duration": 381,
    "start_time": "2025-02-11T02:56:58.224Z"
   },
   {
    "duration": 2,
    "start_time": "2025-02-11T02:56:58.607Z"
   },
   {
    "duration": 279,
    "start_time": "2025-02-11T02:56:58.610Z"
   },
   {
    "duration": 5,
    "start_time": "2025-02-11T02:56:58.891Z"
   },
   {
    "duration": 13,
    "start_time": "2025-02-11T02:56:58.897Z"
   },
   {
    "duration": 8,
    "start_time": "2025-02-11T02:56:58.912Z"
   },
   {
    "duration": 549,
    "start_time": "2025-02-11T02:56:58.922Z"
   },
   {
    "duration": 312,
    "start_time": "2025-02-11T03:08:04.210Z"
   },
   {
    "duration": 124,
    "start_time": "2025-02-11T03:08:04.525Z"
   },
   {
    "duration": 13,
    "start_time": "2025-02-11T03:08:04.651Z"
   },
   {
    "duration": 16,
    "start_time": "2025-02-11T03:08:04.666Z"
   },
   {
    "duration": 58,
    "start_time": "2025-02-11T03:08:04.685Z"
   },
   {
    "duration": 10,
    "start_time": "2025-02-11T03:08:04.745Z"
   },
   {
    "duration": 8,
    "start_time": "2025-02-11T03:08:04.757Z"
   },
   {
    "duration": 6,
    "start_time": "2025-02-11T03:08:04.766Z"
   },
   {
    "duration": 32,
    "start_time": "2025-02-11T03:08:04.774Z"
   },
   {
    "duration": 9,
    "start_time": "2025-02-11T03:08:04.808Z"
   },
   {
    "duration": 6,
    "start_time": "2025-02-11T03:08:04.818Z"
   },
   {
    "duration": 7,
    "start_time": "2025-02-11T03:08:04.825Z"
   },
   {
    "duration": 6,
    "start_time": "2025-02-11T03:08:04.833Z"
   },
   {
    "duration": 727,
    "start_time": "2025-02-11T03:08:04.843Z"
   },
   {
    "duration": 24,
    "start_time": "2025-02-11T03:08:05.572Z"
   },
   {
    "duration": 8,
    "start_time": "2025-02-11T03:08:05.606Z"
   },
   {
    "duration": 212,
    "start_time": "2025-02-11T03:08:05.616Z"
   },
   {
    "duration": 9,
    "start_time": "2025-02-11T03:08:05.831Z"
   },
   {
    "duration": 66,
    "start_time": "2025-02-11T03:08:05.842Z"
   },
   {
    "duration": 98,
    "start_time": "2025-02-11T03:08:05.910Z"
   },
   {
    "duration": 48,
    "start_time": "2025-02-11T03:08:06.009Z"
   },
   {
    "duration": 17,
    "start_time": "2025-02-11T03:08:06.060Z"
   },
   {
    "duration": 28,
    "start_time": "2025-02-11T03:08:06.078Z"
   },
   {
    "duration": 16,
    "start_time": "2025-02-11T03:08:06.107Z"
   },
   {
    "duration": 23,
    "start_time": "2025-02-11T03:08:06.125Z"
   },
   {
    "duration": 7,
    "start_time": "2025-02-11T03:08:06.149Z"
   },
   {
    "duration": 6,
    "start_time": "2025-02-11T03:08:06.158Z"
   },
   {
    "duration": 7,
    "start_time": "2025-02-11T03:08:06.167Z"
   },
   {
    "duration": 7,
    "start_time": "2025-02-11T03:08:06.205Z"
   },
   {
    "duration": 758,
    "start_time": "2025-02-11T03:08:06.214Z"
   },
   {
    "duration": 811,
    "start_time": "2025-02-11T03:08:06.974Z"
   },
   {
    "duration": 26,
    "start_time": "2025-02-11T03:08:07.787Z"
   },
   {
    "duration": 15,
    "start_time": "2025-02-11T03:08:07.814Z"
   },
   {
    "duration": 14,
    "start_time": "2025-02-11T03:08:07.831Z"
   },
   {
    "duration": 11,
    "start_time": "2025-02-11T03:08:07.846Z"
   },
   {
    "duration": 9,
    "start_time": "2025-02-11T03:08:07.858Z"
   },
   {
    "duration": 20,
    "start_time": "2025-02-11T03:08:07.905Z"
   },
   {
    "duration": 7,
    "start_time": "2025-02-11T03:08:07.927Z"
   },
   {
    "duration": 10,
    "start_time": "2025-02-11T03:08:07.936Z"
   },
   {
    "duration": 62,
    "start_time": "2025-02-11T03:08:07.948Z"
   },
   {
    "duration": 19,
    "start_time": "2025-02-11T03:08:08.017Z"
   },
   {
    "duration": 395,
    "start_time": "2025-02-11T03:08:08.039Z"
   },
   {
    "duration": 30,
    "start_time": "2025-02-11T03:08:08.436Z"
   },
   {
    "duration": 4,
    "start_time": "2025-02-11T03:08:08.468Z"
   },
   {
    "duration": 4,
    "start_time": "2025-02-11T03:08:08.474Z"
   },
   {
    "duration": 27,
    "start_time": "2025-02-11T03:08:08.479Z"
   },
   {
    "duration": 6,
    "start_time": "2025-02-11T03:08:08.508Z"
   },
   {
    "duration": 9,
    "start_time": "2025-02-11T03:08:08.516Z"
   },
   {
    "duration": 400,
    "start_time": "2025-02-11T03:08:08.526Z"
   },
   {
    "duration": 2,
    "start_time": "2025-02-11T03:08:08.928Z"
   },
   {
    "duration": 190,
    "start_time": "2025-02-11T03:08:08.932Z"
   },
   {
    "duration": 4,
    "start_time": "2025-02-11T03:08:09.124Z"
   },
   {
    "duration": 3,
    "start_time": "2025-02-11T03:08:09.130Z"
   },
   {
    "duration": 7,
    "start_time": "2025-02-11T03:08:09.135Z"
   },
   {
    "duration": 546,
    "start_time": "2025-02-11T03:08:09.144Z"
   },
   {
    "duration": 13,
    "start_time": "2025-02-11T03:15:33.289Z"
   },
   {
    "duration": 19,
    "start_time": "2025-02-11T03:15:48.486Z"
   },
   {
    "duration": 13,
    "start_time": "2025-02-11T03:16:11.088Z"
   },
   {
    "duration": 15,
    "start_time": "2025-02-11T03:16:14.853Z"
   },
   {
    "duration": 20,
    "start_time": "2025-02-11T03:16:32.038Z"
   },
   {
    "duration": 308,
    "start_time": "2025-02-11T03:21:19.934Z"
   },
   {
    "duration": 127,
    "start_time": "2025-02-11T03:21:20.244Z"
   },
   {
    "duration": 12,
    "start_time": "2025-02-11T03:21:20.372Z"
   },
   {
    "duration": 26,
    "start_time": "2025-02-11T03:21:20.386Z"
   },
   {
    "duration": 37,
    "start_time": "2025-02-11T03:21:20.415Z"
   },
   {
    "duration": 9,
    "start_time": "2025-02-11T03:21:20.453Z"
   },
   {
    "duration": 9,
    "start_time": "2025-02-11T03:21:20.464Z"
   },
   {
    "duration": 5,
    "start_time": "2025-02-11T03:21:20.475Z"
   },
   {
    "duration": 31,
    "start_time": "2025-02-11T03:21:20.481Z"
   },
   {
    "duration": 7,
    "start_time": "2025-02-11T03:21:20.513Z"
   },
   {
    "duration": 6,
    "start_time": "2025-02-11T03:21:20.521Z"
   },
   {
    "duration": 7,
    "start_time": "2025-02-11T03:21:20.529Z"
   },
   {
    "duration": 5,
    "start_time": "2025-02-11T03:21:20.538Z"
   },
   {
    "duration": 740,
    "start_time": "2025-02-11T03:21:20.546Z"
   },
   {
    "duration": 28,
    "start_time": "2025-02-11T03:21:21.288Z"
   },
   {
    "duration": 9,
    "start_time": "2025-02-11T03:21:21.319Z"
   },
   {
    "duration": 188,
    "start_time": "2025-02-11T03:21:21.329Z"
   },
   {
    "duration": 10,
    "start_time": "2025-02-11T03:21:21.519Z"
   },
   {
    "duration": 74,
    "start_time": "2025-02-11T03:21:21.531Z"
   },
   {
    "duration": 100,
    "start_time": "2025-02-11T03:21:21.606Z"
   },
   {
    "duration": 46,
    "start_time": "2025-02-11T03:21:21.708Z"
   },
   {
    "duration": 17,
    "start_time": "2025-02-11T03:21:21.756Z"
   },
   {
    "duration": 9,
    "start_time": "2025-02-11T03:21:21.774Z"
   },
   {
    "duration": 16,
    "start_time": "2025-02-11T03:21:21.805Z"
   },
   {
    "duration": 24,
    "start_time": "2025-02-11T03:21:21.823Z"
   },
   {
    "duration": 7,
    "start_time": "2025-02-11T03:21:21.848Z"
   },
   {
    "duration": 5,
    "start_time": "2025-02-11T03:21:21.857Z"
   },
   {
    "duration": 9,
    "start_time": "2025-02-11T03:21:21.863Z"
   },
   {
    "duration": 35,
    "start_time": "2025-02-11T03:21:21.874Z"
   },
   {
    "duration": 767,
    "start_time": "2025-02-11T03:21:21.911Z"
   },
   {
    "duration": 787,
    "start_time": "2025-02-11T03:21:22.681Z"
   },
   {
    "duration": 21,
    "start_time": "2025-02-11T03:21:23.470Z"
   },
   {
    "duration": 21,
    "start_time": "2025-02-11T03:21:23.492Z"
   },
   {
    "duration": 12,
    "start_time": "2025-02-11T03:21:23.515Z"
   },
   {
    "duration": 9,
    "start_time": "2025-02-11T03:21:23.528Z"
   },
   {
    "duration": 8,
    "start_time": "2025-02-11T03:21:23.539Z"
   },
   {
    "duration": 15,
    "start_time": "2025-02-11T03:21:23.548Z"
   },
   {
    "duration": 613,
    "start_time": "2025-02-11T03:21:23.565Z"
   },
   {
    "duration": 0,
    "start_time": "2025-02-11T03:21:24.181Z"
   },
   {
    "duration": 0,
    "start_time": "2025-02-11T03:21:24.182Z"
   },
   {
    "duration": 0,
    "start_time": "2025-02-11T03:21:24.183Z"
   },
   {
    "duration": 0,
    "start_time": "2025-02-11T03:21:24.184Z"
   },
   {
    "duration": 0,
    "start_time": "2025-02-11T03:21:24.185Z"
   },
   {
    "duration": 0,
    "start_time": "2025-02-11T03:21:24.186Z"
   },
   {
    "duration": 1,
    "start_time": "2025-02-11T03:21:24.187Z"
   },
   {
    "duration": 0,
    "start_time": "2025-02-11T03:21:24.205Z"
   },
   {
    "duration": 0,
    "start_time": "2025-02-11T03:21:24.206Z"
   },
   {
    "duration": 0,
    "start_time": "2025-02-11T03:21:24.208Z"
   },
   {
    "duration": 0,
    "start_time": "2025-02-11T03:21:24.209Z"
   },
   {
    "duration": 0,
    "start_time": "2025-02-11T03:21:24.210Z"
   },
   {
    "duration": 0,
    "start_time": "2025-02-11T03:21:24.211Z"
   },
   {
    "duration": 0,
    "start_time": "2025-02-11T03:21:24.212Z"
   },
   {
    "duration": 0,
    "start_time": "2025-02-11T03:21:24.213Z"
   },
   {
    "duration": 0,
    "start_time": "2025-02-11T03:21:24.215Z"
   },
   {
    "duration": 0,
    "start_time": "2025-02-11T03:21:24.216Z"
   },
   {
    "duration": 10,
    "start_time": "2025-02-11T03:22:33.702Z"
   },
   {
    "duration": 38,
    "start_time": "2025-02-11T03:22:38.314Z"
   },
   {
    "duration": 12,
    "start_time": "2025-02-11T03:22:39.003Z"
   },
   {
    "duration": 402,
    "start_time": "2025-02-11T03:22:39.696Z"
   },
   {
    "duration": 33,
    "start_time": "2025-02-11T03:22:40.458Z"
   },
   {
    "duration": 5,
    "start_time": "2025-02-11T03:22:43.390Z"
   },
   {
    "duration": 5,
    "start_time": "2025-02-11T03:22:43.976Z"
   },
   {
    "duration": 7,
    "start_time": "2025-02-11T03:22:45.057Z"
   },
   {
    "duration": 7,
    "start_time": "2025-02-11T03:22:46.639Z"
   },
   {
    "duration": 9,
    "start_time": "2025-02-11T03:22:48.198Z"
   },
   {
    "duration": 398,
    "start_time": "2025-02-11T03:22:51.189Z"
   },
   {
    "duration": 2,
    "start_time": "2025-02-11T03:22:52.249Z"
   },
   {
    "duration": 169,
    "start_time": "2025-02-11T03:22:55.279Z"
   },
   {
    "duration": 19,
    "start_time": "2025-02-11T03:23:39.743Z"
   },
   {
    "duration": 5,
    "start_time": "2025-02-11T03:24:36.525Z"
   },
   {
    "duration": 4,
    "start_time": "2025-02-11T03:24:53.408Z"
   },
   {
    "duration": 3,
    "start_time": "2025-02-11T03:25:01.185Z"
   },
   {
    "duration": 5,
    "start_time": "2025-02-11T03:25:33.223Z"
   },
   {
    "duration": 167,
    "start_time": "2025-02-11T03:26:04.302Z"
   },
   {
    "duration": 41,
    "start_time": "2025-02-11T03:29:57.263Z"
   },
   {
    "duration": 41,
    "start_time": "2025-02-11T03:32:15.476Z"
   },
   {
    "duration": 129,
    "start_time": "2025-02-11T03:33:44.431Z"
   },
   {
    "duration": 139,
    "start_time": "2025-02-11T03:34:47.903Z"
   },
   {
    "duration": 128,
    "start_time": "2025-02-11T03:38:58.418Z"
   },
   {
    "duration": 18,
    "start_time": "2025-02-11T03:40:36.743Z"
   },
   {
    "duration": 227,
    "start_time": "2025-02-11T03:40:48.258Z"
   },
   {
    "duration": 40,
    "start_time": "2025-02-11T04:01:22.937Z"
   },
   {
    "duration": 119,
    "start_time": "2025-02-11T04:02:28.253Z"
   },
   {
    "duration": 2207,
    "start_time": "2025-02-11T17:22:14.675Z"
   },
   {
    "duration": 306,
    "start_time": "2025-02-11T17:22:25.946Z"
   },
   {
    "duration": 145,
    "start_time": "2025-02-11T17:22:26.254Z"
   },
   {
    "duration": 13,
    "start_time": "2025-02-11T17:22:26.401Z"
   },
   {
    "duration": 27,
    "start_time": "2025-02-11T17:22:26.417Z"
   },
   {
    "duration": 57,
    "start_time": "2025-02-11T17:22:26.445Z"
   },
   {
    "duration": 10,
    "start_time": "2025-02-11T17:22:26.504Z"
   },
   {
    "duration": 8,
    "start_time": "2025-02-11T17:22:26.516Z"
   },
   {
    "duration": 6,
    "start_time": "2025-02-11T17:22:26.526Z"
   },
   {
    "duration": 7,
    "start_time": "2025-02-11T17:22:26.534Z"
   },
   {
    "duration": 6,
    "start_time": "2025-02-11T17:22:26.545Z"
   },
   {
    "duration": 6,
    "start_time": "2025-02-11T17:22:26.553Z"
   },
   {
    "duration": 8,
    "start_time": "2025-02-11T17:22:26.561Z"
   },
   {
    "duration": 9,
    "start_time": "2025-02-11T17:22:26.570Z"
   },
   {
    "duration": 794,
    "start_time": "2025-02-11T17:22:26.580Z"
   },
   {
    "duration": 24,
    "start_time": "2025-02-11T17:22:27.376Z"
   },
   {
    "duration": 9,
    "start_time": "2025-02-11T17:22:27.402Z"
   },
   {
    "duration": 185,
    "start_time": "2025-02-11T17:22:27.412Z"
   },
   {
    "duration": 10,
    "start_time": "2025-02-11T17:22:27.599Z"
   },
   {
    "duration": 54,
    "start_time": "2025-02-11T17:22:27.611Z"
   },
   {
    "duration": 89,
    "start_time": "2025-02-11T17:22:27.666Z"
   },
   {
    "duration": 43,
    "start_time": "2025-02-11T17:22:27.757Z"
   },
   {
    "duration": 16,
    "start_time": "2025-02-11T17:22:27.801Z"
   },
   {
    "duration": 25,
    "start_time": "2025-02-11T17:22:27.819Z"
   },
   {
    "duration": 14,
    "start_time": "2025-02-11T17:22:27.846Z"
   },
   {
    "duration": 21,
    "start_time": "2025-02-11T17:22:27.862Z"
   },
   {
    "duration": 6,
    "start_time": "2025-02-11T17:22:27.885Z"
   },
   {
    "duration": 5,
    "start_time": "2025-02-11T17:22:27.892Z"
   },
   {
    "duration": 7,
    "start_time": "2025-02-11T17:22:27.902Z"
   },
   {
    "duration": 36,
    "start_time": "2025-02-11T17:22:27.910Z"
   },
   {
    "duration": 713,
    "start_time": "2025-02-11T17:22:27.948Z"
   },
   {
    "duration": 739,
    "start_time": "2025-02-11T17:22:28.663Z"
   },
   {
    "duration": 15,
    "start_time": "2025-02-11T17:22:29.404Z"
   },
   {
    "duration": 24,
    "start_time": "2025-02-11T17:22:29.421Z"
   },
   {
    "duration": 11,
    "start_time": "2025-02-11T17:22:29.446Z"
   },
   {
    "duration": 9,
    "start_time": "2025-02-11T17:22:29.459Z"
   },
   {
    "duration": 8,
    "start_time": "2025-02-11T17:22:29.470Z"
   },
   {
    "duration": 15,
    "start_time": "2025-02-11T17:22:29.479Z"
   },
   {
    "duration": 4,
    "start_time": "2025-02-11T17:22:29.495Z"
   },
   {
    "duration": 49,
    "start_time": "2025-02-11T17:22:29.501Z"
   },
   {
    "duration": 32,
    "start_time": "2025-02-11T17:22:29.551Z"
   },
   {
    "duration": 11,
    "start_time": "2025-02-11T17:22:29.585Z"
   },
   {
    "duration": 427,
    "start_time": "2025-02-11T17:22:29.598Z"
   },
   {
    "duration": 40,
    "start_time": "2025-02-11T17:22:30.027Z"
   },
   {
    "duration": 5,
    "start_time": "2025-02-11T17:22:30.068Z"
   },
   {
    "duration": 6,
    "start_time": "2025-02-11T17:22:30.074Z"
   },
   {
    "duration": 6,
    "start_time": "2025-02-11T17:22:30.081Z"
   },
   {
    "duration": 6,
    "start_time": "2025-02-11T17:22:30.089Z"
   },
   {
    "duration": 9,
    "start_time": "2025-02-11T17:22:30.096Z"
   },
   {
    "duration": 402,
    "start_time": "2025-02-11T17:22:30.107Z"
   },
   {
    "duration": 2,
    "start_time": "2025-02-11T17:22:30.512Z"
   },
   {
    "duration": 186,
    "start_time": "2025-02-11T17:22:30.516Z"
   },
   {
    "duration": 5,
    "start_time": "2025-02-11T17:22:30.704Z"
   },
   {
    "duration": 3,
    "start_time": "2025-02-11T17:22:30.711Z"
   },
   {
    "duration": 29,
    "start_time": "2025-02-11T17:22:30.715Z"
   },
   {
    "duration": 123,
    "start_time": "2025-02-11T17:22:30.745Z"
   },
   {
    "duration": 0,
    "start_time": "2025-02-11T17:22:30.870Z"
   },
   {
    "duration": 173,
    "start_time": "2025-02-11T17:22:55.081Z"
   },
   {
    "duration": 280,
    "start_time": "2025-02-11T18:14:35.490Z"
   },
   {
    "duration": 45,
    "start_time": "2025-02-11T18:15:13.428Z"
   },
   {
    "duration": 41,
    "start_time": "2025-02-11T18:15:29.478Z"
   },
   {
    "duration": 118,
    "start_time": "2025-02-11T18:16:49.855Z"
   },
   {
    "duration": 303,
    "start_time": "2025-02-11T20:26:47.840Z"
   },
   {
    "duration": 130,
    "start_time": "2025-02-11T20:26:48.146Z"
   },
   {
    "duration": 14,
    "start_time": "2025-02-11T20:26:48.278Z"
   },
   {
    "duration": 16,
    "start_time": "2025-02-11T20:26:48.294Z"
   },
   {
    "duration": 56,
    "start_time": "2025-02-11T20:26:48.312Z"
   },
   {
    "duration": 10,
    "start_time": "2025-02-11T20:26:48.370Z"
   },
   {
    "duration": 9,
    "start_time": "2025-02-11T20:26:48.381Z"
   },
   {
    "duration": 4,
    "start_time": "2025-02-11T20:26:48.391Z"
   },
   {
    "duration": 7,
    "start_time": "2025-02-11T20:26:48.397Z"
   },
   {
    "duration": 7,
    "start_time": "2025-02-11T20:26:48.406Z"
   },
   {
    "duration": 32,
    "start_time": "2025-02-11T20:26:48.414Z"
   },
   {
    "duration": 8,
    "start_time": "2025-02-11T20:26:48.447Z"
   },
   {
    "duration": 7,
    "start_time": "2025-02-11T20:26:48.456Z"
   },
   {
    "duration": 740,
    "start_time": "2025-02-11T20:26:48.467Z"
   },
   {
    "duration": 23,
    "start_time": "2025-02-11T20:26:49.208Z"
   },
   {
    "duration": 17,
    "start_time": "2025-02-11T20:26:49.233Z"
   },
   {
    "duration": 182,
    "start_time": "2025-02-11T20:26:49.252Z"
   },
   {
    "duration": 14,
    "start_time": "2025-02-11T20:26:49.436Z"
   },
   {
    "duration": 47,
    "start_time": "2025-02-11T20:26:49.452Z"
   },
   {
    "duration": 96,
    "start_time": "2025-02-11T20:26:49.501Z"
   },
   {
    "duration": 52,
    "start_time": "2025-02-11T20:26:49.598Z"
   },
   {
    "duration": 17,
    "start_time": "2025-02-11T20:26:49.652Z"
   },
   {
    "duration": 9,
    "start_time": "2025-02-11T20:26:49.671Z"
   },
   {
    "duration": 14,
    "start_time": "2025-02-11T20:26:49.682Z"
   },
   {
    "duration": 21,
    "start_time": "2025-02-11T20:26:49.698Z"
   },
   {
    "duration": 6,
    "start_time": "2025-02-11T20:26:49.744Z"
   },
   {
    "duration": 5,
    "start_time": "2025-02-11T20:26:49.751Z"
   },
   {
    "duration": 7,
    "start_time": "2025-02-11T20:26:49.758Z"
   },
   {
    "duration": 5,
    "start_time": "2025-02-11T20:26:49.766Z"
   },
   {
    "duration": 810,
    "start_time": "2025-02-11T20:26:49.773Z"
   },
   {
    "duration": 764,
    "start_time": "2025-02-11T20:26:50.585Z"
   },
   {
    "duration": 15,
    "start_time": "2025-02-11T20:26:51.351Z"
   },
   {
    "duration": 11,
    "start_time": "2025-02-11T20:26:51.368Z"
   },
   {
    "duration": 12,
    "start_time": "2025-02-11T20:26:51.380Z"
   },
   {
    "duration": 9,
    "start_time": "2025-02-11T20:26:51.394Z"
   },
   {
    "duration": 41,
    "start_time": "2025-02-11T20:26:51.404Z"
   },
   {
    "duration": 15,
    "start_time": "2025-02-11T20:26:51.446Z"
   },
   {
    "duration": 4,
    "start_time": "2025-02-11T20:26:51.463Z"
   },
   {
    "duration": 8,
    "start_time": "2025-02-11T20:26:51.468Z"
   },
   {
    "duration": 32,
    "start_time": "2025-02-11T20:26:51.478Z"
   },
   {
    "duration": 12,
    "start_time": "2025-02-11T20:26:51.546Z"
   },
   {
    "duration": 402,
    "start_time": "2025-02-11T20:26:51.559Z"
   },
   {
    "duration": 31,
    "start_time": "2025-02-11T20:26:51.963Z"
   },
   {
    "duration": 4,
    "start_time": "2025-02-11T20:26:51.996Z"
   },
   {
    "duration": 4,
    "start_time": "2025-02-11T20:26:52.002Z"
   },
   {
    "duration": 35,
    "start_time": "2025-02-11T20:26:52.008Z"
   },
   {
    "duration": 6,
    "start_time": "2025-02-11T20:26:52.045Z"
   },
   {
    "duration": 9,
    "start_time": "2025-02-11T20:26:52.053Z"
   },
   {
    "duration": 369,
    "start_time": "2025-02-11T20:26:52.063Z"
   },
   {
    "duration": 9,
    "start_time": "2025-02-11T20:26:52.434Z"
   },
   {
    "duration": 178,
    "start_time": "2025-02-11T20:26:52.445Z"
   },
   {
    "duration": 4,
    "start_time": "2025-02-11T20:26:52.625Z"
   },
   {
    "duration": 14,
    "start_time": "2025-02-11T20:26:52.631Z"
   },
   {
    "duration": 9,
    "start_time": "2025-02-11T20:26:52.646Z"
   },
   {
    "duration": 541,
    "start_time": "2025-02-11T20:26:52.656Z"
   },
   {
    "duration": 0,
    "start_time": "2025-02-11T20:26:53.199Z"
   },
   {
    "duration": 231,
    "start_time": "2025-02-11T20:27:15.843Z"
   },
   {
    "duration": 397,
    "start_time": "2025-02-11T20:28:49.200Z"
   },
   {
    "duration": 117,
    "start_time": "2025-02-11T20:29:31.869Z"
   },
   {
    "duration": 210,
    "start_time": "2025-02-11T20:29:53.622Z"
   },
   {
    "duration": 108,
    "start_time": "2025-02-11T20:30:36.871Z"
   },
   {
    "duration": 111,
    "start_time": "2025-02-11T20:31:43.909Z"
   },
   {
    "duration": 169,
    "start_time": "2025-02-11T20:35:05.095Z"
   },
   {
    "duration": 5,
    "start_time": "2025-02-11T20:35:47.967Z"
   },
   {
    "duration": 177,
    "start_time": "2025-02-11T20:35:54.999Z"
   },
   {
    "duration": 140,
    "start_time": "2025-02-11T20:37:37.373Z"
   },
   {
    "duration": 4,
    "start_time": "2025-02-11T20:41:31.296Z"
   },
   {
    "duration": 5,
    "start_time": "2025-02-11T20:41:32.530Z"
   },
   {
    "duration": 4,
    "start_time": "2025-02-11T20:41:45.832Z"
   },
   {
    "duration": 12,
    "start_time": "2025-02-11T20:45:51.594Z"
   },
   {
    "duration": 287,
    "start_time": "2025-02-11T20:46:17.012Z"
   },
   {
    "duration": 126,
    "start_time": "2025-02-11T20:46:17.301Z"
   },
   {
    "duration": 16,
    "start_time": "2025-02-11T20:46:17.429Z"
   },
   {
    "duration": 13,
    "start_time": "2025-02-11T20:46:17.447Z"
   },
   {
    "duration": 36,
    "start_time": "2025-02-11T20:46:17.462Z"
   },
   {
    "duration": 10,
    "start_time": "2025-02-11T20:46:17.500Z"
   },
   {
    "duration": 10,
    "start_time": "2025-02-11T20:46:17.512Z"
   },
   {
    "duration": 6,
    "start_time": "2025-02-11T20:46:17.544Z"
   },
   {
    "duration": 9,
    "start_time": "2025-02-11T20:46:17.552Z"
   },
   {
    "duration": 7,
    "start_time": "2025-02-11T20:46:17.566Z"
   },
   {
    "duration": 5,
    "start_time": "2025-02-11T20:46:17.575Z"
   },
   {
    "duration": 8,
    "start_time": "2025-02-11T20:46:17.582Z"
   },
   {
    "duration": 6,
    "start_time": "2025-02-11T20:46:17.592Z"
   },
   {
    "duration": 738,
    "start_time": "2025-02-11T20:46:17.600Z"
   },
   {
    "duration": 25,
    "start_time": "2025-02-11T20:46:18.339Z"
   },
   {
    "duration": 12,
    "start_time": "2025-02-11T20:46:18.366Z"
   },
   {
    "duration": 195,
    "start_time": "2025-02-11T20:46:18.381Z"
   },
   {
    "duration": 13,
    "start_time": "2025-02-11T20:46:18.578Z"
   },
   {
    "duration": 73,
    "start_time": "2025-02-11T20:46:18.592Z"
   },
   {
    "duration": 98,
    "start_time": "2025-02-11T20:46:18.667Z"
   },
   {
    "duration": 45,
    "start_time": "2025-02-11T20:46:18.768Z"
   },
   {
    "duration": 28,
    "start_time": "2025-02-11T20:46:18.815Z"
   },
   {
    "duration": 9,
    "start_time": "2025-02-11T20:46:18.845Z"
   },
   {
    "duration": 15,
    "start_time": "2025-02-11T20:46:18.856Z"
   },
   {
    "duration": 21,
    "start_time": "2025-02-11T20:46:18.872Z"
   },
   {
    "duration": 6,
    "start_time": "2025-02-11T20:46:18.894Z"
   },
   {
    "duration": 6,
    "start_time": "2025-02-11T20:46:18.902Z"
   },
   {
    "duration": 8,
    "start_time": "2025-02-11T20:46:18.942Z"
   },
   {
    "duration": 6,
    "start_time": "2025-02-11T20:46:18.951Z"
   },
   {
    "duration": 813,
    "start_time": "2025-02-11T20:46:18.958Z"
   },
   {
    "duration": 792,
    "start_time": "2025-02-11T20:46:19.773Z"
   },
   {
    "duration": 20,
    "start_time": "2025-02-11T20:46:20.567Z"
   },
   {
    "duration": 12,
    "start_time": "2025-02-11T20:46:20.590Z"
   },
   {
    "duration": 14,
    "start_time": "2025-02-11T20:46:20.604Z"
   },
   {
    "duration": 35,
    "start_time": "2025-02-11T20:46:20.619Z"
   },
   {
    "duration": 10,
    "start_time": "2025-02-11T20:46:20.658Z"
   },
   {
    "duration": 15,
    "start_time": "2025-02-11T20:46:20.670Z"
   },
   {
    "duration": 5,
    "start_time": "2025-02-11T20:46:20.687Z"
   },
   {
    "duration": 12,
    "start_time": "2025-02-11T20:46:20.694Z"
   },
   {
    "duration": 72,
    "start_time": "2025-02-11T20:46:20.708Z"
   },
   {
    "duration": 12,
    "start_time": "2025-02-11T20:46:20.782Z"
   },
   {
    "duration": 430,
    "start_time": "2025-02-11T20:46:20.796Z"
   },
   {
    "duration": 37,
    "start_time": "2025-02-11T20:46:21.228Z"
   },
   {
    "duration": 5,
    "start_time": "2025-02-11T20:46:21.267Z"
   },
   {
    "duration": 4,
    "start_time": "2025-02-11T20:46:21.273Z"
   },
   {
    "duration": 533,
    "start_time": "2025-02-11T20:46:21.278Z"
   },
   {
    "duration": 0,
    "start_time": "2025-02-11T20:46:21.813Z"
   },
   {
    "duration": 0,
    "start_time": "2025-02-11T20:46:21.814Z"
   },
   {
    "duration": 0,
    "start_time": "2025-02-11T20:46:21.816Z"
   },
   {
    "duration": 0,
    "start_time": "2025-02-11T20:46:21.817Z"
   },
   {
    "duration": 0,
    "start_time": "2025-02-11T20:46:21.818Z"
   },
   {
    "duration": 0,
    "start_time": "2025-02-11T20:46:21.819Z"
   },
   {
    "duration": 0,
    "start_time": "2025-02-11T20:46:21.820Z"
   },
   {
    "duration": 0,
    "start_time": "2025-02-11T20:46:21.821Z"
   },
   {
    "duration": 0,
    "start_time": "2025-02-11T20:46:21.843Z"
   },
   {
    "duration": 0,
    "start_time": "2025-02-11T20:46:21.845Z"
   },
   {
    "duration": 5,
    "start_time": "2025-02-11T20:46:48.016Z"
   },
   {
    "duration": 18,
    "start_time": "2025-02-11T20:46:49.092Z"
   },
   {
    "duration": 14,
    "start_time": "2025-02-11T20:46:50.248Z"
   },
   {
    "duration": 8,
    "start_time": "2025-02-11T20:47:07.632Z"
   },
   {
    "duration": 102,
    "start_time": "2025-02-11T20:48:07.106Z"
   },
   {
    "duration": 10,
    "start_time": "2025-02-11T20:48:07.664Z"
   },
   {
    "duration": 9,
    "start_time": "2025-02-11T20:48:09.093Z"
   },
   {
    "duration": 163,
    "start_time": "2025-02-11T21:22:13.626Z"
   },
   {
    "duration": 318,
    "start_time": "2025-02-11T21:23:11.119Z"
   },
   {
    "duration": 152,
    "start_time": "2025-02-11T21:23:11.439Z"
   },
   {
    "duration": 14,
    "start_time": "2025-02-11T21:23:11.593Z"
   },
   {
    "duration": 22,
    "start_time": "2025-02-11T21:23:11.609Z"
   },
   {
    "duration": 58,
    "start_time": "2025-02-11T21:23:11.634Z"
   },
   {
    "duration": 11,
    "start_time": "2025-02-11T21:23:11.694Z"
   },
   {
    "duration": 9,
    "start_time": "2025-02-11T21:23:11.707Z"
   },
   {
    "duration": 9,
    "start_time": "2025-02-11T21:23:11.718Z"
   },
   {
    "duration": 10,
    "start_time": "2025-02-11T21:23:11.729Z"
   },
   {
    "duration": 9,
    "start_time": "2025-02-11T21:23:11.740Z"
   },
   {
    "duration": 9,
    "start_time": "2025-02-11T21:23:11.751Z"
   },
   {
    "duration": 9,
    "start_time": "2025-02-11T21:23:11.762Z"
   },
   {
    "duration": 6,
    "start_time": "2025-02-11T21:23:11.773Z"
   },
   {
    "duration": 821,
    "start_time": "2025-02-11T21:23:11.784Z"
   },
   {
    "duration": 30,
    "start_time": "2025-02-11T21:23:12.607Z"
   },
   {
    "duration": 10,
    "start_time": "2025-02-11T21:23:12.639Z"
   },
   {
    "duration": 228,
    "start_time": "2025-02-11T21:23:12.651Z"
   },
   {
    "duration": 11,
    "start_time": "2025-02-11T21:23:12.881Z"
   },
   {
    "duration": 83,
    "start_time": "2025-02-11T21:23:12.894Z"
   },
   {
    "duration": 108,
    "start_time": "2025-02-11T21:23:12.979Z"
   },
   {
    "duration": 68,
    "start_time": "2025-02-11T21:23:13.089Z"
   },
   {
    "duration": 23,
    "start_time": "2025-02-11T21:23:13.159Z"
   },
   {
    "duration": 12,
    "start_time": "2025-02-11T21:23:13.184Z"
   },
   {
    "duration": 38,
    "start_time": "2025-02-11T21:23:13.197Z"
   },
   {
    "duration": 24,
    "start_time": "2025-02-11T21:23:13.238Z"
   },
   {
    "duration": 7,
    "start_time": "2025-02-11T21:23:13.264Z"
   },
   {
    "duration": 7,
    "start_time": "2025-02-11T21:23:13.273Z"
   },
   {
    "duration": 42,
    "start_time": "2025-02-11T21:23:13.282Z"
   },
   {
    "duration": 7,
    "start_time": "2025-02-11T21:23:13.326Z"
   },
   {
    "duration": 923,
    "start_time": "2025-02-11T21:23:13.335Z"
   },
   {
    "duration": 890,
    "start_time": "2025-02-11T21:23:14.260Z"
   },
   {
    "duration": 16,
    "start_time": "2025-02-11T21:23:15.152Z"
   },
   {
    "duration": 12,
    "start_time": "2025-02-11T21:23:15.169Z"
   },
   {
    "duration": 47,
    "start_time": "2025-02-11T21:23:15.183Z"
   },
   {
    "duration": 10,
    "start_time": "2025-02-11T21:23:15.232Z"
   },
   {
    "duration": 9,
    "start_time": "2025-02-11T21:23:15.244Z"
   },
   {
    "duration": 16,
    "start_time": "2025-02-11T21:23:15.254Z"
   },
   {
    "duration": 4,
    "start_time": "2025-02-11T21:23:15.272Z"
   },
   {
    "duration": 46,
    "start_time": "2025-02-11T21:23:15.278Z"
   },
   {
    "duration": 41,
    "start_time": "2025-02-11T21:23:15.327Z"
   },
   {
    "duration": 13,
    "start_time": "2025-02-11T21:23:15.373Z"
   },
   {
    "duration": 419,
    "start_time": "2025-02-11T21:23:15.388Z"
   },
   {
    "duration": 37,
    "start_time": "2025-02-11T21:23:15.809Z"
   },
   {
    "duration": 5,
    "start_time": "2025-02-11T21:23:15.848Z"
   },
   {
    "duration": 5,
    "start_time": "2025-02-11T21:23:15.855Z"
   },
   {
    "duration": 2508,
    "start_time": "2025-02-11T21:23:15.862Z"
   },
   {
    "duration": 0,
    "start_time": "2025-02-11T21:23:18.372Z"
   },
   {
    "duration": 0,
    "start_time": "2025-02-11T21:23:18.373Z"
   },
   {
    "duration": 0,
    "start_time": "2025-02-11T21:23:18.375Z"
   },
   {
    "duration": 0,
    "start_time": "2025-02-11T21:23:18.376Z"
   },
   {
    "duration": 0,
    "start_time": "2025-02-11T21:23:18.377Z"
   },
   {
    "duration": 0,
    "start_time": "2025-02-11T21:23:18.378Z"
   },
   {
    "duration": 0,
    "start_time": "2025-02-11T21:23:18.379Z"
   },
   {
    "duration": 0,
    "start_time": "2025-02-11T21:23:18.380Z"
   },
   {
    "duration": 0,
    "start_time": "2025-02-11T21:23:18.381Z"
   },
   {
    "duration": 0,
    "start_time": "2025-02-11T21:23:18.383Z"
   },
   {
    "duration": 172,
    "start_time": "2025-02-11T21:23:59.546Z"
   },
   {
    "duration": 175,
    "start_time": "2025-02-11T21:45:12.863Z"
   },
   {
    "duration": 5,
    "start_time": "2025-02-11T21:51:11.940Z"
   },
   {
    "duration": 4,
    "start_time": "2025-02-11T21:51:29.281Z"
   },
   {
    "duration": 192,
    "start_time": "2025-02-11T21:54:19.350Z"
   },
   {
    "duration": 179,
    "start_time": "2025-02-11T21:59:43.274Z"
   },
   {
    "duration": 112,
    "start_time": "2025-02-11T22:02:24.388Z"
   },
   {
    "duration": 149,
    "start_time": "2025-02-11T22:02:39.197Z"
   },
   {
    "duration": 146,
    "start_time": "2025-02-11T22:06:23.996Z"
   },
   {
    "duration": 145,
    "start_time": "2025-02-11T22:09:11.047Z"
   },
   {
    "duration": 198,
    "start_time": "2025-02-11T22:09:35.000Z"
   },
   {
    "duration": 230,
    "start_time": "2025-02-11T22:09:41.902Z"
   },
   {
    "duration": 85,
    "start_time": "2025-02-11T22:09:49.407Z"
   },
   {
    "duration": 10,
    "start_time": "2025-02-11T22:09:50.581Z"
   },
   {
    "duration": 11,
    "start_time": "2025-02-11T22:09:51.182Z"
   },
   {
    "duration": 375,
    "start_time": "2025-02-11T22:09:56.653Z"
   },
   {
    "duration": 158,
    "start_time": "2025-02-11T22:10:01.909Z"
   },
   {
    "duration": 9,
    "start_time": "2025-02-11T22:47:11.956Z"
   },
   {
    "duration": 9,
    "start_time": "2025-02-11T22:47:46.586Z"
   },
   {
    "duration": 292,
    "start_time": "2025-02-12T09:16:11.596Z"
   },
   {
    "duration": 156,
    "start_time": "2025-02-12T09:16:11.891Z"
   },
   {
    "duration": 12,
    "start_time": "2025-02-12T09:16:12.049Z"
   },
   {
    "duration": 12,
    "start_time": "2025-02-12T09:16:12.063Z"
   },
   {
    "duration": 55,
    "start_time": "2025-02-12T09:16:12.078Z"
   },
   {
    "duration": 11,
    "start_time": "2025-02-12T09:16:12.135Z"
   },
   {
    "duration": 9,
    "start_time": "2025-02-12T09:16:12.147Z"
   },
   {
    "duration": 7,
    "start_time": "2025-02-12T09:16:12.157Z"
   },
   {
    "duration": 8,
    "start_time": "2025-02-12T09:16:12.166Z"
   },
   {
    "duration": 8,
    "start_time": "2025-02-12T09:16:12.175Z"
   },
   {
    "duration": 7,
    "start_time": "2025-02-12T09:16:12.184Z"
   },
   {
    "duration": 7,
    "start_time": "2025-02-12T09:16:12.192Z"
   },
   {
    "duration": 34,
    "start_time": "2025-02-12T09:16:12.201Z"
   },
   {
    "duration": 782,
    "start_time": "2025-02-12T09:16:12.239Z"
   },
   {
    "duration": 29,
    "start_time": "2025-02-12T09:16:13.022Z"
   },
   {
    "duration": 9,
    "start_time": "2025-02-12T09:16:13.053Z"
   },
   {
    "duration": 200,
    "start_time": "2025-02-12T09:16:13.064Z"
   },
   {
    "duration": 10,
    "start_time": "2025-02-12T09:16:13.266Z"
   },
   {
    "duration": 60,
    "start_time": "2025-02-12T09:16:13.278Z"
   },
   {
    "duration": 93,
    "start_time": "2025-02-12T09:16:13.339Z"
   },
   {
    "duration": 46,
    "start_time": "2025-02-12T09:16:13.434Z"
   },
   {
    "duration": 16,
    "start_time": "2025-02-12T09:16:13.482Z"
   },
   {
    "duration": 10,
    "start_time": "2025-02-12T09:16:13.499Z"
   },
   {
    "duration": 16,
    "start_time": "2025-02-12T09:16:13.532Z"
   },
   {
    "duration": 27,
    "start_time": "2025-02-12T09:16:13.549Z"
   },
   {
    "duration": 6,
    "start_time": "2025-02-12T09:16:13.578Z"
   },
   {
    "duration": 7,
    "start_time": "2025-02-12T09:16:13.585Z"
   },
   {
    "duration": 7,
    "start_time": "2025-02-12T09:16:13.593Z"
   },
   {
    "duration": 6,
    "start_time": "2025-02-12T09:16:13.631Z"
   },
   {
    "duration": 753,
    "start_time": "2025-02-12T09:16:13.639Z"
   },
   {
    "duration": 747,
    "start_time": "2025-02-12T09:16:14.394Z"
   },
   {
    "duration": 14,
    "start_time": "2025-02-12T09:16:15.143Z"
   },
   {
    "duration": 10,
    "start_time": "2025-02-12T09:16:15.159Z"
   },
   {
    "duration": 11,
    "start_time": "2025-02-12T09:16:15.171Z"
   },
   {
    "duration": 9,
    "start_time": "2025-02-12T09:16:15.184Z"
   },
   {
    "duration": 41,
    "start_time": "2025-02-12T09:16:15.195Z"
   },
   {
    "duration": 15,
    "start_time": "2025-02-12T09:16:15.237Z"
   },
   {
    "duration": 4,
    "start_time": "2025-02-12T09:16:15.253Z"
   },
   {
    "duration": 8,
    "start_time": "2025-02-12T09:16:15.259Z"
   },
   {
    "duration": 62,
    "start_time": "2025-02-12T09:16:15.269Z"
   },
   {
    "duration": 11,
    "start_time": "2025-02-12T09:16:15.336Z"
   },
   {
    "duration": 424,
    "start_time": "2025-02-12T09:16:15.349Z"
   },
   {
    "duration": 30,
    "start_time": "2025-02-12T09:16:15.775Z"
   },
   {
    "duration": 4,
    "start_time": "2025-02-12T09:16:15.807Z"
   },
   {
    "duration": 19,
    "start_time": "2025-02-12T09:16:15.813Z"
   },
   {
    "duration": 2033,
    "start_time": "2025-02-12T09:16:15.834Z"
   },
   {
    "duration": 125,
    "start_time": "2025-02-12T09:16:17.868Z"
   },
   {
    "duration": 158,
    "start_time": "2025-02-12T09:16:17.995Z"
   },
   {
    "duration": 207,
    "start_time": "2025-02-12T09:16:18.155Z"
   },
   {
    "duration": 223,
    "start_time": "2025-02-12T09:16:18.364Z"
   },
   {
    "duration": 95,
    "start_time": "2025-02-12T09:16:18.589Z"
   },
   {
    "duration": 9,
    "start_time": "2025-02-12T09:16:18.686Z"
   },
   {
    "duration": 7,
    "start_time": "2025-02-12T09:16:18.697Z"
   },
   {
    "duration": 398,
    "start_time": "2025-02-12T09:16:18.706Z"
   },
   {
    "duration": 167,
    "start_time": "2025-02-12T09:16:19.106Z"
   },
   {
    "duration": 276,
    "start_time": "2025-02-13T07:19:20.174Z"
   },
   {
    "duration": 155,
    "start_time": "2025-02-13T07:19:20.452Z"
   },
   {
    "duration": 15,
    "start_time": "2025-02-13T07:19:20.609Z"
   },
   {
    "duration": 12,
    "start_time": "2025-02-13T07:19:20.627Z"
   },
   {
    "duration": 59,
    "start_time": "2025-02-13T07:19:20.642Z"
   },
   {
    "duration": 11,
    "start_time": "2025-02-13T07:19:20.702Z"
   },
   {
    "duration": 9,
    "start_time": "2025-02-13T07:19:20.714Z"
   },
   {
    "duration": 8,
    "start_time": "2025-02-13T07:19:20.724Z"
   },
   {
    "duration": 8,
    "start_time": "2025-02-13T07:19:20.733Z"
   },
   {
    "duration": 7,
    "start_time": "2025-02-13T07:19:20.744Z"
   },
   {
    "duration": 8,
    "start_time": "2025-02-13T07:19:20.753Z"
   },
   {
    "duration": 7,
    "start_time": "2025-02-13T07:19:20.762Z"
   },
   {
    "duration": 36,
    "start_time": "2025-02-13T07:19:20.770Z"
   },
   {
    "duration": 782,
    "start_time": "2025-02-13T07:19:20.808Z"
   },
   {
    "duration": 23,
    "start_time": "2025-02-13T07:19:21.591Z"
   },
   {
    "duration": 12,
    "start_time": "2025-02-13T07:19:21.616Z"
   },
   {
    "duration": 181,
    "start_time": "2025-02-13T07:19:21.629Z"
   },
   {
    "duration": 10,
    "start_time": "2025-02-13T07:19:21.813Z"
   },
   {
    "duration": 46,
    "start_time": "2025-02-13T07:19:21.824Z"
   },
   {
    "duration": 99,
    "start_time": "2025-02-13T07:19:21.872Z"
   },
   {
    "duration": 48,
    "start_time": "2025-02-13T07:19:21.973Z"
   },
   {
    "duration": 17,
    "start_time": "2025-02-13T07:19:22.023Z"
   },
   {
    "duration": 10,
    "start_time": "2025-02-13T07:19:22.042Z"
   },
   {
    "duration": 15,
    "start_time": "2025-02-13T07:19:22.054Z"
   },
   {
    "duration": 43,
    "start_time": "2025-02-13T07:19:22.070Z"
   },
   {
    "duration": 6,
    "start_time": "2025-02-13T07:19:22.115Z"
   },
   {
    "duration": 6,
    "start_time": "2025-02-13T07:19:22.123Z"
   },
   {
    "duration": 7,
    "start_time": "2025-02-13T07:19:22.133Z"
   },
   {
    "duration": 6,
    "start_time": "2025-02-13T07:19:22.141Z"
   },
   {
    "duration": 810,
    "start_time": "2025-02-13T07:19:22.148Z"
   },
   {
    "duration": 766,
    "start_time": "2025-02-13T07:19:22.960Z"
   },
   {
    "duration": 15,
    "start_time": "2025-02-13T07:19:23.728Z"
   },
   {
    "duration": 12,
    "start_time": "2025-02-13T07:19:23.745Z"
   },
   {
    "duration": 11,
    "start_time": "2025-02-13T07:19:23.759Z"
   },
   {
    "duration": 37,
    "start_time": "2025-02-13T07:19:23.771Z"
   },
   {
    "duration": 8,
    "start_time": "2025-02-13T07:19:23.810Z"
   },
   {
    "duration": 15,
    "start_time": "2025-02-13T07:19:23.820Z"
   },
   {
    "duration": 3,
    "start_time": "2025-02-13T07:19:23.837Z"
   },
   {
    "duration": 7,
    "start_time": "2025-02-13T07:19:23.842Z"
   },
   {
    "duration": 63,
    "start_time": "2025-02-13T07:19:23.851Z"
   },
   {
    "duration": 12,
    "start_time": "2025-02-13T07:19:23.916Z"
   },
   {
    "duration": 406,
    "start_time": "2025-02-13T07:19:23.929Z"
   },
   {
    "duration": 33,
    "start_time": "2025-02-13T07:19:24.337Z"
   },
   {
    "duration": 5,
    "start_time": "2025-02-13T07:19:24.372Z"
   },
   {
    "duration": 27,
    "start_time": "2025-02-13T07:19:24.378Z"
   },
   {
    "duration": 355,
    "start_time": "2025-02-13T07:19:24.407Z"
   },
   {
    "duration": 120,
    "start_time": "2025-02-13T07:19:24.765Z"
   },
   {
    "duration": 145,
    "start_time": "2025-02-13T07:19:24.887Z"
   },
   {
    "duration": 210,
    "start_time": "2025-02-13T07:19:25.033Z"
   },
   {
    "duration": 178,
    "start_time": "2025-02-13T07:19:25.245Z"
   },
   {
    "duration": 91,
    "start_time": "2025-02-13T07:19:25.424Z"
   },
   {
    "duration": 8,
    "start_time": "2025-02-13T07:19:25.517Z"
   },
   {
    "duration": 7,
    "start_time": "2025-02-13T07:19:25.527Z"
   },
   {
    "duration": 405,
    "start_time": "2025-02-13T07:19:25.536Z"
   },
   {
    "duration": 164,
    "start_time": "2025-02-13T07:19:25.943Z"
   }
  ],
  "kernelspec": {
   "display_name": "Python 3 (ipykernel)",
   "language": "python",
   "name": "python3"
  },
  "language_info": {
   "codemirror_mode": {
    "name": "ipython",
    "version": 3
   },
   "file_extension": ".py",
   "mimetype": "text/x-python",
   "name": "python",
   "nbconvert_exporter": "python",
   "pygments_lexer": "ipython3",
   "version": "3.9.19"
  },
  "toc": {
   "base_numbering": 1,
   "nav_menu": {},
   "number_sections": true,
   "sideBar": true,
   "skip_h1_title": true,
   "title_cell": "Table of Contents",
   "title_sidebar": "Contents",
   "toc_cell": false,
   "toc_position": {},
   "toc_section_display": true,
   "toc_window_display": true
  },
  "vscode": {
   "interpreter": {
    "hash": "01a7be9ec63e704a62cefc5fe7a4756944464ee731be31632bdf42a4cb4688cf"
   }
  }
 },
 "nbformat": 4,
 "nbformat_minor": 5
}
